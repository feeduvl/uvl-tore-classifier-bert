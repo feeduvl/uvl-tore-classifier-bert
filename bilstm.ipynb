{
 "cells": [
  {
   "cell_type": "code",
   "execution_count": 42,
   "metadata": {},
   "outputs": [
    {
     "name": "stdout",
     "output_type": "stream",
     "text": [
      "The autoreload extension is already loaded. To reload it, use:\n",
      "  %reload_ext autoreload\n"
     ]
    }
   ],
   "source": [
    "%load_ext autoreload\n",
    "%autoreload 2"
   ]
  },
  {
   "cell_type": "code",
   "execution_count": 63,
   "metadata": {},
   "outputs": [],
   "source": [
    "import logging\n",
    "from rich import print\n",
    "\n",
    "from omegaconf import OmegaConf\n",
    "from hydra import initialize, compose\n",
    "from hydra.core.config_store import ConfigStore\n",
    "\n",
    "from src.experiments.sner import sner\n",
    "\n",
    "\n",
    "logger = logging.getLogger()\n",
    "logger.setLevel(logging.INFO)"
   ]
  },
  {
   "cell_type": "code",
   "execution_count": null,
   "metadata": {},
   "outputs": [],
   "source": [
    "from tooling.config import Experiment, get_variants\n",
    "\n",
    "folds = [5]\n",
    "lower_case = [False, True]\n",
    "dataset = [\"prolific\", \"forum\", \"all\"]\n",
    "\n",
    "experiments = get_variants(\n",
    "    config_class=Experiment,\n",
    "    folds=folds,\n",
    "    lower_case=lower_case,\n",
    "    dataset=dataset,\n",
    ")\n",
    "\n",
    "print(len(experiments))"
   ]
  },
  {
   "cell_type": "code",
   "execution_count": 85,
   "metadata": {},
   "outputs": [
    {
     "data": {
      "text/html": [
       "<pre style=\"white-space:pre;overflow-x:auto;line-height:normal;font-family:Menlo,'DejaVu Sans Mono',consolas,'Courier New',monospace\"><span style=\"color: #008080; text-decoration-color: #008080; font-weight: bold\">6</span>\n",
       "</pre>\n"
      ],
      "text/plain": [
       "\u001b[1;36m6\u001b[0m\n"
      ]
     },
     "metadata": {},
     "output_type": "display_data"
    },
    {
     "data": {
      "text/html": [
       "<pre style=\"white-space:pre;overflow-x:auto;line-height:normal;font-family:Menlo,'DejaVu Sans Mono',consolas,'Courier New',monospace\"><span style=\"color: #008080; text-decoration-color: #008080; font-weight: bold\">3</span>\n",
       "</pre>\n"
      ],
      "text/plain": [
       "\u001b[1;36m3\u001b[0m\n"
      ]
     },
     "metadata": {},
     "output_type": "display_data"
    },
    {
     "data": {
      "text/plain": [
       "18"
      ]
     },
     "execution_count": 85,
     "metadata": {},
     "output_type": "execute_result"
    }
   ],
   "source": [
    "from tooling.config import get_variants, BiLSTM\n",
    "\n",
    "number_epochs = [1, 2, 3]\n",
    "\n",
    "bilstm = get_variants(config_class=BiLSTM, number_epochs=number_epochs)\n",
    "\n",
    "print(len(bilstm))"
   ]
  },
  {
   "cell_type": "code",
   "execution_count": null,
   "metadata": {},
   "outputs": [],
   "source": [
    "from tooling.config import BiLSTMConfig, get_variants\n",
    "\n",
    "bilstm_configs = get_variants(\n",
    "    config_class=BiLSTMConfig, experiment=experiments, bilstm=bilstm\n",
    ")"
   ]
  },
  {
   "cell_type": "code",
   "execution_count": 88,
   "metadata": {},
   "outputs": [
    {
     "data": {
      "text/html": [
       "<pre style=\"white-space:pre;overflow-x:auto;line-height:normal;font-family:Menlo,'DejaVu Sans Mono',consolas,'Courier New',monospace\">bilstm:\n",
       "  type: BiLSTM\n",
       "  sentence_length: null\n",
       "  batch_size: <span style=\"color: #008080; text-decoration-color: #008080; font-weight: bold\">32</span>\n",
       "  number_epochs: <span style=\"color: #008080; text-decoration-color: #008080; font-weight: bold\">1</span>\n",
       "  verbose: <span style=\"color: #008080; text-decoration-color: #008080; font-weight: bold\">1</span>\n",
       "  weighted_classes: false\n",
       "  learning_rate: <span style=\"color: #008080; text-decoration-color: #008080; font-weight: bold\">0.0001</span>\n",
       "meta:\n",
       "  mlflow_tracking_uri: <span style=\"color: #0000ff; text-decoration-color: #0000ff; text-decoration: underline\">https://bockstaller.cc</span>\n",
       "experiment:\n",
       "  name: ???\n",
       "  description: <span style=\"color: #008000; text-decoration-color: #008000\">''</span>\n",
       "  random_state: <span style=\"color: #008080; text-decoration-color: #008080; font-weight: bold\">125</span>\n",
       "  folds: <span style=\"color: #008080; text-decoration-color: #008080; font-weight: bold\">5</span>\n",
       "  iterations: null\n",
       "  average: macro\n",
       "  dataset: prolific\n",
       "  lower_case: false\n",
       "  force: true\n",
       "transformation:\n",
       "  description: No Transformation\n",
       "  type: Default\n",
       "  task: Task\n",
       "  goals: null\n",
       "  domain_data: Domain_Data\n",
       "  activity: Activity\n",
       "  stakeholder: Stakeholder\n",
       "  system_function: System_Function\n",
       "  interaction: Interaction\n",
       "  interaction_data: Interaction_Data\n",
       "  workspace: Workspace\n",
       "  software: System_Level\n",
       "  internal_action: System_Level\n",
       "  internal_data: System_Level\n",
       "\n",
       "</pre>\n"
      ],
      "text/plain": [
       "bilstm:\n",
       "  type: BiLSTM\n",
       "  sentence_length: null\n",
       "  batch_size: \u001b[1;36m32\u001b[0m\n",
       "  number_epochs: \u001b[1;36m1\u001b[0m\n",
       "  verbose: \u001b[1;36m1\u001b[0m\n",
       "  weighted_classes: false\n",
       "  learning_rate: \u001b[1;36m0.0001\u001b[0m\n",
       "meta:\n",
       "  mlflow_tracking_uri: \u001b[4;94mhttps://bockstaller.cc\u001b[0m\n",
       "experiment:\n",
       "  name: ???\n",
       "  description: \u001b[32m''\u001b[0m\n",
       "  random_state: \u001b[1;36m125\u001b[0m\n",
       "  folds: \u001b[1;36m5\u001b[0m\n",
       "  iterations: null\n",
       "  average: macro\n",
       "  dataset: prolific\n",
       "  lower_case: false\n",
       "  force: true\n",
       "transformation:\n",
       "  description: No Transformation\n",
       "  type: Default\n",
       "  task: Task\n",
       "  goals: null\n",
       "  domain_data: Domain_Data\n",
       "  activity: Activity\n",
       "  stakeholder: Stakeholder\n",
       "  system_function: System_Function\n",
       "  interaction: Interaction\n",
       "  interaction_data: Interaction_Data\n",
       "  workspace: Workspace\n",
       "  software: System_Level\n",
       "  internal_action: System_Level\n",
       "  internal_data: System_Level\n",
       "\n"
      ]
     },
     "metadata": {},
     "output_type": "display_data"
    },
    {
     "data": {
      "text/html": [
       "<pre style=\"white-space:pre;overflow-x:auto;line-height:normal;font-family:Menlo,'DejaVu Sans Mono',consolas,'Courier New',monospace\">bilstm:\n",
       "  type: BiLSTM\n",
       "  sentence_length: null\n",
       "  batch_size: <span style=\"color: #008080; text-decoration-color: #008080; font-weight: bold\">32</span>\n",
       "  number_epochs: <span style=\"color: #008080; text-decoration-color: #008080; font-weight: bold\">2</span>\n",
       "  verbose: <span style=\"color: #008080; text-decoration-color: #008080; font-weight: bold\">1</span>\n",
       "  weighted_classes: false\n",
       "  learning_rate: <span style=\"color: #008080; text-decoration-color: #008080; font-weight: bold\">0.0001</span>\n",
       "meta:\n",
       "  mlflow_tracking_uri: <span style=\"color: #0000ff; text-decoration-color: #0000ff; text-decoration: underline\">https://bockstaller.cc</span>\n",
       "experiment:\n",
       "  name: ???\n",
       "  description: <span style=\"color: #008000; text-decoration-color: #008000\">''</span>\n",
       "  random_state: <span style=\"color: #008080; text-decoration-color: #008080; font-weight: bold\">125</span>\n",
       "  folds: <span style=\"color: #008080; text-decoration-color: #008080; font-weight: bold\">5</span>\n",
       "  iterations: null\n",
       "  average: macro\n",
       "  dataset: prolific\n",
       "  lower_case: false\n",
       "  force: true\n",
       "transformation:\n",
       "  description: No Transformation\n",
       "  type: Default\n",
       "  task: Task\n",
       "  goals: null\n",
       "  domain_data: Domain_Data\n",
       "  activity: Activity\n",
       "  stakeholder: Stakeholder\n",
       "  system_function: System_Function\n",
       "  interaction: Interaction\n",
       "  interaction_data: Interaction_Data\n",
       "  workspace: Workspace\n",
       "  software: System_Level\n",
       "  internal_action: System_Level\n",
       "  internal_data: System_Level\n",
       "\n",
       "</pre>\n"
      ],
      "text/plain": [
       "bilstm:\n",
       "  type: BiLSTM\n",
       "  sentence_length: null\n",
       "  batch_size: \u001b[1;36m32\u001b[0m\n",
       "  number_epochs: \u001b[1;36m2\u001b[0m\n",
       "  verbose: \u001b[1;36m1\u001b[0m\n",
       "  weighted_classes: false\n",
       "  learning_rate: \u001b[1;36m0.0001\u001b[0m\n",
       "meta:\n",
       "  mlflow_tracking_uri: \u001b[4;94mhttps://bockstaller.cc\u001b[0m\n",
       "experiment:\n",
       "  name: ???\n",
       "  description: \u001b[32m''\u001b[0m\n",
       "  random_state: \u001b[1;36m125\u001b[0m\n",
       "  folds: \u001b[1;36m5\u001b[0m\n",
       "  iterations: null\n",
       "  average: macro\n",
       "  dataset: prolific\n",
       "  lower_case: false\n",
       "  force: true\n",
       "transformation:\n",
       "  description: No Transformation\n",
       "  type: Default\n",
       "  task: Task\n",
       "  goals: null\n",
       "  domain_data: Domain_Data\n",
       "  activity: Activity\n",
       "  stakeholder: Stakeholder\n",
       "  system_function: System_Function\n",
       "  interaction: Interaction\n",
       "  interaction_data: Interaction_Data\n",
       "  workspace: Workspace\n",
       "  software: System_Level\n",
       "  internal_action: System_Level\n",
       "  internal_data: System_Level\n",
       "\n"
      ]
     },
     "metadata": {},
     "output_type": "display_data"
    },
    {
     "data": {
      "text/html": [
       "<pre style=\"white-space:pre;overflow-x:auto;line-height:normal;font-family:Menlo,'DejaVu Sans Mono',consolas,'Courier New',monospace\">bilstm:\n",
       "  type: BiLSTM\n",
       "  sentence_length: null\n",
       "  batch_size: <span style=\"color: #008080; text-decoration-color: #008080; font-weight: bold\">32</span>\n",
       "  number_epochs: <span style=\"color: #008080; text-decoration-color: #008080; font-weight: bold\">3</span>\n",
       "  verbose: <span style=\"color: #008080; text-decoration-color: #008080; font-weight: bold\">1</span>\n",
       "  weighted_classes: false\n",
       "  learning_rate: <span style=\"color: #008080; text-decoration-color: #008080; font-weight: bold\">0.0001</span>\n",
       "meta:\n",
       "  mlflow_tracking_uri: <span style=\"color: #0000ff; text-decoration-color: #0000ff; text-decoration: underline\">https://bockstaller.cc</span>\n",
       "experiment:\n",
       "  name: ???\n",
       "  description: <span style=\"color: #008000; text-decoration-color: #008000\">''</span>\n",
       "  random_state: <span style=\"color: #008080; text-decoration-color: #008080; font-weight: bold\">125</span>\n",
       "  folds: <span style=\"color: #008080; text-decoration-color: #008080; font-weight: bold\">5</span>\n",
       "  iterations: null\n",
       "  average: macro\n",
       "  dataset: prolific\n",
       "  lower_case: false\n",
       "  force: true\n",
       "transformation:\n",
       "  description: No Transformation\n",
       "  type: Default\n",
       "  task: Task\n",
       "  goals: null\n",
       "  domain_data: Domain_Data\n",
       "  activity: Activity\n",
       "  stakeholder: Stakeholder\n",
       "  system_function: System_Function\n",
       "  interaction: Interaction\n",
       "  interaction_data: Interaction_Data\n",
       "  workspace: Workspace\n",
       "  software: System_Level\n",
       "  internal_action: System_Level\n",
       "  internal_data: System_Level\n",
       "\n",
       "</pre>\n"
      ],
      "text/plain": [
       "bilstm:\n",
       "  type: BiLSTM\n",
       "  sentence_length: null\n",
       "  batch_size: \u001b[1;36m32\u001b[0m\n",
       "  number_epochs: \u001b[1;36m3\u001b[0m\n",
       "  verbose: \u001b[1;36m1\u001b[0m\n",
       "  weighted_classes: false\n",
       "  learning_rate: \u001b[1;36m0.0001\u001b[0m\n",
       "meta:\n",
       "  mlflow_tracking_uri: \u001b[4;94mhttps://bockstaller.cc\u001b[0m\n",
       "experiment:\n",
       "  name: ???\n",
       "  description: \u001b[32m''\u001b[0m\n",
       "  random_state: \u001b[1;36m125\u001b[0m\n",
       "  folds: \u001b[1;36m5\u001b[0m\n",
       "  iterations: null\n",
       "  average: macro\n",
       "  dataset: prolific\n",
       "  lower_case: false\n",
       "  force: true\n",
       "transformation:\n",
       "  description: No Transformation\n",
       "  type: Default\n",
       "  task: Task\n",
       "  goals: null\n",
       "  domain_data: Domain_Data\n",
       "  activity: Activity\n",
       "  stakeholder: Stakeholder\n",
       "  system_function: System_Function\n",
       "  interaction: Interaction\n",
       "  interaction_data: Interaction_Data\n",
       "  workspace: Workspace\n",
       "  software: System_Level\n",
       "  internal_action: System_Level\n",
       "  internal_data: System_Level\n",
       "\n"
      ]
     },
     "metadata": {},
     "output_type": "display_data"
    },
    {
     "data": {
      "text/html": [
       "<pre style=\"white-space:pre;overflow-x:auto;line-height:normal;font-family:Menlo,'DejaVu Sans Mono',consolas,'Courier New',monospace\">bilstm:\n",
       "  type: BiLSTM\n",
       "  sentence_length: null\n",
       "  batch_size: <span style=\"color: #008080; text-decoration-color: #008080; font-weight: bold\">32</span>\n",
       "  number_epochs: <span style=\"color: #008080; text-decoration-color: #008080; font-weight: bold\">1</span>\n",
       "  verbose: <span style=\"color: #008080; text-decoration-color: #008080; font-weight: bold\">1</span>\n",
       "  weighted_classes: false\n",
       "  learning_rate: <span style=\"color: #008080; text-decoration-color: #008080; font-weight: bold\">0.0001</span>\n",
       "meta:\n",
       "  mlflow_tracking_uri: <span style=\"color: #0000ff; text-decoration-color: #0000ff; text-decoration: underline\">https://bockstaller.cc</span>\n",
       "experiment:\n",
       "  name: ???\n",
       "  description: <span style=\"color: #008000; text-decoration-color: #008000\">''</span>\n",
       "  random_state: <span style=\"color: #008080; text-decoration-color: #008080; font-weight: bold\">125</span>\n",
       "  folds: <span style=\"color: #008080; text-decoration-color: #008080; font-weight: bold\">5</span>\n",
       "  iterations: null\n",
       "  average: macro\n",
       "  dataset: forum\n",
       "  lower_case: false\n",
       "  force: true\n",
       "transformation:\n",
       "  description: No Transformation\n",
       "  type: Default\n",
       "  task: Task\n",
       "  goals: null\n",
       "  domain_data: Domain_Data\n",
       "  activity: Activity\n",
       "  stakeholder: Stakeholder\n",
       "  system_function: System_Function\n",
       "  interaction: Interaction\n",
       "  interaction_data: Interaction_Data\n",
       "  workspace: Workspace\n",
       "  software: System_Level\n",
       "  internal_action: System_Level\n",
       "  internal_data: System_Level\n",
       "\n",
       "</pre>\n"
      ],
      "text/plain": [
       "bilstm:\n",
       "  type: BiLSTM\n",
       "  sentence_length: null\n",
       "  batch_size: \u001b[1;36m32\u001b[0m\n",
       "  number_epochs: \u001b[1;36m1\u001b[0m\n",
       "  verbose: \u001b[1;36m1\u001b[0m\n",
       "  weighted_classes: false\n",
       "  learning_rate: \u001b[1;36m0.0001\u001b[0m\n",
       "meta:\n",
       "  mlflow_tracking_uri: \u001b[4;94mhttps://bockstaller.cc\u001b[0m\n",
       "experiment:\n",
       "  name: ???\n",
       "  description: \u001b[32m''\u001b[0m\n",
       "  random_state: \u001b[1;36m125\u001b[0m\n",
       "  folds: \u001b[1;36m5\u001b[0m\n",
       "  iterations: null\n",
       "  average: macro\n",
       "  dataset: forum\n",
       "  lower_case: false\n",
       "  force: true\n",
       "transformation:\n",
       "  description: No Transformation\n",
       "  type: Default\n",
       "  task: Task\n",
       "  goals: null\n",
       "  domain_data: Domain_Data\n",
       "  activity: Activity\n",
       "  stakeholder: Stakeholder\n",
       "  system_function: System_Function\n",
       "  interaction: Interaction\n",
       "  interaction_data: Interaction_Data\n",
       "  workspace: Workspace\n",
       "  software: System_Level\n",
       "  internal_action: System_Level\n",
       "  internal_data: System_Level\n",
       "\n"
      ]
     },
     "metadata": {},
     "output_type": "display_data"
    },
    {
     "data": {
      "text/html": [
       "<pre style=\"white-space:pre;overflow-x:auto;line-height:normal;font-family:Menlo,'DejaVu Sans Mono',consolas,'Courier New',monospace\">bilstm:\n",
       "  type: BiLSTM\n",
       "  sentence_length: null\n",
       "  batch_size: <span style=\"color: #008080; text-decoration-color: #008080; font-weight: bold\">32</span>\n",
       "  number_epochs: <span style=\"color: #008080; text-decoration-color: #008080; font-weight: bold\">2</span>\n",
       "  verbose: <span style=\"color: #008080; text-decoration-color: #008080; font-weight: bold\">1</span>\n",
       "  weighted_classes: false\n",
       "  learning_rate: <span style=\"color: #008080; text-decoration-color: #008080; font-weight: bold\">0.0001</span>\n",
       "meta:\n",
       "  mlflow_tracking_uri: <span style=\"color: #0000ff; text-decoration-color: #0000ff; text-decoration: underline\">https://bockstaller.cc</span>\n",
       "experiment:\n",
       "  name: ???\n",
       "  description: <span style=\"color: #008000; text-decoration-color: #008000\">''</span>\n",
       "  random_state: <span style=\"color: #008080; text-decoration-color: #008080; font-weight: bold\">125</span>\n",
       "  folds: <span style=\"color: #008080; text-decoration-color: #008080; font-weight: bold\">5</span>\n",
       "  iterations: null\n",
       "  average: macro\n",
       "  dataset: forum\n",
       "  lower_case: false\n",
       "  force: true\n",
       "transformation:\n",
       "  description: No Transformation\n",
       "  type: Default\n",
       "  task: Task\n",
       "  goals: null\n",
       "  domain_data: Domain_Data\n",
       "  activity: Activity\n",
       "  stakeholder: Stakeholder\n",
       "  system_function: System_Function\n",
       "  interaction: Interaction\n",
       "  interaction_data: Interaction_Data\n",
       "  workspace: Workspace\n",
       "  software: System_Level\n",
       "  internal_action: System_Level\n",
       "  internal_data: System_Level\n",
       "\n",
       "</pre>\n"
      ],
      "text/plain": [
       "bilstm:\n",
       "  type: BiLSTM\n",
       "  sentence_length: null\n",
       "  batch_size: \u001b[1;36m32\u001b[0m\n",
       "  number_epochs: \u001b[1;36m2\u001b[0m\n",
       "  verbose: \u001b[1;36m1\u001b[0m\n",
       "  weighted_classes: false\n",
       "  learning_rate: \u001b[1;36m0.0001\u001b[0m\n",
       "meta:\n",
       "  mlflow_tracking_uri: \u001b[4;94mhttps://bockstaller.cc\u001b[0m\n",
       "experiment:\n",
       "  name: ???\n",
       "  description: \u001b[32m''\u001b[0m\n",
       "  random_state: \u001b[1;36m125\u001b[0m\n",
       "  folds: \u001b[1;36m5\u001b[0m\n",
       "  iterations: null\n",
       "  average: macro\n",
       "  dataset: forum\n",
       "  lower_case: false\n",
       "  force: true\n",
       "transformation:\n",
       "  description: No Transformation\n",
       "  type: Default\n",
       "  task: Task\n",
       "  goals: null\n",
       "  domain_data: Domain_Data\n",
       "  activity: Activity\n",
       "  stakeholder: Stakeholder\n",
       "  system_function: System_Function\n",
       "  interaction: Interaction\n",
       "  interaction_data: Interaction_Data\n",
       "  workspace: Workspace\n",
       "  software: System_Level\n",
       "  internal_action: System_Level\n",
       "  internal_data: System_Level\n",
       "\n"
      ]
     },
     "metadata": {},
     "output_type": "display_data"
    },
    {
     "data": {
      "text/html": [
       "<pre style=\"white-space:pre;overflow-x:auto;line-height:normal;font-family:Menlo,'DejaVu Sans Mono',consolas,'Courier New',monospace\">bilstm:\n",
       "  type: BiLSTM\n",
       "  sentence_length: null\n",
       "  batch_size: <span style=\"color: #008080; text-decoration-color: #008080; font-weight: bold\">32</span>\n",
       "  number_epochs: <span style=\"color: #008080; text-decoration-color: #008080; font-weight: bold\">3</span>\n",
       "  verbose: <span style=\"color: #008080; text-decoration-color: #008080; font-weight: bold\">1</span>\n",
       "  weighted_classes: false\n",
       "  learning_rate: <span style=\"color: #008080; text-decoration-color: #008080; font-weight: bold\">0.0001</span>\n",
       "meta:\n",
       "  mlflow_tracking_uri: <span style=\"color: #0000ff; text-decoration-color: #0000ff; text-decoration: underline\">https://bockstaller.cc</span>\n",
       "experiment:\n",
       "  name: ???\n",
       "  description: <span style=\"color: #008000; text-decoration-color: #008000\">''</span>\n",
       "  random_state: <span style=\"color: #008080; text-decoration-color: #008080; font-weight: bold\">125</span>\n",
       "  folds: <span style=\"color: #008080; text-decoration-color: #008080; font-weight: bold\">5</span>\n",
       "  iterations: null\n",
       "  average: macro\n",
       "  dataset: forum\n",
       "  lower_case: false\n",
       "  force: true\n",
       "transformation:\n",
       "  description: No Transformation\n",
       "  type: Default\n",
       "  task: Task\n",
       "  goals: null\n",
       "  domain_data: Domain_Data\n",
       "  activity: Activity\n",
       "  stakeholder: Stakeholder\n",
       "  system_function: System_Function\n",
       "  interaction: Interaction\n",
       "  interaction_data: Interaction_Data\n",
       "  workspace: Workspace\n",
       "  software: System_Level\n",
       "  internal_action: System_Level\n",
       "  internal_data: System_Level\n",
       "\n",
       "</pre>\n"
      ],
      "text/plain": [
       "bilstm:\n",
       "  type: BiLSTM\n",
       "  sentence_length: null\n",
       "  batch_size: \u001b[1;36m32\u001b[0m\n",
       "  number_epochs: \u001b[1;36m3\u001b[0m\n",
       "  verbose: \u001b[1;36m1\u001b[0m\n",
       "  weighted_classes: false\n",
       "  learning_rate: \u001b[1;36m0.0001\u001b[0m\n",
       "meta:\n",
       "  mlflow_tracking_uri: \u001b[4;94mhttps://bockstaller.cc\u001b[0m\n",
       "experiment:\n",
       "  name: ???\n",
       "  description: \u001b[32m''\u001b[0m\n",
       "  random_state: \u001b[1;36m125\u001b[0m\n",
       "  folds: \u001b[1;36m5\u001b[0m\n",
       "  iterations: null\n",
       "  average: macro\n",
       "  dataset: forum\n",
       "  lower_case: false\n",
       "  force: true\n",
       "transformation:\n",
       "  description: No Transformation\n",
       "  type: Default\n",
       "  task: Task\n",
       "  goals: null\n",
       "  domain_data: Domain_Data\n",
       "  activity: Activity\n",
       "  stakeholder: Stakeholder\n",
       "  system_function: System_Function\n",
       "  interaction: Interaction\n",
       "  interaction_data: Interaction_Data\n",
       "  workspace: Workspace\n",
       "  software: System_Level\n",
       "  internal_action: System_Level\n",
       "  internal_data: System_Level\n",
       "\n"
      ]
     },
     "metadata": {},
     "output_type": "display_data"
    },
    {
     "data": {
      "text/html": [
       "<pre style=\"white-space:pre;overflow-x:auto;line-height:normal;font-family:Menlo,'DejaVu Sans Mono',consolas,'Courier New',monospace\">bilstm:\n",
       "  type: BiLSTM\n",
       "  sentence_length: null\n",
       "  batch_size: <span style=\"color: #008080; text-decoration-color: #008080; font-weight: bold\">32</span>\n",
       "  number_epochs: <span style=\"color: #008080; text-decoration-color: #008080; font-weight: bold\">1</span>\n",
       "  verbose: <span style=\"color: #008080; text-decoration-color: #008080; font-weight: bold\">1</span>\n",
       "  weighted_classes: false\n",
       "  learning_rate: <span style=\"color: #008080; text-decoration-color: #008080; font-weight: bold\">0.0001</span>\n",
       "meta:\n",
       "  mlflow_tracking_uri: <span style=\"color: #0000ff; text-decoration-color: #0000ff; text-decoration: underline\">https://bockstaller.cc</span>\n",
       "experiment:\n",
       "  name: ???\n",
       "  description: <span style=\"color: #008000; text-decoration-color: #008000\">''</span>\n",
       "  random_state: <span style=\"color: #008080; text-decoration-color: #008080; font-weight: bold\">125</span>\n",
       "  folds: <span style=\"color: #008080; text-decoration-color: #008080; font-weight: bold\">5</span>\n",
       "  iterations: null\n",
       "  average: macro\n",
       "  dataset: all\n",
       "  lower_case: false\n",
       "  force: true\n",
       "transformation:\n",
       "  description: No Transformation\n",
       "  type: Default\n",
       "  task: Task\n",
       "  goals: null\n",
       "  domain_data: Domain_Data\n",
       "  activity: Activity\n",
       "  stakeholder: Stakeholder\n",
       "  system_function: System_Function\n",
       "  interaction: Interaction\n",
       "  interaction_data: Interaction_Data\n",
       "  workspace: Workspace\n",
       "  software: System_Level\n",
       "  internal_action: System_Level\n",
       "  internal_data: System_Level\n",
       "\n",
       "</pre>\n"
      ],
      "text/plain": [
       "bilstm:\n",
       "  type: BiLSTM\n",
       "  sentence_length: null\n",
       "  batch_size: \u001b[1;36m32\u001b[0m\n",
       "  number_epochs: \u001b[1;36m1\u001b[0m\n",
       "  verbose: \u001b[1;36m1\u001b[0m\n",
       "  weighted_classes: false\n",
       "  learning_rate: \u001b[1;36m0.0001\u001b[0m\n",
       "meta:\n",
       "  mlflow_tracking_uri: \u001b[4;94mhttps://bockstaller.cc\u001b[0m\n",
       "experiment:\n",
       "  name: ???\n",
       "  description: \u001b[32m''\u001b[0m\n",
       "  random_state: \u001b[1;36m125\u001b[0m\n",
       "  folds: \u001b[1;36m5\u001b[0m\n",
       "  iterations: null\n",
       "  average: macro\n",
       "  dataset: all\n",
       "  lower_case: false\n",
       "  force: true\n",
       "transformation:\n",
       "  description: No Transformation\n",
       "  type: Default\n",
       "  task: Task\n",
       "  goals: null\n",
       "  domain_data: Domain_Data\n",
       "  activity: Activity\n",
       "  stakeholder: Stakeholder\n",
       "  system_function: System_Function\n",
       "  interaction: Interaction\n",
       "  interaction_data: Interaction_Data\n",
       "  workspace: Workspace\n",
       "  software: System_Level\n",
       "  internal_action: System_Level\n",
       "  internal_data: System_Level\n",
       "\n"
      ]
     },
     "metadata": {},
     "output_type": "display_data"
    },
    {
     "data": {
      "text/html": [
       "<pre style=\"white-space:pre;overflow-x:auto;line-height:normal;font-family:Menlo,'DejaVu Sans Mono',consolas,'Courier New',monospace\">bilstm:\n",
       "  type: BiLSTM\n",
       "  sentence_length: null\n",
       "  batch_size: <span style=\"color: #008080; text-decoration-color: #008080; font-weight: bold\">32</span>\n",
       "  number_epochs: <span style=\"color: #008080; text-decoration-color: #008080; font-weight: bold\">2</span>\n",
       "  verbose: <span style=\"color: #008080; text-decoration-color: #008080; font-weight: bold\">1</span>\n",
       "  weighted_classes: false\n",
       "  learning_rate: <span style=\"color: #008080; text-decoration-color: #008080; font-weight: bold\">0.0001</span>\n",
       "meta:\n",
       "  mlflow_tracking_uri: <span style=\"color: #0000ff; text-decoration-color: #0000ff; text-decoration: underline\">https://bockstaller.cc</span>\n",
       "experiment:\n",
       "  name: ???\n",
       "  description: <span style=\"color: #008000; text-decoration-color: #008000\">''</span>\n",
       "  random_state: <span style=\"color: #008080; text-decoration-color: #008080; font-weight: bold\">125</span>\n",
       "  folds: <span style=\"color: #008080; text-decoration-color: #008080; font-weight: bold\">5</span>\n",
       "  iterations: null\n",
       "  average: macro\n",
       "  dataset: all\n",
       "  lower_case: false\n",
       "  force: true\n",
       "transformation:\n",
       "  description: No Transformation\n",
       "  type: Default\n",
       "  task: Task\n",
       "  goals: null\n",
       "  domain_data: Domain_Data\n",
       "  activity: Activity\n",
       "  stakeholder: Stakeholder\n",
       "  system_function: System_Function\n",
       "  interaction: Interaction\n",
       "  interaction_data: Interaction_Data\n",
       "  workspace: Workspace\n",
       "  software: System_Level\n",
       "  internal_action: System_Level\n",
       "  internal_data: System_Level\n",
       "\n",
       "</pre>\n"
      ],
      "text/plain": [
       "bilstm:\n",
       "  type: BiLSTM\n",
       "  sentence_length: null\n",
       "  batch_size: \u001b[1;36m32\u001b[0m\n",
       "  number_epochs: \u001b[1;36m2\u001b[0m\n",
       "  verbose: \u001b[1;36m1\u001b[0m\n",
       "  weighted_classes: false\n",
       "  learning_rate: \u001b[1;36m0.0001\u001b[0m\n",
       "meta:\n",
       "  mlflow_tracking_uri: \u001b[4;94mhttps://bockstaller.cc\u001b[0m\n",
       "experiment:\n",
       "  name: ???\n",
       "  description: \u001b[32m''\u001b[0m\n",
       "  random_state: \u001b[1;36m125\u001b[0m\n",
       "  folds: \u001b[1;36m5\u001b[0m\n",
       "  iterations: null\n",
       "  average: macro\n",
       "  dataset: all\n",
       "  lower_case: false\n",
       "  force: true\n",
       "transformation:\n",
       "  description: No Transformation\n",
       "  type: Default\n",
       "  task: Task\n",
       "  goals: null\n",
       "  domain_data: Domain_Data\n",
       "  activity: Activity\n",
       "  stakeholder: Stakeholder\n",
       "  system_function: System_Function\n",
       "  interaction: Interaction\n",
       "  interaction_data: Interaction_Data\n",
       "  workspace: Workspace\n",
       "  software: System_Level\n",
       "  internal_action: System_Level\n",
       "  internal_data: System_Level\n",
       "\n"
      ]
     },
     "metadata": {},
     "output_type": "display_data"
    },
    {
     "data": {
      "text/html": [
       "<pre style=\"white-space:pre;overflow-x:auto;line-height:normal;font-family:Menlo,'DejaVu Sans Mono',consolas,'Courier New',monospace\">bilstm:\n",
       "  type: BiLSTM\n",
       "  sentence_length: null\n",
       "  batch_size: <span style=\"color: #008080; text-decoration-color: #008080; font-weight: bold\">32</span>\n",
       "  number_epochs: <span style=\"color: #008080; text-decoration-color: #008080; font-weight: bold\">3</span>\n",
       "  verbose: <span style=\"color: #008080; text-decoration-color: #008080; font-weight: bold\">1</span>\n",
       "  weighted_classes: false\n",
       "  learning_rate: <span style=\"color: #008080; text-decoration-color: #008080; font-weight: bold\">0.0001</span>\n",
       "meta:\n",
       "  mlflow_tracking_uri: <span style=\"color: #0000ff; text-decoration-color: #0000ff; text-decoration: underline\">https://bockstaller.cc</span>\n",
       "experiment:\n",
       "  name: ???\n",
       "  description: <span style=\"color: #008000; text-decoration-color: #008000\">''</span>\n",
       "  random_state: <span style=\"color: #008080; text-decoration-color: #008080; font-weight: bold\">125</span>\n",
       "  folds: <span style=\"color: #008080; text-decoration-color: #008080; font-weight: bold\">5</span>\n",
       "  iterations: null\n",
       "  average: macro\n",
       "  dataset: all\n",
       "  lower_case: false\n",
       "  force: true\n",
       "transformation:\n",
       "  description: No Transformation\n",
       "  type: Default\n",
       "  task: Task\n",
       "  goals: null\n",
       "  domain_data: Domain_Data\n",
       "  activity: Activity\n",
       "  stakeholder: Stakeholder\n",
       "  system_function: System_Function\n",
       "  interaction: Interaction\n",
       "  interaction_data: Interaction_Data\n",
       "  workspace: Workspace\n",
       "  software: System_Level\n",
       "  internal_action: System_Level\n",
       "  internal_data: System_Level\n",
       "\n",
       "</pre>\n"
      ],
      "text/plain": [
       "bilstm:\n",
       "  type: BiLSTM\n",
       "  sentence_length: null\n",
       "  batch_size: \u001b[1;36m32\u001b[0m\n",
       "  number_epochs: \u001b[1;36m3\u001b[0m\n",
       "  verbose: \u001b[1;36m1\u001b[0m\n",
       "  weighted_classes: false\n",
       "  learning_rate: \u001b[1;36m0.0001\u001b[0m\n",
       "meta:\n",
       "  mlflow_tracking_uri: \u001b[4;94mhttps://bockstaller.cc\u001b[0m\n",
       "experiment:\n",
       "  name: ???\n",
       "  description: \u001b[32m''\u001b[0m\n",
       "  random_state: \u001b[1;36m125\u001b[0m\n",
       "  folds: \u001b[1;36m5\u001b[0m\n",
       "  iterations: null\n",
       "  average: macro\n",
       "  dataset: all\n",
       "  lower_case: false\n",
       "  force: true\n",
       "transformation:\n",
       "  description: No Transformation\n",
       "  type: Default\n",
       "  task: Task\n",
       "  goals: null\n",
       "  domain_data: Domain_Data\n",
       "  activity: Activity\n",
       "  stakeholder: Stakeholder\n",
       "  system_function: System_Function\n",
       "  interaction: Interaction\n",
       "  interaction_data: Interaction_Data\n",
       "  workspace: Workspace\n",
       "  software: System_Level\n",
       "  internal_action: System_Level\n",
       "  internal_data: System_Level\n",
       "\n"
      ]
     },
     "metadata": {},
     "output_type": "display_data"
    },
    {
     "data": {
      "text/html": [
       "<pre style=\"white-space:pre;overflow-x:auto;line-height:normal;font-family:Menlo,'DejaVu Sans Mono',consolas,'Courier New',monospace\">bilstm:\n",
       "  type: BiLSTM\n",
       "  sentence_length: null\n",
       "  batch_size: <span style=\"color: #008080; text-decoration-color: #008080; font-weight: bold\">32</span>\n",
       "  number_epochs: <span style=\"color: #008080; text-decoration-color: #008080; font-weight: bold\">1</span>\n",
       "  verbose: <span style=\"color: #008080; text-decoration-color: #008080; font-weight: bold\">1</span>\n",
       "  weighted_classes: false\n",
       "  learning_rate: <span style=\"color: #008080; text-decoration-color: #008080; font-weight: bold\">0.0001</span>\n",
       "meta:\n",
       "  mlflow_tracking_uri: <span style=\"color: #0000ff; text-decoration-color: #0000ff; text-decoration: underline\">https://bockstaller.cc</span>\n",
       "experiment:\n",
       "  name: ???\n",
       "  description: <span style=\"color: #008000; text-decoration-color: #008000\">''</span>\n",
       "  random_state: <span style=\"color: #008080; text-decoration-color: #008080; font-weight: bold\">125</span>\n",
       "  folds: <span style=\"color: #008080; text-decoration-color: #008080; font-weight: bold\">5</span>\n",
       "  iterations: null\n",
       "  average: macro\n",
       "  dataset: prolific\n",
       "  lower_case: true\n",
       "  force: true\n",
       "transformation:\n",
       "  description: No Transformation\n",
       "  type: Default\n",
       "  task: Task\n",
       "  goals: null\n",
       "  domain_data: Domain_Data\n",
       "  activity: Activity\n",
       "  stakeholder: Stakeholder\n",
       "  system_function: System_Function\n",
       "  interaction: Interaction\n",
       "  interaction_data: Interaction_Data\n",
       "  workspace: Workspace\n",
       "  software: System_Level\n",
       "  internal_action: System_Level\n",
       "  internal_data: System_Level\n",
       "\n",
       "</pre>\n"
      ],
      "text/plain": [
       "bilstm:\n",
       "  type: BiLSTM\n",
       "  sentence_length: null\n",
       "  batch_size: \u001b[1;36m32\u001b[0m\n",
       "  number_epochs: \u001b[1;36m1\u001b[0m\n",
       "  verbose: \u001b[1;36m1\u001b[0m\n",
       "  weighted_classes: false\n",
       "  learning_rate: \u001b[1;36m0.0001\u001b[0m\n",
       "meta:\n",
       "  mlflow_tracking_uri: \u001b[4;94mhttps://bockstaller.cc\u001b[0m\n",
       "experiment:\n",
       "  name: ???\n",
       "  description: \u001b[32m''\u001b[0m\n",
       "  random_state: \u001b[1;36m125\u001b[0m\n",
       "  folds: \u001b[1;36m5\u001b[0m\n",
       "  iterations: null\n",
       "  average: macro\n",
       "  dataset: prolific\n",
       "  lower_case: true\n",
       "  force: true\n",
       "transformation:\n",
       "  description: No Transformation\n",
       "  type: Default\n",
       "  task: Task\n",
       "  goals: null\n",
       "  domain_data: Domain_Data\n",
       "  activity: Activity\n",
       "  stakeholder: Stakeholder\n",
       "  system_function: System_Function\n",
       "  interaction: Interaction\n",
       "  interaction_data: Interaction_Data\n",
       "  workspace: Workspace\n",
       "  software: System_Level\n",
       "  internal_action: System_Level\n",
       "  internal_data: System_Level\n",
       "\n"
      ]
     },
     "metadata": {},
     "output_type": "display_data"
    },
    {
     "data": {
      "text/html": [
       "<pre style=\"white-space:pre;overflow-x:auto;line-height:normal;font-family:Menlo,'DejaVu Sans Mono',consolas,'Courier New',monospace\">bilstm:\n",
       "  type: BiLSTM\n",
       "  sentence_length: null\n",
       "  batch_size: <span style=\"color: #008080; text-decoration-color: #008080; font-weight: bold\">32</span>\n",
       "  number_epochs: <span style=\"color: #008080; text-decoration-color: #008080; font-weight: bold\">2</span>\n",
       "  verbose: <span style=\"color: #008080; text-decoration-color: #008080; font-weight: bold\">1</span>\n",
       "  weighted_classes: false\n",
       "  learning_rate: <span style=\"color: #008080; text-decoration-color: #008080; font-weight: bold\">0.0001</span>\n",
       "meta:\n",
       "  mlflow_tracking_uri: <span style=\"color: #0000ff; text-decoration-color: #0000ff; text-decoration: underline\">https://bockstaller.cc</span>\n",
       "experiment:\n",
       "  name: ???\n",
       "  description: <span style=\"color: #008000; text-decoration-color: #008000\">''</span>\n",
       "  random_state: <span style=\"color: #008080; text-decoration-color: #008080; font-weight: bold\">125</span>\n",
       "  folds: <span style=\"color: #008080; text-decoration-color: #008080; font-weight: bold\">5</span>\n",
       "  iterations: null\n",
       "  average: macro\n",
       "  dataset: prolific\n",
       "  lower_case: true\n",
       "  force: true\n",
       "transformation:\n",
       "  description: No Transformation\n",
       "  type: Default\n",
       "  task: Task\n",
       "  goals: null\n",
       "  domain_data: Domain_Data\n",
       "  activity: Activity\n",
       "  stakeholder: Stakeholder\n",
       "  system_function: System_Function\n",
       "  interaction: Interaction\n",
       "  interaction_data: Interaction_Data\n",
       "  workspace: Workspace\n",
       "  software: System_Level\n",
       "  internal_action: System_Level\n",
       "  internal_data: System_Level\n",
       "\n",
       "</pre>\n"
      ],
      "text/plain": [
       "bilstm:\n",
       "  type: BiLSTM\n",
       "  sentence_length: null\n",
       "  batch_size: \u001b[1;36m32\u001b[0m\n",
       "  number_epochs: \u001b[1;36m2\u001b[0m\n",
       "  verbose: \u001b[1;36m1\u001b[0m\n",
       "  weighted_classes: false\n",
       "  learning_rate: \u001b[1;36m0.0001\u001b[0m\n",
       "meta:\n",
       "  mlflow_tracking_uri: \u001b[4;94mhttps://bockstaller.cc\u001b[0m\n",
       "experiment:\n",
       "  name: ???\n",
       "  description: \u001b[32m''\u001b[0m\n",
       "  random_state: \u001b[1;36m125\u001b[0m\n",
       "  folds: \u001b[1;36m5\u001b[0m\n",
       "  iterations: null\n",
       "  average: macro\n",
       "  dataset: prolific\n",
       "  lower_case: true\n",
       "  force: true\n",
       "transformation:\n",
       "  description: No Transformation\n",
       "  type: Default\n",
       "  task: Task\n",
       "  goals: null\n",
       "  domain_data: Domain_Data\n",
       "  activity: Activity\n",
       "  stakeholder: Stakeholder\n",
       "  system_function: System_Function\n",
       "  interaction: Interaction\n",
       "  interaction_data: Interaction_Data\n",
       "  workspace: Workspace\n",
       "  software: System_Level\n",
       "  internal_action: System_Level\n",
       "  internal_data: System_Level\n",
       "\n"
      ]
     },
     "metadata": {},
     "output_type": "display_data"
    },
    {
     "data": {
      "text/html": [
       "<pre style=\"white-space:pre;overflow-x:auto;line-height:normal;font-family:Menlo,'DejaVu Sans Mono',consolas,'Courier New',monospace\">bilstm:\n",
       "  type: BiLSTM\n",
       "  sentence_length: null\n",
       "  batch_size: <span style=\"color: #008080; text-decoration-color: #008080; font-weight: bold\">32</span>\n",
       "  number_epochs: <span style=\"color: #008080; text-decoration-color: #008080; font-weight: bold\">3</span>\n",
       "  verbose: <span style=\"color: #008080; text-decoration-color: #008080; font-weight: bold\">1</span>\n",
       "  weighted_classes: false\n",
       "  learning_rate: <span style=\"color: #008080; text-decoration-color: #008080; font-weight: bold\">0.0001</span>\n",
       "meta:\n",
       "  mlflow_tracking_uri: <span style=\"color: #0000ff; text-decoration-color: #0000ff; text-decoration: underline\">https://bockstaller.cc</span>\n",
       "experiment:\n",
       "  name: ???\n",
       "  description: <span style=\"color: #008000; text-decoration-color: #008000\">''</span>\n",
       "  random_state: <span style=\"color: #008080; text-decoration-color: #008080; font-weight: bold\">125</span>\n",
       "  folds: <span style=\"color: #008080; text-decoration-color: #008080; font-weight: bold\">5</span>\n",
       "  iterations: null\n",
       "  average: macro\n",
       "  dataset: prolific\n",
       "  lower_case: true\n",
       "  force: true\n",
       "transformation:\n",
       "  description: No Transformation\n",
       "  type: Default\n",
       "  task: Task\n",
       "  goals: null\n",
       "  domain_data: Domain_Data\n",
       "  activity: Activity\n",
       "  stakeholder: Stakeholder\n",
       "  system_function: System_Function\n",
       "  interaction: Interaction\n",
       "  interaction_data: Interaction_Data\n",
       "  workspace: Workspace\n",
       "  software: System_Level\n",
       "  internal_action: System_Level\n",
       "  internal_data: System_Level\n",
       "\n",
       "</pre>\n"
      ],
      "text/plain": [
       "bilstm:\n",
       "  type: BiLSTM\n",
       "  sentence_length: null\n",
       "  batch_size: \u001b[1;36m32\u001b[0m\n",
       "  number_epochs: \u001b[1;36m3\u001b[0m\n",
       "  verbose: \u001b[1;36m1\u001b[0m\n",
       "  weighted_classes: false\n",
       "  learning_rate: \u001b[1;36m0.0001\u001b[0m\n",
       "meta:\n",
       "  mlflow_tracking_uri: \u001b[4;94mhttps://bockstaller.cc\u001b[0m\n",
       "experiment:\n",
       "  name: ???\n",
       "  description: \u001b[32m''\u001b[0m\n",
       "  random_state: \u001b[1;36m125\u001b[0m\n",
       "  folds: \u001b[1;36m5\u001b[0m\n",
       "  iterations: null\n",
       "  average: macro\n",
       "  dataset: prolific\n",
       "  lower_case: true\n",
       "  force: true\n",
       "transformation:\n",
       "  description: No Transformation\n",
       "  type: Default\n",
       "  task: Task\n",
       "  goals: null\n",
       "  domain_data: Domain_Data\n",
       "  activity: Activity\n",
       "  stakeholder: Stakeholder\n",
       "  system_function: System_Function\n",
       "  interaction: Interaction\n",
       "  interaction_data: Interaction_Data\n",
       "  workspace: Workspace\n",
       "  software: System_Level\n",
       "  internal_action: System_Level\n",
       "  internal_data: System_Level\n",
       "\n"
      ]
     },
     "metadata": {},
     "output_type": "display_data"
    },
    {
     "data": {
      "text/html": [
       "<pre style=\"white-space:pre;overflow-x:auto;line-height:normal;font-family:Menlo,'DejaVu Sans Mono',consolas,'Courier New',monospace\">bilstm:\n",
       "  type: BiLSTM\n",
       "  sentence_length: null\n",
       "  batch_size: <span style=\"color: #008080; text-decoration-color: #008080; font-weight: bold\">32</span>\n",
       "  number_epochs: <span style=\"color: #008080; text-decoration-color: #008080; font-weight: bold\">1</span>\n",
       "  verbose: <span style=\"color: #008080; text-decoration-color: #008080; font-weight: bold\">1</span>\n",
       "  weighted_classes: false\n",
       "  learning_rate: <span style=\"color: #008080; text-decoration-color: #008080; font-weight: bold\">0.0001</span>\n",
       "meta:\n",
       "  mlflow_tracking_uri: <span style=\"color: #0000ff; text-decoration-color: #0000ff; text-decoration: underline\">https://bockstaller.cc</span>\n",
       "experiment:\n",
       "  name: ???\n",
       "  description: <span style=\"color: #008000; text-decoration-color: #008000\">''</span>\n",
       "  random_state: <span style=\"color: #008080; text-decoration-color: #008080; font-weight: bold\">125</span>\n",
       "  folds: <span style=\"color: #008080; text-decoration-color: #008080; font-weight: bold\">5</span>\n",
       "  iterations: null\n",
       "  average: macro\n",
       "  dataset: forum\n",
       "  lower_case: true\n",
       "  force: true\n",
       "transformation:\n",
       "  description: No Transformation\n",
       "  type: Default\n",
       "  task: Task\n",
       "  goals: null\n",
       "  domain_data: Domain_Data\n",
       "  activity: Activity\n",
       "  stakeholder: Stakeholder\n",
       "  system_function: System_Function\n",
       "  interaction: Interaction\n",
       "  interaction_data: Interaction_Data\n",
       "  workspace: Workspace\n",
       "  software: System_Level\n",
       "  internal_action: System_Level\n",
       "  internal_data: System_Level\n",
       "\n",
       "</pre>\n"
      ],
      "text/plain": [
       "bilstm:\n",
       "  type: BiLSTM\n",
       "  sentence_length: null\n",
       "  batch_size: \u001b[1;36m32\u001b[0m\n",
       "  number_epochs: \u001b[1;36m1\u001b[0m\n",
       "  verbose: \u001b[1;36m1\u001b[0m\n",
       "  weighted_classes: false\n",
       "  learning_rate: \u001b[1;36m0.0001\u001b[0m\n",
       "meta:\n",
       "  mlflow_tracking_uri: \u001b[4;94mhttps://bockstaller.cc\u001b[0m\n",
       "experiment:\n",
       "  name: ???\n",
       "  description: \u001b[32m''\u001b[0m\n",
       "  random_state: \u001b[1;36m125\u001b[0m\n",
       "  folds: \u001b[1;36m5\u001b[0m\n",
       "  iterations: null\n",
       "  average: macro\n",
       "  dataset: forum\n",
       "  lower_case: true\n",
       "  force: true\n",
       "transformation:\n",
       "  description: No Transformation\n",
       "  type: Default\n",
       "  task: Task\n",
       "  goals: null\n",
       "  domain_data: Domain_Data\n",
       "  activity: Activity\n",
       "  stakeholder: Stakeholder\n",
       "  system_function: System_Function\n",
       "  interaction: Interaction\n",
       "  interaction_data: Interaction_Data\n",
       "  workspace: Workspace\n",
       "  software: System_Level\n",
       "  internal_action: System_Level\n",
       "  internal_data: System_Level\n",
       "\n"
      ]
     },
     "metadata": {},
     "output_type": "display_data"
    },
    {
     "data": {
      "text/html": [
       "<pre style=\"white-space:pre;overflow-x:auto;line-height:normal;font-family:Menlo,'DejaVu Sans Mono',consolas,'Courier New',monospace\">bilstm:\n",
       "  type: BiLSTM\n",
       "  sentence_length: null\n",
       "  batch_size: <span style=\"color: #008080; text-decoration-color: #008080; font-weight: bold\">32</span>\n",
       "  number_epochs: <span style=\"color: #008080; text-decoration-color: #008080; font-weight: bold\">2</span>\n",
       "  verbose: <span style=\"color: #008080; text-decoration-color: #008080; font-weight: bold\">1</span>\n",
       "  weighted_classes: false\n",
       "  learning_rate: <span style=\"color: #008080; text-decoration-color: #008080; font-weight: bold\">0.0001</span>\n",
       "meta:\n",
       "  mlflow_tracking_uri: <span style=\"color: #0000ff; text-decoration-color: #0000ff; text-decoration: underline\">https://bockstaller.cc</span>\n",
       "experiment:\n",
       "  name: ???\n",
       "  description: <span style=\"color: #008000; text-decoration-color: #008000\">''</span>\n",
       "  random_state: <span style=\"color: #008080; text-decoration-color: #008080; font-weight: bold\">125</span>\n",
       "  folds: <span style=\"color: #008080; text-decoration-color: #008080; font-weight: bold\">5</span>\n",
       "  iterations: null\n",
       "  average: macro\n",
       "  dataset: forum\n",
       "  lower_case: true\n",
       "  force: true\n",
       "transformation:\n",
       "  description: No Transformation\n",
       "  type: Default\n",
       "  task: Task\n",
       "  goals: null\n",
       "  domain_data: Domain_Data\n",
       "  activity: Activity\n",
       "  stakeholder: Stakeholder\n",
       "  system_function: System_Function\n",
       "  interaction: Interaction\n",
       "  interaction_data: Interaction_Data\n",
       "  workspace: Workspace\n",
       "  software: System_Level\n",
       "  internal_action: System_Level\n",
       "  internal_data: System_Level\n",
       "\n",
       "</pre>\n"
      ],
      "text/plain": [
       "bilstm:\n",
       "  type: BiLSTM\n",
       "  sentence_length: null\n",
       "  batch_size: \u001b[1;36m32\u001b[0m\n",
       "  number_epochs: \u001b[1;36m2\u001b[0m\n",
       "  verbose: \u001b[1;36m1\u001b[0m\n",
       "  weighted_classes: false\n",
       "  learning_rate: \u001b[1;36m0.0001\u001b[0m\n",
       "meta:\n",
       "  mlflow_tracking_uri: \u001b[4;94mhttps://bockstaller.cc\u001b[0m\n",
       "experiment:\n",
       "  name: ???\n",
       "  description: \u001b[32m''\u001b[0m\n",
       "  random_state: \u001b[1;36m125\u001b[0m\n",
       "  folds: \u001b[1;36m5\u001b[0m\n",
       "  iterations: null\n",
       "  average: macro\n",
       "  dataset: forum\n",
       "  lower_case: true\n",
       "  force: true\n",
       "transformation:\n",
       "  description: No Transformation\n",
       "  type: Default\n",
       "  task: Task\n",
       "  goals: null\n",
       "  domain_data: Domain_Data\n",
       "  activity: Activity\n",
       "  stakeholder: Stakeholder\n",
       "  system_function: System_Function\n",
       "  interaction: Interaction\n",
       "  interaction_data: Interaction_Data\n",
       "  workspace: Workspace\n",
       "  software: System_Level\n",
       "  internal_action: System_Level\n",
       "  internal_data: System_Level\n",
       "\n"
      ]
     },
     "metadata": {},
     "output_type": "display_data"
    },
    {
     "data": {
      "text/html": [
       "<pre style=\"white-space:pre;overflow-x:auto;line-height:normal;font-family:Menlo,'DejaVu Sans Mono',consolas,'Courier New',monospace\">bilstm:\n",
       "  type: BiLSTM\n",
       "  sentence_length: null\n",
       "  batch_size: <span style=\"color: #008080; text-decoration-color: #008080; font-weight: bold\">32</span>\n",
       "  number_epochs: <span style=\"color: #008080; text-decoration-color: #008080; font-weight: bold\">3</span>\n",
       "  verbose: <span style=\"color: #008080; text-decoration-color: #008080; font-weight: bold\">1</span>\n",
       "  weighted_classes: false\n",
       "  learning_rate: <span style=\"color: #008080; text-decoration-color: #008080; font-weight: bold\">0.0001</span>\n",
       "meta:\n",
       "  mlflow_tracking_uri: <span style=\"color: #0000ff; text-decoration-color: #0000ff; text-decoration: underline\">https://bockstaller.cc</span>\n",
       "experiment:\n",
       "  name: ???\n",
       "  description: <span style=\"color: #008000; text-decoration-color: #008000\">''</span>\n",
       "  random_state: <span style=\"color: #008080; text-decoration-color: #008080; font-weight: bold\">125</span>\n",
       "  folds: <span style=\"color: #008080; text-decoration-color: #008080; font-weight: bold\">5</span>\n",
       "  iterations: null\n",
       "  average: macro\n",
       "  dataset: forum\n",
       "  lower_case: true\n",
       "  force: true\n",
       "transformation:\n",
       "  description: No Transformation\n",
       "  type: Default\n",
       "  task: Task\n",
       "  goals: null\n",
       "  domain_data: Domain_Data\n",
       "  activity: Activity\n",
       "  stakeholder: Stakeholder\n",
       "  system_function: System_Function\n",
       "  interaction: Interaction\n",
       "  interaction_data: Interaction_Data\n",
       "  workspace: Workspace\n",
       "  software: System_Level\n",
       "  internal_action: System_Level\n",
       "  internal_data: System_Level\n",
       "\n",
       "</pre>\n"
      ],
      "text/plain": [
       "bilstm:\n",
       "  type: BiLSTM\n",
       "  sentence_length: null\n",
       "  batch_size: \u001b[1;36m32\u001b[0m\n",
       "  number_epochs: \u001b[1;36m3\u001b[0m\n",
       "  verbose: \u001b[1;36m1\u001b[0m\n",
       "  weighted_classes: false\n",
       "  learning_rate: \u001b[1;36m0.0001\u001b[0m\n",
       "meta:\n",
       "  mlflow_tracking_uri: \u001b[4;94mhttps://bockstaller.cc\u001b[0m\n",
       "experiment:\n",
       "  name: ???\n",
       "  description: \u001b[32m''\u001b[0m\n",
       "  random_state: \u001b[1;36m125\u001b[0m\n",
       "  folds: \u001b[1;36m5\u001b[0m\n",
       "  iterations: null\n",
       "  average: macro\n",
       "  dataset: forum\n",
       "  lower_case: true\n",
       "  force: true\n",
       "transformation:\n",
       "  description: No Transformation\n",
       "  type: Default\n",
       "  task: Task\n",
       "  goals: null\n",
       "  domain_data: Domain_Data\n",
       "  activity: Activity\n",
       "  stakeholder: Stakeholder\n",
       "  system_function: System_Function\n",
       "  interaction: Interaction\n",
       "  interaction_data: Interaction_Data\n",
       "  workspace: Workspace\n",
       "  software: System_Level\n",
       "  internal_action: System_Level\n",
       "  internal_data: System_Level\n",
       "\n"
      ]
     },
     "metadata": {},
     "output_type": "display_data"
    },
    {
     "data": {
      "text/html": [
       "<pre style=\"white-space:pre;overflow-x:auto;line-height:normal;font-family:Menlo,'DejaVu Sans Mono',consolas,'Courier New',monospace\">bilstm:\n",
       "  type: BiLSTM\n",
       "  sentence_length: null\n",
       "  batch_size: <span style=\"color: #008080; text-decoration-color: #008080; font-weight: bold\">32</span>\n",
       "  number_epochs: <span style=\"color: #008080; text-decoration-color: #008080; font-weight: bold\">1</span>\n",
       "  verbose: <span style=\"color: #008080; text-decoration-color: #008080; font-weight: bold\">1</span>\n",
       "  weighted_classes: false\n",
       "  learning_rate: <span style=\"color: #008080; text-decoration-color: #008080; font-weight: bold\">0.0001</span>\n",
       "meta:\n",
       "  mlflow_tracking_uri: <span style=\"color: #0000ff; text-decoration-color: #0000ff; text-decoration: underline\">https://bockstaller.cc</span>\n",
       "experiment:\n",
       "  name: ???\n",
       "  description: <span style=\"color: #008000; text-decoration-color: #008000\">''</span>\n",
       "  random_state: <span style=\"color: #008080; text-decoration-color: #008080; font-weight: bold\">125</span>\n",
       "  folds: <span style=\"color: #008080; text-decoration-color: #008080; font-weight: bold\">5</span>\n",
       "  iterations: null\n",
       "  average: macro\n",
       "  dataset: all\n",
       "  lower_case: true\n",
       "  force: true\n",
       "transformation:\n",
       "  description: No Transformation\n",
       "  type: Default\n",
       "  task: Task\n",
       "  goals: null\n",
       "  domain_data: Domain_Data\n",
       "  activity: Activity\n",
       "  stakeholder: Stakeholder\n",
       "  system_function: System_Function\n",
       "  interaction: Interaction\n",
       "  interaction_data: Interaction_Data\n",
       "  workspace: Workspace\n",
       "  software: System_Level\n",
       "  internal_action: System_Level\n",
       "  internal_data: System_Level\n",
       "\n",
       "</pre>\n"
      ],
      "text/plain": [
       "bilstm:\n",
       "  type: BiLSTM\n",
       "  sentence_length: null\n",
       "  batch_size: \u001b[1;36m32\u001b[0m\n",
       "  number_epochs: \u001b[1;36m1\u001b[0m\n",
       "  verbose: \u001b[1;36m1\u001b[0m\n",
       "  weighted_classes: false\n",
       "  learning_rate: \u001b[1;36m0.0001\u001b[0m\n",
       "meta:\n",
       "  mlflow_tracking_uri: \u001b[4;94mhttps://bockstaller.cc\u001b[0m\n",
       "experiment:\n",
       "  name: ???\n",
       "  description: \u001b[32m''\u001b[0m\n",
       "  random_state: \u001b[1;36m125\u001b[0m\n",
       "  folds: \u001b[1;36m5\u001b[0m\n",
       "  iterations: null\n",
       "  average: macro\n",
       "  dataset: all\n",
       "  lower_case: true\n",
       "  force: true\n",
       "transformation:\n",
       "  description: No Transformation\n",
       "  type: Default\n",
       "  task: Task\n",
       "  goals: null\n",
       "  domain_data: Domain_Data\n",
       "  activity: Activity\n",
       "  stakeholder: Stakeholder\n",
       "  system_function: System_Function\n",
       "  interaction: Interaction\n",
       "  interaction_data: Interaction_Data\n",
       "  workspace: Workspace\n",
       "  software: System_Level\n",
       "  internal_action: System_Level\n",
       "  internal_data: System_Level\n",
       "\n"
      ]
     },
     "metadata": {},
     "output_type": "display_data"
    },
    {
     "data": {
      "text/html": [
       "<pre style=\"white-space:pre;overflow-x:auto;line-height:normal;font-family:Menlo,'DejaVu Sans Mono',consolas,'Courier New',monospace\">bilstm:\n",
       "  type: BiLSTM\n",
       "  sentence_length: null\n",
       "  batch_size: <span style=\"color: #008080; text-decoration-color: #008080; font-weight: bold\">32</span>\n",
       "  number_epochs: <span style=\"color: #008080; text-decoration-color: #008080; font-weight: bold\">2</span>\n",
       "  verbose: <span style=\"color: #008080; text-decoration-color: #008080; font-weight: bold\">1</span>\n",
       "  weighted_classes: false\n",
       "  learning_rate: <span style=\"color: #008080; text-decoration-color: #008080; font-weight: bold\">0.0001</span>\n",
       "meta:\n",
       "  mlflow_tracking_uri: <span style=\"color: #0000ff; text-decoration-color: #0000ff; text-decoration: underline\">https://bockstaller.cc</span>\n",
       "experiment:\n",
       "  name: ???\n",
       "  description: <span style=\"color: #008000; text-decoration-color: #008000\">''</span>\n",
       "  random_state: <span style=\"color: #008080; text-decoration-color: #008080; font-weight: bold\">125</span>\n",
       "  folds: <span style=\"color: #008080; text-decoration-color: #008080; font-weight: bold\">5</span>\n",
       "  iterations: null\n",
       "  average: macro\n",
       "  dataset: all\n",
       "  lower_case: true\n",
       "  force: true\n",
       "transformation:\n",
       "  description: No Transformation\n",
       "  type: Default\n",
       "  task: Task\n",
       "  goals: null\n",
       "  domain_data: Domain_Data\n",
       "  activity: Activity\n",
       "  stakeholder: Stakeholder\n",
       "  system_function: System_Function\n",
       "  interaction: Interaction\n",
       "  interaction_data: Interaction_Data\n",
       "  workspace: Workspace\n",
       "  software: System_Level\n",
       "  internal_action: System_Level\n",
       "  internal_data: System_Level\n",
       "\n",
       "</pre>\n"
      ],
      "text/plain": [
       "bilstm:\n",
       "  type: BiLSTM\n",
       "  sentence_length: null\n",
       "  batch_size: \u001b[1;36m32\u001b[0m\n",
       "  number_epochs: \u001b[1;36m2\u001b[0m\n",
       "  verbose: \u001b[1;36m1\u001b[0m\n",
       "  weighted_classes: false\n",
       "  learning_rate: \u001b[1;36m0.0001\u001b[0m\n",
       "meta:\n",
       "  mlflow_tracking_uri: \u001b[4;94mhttps://bockstaller.cc\u001b[0m\n",
       "experiment:\n",
       "  name: ???\n",
       "  description: \u001b[32m''\u001b[0m\n",
       "  random_state: \u001b[1;36m125\u001b[0m\n",
       "  folds: \u001b[1;36m5\u001b[0m\n",
       "  iterations: null\n",
       "  average: macro\n",
       "  dataset: all\n",
       "  lower_case: true\n",
       "  force: true\n",
       "transformation:\n",
       "  description: No Transformation\n",
       "  type: Default\n",
       "  task: Task\n",
       "  goals: null\n",
       "  domain_data: Domain_Data\n",
       "  activity: Activity\n",
       "  stakeholder: Stakeholder\n",
       "  system_function: System_Function\n",
       "  interaction: Interaction\n",
       "  interaction_data: Interaction_Data\n",
       "  workspace: Workspace\n",
       "  software: System_Level\n",
       "  internal_action: System_Level\n",
       "  internal_data: System_Level\n",
       "\n"
      ]
     },
     "metadata": {},
     "output_type": "display_data"
    },
    {
     "data": {
      "text/html": [
       "<pre style=\"white-space:pre;overflow-x:auto;line-height:normal;font-family:Menlo,'DejaVu Sans Mono',consolas,'Courier New',monospace\">bilstm:\n",
       "  type: BiLSTM\n",
       "  sentence_length: null\n",
       "  batch_size: <span style=\"color: #008080; text-decoration-color: #008080; font-weight: bold\">32</span>\n",
       "  number_epochs: <span style=\"color: #008080; text-decoration-color: #008080; font-weight: bold\">3</span>\n",
       "  verbose: <span style=\"color: #008080; text-decoration-color: #008080; font-weight: bold\">1</span>\n",
       "  weighted_classes: false\n",
       "  learning_rate: <span style=\"color: #008080; text-decoration-color: #008080; font-weight: bold\">0.0001</span>\n",
       "meta:\n",
       "  mlflow_tracking_uri: <span style=\"color: #0000ff; text-decoration-color: #0000ff; text-decoration: underline\">https://bockstaller.cc</span>\n",
       "experiment:\n",
       "  name: ???\n",
       "  description: <span style=\"color: #008000; text-decoration-color: #008000\">''</span>\n",
       "  random_state: <span style=\"color: #008080; text-decoration-color: #008080; font-weight: bold\">125</span>\n",
       "  folds: <span style=\"color: #008080; text-decoration-color: #008080; font-weight: bold\">5</span>\n",
       "  iterations: null\n",
       "  average: macro\n",
       "  dataset: all\n",
       "  lower_case: true\n",
       "  force: true\n",
       "transformation:\n",
       "  description: No Transformation\n",
       "  type: Default\n",
       "  task: Task\n",
       "  goals: null\n",
       "  domain_data: Domain_Data\n",
       "  activity: Activity\n",
       "  stakeholder: Stakeholder\n",
       "  system_function: System_Function\n",
       "  interaction: Interaction\n",
       "  interaction_data: Interaction_Data\n",
       "  workspace: Workspace\n",
       "  software: System_Level\n",
       "  internal_action: System_Level\n",
       "  internal_data: System_Level\n",
       "\n",
       "</pre>\n"
      ],
      "text/plain": [
       "bilstm:\n",
       "  type: BiLSTM\n",
       "  sentence_length: null\n",
       "  batch_size: \u001b[1;36m32\u001b[0m\n",
       "  number_epochs: \u001b[1;36m3\u001b[0m\n",
       "  verbose: \u001b[1;36m1\u001b[0m\n",
       "  weighted_classes: false\n",
       "  learning_rate: \u001b[1;36m0.0001\u001b[0m\n",
       "meta:\n",
       "  mlflow_tracking_uri: \u001b[4;94mhttps://bockstaller.cc\u001b[0m\n",
       "experiment:\n",
       "  name: ???\n",
       "  description: \u001b[32m''\u001b[0m\n",
       "  random_state: \u001b[1;36m125\u001b[0m\n",
       "  folds: \u001b[1;36m5\u001b[0m\n",
       "  iterations: null\n",
       "  average: macro\n",
       "  dataset: all\n",
       "  lower_case: true\n",
       "  force: true\n",
       "transformation:\n",
       "  description: No Transformation\n",
       "  type: Default\n",
       "  task: Task\n",
       "  goals: null\n",
       "  domain_data: Domain_Data\n",
       "  activity: Activity\n",
       "  stakeholder: Stakeholder\n",
       "  system_function: System_Function\n",
       "  interaction: Interaction\n",
       "  interaction_data: Interaction_Data\n",
       "  workspace: Workspace\n",
       "  software: System_Level\n",
       "  internal_action: System_Level\n",
       "  internal_data: System_Level\n",
       "\n"
      ]
     },
     "metadata": {},
     "output_type": "display_data"
    }
   ],
   "source": [
    "from tooling.observability import get_run_id\n",
    "from typing import List\n",
    "\n",
    "\n",
    "cfg: BiLSTMConfig\n",
    "\n",
    "runs: List[str] = []\n",
    "\n",
    "\n",
    "cs = ConfigStore.instance()\n",
    "cs.store(name=\"base_config\", node=BiLSTMConfig)\n",
    "\n",
    "with initialize(version_base=None, config_path=\"src/experiments/conf\"):\n",
    "    for bilstm_config in bilstm_configs:\n",
    "        cfg = compose(config_name=\"single_bilstm\")\n",
    "        cfg.experiment = bilstm_config.experiment\n",
    "        cfg.bilstm = bilstm_config.bilstm\n",
    "\n",
    "        bilstm(cfg)\n",
    "\n",
    "        run_id = get_run_id(cfg)"
   ]
  },
  {
   "cell_type": "code",
   "execution_count": 53,
   "metadata": {},
   "outputs": [
    {
     "data": {
      "text/html": [
       "<pre style=\"white-space:pre;overflow-x:auto;line-height:normal;font-family:Menlo,'DejaVu Sans Mono',consolas,'Courier New',monospace\">sner:\n",
       "  type: SNER\n",
       "meta:\n",
       "  mlflow_tracking_uri: <span style=\"color: #0000ff; text-decoration-color: #0000ff; text-decoration: underline\">https://bockstaller.cc</span>\n",
       "experiment:\n",
       "  name: SNER Test\n",
       "  description: <span style=\"color: #008000; text-decoration-color: #008000\">''</span>\n",
       "  random_state: <span style=\"color: #008080; text-decoration-color: #008080; font-weight: bold\">125</span>\n",
       "  folds: <span style=\"color: #008080; text-decoration-color: #008080; font-weight: bold\">5</span>\n",
       "  iterations: <span style=\"color: #008080; text-decoration-color: #008080; font-weight: bold\">1</span>\n",
       "  average: macro\n",
       "  dataset: prolific\n",
       "  lower_case: true\n",
       "  force: true\n",
       "transformation:\n",
       "  description: Levels\n",
       "  type: Reduced\n",
       "  task: Domain_Level\n",
       "  goals: Domain_Level\n",
       "  domain_data: Domain_Level\n",
       "  activity: Domain_Level\n",
       "  stakeholder: Domain_Level\n",
       "  system_function: Interaction_Level\n",
       "  interaction: Interaction_Level\n",
       "  interaction_data: Interaction_Level\n",
       "  workspace: Interaction_Level\n",
       "  software: System_Level\n",
       "  internal_action: System_Level\n",
       "  internal_data: System_Level\n",
       "\n",
       "</pre>\n"
      ],
      "text/plain": [
       "sner:\n",
       "  type: SNER\n",
       "meta:\n",
       "  mlflow_tracking_uri: \u001b[4;94mhttps://bockstaller.cc\u001b[0m\n",
       "experiment:\n",
       "  name: SNER Test\n",
       "  description: \u001b[32m''\u001b[0m\n",
       "  random_state: \u001b[1;36m125\u001b[0m\n",
       "  folds: \u001b[1;36m5\u001b[0m\n",
       "  iterations: \u001b[1;36m1\u001b[0m\n",
       "  average: macro\n",
       "  dataset: prolific\n",
       "  lower_case: true\n",
       "  force: true\n",
       "transformation:\n",
       "  description: Levels\n",
       "  type: Reduced\n",
       "  task: Domain_Level\n",
       "  goals: Domain_Level\n",
       "  domain_data: Domain_Level\n",
       "  activity: Domain_Level\n",
       "  stakeholder: Domain_Level\n",
       "  system_function: Interaction_Level\n",
       "  interaction: Interaction_Level\n",
       "  interaction_data: Interaction_Level\n",
       "  workspace: Interaction_Level\n",
       "  software: System_Level\n",
       "  internal_action: System_Level\n",
       "  internal_data: System_Level\n",
       "\n"
      ]
     },
     "metadata": {},
     "output_type": "display_data"
    },
    {
     "data": {
      "text/html": [
       "<pre style=\"white-space:pre;overflow-x:auto;line-height:normal;font-family:Menlo,'DejaVu Sans Mono',consolas,'Courier New',monospace\"><span style=\"color: #7fbfbf; text-decoration-color: #7fbfbf\">[15:02:16] </span><span style=\"color: #000080; text-decoration-color: #000080\">INFO    </span>                                                                             <a href=\"file:///Users/bockstaller/code/uvl-tore-classifier-bert/src/tooling/observability.py\" target=\"_blank\"><span style=\"color: #7f7f7f; text-decoration-color: #7f7f7f\">observability.py</span></a><span style=\"color: #7f7f7f; text-decoration-color: #7f7f7f\">:</span><a href=\"file:///Users/bockstaller/code/uvl-tore-classifier-bert/src/tooling/observability.py#82\" target=\"_blank\"><span style=\"color: #7f7f7f; text-decoration-color: #7f7f7f\">82</span></a>\n",
       "<span style=\"color: #7fbfbf; text-decoration-color: #7fbfbf\">           </span>         sner:                                                                       <span style=\"color: #7f7f7f; text-decoration-color: #7f7f7f\">                   </span>\n",
       "<span style=\"color: #7fbfbf; text-decoration-color: #7fbfbf\">           </span>           type: SNER                                                                <span style=\"color: #7f7f7f; text-decoration-color: #7f7f7f\">                   </span>\n",
       "<span style=\"color: #7fbfbf; text-decoration-color: #7fbfbf\">           </span>         meta:                                                                       <span style=\"color: #7f7f7f; text-decoration-color: #7f7f7f\">                   </span>\n",
       "<span style=\"color: #7fbfbf; text-decoration-color: #7fbfbf\">           </span>           mlflow_tracking_uri: <span style=\"color: #0000ff; text-decoration-color: #0000ff; text-decoration: underline\">https://bockstaller.cc</span>                               <span style=\"color: #7f7f7f; text-decoration-color: #7f7f7f\">                   </span>\n",
       "<span style=\"color: #7fbfbf; text-decoration-color: #7fbfbf\">           </span>         experiment:                                                                 <span style=\"color: #7f7f7f; text-decoration-color: #7f7f7f\">                   </span>\n",
       "<span style=\"color: #7fbfbf; text-decoration-color: #7fbfbf\">           </span>           name: SNER Test                                                           <span style=\"color: #7f7f7f; text-decoration-color: #7f7f7f\">                   </span>\n",
       "<span style=\"color: #7fbfbf; text-decoration-color: #7fbfbf\">           </span>           description: <span style=\"color: #008000; text-decoration-color: #008000\">''</span>                                                           <span style=\"color: #7f7f7f; text-decoration-color: #7f7f7f\">                   </span>\n",
       "<span style=\"color: #7fbfbf; text-decoration-color: #7fbfbf\">           </span>           random_state: <span style=\"color: #008080; text-decoration-color: #008080; font-weight: bold\">125</span>                                                         <span style=\"color: #7f7f7f; text-decoration-color: #7f7f7f\">                   </span>\n",
       "<span style=\"color: #7fbfbf; text-decoration-color: #7fbfbf\">           </span>           folds: <span style=\"color: #008080; text-decoration-color: #008080; font-weight: bold\">5</span>                                                                  <span style=\"color: #7f7f7f; text-decoration-color: #7f7f7f\">                   </span>\n",
       "<span style=\"color: #7fbfbf; text-decoration-color: #7fbfbf\">           </span>           iterations: <span style=\"color: #008080; text-decoration-color: #008080; font-weight: bold\">1</span>                                                             <span style=\"color: #7f7f7f; text-decoration-color: #7f7f7f\">                   </span>\n",
       "<span style=\"color: #7fbfbf; text-decoration-color: #7fbfbf\">           </span>           average: macro                                                            <span style=\"color: #7f7f7f; text-decoration-color: #7f7f7f\">                   </span>\n",
       "<span style=\"color: #7fbfbf; text-decoration-color: #7fbfbf\">           </span>           dataset: prolific                                                         <span style=\"color: #7f7f7f; text-decoration-color: #7f7f7f\">                   </span>\n",
       "<span style=\"color: #7fbfbf; text-decoration-color: #7fbfbf\">           </span>           lower_case: true                                                          <span style=\"color: #7f7f7f; text-decoration-color: #7f7f7f\">                   </span>\n",
       "<span style=\"color: #7fbfbf; text-decoration-color: #7fbfbf\">           </span>           force: true                                                               <span style=\"color: #7f7f7f; text-decoration-color: #7f7f7f\">                   </span>\n",
       "<span style=\"color: #7fbfbf; text-decoration-color: #7fbfbf\">           </span>         transformation:                                                             <span style=\"color: #7f7f7f; text-decoration-color: #7f7f7f\">                   </span>\n",
       "<span style=\"color: #7fbfbf; text-decoration-color: #7fbfbf\">           </span>           description: Levels                                                       <span style=\"color: #7f7f7f; text-decoration-color: #7f7f7f\">                   </span>\n",
       "<span style=\"color: #7fbfbf; text-decoration-color: #7fbfbf\">           </span>           type: Reduced                                                             <span style=\"color: #7f7f7f; text-decoration-color: #7f7f7f\">                   </span>\n",
       "<span style=\"color: #7fbfbf; text-decoration-color: #7fbfbf\">           </span>           task: Domain_Level                                                        <span style=\"color: #7f7f7f; text-decoration-color: #7f7f7f\">                   </span>\n",
       "<span style=\"color: #7fbfbf; text-decoration-color: #7fbfbf\">           </span>           goals: Domain_Level                                                       <span style=\"color: #7f7f7f; text-decoration-color: #7f7f7f\">                   </span>\n",
       "<span style=\"color: #7fbfbf; text-decoration-color: #7fbfbf\">           </span>           domain_data: Domain_Level                                                 <span style=\"color: #7f7f7f; text-decoration-color: #7f7f7f\">                   </span>\n",
       "<span style=\"color: #7fbfbf; text-decoration-color: #7fbfbf\">           </span>           activity: Domain_Level                                                    <span style=\"color: #7f7f7f; text-decoration-color: #7f7f7f\">                   </span>\n",
       "<span style=\"color: #7fbfbf; text-decoration-color: #7fbfbf\">           </span>           stakeholder: Domain_Level                                                 <span style=\"color: #7f7f7f; text-decoration-color: #7f7f7f\">                   </span>\n",
       "<span style=\"color: #7fbfbf; text-decoration-color: #7fbfbf\">           </span>           system_function: Interaction_Level                                        <span style=\"color: #7f7f7f; text-decoration-color: #7f7f7f\">                   </span>\n",
       "<span style=\"color: #7fbfbf; text-decoration-color: #7fbfbf\">           </span>           interaction: Interaction_Level                                            <span style=\"color: #7f7f7f; text-decoration-color: #7f7f7f\">                   </span>\n",
       "<span style=\"color: #7fbfbf; text-decoration-color: #7fbfbf\">           </span>           interaction_data: Interaction_Level                                       <span style=\"color: #7f7f7f; text-decoration-color: #7f7f7f\">                   </span>\n",
       "<span style=\"color: #7fbfbf; text-decoration-color: #7fbfbf\">           </span>           workspace: Interaction_Level                                              <span style=\"color: #7f7f7f; text-decoration-color: #7f7f7f\">                   </span>\n",
       "<span style=\"color: #7fbfbf; text-decoration-color: #7fbfbf\">           </span>           software: System_Level                                                    <span style=\"color: #7f7f7f; text-decoration-color: #7f7f7f\">                   </span>\n",
       "<span style=\"color: #7fbfbf; text-decoration-color: #7fbfbf\">           </span>           internal_action: System_Level                                             <span style=\"color: #7f7f7f; text-decoration-color: #7f7f7f\">                   </span>\n",
       "<span style=\"color: #7fbfbf; text-decoration-color: #7fbfbf\">           </span>           internal_data: System_Level                                               <span style=\"color: #7f7f7f; text-decoration-color: #7f7f7f\">                   </span>\n",
       "<span style=\"color: #7fbfbf; text-decoration-color: #7fbfbf\">           </span>                                                                                     <span style=\"color: #7f7f7f; text-decoration-color: #7f7f7f\">                   </span>\n",
       "</pre>\n"
      ],
      "text/plain": [
       "\u001b[2;36m[15:02:16]\u001b[0m\u001b[2;36m \u001b[0m\u001b[34mINFO    \u001b[0m                                                                             \u001b]8;id=809318;file:///Users/bockstaller/code/uvl-tore-classifier-bert/src/tooling/observability.py\u001b\\\u001b[2mobservability.py\u001b[0m\u001b]8;;\u001b\\\u001b[2m:\u001b[0m\u001b]8;id=555475;file:///Users/bockstaller/code/uvl-tore-classifier-bert/src/tooling/observability.py#82\u001b\\\u001b[2m82\u001b[0m\u001b]8;;\u001b\\\n",
       "\u001b[2;36m           \u001b[0m         sner:                                                                       \u001b[2m                   \u001b[0m\n",
       "\u001b[2;36m           \u001b[0m           type: SNER                                                                \u001b[2m                   \u001b[0m\n",
       "\u001b[2;36m           \u001b[0m         meta:                                                                       \u001b[2m                   \u001b[0m\n",
       "\u001b[2;36m           \u001b[0m           mlflow_tracking_uri: \u001b[4;94mhttps://bockstaller.cc\u001b[0m                               \u001b[2m                   \u001b[0m\n",
       "\u001b[2;36m           \u001b[0m         experiment:                                                                 \u001b[2m                   \u001b[0m\n",
       "\u001b[2;36m           \u001b[0m           name: SNER Test                                                           \u001b[2m                   \u001b[0m\n",
       "\u001b[2;36m           \u001b[0m           description: \u001b[32m''\u001b[0m                                                           \u001b[2m                   \u001b[0m\n",
       "\u001b[2;36m           \u001b[0m           random_state: \u001b[1;36m125\u001b[0m                                                         \u001b[2m                   \u001b[0m\n",
       "\u001b[2;36m           \u001b[0m           folds: \u001b[1;36m5\u001b[0m                                                                  \u001b[2m                   \u001b[0m\n",
       "\u001b[2;36m           \u001b[0m           iterations: \u001b[1;36m1\u001b[0m                                                             \u001b[2m                   \u001b[0m\n",
       "\u001b[2;36m           \u001b[0m           average: macro                                                            \u001b[2m                   \u001b[0m\n",
       "\u001b[2;36m           \u001b[0m           dataset: prolific                                                         \u001b[2m                   \u001b[0m\n",
       "\u001b[2;36m           \u001b[0m           lower_case: true                                                          \u001b[2m                   \u001b[0m\n",
       "\u001b[2;36m           \u001b[0m           force: true                                                               \u001b[2m                   \u001b[0m\n",
       "\u001b[2;36m           \u001b[0m         transformation:                                                             \u001b[2m                   \u001b[0m\n",
       "\u001b[2;36m           \u001b[0m           description: Levels                                                       \u001b[2m                   \u001b[0m\n",
       "\u001b[2;36m           \u001b[0m           type: Reduced                                                             \u001b[2m                   \u001b[0m\n",
       "\u001b[2;36m           \u001b[0m           task: Domain_Level                                                        \u001b[2m                   \u001b[0m\n",
       "\u001b[2;36m           \u001b[0m           goals: Domain_Level                                                       \u001b[2m                   \u001b[0m\n",
       "\u001b[2;36m           \u001b[0m           domain_data: Domain_Level                                                 \u001b[2m                   \u001b[0m\n",
       "\u001b[2;36m           \u001b[0m           activity: Domain_Level                                                    \u001b[2m                   \u001b[0m\n",
       "\u001b[2;36m           \u001b[0m           stakeholder: Domain_Level                                                 \u001b[2m                   \u001b[0m\n",
       "\u001b[2;36m           \u001b[0m           system_function: Interaction_Level                                        \u001b[2m                   \u001b[0m\n",
       "\u001b[2;36m           \u001b[0m           interaction: Interaction_Level                                            \u001b[2m                   \u001b[0m\n",
       "\u001b[2;36m           \u001b[0m           interaction_data: Interaction_Level                                       \u001b[2m                   \u001b[0m\n",
       "\u001b[2;36m           \u001b[0m           workspace: Interaction_Level                                              \u001b[2m                   \u001b[0m\n",
       "\u001b[2;36m           \u001b[0m           software: System_Level                                                    \u001b[2m                   \u001b[0m\n",
       "\u001b[2;36m           \u001b[0m           internal_action: System_Level                                             \u001b[2m                   \u001b[0m\n",
       "\u001b[2;36m           \u001b[0m           internal_data: System_Level                                               \u001b[2m                   \u001b[0m\n",
       "\u001b[2;36m           \u001b[0m                                                                                     \u001b[2m                   \u001b[0m\n"
      ]
     },
     "metadata": {},
     "output_type": "display_data"
    },
    {
     "data": {
      "text/html": [
       "<pre style=\"white-space:pre;overflow-x:auto;line-height:normal;font-family:Menlo,'DejaVu Sans Mono',consolas,'Courier New',monospace\"><span style=\"color: #7fbfbf; text-decoration-color: #7fbfbf\">           </span><span style=\"color: #800000; text-decoration-color: #800000\">WARNING </span> Experiment was already run, continuing                                      <a href=\"file:///Users/bockstaller/code/uvl-tore-classifier-bert/src/tooling/observability.py\" target=\"_blank\"><span style=\"color: #7f7f7f; text-decoration-color: #7f7f7f\">observability.py</span></a><span style=\"color: #7f7f7f; text-decoration-color: #7f7f7f\">:</span><a href=\"file:///Users/bockstaller/code/uvl-tore-classifier-bert/src/tooling/observability.py#87\" target=\"_blank\"><span style=\"color: #7f7f7f; text-decoration-color: #7f7f7f\">87</span></a>\n",
       "</pre>\n"
      ],
      "text/plain": [
       "\u001b[2;36m          \u001b[0m\u001b[2;36m \u001b[0m\u001b[31mWARNING \u001b[0m Experiment was already run, continuing                                      \u001b]8;id=262449;file:///Users/bockstaller/code/uvl-tore-classifier-bert/src/tooling/observability.py\u001b\\\u001b[2mobservability.py\u001b[0m\u001b]8;;\u001b\\\u001b[2m:\u001b[0m\u001b]8;id=870078;file:///Users/bockstaller/code/uvl-tore-classifier-bert/src/tooling/observability.py#87\u001b\\\u001b[2m87\u001b[0m\u001b]8;;\u001b\\\n"
      ]
     },
     "metadata": {},
     "output_type": "display_data"
    },
    {
     "data": {
      "text/html": [
       "<pre style=\"white-space:pre;overflow-x:auto;line-height:normal;font-family:Menlo,'DejaVu Sans Mono',consolas,'Courier New',monospace\"><span style=\"color: #7fbfbf; text-decoration-color: #7fbfbf\">           </span><span style=\"color: #000080; text-decoration-color: #000080\">INFO    </span> Entering mlflow context                                                              <a href=\"file:///Users/bockstaller/code/uvl-tore-classifier-bert/src/experiments/sner.py\" target=\"_blank\"><span style=\"color: #7f7f7f; text-decoration-color: #7f7f7f\">sner.py</span></a><span style=\"color: #7f7f7f; text-decoration-color: #7f7f7f\">:</span><a href=\"file:///Users/bockstaller/code/uvl-tore-classifier-bert/src/experiments/sner.py#31\" target=\"_blank\"><span style=\"color: #7f7f7f; text-decoration-color: #7f7f7f\">31</span></a>\n",
       "</pre>\n"
      ],
      "text/plain": [
       "\u001b[2;36m          \u001b[0m\u001b[2;36m \u001b[0m\u001b[34mINFO    \u001b[0m Entering mlflow context                                                              \u001b]8;id=876412;file:///Users/bockstaller/code/uvl-tore-classifier-bert/src/experiments/sner.py\u001b\\\u001b[2msner.py\u001b[0m\u001b]8;;\u001b\\\u001b[2m:\u001b[0m\u001b]8;id=760438;file:///Users/bockstaller/code/uvl-tore-classifier-bert/src/experiments/sner.py#31\u001b\\\u001b[2m31\u001b[0m\u001b]8;;\u001b\\\n"
      ]
     },
     "metadata": {},
     "output_type": "display_data"
    },
    {
     "data": {
      "text/html": [
       "<pre style=\"white-space:pre;overflow-x:auto;line-height:normal;font-family:Menlo,'DejaVu Sans Mono',consolas,'Courier New',monospace\"><span style=\"color: #7fbfbf; text-decoration-color: #7fbfbf\">           </span><span style=\"color: #000080; text-decoration-color: #000080\">INFO    </span> Importing dataset: prolific from                                                 <a href=\"file:///Users/bockstaller/code/uvl-tore-classifier-bert/src/tooling/loading.py\" target=\"_blank\"><span style=\"color: #7f7f7f; text-decoration-color: #7f7f7f\">loading.py</span></a><span style=\"color: #7f7f7f; text-decoration-color: #7f7f7f\">:</span><a href=\"file:///Users/bockstaller/code/uvl-tore-classifier-bert/src/tooling/loading.py#183\" target=\"_blank\"><span style=\"color: #7f7f7f; text-decoration-color: #7f7f7f\">183</span></a>\n",
       "<span style=\"color: #7fbfbf; text-decoration-color: #7fbfbf\">           </span>         <span style=\"color: #800080; text-decoration-color: #800080\">/Users/bockstaller/code/uvl-tore-classifier-bert/src/data/datasets/prolific/</span><span style=\"color: #ff00ff; text-decoration-color: #ff00ff\">TORE</span> <span style=\"color: #7f7f7f; text-decoration-color: #7f7f7f\">              </span>\n",
       "<span style=\"color: #7fbfbf; text-decoration-color: #7fbfbf\">           </span>         <span style=\"color: #ff00ff; text-decoration-color: #ff00ff\">_Coded_Answers_1_33.json</span>                                                         <span style=\"color: #7f7f7f; text-decoration-color: #7f7f7f\">              </span>\n",
       "</pre>\n"
      ],
      "text/plain": [
       "\u001b[2;36m          \u001b[0m\u001b[2;36m \u001b[0m\u001b[34mINFO    \u001b[0m Importing dataset: prolific from                                                 \u001b]8;id=148736;file:///Users/bockstaller/code/uvl-tore-classifier-bert/src/tooling/loading.py\u001b\\\u001b[2mloading.py\u001b[0m\u001b]8;;\u001b\\\u001b[2m:\u001b[0m\u001b]8;id=924235;file:///Users/bockstaller/code/uvl-tore-classifier-bert/src/tooling/loading.py#183\u001b\\\u001b[2m183\u001b[0m\u001b]8;;\u001b\\\n",
       "\u001b[2;36m           \u001b[0m         \u001b[35m/Users/bockstaller/code/uvl-tore-classifier-bert/src/data/datasets/prolific/\u001b[0m\u001b[95mTORE\u001b[0m \u001b[2m              \u001b[0m\n",
       "\u001b[2;36m           \u001b[0m         \u001b[95m_Coded_Answers_1_33.json\u001b[0m                                                         \u001b[2m              \u001b[0m\n"
      ]
     },
     "metadata": {},
     "output_type": "display_data"
    },
    {
     "data": {
      "text/html": [
       "<pre style=\"white-space:pre;overflow-x:auto;line-height:normal;font-family:Menlo,'DejaVu Sans Mono',consolas,'Courier New',monospace\"><span style=\"color: #7fbfbf; text-decoration-color: #7fbfbf\">[15:02:17] </span><span style=\"color: #000080; text-decoration-color: #000080\">INFO    </span> Importing dataset: prolific from                                                 <a href=\"file:///Users/bockstaller/code/uvl-tore-classifier-bert/src/tooling/loading.py\" target=\"_blank\"><span style=\"color: #7f7f7f; text-decoration-color: #7f7f7f\">loading.py</span></a><span style=\"color: #7f7f7f; text-decoration-color: #7f7f7f\">:</span><a href=\"file:///Users/bockstaller/code/uvl-tore-classifier-bert/src/tooling/loading.py#183\" target=\"_blank\"><span style=\"color: #7f7f7f; text-decoration-color: #7f7f7f\">183</span></a>\n",
       "<span style=\"color: #7fbfbf; text-decoration-color: #7fbfbf\">           </span>         <span style=\"color: #800080; text-decoration-color: #800080\">/Users/bockstaller/code/uvl-tore-classifier-bert/src/data/datasets/prolific/</span><span style=\"color: #ff00ff; text-decoration-color: #ff00ff\">TORE</span> <span style=\"color: #7f7f7f; text-decoration-color: #7f7f7f\">              </span>\n",
       "<span style=\"color: #7fbfbf; text-decoration-color: #7fbfbf\">           </span>         <span style=\"color: #ff00ff; text-decoration-color: #ff00ff\">_Coded_Answers_34_66.json</span>                                                        <span style=\"color: #7f7f7f; text-decoration-color: #7f7f7f\">              </span>\n",
       "</pre>\n"
      ],
      "text/plain": [
       "\u001b[2;36m[15:02:17]\u001b[0m\u001b[2;36m \u001b[0m\u001b[34mINFO    \u001b[0m Importing dataset: prolific from                                                 \u001b]8;id=691879;file:///Users/bockstaller/code/uvl-tore-classifier-bert/src/tooling/loading.py\u001b\\\u001b[2mloading.py\u001b[0m\u001b]8;;\u001b\\\u001b[2m:\u001b[0m\u001b]8;id=112499;file:///Users/bockstaller/code/uvl-tore-classifier-bert/src/tooling/loading.py#183\u001b\\\u001b[2m183\u001b[0m\u001b]8;;\u001b\\\n",
       "\u001b[2;36m           \u001b[0m         \u001b[35m/Users/bockstaller/code/uvl-tore-classifier-bert/src/data/datasets/prolific/\u001b[0m\u001b[95mTORE\u001b[0m \u001b[2m              \u001b[0m\n",
       "\u001b[2;36m           \u001b[0m         \u001b[95m_Coded_Answers_34_66.json\u001b[0m                                                        \u001b[2m              \u001b[0m\n"
      ]
     },
     "metadata": {},
     "output_type": "display_data"
    },
    {
     "data": {
      "text/html": [
       "<pre style=\"white-space:pre;overflow-x:auto;line-height:normal;font-family:Menlo,'DejaVu Sans Mono',consolas,'Courier New',monospace\"><span style=\"color: #7fbfbf; text-decoration-color: #7fbfbf\">           </span><span style=\"color: #000080; text-decoration-color: #000080\">INFO    </span> Importing dataset: prolific from                                                 <a href=\"file:///Users/bockstaller/code/uvl-tore-classifier-bert/src/tooling/loading.py\" target=\"_blank\"><span style=\"color: #7f7f7f; text-decoration-color: #7f7f7f\">loading.py</span></a><span style=\"color: #7f7f7f; text-decoration-color: #7f7f7f\">:</span><a href=\"file:///Users/bockstaller/code/uvl-tore-classifier-bert/src/tooling/loading.py#183\" target=\"_blank\"><span style=\"color: #7f7f7f; text-decoration-color: #7f7f7f\">183</span></a>\n",
       "<span style=\"color: #7fbfbf; text-decoration-color: #7fbfbf\">           </span>         <span style=\"color: #800080; text-decoration-color: #800080\">/Users/bockstaller/code/uvl-tore-classifier-bert/src/data/datasets/prolific/</span><span style=\"color: #ff00ff; text-decoration-color: #ff00ff\">TORE</span> <span style=\"color: #7f7f7f; text-decoration-color: #7f7f7f\">              </span>\n",
       "<span style=\"color: #7fbfbf; text-decoration-color: #7fbfbf\">           </span>         <span style=\"color: #ff00ff; text-decoration-color: #ff00ff\">_Coded_Answers_67_100.json</span>                                                       <span style=\"color: #7f7f7f; text-decoration-color: #7f7f7f\">              </span>\n",
       "</pre>\n"
      ],
      "text/plain": [
       "\u001b[2;36m          \u001b[0m\u001b[2;36m \u001b[0m\u001b[34mINFO    \u001b[0m Importing dataset: prolific from                                                 \u001b]8;id=463426;file:///Users/bockstaller/code/uvl-tore-classifier-bert/src/tooling/loading.py\u001b\\\u001b[2mloading.py\u001b[0m\u001b]8;;\u001b\\\u001b[2m:\u001b[0m\u001b]8;id=827250;file:///Users/bockstaller/code/uvl-tore-classifier-bert/src/tooling/loading.py#183\u001b\\\u001b[2m183\u001b[0m\u001b]8;;\u001b\\\n",
       "\u001b[2;36m           \u001b[0m         \u001b[35m/Users/bockstaller/code/uvl-tore-classifier-bert/src/data/datasets/prolific/\u001b[0m\u001b[95mTORE\u001b[0m \u001b[2m              \u001b[0m\n",
       "\u001b[2;36m           \u001b[0m         \u001b[95m_Coded_Answers_67_100.json\u001b[0m                                                       \u001b[2m              \u001b[0m\n"
      ]
     },
     "metadata": {},
     "output_type": "display_data"
    },
    {
     "data": {
      "text/html": [
       "<pre style=\"white-space:pre;overflow-x:auto;line-height:normal;font-family:Menlo,'DejaVu Sans Mono',consolas,'Courier New',monospace\"><span style=\"color: #7fbfbf; text-decoration-color: #7fbfbf\">[15:02:18] </span><span style=\"color: #000080; text-decoration-color: #000080\">INFO    </span> Dataset Labels: transformed_dataset<span style=\"font-weight: bold\">[</span><span style=\"color: #008000; text-decoration-color: #008000\">'labels'</span><span style=\"font-weight: bold\">]</span>=<span style=\"font-weight: bold\">[</span><span style=\"color: #008000; text-decoration-color: #008000\">'0'</span>, <span style=\"color: #008000; text-decoration-color: #008000\">'Interaction_Level'</span>,  <a href=\"file:///Users/bockstaller/code/uvl-tore-classifier-bert/src/tooling/transformation.py\" target=\"_blank\"><span style=\"color: #7f7f7f; text-decoration-color: #7f7f7f\">transformation.py</span></a><span style=\"color: #7f7f7f; text-decoration-color: #7f7f7f\">:</span><a href=\"file:///Users/bockstaller/code/uvl-tore-classifier-bert/src/tooling/transformation.py#113\" target=\"_blank\"><span style=\"color: #7f7f7f; text-decoration-color: #7f7f7f\">113</span></a>\n",
       "<span style=\"color: #7fbfbf; text-decoration-color: #7fbfbf\">           </span>         <span style=\"color: #008000; text-decoration-color: #008000\">'Domain_Level'</span>, <span style=\"color: #008000; text-decoration-color: #008000\">'System_Level'</span><span style=\"font-weight: bold\">]</span>                                           <span style=\"color: #7f7f7f; text-decoration-color: #7f7f7f\">                     </span>\n",
       "</pre>\n"
      ],
      "text/plain": [
       "\u001b[2;36m[15:02:18]\u001b[0m\u001b[2;36m \u001b[0m\u001b[34mINFO    \u001b[0m Dataset Labels: transformed_dataset\u001b[1m[\u001b[0m\u001b[32m'labels'\u001b[0m\u001b[1m]\u001b[0m=\u001b[1m[\u001b[0m\u001b[32m'0'\u001b[0m, \u001b[32m'Interaction_Level'\u001b[0m,  \u001b]8;id=844982;file:///Users/bockstaller/code/uvl-tore-classifier-bert/src/tooling/transformation.py\u001b\\\u001b[2mtransformation.py\u001b[0m\u001b]8;;\u001b\\\u001b[2m:\u001b[0m\u001b]8;id=390608;file:///Users/bockstaller/code/uvl-tore-classifier-bert/src/tooling/transformation.py#113\u001b\\\u001b[2m113\u001b[0m\u001b]8;;\u001b\\\n",
       "\u001b[2;36m           \u001b[0m         \u001b[32m'Domain_Level'\u001b[0m, \u001b[32m'System_Level'\u001b[0m\u001b[1m]\u001b[0m                                           \u001b[2m                     \u001b[0m\n"
      ]
     },
     "metadata": {},
     "output_type": "display_data"
    },
    {
     "data": {
      "text/html": [
       "<pre style=\"white-space:pre;overflow-x:auto;line-height:normal;font-family:Menlo,'DejaVu Sans Mono',consolas,'Courier New',monospace\"><span style=\"color: #7fbfbf; text-decoration-color: #7fbfbf\">[15:02:19] </span><span style=\"color: #000080; text-decoration-color: #000080\">INFO    </span> Created fold datasets for fold: <span style=\"color: #008080; text-decoration-color: #008080; font-weight: bold\">0</span>, stored at                                     <a href=\"file:///Users/bockstaller/code/uvl-tore-classifier-bert/src/tooling/sampling.py\" target=\"_blank\"><span style=\"color: #7f7f7f; text-decoration-color: #7f7f7f\">sampling.py</span></a><span style=\"color: #7f7f7f; text-decoration-color: #7f7f7f\">:</span><a href=\"file:///Users/bockstaller/code/uvl-tore-classifier-bert/src/tooling/sampling.py#81\" target=\"_blank\"><span style=\"color: #7f7f7f; text-decoration-color: #7f7f7f\">81</span></a>\n",
       "<span style=\"color: #7fbfbf; text-decoration-color: #7fbfbf\">           </span>         <span style=\"color: #808000; text-decoration-color: #808000\">paths</span>=<span style=\"font-weight: bold\">[</span><span style=\"color: #800080; text-decoration-color: #800080; font-weight: bold\">PosixPath</span><span style=\"font-weight: bold\">(</span><span style=\"color: #008000; text-decoration-color: #008000\">'/Users/bockstaller/code/uvl-tore-classifier-bert/src/data/temp</span> <span style=\"color: #7f7f7f; text-decoration-color: #7f7f7f\">              </span>\n",
       "<span style=\"color: #7fbfbf; text-decoration-color: #7fbfbf\">           </span>         <span style=\"color: #008000; text-decoration-color: #008000\">/sampling/judicious-calf-851/0_data_train.pickle'</span><span style=\"font-weight: bold\">)</span>,                              <span style=\"color: #7f7f7f; text-decoration-color: #7f7f7f\">              </span>\n",
       "<span style=\"color: #7fbfbf; text-decoration-color: #7fbfbf\">           </span>         <span style=\"color: #800080; text-decoration-color: #800080; font-weight: bold\">PosixPath</span><span style=\"font-weight: bold\">(</span><span style=\"color: #008000; text-decoration-color: #008000\">'/Users/bockstaller/code/uvl-tore-classifier-bert/src/data/temp/sampli</span> <span style=\"color: #7f7f7f; text-decoration-color: #7f7f7f\">              </span>\n",
       "<span style=\"color: #7fbfbf; text-decoration-color: #7fbfbf\">           </span>         <span style=\"color: #008000; text-decoration-color: #008000\">ng/judicious-calf-851/0_data_train.csv'</span><span style=\"font-weight: bold\">)</span>,                                        <span style=\"color: #7f7f7f; text-decoration-color: #7f7f7f\">              </span>\n",
       "<span style=\"color: #7fbfbf; text-decoration-color: #7fbfbf\">           </span>         <span style=\"color: #800080; text-decoration-color: #800080; font-weight: bold\">PosixPath</span><span style=\"font-weight: bold\">(</span><span style=\"color: #008000; text-decoration-color: #008000\">'/Users/bockstaller/code/uvl-tore-classifier-bert/src/data/temp/sampli</span> <span style=\"color: #7f7f7f; text-decoration-color: #7f7f7f\">              </span>\n",
       "<span style=\"color: #7fbfbf; text-decoration-color: #7fbfbf\">           </span>         <span style=\"color: #008000; text-decoration-color: #008000\">ng/judicious-calf-851/0_data_test.pickle'</span><span style=\"font-weight: bold\">)</span>,                                      <span style=\"color: #7f7f7f; text-decoration-color: #7f7f7f\">              </span>\n",
       "<span style=\"color: #7fbfbf; text-decoration-color: #7fbfbf\">           </span>         <span style=\"color: #800080; text-decoration-color: #800080; font-weight: bold\">PosixPath</span><span style=\"font-weight: bold\">(</span><span style=\"color: #008000; text-decoration-color: #008000\">'/Users/bockstaller/code/uvl-tore-classifier-bert/src/data/temp/sampli</span> <span style=\"color: #7f7f7f; text-decoration-color: #7f7f7f\">              </span>\n",
       "<span style=\"color: #7fbfbf; text-decoration-color: #7fbfbf\">           </span>         <span style=\"color: #008000; text-decoration-color: #008000\">ng/judicious-calf-851/0_data_test.csv'</span><span style=\"font-weight: bold\">)]</span>                                         <span style=\"color: #7f7f7f; text-decoration-color: #7f7f7f\">              </span>\n",
       "</pre>\n"
      ],
      "text/plain": [
       "\u001b[2;36m[15:02:19]\u001b[0m\u001b[2;36m \u001b[0m\u001b[34mINFO    \u001b[0m Created fold datasets for fold: \u001b[1;36m0\u001b[0m, stored at                                     \u001b]8;id=607580;file:///Users/bockstaller/code/uvl-tore-classifier-bert/src/tooling/sampling.py\u001b\\\u001b[2msampling.py\u001b[0m\u001b]8;;\u001b\\\u001b[2m:\u001b[0m\u001b]8;id=88793;file:///Users/bockstaller/code/uvl-tore-classifier-bert/src/tooling/sampling.py#81\u001b\\\u001b[2m81\u001b[0m\u001b]8;;\u001b\\\n",
       "\u001b[2;36m           \u001b[0m         \u001b[33mpaths\u001b[0m=\u001b[1m[\u001b[0m\u001b[1;35mPosixPath\u001b[0m\u001b[1m(\u001b[0m\u001b[32m'/Users/bockstaller/code/uvl-tore-classifier-bert/src/data/temp\u001b[0m \u001b[2m              \u001b[0m\n",
       "\u001b[2;36m           \u001b[0m         \u001b[32m/sampling/judicious-calf-851/0_data_train.pickle'\u001b[0m\u001b[1m)\u001b[0m,                              \u001b[2m              \u001b[0m\n",
       "\u001b[2;36m           \u001b[0m         \u001b[1;35mPosixPath\u001b[0m\u001b[1m(\u001b[0m\u001b[32m'/Users/bockstaller/code/uvl-tore-classifier-bert/src/data/temp/sampli\u001b[0m \u001b[2m              \u001b[0m\n",
       "\u001b[2;36m           \u001b[0m         \u001b[32mng/judicious-calf-851/0_data_train.csv'\u001b[0m\u001b[1m)\u001b[0m,                                        \u001b[2m              \u001b[0m\n",
       "\u001b[2;36m           \u001b[0m         \u001b[1;35mPosixPath\u001b[0m\u001b[1m(\u001b[0m\u001b[32m'/Users/bockstaller/code/uvl-tore-classifier-bert/src/data/temp/sampli\u001b[0m \u001b[2m              \u001b[0m\n",
       "\u001b[2;36m           \u001b[0m         \u001b[32mng/judicious-calf-851/0_data_test.pickle'\u001b[0m\u001b[1m)\u001b[0m,                                      \u001b[2m              \u001b[0m\n",
       "\u001b[2;36m           \u001b[0m         \u001b[1;35mPosixPath\u001b[0m\u001b[1m(\u001b[0m\u001b[32m'/Users/bockstaller/code/uvl-tore-classifier-bert/src/data/temp/sampli\u001b[0m \u001b[2m              \u001b[0m\n",
       "\u001b[2;36m           \u001b[0m         \u001b[32mng/judicious-calf-851/0_data_test.csv'\u001b[0m\u001b[1m)\u001b[0m\u001b[1m]\u001b[0m                                         \u001b[2m              \u001b[0m\n"
      ]
     },
     "metadata": {},
     "output_type": "display_data"
    },
    {
     "data": {
      "text/html": [
       "<pre style=\"white-space:pre;overflow-x:auto;line-height:normal;font-family:Menlo,'DejaVu Sans Mono',consolas,'Courier New',monospace\"><span style=\"color: #7fbfbf; text-decoration-color: #7fbfbf\">           </span><span style=\"color: #000080; text-decoration-color: #000080\">INFO    </span> Starting <span style=\"color: #808000; text-decoration-color: #808000\">iteration</span>=<span style=\"color: #008080; text-decoration-color: #008080; font-weight: bold\">0</span>                                                             <a href=\"file:///Users/bockstaller/code/uvl-tore-classifier-bert/src/classifiers/sner/pipeline.py\" target=\"_blank\"><span style=\"color: #7f7f7f; text-decoration-color: #7f7f7f\">pipeline.py</span></a><span style=\"color: #7f7f7f; text-decoration-color: #7f7f7f\">:</span><a href=\"file:///Users/bockstaller/code/uvl-tore-classifier-bert/src/classifiers/sner/pipeline.py#57\" target=\"_blank\"><span style=\"color: #7f7f7f; text-decoration-color: #7f7f7f\">57</span></a>\n",
       "</pre>\n"
      ],
      "text/plain": [
       "\u001b[2;36m          \u001b[0m\u001b[2;36m \u001b[0m\u001b[34mINFO    \u001b[0m Starting \u001b[33miteration\u001b[0m=\u001b[1;36m0\u001b[0m                                                             \u001b]8;id=495749;file:///Users/bockstaller/code/uvl-tore-classifier-bert/src/classifiers/sner/pipeline.py\u001b\\\u001b[2mpipeline.py\u001b[0m\u001b]8;;\u001b\\\u001b[2m:\u001b[0m\u001b]8;id=772438;file:///Users/bockstaller/code/uvl-tore-classifier-bert/src/classifiers/sner/pipeline.py#57\u001b\\\u001b[2m57\u001b[0m\u001b]8;;\u001b\\\n"
      ]
     },
     "metadata": {},
     "output_type": "display_data"
    },
    {
     "data": {
      "text/html": [
       "<pre style=\"white-space:pre;overflow-x:auto;line-height:normal;font-family:Menlo,'DejaVu Sans Mono',consolas,'Courier New',monospace\"><span style=\"color: #7fbfbf; text-decoration-color: #7fbfbf\">[15:02:20] </span><span style=\"color: #000080; text-decoration-color: #000080\">INFO    </span> Created train file for <span style=\"color: #808000; text-decoration-color: #808000\">iteration</span>=<span style=\"color: #008080; text-decoration-color: #008080; font-weight: bold\">0</span>, stored at                                  <a href=\"file:///Users/bockstaller/code/uvl-tore-classifier-bert/src/classifiers/sner/classifier.py\" target=\"_blank\"><span style=\"color: #7f7f7f; text-decoration-color: #7f7f7f\">classifier.py</span></a><span style=\"color: #7f7f7f; text-decoration-color: #7f7f7f\">:</span><a href=\"file:///Users/bockstaller/code/uvl-tore-classifier-bert/src/classifiers/sner/classifier.py#75\" target=\"_blank\"><span style=\"color: #7f7f7f; text-decoration-color: #7f7f7f\">75</span></a>\n",
       "<span style=\"color: #7fbfbf; text-decoration-color: #7fbfbf\">           </span>         <span style=\"color: #808000; text-decoration-color: #808000\">filepath</span>=<span style=\"color: #800080; text-decoration-color: #800080; font-weight: bold\">PosixPath</span><span style=\"font-weight: bold\">(</span><span style=\"color: #008000; text-decoration-color: #008000\">'/Users/bockstaller/code/uvl-tore-classifier-bert/src/data/</span> <span style=\"color: #7f7f7f; text-decoration-color: #7f7f7f\">                </span>\n",
       "<span style=\"color: #7fbfbf; text-decoration-color: #7fbfbf\">           </span>         <span style=\"color: #008000; text-decoration-color: #008000\">temp/sner/judicious-calf-851/0_sner_train_file.txt'</span><span style=\"font-weight: bold\">)</span>                           <span style=\"color: #7f7f7f; text-decoration-color: #7f7f7f\">                </span>\n",
       "</pre>\n"
      ],
      "text/plain": [
       "\u001b[2;36m[15:02:20]\u001b[0m\u001b[2;36m \u001b[0m\u001b[34mINFO    \u001b[0m Created train file for \u001b[33miteration\u001b[0m=\u001b[1;36m0\u001b[0m, stored at                                  \u001b]8;id=232617;file:///Users/bockstaller/code/uvl-tore-classifier-bert/src/classifiers/sner/classifier.py\u001b\\\u001b[2mclassifier.py\u001b[0m\u001b]8;;\u001b\\\u001b[2m:\u001b[0m\u001b]8;id=852399;file:///Users/bockstaller/code/uvl-tore-classifier-bert/src/classifiers/sner/classifier.py#75\u001b\\\u001b[2m75\u001b[0m\u001b]8;;\u001b\\\n",
       "\u001b[2;36m           \u001b[0m         \u001b[33mfilepath\u001b[0m=\u001b[1;35mPosixPath\u001b[0m\u001b[1m(\u001b[0m\u001b[32m'/Users/bockstaller/code/uvl-tore-classifier-bert/src/data/\u001b[0m \u001b[2m                \u001b[0m\n",
       "\u001b[2;36m           \u001b[0m         \u001b[32mtemp/sner/judicious-calf-851/0_sner_train_file.txt'\u001b[0m\u001b[1m)\u001b[0m                           \u001b[2m                \u001b[0m\n"
      ]
     },
     "metadata": {},
     "output_type": "display_data"
    },
    {
     "data": {
      "text/html": [
       "<pre style=\"white-space:pre;overflow-x:auto;line-height:normal;font-family:Menlo,'DejaVu Sans Mono',consolas,'Courier New',monospace\"><span style=\"color: #7fbfbf; text-decoration-color: #7fbfbf\">           </span><span style=\"color: #000080; text-decoration-color: #000080\">INFO    </span> Created config file for <span style=\"color: #808000; text-decoration-color: #808000\">iteration</span>=<span style=\"color: #008080; text-decoration-color: #008080; font-weight: bold\">0</span>, stored at                                 <a href=\"file:///Users/bockstaller/code/uvl-tore-classifier-bert/src/classifiers/sner/classifier.py\" target=\"_blank\"><span style=\"color: #7f7f7f; text-decoration-color: #7f7f7f\">classifier.py</span></a><span style=\"color: #7f7f7f; text-decoration-color: #7f7f7f\">:</span><a href=\"file:///Users/bockstaller/code/uvl-tore-classifier-bert/src/classifiers/sner/classifier.py#99\" target=\"_blank\"><span style=\"color: #7f7f7f; text-decoration-color: #7f7f7f\">99</span></a>\n",
       "<span style=\"color: #7fbfbf; text-decoration-color: #7fbfbf\">           </span>         <span style=\"color: #808000; text-decoration-color: #808000\">filepath</span>=<span style=\"color: #800080; text-decoration-color: #800080; font-weight: bold\">PosixPath</span><span style=\"font-weight: bold\">(</span><span style=\"color: #008000; text-decoration-color: #008000\">'/Users/bockstaller/code/uvl-tore-classifier-bert/src/data/</span> <span style=\"color: #7f7f7f; text-decoration-color: #7f7f7f\">                </span>\n",
       "<span style=\"color: #7fbfbf; text-decoration-color: #7fbfbf\">           </span>         <span style=\"color: #008000; text-decoration-color: #008000\">temp/sner/judicious-calf-851/0_sner_config_file.prop'</span><span style=\"font-weight: bold\">)</span>                         <span style=\"color: #7f7f7f; text-decoration-color: #7f7f7f\">                </span>\n",
       "</pre>\n"
      ],
      "text/plain": [
       "\u001b[2;36m          \u001b[0m\u001b[2;36m \u001b[0m\u001b[34mINFO    \u001b[0m Created config file for \u001b[33miteration\u001b[0m=\u001b[1;36m0\u001b[0m, stored at                                 \u001b]8;id=861505;file:///Users/bockstaller/code/uvl-tore-classifier-bert/src/classifiers/sner/classifier.py\u001b\\\u001b[2mclassifier.py\u001b[0m\u001b]8;;\u001b\\\u001b[2m:\u001b[0m\u001b]8;id=95068;file:///Users/bockstaller/code/uvl-tore-classifier-bert/src/classifiers/sner/classifier.py#99\u001b\\\u001b[2m99\u001b[0m\u001b]8;;\u001b\\\n",
       "\u001b[2;36m           \u001b[0m         \u001b[33mfilepath\u001b[0m=\u001b[1;35mPosixPath\u001b[0m\u001b[1m(\u001b[0m\u001b[32m'/Users/bockstaller/code/uvl-tore-classifier-bert/src/data/\u001b[0m \u001b[2m                \u001b[0m\n",
       "\u001b[2;36m           \u001b[0m         \u001b[32mtemp/sner/judicious-calf-851/0_sner_config_file.prop'\u001b[0m\u001b[1m)\u001b[0m                         \u001b[2m                \u001b[0m\n"
      ]
     },
     "metadata": {},
     "output_type": "display_data"
    },
    {
     "data": {
      "text/html": [
       "<pre style=\"white-space:pre;overflow-x:auto;line-height:normal;font-family:Menlo,'DejaVu Sans Mono',consolas,'Courier New',monospace\"><span style=\"color: #7fbfbf; text-decoration-color: #7fbfbf\">           </span><span style=\"color: #000080; text-decoration-color: #000080\">INFO    </span> Starting training, only printing every <span style=\"color: #008080; text-decoration-color: #008080; font-weight: bold\">10</span>. line.                              <a href=\"file:///Users/bockstaller/code/uvl-tore-classifier-bert/src/classifiers/sner/classifier.py\" target=\"_blank\"><span style=\"color: #7f7f7f; text-decoration-color: #7f7f7f\">classifier.py</span></a><span style=\"color: #7f7f7f; text-decoration-color: #7f7f7f\">:</span><a href=\"file:///Users/bockstaller/code/uvl-tore-classifier-bert/src/classifiers/sner/classifier.py#129\" target=\"_blank\"><span style=\"color: #7f7f7f; text-decoration-color: #7f7f7f\">129</span></a>\n",
       "</pre>\n"
      ],
      "text/plain": [
       "\u001b[2;36m          \u001b[0m\u001b[2;36m \u001b[0m\u001b[34mINFO    \u001b[0m Starting training, only printing every \u001b[1;36m10\u001b[0m. line.                              \u001b]8;id=421147;file:///Users/bockstaller/code/uvl-tore-classifier-bert/src/classifiers/sner/classifier.py\u001b\\\u001b[2mclassifier.py\u001b[0m\u001b]8;;\u001b\\\u001b[2m:\u001b[0m\u001b]8;id=824793;file:///Users/bockstaller/code/uvl-tore-classifier-bert/src/classifiers/sner/classifier.py#129\u001b\\\u001b[2m129\u001b[0m\u001b]8;;\u001b\\\n"
      ]
     },
     "metadata": {},
     "output_type": "display_data"
    },
    {
     "data": {
      "text/html": [
       "<pre style=\"white-space:pre;overflow-x:auto;line-height:normal;font-family:Menlo,'DejaVu Sans Mono',consolas,'Courier New',monospace\"><span style=\"color: #7fbfbf; text-decoration-color: #7fbfbf\">           </span><span style=\"color: #000080; text-decoration-color: #000080\">INFO    </span> <span style=\"color: #808000; text-decoration-color: #808000\">useDisjunctive</span>=<span style=\"color: #800080; text-decoration-color: #800080\">true</span>                                                           <a href=\"file:///Users/bockstaller/code/uvl-tore-classifier-bert/src/classifiers/sner/classifier.py\" target=\"_blank\"><span style=\"color: #7f7f7f; text-decoration-color: #7f7f7f\">classifier.py</span></a><span style=\"color: #7f7f7f; text-decoration-color: #7f7f7f\">:</span><a href=\"file:///Users/bockstaller/code/uvl-tore-classifier-bert/src/classifiers/sner/classifier.py#137\" target=\"_blank\"><span style=\"color: #7f7f7f; text-decoration-color: #7f7f7f\">137</span></a>\n",
       "<span style=\"color: #7fbfbf; text-decoration-color: #7fbfbf\">           </span>                                                                                       <span style=\"color: #7f7f7f; text-decoration-color: #7f7f7f\">                 </span>\n",
       "</pre>\n"
      ],
      "text/plain": [
       "\u001b[2;36m          \u001b[0m\u001b[2;36m \u001b[0m\u001b[34mINFO    \u001b[0m \u001b[33museDisjunctive\u001b[0m=\u001b[35mtrue\u001b[0m                                                           \u001b]8;id=397005;file:///Users/bockstaller/code/uvl-tore-classifier-bert/src/classifiers/sner/classifier.py\u001b\\\u001b[2mclassifier.py\u001b[0m\u001b]8;;\u001b\\\u001b[2m:\u001b[0m\u001b]8;id=469960;file:///Users/bockstaller/code/uvl-tore-classifier-bert/src/classifiers/sner/classifier.py#137\u001b\\\u001b[2m137\u001b[0m\u001b]8;;\u001b\\\n",
       "\u001b[2;36m           \u001b[0m                                                                                       \u001b[2m                 \u001b[0m\n"
      ]
     },
     "metadata": {},
     "output_type": "display_data"
    },
    {
     "data": {
      "text/html": [
       "<pre style=\"white-space:pre;overflow-x:auto;line-height:normal;font-family:Menlo,'DejaVu Sans Mono',consolas,'Courier New',monospace\"><span style=\"color: #7fbfbf; text-decoration-color: #7fbfbf\">           </span><span style=\"color: #000080; text-decoration-color: #000080\">INFO    </span> <span style=\"color: #808000; text-decoration-color: #808000\">useTypeSeqs</span>=<span style=\"color: #800080; text-decoration-color: #800080\">true</span>                                                              <a href=\"file:///Users/bockstaller/code/uvl-tore-classifier-bert/src/classifiers/sner/classifier.py\" target=\"_blank\"><span style=\"color: #7f7f7f; text-decoration-color: #7f7f7f\">classifier.py</span></a><span style=\"color: #7f7f7f; text-decoration-color: #7f7f7f\">:</span><a href=\"file:///Users/bockstaller/code/uvl-tore-classifier-bert/src/classifiers/sner/classifier.py#137\" target=\"_blank\"><span style=\"color: #7f7f7f; text-decoration-color: #7f7f7f\">137</span></a>\n",
       "<span style=\"color: #7fbfbf; text-decoration-color: #7fbfbf\">           </span>                                                                                       <span style=\"color: #7f7f7f; text-decoration-color: #7f7f7f\">                 </span>\n",
       "</pre>\n"
      ],
      "text/plain": [
       "\u001b[2;36m          \u001b[0m\u001b[2;36m \u001b[0m\u001b[34mINFO    \u001b[0m \u001b[33museTypeSeqs\u001b[0m=\u001b[35mtrue\u001b[0m                                                              \u001b]8;id=594208;file:///Users/bockstaller/code/uvl-tore-classifier-bert/src/classifiers/sner/classifier.py\u001b\\\u001b[2mclassifier.py\u001b[0m\u001b]8;;\u001b\\\u001b[2m:\u001b[0m\u001b]8;id=584203;file:///Users/bockstaller/code/uvl-tore-classifier-bert/src/classifiers/sner/classifier.py#137\u001b\\\u001b[2m137\u001b[0m\u001b]8;;\u001b\\\n",
       "\u001b[2;36m           \u001b[0m                                                                                       \u001b[2m                 \u001b[0m\n"
      ]
     },
     "metadata": {},
     "output_type": "display_data"
    },
    {
     "data": {
      "text/html": [
       "<pre style=\"white-space:pre;overflow-x:auto;line-height:normal;font-family:Menlo,'DejaVu Sans Mono',consolas,'Courier New',monospace\"><span style=\"color: #7fbfbf; text-decoration-color: #7fbfbf\">[15:02:21] </span><span style=\"color: #000080; text-decoration-color: #000080\">INFO    </span> numDatums: <span style=\"color: #008080; text-decoration-color: #008080; font-weight: bold\">21285</span>                                                              <a href=\"file:///Users/bockstaller/code/uvl-tore-classifier-bert/src/classifiers/sner/classifier.py\" target=\"_blank\"><span style=\"color: #7f7f7f; text-decoration-color: #7f7f7f\">classifier.py</span></a><span style=\"color: #7f7f7f; text-decoration-color: #7f7f7f\">:</span><a href=\"file:///Users/bockstaller/code/uvl-tore-classifier-bert/src/classifiers/sner/classifier.py#137\" target=\"_blank\"><span style=\"color: #7f7f7f; text-decoration-color: #7f7f7f\">137</span></a>\n",
       "<span style=\"color: #7fbfbf; text-decoration-color: #7fbfbf\">           </span>                                                                                       <span style=\"color: #7f7f7f; text-decoration-color: #7f7f7f\">                 </span>\n",
       "</pre>\n"
      ],
      "text/plain": [
       "\u001b[2;36m[15:02:21]\u001b[0m\u001b[2;36m \u001b[0m\u001b[34mINFO    \u001b[0m numDatums: \u001b[1;36m21285\u001b[0m                                                              \u001b]8;id=644770;file:///Users/bockstaller/code/uvl-tore-classifier-bert/src/classifiers/sner/classifier.py\u001b\\\u001b[2mclassifier.py\u001b[0m\u001b]8;;\u001b\\\u001b[2m:\u001b[0m\u001b]8;id=798368;file:///Users/bockstaller/code/uvl-tore-classifier-bert/src/classifiers/sner/classifier.py#137\u001b\\\u001b[2m137\u001b[0m\u001b]8;;\u001b\\\n",
       "\u001b[2;36m           \u001b[0m                                                                                       \u001b[2m                 \u001b[0m\n"
      ]
     },
     "metadata": {},
     "output_type": "display_data"
    },
    {
     "data": {
      "text/html": [
       "<pre style=\"white-space:pre;overflow-x:auto;line-height:normal;font-family:Menlo,'DejaVu Sans Mono',consolas,'Courier New',monospace\"><span style=\"color: #7fbfbf; text-decoration-color: #7fbfbf\">           </span><span style=\"color: #000080; text-decoration-color: #000080\">INFO    </span> SCALING        <span style=\"font-weight: bold\">&lt;</span><span style=\"color: #ff00ff; text-decoration-color: #ff00ff; font-weight: bold\">D</span><span style=\"color: #000000; text-decoration-color: #000000\">&gt; Diagonal scaling was used; &lt;I</span><span style=\"font-weight: bold\">&gt;</span> Scaled Identity             <a href=\"file:///Users/bockstaller/code/uvl-tore-classifier-bert/src/classifiers/sner/classifier.py\" target=\"_blank\"><span style=\"color: #7f7f7f; text-decoration-color: #7f7f7f\">classifier.py</span></a><span style=\"color: #7f7f7f; text-decoration-color: #7f7f7f\">:</span><a href=\"file:///Users/bockstaller/code/uvl-tore-classifier-bert/src/classifiers/sner/classifier.py#137\" target=\"_blank\"><span style=\"color: #7f7f7f; text-decoration-color: #7f7f7f\">137</span></a>\n",
       "<span style=\"color: #7fbfbf; text-decoration-color: #7fbfbf\">           </span>                                                                                       <span style=\"color: #7f7f7f; text-decoration-color: #7f7f7f\">                 </span>\n",
       "</pre>\n"
      ],
      "text/plain": [
       "\u001b[2;36m          \u001b[0m\u001b[2;36m \u001b[0m\u001b[34mINFO    \u001b[0m SCALING        \u001b[1m<\u001b[0m\u001b[1;95mD\u001b[0m\u001b[39m> Diagonal scaling was used; <I\u001b[0m\u001b[1m>\u001b[0m Scaled Identity             \u001b]8;id=897967;file:///Users/bockstaller/code/uvl-tore-classifier-bert/src/classifiers/sner/classifier.py\u001b\\\u001b[2mclassifier.py\u001b[0m\u001b]8;;\u001b\\\u001b[2m:\u001b[0m\u001b]8;id=159644;file:///Users/bockstaller/code/uvl-tore-classifier-bert/src/classifiers/sner/classifier.py#137\u001b\\\u001b[2m137\u001b[0m\u001b]8;;\u001b\\\n",
       "\u001b[2;36m           \u001b[0m                                                                                       \u001b[2m                 \u001b[0m\n"
      ]
     },
     "metadata": {},
     "output_type": "display_data"
    },
    {
     "data": {
      "text/html": [
       "<pre style=\"white-space:pre;overflow-x:auto;line-height:normal;font-family:Menlo,'DejaVu Sans Mono',consolas,'Courier New',monospace\"><span style=\"color: #7fbfbf; text-decoration-color: #7fbfbf\">           </span><span style=\"color: #000080; text-decoration-color: #000080\">INFO    </span> <span style=\"font-weight: bold\">{</span>RELNORM<span style=\"font-weight: bold\">}</span>      The ratio of the current to initial gradient norms             <a href=\"file:///Users/bockstaller/code/uvl-tore-classifier-bert/src/classifiers/sner/classifier.py\" target=\"_blank\"><span style=\"color: #7f7f7f; text-decoration-color: #7f7f7f\">classifier.py</span></a><span style=\"color: #7f7f7f; text-decoration-color: #7f7f7f\">:</span><a href=\"file:///Users/bockstaller/code/uvl-tore-classifier-bert/src/classifiers/sner/classifier.py#137\" target=\"_blank\"><span style=\"color: #7f7f7f; text-decoration-color: #7f7f7f\">137</span></a>\n",
       "<span style=\"color: #7fbfbf; text-decoration-color: #7fbfbf\">           </span>                                                                                       <span style=\"color: #7f7f7f; text-decoration-color: #7f7f7f\">                 </span>\n",
       "</pre>\n"
      ],
      "text/plain": [
       "\u001b[2;36m          \u001b[0m\u001b[2;36m \u001b[0m\u001b[34mINFO    \u001b[0m \u001b[1m{\u001b[0mRELNORM\u001b[1m}\u001b[0m      The ratio of the current to initial gradient norms             \u001b]8;id=816609;file:///Users/bockstaller/code/uvl-tore-classifier-bert/src/classifiers/sner/classifier.py\u001b\\\u001b[2mclassifier.py\u001b[0m\u001b]8;;\u001b\\\u001b[2m:\u001b[0m\u001b]8;id=301778;file:///Users/bockstaller/code/uvl-tore-classifier-bert/src/classifiers/sner/classifier.py#137\u001b\\\u001b[2m137\u001b[0m\u001b]8;;\u001b\\\n",
       "\u001b[2;36m           \u001b[0m                                                                                       \u001b[2m                 \u001b[0m\n"
      ]
     },
     "metadata": {},
     "output_type": "display_data"
    },
    {
     "data": {
      "text/html": [
       "<pre style=\"white-space:pre;overflow-x:auto;line-height:normal;font-family:Menlo,'DejaVu Sans Mono',consolas,'Courier New',monospace\"><span style=\"color: #7fbfbf; text-decoration-color: #7fbfbf\">           </span><span style=\"color: #000080; text-decoration-color: #000080\">INFO    </span> Iter <span style=\"color: #008080; text-decoration-color: #008080; font-weight: bold\">5</span> evals <span style=\"color: #008080; text-decoration-color: #008080; font-weight: bold\">7</span> <span style=\"font-weight: bold\">&lt;</span><span style=\"color: #ff00ff; text-decoration-color: #ff00ff; font-weight: bold\">D</span><span style=\"font-weight: bold\">&gt;</span> <span style=\"font-weight: bold\">[</span>M <span style=\"color: #008080; text-decoration-color: #008080; font-weight: bold\">1</span>,000E0<span style=\"font-weight: bold\">]</span> <span style=\"color: #008080; text-decoration-color: #008080; font-weight: bold\">1</span>,388E5 <span style=\"color: #008080; text-decoration-color: #008080; font-weight: bold\">0</span>,51s |<span style=\"color: #008080; text-decoration-color: #008080; font-weight: bold\">5</span>,279E3| <span style=\"font-weight: bold\">{</span><span style=\"color: #008080; text-decoration-color: #008080; font-weight: bold\">1</span>,807E-<span style=\"color: #008080; text-decoration-color: #008080; font-weight: bold\">1</span><span style=\"font-weight: bold\">}</span> <span style=\"color: #008080; text-decoration-color: #008080; font-weight: bold\">2</span>,792E-<span style=\"color: #008080; text-decoration-color: #008080; font-weight: bold\">2</span> -  <a href=\"file:///Users/bockstaller/code/uvl-tore-classifier-bert/src/classifiers/sner/classifier.py\" target=\"_blank\"><span style=\"color: #7f7f7f; text-decoration-color: #7f7f7f\">classifier.py</span></a><span style=\"color: #7f7f7f; text-decoration-color: #7f7f7f\">:</span><a href=\"file:///Users/bockstaller/code/uvl-tore-classifier-bert/src/classifiers/sner/classifier.py#137\" target=\"_blank\"><span style=\"color: #7f7f7f; text-decoration-color: #7f7f7f\">137</span></a>\n",
       "<span style=\"color: #7fbfbf; text-decoration-color: #7fbfbf\">           </span>                                                                                       <span style=\"color: #7f7f7f; text-decoration-color: #7f7f7f\">                 </span>\n",
       "</pre>\n"
      ],
      "text/plain": [
       "\u001b[2;36m          \u001b[0m\u001b[2;36m \u001b[0m\u001b[34mINFO    \u001b[0m Iter \u001b[1;36m5\u001b[0m evals \u001b[1;36m7\u001b[0m \u001b[1m<\u001b[0m\u001b[1;95mD\u001b[0m\u001b[1m>\u001b[0m \u001b[1m[\u001b[0mM \u001b[1;36m1\u001b[0m,000E0\u001b[1m]\u001b[0m \u001b[1;36m1\u001b[0m,388E5 \u001b[1;36m0\u001b[0m,51s |\u001b[1;36m5\u001b[0m,279E3| \u001b[1m{\u001b[0m\u001b[1;36m1\u001b[0m,807E-\u001b[1;36m1\u001b[0m\u001b[1m}\u001b[0m \u001b[1;36m2\u001b[0m,792E-\u001b[1;36m2\u001b[0m -  \u001b]8;id=708373;file:///Users/bockstaller/code/uvl-tore-classifier-bert/src/classifiers/sner/classifier.py\u001b\\\u001b[2mclassifier.py\u001b[0m\u001b]8;;\u001b\\\u001b[2m:\u001b[0m\u001b]8;id=653758;file:///Users/bockstaller/code/uvl-tore-classifier-bert/src/classifiers/sner/classifier.py#137\u001b\\\u001b[2m137\u001b[0m\u001b]8;;\u001b\\\n",
       "\u001b[2;36m           \u001b[0m                                                                                       \u001b[2m                 \u001b[0m\n"
      ]
     },
     "metadata": {},
     "output_type": "display_data"
    },
    {
     "data": {
      "text/html": [
       "<pre style=\"white-space:pre;overflow-x:auto;line-height:normal;font-family:Menlo,'DejaVu Sans Mono',consolas,'Courier New',monospace\"><span style=\"color: #7fbfbf; text-decoration-color: #7fbfbf\">[15:02:22] </span><span style=\"color: #000080; text-decoration-color: #000080\">INFO    </span> Iter <span style=\"color: #008080; text-decoration-color: #008080; font-weight: bold\">15</span> evals <span style=\"color: #008080; text-decoration-color: #008080; font-weight: bold\">18</span> <span style=\"font-weight: bold\">&lt;</span><span style=\"color: #ff00ff; text-decoration-color: #ff00ff; font-weight: bold\">D</span><span style=\"font-weight: bold\">&gt;</span> <span style=\"font-weight: bold\">[</span>M <span style=\"color: #008080; text-decoration-color: #008080; font-weight: bold\">1</span>,000E0<span style=\"font-weight: bold\">]</span> <span style=\"color: #008080; text-decoration-color: #008080; font-weight: bold\">1</span>,063E5 <span style=\"color: #008080; text-decoration-color: #008080; font-weight: bold\">1</span>,24s |<span style=\"color: #008080; text-decoration-color: #008080; font-weight: bold\">1</span>,498E3| <span style=\"font-weight: bold\">{</span><span style=\"color: #008080; text-decoration-color: #008080; font-weight: bold\">5</span>,129E-<span style=\"color: #008080; text-decoration-color: #008080; font-weight: bold\">2</span><span style=\"font-weight: bold\">}</span> <span style=\"color: #008080; text-decoration-color: #008080; font-weight: bold\">2</span>,689E-<span style=\"color: #008080; text-decoration-color: #008080; font-weight: bold\">2</span>  <a href=\"file:///Users/bockstaller/code/uvl-tore-classifier-bert/src/classifiers/sner/classifier.py\" target=\"_blank\"><span style=\"color: #7f7f7f; text-decoration-color: #7f7f7f\">classifier.py</span></a><span style=\"color: #7f7f7f; text-decoration-color: #7f7f7f\">:</span><a href=\"file:///Users/bockstaller/code/uvl-tore-classifier-bert/src/classifiers/sner/classifier.py#137\" target=\"_blank\"><span style=\"color: #7f7f7f; text-decoration-color: #7f7f7f\">137</span></a>\n",
       "<span style=\"color: #7fbfbf; text-decoration-color: #7fbfbf\">           </span>         -                                                                             <span style=\"color: #7f7f7f; text-decoration-color: #7f7f7f\">                 </span>\n",
       "<span style=\"color: #7fbfbf; text-decoration-color: #7fbfbf\">           </span>                                                                                       <span style=\"color: #7f7f7f; text-decoration-color: #7f7f7f\">                 </span>\n",
       "</pre>\n"
      ],
      "text/plain": [
       "\u001b[2;36m[15:02:22]\u001b[0m\u001b[2;36m \u001b[0m\u001b[34mINFO    \u001b[0m Iter \u001b[1;36m15\u001b[0m evals \u001b[1;36m18\u001b[0m \u001b[1m<\u001b[0m\u001b[1;95mD\u001b[0m\u001b[1m>\u001b[0m \u001b[1m[\u001b[0mM \u001b[1;36m1\u001b[0m,000E0\u001b[1m]\u001b[0m \u001b[1;36m1\u001b[0m,063E5 \u001b[1;36m1\u001b[0m,24s |\u001b[1;36m1\u001b[0m,498E3| \u001b[1m{\u001b[0m\u001b[1;36m5\u001b[0m,129E-\u001b[1;36m2\u001b[0m\u001b[1m}\u001b[0m \u001b[1;36m2\u001b[0m,689E-\u001b[1;36m2\u001b[0m  \u001b]8;id=125344;file:///Users/bockstaller/code/uvl-tore-classifier-bert/src/classifiers/sner/classifier.py\u001b\\\u001b[2mclassifier.py\u001b[0m\u001b]8;;\u001b\\\u001b[2m:\u001b[0m\u001b]8;id=12182;file:///Users/bockstaller/code/uvl-tore-classifier-bert/src/classifiers/sner/classifier.py#137\u001b\\\u001b[2m137\u001b[0m\u001b]8;;\u001b\\\n",
       "\u001b[2;36m           \u001b[0m         -                                                                             \u001b[2m                 \u001b[0m\n",
       "\u001b[2;36m           \u001b[0m                                                                                       \u001b[2m                 \u001b[0m\n"
      ]
     },
     "metadata": {},
     "output_type": "display_data"
    },
    {
     "data": {
      "text/html": [
       "<pre style=\"white-space:pre;overflow-x:auto;line-height:normal;font-family:Menlo,'DejaVu Sans Mono',consolas,'Courier New',monospace\"><span style=\"color: #7fbfbf; text-decoration-color: #7fbfbf\">[15:02:23] </span><span style=\"color: #000080; text-decoration-color: #000080\">INFO    </span> Iter <span style=\"color: #008080; text-decoration-color: #008080; font-weight: bold\">25</span> evals <span style=\"color: #008080; text-decoration-color: #008080; font-weight: bold\">30</span> <span style=\"font-weight: bold\">&lt;</span><span style=\"color: #ff00ff; text-decoration-color: #ff00ff; font-weight: bold\">D</span><span style=\"font-weight: bold\">&gt;</span> <span style=\"font-weight: bold\">[</span>M <span style=\"color: #008080; text-decoration-color: #008080; font-weight: bold\">1</span>,000E0<span style=\"font-weight: bold\">]</span> <span style=\"color: #008080; text-decoration-color: #008080; font-weight: bold\">3</span>,022E4 <span style=\"color: #008080; text-decoration-color: #008080; font-weight: bold\">2</span>,04s |<span style=\"color: #008080; text-decoration-color: #008080; font-weight: bold\">2</span>,284E3| <span style=\"font-weight: bold\">{</span><span style=\"color: #008080; text-decoration-color: #008080; font-weight: bold\">7</span>,818E-<span style=\"color: #008080; text-decoration-color: #008080; font-weight: bold\">2</span><span style=\"font-weight: bold\">}</span> <span style=\"color: #008080; text-decoration-color: #008080; font-weight: bold\">2</span>,253E-<span style=\"color: #008080; text-decoration-color: #008080; font-weight: bold\">1</span>  <a href=\"file:///Users/bockstaller/code/uvl-tore-classifier-bert/src/classifiers/sner/classifier.py\" target=\"_blank\"><span style=\"color: #7f7f7f; text-decoration-color: #7f7f7f\">classifier.py</span></a><span style=\"color: #7f7f7f; text-decoration-color: #7f7f7f\">:</span><a href=\"file:///Users/bockstaller/code/uvl-tore-classifier-bert/src/classifiers/sner/classifier.py#137\" target=\"_blank\"><span style=\"color: #7f7f7f; text-decoration-color: #7f7f7f\">137</span></a>\n",
       "<span style=\"color: #7fbfbf; text-decoration-color: #7fbfbf\">           </span>         -                                                                             <span style=\"color: #7f7f7f; text-decoration-color: #7f7f7f\">                 </span>\n",
       "<span style=\"color: #7fbfbf; text-decoration-color: #7fbfbf\">           </span>                                                                                       <span style=\"color: #7f7f7f; text-decoration-color: #7f7f7f\">                 </span>\n",
       "</pre>\n"
      ],
      "text/plain": [
       "\u001b[2;36m[15:02:23]\u001b[0m\u001b[2;36m \u001b[0m\u001b[34mINFO    \u001b[0m Iter \u001b[1;36m25\u001b[0m evals \u001b[1;36m30\u001b[0m \u001b[1m<\u001b[0m\u001b[1;95mD\u001b[0m\u001b[1m>\u001b[0m \u001b[1m[\u001b[0mM \u001b[1;36m1\u001b[0m,000E0\u001b[1m]\u001b[0m \u001b[1;36m3\u001b[0m,022E4 \u001b[1;36m2\u001b[0m,04s |\u001b[1;36m2\u001b[0m,284E3| \u001b[1m{\u001b[0m\u001b[1;36m7\u001b[0m,818E-\u001b[1;36m2\u001b[0m\u001b[1m}\u001b[0m \u001b[1;36m2\u001b[0m,253E-\u001b[1;36m1\u001b[0m  \u001b]8;id=589031;file:///Users/bockstaller/code/uvl-tore-classifier-bert/src/classifiers/sner/classifier.py\u001b\\\u001b[2mclassifier.py\u001b[0m\u001b]8;;\u001b\\\u001b[2m:\u001b[0m\u001b]8;id=169355;file:///Users/bockstaller/code/uvl-tore-classifier-bert/src/classifiers/sner/classifier.py#137\u001b\\\u001b[2m137\u001b[0m\u001b]8;;\u001b\\\n",
       "\u001b[2;36m           \u001b[0m         -                                                                             \u001b[2m                 \u001b[0m\n",
       "\u001b[2;36m           \u001b[0m                                                                                       \u001b[2m                 \u001b[0m\n"
      ]
     },
     "metadata": {},
     "output_type": "display_data"
    },
    {
     "data": {
      "text/html": [
       "<pre style=\"white-space:pre;overflow-x:auto;line-height:normal;font-family:Menlo,'DejaVu Sans Mono',consolas,'Courier New',monospace\"><span style=\"color: #7fbfbf; text-decoration-color: #7fbfbf\">[15:02:24] </span><span style=\"color: #000080; text-decoration-color: #000080\">INFO    </span> Iter <span style=\"color: #008080; text-decoration-color: #008080; font-weight: bold\">35</span> evals <span style=\"color: #008080; text-decoration-color: #008080; font-weight: bold\">43</span> <span style=\"font-weight: bold\">&lt;</span><span style=\"color: #ff00ff; text-decoration-color: #ff00ff; font-weight: bold\">D</span><span style=\"font-weight: bold\">&gt;</span> <span style=\"font-weight: bold\">[</span>1M <span style=\"color: #008080; text-decoration-color: #008080; font-weight: bold\">2</span>,052E-<span style=\"color: #008080; text-decoration-color: #008080; font-weight: bold\">1</span><span style=\"font-weight: bold\">]</span> <span style=\"color: #008080; text-decoration-color: #008080; font-weight: bold\">9</span>,847E3 <span style=\"color: #008080; text-decoration-color: #008080; font-weight: bold\">3</span>,02s |<span style=\"color: #008080; text-decoration-color: #008080; font-weight: bold\">5</span>,297E2| <span style=\"font-weight: bold\">{</span><span style=\"color: #008080; text-decoration-color: #008080; font-weight: bold\">1</span>,813E-<span style=\"color: #008080; text-decoration-color: #008080; font-weight: bold\">2</span><span style=\"font-weight: bold\">}</span>         <a href=\"file:///Users/bockstaller/code/uvl-tore-classifier-bert/src/classifiers/sner/classifier.py\" target=\"_blank\"><span style=\"color: #7f7f7f; text-decoration-color: #7f7f7f\">classifier.py</span></a><span style=\"color: #7f7f7f; text-decoration-color: #7f7f7f\">:</span><a href=\"file:///Users/bockstaller/code/uvl-tore-classifier-bert/src/classifiers/sner/classifier.py#137\" target=\"_blank\"><span style=\"color: #7f7f7f; text-decoration-color: #7f7f7f\">137</span></a>\n",
       "<span style=\"color: #7fbfbf; text-decoration-color: #7fbfbf\">           </span>         <span style=\"color: #008080; text-decoration-color: #008080; font-weight: bold\">1</span>,561E-<span style=\"color: #008080; text-decoration-color: #008080; font-weight: bold\">1</span> -                                                                    <span style=\"color: #7f7f7f; text-decoration-color: #7f7f7f\">                 </span>\n",
       "<span style=\"color: #7fbfbf; text-decoration-color: #7fbfbf\">           </span>                                                                                       <span style=\"color: #7f7f7f; text-decoration-color: #7f7f7f\">                 </span>\n",
       "</pre>\n"
      ],
      "text/plain": [
       "\u001b[2;36m[15:02:24]\u001b[0m\u001b[2;36m \u001b[0m\u001b[34mINFO    \u001b[0m Iter \u001b[1;36m35\u001b[0m evals \u001b[1;36m43\u001b[0m \u001b[1m<\u001b[0m\u001b[1;95mD\u001b[0m\u001b[1m>\u001b[0m \u001b[1m[\u001b[0m1M \u001b[1;36m2\u001b[0m,052E-\u001b[1;36m1\u001b[0m\u001b[1m]\u001b[0m \u001b[1;36m9\u001b[0m,847E3 \u001b[1;36m3\u001b[0m,02s |\u001b[1;36m5\u001b[0m,297E2| \u001b[1m{\u001b[0m\u001b[1;36m1\u001b[0m,813E-\u001b[1;36m2\u001b[0m\u001b[1m}\u001b[0m         \u001b]8;id=627967;file:///Users/bockstaller/code/uvl-tore-classifier-bert/src/classifiers/sner/classifier.py\u001b\\\u001b[2mclassifier.py\u001b[0m\u001b]8;;\u001b\\\u001b[2m:\u001b[0m\u001b]8;id=662517;file:///Users/bockstaller/code/uvl-tore-classifier-bert/src/classifiers/sner/classifier.py#137\u001b\\\u001b[2m137\u001b[0m\u001b]8;;\u001b\\\n",
       "\u001b[2;36m           \u001b[0m         \u001b[1;36m1\u001b[0m,561E-\u001b[1;36m1\u001b[0m -                                                                    \u001b[2m                 \u001b[0m\n",
       "\u001b[2;36m           \u001b[0m                                                                                       \u001b[2m                 \u001b[0m\n"
      ]
     },
     "metadata": {},
     "output_type": "display_data"
    },
    {
     "data": {
      "text/html": [
       "<pre style=\"white-space:pre;overflow-x:auto;line-height:normal;font-family:Menlo,'DejaVu Sans Mono',consolas,'Courier New',monospace\"><span style=\"color: #7fbfbf; text-decoration-color: #7fbfbf\">[15:02:25] </span><span style=\"color: #000080; text-decoration-color: #000080\">INFO    </span> Iter <span style=\"color: #008080; text-decoration-color: #008080; font-weight: bold\">45</span> evals <span style=\"color: #008080; text-decoration-color: #008080; font-weight: bold\">54</span> <span style=\"font-weight: bold\">&lt;</span><span style=\"color: #ff00ff; text-decoration-color: #ff00ff; font-weight: bold\">D</span><span style=\"font-weight: bold\">&gt;</span> <span style=\"font-weight: bold\">[</span>M <span style=\"color: #008080; text-decoration-color: #008080; font-weight: bold\">1</span>,000E0<span style=\"font-weight: bold\">]</span> <span style=\"color: #008080; text-decoration-color: #008080; font-weight: bold\">4</span>,051E3 <span style=\"color: #008080; text-decoration-color: #008080; font-weight: bold\">3</span>,94s |<span style=\"color: #008080; text-decoration-color: #008080; font-weight: bold\">2</span>,570E2| <span style=\"font-weight: bold\">{</span><span style=\"color: #008080; text-decoration-color: #008080; font-weight: bold\">8</span>,795E-<span style=\"color: #008080; text-decoration-color: #008080; font-weight: bold\">3</span><span style=\"font-weight: bold\">}</span> <span style=\"color: #008080; text-decoration-color: #008080; font-weight: bold\">1</span>,261E-<span style=\"color: #008080; text-decoration-color: #008080; font-weight: bold\">1</span>  <a href=\"file:///Users/bockstaller/code/uvl-tore-classifier-bert/src/classifiers/sner/classifier.py\" target=\"_blank\"><span style=\"color: #7f7f7f; text-decoration-color: #7f7f7f\">classifier.py</span></a><span style=\"color: #7f7f7f; text-decoration-color: #7f7f7f\">:</span><a href=\"file:///Users/bockstaller/code/uvl-tore-classifier-bert/src/classifiers/sner/classifier.py#137\" target=\"_blank\"><span style=\"color: #7f7f7f; text-decoration-color: #7f7f7f\">137</span></a>\n",
       "<span style=\"color: #7fbfbf; text-decoration-color: #7fbfbf\">           </span>         -                                                                             <span style=\"color: #7f7f7f; text-decoration-color: #7f7f7f\">                 </span>\n",
       "<span style=\"color: #7fbfbf; text-decoration-color: #7fbfbf\">           </span>                                                                                       <span style=\"color: #7f7f7f; text-decoration-color: #7f7f7f\">                 </span>\n",
       "</pre>\n"
      ],
      "text/plain": [
       "\u001b[2;36m[15:02:25]\u001b[0m\u001b[2;36m \u001b[0m\u001b[34mINFO    \u001b[0m Iter \u001b[1;36m45\u001b[0m evals \u001b[1;36m54\u001b[0m \u001b[1m<\u001b[0m\u001b[1;95mD\u001b[0m\u001b[1m>\u001b[0m \u001b[1m[\u001b[0mM \u001b[1;36m1\u001b[0m,000E0\u001b[1m]\u001b[0m \u001b[1;36m4\u001b[0m,051E3 \u001b[1;36m3\u001b[0m,94s |\u001b[1;36m2\u001b[0m,570E2| \u001b[1m{\u001b[0m\u001b[1;36m8\u001b[0m,795E-\u001b[1;36m3\u001b[0m\u001b[1m}\u001b[0m \u001b[1;36m1\u001b[0m,261E-\u001b[1;36m1\u001b[0m  \u001b]8;id=130063;file:///Users/bockstaller/code/uvl-tore-classifier-bert/src/classifiers/sner/classifier.py\u001b\\\u001b[2mclassifier.py\u001b[0m\u001b]8;;\u001b\\\u001b[2m:\u001b[0m\u001b]8;id=857637;file:///Users/bockstaller/code/uvl-tore-classifier-bert/src/classifiers/sner/classifier.py#137\u001b\\\u001b[2m137\u001b[0m\u001b]8;;\u001b\\\n",
       "\u001b[2;36m           \u001b[0m         -                                                                             \u001b[2m                 \u001b[0m\n",
       "\u001b[2;36m           \u001b[0m                                                                                       \u001b[2m                 \u001b[0m\n"
      ]
     },
     "metadata": {},
     "output_type": "display_data"
    },
    {
     "data": {
      "text/html": [
       "<pre style=\"white-space:pre;overflow-x:auto;line-height:normal;font-family:Menlo,'DejaVu Sans Mono',consolas,'Courier New',monospace\"><span style=\"color: #7fbfbf; text-decoration-color: #7fbfbf\">[15:02:26] </span><span style=\"color: #000080; text-decoration-color: #000080\">INFO    </span> Iter <span style=\"color: #008080; text-decoration-color: #008080; font-weight: bold\">55</span> evals <span style=\"color: #008080; text-decoration-color: #008080; font-weight: bold\">64</span> <span style=\"font-weight: bold\">&lt;</span><span style=\"color: #ff00ff; text-decoration-color: #ff00ff; font-weight: bold\">D</span><span style=\"font-weight: bold\">&gt;</span> <span style=\"font-weight: bold\">[</span>M <span style=\"color: #008080; text-decoration-color: #008080; font-weight: bold\">1</span>,000E0<span style=\"font-weight: bold\">]</span> <span style=\"color: #008080; text-decoration-color: #008080; font-weight: bold\">1</span>,938E3 <span style=\"color: #008080; text-decoration-color: #008080; font-weight: bold\">4</span>,83s |<span style=\"color: #008080; text-decoration-color: #008080; font-weight: bold\">1</span>,914E2| <span style=\"font-weight: bold\">{</span><span style=\"color: #008080; text-decoration-color: #008080; font-weight: bold\">6</span>,551E-<span style=\"color: #008080; text-decoration-color: #008080; font-weight: bold\">3</span><span style=\"font-weight: bold\">}</span> <span style=\"color: #008080; text-decoration-color: #008080; font-weight: bold\">9</span>,264E-<span style=\"color: #008080; text-decoration-color: #008080; font-weight: bold\">2</span>  <a href=\"file:///Users/bockstaller/code/uvl-tore-classifier-bert/src/classifiers/sner/classifier.py\" target=\"_blank\"><span style=\"color: #7f7f7f; text-decoration-color: #7f7f7f\">classifier.py</span></a><span style=\"color: #7f7f7f; text-decoration-color: #7f7f7f\">:</span><a href=\"file:///Users/bockstaller/code/uvl-tore-classifier-bert/src/classifiers/sner/classifier.py#137\" target=\"_blank\"><span style=\"color: #7f7f7f; text-decoration-color: #7f7f7f\">137</span></a>\n",
       "<span style=\"color: #7fbfbf; text-decoration-color: #7fbfbf\">           </span>         -                                                                             <span style=\"color: #7f7f7f; text-decoration-color: #7f7f7f\">                 </span>\n",
       "<span style=\"color: #7fbfbf; text-decoration-color: #7fbfbf\">           </span>                                                                                       <span style=\"color: #7f7f7f; text-decoration-color: #7f7f7f\">                 </span>\n",
       "</pre>\n"
      ],
      "text/plain": [
       "\u001b[2;36m[15:02:26]\u001b[0m\u001b[2;36m \u001b[0m\u001b[34mINFO    \u001b[0m Iter \u001b[1;36m55\u001b[0m evals \u001b[1;36m64\u001b[0m \u001b[1m<\u001b[0m\u001b[1;95mD\u001b[0m\u001b[1m>\u001b[0m \u001b[1m[\u001b[0mM \u001b[1;36m1\u001b[0m,000E0\u001b[1m]\u001b[0m \u001b[1;36m1\u001b[0m,938E3 \u001b[1;36m4\u001b[0m,83s |\u001b[1;36m1\u001b[0m,914E2| \u001b[1m{\u001b[0m\u001b[1;36m6\u001b[0m,551E-\u001b[1;36m3\u001b[0m\u001b[1m}\u001b[0m \u001b[1;36m9\u001b[0m,264E-\u001b[1;36m2\u001b[0m  \u001b]8;id=384751;file:///Users/bockstaller/code/uvl-tore-classifier-bert/src/classifiers/sner/classifier.py\u001b\\\u001b[2mclassifier.py\u001b[0m\u001b]8;;\u001b\\\u001b[2m:\u001b[0m\u001b]8;id=941687;file:///Users/bockstaller/code/uvl-tore-classifier-bert/src/classifiers/sner/classifier.py#137\u001b\\\u001b[2m137\u001b[0m\u001b]8;;\u001b\\\n",
       "\u001b[2;36m           \u001b[0m         -                                                                             \u001b[2m                 \u001b[0m\n",
       "\u001b[2;36m           \u001b[0m                                                                                       \u001b[2m                 \u001b[0m\n"
      ]
     },
     "metadata": {},
     "output_type": "display_data"
    },
    {
     "data": {
      "text/html": [
       "<pre style=\"white-space:pre;overflow-x:auto;line-height:normal;font-family:Menlo,'DejaVu Sans Mono',consolas,'Courier New',monospace\"><span style=\"color: #7fbfbf; text-decoration-color: #7fbfbf\">[15:02:27] </span><span style=\"color: #000080; text-decoration-color: #000080\">INFO    </span> Iter <span style=\"color: #008080; text-decoration-color: #008080; font-weight: bold\">65</span> evals <span style=\"color: #008080; text-decoration-color: #008080; font-weight: bold\">77</span> <span style=\"font-weight: bold\">&lt;</span><span style=\"color: #ff00ff; text-decoration-color: #ff00ff; font-weight: bold\">D</span><span style=\"font-weight: bold\">&gt;</span> <span style=\"font-weight: bold\">[</span>M <span style=\"color: #008080; text-decoration-color: #008080; font-weight: bold\">1</span>,000E0<span style=\"font-weight: bold\">]</span> <span style=\"color: #008080; text-decoration-color: #008080; font-weight: bold\">1</span>,544E3 <span style=\"color: #008080; text-decoration-color: #008080; font-weight: bold\">5</span>,89s |<span style=\"color: #008080; text-decoration-color: #008080; font-weight: bold\">7</span>,300E1| <span style=\"font-weight: bold\">{</span><span style=\"color: #008080; text-decoration-color: #008080; font-weight: bold\">2</span>,499E-<span style=\"color: #008080; text-decoration-color: #008080; font-weight: bold\">3</span><span style=\"font-weight: bold\">}</span> <span style=\"color: #008080; text-decoration-color: #008080; font-weight: bold\">2</span>,005E-<span style=\"color: #008080; text-decoration-color: #008080; font-weight: bold\">2</span>  <a href=\"file:///Users/bockstaller/code/uvl-tore-classifier-bert/src/classifiers/sner/classifier.py\" target=\"_blank\"><span style=\"color: #7f7f7f; text-decoration-color: #7f7f7f\">classifier.py</span></a><span style=\"color: #7f7f7f; text-decoration-color: #7f7f7f\">:</span><a href=\"file:///Users/bockstaller/code/uvl-tore-classifier-bert/src/classifiers/sner/classifier.py#137\" target=\"_blank\"><span style=\"color: #7f7f7f; text-decoration-color: #7f7f7f\">137</span></a>\n",
       "<span style=\"color: #7fbfbf; text-decoration-color: #7fbfbf\">           </span>         -                                                                             <span style=\"color: #7f7f7f; text-decoration-color: #7f7f7f\">                 </span>\n",
       "<span style=\"color: #7fbfbf; text-decoration-color: #7fbfbf\">           </span>                                                                                       <span style=\"color: #7f7f7f; text-decoration-color: #7f7f7f\">                 </span>\n",
       "</pre>\n"
      ],
      "text/plain": [
       "\u001b[2;36m[15:02:27]\u001b[0m\u001b[2;36m \u001b[0m\u001b[34mINFO    \u001b[0m Iter \u001b[1;36m65\u001b[0m evals \u001b[1;36m77\u001b[0m \u001b[1m<\u001b[0m\u001b[1;95mD\u001b[0m\u001b[1m>\u001b[0m \u001b[1m[\u001b[0mM \u001b[1;36m1\u001b[0m,000E0\u001b[1m]\u001b[0m \u001b[1;36m1\u001b[0m,544E3 \u001b[1;36m5\u001b[0m,89s |\u001b[1;36m7\u001b[0m,300E1| \u001b[1m{\u001b[0m\u001b[1;36m2\u001b[0m,499E-\u001b[1;36m3\u001b[0m\u001b[1m}\u001b[0m \u001b[1;36m2\u001b[0m,005E-\u001b[1;36m2\u001b[0m  \u001b]8;id=576467;file:///Users/bockstaller/code/uvl-tore-classifier-bert/src/classifiers/sner/classifier.py\u001b\\\u001b[2mclassifier.py\u001b[0m\u001b]8;;\u001b\\\u001b[2m:\u001b[0m\u001b]8;id=590358;file:///Users/bockstaller/code/uvl-tore-classifier-bert/src/classifiers/sner/classifier.py#137\u001b\\\u001b[2m137\u001b[0m\u001b]8;;\u001b\\\n",
       "\u001b[2;36m           \u001b[0m         -                                                                             \u001b[2m                 \u001b[0m\n",
       "\u001b[2;36m           \u001b[0m                                                                                       \u001b[2m                 \u001b[0m\n"
      ]
     },
     "metadata": {},
     "output_type": "display_data"
    },
    {
     "data": {
      "text/html": [
       "<pre style=\"white-space:pre;overflow-x:auto;line-height:normal;font-family:Menlo,'DejaVu Sans Mono',consolas,'Courier New',monospace\"><span style=\"color: #7fbfbf; text-decoration-color: #7fbfbf\">[15:02:28] </span><span style=\"color: #000080; text-decoration-color: #000080\">INFO    </span> Iter <span style=\"color: #008080; text-decoration-color: #008080; font-weight: bold\">75</span> evals <span style=\"color: #008080; text-decoration-color: #008080; font-weight: bold\">87</span> <span style=\"font-weight: bold\">&lt;</span><span style=\"color: #ff00ff; text-decoration-color: #ff00ff; font-weight: bold\">D</span><span style=\"font-weight: bold\">&gt;</span> <span style=\"font-weight: bold\">[</span>M <span style=\"color: #008080; text-decoration-color: #008080; font-weight: bold\">1</span>,000E0<span style=\"font-weight: bold\">]</span> <span style=\"color: #008080; text-decoration-color: #008080; font-weight: bold\">1</span>,432E3 <span style=\"color: #008080; text-decoration-color: #008080; font-weight: bold\">6</span>,88s |<span style=\"color: #008080; text-decoration-color: #008080; font-weight: bold\">4</span>,312E1| <span style=\"font-weight: bold\">{</span><span style=\"color: #008080; text-decoration-color: #008080; font-weight: bold\">1</span>,476E-<span style=\"color: #008080; text-decoration-color: #008080; font-weight: bold\">3</span><span style=\"font-weight: bold\">}</span> <span style=\"color: #008080; text-decoration-color: #008080; font-weight: bold\">6</span>,109E-<span style=\"color: #008080; text-decoration-color: #008080; font-weight: bold\">3</span>  <a href=\"file:///Users/bockstaller/code/uvl-tore-classifier-bert/src/classifiers/sner/classifier.py\" target=\"_blank\"><span style=\"color: #7f7f7f; text-decoration-color: #7f7f7f\">classifier.py</span></a><span style=\"color: #7f7f7f; text-decoration-color: #7f7f7f\">:</span><a href=\"file:///Users/bockstaller/code/uvl-tore-classifier-bert/src/classifiers/sner/classifier.py#137\" target=\"_blank\"><span style=\"color: #7f7f7f; text-decoration-color: #7f7f7f\">137</span></a>\n",
       "<span style=\"color: #7fbfbf; text-decoration-color: #7fbfbf\">           </span>         -                                                                             <span style=\"color: #7f7f7f; text-decoration-color: #7f7f7f\">                 </span>\n",
       "<span style=\"color: #7fbfbf; text-decoration-color: #7fbfbf\">           </span>                                                                                       <span style=\"color: #7f7f7f; text-decoration-color: #7f7f7f\">                 </span>\n",
       "</pre>\n"
      ],
      "text/plain": [
       "\u001b[2;36m[15:02:28]\u001b[0m\u001b[2;36m \u001b[0m\u001b[34mINFO    \u001b[0m Iter \u001b[1;36m75\u001b[0m evals \u001b[1;36m87\u001b[0m \u001b[1m<\u001b[0m\u001b[1;95mD\u001b[0m\u001b[1m>\u001b[0m \u001b[1m[\u001b[0mM \u001b[1;36m1\u001b[0m,000E0\u001b[1m]\u001b[0m \u001b[1;36m1\u001b[0m,432E3 \u001b[1;36m6\u001b[0m,88s |\u001b[1;36m4\u001b[0m,312E1| \u001b[1m{\u001b[0m\u001b[1;36m1\u001b[0m,476E-\u001b[1;36m3\u001b[0m\u001b[1m}\u001b[0m \u001b[1;36m6\u001b[0m,109E-\u001b[1;36m3\u001b[0m  \u001b]8;id=569680;file:///Users/bockstaller/code/uvl-tore-classifier-bert/src/classifiers/sner/classifier.py\u001b\\\u001b[2mclassifier.py\u001b[0m\u001b]8;;\u001b\\\u001b[2m:\u001b[0m\u001b]8;id=258687;file:///Users/bockstaller/code/uvl-tore-classifier-bert/src/classifiers/sner/classifier.py#137\u001b\\\u001b[2m137\u001b[0m\u001b]8;;\u001b\\\n",
       "\u001b[2;36m           \u001b[0m         -                                                                             \u001b[2m                 \u001b[0m\n",
       "\u001b[2;36m           \u001b[0m                                                                                       \u001b[2m                 \u001b[0m\n"
      ]
     },
     "metadata": {},
     "output_type": "display_data"
    },
    {
     "data": {
      "text/html": [
       "<pre style=\"white-space:pre;overflow-x:auto;line-height:normal;font-family:Menlo,'DejaVu Sans Mono',consolas,'Courier New',monospace\"><span style=\"color: #7fbfbf; text-decoration-color: #7fbfbf\">[15:02:29] </span><span style=\"color: #000080; text-decoration-color: #000080\">INFO    </span> Iter <span style=\"color: #008080; text-decoration-color: #008080; font-weight: bold\">85</span> evals <span style=\"color: #008080; text-decoration-color: #008080; font-weight: bold\">97</span> <span style=\"font-weight: bold\">&lt;</span><span style=\"color: #ff00ff; text-decoration-color: #ff00ff; font-weight: bold\">D</span><span style=\"font-weight: bold\">&gt;</span> <span style=\"font-weight: bold\">[</span>M <span style=\"color: #008080; text-decoration-color: #008080; font-weight: bold\">1</span>,000E0<span style=\"font-weight: bold\">]</span> <span style=\"color: #008080; text-decoration-color: #008080; font-weight: bold\">1</span>,410E3 <span style=\"color: #008080; text-decoration-color: #008080; font-weight: bold\">7</span>,82s |<span style=\"color: #008080; text-decoration-color: #008080; font-weight: bold\">6</span>,372E1| <span style=\"font-weight: bold\">{</span><span style=\"color: #008080; text-decoration-color: #008080; font-weight: bold\">2</span>,181E-<span style=\"color: #008080; text-decoration-color: #008080; font-weight: bold\">3</span><span style=\"font-weight: bold\">}</span> <span style=\"color: #008080; text-decoration-color: #008080; font-weight: bold\">1</span>,257E-<span style=\"color: #008080; text-decoration-color: #008080; font-weight: bold\">3</span>  <a href=\"file:///Users/bockstaller/code/uvl-tore-classifier-bert/src/classifiers/sner/classifier.py\" target=\"_blank\"><span style=\"color: #7f7f7f; text-decoration-color: #7f7f7f\">classifier.py</span></a><span style=\"color: #7f7f7f; text-decoration-color: #7f7f7f\">:</span><a href=\"file:///Users/bockstaller/code/uvl-tore-classifier-bert/src/classifiers/sner/classifier.py#137\" target=\"_blank\"><span style=\"color: #7f7f7f; text-decoration-color: #7f7f7f\">137</span></a>\n",
       "<span style=\"color: #7fbfbf; text-decoration-color: #7fbfbf\">           </span>         -                                                                             <span style=\"color: #7f7f7f; text-decoration-color: #7f7f7f\">                 </span>\n",
       "<span style=\"color: #7fbfbf; text-decoration-color: #7fbfbf\">           </span>                                                                                       <span style=\"color: #7f7f7f; text-decoration-color: #7f7f7f\">                 </span>\n",
       "</pre>\n"
      ],
      "text/plain": [
       "\u001b[2;36m[15:02:29]\u001b[0m\u001b[2;36m \u001b[0m\u001b[34mINFO    \u001b[0m Iter \u001b[1;36m85\u001b[0m evals \u001b[1;36m97\u001b[0m \u001b[1m<\u001b[0m\u001b[1;95mD\u001b[0m\u001b[1m>\u001b[0m \u001b[1m[\u001b[0mM \u001b[1;36m1\u001b[0m,000E0\u001b[1m]\u001b[0m \u001b[1;36m1\u001b[0m,410E3 \u001b[1;36m7\u001b[0m,82s |\u001b[1;36m6\u001b[0m,372E1| \u001b[1m{\u001b[0m\u001b[1;36m2\u001b[0m,181E-\u001b[1;36m3\u001b[0m\u001b[1m}\u001b[0m \u001b[1;36m1\u001b[0m,257E-\u001b[1;36m3\u001b[0m  \u001b]8;id=243079;file:///Users/bockstaller/code/uvl-tore-classifier-bert/src/classifiers/sner/classifier.py\u001b\\\u001b[2mclassifier.py\u001b[0m\u001b]8;;\u001b\\\u001b[2m:\u001b[0m\u001b]8;id=347408;file:///Users/bockstaller/code/uvl-tore-classifier-bert/src/classifiers/sner/classifier.py#137\u001b\\\u001b[2m137\u001b[0m\u001b]8;;\u001b\\\n",
       "\u001b[2;36m           \u001b[0m         -                                                                             \u001b[2m                 \u001b[0m\n",
       "\u001b[2;36m           \u001b[0m                                                                                       \u001b[2m                 \u001b[0m\n"
      ]
     },
     "metadata": {},
     "output_type": "display_data"
    },
    {
     "data": {
      "text/html": [
       "<pre style=\"white-space:pre;overflow-x:auto;line-height:normal;font-family:Menlo,'DejaVu Sans Mono',consolas,'Courier New',monospace\"><span style=\"color: #7fbfbf; text-decoration-color: #7fbfbf\">[15:02:30] </span><span style=\"color: #000080; text-decoration-color: #000080\">INFO    </span> Iter <span style=\"color: #008080; text-decoration-color: #008080; font-weight: bold\">95</span> evals <span style=\"color: #008080; text-decoration-color: #008080; font-weight: bold\">109</span> <span style=\"font-weight: bold\">&lt;</span><span style=\"color: #ff00ff; text-decoration-color: #ff00ff; font-weight: bold\">D</span><span style=\"font-weight: bold\">&gt;</span> <span style=\"font-weight: bold\">[</span>M <span style=\"color: #008080; text-decoration-color: #008080; font-weight: bold\">1</span>,000E0<span style=\"font-weight: bold\">]</span> <span style=\"color: #008080; text-decoration-color: #008080; font-weight: bold\">1</span>,404E3 <span style=\"color: #008080; text-decoration-color: #008080; font-weight: bold\">8</span>,85s |<span style=\"color: #008080; text-decoration-color: #008080; font-weight: bold\">7</span>,624E0| <span style=\"font-weight: bold\">{</span><span style=\"color: #008080; text-decoration-color: #008080; font-weight: bold\">2</span>,610E-<span style=\"color: #008080; text-decoration-color: #008080; font-weight: bold\">4</span><span style=\"font-weight: bold\">}</span> <span style=\"color: #008080; text-decoration-color: #008080; font-weight: bold\">3</span>,072E-<span style=\"color: #008080; text-decoration-color: #008080; font-weight: bold\">4</span> <a href=\"file:///Users/bockstaller/code/uvl-tore-classifier-bert/src/classifiers/sner/classifier.py\" target=\"_blank\"><span style=\"color: #7f7f7f; text-decoration-color: #7f7f7f\">classifier.py</span></a><span style=\"color: #7f7f7f; text-decoration-color: #7f7f7f\">:</span><a href=\"file:///Users/bockstaller/code/uvl-tore-classifier-bert/src/classifiers/sner/classifier.py#137\" target=\"_blank\"><span style=\"color: #7f7f7f; text-decoration-color: #7f7f7f\">137</span></a>\n",
       "<span style=\"color: #7fbfbf; text-decoration-color: #7fbfbf\">           </span>         -                                                                             <span style=\"color: #7f7f7f; text-decoration-color: #7f7f7f\">                 </span>\n",
       "<span style=\"color: #7fbfbf; text-decoration-color: #7fbfbf\">           </span>                                                                                       <span style=\"color: #7f7f7f; text-decoration-color: #7f7f7f\">                 </span>\n",
       "</pre>\n"
      ],
      "text/plain": [
       "\u001b[2;36m[15:02:30]\u001b[0m\u001b[2;36m \u001b[0m\u001b[34mINFO    \u001b[0m Iter \u001b[1;36m95\u001b[0m evals \u001b[1;36m109\u001b[0m \u001b[1m<\u001b[0m\u001b[1;95mD\u001b[0m\u001b[1m>\u001b[0m \u001b[1m[\u001b[0mM \u001b[1;36m1\u001b[0m,000E0\u001b[1m]\u001b[0m \u001b[1;36m1\u001b[0m,404E3 \u001b[1;36m8\u001b[0m,85s |\u001b[1;36m7\u001b[0m,624E0| \u001b[1m{\u001b[0m\u001b[1;36m2\u001b[0m,610E-\u001b[1;36m4\u001b[0m\u001b[1m}\u001b[0m \u001b[1;36m3\u001b[0m,072E-\u001b[1;36m4\u001b[0m \u001b]8;id=881336;file:///Users/bockstaller/code/uvl-tore-classifier-bert/src/classifiers/sner/classifier.py\u001b\\\u001b[2mclassifier.py\u001b[0m\u001b]8;;\u001b\\\u001b[2m:\u001b[0m\u001b]8;id=469655;file:///Users/bockstaller/code/uvl-tore-classifier-bert/src/classifiers/sner/classifier.py#137\u001b\\\u001b[2m137\u001b[0m\u001b]8;;\u001b\\\n",
       "\u001b[2;36m           \u001b[0m         -                                                                             \u001b[2m                 \u001b[0m\n",
       "\u001b[2;36m           \u001b[0m                                                                                       \u001b[2m                 \u001b[0m\n"
      ]
     },
     "metadata": {},
     "output_type": "display_data"
    },
    {
     "data": {
      "text/html": [
       "<pre style=\"white-space:pre;overflow-x:auto;line-height:normal;font-family:Menlo,'DejaVu Sans Mono',consolas,'Courier New',monospace\"><span style=\"color: #7fbfbf; text-decoration-color: #7fbfbf\">           </span><span style=\"color: #000080; text-decoration-color: #000080\">INFO    </span> Total time spent in optimization: <span style=\"color: #008080; text-decoration-color: #008080; font-weight: bold\">9</span>,71s                                       <a href=\"file:///Users/bockstaller/code/uvl-tore-classifier-bert/src/classifiers/sner/classifier.py\" target=\"_blank\"><span style=\"color: #7f7f7f; text-decoration-color: #7f7f7f\">classifier.py</span></a><span style=\"color: #7f7f7f; text-decoration-color: #7f7f7f\">:</span><a href=\"file:///Users/bockstaller/code/uvl-tore-classifier-bert/src/classifiers/sner/classifier.py#137\" target=\"_blank\"><span style=\"color: #7f7f7f; text-decoration-color: #7f7f7f\">137</span></a>\n",
       "<span style=\"color: #7fbfbf; text-decoration-color: #7fbfbf\">           </span>                                                                                       <span style=\"color: #7f7f7f; text-decoration-color: #7f7f7f\">                 </span>\n",
       "</pre>\n"
      ],
      "text/plain": [
       "\u001b[2;36m          \u001b[0m\u001b[2;36m \u001b[0m\u001b[34mINFO    \u001b[0m Total time spent in optimization: \u001b[1;36m9\u001b[0m,71s                                       \u001b]8;id=711717;file:///Users/bockstaller/code/uvl-tore-classifier-bert/src/classifiers/sner/classifier.py\u001b\\\u001b[2mclassifier.py\u001b[0m\u001b]8;;\u001b\\\u001b[2m:\u001b[0m\u001b]8;id=388635;file:///Users/bockstaller/code/uvl-tore-classifier-bert/src/classifiers/sner/classifier.py#137\u001b\\\u001b[2m137\u001b[0m\u001b]8;;\u001b\\\n",
       "\u001b[2;36m           \u001b[0m                                                                                       \u001b[2m                 \u001b[0m\n"
      ]
     },
     "metadata": {},
     "output_type": "display_data"
    },
    {
     "data": {
      "text/html": [
       "<pre style=\"white-space:pre;overflow-x:auto;line-height:normal;font-family:Menlo,'DejaVu Sans Mono',consolas,'Courier New',monospace\"><span style=\"color: #7fbfbf; text-decoration-color: #7fbfbf\">[15:02:31] </span><span style=\"color: #000080; text-decoration-color: #000080\">INFO    </span> Trained model for <span style=\"color: #808000; text-decoration-color: #808000\">iteration</span>=<span style=\"color: #008080; text-decoration-color: #008080; font-weight: bold\">0</span>, stored at                                      <a href=\"file:///Users/bockstaller/code/uvl-tore-classifier-bert/src/classifiers/sner/classifier.py\" target=\"_blank\"><span style=\"color: #7f7f7f; text-decoration-color: #7f7f7f\">classifier.py</span></a><span style=\"color: #7f7f7f; text-decoration-color: #7f7f7f\">:</span><a href=\"file:///Users/bockstaller/code/uvl-tore-classifier-bert/src/classifiers/sner/classifier.py#144\" target=\"_blank\"><span style=\"color: #7f7f7f; text-decoration-color: #7f7f7f\">144</span></a>\n",
       "<span style=\"color: #7fbfbf; text-decoration-color: #7fbfbf\">           </span>         <span style=\"color: #808000; text-decoration-color: #808000\">filepath</span>=<span style=\"color: #800080; text-decoration-color: #800080; font-weight: bold\">PosixPath</span><span style=\"font-weight: bold\">(</span><span style=\"color: #008000; text-decoration-color: #008000\">'/Users/bockstaller/code/uvl-tore-classifier-bert/src/data</span> <span style=\"color: #7f7f7f; text-decoration-color: #7f7f7f\">                 </span>\n",
       "<span style=\"color: #7fbfbf; text-decoration-color: #7fbfbf\">           </span>         <span style=\"color: #008000; text-decoration-color: #008000\">/temp/sner/judicious-calf-851/0_model.ser.gz'</span><span style=\"font-weight: bold\">)</span>                                <span style=\"color: #7f7f7f; text-decoration-color: #7f7f7f\">                 </span>\n",
       "</pre>\n"
      ],
      "text/plain": [
       "\u001b[2;36m[15:02:31]\u001b[0m\u001b[2;36m \u001b[0m\u001b[34mINFO    \u001b[0m Trained model for \u001b[33miteration\u001b[0m=\u001b[1;36m0\u001b[0m, stored at                                      \u001b]8;id=735547;file:///Users/bockstaller/code/uvl-tore-classifier-bert/src/classifiers/sner/classifier.py\u001b\\\u001b[2mclassifier.py\u001b[0m\u001b]8;;\u001b\\\u001b[2m:\u001b[0m\u001b]8;id=177802;file:///Users/bockstaller/code/uvl-tore-classifier-bert/src/classifiers/sner/classifier.py#144\u001b\\\u001b[2m144\u001b[0m\u001b]8;;\u001b\\\n",
       "\u001b[2;36m           \u001b[0m         \u001b[33mfilepath\u001b[0m=\u001b[1;35mPosixPath\u001b[0m\u001b[1m(\u001b[0m\u001b[32m'/Users/bockstaller/code/uvl-tore-classifier-bert/src/data\u001b[0m \u001b[2m                 \u001b[0m\n",
       "\u001b[2;36m           \u001b[0m         \u001b[32m/temp/sner/judicious-calf-851/0_model.ser.gz'\u001b[0m\u001b[1m)\u001b[0m                                \u001b[2m                 \u001b[0m\n"
      ]
     },
     "metadata": {},
     "output_type": "display_data"
    },
    {
     "data": {
      "text/html": [
       "<pre style=\"white-space:pre;overflow-x:auto;line-height:normal;font-family:Menlo,'DejaVu Sans Mono',consolas,'Courier New',monospace\"><span style=\"color: #7fbfbf; text-decoration-color: #7fbfbf\">[15:02:32] </span><span style=\"color: #000080; text-decoration-color: #000080\">INFO    </span> Logged classification results for iteration <span style=\"color: #008080; text-decoration-color: #008080; font-weight: bold\">0</span> at                              <a href=\"file:///Users/bockstaller/code/uvl-tore-classifier-bert/src/classifiers/sner/classifier.py\" target=\"_blank\"><span style=\"color: #7f7f7f; text-decoration-color: #7f7f7f\">classifier.py</span></a><span style=\"color: #7f7f7f; text-decoration-color: #7f7f7f\">:</span><a href=\"file:///Users/bockstaller/code/uvl-tore-classifier-bert/src/classifiers/sner/classifier.py#203\" target=\"_blank\"><span style=\"color: #7f7f7f; text-decoration-color: #7f7f7f\">203</span></a>\n",
       "<span style=\"color: #7fbfbf; text-decoration-color: #7fbfbf\">           </span>         <span style=\"color: #800080; text-decoration-color: #800080\">/Users/bockstaller/code/uvl-tore-classifier-bert/src/data/temp/sner/judicious</span> <span style=\"color: #7f7f7f; text-decoration-color: #7f7f7f\">                 </span>\n",
       "<span style=\"color: #7fbfbf; text-decoration-color: #7fbfbf\">           </span>         <span style=\"color: #800080; text-decoration-color: #800080\">-calf-851/</span><span style=\"color: #ff00ff; text-decoration-color: #ff00ff\">0_classification_result.pickle</span>,                                     <span style=\"color: #7f7f7f; text-decoration-color: #7f7f7f\">                 </span>\n",
       "<span style=\"color: #7fbfbf; text-decoration-color: #7fbfbf\">           </span>         <span style=\"color: #800080; text-decoration-color: #800080\">/Users/bockstaller/code/uvl-tore-classifier-bert/src/data/temp/sner/judicious</span> <span style=\"color: #7f7f7f; text-decoration-color: #7f7f7f\">                 </span>\n",
       "<span style=\"color: #7fbfbf; text-decoration-color: #7fbfbf\">           </span>         <span style=\"color: #800080; text-decoration-color: #800080\">-calf-851/</span><span style=\"color: #ff00ff; text-decoration-color: #ff00ff\">0_classification_result.csv</span>                                         <span style=\"color: #7f7f7f; text-decoration-color: #7f7f7f\">                 </span>\n",
       "</pre>\n"
      ],
      "text/plain": [
       "\u001b[2;36m[15:02:32]\u001b[0m\u001b[2;36m \u001b[0m\u001b[34mINFO    \u001b[0m Logged classification results for iteration \u001b[1;36m0\u001b[0m at                              \u001b]8;id=713793;file:///Users/bockstaller/code/uvl-tore-classifier-bert/src/classifiers/sner/classifier.py\u001b\\\u001b[2mclassifier.py\u001b[0m\u001b]8;;\u001b\\\u001b[2m:\u001b[0m\u001b]8;id=848541;file:///Users/bockstaller/code/uvl-tore-classifier-bert/src/classifiers/sner/classifier.py#203\u001b\\\u001b[2m203\u001b[0m\u001b]8;;\u001b\\\n",
       "\u001b[2;36m           \u001b[0m         \u001b[35m/Users/bockstaller/code/uvl-tore-classifier-bert/src/data/temp/sner/judicious\u001b[0m \u001b[2m                 \u001b[0m\n",
       "\u001b[2;36m           \u001b[0m         \u001b[35m-calf-851/\u001b[0m\u001b[95m0_classification_result.pickle\u001b[0m,                                     \u001b[2m                 \u001b[0m\n",
       "\u001b[2;36m           \u001b[0m         \u001b[35m/Users/bockstaller/code/uvl-tore-classifier-bert/src/data/temp/sner/judicious\u001b[0m \u001b[2m                 \u001b[0m\n",
       "\u001b[2;36m           \u001b[0m         \u001b[35m-calf-851/\u001b[0m\u001b[95m0_classification_result.csv\u001b[0m                                         \u001b[2m                 \u001b[0m\n"
      ]
     },
     "metadata": {},
     "output_type": "display_data"
    },
    {
     "data": {
      "text/html": [
       "<pre style=\"white-space:pre;overflow-x:auto;line-height:normal;font-family:Menlo,'DejaVu Sans Mono',consolas,'Courier New',monospace\"><span style=\"color: #7fbfbf; text-decoration-color: #7fbfbf\">           </span><span style=\"color: #000080; text-decoration-color: #000080\">INFO    </span> Logged solutions for iteration <span style=\"color: #008080; text-decoration-color: #008080; font-weight: bold\">0</span> at                                           <a href=\"file:///Users/bockstaller/code/uvl-tore-classifier-bert/src/classifiers/sner/classifier.py\" target=\"_blank\"><span style=\"color: #7f7f7f; text-decoration-color: #7f7f7f\">classifier.py</span></a><span style=\"color: #7f7f7f; text-decoration-color: #7f7f7f\">:</span><a href=\"file:///Users/bockstaller/code/uvl-tore-classifier-bert/src/classifiers/sner/classifier.py#314\" target=\"_blank\"><span style=\"color: #7f7f7f; text-decoration-color: #7f7f7f\">314</span></a>\n",
       "<span style=\"color: #7fbfbf; text-decoration-color: #7fbfbf\">           </span>         <span style=\"color: #800080; text-decoration-color: #800080\">/Users/bockstaller/code/uvl-tore-classifier-bert/src/data/temp/sner/judicious</span> <span style=\"color: #7f7f7f; text-decoration-color: #7f7f7f\">                 </span>\n",
       "<span style=\"color: #7fbfbf; text-decoration-color: #7fbfbf\">           </span>         <span style=\"color: #800080; text-decoration-color: #800080\">-calf-851/</span><span style=\"color: #ff00ff; text-decoration-color: #ff00ff\">0_solution.pickle</span>,                                                  <span style=\"color: #7f7f7f; text-decoration-color: #7f7f7f\">                 </span>\n",
       "<span style=\"color: #7fbfbf; text-decoration-color: #7fbfbf\">           </span>         <span style=\"color: #800080; text-decoration-color: #800080\">/Users/bockstaller/code/uvl-tore-classifier-bert/src/data/temp/sner/judicious</span> <span style=\"color: #7f7f7f; text-decoration-color: #7f7f7f\">                 </span>\n",
       "<span style=\"color: #7fbfbf; text-decoration-color: #7fbfbf\">           </span>         <span style=\"color: #800080; text-decoration-color: #800080\">-calf-851/</span><span style=\"color: #ff00ff; text-decoration-color: #ff00ff\">0_solution.csv</span>                                                      <span style=\"color: #7f7f7f; text-decoration-color: #7f7f7f\">                 </span>\n",
       "</pre>\n"
      ],
      "text/plain": [
       "\u001b[2;36m          \u001b[0m\u001b[2;36m \u001b[0m\u001b[34mINFO    \u001b[0m Logged solutions for iteration \u001b[1;36m0\u001b[0m at                                           \u001b]8;id=568027;file:///Users/bockstaller/code/uvl-tore-classifier-bert/src/classifiers/sner/classifier.py\u001b\\\u001b[2mclassifier.py\u001b[0m\u001b]8;;\u001b\\\u001b[2m:\u001b[0m\u001b]8;id=91782;file:///Users/bockstaller/code/uvl-tore-classifier-bert/src/classifiers/sner/classifier.py#314\u001b\\\u001b[2m314\u001b[0m\u001b]8;;\u001b\\\n",
       "\u001b[2;36m           \u001b[0m         \u001b[35m/Users/bockstaller/code/uvl-tore-classifier-bert/src/data/temp/sner/judicious\u001b[0m \u001b[2m                 \u001b[0m\n",
       "\u001b[2;36m           \u001b[0m         \u001b[35m-calf-851/\u001b[0m\u001b[95m0_solution.pickle\u001b[0m,                                                  \u001b[2m                 \u001b[0m\n",
       "\u001b[2;36m           \u001b[0m         \u001b[35m/Users/bockstaller/code/uvl-tore-classifier-bert/src/data/temp/sner/judicious\u001b[0m \u001b[2m                 \u001b[0m\n",
       "\u001b[2;36m           \u001b[0m         \u001b[35m-calf-851/\u001b[0m\u001b[95m0_solution.csv\u001b[0m                                                      \u001b[2m                 \u001b[0m\n"
      ]
     },
     "metadata": {},
     "output_type": "display_data"
    },
    {
     "data": {
      "text/html": [
       "<pre style=\"white-space:pre;overflow-x:auto;line-height:normal;font-family:Menlo,'DejaVu Sans Mono',consolas,'Courier New',monospace\"><span style=\"color: #7fbfbf; text-decoration-color: #7fbfbf\">[15:02:33] </span><span style=\"color: #000080; text-decoration-color: #000080\">INFO    </span> Logged iteration result res.<span style=\"color: #808000; text-decoration-color: #808000\">precision</span>=<span style=\"color: #008080; text-decoration-color: #008080; font-weight: bold\">0.8193179787437472</span>                      <a href=\"file:///Users/bockstaller/code/uvl-tore-classifier-bert/src/tooling/evaluation.py\" target=\"_blank\"><span style=\"color: #7f7f7f; text-decoration-color: #7f7f7f\">evaluation.py</span></a><span style=\"color: #7f7f7f; text-decoration-color: #7f7f7f\">:</span><a href=\"file:///Users/bockstaller/code/uvl-tore-classifier-bert/src/tooling/evaluation.py#262\" target=\"_blank\"><span style=\"color: #7f7f7f; text-decoration-color: #7f7f7f\">262</span></a>\n",
       "<span style=\"color: #7fbfbf; text-decoration-color: #7fbfbf\">           </span>         res.<span style=\"color: #808000; text-decoration-color: #808000\">recall</span>=<span style=\"color: #008080; text-decoration-color: #008080; font-weight: bold\">0.7674309316033996</span>                                                 <span style=\"color: #7f7f7f; text-decoration-color: #7f7f7f\">                 </span>\n",
       "</pre>\n"
      ],
      "text/plain": [
       "\u001b[2;36m[15:02:33]\u001b[0m\u001b[2;36m \u001b[0m\u001b[34mINFO    \u001b[0m Logged iteration result res.\u001b[33mprecision\u001b[0m=\u001b[1;36m0\u001b[0m\u001b[1;36m.8193179787437472\u001b[0m                      \u001b]8;id=632143;file:///Users/bockstaller/code/uvl-tore-classifier-bert/src/tooling/evaluation.py\u001b\\\u001b[2mevaluation.py\u001b[0m\u001b]8;;\u001b\\\u001b[2m:\u001b[0m\u001b]8;id=181835;file:///Users/bockstaller/code/uvl-tore-classifier-bert/src/tooling/evaluation.py#262\u001b\\\u001b[2m262\u001b[0m\u001b]8;;\u001b\\\n",
       "\u001b[2;36m           \u001b[0m         res.\u001b[33mrecall\u001b[0m=\u001b[1;36m0\u001b[0m\u001b[1;36m.7674309316033996\u001b[0m                                                 \u001b[2m                 \u001b[0m\n"
      ]
     },
     "metadata": {},
     "output_type": "display_data"
    },
    {
     "data": {
      "text/html": [
       "<pre style=\"white-space:pre;overflow-x:auto;line-height:normal;font-family:Menlo,'DejaVu Sans Mono',consolas,'Courier New',monospace\"><span style=\"color: #7fbfbf; text-decoration-color: #7fbfbf\">           </span><span style=\"color: #000080; text-decoration-color: #000080\">INFO    </span> Finished <span style=\"color: #808000; text-decoration-color: #808000\">iteration</span>=<span style=\"color: #008080; text-decoration-color: #008080; font-weight: bold\">0</span>                                                             <a href=\"file:///Users/bockstaller/code/uvl-tore-classifier-bert/src/classifiers/sner/pipeline.py\" target=\"_blank\"><span style=\"color: #7f7f7f; text-decoration-color: #7f7f7f\">pipeline.py</span></a><span style=\"color: #7f7f7f; text-decoration-color: #7f7f7f\">:</span><a href=\"file:///Users/bockstaller/code/uvl-tore-classifier-bert/src/classifiers/sner/pipeline.py#98\" target=\"_blank\"><span style=\"color: #7f7f7f; text-decoration-color: #7f7f7f\">98</span></a>\n",
       "</pre>\n"
      ],
      "text/plain": [
       "\u001b[2;36m          \u001b[0m\u001b[2;36m \u001b[0m\u001b[34mINFO    \u001b[0m Finished \u001b[33miteration\u001b[0m=\u001b[1;36m0\u001b[0m                                                             \u001b]8;id=641126;file:///Users/bockstaller/code/uvl-tore-classifier-bert/src/classifiers/sner/pipeline.py\u001b\\\u001b[2mpipeline.py\u001b[0m\u001b]8;;\u001b\\\u001b[2m:\u001b[0m\u001b]8;id=513113;file:///Users/bockstaller/code/uvl-tore-classifier-bert/src/classifiers/sner/pipeline.py#98\u001b\\\u001b[2m98\u001b[0m\u001b]8;;\u001b\\\n"
      ]
     },
     "metadata": {},
     "output_type": "display_data"
    },
    {
     "data": {
      "text/html": [
       "<pre style=\"white-space:pre;overflow-x:auto;line-height:normal;font-family:Menlo,'DejaVu Sans Mono',consolas,'Courier New',monospace\"><span style=\"color: #7fbfbf; text-decoration-color: #7fbfbf\">           </span><span style=\"color: #000080; text-decoration-color: #000080\">INFO    </span> Breaking early after <span style=\"color: #808000; text-decoration-color: #808000\">iteration</span>=<span style=\"color: #008080; text-decoration-color: #008080; font-weight: bold\">0</span> of <span style=\"color: #008080; text-decoration-color: #008080; font-weight: bold\">5</span> folds                                     <a href=\"file:///Users/bockstaller/code/uvl-tore-classifier-bert/src/classifiers/sner/pipeline.py\" target=\"_blank\"><span style=\"color: #7f7f7f; text-decoration-color: #7f7f7f\">pipeline.py</span></a><span style=\"color: #7f7f7f; text-decoration-color: #7f7f7f\">:</span><a href=\"file:///Users/bockstaller/code/uvl-tore-classifier-bert/src/classifiers/sner/pipeline.py#102\" target=\"_blank\"><span style=\"color: #7f7f7f; text-decoration-color: #7f7f7f\">102</span></a>\n",
       "</pre>\n"
      ],
      "text/plain": [
       "\u001b[2;36m          \u001b[0m\u001b[2;36m \u001b[0m\u001b[34mINFO    \u001b[0m Breaking early after \u001b[33miteration\u001b[0m=\u001b[1;36m0\u001b[0m of \u001b[1;36m5\u001b[0m folds                                     \u001b]8;id=744384;file:///Users/bockstaller/code/uvl-tore-classifier-bert/src/classifiers/sner/pipeline.py\u001b\\\u001b[2mpipeline.py\u001b[0m\u001b]8;;\u001b\\\u001b[2m:\u001b[0m\u001b]8;id=320853;file:///Users/bockstaller/code/uvl-tore-classifier-bert/src/classifiers/sner/pipeline.py#102\u001b\\\u001b[2m102\u001b[0m\u001b]8;;\u001b\\\n"
      ]
     },
     "metadata": {},
     "output_type": "display_data"
    },
    {
     "data": {
      "text/html": [
       "<pre style=\"white-space:pre;overflow-x:auto;line-height:normal;font-family:Menlo,'DejaVu Sans Mono',consolas,'Courier New',monospace\"><span style=\"color: #7fbfbf; text-decoration-color: #7fbfbf\">           </span><span style=\"color: #000080; text-decoration-color: #000080\">INFO    </span> Logged experiment result res.<span style=\"color: #808000; text-decoration-color: #808000\">mean_precision</span>=<span style=\"color: #008080; text-decoration-color: #008080; font-weight: bold\">0.8193179787437472</span>                <a href=\"file:///Users/bockstaller/code/uvl-tore-classifier-bert/src/tooling/evaluation.py\" target=\"_blank\"><span style=\"color: #7f7f7f; text-decoration-color: #7f7f7f\">evaluation.py</span></a><span style=\"color: #7f7f7f; text-decoration-color: #7f7f7f\">:</span><a href=\"file:///Users/bockstaller/code/uvl-tore-classifier-bert/src/tooling/evaluation.py#305\" target=\"_blank\"><span style=\"color: #7f7f7f; text-decoration-color: #7f7f7f\">305</span></a>\n",
       "<span style=\"color: #7fbfbf; text-decoration-color: #7fbfbf\">           </span>         res.<span style=\"color: #808000; text-decoration-color: #808000\">mean_recall</span>=<span style=\"color: #008080; text-decoration-color: #008080; font-weight: bold\">0.7674309316033996</span>                                            <span style=\"color: #7f7f7f; text-decoration-color: #7f7f7f\">                 </span>\n",
       "</pre>\n"
      ],
      "text/plain": [
       "\u001b[2;36m          \u001b[0m\u001b[2;36m \u001b[0m\u001b[34mINFO    \u001b[0m Logged experiment result res.\u001b[33mmean_precision\u001b[0m=\u001b[1;36m0\u001b[0m\u001b[1;36m.8193179787437472\u001b[0m                \u001b]8;id=827273;file:///Users/bockstaller/code/uvl-tore-classifier-bert/src/tooling/evaluation.py\u001b\\\u001b[2mevaluation.py\u001b[0m\u001b]8;;\u001b\\\u001b[2m:\u001b[0m\u001b]8;id=820191;file:///Users/bockstaller/code/uvl-tore-classifier-bert/src/tooling/evaluation.py#305\u001b\\\u001b[2m305\u001b[0m\u001b]8;;\u001b\\\n",
       "\u001b[2;36m           \u001b[0m         res.\u001b[33mmean_recall\u001b[0m=\u001b[1;36m0\u001b[0m\u001b[1;36m.7674309316033996\u001b[0m                                            \u001b[2m                 \u001b[0m\n"
      ]
     },
     "metadata": {},
     "output_type": "display_data"
    },
    {
     "data": {
      "text/html": [
       "<pre style=\"white-space:pre;overflow-x:auto;line-height:normal;font-family:Menlo,'DejaVu Sans Mono',consolas,'Courier New',monospace\"><span style=\"color: #7fbfbf; text-decoration-color: #7fbfbf\">           </span><span style=\"color: #000080; text-decoration-color: #000080\">INFO    </span> Left mlflow context                                                                  <a href=\"file:///Users/bockstaller/code/uvl-tore-classifier-bert/src/experiments/sner.py\" target=\"_blank\"><span style=\"color: #7f7f7f; text-decoration-color: #7f7f7f\">sner.py</span></a><span style=\"color: #7f7f7f; text-decoration-color: #7f7f7f\">:</span><a href=\"file:///Users/bockstaller/code/uvl-tore-classifier-bert/src/experiments/sner.py#47\" target=\"_blank\"><span style=\"color: #7f7f7f; text-decoration-color: #7f7f7f\">47</span></a>\n",
       "</pre>\n"
      ],
      "text/plain": [
       "\u001b[2;36m          \u001b[0m\u001b[2;36m \u001b[0m\u001b[34mINFO    \u001b[0m Left mlflow context                                                                  \u001b]8;id=476417;file:///Users/bockstaller/code/uvl-tore-classifier-bert/src/experiments/sner.py\u001b\\\u001b[2msner.py\u001b[0m\u001b]8;;\u001b\\\u001b[2m:\u001b[0m\u001b]8;id=737079;file:///Users/bockstaller/code/uvl-tore-classifier-bert/src/experiments/sner.py#47\u001b\\\u001b[2m47\u001b[0m\u001b]8;;\u001b\\\n"
      ]
     },
     "metadata": {},
     "output_type": "display_data"
    }
   ],
   "source": [
    "cs = ConfigStore.instance()\n",
    "cs.store(name=\"base_config\", node=SNERConfig)\n",
    "\n",
    "\n",
    "with initialize(version_base=None, config_path=\"src/experiments/conf\"):\n",
    "    cfg = compose(config_name=\"single_sner\")\n",
    "    print(OmegaConf.to_yaml(cfg))\n",
    "    sner(cfg)"
   ]
  },
  {
   "cell_type": "code",
   "execution_count": null,
   "metadata": {},
   "outputs": [],
   "source": []
  }
 ],
 "metadata": {
  "kernelspec": {
   "display_name": "venv",
   "language": "python",
   "name": "python3"
  },
  "language_info": {
   "codemirror_mode": {
    "name": "ipython",
    "version": 3
   },
   "file_extension": ".py",
   "mimetype": "text/x-python",
   "name": "python",
   "nbconvert_exporter": "python",
   "pygments_lexer": "ipython3",
   "version": "3.11.4"
  },
  "orig_nbformat": 4
 },
 "nbformat": 4,
 "nbformat_minor": 2
}
