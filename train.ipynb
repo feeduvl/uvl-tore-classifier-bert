{
 "cells": [
  {
   "cell_type": "code",
   "execution_count": 1,
   "metadata": {
    "ExecuteTime": {
     "end_time": "2024-08-08T09:42:55.361135Z",
     "start_time": "2024-08-08T09:42:55.306071Z"
    }
   },
   "outputs": [],
   "source": [
    "%load_ext autoreload\n",
    "%autoreload 2\n"
   ]
  },
  {
   "cell_type": "code",
   "execution_count": 2,
   "metadata": {
    "ExecuteTime": {
     "end_time": "2024-08-08T09:43:03.966488Z",
     "start_time": "2024-08-08T09:42:55.705458Z"
    }
   },
   "outputs": [],
   "source": [
    "import logging\n",
    "import shutil\n",
    "from omegaconf import OmegaConf\n",
    "from hydra import initialize, compose\n",
    "from hydra.core.config_store import ConfigStore\n",
    "import mlflow\n",
    "from src.experiments.sner import sner\n",
    "from pathlib import Path\n",
    "\n",
    "import os\n",
    "\n",
    "logging.basicConfig(\n",
    "    format=\"%(asctime)s %(levelname)s:%(message)s\",\n",
    "    level=logging.INFO,\n",
    "    datefmt=\"%I:%M:%S\",\n",
    ")\n",
    "logger = logging.getLogger(\"training\")"
   ]
  },
  {
   "cell_type": "code",
   "execution_count": 3,
   "metadata": {
    "ExecuteTime": {
     "end_time": "2024-08-08T09:43:04.106227Z",
     "start_time": "2024-08-08T09:43:03.967492Z"
    }
   },
   "outputs": [
    {
     "data": {
      "text/plain": "'127.0.0.1'"
     },
     "execution_count": 3,
     "metadata": {},
     "output_type": "execute_result"
    }
   ],
   "source": [
    "mlflow.get_tracking_uri()"
   ]
  },
  {
   "cell_type": "code",
   "execution_count": 4,
   "metadata": {
    "ExecuteTime": {
     "end_time": "2024-08-08T09:43:04.248079Z",
     "start_time": "2024-08-08T09:43:04.107229Z"
    }
   },
   "outputs": [
    {
     "name": "stdout",
     "output_type": "stream",
     "text": [
      "run_experiments=True\n",
      "pin_commits=False\n"
     ]
    }
   ],
   "source": [
    "sentence_length = 106\n",
    "\n",
    "run_experiments = os.getenv(\"UVL_BERT_RUN_EXPERIMENTS\", \"True\") == \"True\"\n",
    "pin_commits = os.getenv(\"UVL_BERT_PIN_COMMITS\", \"True\") == \"FALSE\"\n",
    "\n",
    "print(f\"{run_experiments=}\")\n",
    "print(f\"{pin_commits=}\")"
   ]
  },
  {
   "cell_type": "code",
   "execution_count": 5,
   "metadata": {
    "ExecuteTime": {
     "end_time": "2024-08-08T09:43:04.388258Z",
     "start_time": "2024-08-08T09:43:04.249079Z"
    }
   },
   "outputs": [],
   "source": [
    "from tooling.config import Experiment, Transformation\n",
    "#Set Iterations=1 for Split training and testing on datasets. Set dataset to desired dataset split. See tooling.py for split options\n",
    "base_experiment_config = Experiment(\n",
    "    name=\"Base Config 1\",\n",
    "    iterations=1,\n",
    "    force=False,\n",
    "    dataset=\"all\",\n",
    "    lower_case=True,\n",
    ")\n",
    "\n",
    "levels_transformation_config = Transformation(\n",
    "    description=\"Levels\",\n",
    "    type=\"Reduced\",\n",
    "    task=\"Domain_Level\",\n",
    "    domain_data=\"Domain_Level\",\n",
    "    activity=\"Domain_Level\",\n",
    "    stakeholder=\"Domain_Level\",\n",
    "    system_function=\"Interaction_Level\",\n",
    "    interaction=\"Interaction_Level\",\n",
    "    interaction_data=\"Domain_Level\",\n",
    "    workspace=\"Interaction_Level\",\n",
    "    software=\"System_Level\",\n",
    "    internal_action=\"System_Level\",\n",
    "    internal_data=\"System_Level\",\n",
    "    system_level=\"System_Level\",\n",
    ")\n",
    "\n",
    "label_transformation_config = Transformation(\n",
    "    description=\"None\",\n",
    "    type=\"Full\",\n",
    "    task=\"Task\",\n",
    "    domain_data=\"Domain_Data\",\n",
    "    activity=\"Activity\",\n",
    "    stakeholder=\"Stakeholder\",\n",
    "    system_function=\"System_Function\",\n",
    "    interaction=\"Interaction\",\n",
    "    interaction_data=\"Interaction_Data\",\n",
    "    workspace=\"Workspace\",\n",
    "    software=\"System_Level\",\n",
    "    internal_action=\"System_Level\",\n",
    "    internal_data=\"System_Level\",\n",
    "    system_level=\"System_Level\",\n",
    ")"
   ]
  },
  {
   "cell_type": "code",
   "execution_count": 6,
   "metadata": {
    "ExecuteTime": {
     "end_time": "2024-08-08T09:43:04.558574Z",
     "start_time": "2024-08-08T09:43:04.388258Z"
    }
   },
   "outputs": [
    {
     "name": "stderr",
     "output_type": "stream",
     "text": [
      "11:43:04 INFO:Hint Label2Id: hint_label2id={'0': 0, 'System_Level': 1, 'Domain_Level': 2, 'Interaction_Level': 3}\n",
      "11:43:04 INFO:Hint Label2Id: hint_label2id={'0': 0, 'Task': 1, 'Domain_Data': 2, 'Activity': 3, 'Stakeholder': 4, 'System_Function': 5, 'Interaction': 6, 'Interaction_Data': 7, 'Workspace': 8, 'System_Level': 9}\n"
     ]
    }
   ],
   "source": [
    "from tooling.transformation import get_hint_transformation\n",
    "import pickle\n",
    "\n",
    "hint_transformation = get_hint_transformation(\n",
    "    transformation_cfg=OmegaConf.structured(levels_transformation_config)\n",
    ")\n",
    "\n",
    "Path(\"./src/service/models/\").mkdir(parents=True, exist_ok=True)\n",
    "\n",
    "hint_label2id = hint_transformation[\"label2id\"]\n",
    "pickle.dump(\n",
    "    hint_label2id, open(\"./src/service/models/hint_label2id.pickle\", \"wb\")\n",
    ")\n",
    "hint_id2label = {y: x for x, y in hint_label2id.items()}\n",
    "pickle.dump(\n",
    "    hint_id2label, open(\"./src/service/models/hint_id2label.pickle\", \"wb\")\n",
    ")\n",
    "\n",
    "transformation = get_hint_transformation(\n",
    "    transformation_cfg=OmegaConf.structured(label_transformation_config)\n",
    ")\n",
    "label2id = transformation[\"label2id\"]\n",
    "pickle.dump(label2id, open(\"./src/service/models/label2id.pickle\", \"wb\"))\n",
    "id2label = {y: x for x, y in label2id.items()}\n",
    "pickle.dump(id2label, open(\"./src/service/models/id2label.pickle\", \"wb\"))"
   ]
  },
  {
   "cell_type": "markdown",
   "metadata": {},
   "source": [
    "## Train BiLSTM First Stage Model\n"
   ]
  },
  {
   "cell_type": "code",
   "execution_count": 7,
   "metadata": {
    "ExecuteTime": {
     "end_time": "2024-08-08T09:47:08.818672Z",
     "start_time": "2024-08-08T09:44:31.605258Z"
    }
   },
   "outputs": [
    {
     "name": "stderr",
     "output_type": "stream",
     "text": [
      "11:44:45 WARNING:From E:\\BERT\\uvl-tore-classifier-bert\\venv310\\lib\\site-packages\\keras\\src\\losses.py:2976: The name tf.losses.sparse_softmax_cross_entropy is deprecated. Please use tf.compat.v1.losses.sparse_softmax_cross_entropy instead.\n",
      "\n",
      "11:44:46 INFO:\n",
      "bilstm:\n",
      "  type: BiLSTM\n",
      "  sentence_length: 106\n",
      "  batch_size: 16\n",
      "  number_epochs: 5\n",
      "  verbose: 1\n",
      "  weighted_classes: false\n",
      "  learning_rate: 0.006\n",
      "experiment:\n",
      "  name: Production\n",
      "  description: ''\n",
      "  random_state: 125\n",
      "  folds: 5\n",
      "  iterations: 5\n",
      "  average: macro\n",
      "  dataset: all\n",
      "  lower_case: true\n",
      "  force: false\n",
      "  pin_commit: false\n",
      "  smote: false\n",
      "  smote_k_neighbors: 5\n",
      "  smote_sampling_strategy: not majority\n",
      "  smote_balance_to_average: false\n",
      "transformation:\n",
      "  description: Levels\n",
      "  type: Reduced\n",
      "  task: Domain_Level\n",
      "  goals: null\n",
      "  domain_data: Domain_Level\n",
      "  activity: Domain_Level\n",
      "  stakeholder: Domain_Level\n",
      "  system_function: Interaction_Level\n",
      "  interaction: Interaction_Level\n",
      "  interaction_data: Domain_Level\n",
      "  workspace: Interaction_Level\n",
      "  software: System_Level\n",
      "  internal_action: System_Level\n",
      "  internal_data: System_Level\n",
      "  system_level: System_Level\n",
      "\n",
      "11:44:46 INFO:New experiment. Running\n",
      "11:44:46 INFO:Entering mlflow context\n",
      "11:44:54 INFO:PyTorch version 2.3.0+cu118 available.\n",
      "11:44:54 INFO:TensorFlow version 2.15.1 available.\n",
      "11:44:55 INFO:Importing dataset: anno from E:\\BERT\\uvl-tore-classifier-bert\\src\\data\\datasets\\forum\\anno_test.json\n",
      "11:44:55 INFO:Importing dataset: anno from E:\\BERT\\uvl-tore-classifier-bert\\src\\data\\datasets\\forum\\anno_train.json\n",
      "11:44:55 INFO:Importing dataset: prolific from E:\\BERT\\uvl-tore-classifier-bert\\src\\data\\datasets\\prolific\\TORE_Coded_Answers_1_33.json\n",
      "11:44:56 INFO:Importing dataset: prolific from E:\\BERT\\uvl-tore-classifier-bert\\src\\data\\datasets\\prolific\\TORE_Coded_Answers_34_66.json\n",
      "11:44:56 INFO:Importing dataset: prolific from E:\\BERT\\uvl-tore-classifier-bert\\src\\data\\datasets\\prolific\\TORE_Coded_Answers_67_100.json\n",
      "11:44:56 INFO:Importing dataset: komoot from E:\\BERT\\uvl-tore-classifier-bert\\src\\data\\datasets\\app\\Komoot_AppReview.json\n",
      "11:44:57 INFO:Importing dataset: prolific_relevance from E:\\BERT\\uvl-tore-classifier-bert\\src\\data\\datasets\\relevance\\Prolific_1_33_Complete_Relevance_Mapping.json\n",
      "11:44:57 INFO:Importing dataset: prolific_relevance from E:\\BERT\\uvl-tore-classifier-bert\\src\\data\\datasets\\relevance\\Prolific_34_66_Complete_Relevance_Mapping.json\n",
      "11:44:57 INFO:Importing dataset: prolific_relevance from E:\\BERT\\uvl-tore-classifier-bert\\src\\data\\datasets\\relevance\\Prolific_67_100_Complete_Relevance_Mapping.json\n",
      "11:44:57 INFO:Importing dataset: komoot_relevance from E:\\BERT\\uvl-tore-classifier-bert\\src\\data\\datasets\\relevance\\Komoot_AppReview_Relevance_Mapping.json\n",
      "11:44:58 INFO:Importing dataset: spellchecked_prolific from E:\\BERT\\uvl-tore-classifier-bert\\src\\data\\datasets\\spellchecked_ProlificAndKomootAppReview\\Spell_Checked_TORE_Coded_Answers_1_33.json\n",
      "11:44:58 INFO:Importing dataset: spellchecked_prolific from E:\\BERT\\uvl-tore-classifier-bert\\src\\data\\datasets\\spellchecked_ProlificAndKomootAppReview\\Spell_Checked_TORE_Coded_Answers_34_66.json\n",
      "11:44:58 INFO:Importing dataset: spellchecked_prolific from E:\\BERT\\uvl-tore-classifier-bert\\src\\data\\datasets\\spellchecked_ProlificAndKomootAppReview\\Spell_Checked_TORE_Coded_Answers_67_100.json\n",
      "11:44:58 INFO:Importing dataset: spellchecked_komoot from E:\\BERT\\uvl-tore-classifier-bert\\src\\data\\datasets\\spellchecked_ProlificAndKomootAppReview\\Spell_Checked_Komoot_AppReview.json\n",
      "11:44:59 INFO:Importing dataset: spellchecked_prolific_relevance from E:\\BERT\\uvl-tore-classifier-bert\\src\\data\\datasets\\spellchecked_Relevance\\Spell_Checked_Prolific_1_33_Complete_Relevance_Mapping.json\n",
      "11:44:59 INFO:Importing dataset: spellchecked_prolific_relevance from E:\\BERT\\uvl-tore-classifier-bert\\src\\data\\datasets\\spellchecked_Relevance\\Spell_Checked_Prolific_34_66_Complete_Relevance_Mapping.json\n",
      "11:44:59 INFO:Importing dataset: spellchecked_prolific_relevance from E:\\BERT\\uvl-tore-classifier-bert\\src\\data\\datasets\\spellchecked_Relevance\\Spell_Checked_Prolific_67_100_Complete_Relevance_Mapping.json\n",
      "11:44:59 INFO:Importing dataset: spellchecked_komoot_relevance from E:\\BERT\\uvl-tore-classifier-bert\\src\\data\\datasets\\spellchecked_Relevance\\Spell_Checked_Komoot_AppReview_Relevance_Mapping.json\n",
      "11:45:01 INFO:Dataset Labels: transformed_dataset['labels']=['Domain_Level', 'System_Level', '0', 'Interaction_Level']\n",
      "11:45:01 INFO:Configured maximal sentence length: sentence_length = 106\n",
      "11:45:01 INFO:Class weights: {'0': 1.0, 'System_Level': 1.0, 'Domain_Level': 1.0, 'Interaction_Level': 1.0}\n",
      "11:45:02 INFO:Created fold datasets for fold: 0, stored at paths=[WindowsPath('E:/BERT/uvl-tore-classifier-bert/src/data/temp/sampling/big-wolf-404/0_data_train.pickle'), WindowsPath('E:/BERT/uvl-tore-classifier-bert/src/data/temp/sampling/big-wolf-404/0_data_train.csv'), WindowsPath('E:/BERT/uvl-tore-classifier-bert/src/data/temp/sampling/big-wolf-404/0_data_test.pickle'), WindowsPath('E:/BERT/uvl-tore-classifier-bert/src/data/temp/sampling/big-wolf-404/0_data_test.csv')]\n",
      "11:45:02 INFO:Starting iteration=0\n",
      "11:45:02 INFO:loading projection weights from C:\\Users\\mjand/gensim-data\\glove-twitter-100\\glove-twitter-100.gz\n",
      "11:45:46 INFO:KeyedVectors lifecycle event {'msg': 'loaded (1193514, 100) matrix of type float32 from C:\\\\Users\\\\mjand/gensim-data\\\\glove-twitter-100\\\\glove-twitter-100.gz', 'binary': False, 'encoding': 'utf8', 'datetime': '2024-08-08T11:45:46.789161', 'gensim': '4.3.2', 'python': '3.10.0 (tags/v3.10.0:b494f59, Oct  4 2021, 19:00:18) [MSC v.1929 64 bit (AMD64)]', 'platform': 'Windows-10-10.0.22631-SP0', 'event': 'load_word2vec_format'}\n",
      "11:45:48 WARNING:From E:\\BERT\\uvl-tore-classifier-bert\\venv310\\lib\\site-packages\\keras\\src\\backend.py:1398: The name tf.executing_eagerly_outside_functions is deprecated. Please use tf.compat.v1.executing_eagerly_outside_functions instead.\n",
      "\n"
     ]
    },
    {
     "name": "stdout",
     "output_type": "stream",
     "text": [
      "Epoch 1/5\n"
     ]
    },
    {
     "name": "stderr",
     "output_type": "stream",
     "text": [
      "11:45:55 WARNING:From E:\\BERT\\uvl-tore-classifier-bert\\venv310\\lib\\site-packages\\keras\\src\\utils\\tf_utils.py:492: The name tf.ragged.RaggedTensorValue is deprecated. Please use tf.compat.v1.ragged.RaggedTensorValue instead.\n",
      "\n"
     ]
    },
    {
     "name": "stdout",
     "output_type": "stream",
     "text": [
      "143/428 [=========>....................] - ETA: 2:22 - loss: 0.1200 - precision: 0.6846 - recall: 0.6319"
     ]
    },
    {
     "name": "stderr",
     "output_type": "stream",
     "text": [
      "11:47:08 INFO:Keyboard interrupt received\n"
     ]
    },
    {
     "ename": "AttributeError",
     "evalue": "'tuple' object has no attribute 'tb_frame'",
     "output_type": "error",
     "traceback": [
      "\u001B[1;31m---------------------------------------------------------------------------\u001B[0m",
      "\u001B[1;31mKeyboardInterrupt\u001B[0m                         Traceback (most recent call last)",
      "\u001B[1;32mE:\\BERT\\uvl-tore-classifier-bert\\src\\experiments\\bilstm.py\u001B[0m in \u001B[0;36m?\u001B[1;34m(cfg)\u001B[0m\n\u001B[0;32m     35\u001B[0m             \u001B[0mlogging\u001B[0m\u001B[1;33m.\u001B[0m\u001B[0minfo\u001B[0m\u001B[1;33m(\u001B[0m\u001B[1;34m\"Keyboard interrupt received\"\u001B[0m\u001B[1;33m)\u001B[0m\u001B[1;33m\u001B[0m\u001B[1;33m\u001B[0m\u001B[0m\n\u001B[0;32m     36\u001B[0m             \u001B[0mend_tracing\u001B[0m\u001B[1;33m(\u001B[0m\u001B[1;33m)\u001B[0m\u001B[1;33m\u001B[0m\u001B[1;33m\u001B[0m\u001B[0m\n\u001B[1;32m---> 37\u001B[1;33m             \u001B[0msys\u001B[0m\u001B[1;33m.\u001B[0m\u001B[0mexit\u001B[0m\u001B[1;33m(\u001B[0m\u001B[1;33m)\u001B[0m\u001B[1;33m\u001B[0m\u001B[1;33m\u001B[0m\u001B[0m\n\u001B[0m\u001B[0;32m     38\u001B[0m \u001B[1;33m\u001B[0m\u001B[0m\n",
      "\u001B[1;32mE:\\BERT\\uvl-tore-classifier-bert\\src\\classifiers\\bilstm\\pipeline.py\u001B[0m in \u001B[0;36m?\u001B[1;34m(cfg, run_name)\u001B[0m\n\u001B[0;32m     92\u001B[0m \u001B[1;33m\u001B[0m\u001B[0m\n\u001B[0;32m     93\u001B[0m         \u001B[1;31m# Download Model\u001B[0m\u001B[1;33m\u001B[0m\u001B[1;33m\u001B[0m\u001B[0m\n\u001B[1;32m---> 94\u001B[1;33m         processed_data_test = train_bilstm(\n\u001B[0m\u001B[0;32m     95\u001B[0m             \u001B[0mcfg\u001B[0m\u001B[1;33m,\u001B[0m\u001B[1;33m\u001B[0m\u001B[1;33m\u001B[0m\u001B[0m\n",
      "\u001B[1;32mE:\\BERT\\uvl-tore-classifier-bert\\src\\classifiers\\bilstm\\pipeline.py\u001B[0m in \u001B[0;36m?\u001B[1;34m(cfg, run_name, sentence_length, padded_labels, class_weights, label2id, id2label, iteration, data_train, data_test)\u001B[0m\n\u001B[0;32m    198\u001B[0m \u001B[1;33m\u001B[0m\u001B[0m\n\u001B[0;32m    199\u001B[0m     \u001B[1;31m# Train\u001B[0m\u001B[1;33m\u001B[0m\u001B[1;33m\u001B[0m\u001B[0m\n\u001B[1;32m--> 200\u001B[1;33m     model.fit(\n\u001B[0m\u001B[0;32m    201\u001B[0m         \u001B[0mx\u001B[0m\u001B[1;33m=\u001B[0m\u001B[0mnp\u001B[0m\u001B[1;33m.\u001B[0m\u001B[0marray\u001B[0m\u001B[1;33m(\u001B[0m\u001B[0mprocessed_data\u001B[0m\u001B[1;33m[\u001B[0m\u001B[1;34m\"embeddings\"\u001B[0m\u001B[1;33m]\u001B[0m\u001B[1;33m)\u001B[0m\u001B[1;33m,\u001B[0m\u001B[1;33m\u001B[0m\u001B[1;33m\u001B[0m\u001B[0m\n",
      "\u001B[1;32mE:\\BERT\\uvl-tore-classifier-bert\\venv310\\lib\\site-packages\\mlflow\\utils\\autologging_utils\\safety.py\u001B[0m in \u001B[0;36m?\u001B[1;34m(*args, **kwargs)\u001B[0m\n\u001B[0;32m    588\u001B[0m                         \u001B[0mkwargs\u001B[0m\u001B[1;33m,\u001B[0m\u001B[1;33m\u001B[0m\u001B[1;33m\u001B[0m\u001B[0m\n\u001B[0;32m    589\u001B[0m                     )\n\u001B[1;32m--> 590\u001B[1;33m                 \u001B[1;32mexcept\u001B[0m \u001B[0mException\u001B[0m \u001B[1;32mas\u001B[0m \u001B[0me\u001B[0m\u001B[1;33m:\u001B[0m\u001B[1;33m\u001B[0m\u001B[1;33m\u001B[0m\u001B[0m\n\u001B[0m\u001B[0;32m    591\u001B[0m                     \u001B[0msession\u001B[0m\u001B[1;33m.\u001B[0m\u001B[0mstate\u001B[0m \u001B[1;33m=\u001B[0m \u001B[1;34m\"failed\"\u001B[0m\u001B[1;33m\u001B[0m\u001B[1;33m\u001B[0m\u001B[0m\n",
      "\u001B[1;32mE:\\BERT\\uvl-tore-classifier-bert\\venv310\\lib\\site-packages\\mlflow\\utils\\autologging_utils\\safety.py\u001B[0m in \u001B[0;36m?\u001B[1;34m(cls, original, *args, **kwargs)\u001B[0m\n\u001B[0;32m    165\u001B[0m     \u001B[1;33m@\u001B[0m\u001B[0mclassmethod\u001B[0m\u001B[1;33m\u001B[0m\u001B[1;33m\u001B[0m\u001B[0m\n\u001B[0;32m    166\u001B[0m     \u001B[1;32mdef\u001B[0m \u001B[0mcall\u001B[0m\u001B[1;33m(\u001B[0m\u001B[0mcls\u001B[0m\u001B[1;33m,\u001B[0m \u001B[0moriginal\u001B[0m\u001B[1;33m,\u001B[0m \u001B[1;33m*\u001B[0m\u001B[0margs\u001B[0m\u001B[1;33m,\u001B[0m \u001B[1;33m**\u001B[0m\u001B[0mkwargs\u001B[0m\u001B[1;33m)\u001B[0m\u001B[1;33m:\u001B[0m\u001B[1;33m\u001B[0m\u001B[1;33m\u001B[0m\u001B[0m\n\u001B[1;32m--> 167\u001B[1;33m         \u001B[1;32mreturn\u001B[0m \u001B[0mcls\u001B[0m\u001B[1;33m(\u001B[0m\u001B[1;33m)\u001B[0m\u001B[1;33m.\u001B[0m\u001B[0m__call__\u001B[0m\u001B[1;33m(\u001B[0m\u001B[0moriginal\u001B[0m\u001B[1;33m,\u001B[0m \u001B[1;33m*\u001B[0m\u001B[0margs\u001B[0m\u001B[1;33m,\u001B[0m \u001B[1;33m**\u001B[0m\u001B[0mkwargs\u001B[0m\u001B[1;33m)\u001B[0m\u001B[1;33m\u001B[0m\u001B[1;33m\u001B[0m\u001B[0m\n\u001B[0m",
      "\u001B[1;32mE:\\BERT\\uvl-tore-classifier-bert\\venv310\\lib\\site-packages\\mlflow\\utils\\autologging_utils\\safety.py\u001B[0m in \u001B[0;36m?\u001B[1;34m(self, original, *args, **kwargs)\u001B[0m\n\u001B[0;32m    176\u001B[0m                 \u001B[1;31m# Regardless of what happens during the `_on_exception` callback, reraise\u001B[0m\u001B[1;33m\u001B[0m\u001B[1;33m\u001B[0m\u001B[0m\n\u001B[0;32m    177\u001B[0m                 \u001B[1;31m# the original implementation exception once the callback completes\u001B[0m\u001B[1;33m\u001B[0m\u001B[1;33m\u001B[0m\u001B[0m\n\u001B[1;32m--> 178\u001B[1;33m                 \u001B[1;32mraise\u001B[0m \u001B[0me\u001B[0m\u001B[1;33m\u001B[0m\u001B[1;33m\u001B[0m\u001B[0m\n\u001B[0m",
      "\u001B[1;32mE:\\BERT\\uvl-tore-classifier-bert\\venv310\\lib\\site-packages\\mlflow\\utils\\autologging_utils\\safety.py\u001B[0m in \u001B[0;36m?\u001B[1;34m(self, original, *args, **kwargs)\u001B[0m\n\u001B[0;32m    176\u001B[0m                 \u001B[1;31m# Regardless of what happens during the `_on_exception` callback, reraise\u001B[0m\u001B[1;33m\u001B[0m\u001B[1;33m\u001B[0m\u001B[0m\n\u001B[0;32m    177\u001B[0m                 \u001B[1;31m# the original implementation exception once the callback completes\u001B[0m\u001B[1;33m\u001B[0m\u001B[1;33m\u001B[0m\u001B[0m\n\u001B[1;32m--> 178\u001B[1;33m                 \u001B[1;32mraise\u001B[0m \u001B[0me\u001B[0m\u001B[1;33m\u001B[0m\u001B[1;33m\u001B[0m\u001B[0m\n\u001B[0m",
      "\u001B[1;32mE:\\BERT\\uvl-tore-classifier-bert\\venv310\\lib\\site-packages\\mlflow\\utils\\autologging_utils\\safety.py\u001B[0m in \u001B[0;36m?\u001B[1;34m(self, original, *args, **kwargs)\u001B[0m\n\u001B[0;32m    227\u001B[0m                     \u001B[0mself\u001B[0m\u001B[1;33m.\u001B[0m\u001B[0mmanaged_run\u001B[0m \u001B[1;33m=\u001B[0m \u001B[0mcreate_managed_run\u001B[0m\u001B[1;33m(\u001B[0m\u001B[1;33m)\u001B[0m\u001B[1;33m\u001B[0m\u001B[1;33m\u001B[0m\u001B[0m\n\u001B[0;32m    228\u001B[0m \u001B[1;33m\u001B[0m\u001B[0m\n\u001B[1;32m--> 229\u001B[1;33m                 \u001B[0mresult\u001B[0m \u001B[1;33m=\u001B[0m \u001B[0msuper\u001B[0m\u001B[1;33m(\u001B[0m\u001B[1;33m)\u001B[0m\u001B[1;33m.\u001B[0m\u001B[0m_patch_implementation\u001B[0m\u001B[1;33m(\u001B[0m\u001B[0moriginal\u001B[0m\u001B[1;33m,\u001B[0m \u001B[1;33m*\u001B[0m\u001B[0margs\u001B[0m\u001B[1;33m,\u001B[0m \u001B[1;33m**\u001B[0m\u001B[0mkwargs\u001B[0m\u001B[1;33m)\u001B[0m\u001B[1;33m\u001B[0m\u001B[1;33m\u001B[0m\u001B[0m\n\u001B[0m\u001B[0;32m    230\u001B[0m \u001B[1;33m\u001B[0m\u001B[0m\n",
      "\u001B[1;32mE:\\BERT\\uvl-tore-classifier-bert\\venv310\\lib\\site-packages\\mlflow\\tensorflow\\__init__.py\u001B[0m in \u001B[0;36m?\u001B[1;34m(self, original, inst, *args, **kwargs)\u001B[0m\n\u001B[0;32m   1346\u001B[0m                     )\n\u001B[0;32m   1347\u001B[0m \u001B[1;33m\u001B[0m\u001B[0m\n\u001B[1;32m-> 1348\u001B[1;33m             \u001B[0mhistory\u001B[0m \u001B[1;33m=\u001B[0m \u001B[0moriginal\u001B[0m\u001B[1;33m(\u001B[0m\u001B[0minst\u001B[0m\u001B[1;33m,\u001B[0m \u001B[1;33m*\u001B[0m\u001B[0margs\u001B[0m\u001B[1;33m,\u001B[0m \u001B[1;33m**\u001B[0m\u001B[0mkwargs\u001B[0m\u001B[1;33m)\u001B[0m\u001B[1;33m\u001B[0m\u001B[1;33m\u001B[0m\u001B[0m\n\u001B[0m\u001B[0;32m   1349\u001B[0m \u001B[1;33m\u001B[0m\u001B[0m\n",
      "\u001B[1;32mE:\\BERT\\uvl-tore-classifier-bert\\venv310\\lib\\site-packages\\mlflow\\utils\\autologging_utils\\safety.py\u001B[0m in \u001B[0;36m?\u001B[1;34m(*og_args, **og_kwargs)\u001B[0m\n\u001B[0;32m    557\u001B[0m                                 \u001B[1;32mreturn\u001B[0m \u001B[0moriginal_result\u001B[0m\u001B[1;33m\u001B[0m\u001B[1;33m\u001B[0m\u001B[0m\n\u001B[0;32m    558\u001B[0m \u001B[1;33m\u001B[0m\u001B[0m\n\u001B[1;32m--> 559\u001B[1;33m                         \u001B[1;32mreturn\u001B[0m \u001B[0mcall_original_fn_with_event_logging\u001B[0m\u001B[1;33m(\u001B[0m\u001B[0m_original_fn\u001B[0m\u001B[1;33m,\u001B[0m \u001B[0mog_args\u001B[0m\u001B[1;33m,\u001B[0m \u001B[0mog_kwargs\u001B[0m\u001B[1;33m)\u001B[0m\u001B[1;33m\u001B[0m\u001B[1;33m\u001B[0m\u001B[0m\n\u001B[0m",
      "\u001B[1;32mE:\\BERT\\uvl-tore-classifier-bert\\venv310\\lib\\site-packages\\mlflow\\utils\\autologging_utils\\safety.py\u001B[0m in \u001B[0;36m?\u001B[1;34m(original_fn, og_args, og_kwargs)\u001B[0m\n\u001B[0;32m    503\u001B[0m                     )\n\u001B[0;32m    504\u001B[0m                     \u001B[1;32mreturn\u001B[0m \u001B[0moriginal_fn_result\u001B[0m\u001B[1;33m\u001B[0m\u001B[1;33m\u001B[0m\u001B[0m\n\u001B[1;32m--> 505\u001B[1;33m                 \u001B[1;32mexcept\u001B[0m \u001B[0mException\u001B[0m \u001B[1;32mas\u001B[0m \u001B[0moriginal_fn_e\u001B[0m\u001B[1;33m:\u001B[0m\u001B[1;33m\u001B[0m\u001B[1;33m\u001B[0m\u001B[0m\n\u001B[0m\u001B[0;32m    506\u001B[0m                     try_log_autologging_event(\n",
      "\u001B[1;32mE:\\BERT\\uvl-tore-classifier-bert\\venv310\\lib\\site-packages\\mlflow\\utils\\autologging_utils\\safety.py\u001B[0m in \u001B[0;36m?\u001B[1;34m(*_og_args, **_og_kwargs)\u001B[0m\n\u001B[0;32m    554\u001B[0m                                 \u001B[0mreroute_warnings\u001B[0m\u001B[1;33m=\u001B[0m\u001B[1;32mFalse\u001B[0m\u001B[1;33m,\u001B[0m\u001B[1;33m\u001B[0m\u001B[1;33m\u001B[0m\u001B[0m\n\u001B[0;32m    555\u001B[0m                             ):\n\u001B[1;32m--> 556\u001B[1;33m                                 \u001B[0moriginal_result\u001B[0m \u001B[1;33m=\u001B[0m \u001B[0moriginal\u001B[0m\u001B[1;33m(\u001B[0m\u001B[1;33m*\u001B[0m\u001B[0m_og_args\u001B[0m\u001B[1;33m,\u001B[0m \u001B[1;33m**\u001B[0m\u001B[0m_og_kwargs\u001B[0m\u001B[1;33m)\u001B[0m\u001B[1;33m\u001B[0m\u001B[1;33m\u001B[0m\u001B[0m\n\u001B[0m\u001B[0;32m    557\u001B[0m                                 \u001B[1;32mreturn\u001B[0m \u001B[0moriginal_result\u001B[0m\u001B[1;33m\u001B[0m\u001B[1;33m\u001B[0m\u001B[0m\n",
      "\u001B[1;32mE:\\BERT\\uvl-tore-classifier-bert\\venv310\\lib\\site-packages\\keras\\src\\utils\\traceback_utils.py\u001B[0m in \u001B[0;36m?\u001B[1;34m(*args, **kwargs)\u001B[0m\n\u001B[0;32m     70\u001B[0m             \u001B[1;32mraise\u001B[0m \u001B[0me\u001B[0m\u001B[1;33m.\u001B[0m\u001B[0mwith_traceback\u001B[0m\u001B[1;33m(\u001B[0m\u001B[0mfiltered_tb\u001B[0m\u001B[1;33m)\u001B[0m \u001B[1;32mfrom\u001B[0m \u001B[1;32mNone\u001B[0m\u001B[1;33m\u001B[0m\u001B[1;33m\u001B[0m\u001B[0m\n\u001B[0;32m     71\u001B[0m         \u001B[1;32mfinally\u001B[0m\u001B[1;33m:\u001B[0m\u001B[1;33m\u001B[0m\u001B[1;33m\u001B[0m\u001B[0m\n\u001B[1;32m---> 72\u001B[1;33m             \u001B[1;32mdel\u001B[0m \u001B[0mfiltered_tb\u001B[0m\u001B[1;33m\u001B[0m\u001B[1;33m\u001B[0m\u001B[0m\n\u001B[0m",
      "\u001B[1;32mE:\\BERT\\uvl-tore-classifier-bert\\venv310\\lib\\site-packages\\keras\\src\\engine\\training.py\u001B[0m in \u001B[0;36m?\u001B[1;34m(self, x, y, batch_size, epochs, verbose, callbacks, validation_split, validation_data, shuffle, class_weight, sample_weight, initial_epoch, steps_per_epoch, validation_steps, validation_batch_size, validation_freq, max_queue_size, workers, use_multiprocessing)\u001B[0m\n\u001B[0;32m   1805\u001B[0m                         ):\n\u001B[0;32m   1806\u001B[0m                             \u001B[0mcallbacks\u001B[0m\u001B[1;33m.\u001B[0m\u001B[0mon_train_batch_begin\u001B[0m\u001B[1;33m(\u001B[0m\u001B[0mstep\u001B[0m\u001B[1;33m)\u001B[0m\u001B[1;33m\u001B[0m\u001B[1;33m\u001B[0m\u001B[0m\n\u001B[1;32m-> 1807\u001B[1;33m                             \u001B[0mtmp_logs\u001B[0m \u001B[1;33m=\u001B[0m \u001B[0mself\u001B[0m\u001B[1;33m.\u001B[0m\u001B[0mtrain_function\u001B[0m\u001B[1;33m(\u001B[0m\u001B[0miterator\u001B[0m\u001B[1;33m)\u001B[0m\u001B[1;33m\u001B[0m\u001B[1;33m\u001B[0m\u001B[0m\n\u001B[0m\u001B[0;32m   1808\u001B[0m                             \u001B[1;32mif\u001B[0m \u001B[0mdata_handler\u001B[0m\u001B[1;33m.\u001B[0m\u001B[0mshould_sync\u001B[0m\u001B[1;33m:\u001B[0m\u001B[1;33m\u001B[0m\u001B[1;33m\u001B[0m\u001B[0m\n",
      "\u001B[1;32mE:\\BERT\\uvl-tore-classifier-bert\\venv310\\lib\\site-packages\\keras\\src\\engine\\training.py\u001B[0m in \u001B[0;36m?\u001B[1;34m(iterator)\u001B[0m\n\u001B[0;32m   1399\u001B[0m             \u001B[1;32mdef\u001B[0m \u001B[0mtrain_function\u001B[0m\u001B[1;33m(\u001B[0m\u001B[0miterator\u001B[0m\u001B[1;33m)\u001B[0m\u001B[1;33m:\u001B[0m\u001B[1;33m\u001B[0m\u001B[1;33m\u001B[0m\u001B[0m\n\u001B[0;32m   1400\u001B[0m                 \u001B[1;34m\"\"\"Runs a training execution with a single step.\"\"\"\u001B[0m\u001B[1;33m\u001B[0m\u001B[1;33m\u001B[0m\u001B[0m\n\u001B[1;32m-> 1401\u001B[1;33m                 \u001B[1;32mreturn\u001B[0m \u001B[0mstep_function\u001B[0m\u001B[1;33m(\u001B[0m\u001B[0mself\u001B[0m\u001B[1;33m,\u001B[0m \u001B[0miterator\u001B[0m\u001B[1;33m)\u001B[0m\u001B[1;33m\u001B[0m\u001B[1;33m\u001B[0m\u001B[0m\n\u001B[0m",
      "\u001B[1;32mE:\\BERT\\uvl-tore-classifier-bert\\venv310\\lib\\site-packages\\keras\\src\\engine\\training.py\u001B[0m in \u001B[0;36m?\u001B[1;34m(model, iterator)\u001B[0m\n\u001B[0;32m   1382\u001B[0m                 )\n\u001B[0;32m   1383\u001B[0m             \u001B[0mdata\u001B[0m \u001B[1;33m=\u001B[0m \u001B[0mnext\u001B[0m\u001B[1;33m(\u001B[0m\u001B[0miterator\u001B[0m\u001B[1;33m)\u001B[0m\u001B[1;33m\u001B[0m\u001B[1;33m\u001B[0m\u001B[0m\n\u001B[1;32m-> 1384\u001B[1;33m             \u001B[0moutputs\u001B[0m \u001B[1;33m=\u001B[0m \u001B[0mmodel\u001B[0m\u001B[1;33m.\u001B[0m\u001B[0mdistribute_strategy\u001B[0m\u001B[1;33m.\u001B[0m\u001B[0mrun\u001B[0m\u001B[1;33m(\u001B[0m\u001B[0mrun_step\u001B[0m\u001B[1;33m,\u001B[0m \u001B[0margs\u001B[0m\u001B[1;33m=\u001B[0m\u001B[1;33m(\u001B[0m\u001B[0mdata\u001B[0m\u001B[1;33m,\u001B[0m\u001B[1;33m)\u001B[0m\u001B[1;33m)\u001B[0m\u001B[1;33m\u001B[0m\u001B[1;33m\u001B[0m\u001B[0m\n\u001B[0m\u001B[0;32m   1385\u001B[0m             outputs = reduce_per_replica(\n",
      "\u001B[1;32mE:\\BERT\\uvl-tore-classifier-bert\\venv310\\lib\\site-packages\\tensorflow\\python\\distribute\\distribute_lib.py\u001B[0m in \u001B[0;36m?\u001B[1;34m(***failed resolving arguments***)\u001B[0m\n\u001B[0;32m   1679\u001B[0m       fn = autograph.tf_convert(\n\u001B[0;32m   1680\u001B[0m           fn, autograph_ctx.control_status_ctx(), convert_by_default=False)\n\u001B[1;32m-> 1681\u001B[1;33m       \u001B[1;32mreturn\u001B[0m \u001B[0mself\u001B[0m\u001B[1;33m.\u001B[0m\u001B[0m_extended\u001B[0m\u001B[1;33m.\u001B[0m\u001B[0mcall_for_each_replica\u001B[0m\u001B[1;33m(\u001B[0m\u001B[0mfn\u001B[0m\u001B[1;33m,\u001B[0m \u001B[0margs\u001B[0m\u001B[1;33m=\u001B[0m\u001B[0margs\u001B[0m\u001B[1;33m,\u001B[0m \u001B[0mkwargs\u001B[0m\u001B[1;33m=\u001B[0m\u001B[0mkwargs\u001B[0m\u001B[1;33m)\u001B[0m\u001B[1;33m\u001B[0m\u001B[1;33m\u001B[0m\u001B[0m\n\u001B[0m",
      "\u001B[1;32mE:\\BERT\\uvl-tore-classifier-bert\\venv310\\lib\\site-packages\\tensorflow\\python\\distribute\\distribute_lib.py\u001B[0m in \u001B[0;36m?\u001B[1;34m(self, fn, args, kwargs)\u001B[0m\n\u001B[0;32m   3269\u001B[0m       \u001B[0mkwargs\u001B[0m \u001B[1;33m=\u001B[0m \u001B[1;33m{\u001B[0m\u001B[1;33m}\u001B[0m\u001B[1;33m\u001B[0m\u001B[1;33m\u001B[0m\u001B[0m\n\u001B[0;32m   3270\u001B[0m     \u001B[1;32mwith\u001B[0m \u001B[0mself\u001B[0m\u001B[1;33m.\u001B[0m\u001B[0m_container_strategy\u001B[0m\u001B[1;33m(\u001B[0m\u001B[1;33m)\u001B[0m\u001B[1;33m.\u001B[0m\u001B[0mscope\u001B[0m\u001B[1;33m(\u001B[0m\u001B[1;33m)\u001B[0m\u001B[1;33m:\u001B[0m\u001B[1;33m\u001B[0m\u001B[1;33m\u001B[0m\u001B[0m\n\u001B[1;32m-> 3271\u001B[1;33m       \u001B[1;32mreturn\u001B[0m \u001B[0mself\u001B[0m\u001B[1;33m.\u001B[0m\u001B[0m_call_for_each_replica\u001B[0m\u001B[1;33m(\u001B[0m\u001B[0mfn\u001B[0m\u001B[1;33m,\u001B[0m \u001B[0margs\u001B[0m\u001B[1;33m,\u001B[0m \u001B[0mkwargs\u001B[0m\u001B[1;33m)\u001B[0m\u001B[1;33m\u001B[0m\u001B[1;33m\u001B[0m\u001B[0m\n\u001B[0m",
      "\u001B[1;32mE:\\BERT\\uvl-tore-classifier-bert\\venv310\\lib\\site-packages\\tensorflow\\python\\distribute\\distribute_lib.py\u001B[0m in \u001B[0;36m?\u001B[1;34m(self, fn, args, kwargs)\u001B[0m\n\u001B[0;32m   4067\u001B[0m   \u001B[1;32mdef\u001B[0m \u001B[0m_call_for_each_replica\u001B[0m\u001B[1;33m(\u001B[0m\u001B[0mself\u001B[0m\u001B[1;33m,\u001B[0m \u001B[0mfn\u001B[0m\u001B[1;33m,\u001B[0m \u001B[0margs\u001B[0m\u001B[1;33m,\u001B[0m \u001B[0mkwargs\u001B[0m\u001B[1;33m)\u001B[0m\u001B[1;33m:\u001B[0m\u001B[1;33m\u001B[0m\u001B[1;33m\u001B[0m\u001B[0m\n\u001B[0;32m   4068\u001B[0m     \u001B[1;32mwith\u001B[0m \u001B[0mReplicaContext\u001B[0m\u001B[1;33m(\u001B[0m\u001B[0mself\u001B[0m\u001B[1;33m.\u001B[0m\u001B[0m_container_strategy\u001B[0m\u001B[1;33m(\u001B[0m\u001B[1;33m)\u001B[0m\u001B[1;33m,\u001B[0m \u001B[0mreplica_id_in_sync_group\u001B[0m\u001B[1;33m=\u001B[0m\u001B[1;36m0\u001B[0m\u001B[1;33m)\u001B[0m\u001B[1;33m:\u001B[0m\u001B[1;33m\u001B[0m\u001B[1;33m\u001B[0m\u001B[0m\n\u001B[1;32m-> 4069\u001B[1;33m       \u001B[1;32mreturn\u001B[0m \u001B[0mfn\u001B[0m\u001B[1;33m(\u001B[0m\u001B[1;33m*\u001B[0m\u001B[0margs\u001B[0m\u001B[1;33m,\u001B[0m \u001B[1;33m**\u001B[0m\u001B[0mkwargs\u001B[0m\u001B[1;33m)\u001B[0m\u001B[1;33m\u001B[0m\u001B[1;33m\u001B[0m\u001B[0m\n\u001B[0m",
      "\u001B[1;32mE:\\BERT\\uvl-tore-classifier-bert\\venv310\\lib\\site-packages\\tensorflow\\python\\autograph\\impl\\api.py\u001B[0m in \u001B[0;36m?\u001B[1;34m(*args, **kwargs)\u001B[0m\n\u001B[0;32m    594\u001B[0m   \u001B[1;32mdef\u001B[0m \u001B[0mwrapper\u001B[0m\u001B[1;33m(\u001B[0m\u001B[1;33m*\u001B[0m\u001B[0margs\u001B[0m\u001B[1;33m,\u001B[0m \u001B[1;33m**\u001B[0m\u001B[0mkwargs\u001B[0m\u001B[1;33m)\u001B[0m\u001B[1;33m:\u001B[0m\u001B[1;33m\u001B[0m\u001B[1;33m\u001B[0m\u001B[0m\n\u001B[0;32m    595\u001B[0m     \u001B[1;32mwith\u001B[0m \u001B[0mag_ctx\u001B[0m\u001B[1;33m.\u001B[0m\u001B[0mControlStatusCtx\u001B[0m\u001B[1;33m(\u001B[0m\u001B[0mstatus\u001B[0m\u001B[1;33m=\u001B[0m\u001B[0mag_ctx\u001B[0m\u001B[1;33m.\u001B[0m\u001B[0mStatus\u001B[0m\u001B[1;33m.\u001B[0m\u001B[0mUNSPECIFIED\u001B[0m\u001B[1;33m)\u001B[0m\u001B[1;33m:\u001B[0m\u001B[1;33m\u001B[0m\u001B[1;33m\u001B[0m\u001B[0m\n\u001B[1;32m--> 596\u001B[1;33m       \u001B[1;32mreturn\u001B[0m \u001B[0mfunc\u001B[0m\u001B[1;33m(\u001B[0m\u001B[1;33m*\u001B[0m\u001B[0margs\u001B[0m\u001B[1;33m,\u001B[0m \u001B[1;33m**\u001B[0m\u001B[0mkwargs\u001B[0m\u001B[1;33m)\u001B[0m\u001B[1;33m\u001B[0m\u001B[1;33m\u001B[0m\u001B[0m\n\u001B[0m",
      "\u001B[1;32mE:\\BERT\\uvl-tore-classifier-bert\\venv310\\lib\\site-packages\\keras\\src\\engine\\training.py\u001B[0m in \u001B[0;36m?\u001B[1;34m(data)\u001B[0m\n\u001B[0;32m   1372\u001B[0m             \u001B[1;32mdef\u001B[0m \u001B[0mrun_step\u001B[0m\u001B[1;33m(\u001B[0m\u001B[0mdata\u001B[0m\u001B[1;33m)\u001B[0m\u001B[1;33m:\u001B[0m\u001B[1;33m\u001B[0m\u001B[1;33m\u001B[0m\u001B[0m\n\u001B[1;32m-> 1373\u001B[1;33m                 \u001B[0moutputs\u001B[0m \u001B[1;33m=\u001B[0m \u001B[0mmodel\u001B[0m\u001B[1;33m.\u001B[0m\u001B[0mtrain_step\u001B[0m\u001B[1;33m(\u001B[0m\u001B[0mdata\u001B[0m\u001B[1;33m)\u001B[0m\u001B[1;33m\u001B[0m\u001B[1;33m\u001B[0m\u001B[0m\n\u001B[0m\u001B[0;32m   1374\u001B[0m                 \u001B[1;31m# Ensure counter is updated only if `train_step` succeeds.\u001B[0m\u001B[1;33m\u001B[0m\u001B[1;33m\u001B[0m\u001B[0m\n",
      "\u001B[1;32mE:\\BERT\\uvl-tore-classifier-bert\\venv310\\lib\\site-packages\\keras\\src\\engine\\training.py\u001B[0m in \u001B[0;36m?\u001B[1;34m(self, data)\u001B[0m\n\u001B[0;32m   1152\u001B[0m         \u001B[0mself\u001B[0m\u001B[1;33m.\u001B[0m\u001B[0m_validate_target_and_loss\u001B[0m\u001B[1;33m(\u001B[0m\u001B[0my\u001B[0m\u001B[1;33m,\u001B[0m \u001B[0mloss\u001B[0m\u001B[1;33m)\u001B[0m\u001B[1;33m\u001B[0m\u001B[1;33m\u001B[0m\u001B[0m\n\u001B[0;32m   1153\u001B[0m         \u001B[1;31m# Run backwards pass.\u001B[0m\u001B[1;33m\u001B[0m\u001B[1;33m\u001B[0m\u001B[0m\n\u001B[1;32m-> 1154\u001B[1;33m         \u001B[0mself\u001B[0m\u001B[1;33m.\u001B[0m\u001B[0moptimizer\u001B[0m\u001B[1;33m.\u001B[0m\u001B[0mminimize\u001B[0m\u001B[1;33m(\u001B[0m\u001B[0mloss\u001B[0m\u001B[1;33m,\u001B[0m \u001B[0mself\u001B[0m\u001B[1;33m.\u001B[0m\u001B[0mtrainable_variables\u001B[0m\u001B[1;33m,\u001B[0m \u001B[0mtape\u001B[0m\u001B[1;33m=\u001B[0m\u001B[0mtape\u001B[0m\u001B[1;33m)\u001B[0m\u001B[1;33m\u001B[0m\u001B[1;33m\u001B[0m\u001B[0m\n\u001B[0m\u001B[0;32m   1155\u001B[0m         \u001B[1;32mreturn\u001B[0m \u001B[0mself\u001B[0m\u001B[1;33m.\u001B[0m\u001B[0mcompute_metrics\u001B[0m\u001B[1;33m(\u001B[0m\u001B[0mx\u001B[0m\u001B[1;33m,\u001B[0m \u001B[0my\u001B[0m\u001B[1;33m,\u001B[0m \u001B[0my_pred\u001B[0m\u001B[1;33m,\u001B[0m \u001B[0msample_weight\u001B[0m\u001B[1;33m)\u001B[0m\u001B[1;33m\u001B[0m\u001B[1;33m\u001B[0m\u001B[0m\n",
      "\u001B[1;32mE:\\BERT\\uvl-tore-classifier-bert\\venv310\\lib\\site-packages\\keras\\src\\optimizers\\optimizer.py\u001B[0m in \u001B[0;36m?\u001B[1;34m(self, loss, var_list, tape)\u001B[0m\n\u001B[0;32m    541\u001B[0m           \u001B[1;32mNone\u001B[0m\u001B[1;33m\u001B[0m\u001B[1;33m\u001B[0m\u001B[0m\n\u001B[0;32m    542\u001B[0m         \"\"\"\n\u001B[1;32m--> 543\u001B[1;33m         \u001B[0mgrads_and_vars\u001B[0m \u001B[1;33m=\u001B[0m \u001B[0mself\u001B[0m\u001B[1;33m.\u001B[0m\u001B[0mcompute_gradients\u001B[0m\u001B[1;33m(\u001B[0m\u001B[0mloss\u001B[0m\u001B[1;33m,\u001B[0m \u001B[0mvar_list\u001B[0m\u001B[1;33m,\u001B[0m \u001B[0mtape\u001B[0m\u001B[1;33m)\u001B[0m\u001B[1;33m\u001B[0m\u001B[1;33m\u001B[0m\u001B[0m\n\u001B[0m\u001B[0;32m    544\u001B[0m         \u001B[0mself\u001B[0m\u001B[1;33m.\u001B[0m\u001B[0mapply_gradients\u001B[0m\u001B[1;33m(\u001B[0m\u001B[0mgrads_and_vars\u001B[0m\u001B[1;33m)\u001B[0m\u001B[1;33m\u001B[0m\u001B[1;33m\u001B[0m\u001B[0m\n",
      "\u001B[1;32mE:\\BERT\\uvl-tore-classifier-bert\\venv310\\lib\\site-packages\\keras\\src\\optimizers\\optimizer.py\u001B[0m in \u001B[0;36m?\u001B[1;34m(self, loss, var_list, tape)\u001B[0m\n\u001B[0;32m    274\u001B[0m                     \u001B[0mvar_list\u001B[0m \u001B[1;33m=\u001B[0m \u001B[0mvar_list\u001B[0m\u001B[1;33m(\u001B[0m\u001B[1;33m)\u001B[0m\u001B[1;33m\u001B[0m\u001B[1;33m\u001B[0m\u001B[0m\n\u001B[0;32m    275\u001B[0m \u001B[1;33m\u001B[0m\u001B[0m\n\u001B[1;32m--> 276\u001B[1;33m         \u001B[0mgrads\u001B[0m \u001B[1;33m=\u001B[0m \u001B[0mtape\u001B[0m\u001B[1;33m.\u001B[0m\u001B[0mgradient\u001B[0m\u001B[1;33m(\u001B[0m\u001B[0mloss\u001B[0m\u001B[1;33m,\u001B[0m \u001B[0mvar_list\u001B[0m\u001B[1;33m)\u001B[0m\u001B[1;33m\u001B[0m\u001B[1;33m\u001B[0m\u001B[0m\n\u001B[0m\u001B[0;32m    277\u001B[0m         \u001B[1;32mreturn\u001B[0m \u001B[0mlist\u001B[0m\u001B[1;33m(\u001B[0m\u001B[0mzip\u001B[0m\u001B[1;33m(\u001B[0m\u001B[0mgrads\u001B[0m\u001B[1;33m,\u001B[0m \u001B[0mvar_list\u001B[0m\u001B[1;33m)\u001B[0m\u001B[1;33m)\u001B[0m\u001B[1;33m\u001B[0m\u001B[1;33m\u001B[0m\u001B[0m\n",
      "\u001B[1;32mE:\\BERT\\uvl-tore-classifier-bert\\venv310\\lib\\site-packages\\tensorflow\\python\\eager\\backprop.py\u001B[0m in \u001B[0;36m?\u001B[1;34m(self, target, sources, output_gradients, unconnected_gradients)\u001B[0m\n\u001B[0;32m   1064\u001B[0m                           for x in output_gradients]\n\u001B[0;32m   1065\u001B[0m \u001B[1;33m\u001B[0m\u001B[0m\n\u001B[1;32m-> 1066\u001B[1;33m     flat_grad = imperative_grad.imperative_grad(\n\u001B[0m\u001B[0;32m   1067\u001B[0m         \u001B[0mself\u001B[0m\u001B[1;33m.\u001B[0m\u001B[0m_tape\u001B[0m\u001B[1;33m,\u001B[0m\u001B[1;33m\u001B[0m\u001B[1;33m\u001B[0m\u001B[0m\n",
      "\u001B[1;32mE:\\BERT\\uvl-tore-classifier-bert\\venv310\\lib\\site-packages\\tensorflow\\python\\eager\\imperative_grad.py\u001B[0m in \u001B[0;36m?\u001B[1;34m(tape, target, sources, output_gradients, sources_raw, unconnected_gradients)\u001B[0m\n\u001B[0;32m     65\u001B[0m         \"Unknown value for unconnected_gradients: %r\" % unconnected_gradients)\n\u001B[0;32m     66\u001B[0m \u001B[1;33m\u001B[0m\u001B[0m\n\u001B[1;32m---> 67\u001B[1;33m   return pywrap_tfe.TFE_Py_TapeGradient(\n\u001B[0m\u001B[0;32m     68\u001B[0m       \u001B[0mtape\u001B[0m\u001B[1;33m.\u001B[0m\u001B[0m_tape\u001B[0m\u001B[1;33m,\u001B[0m  \u001B[1;31m# pylint: disable=protected-access\u001B[0m\u001B[1;33m\u001B[0m\u001B[1;33m\u001B[0m\u001B[0m\n",
      "\u001B[1;32mE:\\BERT\\uvl-tore-classifier-bert\\venv310\\lib\\site-packages\\tensorflow\\python\\eager\\backprop.py\u001B[0m in \u001B[0;36m?\u001B[1;34m(op_name, attr_tuple, num_inputs, inputs, outputs, out_grads, skip_input_indices, forward_pass_name_scope)\u001B[0m\n\u001B[0;32m    146\u001B[0m       \u001B[0mgradient_name_scope\u001B[0m \u001B[1;33m+=\u001B[0m \u001B[0mforward_pass_name_scope\u001B[0m \u001B[1;33m+\u001B[0m \u001B[1;34m\"/\"\u001B[0m\u001B[1;33m\u001B[0m\u001B[1;33m\u001B[0m\u001B[0m\n\u001B[0;32m    147\u001B[0m     \u001B[1;32mwith\u001B[0m \u001B[0mops\u001B[0m\u001B[1;33m.\u001B[0m\u001B[0mname_scope\u001B[0m\u001B[1;33m(\u001B[0m\u001B[0mgradient_name_scope\u001B[0m\u001B[1;33m)\u001B[0m\u001B[1;33m:\u001B[0m\u001B[1;33m\u001B[0m\u001B[1;33m\u001B[0m\u001B[0m\n\u001B[1;32m--> 148\u001B[1;33m       \u001B[1;32mreturn\u001B[0m \u001B[0mgrad_fn\u001B[0m\u001B[1;33m(\u001B[0m\u001B[0mmock_op\u001B[0m\u001B[1;33m,\u001B[0m \u001B[1;33m*\u001B[0m\u001B[0mout_grads\u001B[0m\u001B[1;33m)\u001B[0m\u001B[1;33m\u001B[0m\u001B[1;33m\u001B[0m\u001B[0m\n\u001B[0m\u001B[0;32m    149\u001B[0m   \u001B[1;32melse\u001B[0m\u001B[1;33m:\u001B[0m\u001B[1;33m\u001B[0m\u001B[1;33m\u001B[0m\u001B[0m\n",
      "\u001B[1;32mE:\\BERT\\uvl-tore-classifier-bert\\venv310\\lib\\site-packages\\tensorflow\\python\\ops\\math_grad.py\u001B[0m in \u001B[0;36m?\u001B[1;34m(op, grad)\u001B[0m\n\u001B[0;32m   1421\u001B[0m       \u001B[1;32mand\u001B[0m \u001B[0mgrad\u001B[0m\u001B[1;33m.\u001B[0m\u001B[0mdtype\u001B[0m \u001B[1;32min\u001B[0m \u001B[1;33m(\u001B[0m\u001B[0mdtypes\u001B[0m\u001B[1;33m.\u001B[0m\u001B[0mint32\u001B[0m\u001B[1;33m,\u001B[0m \u001B[0mdtypes\u001B[0m\u001B[1;33m.\u001B[0m\u001B[0mfloat32\u001B[0m\u001B[1;33m)\u001B[0m\u001B[1;33m\u001B[0m\u001B[1;33m\u001B[0m\u001B[0m\n\u001B[0;32m   1422\u001B[0m   ):\n\u001B[1;32m-> 1423\u001B[1;33m     \u001B[1;32mreturn\u001B[0m \u001B[0mgen_math_ops\u001B[0m\u001B[1;33m.\u001B[0m\u001B[0mmul\u001B[0m\u001B[1;33m(\u001B[0m\u001B[0mgrad\u001B[0m\u001B[1;33m,\u001B[0m \u001B[0my\u001B[0m\u001B[1;33m)\u001B[0m\u001B[1;33m,\u001B[0m \u001B[0mgen_math_ops\u001B[0m\u001B[1;33m.\u001B[0m\u001B[0mmul\u001B[0m\u001B[1;33m(\u001B[0m\u001B[0mgrad\u001B[0m\u001B[1;33m,\u001B[0m \u001B[0mx\u001B[0m\u001B[1;33m)\u001B[0m\u001B[1;33m\u001B[0m\u001B[1;33m\u001B[0m\u001B[0m\n\u001B[0m\u001B[0;32m   1424\u001B[0m   \u001B[1;32massert\u001B[0m \u001B[0mx\u001B[0m\u001B[1;33m.\u001B[0m\u001B[0mdtype\u001B[0m\u001B[1;33m.\u001B[0m\u001B[0mbase_dtype\u001B[0m \u001B[1;33m==\u001B[0m \u001B[0my\u001B[0m\u001B[1;33m.\u001B[0m\u001B[0mdtype\u001B[0m\u001B[1;33m.\u001B[0m\u001B[0mbase_dtype\u001B[0m\u001B[1;33m,\u001B[0m \u001B[1;33m(\u001B[0m\u001B[0mx\u001B[0m\u001B[1;33m.\u001B[0m\u001B[0mdtype\u001B[0m\u001B[1;33m,\u001B[0m \u001B[1;34m\" vs. \"\u001B[0m\u001B[1;33m,\u001B[0m \u001B[0my\u001B[0m\u001B[1;33m.\u001B[0m\u001B[0mdtype\u001B[0m\u001B[1;33m)\u001B[0m\u001B[1;33m\u001B[0m\u001B[1;33m\u001B[0m\u001B[0m\n",
      "\u001B[1;32mE:\\BERT\\uvl-tore-classifier-bert\\venv310\\lib\\site-packages\\tensorflow\\python\\ops\\gen_math_ops.py\u001B[0m in \u001B[0;36m?\u001B[1;34m(x, y, name)\u001B[0m\n\u001B[0;32m   6754\u001B[0m     \u001B[1;32mexcept\u001B[0m \u001B[0m_core\u001B[0m\u001B[1;33m.\u001B[0m\u001B[0m_NotOkStatusException\u001B[0m \u001B[1;32mas\u001B[0m \u001B[0me\u001B[0m\u001B[1;33m:\u001B[0m\u001B[1;33m\u001B[0m\u001B[1;33m\u001B[0m\u001B[0m\n\u001B[0;32m   6755\u001B[0m       \u001B[0m_ops\u001B[0m\u001B[1;33m.\u001B[0m\u001B[0mraise_from_not_ok_status\u001B[0m\u001B[1;33m(\u001B[0m\u001B[0me\u001B[0m\u001B[1;33m,\u001B[0m \u001B[0mname\u001B[0m\u001B[1;33m)\u001B[0m\u001B[1;33m\u001B[0m\u001B[1;33m\u001B[0m\u001B[0m\n\u001B[1;32m-> 6756\u001B[1;33m     \u001B[1;32mexcept\u001B[0m \u001B[0m_core\u001B[0m\u001B[1;33m.\u001B[0m\u001B[0m_FallbackException\u001B[0m\u001B[1;33m:\u001B[0m\u001B[1;33m\u001B[0m\u001B[1;33m\u001B[0m\u001B[0m\n\u001B[0m\u001B[0;32m   6757\u001B[0m       \u001B[1;32mpass\u001B[0m\u001B[1;33m\u001B[0m\u001B[1;33m\u001B[0m\u001B[0m\n",
      "\u001B[1;31mKeyboardInterrupt\u001B[0m: ",
      "\nDuring handling of the above exception, another exception occurred:\n",
      "\u001B[1;31mSystemExit\u001B[0m                                Traceback (most recent call last)",
      "    \u001B[1;31m[... skipping hidden 1 frame]\u001B[0m\n",
      "Cell \u001B[1;32mIn[7], line 30\u001B[0m\n\u001B[0;32m     28\u001B[0m     \u001B[38;5;28;01mfrom\u001B[39;00m \u001B[38;5;21;01mexperiments\u001B[39;00m\u001B[38;5;21;01m.\u001B[39;00m\u001B[38;5;21;01mbilstm\u001B[39;00m \u001B[38;5;28;01mimport\u001B[39;00m bilstm\n\u001B[1;32m---> 30\u001B[0m     \u001B[43mbilstm\u001B[49m\u001B[43m(\u001B[49m\u001B[43mbilstm_cfg\u001B[49m\u001B[43m)\u001B[49m\n\u001B[0;32m     33\u001B[0m bilstm_run_id \u001B[38;5;241m=\u001B[39m get_run_id(bilstm_cfg, pin_commit\u001B[38;5;241m=\u001B[39mpin_commits)\n",
      "File \u001B[1;32mE:\\BERT\\uvl-tore-classifier-bert\\venv310\\lib\\site-packages\\hydra\\main.py:83\u001B[0m, in \u001B[0;36mmain.<locals>.main_decorator.<locals>.decorated_main\u001B[1;34m(cfg_passthrough)\u001B[0m\n\u001B[0;32m     82\u001B[0m \u001B[38;5;28;01mif\u001B[39;00m cfg_passthrough \u001B[38;5;129;01mis\u001B[39;00m \u001B[38;5;129;01mnot\u001B[39;00m \u001B[38;5;28;01mNone\u001B[39;00m:\n\u001B[1;32m---> 83\u001B[0m     \u001B[38;5;28;01mreturn\u001B[39;00m \u001B[43mtask_function\u001B[49m\u001B[43m(\u001B[49m\u001B[43mcfg_passthrough\u001B[49m\u001B[43m)\u001B[49m\n\u001B[0;32m     84\u001B[0m \u001B[38;5;28;01melse\u001B[39;00m:\n",
      "File \u001B[1;32mE:\\BERT\\uvl-tore-classifier-bert\\src\\experiments\\bilstm.py:37\u001B[0m, in \u001B[0;36mbilstm\u001B[1;34m(cfg)\u001B[0m\n\u001B[0;32m     36\u001B[0m     end_tracing()\n\u001B[1;32m---> 37\u001B[0m     \u001B[43msys\u001B[49m\u001B[38;5;241;43m.\u001B[39;49m\u001B[43mexit\u001B[49m\u001B[43m(\u001B[49m\u001B[43m)\u001B[49m\n\u001B[0;32m     39\u001B[0m \u001B[38;5;28;01mexcept\u001B[39;00m \u001B[38;5;167;01mException\u001B[39;00m \u001B[38;5;28;01mas\u001B[39;00m e:\n",
      "\u001B[1;31mSystemExit\u001B[0m: ",
      "\nDuring handling of the above exception, another exception occurred:\n",
      "\u001B[1;31mAttributeError\u001B[0m                            Traceback (most recent call last)",
      "    \u001B[1;31m[... skipping hidden 1 frame]\u001B[0m\n",
      "File \u001B[1;32mE:\\BERT\\uvl-tore-classifier-bert\\venv310\\lib\\site-packages\\IPython\\core\\interactiveshell.py:2145\u001B[0m, in \u001B[0;36mInteractiveShell.showtraceback\u001B[1;34m(self, exc_tuple, filename, tb_offset, exception_only, running_compiled_code)\u001B[0m\n\u001B[0;32m   2142\u001B[0m \u001B[38;5;28;01mif\u001B[39;00m exception_only:\n\u001B[0;32m   2143\u001B[0m     stb \u001B[38;5;241m=\u001B[39m [\u001B[38;5;124m'\u001B[39m\u001B[38;5;124mAn exception has occurred, use \u001B[39m\u001B[38;5;124m%\u001B[39m\u001B[38;5;124mtb to see \u001B[39m\u001B[38;5;124m'\u001B[39m\n\u001B[0;32m   2144\u001B[0m            \u001B[38;5;124m'\u001B[39m\u001B[38;5;124mthe full traceback.\u001B[39m\u001B[38;5;130;01m\\n\u001B[39;00m\u001B[38;5;124m'\u001B[39m]\n\u001B[1;32m-> 2145\u001B[0m     stb\u001B[38;5;241m.\u001B[39mextend(\u001B[38;5;28;43mself\u001B[39;49m\u001B[38;5;241;43m.\u001B[39;49m\u001B[43mInteractiveTB\u001B[49m\u001B[38;5;241;43m.\u001B[39;49m\u001B[43mget_exception_only\u001B[49m\u001B[43m(\u001B[49m\u001B[43metype\u001B[49m\u001B[43m,\u001B[49m\n\u001B[0;32m   2146\u001B[0m \u001B[43m                                                     \u001B[49m\u001B[43mvalue\u001B[49m\u001B[43m)\u001B[49m)\n\u001B[0;32m   2147\u001B[0m \u001B[38;5;28;01melse\u001B[39;00m:\n\u001B[0;32m   2149\u001B[0m     \u001B[38;5;28;01mdef\u001B[39;00m \u001B[38;5;21mcontains_exceptiongroup\u001B[39m(val):\n",
      "File \u001B[1;32mE:\\BERT\\uvl-tore-classifier-bert\\venv310\\lib\\site-packages\\IPython\\core\\ultratb.py:710\u001B[0m, in \u001B[0;36mListTB.get_exception_only\u001B[1;34m(self, etype, value)\u001B[0m\n\u001B[0;32m    702\u001B[0m \u001B[38;5;28;01mdef\u001B[39;00m \u001B[38;5;21mget_exception_only\u001B[39m(\u001B[38;5;28mself\u001B[39m, etype, value):\n\u001B[0;32m    703\u001B[0m \u001B[38;5;250m    \u001B[39m\u001B[38;5;124;03m\"\"\"Only print the exception type and message, without a traceback.\u001B[39;00m\n\u001B[0;32m    704\u001B[0m \n\u001B[0;32m    705\u001B[0m \u001B[38;5;124;03m    Parameters\u001B[39;00m\n\u001B[1;32m   (...)\u001B[0m\n\u001B[0;32m    708\u001B[0m \u001B[38;5;124;03m    value : exception value\u001B[39;00m\n\u001B[0;32m    709\u001B[0m \u001B[38;5;124;03m    \"\"\"\u001B[39;00m\n\u001B[1;32m--> 710\u001B[0m     \u001B[38;5;28;01mreturn\u001B[39;00m \u001B[43mListTB\u001B[49m\u001B[38;5;241;43m.\u001B[39;49m\u001B[43mstructured_traceback\u001B[49m\u001B[43m(\u001B[49m\u001B[38;5;28;43mself\u001B[39;49m\u001B[43m,\u001B[49m\u001B[43m \u001B[49m\u001B[43metype\u001B[49m\u001B[43m,\u001B[49m\u001B[43m \u001B[49m\u001B[43mvalue\u001B[49m\u001B[43m)\u001B[49m\n",
      "File \u001B[1;32mE:\\BERT\\uvl-tore-classifier-bert\\venv310\\lib\\site-packages\\IPython\\core\\ultratb.py:568\u001B[0m, in \u001B[0;36mListTB.structured_traceback\u001B[1;34m(self, etype, evalue, etb, tb_offset, context)\u001B[0m\n\u001B[0;32m    565\u001B[0m     chained_exc_ids\u001B[38;5;241m.\u001B[39madd(\u001B[38;5;28mid\u001B[39m(exception[\u001B[38;5;241m1\u001B[39m]))\n\u001B[0;32m    566\u001B[0m     chained_exceptions_tb_offset \u001B[38;5;241m=\u001B[39m \u001B[38;5;241m0\u001B[39m\n\u001B[0;32m    567\u001B[0m     out_list \u001B[38;5;241m=\u001B[39m (\n\u001B[1;32m--> 568\u001B[0m         \u001B[38;5;28;43mself\u001B[39;49m\u001B[38;5;241;43m.\u001B[39;49m\u001B[43mstructured_traceback\u001B[49m\u001B[43m(\u001B[49m\n\u001B[0;32m    569\u001B[0m \u001B[43m            \u001B[49m\u001B[43metype\u001B[49m\u001B[43m,\u001B[49m\n\u001B[0;32m    570\u001B[0m \u001B[43m            \u001B[49m\u001B[43mevalue\u001B[49m\u001B[43m,\u001B[49m\n\u001B[0;32m    571\u001B[0m \u001B[43m            \u001B[49m\u001B[43m(\u001B[49m\u001B[43metb\u001B[49m\u001B[43m,\u001B[49m\u001B[43m \u001B[49m\u001B[43mchained_exc_ids\u001B[49m\u001B[43m)\u001B[49m\u001B[43m,\u001B[49m\u001B[43m  \u001B[49m\u001B[38;5;66;43;03m# type: ignore\u001B[39;49;00m\n\u001B[0;32m    572\u001B[0m \u001B[43m            \u001B[49m\u001B[43mchained_exceptions_tb_offset\u001B[49m\u001B[43m,\u001B[49m\n\u001B[0;32m    573\u001B[0m \u001B[43m            \u001B[49m\u001B[43mcontext\u001B[49m\u001B[43m,\u001B[49m\n\u001B[0;32m    574\u001B[0m \u001B[43m        \u001B[49m\u001B[43m)\u001B[49m\n\u001B[0;32m    575\u001B[0m         \u001B[38;5;241m+\u001B[39m chained_exception_message\n\u001B[0;32m    576\u001B[0m         \u001B[38;5;241m+\u001B[39m out_list)\n\u001B[0;32m    578\u001B[0m \u001B[38;5;28;01mreturn\u001B[39;00m out_list\n",
      "File \u001B[1;32mE:\\BERT\\uvl-tore-classifier-bert\\venv310\\lib\\site-packages\\IPython\\core\\ultratb.py:1454\u001B[0m, in \u001B[0;36mAutoFormattedTB.structured_traceback\u001B[1;34m(self, etype, evalue, etb, tb_offset, number_of_lines_of_context)\u001B[0m\n\u001B[0;32m   1452\u001B[0m \u001B[38;5;28;01melse\u001B[39;00m:\n\u001B[0;32m   1453\u001B[0m     \u001B[38;5;28mself\u001B[39m\u001B[38;5;241m.\u001B[39mtb \u001B[38;5;241m=\u001B[39m etb\n\u001B[1;32m-> 1454\u001B[0m \u001B[38;5;28;01mreturn\u001B[39;00m \u001B[43mFormattedTB\u001B[49m\u001B[38;5;241;43m.\u001B[39;49m\u001B[43mstructured_traceback\u001B[49m\u001B[43m(\u001B[49m\n\u001B[0;32m   1455\u001B[0m \u001B[43m    \u001B[49m\u001B[38;5;28;43mself\u001B[39;49m\u001B[43m,\u001B[49m\u001B[43m \u001B[49m\u001B[43metype\u001B[49m\u001B[43m,\u001B[49m\u001B[43m \u001B[49m\u001B[43mevalue\u001B[49m\u001B[43m,\u001B[49m\u001B[43m \u001B[49m\u001B[43metb\u001B[49m\u001B[43m,\u001B[49m\u001B[43m \u001B[49m\u001B[43mtb_offset\u001B[49m\u001B[43m,\u001B[49m\u001B[43m \u001B[49m\u001B[43mnumber_of_lines_of_context\u001B[49m\n\u001B[0;32m   1456\u001B[0m \u001B[43m\u001B[49m\u001B[43m)\u001B[49m\n",
      "File \u001B[1;32mE:\\BERT\\uvl-tore-classifier-bert\\venv310\\lib\\site-packages\\IPython\\core\\ultratb.py:1345\u001B[0m, in \u001B[0;36mFormattedTB.structured_traceback\u001B[1;34m(self, etype, value, tb, tb_offset, number_of_lines_of_context)\u001B[0m\n\u001B[0;32m   1342\u001B[0m mode \u001B[38;5;241m=\u001B[39m \u001B[38;5;28mself\u001B[39m\u001B[38;5;241m.\u001B[39mmode\n\u001B[0;32m   1343\u001B[0m \u001B[38;5;28;01mif\u001B[39;00m mode \u001B[38;5;129;01min\u001B[39;00m \u001B[38;5;28mself\u001B[39m\u001B[38;5;241m.\u001B[39mverbose_modes:\n\u001B[0;32m   1344\u001B[0m     \u001B[38;5;66;03m# Verbose modes need a full traceback\u001B[39;00m\n\u001B[1;32m-> 1345\u001B[0m     \u001B[38;5;28;01mreturn\u001B[39;00m \u001B[43mVerboseTB\u001B[49m\u001B[38;5;241;43m.\u001B[39;49m\u001B[43mstructured_traceback\u001B[49m\u001B[43m(\u001B[49m\n\u001B[0;32m   1346\u001B[0m \u001B[43m        \u001B[49m\u001B[38;5;28;43mself\u001B[39;49m\u001B[43m,\u001B[49m\u001B[43m \u001B[49m\u001B[43metype\u001B[49m\u001B[43m,\u001B[49m\u001B[43m \u001B[49m\u001B[43mvalue\u001B[49m\u001B[43m,\u001B[49m\u001B[43m \u001B[49m\u001B[43mtb\u001B[49m\u001B[43m,\u001B[49m\u001B[43m \u001B[49m\u001B[43mtb_offset\u001B[49m\u001B[43m,\u001B[49m\u001B[43m \u001B[49m\u001B[43mnumber_of_lines_of_context\u001B[49m\n\u001B[0;32m   1347\u001B[0m \u001B[43m    \u001B[49m\u001B[43m)\u001B[49m\n\u001B[0;32m   1348\u001B[0m \u001B[38;5;28;01melif\u001B[39;00m mode \u001B[38;5;241m==\u001B[39m \u001B[38;5;124m'\u001B[39m\u001B[38;5;124mMinimal\u001B[39m\u001B[38;5;124m'\u001B[39m:\n\u001B[0;32m   1349\u001B[0m     \u001B[38;5;28;01mreturn\u001B[39;00m ListTB\u001B[38;5;241m.\u001B[39mget_exception_only(\u001B[38;5;28mself\u001B[39m, etype, value)\n",
      "File \u001B[1;32mE:\\BERT\\uvl-tore-classifier-bert\\venv310\\lib\\site-packages\\IPython\\core\\ultratb.py:1192\u001B[0m, in \u001B[0;36mVerboseTB.structured_traceback\u001B[1;34m(self, etype, evalue, etb, tb_offset, number_of_lines_of_context)\u001B[0m\n\u001B[0;32m   1183\u001B[0m \u001B[38;5;28;01mdef\u001B[39;00m \u001B[38;5;21mstructured_traceback\u001B[39m(\n\u001B[0;32m   1184\u001B[0m     \u001B[38;5;28mself\u001B[39m,\n\u001B[0;32m   1185\u001B[0m     etype: \u001B[38;5;28mtype\u001B[39m,\n\u001B[1;32m   (...)\u001B[0m\n\u001B[0;32m   1189\u001B[0m     number_of_lines_of_context: \u001B[38;5;28mint\u001B[39m \u001B[38;5;241m=\u001B[39m \u001B[38;5;241m5\u001B[39m,\n\u001B[0;32m   1190\u001B[0m ):\n\u001B[0;32m   1191\u001B[0m \u001B[38;5;250m    \u001B[39m\u001B[38;5;124;03m\"\"\"Return a nice text document describing the traceback.\"\"\"\u001B[39;00m\n\u001B[1;32m-> 1192\u001B[0m     formatted_exception \u001B[38;5;241m=\u001B[39m \u001B[38;5;28;43mself\u001B[39;49m\u001B[38;5;241;43m.\u001B[39;49m\u001B[43mformat_exception_as_a_whole\u001B[49m\u001B[43m(\u001B[49m\u001B[43metype\u001B[49m\u001B[43m,\u001B[49m\u001B[43m \u001B[49m\u001B[43mevalue\u001B[49m\u001B[43m,\u001B[49m\u001B[43m \u001B[49m\u001B[43metb\u001B[49m\u001B[43m,\u001B[49m\u001B[43m \u001B[49m\u001B[43mnumber_of_lines_of_context\u001B[49m\u001B[43m,\u001B[49m\n\u001B[0;32m   1193\u001B[0m \u001B[43m                                                           \u001B[49m\u001B[43mtb_offset\u001B[49m\u001B[43m)\u001B[49m\n\u001B[0;32m   1195\u001B[0m     colors \u001B[38;5;241m=\u001B[39m \u001B[38;5;28mself\u001B[39m\u001B[38;5;241m.\u001B[39mColors  \u001B[38;5;66;03m# just a shorthand + quicker name lookup\u001B[39;00m\n\u001B[0;32m   1196\u001B[0m     colorsnormal \u001B[38;5;241m=\u001B[39m colors\u001B[38;5;241m.\u001B[39mNormal  \u001B[38;5;66;03m# used a lot\u001B[39;00m\n",
      "File \u001B[1;32mE:\\BERT\\uvl-tore-classifier-bert\\venv310\\lib\\site-packages\\IPython\\core\\ultratb.py:1082\u001B[0m, in \u001B[0;36mVerboseTB.format_exception_as_a_whole\u001B[1;34m(self, etype, evalue, etb, number_of_lines_of_context, tb_offset)\u001B[0m\n\u001B[0;32m   1079\u001B[0m \u001B[38;5;28;01massert\u001B[39;00m \u001B[38;5;28misinstance\u001B[39m(tb_offset, \u001B[38;5;28mint\u001B[39m)\n\u001B[0;32m   1080\u001B[0m head \u001B[38;5;241m=\u001B[39m \u001B[38;5;28mself\u001B[39m\u001B[38;5;241m.\u001B[39mprepare_header(\u001B[38;5;28mstr\u001B[39m(etype), \u001B[38;5;28mself\u001B[39m\u001B[38;5;241m.\u001B[39mlong_header)\n\u001B[0;32m   1081\u001B[0m records \u001B[38;5;241m=\u001B[39m (\n\u001B[1;32m-> 1082\u001B[0m     \u001B[38;5;28;43mself\u001B[39;49m\u001B[38;5;241;43m.\u001B[39;49m\u001B[43mget_records\u001B[49m\u001B[43m(\u001B[49m\u001B[43metb\u001B[49m\u001B[43m,\u001B[49m\u001B[43m \u001B[49m\u001B[43mnumber_of_lines_of_context\u001B[49m\u001B[43m,\u001B[49m\u001B[43m \u001B[49m\u001B[43mtb_offset\u001B[49m\u001B[43m)\u001B[49m \u001B[38;5;28;01mif\u001B[39;00m etb \u001B[38;5;28;01melse\u001B[39;00m []\n\u001B[0;32m   1083\u001B[0m )\n\u001B[0;32m   1085\u001B[0m frames \u001B[38;5;241m=\u001B[39m []\n\u001B[0;32m   1086\u001B[0m skipped \u001B[38;5;241m=\u001B[39m \u001B[38;5;241m0\u001B[39m\n",
      "File \u001B[1;32mE:\\BERT\\uvl-tore-classifier-bert\\venv310\\lib\\site-packages\\IPython\\core\\ultratb.py:1150\u001B[0m, in \u001B[0;36mVerboseTB.get_records\u001B[1;34m(self, etb, number_of_lines_of_context, tb_offset)\u001B[0m\n\u001B[0;32m   1148\u001B[0m \u001B[38;5;28;01mwhile\u001B[39;00m cf \u001B[38;5;129;01mis\u001B[39;00m \u001B[38;5;129;01mnot\u001B[39;00m \u001B[38;5;28;01mNone\u001B[39;00m:\n\u001B[0;32m   1149\u001B[0m     \u001B[38;5;28;01mtry\u001B[39;00m:\n\u001B[1;32m-> 1150\u001B[0m         mod \u001B[38;5;241m=\u001B[39m inspect\u001B[38;5;241m.\u001B[39mgetmodule(\u001B[43mcf\u001B[49m\u001B[38;5;241;43m.\u001B[39;49m\u001B[43mtb_frame\u001B[49m)\n\u001B[0;32m   1151\u001B[0m         \u001B[38;5;28;01mif\u001B[39;00m mod \u001B[38;5;129;01mis\u001B[39;00m \u001B[38;5;129;01mnot\u001B[39;00m \u001B[38;5;28;01mNone\u001B[39;00m:\n\u001B[0;32m   1152\u001B[0m             mod_name \u001B[38;5;241m=\u001B[39m mod\u001B[38;5;241m.\u001B[39m\u001B[38;5;18m__name__\u001B[39m\n",
      "\u001B[1;31mAttributeError\u001B[0m: 'tuple' object has no attribute 'tb_frame'"
     ]
    }
   ],
   "source": [
    "from tooling.observability import get_run_id\n",
    "from tooling.config import BiLSTMConfig, BiLSTM\n",
    "\n",
    "from copy import deepcopy\n",
    "\n",
    "bilstm_experiment_config = deepcopy(base_experiment_config)\n",
    "bilstm_experiment_config.name = \"Production\"\n",
    "\n",
    "bilstm_config = BiLSTM(\n",
    "    batch_size=16,\n",
    "    learning_rate=0.006,\n",
    "    number_epochs=5,\n",
    "    weighted_classes=False,\n",
    "    sentence_length=106,\n",
    ")\n",
    "\n",
    "bilstm_cfg: BiLSTMConfig = OmegaConf.structured(\n",
    "    BiLSTMConfig(\n",
    "        bilstm=bilstm_config,\n",
    "        experiment=bilstm_experiment_config,\n",
    "        transformation=levels_transformation_config,\n",
    "    )\n",
    ")\n",
    "\n",
    "# bilstm_cfg.experiment.force = True\n",
    "\n",
    "if run_experiments:\n",
    "    from experiments.bilstm import bilstm\n",
    "\n",
    "    bilstm(bilstm_cfg)\n",
    "\n",
    "\n",
    "bilstm_run_id = get_run_id(bilstm_cfg, pin_commit=pin_commits)\n",
    "\n",
    "print(bilstm_run_id)\n",
    "print(mlflow.get_artifact_uri())\n",
    "\n",
    "bilstm_run = mlflow.get_run(bilstm_run_id)\n",
    "mlflow.artifacts.download_artifacts(\n",
    "    f\"{bilstm_run.info.artifact_uri}/0_model\",\n",
    "    dst_path=Path(\"./src/service/models/\"),\n",
    ")\n",
    "try:\n",
    "    shutil.rmtree(Path(\"./src/service/models/bilstm\"))\n",
    "except FileNotFoundError:\n",
    "    pass\n",
    "Path(\"./src/service/models/0_model\").rename(\"./src/service/models/bilstm\")"
   ]
  },
  {
   "cell_type": "markdown",
   "metadata": {},
   "source": [
    "## Train SNER First Stage Model\n"
   ]
  },
  {
   "cell_type": "code",
   "execution_count": null,
   "metadata": {},
   "outputs": [],
   "source": [
    "from tooling.observability import get_run_id\n",
    "from tooling.config import SNERConfig, SNER\n",
    "\n",
    "from copy import deepcopy\n",
    "\n",
    "sner_experiment_config = deepcopy(base_experiment_config)\n",
    "sner_experiment_config.name = \"Production\"\n",
    "\n",
    "sner_config = SNER()\n",
    "\n",
    "sner_cfg = OmegaConf.structured(\n",
    "    SNERConfig(\n",
    "        sner=sner_config,\n",
    "        experiment=sner_experiment_config,\n",
    "        transformation=levels_transformation_config,\n",
    "    )\n",
    ")\n",
    "\n",
    "if run_experiments:\n",
    "    from experiments.sner import sner\n",
    "\n",
    "    sner(OmegaConf.create(sner_cfg))\n",
    "\n",
    "sner_run_id = get_run_id(sner_cfg, pin_commit=pin_commits)\n",
    "print(mlflow.get_artifact_uri())\n",
    "print(sner_run_id)\n",
    "\n",
    "sner_run = mlflow.get_run(sner_run_id)\n",
    "mlflow.artifacts.download_artifacts(\n",
    "    f\"{sner_run.info.artifact_uri}/0_model.ser.gz\",\n",
    "    dst_path=Path(\"./src/service/models/\"),\n",
    ")\n",
    "try:\n",
    "    Path(\"./src/service/models/sner.ser.gz\").unlink()\n",
    "except FileNotFoundError:\n",
    "    pass\n",
    "Path(\"./src/service/models/0_model.ser.gz\").rename(\n",
    "    \"./src/service/models/sner.ser.gz\"\n",
    ")"
   ]
  },
  {
   "cell_type": "markdown",
   "metadata": {},
   "source": [
    "## Train BERT First Stage Model\n"
   ]
  },
  {
   "cell_type": "code",
   "execution_count": 18,
   "metadata": {
    "ExecuteTime": {
     "end_time": "2024-06-13T10:11:37.699317Z",
     "start_time": "2024-06-13T09:57:42.036885Z"
    }
   },
   "outputs": [
    {
     "name": "stderr",
     "output_type": "stream",
     "text": [
      "11:57:42 INFO:\n",
      "bert:\n",
      "  model: bert-large-uncased\n",
      "  type: BERT\n",
      "  max_len: 123\n",
      "  train_batch_size: 8\n",
      "  validation_batch_size: 64\n",
      "  number_epochs: 11\n",
      "  learning_rate_bert: 3.0e-05\n",
      "  learning_rate_classifier: 0.0005\n",
      "  weight_decay: 0.01\n",
      "  weighted_classes: true\n",
      "experiment:\n",
      "  name: Production\n",
      "  description: ''\n",
      "  random_state: 125\n",
      "  folds: 5\n",
      "  iterations: 1\n",
      "  average: macro\n",
      "  dataset: paf\n",
      "  lower_case: true\n",
      "  force: false\n",
      "  pin_commit: false\n",
      "  smote: false\n",
      "  smote_k_neighbors: 5\n",
      "  smote_sampling_strategy: not majority\n",
      "transformation:\n",
      "  description: Levels\n",
      "  type: Reduced\n",
      "  task: Domain_Level\n",
      "  goals: null\n",
      "  domain_data: Domain_Level\n",
      "  activity: Domain_Level\n",
      "  stakeholder: Domain_Level\n",
      "  system_function: Interaction_Level\n",
      "  interaction: Interaction_Level\n",
      "  interaction_data: Domain_Level\n",
      "  workspace: Interaction_Level\n",
      "  software: System_Level\n",
      "  internal_action: System_Level\n",
      "  internal_data: System_Level\n",
      "  system_level: System_Level\n",
      "\n",
      "11:57:42 INFO:New experiment. Running\n",
      "11:57:42 INFO:Entering mlflow context\n",
      "11:57:42 INFO:Importing dataset: prolific from E:\\BERT\\uvl-tore-classifier-bert\\src\\data\\datasets\\prolific\\TORE_Coded_Answers_1_33.json\n",
      "11:57:43 INFO:Importing dataset: prolific from E:\\BERT\\uvl-tore-classifier-bert\\src\\data\\datasets\\prolific\\TORE_Coded_Answers_34_66.json\n",
      "11:57:43 INFO:Importing dataset: prolific from E:\\BERT\\uvl-tore-classifier-bert\\src\\data\\datasets\\prolific\\TORE_Coded_Answers_67_100.json\n",
      "11:57:43 INFO:Importing dataset: anno from E:\\BERT\\uvl-tore-classifier-bert\\src\\data\\datasets\\forum\\anno_test.json\n",
      "11:57:43 INFO:Importing dataset: anno from E:\\BERT\\uvl-tore-classifier-bert\\src\\data\\datasets\\forum\\anno_train.json\n",
      "11:57:44 INFO:Dataset Labels: transformed_dataset['labels']=['0', 'Interaction_Level', 'System_Level', 'Domain_Level']\n",
      "11:57:44 INFO:Class weights: {'0': 0.32929707, 'System_Level': 6.0813575, 'Domain_Level': 2.1422532, 'Interaction_Level': 3.012111}\n",
      "11:57:44 INFO:Configured maximal token sequence length: max_len = 123\n"
     ]
    },
    {
     "name": "stdout",
     "output_type": "stream",
     "text": [
      "Entered Iteration 1 now\n",
      "prolific\n",
      "anno\n",
      "prolific\n"
     ]
    },
    {
     "name": "stderr",
     "output_type": "stream",
     "text": [
      "11:58:01 INFO:Created datasets for foldless run\n",
      "11:58:01 INFO:Starting iteration=1\n"
     ]
    },
    {
     "name": "stdout",
     "output_type": "stream",
     "text": [
      "                                sentence_id sentence_idx   string  \\\n",
      "0      60804326-296b-11ef-88ee-a6448883ebfb            0     this   \n",
      "1      60804326-296b-11ef-88ee-a6448883ebfb            1      app   \n",
      "2      60804326-296b-11ef-88ee-a6448883ebfb            2       is   \n",
      "3      60804326-296b-11ef-88ee-a6448883ebfb            3      for   \n",
      "4      60804326-296b-11ef-88ee-a6448883ebfb            4  mapping   \n",
      "...                                     ...          ...      ...   \n",
      "26602  60cd5842-296b-11ef-a704-a6448883ebfb            2    could   \n",
      "26603  60cd5842-296b-11ef-a704-a6448883ebfb            3       be   \n",
      "26604  60cd5842-296b-11ef-a704-a6448883ebfb            4     made   \n",
      "26605  60cd5842-296b-11ef-a704-a6448883ebfb            5  clearer   \n",
      "26606  60cd5842-296b-11ef-a704-a6448883ebfb            6        .   \n",
      "\n",
      "              tore_label  \n",
      "0                      0  \n",
      "1           System_Level  \n",
      "2                      0  \n",
      "3                      0  \n",
      "4      Interaction_Level  \n",
      "...                  ...  \n",
      "26602                  0  \n",
      "26603                  0  \n",
      "26604                  0  \n",
      "26605                  0  \n",
      "26606                  0  \n",
      "\n",
      "[26607 rows x 4 columns]\n"
     ]
    },
    {
     "data": {
      "text/plain": "Map:   0%|          | 0/1344 [00:00<?, ? examples/s]",
      "application/vnd.jupyter.widget-view+json": {
       "version_major": 2,
       "version_minor": 0,
       "model_id": "560cda640bd94855b608dd62d8c74f68"
      }
     },
     "metadata": {},
     "output_type": "display_data"
    },
    {
     "data": {
      "text/plain": "Map:   0%|          | 0/865 [00:00<?, ? examples/s]",
      "application/vnd.jupyter.widget-view+json": {
       "version_major": 2,
       "version_minor": 0,
       "model_id": "03b9f35f4e8e48feb6017231435f25cb"
      }
     },
     "metadata": {},
     "output_type": "display_data"
    },
    {
     "name": "stderr",
     "output_type": "stream",
     "text": [
      "E:\\BERT\\uvl-tore-classifier-bert\\venv310\\lib\\site-packages\\transformers\\training_args.py:1474: FutureWarning: `evaluation_strategy` is deprecated and will be removed in version 4.46 of 🤗 Transformers. Use `eval_strategy` instead\n",
      "  warnings.warn(\n",
      "11:58:40 INFO:Logged iteration result res.precision=0.5064461659463743 res.recall=0.5476148857803955\n"
     ]
    },
    {
     "name": "stdout",
     "output_type": "stream",
     "text": [
      "{'eval_loss': 1.1478462219238281, 'eval_step': 0, 'eval_precision': 0.5064461659463743, 'eval_recall': 0.5476148857803955, 'eval_f1': 0.5262265574926744, 'eval_label_count': 4, 'eval_runtime': 4.6367, 'eval_samples_per_second': 186.554, 'eval_steps_per_second': 3.019, 'epoch': 1.0}\n"
     ]
    },
    {
     "name": "stderr",
     "output_type": "stream",
     "text": [
      "11:59:25 INFO:Logged iteration result res.precision=0.5269607291360836 res.recall=0.600851935050414\n"
     ]
    },
    {
     "name": "stdout",
     "output_type": "stream",
     "text": [
      "{'eval_loss': 1.2874481678009033, 'eval_step': 2, 'eval_precision': 0.5269607291360836, 'eval_recall': 0.600851935050414, 'eval_f1': 0.5614857570789523, 'eval_label_count': 4, 'eval_runtime': 4.6596, 'eval_samples_per_second': 185.637, 'eval_steps_per_second': 3.005, 'epoch': 2.0}\n",
      "{'loss': 0.3389, 'grad_norm': 7.05113410949707, 'learning_rate': 2.1883116883116884e-05, 'epoch': 2.9761904761904763}\n"
     ]
    },
    {
     "name": "stderr",
     "output_type": "stream",
     "text": [
      "12:00:43 INFO:Logged iteration result res.precision=0.5181420782424391 res.recall=0.5815889781636878\n"
     ]
    },
    {
     "name": "stdout",
     "output_type": "stream",
     "text": [
      "{'eval_loss': 1.7410526275634766, 'eval_step': 4, 'eval_precision': 0.5181420782424391, 'eval_recall': 0.5815889781636878, 'eval_f1': 0.5480353038558616, 'eval_label_count': 4, 'eval_runtime': 4.66, 'eval_samples_per_second': 185.62, 'eval_steps_per_second': 3.004, 'epoch': 3.0}\n"
     ]
    },
    {
     "name": "stderr",
     "output_type": "stream",
     "text": [
      "12:01:58 INFO:Logged iteration result res.precision=0.5393042365106457 res.recall=0.5967143607974735\n"
     ]
    },
    {
     "name": "stdout",
     "output_type": "stream",
     "text": [
      "{'eval_loss': 1.9520854949951172, 'eval_step': 6, 'eval_precision': 0.5393042365106457, 'eval_recall': 0.5967143607974735, 'eval_f1': 0.5665586523449063, 'eval_label_count': 4, 'eval_runtime': 4.6151, 'eval_samples_per_second': 187.428, 'eval_steps_per_second': 3.034, 'epoch': 4.0}\n"
     ]
    },
    {
     "name": "stderr",
     "output_type": "stream",
     "text": [
      "12:03:11 INFO:Logged iteration result res.precision=0.5574083335348147 res.recall=0.5685037135768782\n"
     ]
    },
    {
     "name": "stdout",
     "output_type": "stream",
     "text": [
      "{'eval_loss': 2.809781312942505, 'eval_step': 8, 'eval_precision': 0.5574083335348147, 'eval_recall': 0.5685037135768782, 'eval_f1': 0.562901353451466, 'eval_label_count': 4, 'eval_runtime': 4.6558, 'eval_samples_per_second': 185.79, 'eval_steps_per_second': 3.007, 'epoch': 5.0}\n",
      "{'loss': 0.053, 'grad_norm': 2.565242290496826, 'learning_rate': 1.3766233766233767e-05, 'epoch': 5.9523809523809526}\n"
     ]
    },
    {
     "name": "stderr",
     "output_type": "stream",
     "text": [
      "12:04:28 INFO:Logged iteration result res.precision=0.5455021016182899 res.recall=0.581243595608129\n"
     ]
    },
    {
     "name": "stdout",
     "output_type": "stream",
     "text": [
      "{'eval_loss': 2.6070752143859863, 'eval_step': 10, 'eval_precision': 0.5455021016182899, 'eval_recall': 0.581243595608129, 'eval_f1': 0.5628059707472587, 'eval_label_count': 4, 'eval_runtime': 4.5643, 'eval_samples_per_second': 189.516, 'eval_steps_per_second': 3.067, 'epoch': 6.0}\n"
     ]
    },
    {
     "name": "stderr",
     "output_type": "stream",
     "text": [
      "12:05:44 INFO:Logged iteration result res.precision=0.5493606377813963 res.recall=0.5859880561673751\n"
     ]
    },
    {
     "name": "stdout",
     "output_type": "stream",
     "text": [
      "{'eval_loss': 2.9649789333343506, 'eval_step': 12, 'eval_precision': 0.5493606377813963, 'eval_recall': 0.5859880561673751, 'eval_f1': 0.5670835294639716, 'eval_label_count': 4, 'eval_runtime': 4.6124, 'eval_samples_per_second': 187.538, 'eval_steps_per_second': 3.035, 'epoch': 7.0}\n"
     ]
    },
    {
     "name": "stderr",
     "output_type": "stream",
     "text": [
      "12:06:55 INFO:Logged iteration result res.precision=0.5741015483733445 res.recall=0.5660252026709948\n"
     ]
    },
    {
     "name": "stdout",
     "output_type": "stream",
     "text": [
      "{'eval_loss': 3.5222249031066895, 'eval_step': 14, 'eval_precision': 0.5741015483733445, 'eval_recall': 0.5660252026709948, 'eval_f1': 0.5700347702114689, 'eval_label_count': 4, 'eval_runtime': 4.6067, 'eval_samples_per_second': 187.771, 'eval_steps_per_second': 3.039, 'epoch': 8.0}\n",
      "{'loss': 0.0126, 'grad_norm': 0.4433070123195648, 'learning_rate': 5.64935064935065e-06, 'epoch': 8.928571428571429}\n"
     ]
    },
    {
     "name": "stderr",
     "output_type": "stream",
     "text": [
      "12:08:12 INFO:Logged iteration result res.precision=0.5566227144301477 res.recall=0.5804342369386541\n"
     ]
    },
    {
     "name": "stdout",
     "output_type": "stream",
     "text": [
      "{'eval_loss': 3.258950710296631, 'eval_step': 16, 'eval_precision': 0.5566227144301477, 'eval_recall': 0.5804342369386541, 'eval_f1': 0.5682791528147371, 'eval_label_count': 4, 'eval_runtime': 4.5712, 'eval_samples_per_second': 189.23, 'eval_steps_per_second': 3.063, 'epoch': 9.0}\n"
     ]
    },
    {
     "name": "stderr",
     "output_type": "stream",
     "text": [
      "12:09:25 INFO:Logged iteration result res.precision=0.5555138849096481 res.recall=0.5824474637706192\n"
     ]
    },
    {
     "name": "stdout",
     "output_type": "stream",
     "text": [
      "{'eval_loss': 3.3940863609313965, 'eval_step': 18, 'eval_precision': 0.5555138849096481, 'eval_recall': 0.5824474637706192, 'eval_f1': 0.5686619387033296, 'eval_label_count': 4, 'eval_runtime': 4.6262, 'eval_samples_per_second': 186.979, 'eval_steps_per_second': 3.026, 'epoch': 10.0}\n"
     ]
    },
    {
     "name": "stderr",
     "output_type": "stream",
     "text": [
      "12:10:36 INFO:Logged iteration result res.precision=0.5539589497846025 res.recall=0.5767043666798917\n"
     ]
    },
    {
     "name": "stdout",
     "output_type": "stream",
     "text": [
      "{'eval_loss': 3.4276018142700195, 'eval_step': 20, 'eval_precision': 0.5539589497846025, 'eval_recall': 0.5767043666798917, 'eval_f1': 0.5651028748348348, 'eval_label_count': 4, 'eval_runtime': 4.6084, 'eval_samples_per_second': 187.702, 'eval_steps_per_second': 3.038, 'epoch': 11.0}\n",
      "{'train_runtime': 787.9082, 'train_samples_per_second': 18.764, 'train_steps_per_second': 2.345, 'train_loss': 0.11006036039554712, 'epoch': 11.0}\n"
     ]
    },
    {
     "name": "stderr",
     "output_type": "stream",
     "text": [
      "12:11:34 INFO:Logged iteration result res.precision=0.5539589497846025 res.recall=0.5767043666798917\n",
      "12:11:34 INFO:Logged iteration result res.precision=0.5539589497846025 res.recall=0.5767043666798917\n",
      "12:11:34 INFO:Finished iteration=1\n",
      "12:11:34 INFO:Logging model artifact (might take a while)\n",
      "12:11:35 INFO:Logged experiment result res.mean_precision=0.5539589497846025 res.mean_recall=0.5767043666798917\n",
      "12:11:37 INFO:Left mlflow context\n"
     ]
    },
    {
     "name": "stdout",
     "output_type": "stream",
     "text": [
      "dcd8f1a95677469bb7ee5ba7c5b2fa8e\n"
     ]
    },
    {
     "data": {
      "text/plain": "Downloading artifacts:   0%|          | 0/1 [00:00<?, ?it/s]",
      "application/vnd.jupyter.widget-view+json": {
       "version_major": 2,
       "version_minor": 0,
       "model_id": "4f35b5fd66174955abeba265da41a968"
      }
     },
     "metadata": {},
     "output_type": "display_data"
    },
    {
     "ename": "MlflowException",
     "evalue": "The following failures occurred while downloading one or more artifacts from file:///E:/BERT/uvl-tore-classifier-bert/127.0.0.1/279074982670971635/dcd8f1a95677469bb7ee5ba7c5b2fa8e/artifacts:\n##### File 0_model #####\n[Errno 2] No such file or directory: 'E:\\\\BERT\\\\uvl-tore-classifier-bert\\\\127.0.0.1\\\\279074982670971635\\\\dcd8f1a95677469bb7ee5ba7c5b2fa8e\\\\artifacts\\\\0_model'",
     "output_type": "error",
     "traceback": [
      "\u001B[1;31m---------------------------------------------------------------------------\u001B[0m",
      "\u001B[1;31mMlflowException\u001B[0m                           Traceback (most recent call last)",
      "Cell \u001B[1;32mIn[18], line 40\u001B[0m\n\u001B[0;32m     37\u001B[0m \u001B[38;5;28mprint\u001B[39m(bert_1_run_id)\n\u001B[0;32m     39\u001B[0m bert_1_run \u001B[38;5;241m=\u001B[39m mlflow\u001B[38;5;241m.\u001B[39mget_run(bert_1_run_id)\n\u001B[1;32m---> 40\u001B[0m \u001B[43mmlflow\u001B[49m\u001B[38;5;241;43m.\u001B[39;49m\u001B[43martifacts\u001B[49m\u001B[38;5;241;43m.\u001B[39;49m\u001B[43mdownload_artifacts\u001B[49m\u001B[43m(\u001B[49m\n\u001B[0;32m     41\u001B[0m \u001B[43m    \u001B[49m\u001B[38;5;124;43mf\u001B[39;49m\u001B[38;5;124;43m\"\u001B[39;49m\u001B[38;5;132;43;01m{\u001B[39;49;00m\u001B[43mbert_1_run\u001B[49m\u001B[38;5;241;43m.\u001B[39;49m\u001B[43minfo\u001B[49m\u001B[38;5;241;43m.\u001B[39;49m\u001B[43martifact_uri\u001B[49m\u001B[38;5;132;43;01m}\u001B[39;49;00m\u001B[38;5;124;43m/0_model\u001B[39;49m\u001B[38;5;124;43m\"\u001B[39;49m\u001B[43m,\u001B[49m\n\u001B[0;32m     42\u001B[0m \u001B[43m    \u001B[49m\u001B[43mdst_path\u001B[49m\u001B[38;5;241;43m=\u001B[39;49m\u001B[43mPath\u001B[49m\u001B[43m(\u001B[49m\u001B[38;5;124;43m\"\u001B[39;49m\u001B[38;5;124;43m./src/service/models/\u001B[39;49m\u001B[38;5;124;43m\"\u001B[39;49m\u001B[43m)\u001B[49m\u001B[43m,\u001B[49m\n\u001B[0;32m     43\u001B[0m \u001B[43m)\u001B[49m\n\u001B[0;32m     44\u001B[0m \u001B[38;5;28;01mtry\u001B[39;00m:\n\u001B[0;32m     45\u001B[0m     shutil\u001B[38;5;241m.\u001B[39mrmtree(Path(\u001B[38;5;124m\"\u001B[39m\u001B[38;5;124m./src/service/models/bert_1\u001B[39m\u001B[38;5;124m\"\u001B[39m))\n",
      "File \u001B[1;32mE:\\BERT\\uvl-tore-classifier-bert\\venv310\\lib\\site-packages\\mlflow\\artifacts\\__init__.py:63\u001B[0m, in \u001B[0;36mdownload_artifacts\u001B[1;34m(artifact_uri, run_id, artifact_path, dst_path, tracking_uri)\u001B[0m\n\u001B[0;32m     60\u001B[0m     pathlib\u001B[38;5;241m.\u001B[39mPath(dst_path)\u001B[38;5;241m.\u001B[39mmkdir(exist_ok\u001B[38;5;241m=\u001B[39m\u001B[38;5;28;01mTrue\u001B[39;00m, parents\u001B[38;5;241m=\u001B[39m\u001B[38;5;28;01mTrue\u001B[39;00m)\n\u001B[0;32m     62\u001B[0m \u001B[38;5;28;01mif\u001B[39;00m artifact_uri \u001B[38;5;129;01mis\u001B[39;00m \u001B[38;5;129;01mnot\u001B[39;00m \u001B[38;5;28;01mNone\u001B[39;00m:\n\u001B[1;32m---> 63\u001B[0m     \u001B[38;5;28;01mreturn\u001B[39;00m \u001B[43m_download_artifact_from_uri\u001B[49m\u001B[43m(\u001B[49m\u001B[43martifact_uri\u001B[49m\u001B[43m,\u001B[49m\u001B[43m \u001B[49m\u001B[43moutput_path\u001B[49m\u001B[38;5;241;43m=\u001B[39;49m\u001B[43mdst_path\u001B[49m\u001B[43m)\u001B[49m\n\u001B[0;32m     65\u001B[0m artifact_path \u001B[38;5;241m=\u001B[39m artifact_path \u001B[38;5;28;01mif\u001B[39;00m artifact_path \u001B[38;5;129;01mis\u001B[39;00m \u001B[38;5;129;01mnot\u001B[39;00m \u001B[38;5;28;01mNone\u001B[39;00m \u001B[38;5;28;01melse\u001B[39;00m \u001B[38;5;124m\"\u001B[39m\u001B[38;5;124m\"\u001B[39m\n\u001B[0;32m     67\u001B[0m store \u001B[38;5;241m=\u001B[39m _get_store(store_uri\u001B[38;5;241m=\u001B[39mtracking_uri)\n",
      "File \u001B[1;32mE:\\BERT\\uvl-tore-classifier-bert\\venv310\\lib\\site-packages\\mlflow\\tracking\\artifact_utils.py:106\u001B[0m, in \u001B[0;36m_download_artifact_from_uri\u001B[1;34m(artifact_uri, output_path)\u001B[0m\n\u001B[0;32m     99\u001B[0m \u001B[38;5;250m\u001B[39m\u001B[38;5;124;03m\"\"\"\u001B[39;00m\n\u001B[0;32m    100\u001B[0m \u001B[38;5;124;03mArgs:\u001B[39;00m\n\u001B[0;32m    101\u001B[0m \u001B[38;5;124;03m    artifact_uri: The *absolute* URI of the artifact to download.\u001B[39;00m\n\u001B[0;32m    102\u001B[0m \u001B[38;5;124;03m    output_path: The local filesystem path to which to download the artifact. If unspecified,\u001B[39;00m\n\u001B[0;32m    103\u001B[0m \u001B[38;5;124;03m        a local output path will be created.\u001B[39;00m\n\u001B[0;32m    104\u001B[0m \u001B[38;5;124;03m\"\"\"\u001B[39;00m\n\u001B[0;32m    105\u001B[0m root_uri, artifact_path \u001B[38;5;241m=\u001B[39m _get_root_uri_and_artifact_path(artifact_uri)\n\u001B[1;32m--> 106\u001B[0m \u001B[38;5;28;01mreturn\u001B[39;00m \u001B[43mget_artifact_repository\u001B[49m\u001B[43m(\u001B[49m\u001B[43martifact_uri\u001B[49m\u001B[38;5;241;43m=\u001B[39;49m\u001B[43mroot_uri\u001B[49m\u001B[43m)\u001B[49m\u001B[38;5;241;43m.\u001B[39;49m\u001B[43mdownload_artifacts\u001B[49m\u001B[43m(\u001B[49m\n\u001B[0;32m    107\u001B[0m \u001B[43m    \u001B[49m\u001B[43martifact_path\u001B[49m\u001B[38;5;241;43m=\u001B[39;49m\u001B[43martifact_path\u001B[49m\u001B[43m,\u001B[49m\u001B[43m \u001B[49m\u001B[43mdst_path\u001B[49m\u001B[38;5;241;43m=\u001B[39;49m\u001B[43moutput_path\u001B[49m\n\u001B[0;32m    108\u001B[0m \u001B[43m\u001B[49m\u001B[43m)\u001B[49m\n",
      "File \u001B[1;32mE:\\BERT\\uvl-tore-classifier-bert\\venv310\\lib\\site-packages\\mlflow\\store\\artifact\\local_artifact_repo.py:79\u001B[0m, in \u001B[0;36mLocalArtifactRepository.download_artifacts\u001B[1;34m(self, artifact_path, dst_path)\u001B[0m\n\u001B[0;32m     64\u001B[0m \u001B[38;5;250m\u001B[39m\u001B[38;5;124;03m\"\"\"\u001B[39;00m\n\u001B[0;32m     65\u001B[0m \u001B[38;5;124;03mArtifacts tracked by ``LocalArtifactRepository`` already exist on the local filesystem.\u001B[39;00m\n\u001B[0;32m     66\u001B[0m \u001B[38;5;124;03mIf ``dst_path`` is ``None``, the absolute filesystem path of the specified artifact is\u001B[39;00m\n\u001B[1;32m   (...)\u001B[0m\n\u001B[0;32m     76\u001B[0m \u001B[38;5;124;03m    Absolute path of the local filesystem location containing the desired artifacts.\u001B[39;00m\n\u001B[0;32m     77\u001B[0m \u001B[38;5;124;03m\"\"\"\u001B[39;00m\n\u001B[0;32m     78\u001B[0m \u001B[38;5;28;01mif\u001B[39;00m dst_path:\n\u001B[1;32m---> 79\u001B[0m     \u001B[38;5;28;01mreturn\u001B[39;00m \u001B[38;5;28;43msuper\u001B[39;49m\u001B[43m(\u001B[49m\u001B[43m)\u001B[49m\u001B[38;5;241;43m.\u001B[39;49m\u001B[43mdownload_artifacts\u001B[49m\u001B[43m(\u001B[49m\u001B[43martifact_path\u001B[49m\u001B[43m,\u001B[49m\u001B[43m \u001B[49m\u001B[43mdst_path\u001B[49m\u001B[43m)\u001B[49m\n\u001B[0;32m     80\u001B[0m \u001B[38;5;66;03m# NOTE: The artifact_path is expected to be a relative path in posix format.\u001B[39;00m\n\u001B[0;32m     81\u001B[0m \u001B[38;5;66;03m# Posix paths work fine on windows but just in case we normalize it here.\u001B[39;00m\n\u001B[0;32m     82\u001B[0m artifact_path \u001B[38;5;241m=\u001B[39m validate_path_is_safe(artifact_path)\n",
      "File \u001B[1;32mE:\\BERT\\uvl-tore-classifier-bert\\venv310\\lib\\site-packages\\mlflow\\store\\artifact\\artifact_repo.py:279\u001B[0m, in \u001B[0;36mArtifactRepository.download_artifacts\u001B[1;34m(self, artifact_path, dst_path)\u001B[0m\n\u001B[0;32m    275\u001B[0m     template \u001B[38;5;241m=\u001B[39m \u001B[38;5;124m\"\u001B[39m\u001B[38;5;124m##### File \u001B[39m\u001B[38;5;132;01m{path}\u001B[39;00m\u001B[38;5;124m #####\u001B[39m\u001B[38;5;130;01m\\n\u001B[39;00m\u001B[38;5;132;01m{error}\u001B[39;00m\u001B[38;5;124m\"\u001B[39m\n\u001B[0;32m    276\u001B[0m     failures \u001B[38;5;241m=\u001B[39m \u001B[38;5;124m\"\u001B[39m\u001B[38;5;130;01m\\n\u001B[39;00m\u001B[38;5;124m\"\u001B[39m\u001B[38;5;241m.\u001B[39mjoin(\n\u001B[0;32m    277\u001B[0m         template\u001B[38;5;241m.\u001B[39mformat(path\u001B[38;5;241m=\u001B[39mpath, error\u001B[38;5;241m=\u001B[39merror) \u001B[38;5;28;01mfor\u001B[39;00m path, error \u001B[38;5;129;01min\u001B[39;00m failed_downloads\u001B[38;5;241m.\u001B[39mitems()\n\u001B[0;32m    278\u001B[0m     )\n\u001B[1;32m--> 279\u001B[0m     \u001B[38;5;28;01mraise\u001B[39;00m MlflowException(\n\u001B[0;32m    280\u001B[0m         message\u001B[38;5;241m=\u001B[39m(\n\u001B[0;32m    281\u001B[0m             \u001B[38;5;124m\"\u001B[39m\u001B[38;5;124mThe following failures occurred while downloading one or more\u001B[39m\u001B[38;5;124m\"\u001B[39m\n\u001B[0;32m    282\u001B[0m             \u001B[38;5;124mf\u001B[39m\u001B[38;5;124m\"\u001B[39m\u001B[38;5;124m artifacts from \u001B[39m\u001B[38;5;132;01m{\u001B[39;00m\u001B[38;5;28mself\u001B[39m\u001B[38;5;241m.\u001B[39martifact_uri\u001B[38;5;132;01m}\u001B[39;00m\u001B[38;5;124m:\u001B[39m\u001B[38;5;130;01m\\n\u001B[39;00m\u001B[38;5;132;01m{\u001B[39;00m_truncate_error(failures)\u001B[38;5;132;01m}\u001B[39;00m\u001B[38;5;124m\"\u001B[39m\n\u001B[0;32m    283\u001B[0m         )\n\u001B[0;32m    284\u001B[0m     )\n\u001B[0;32m    286\u001B[0m \u001B[38;5;28;01mreturn\u001B[39;00m os\u001B[38;5;241m.\u001B[39mpath\u001B[38;5;241m.\u001B[39mjoin(dst_path, artifact_path)\n",
      "\u001B[1;31mMlflowException\u001B[0m: The following failures occurred while downloading one or more artifacts from file:///E:/BERT/uvl-tore-classifier-bert/127.0.0.1/279074982670971635/dcd8f1a95677469bb7ee5ba7c5b2fa8e/artifacts:\n##### File 0_model #####\n[Errno 2] No such file or directory: 'E:\\\\BERT\\\\uvl-tore-classifier-bert\\\\127.0.0.1\\\\279074982670971635\\\\dcd8f1a95677469bb7ee5ba7c5b2fa8e\\\\artifacts\\\\0_model'"
     ]
    }
   ],
   "source": [
    "from tooling.observability import get_run_id\n",
    "from tooling.config import BERTConfig, BERT\n",
    "\n",
    "from copy import deepcopy\n",
    "\n",
    "bert_1_experiment_config = deepcopy(base_experiment_config)\n",
    "bert_1_experiment_config.name = \"Production\"\n",
    "bert_1_experiment_config.force = False\n",
    "\n",
    "bert_1_config = BERT(\n",
    "    max_len=123,\n",
    "    number_epochs=11,\n",
    "    train_batch_size=8,\n",
    "    weight_decay=0.01,\n",
    "    weighted_classes=True,\n",
    "    learning_rate_bert=3e-05,\n",
    "    learning_rate_classifier=0.0005,\n",
    "    validation_batch_size=64,\n",
    ")\n",
    "\n",
    "\n",
    "bert_1_cfg = OmegaConf.structured(\n",
    "    BERTConfig(\n",
    "        bert=bert_1_config,\n",
    "        experiment=bert_1_experiment_config,\n",
    "        transformation=levels_transformation_config,\n",
    "    )\n",
    ")\n",
    "\n",
    "if run_experiments:\n",
    "    from experiments.bert import bert\n",
    "\n",
    "    bert(OmegaConf.create(bert_1_cfg))\n",
    "\n",
    "bert_1_run_id = get_run_id(bert_1_cfg, pin_commit=pin_commits)\n",
    "\n",
    "print(bert_1_run_id)\n",
    "\n",
    "bert_1_run = mlflow.get_run(bert_1_run_id)\n",
    "mlflow.artifacts.download_artifacts(\n",
    "    f\"{bert_1_run.info.artifact_uri}/0_model\",\n",
    "    dst_path=Path(\"./src/service/models/\"),\n",
    ")\n",
    "try:\n",
    "    shutil.rmtree(Path(\"./src/service/models/bert_1\"))\n",
    "except FileNotFoundError:\n",
    "    pass\n",
    "Path(\"./src/service/models/0_model\").rename(\"./src/service/models/bert_1\")\n",
    "## Train BERT Second Stage Model for BERT First Stage"
   ]
  },
  {
   "cell_type": "code",
   "execution_count": 35,
   "metadata": {
    "ExecuteTime": {
     "end_time": "2024-05-21T15:28:06.338632Z",
     "start_time": "2024-05-21T15:22:04.314609Z"
    }
   },
   "outputs": [
    {
     "name": "stderr",
     "output_type": "stream",
     "text": [
      "05:22:04 INFO:\n",
      "first_model_bert:\n",
      "  bert:\n",
      "    model: bert-large-uncased\n",
      "    type: BERT\n",
      "    max_len: 123\n",
      "    train_batch_size: 8\n",
      "    validation_batch_size: 64\n",
      "    number_epochs: 11\n",
      "    learning_rate_bert: 3.0e-05\n",
      "    learning_rate_classifier: 0.0005\n",
      "    weight_decay: 0.01\n",
      "    weighted_classes: true\n",
      "  experiment:\n",
      "    name: Production\n",
      "    description: ''\n",
      "    random_state: 125\n",
      "    folds: 5\n",
      "    iterations: 1\n",
      "    average: macro\n",
      "    dataset: all\n",
      "    lower_case: true\n",
      "    force: false\n",
      "    pin_commit: false\n",
      "    smote: false\n",
      "    smote_k_neighbors: 5\n",
      "    smote_sampling_strategy: not majority\n",
      "  transformation:\n",
      "    description: Levels\n",
      "    type: Reduced\n",
      "    task: Domain_Level\n",
      "    goals: null\n",
      "    domain_data: Domain_Level\n",
      "    activity: Domain_Level\n",
      "    stakeholder: Domain_Level\n",
      "    system_function: Interaction_Level\n",
      "    interaction: Interaction_Level\n",
      "    interaction_data: Domain_Level\n",
      "    workspace: Interaction_Level\n",
      "    software: System_Level\n",
      "    internal_action: System_Level\n",
      "    internal_data: System_Level\n",
      "    system_level: System_Level\n",
      "first_model_bilstm: null\n",
      "first_model_sner: null\n",
      "bert:\n",
      "  model: bert-large-uncased\n",
      "  type: BERT\n",
      "  max_len: 123\n",
      "  train_batch_size: 8\n",
      "  validation_batch_size: 64\n",
      "  number_epochs: 8\n",
      "  learning_rate_bert: 3.0e-05\n",
      "  learning_rate_classifier: 0.16\n",
      "  weight_decay: 0.1\n",
      "  weighted_classes: true\n",
      "  layers: []\n",
      "experiment:\n",
      "  name: Production\n",
      "  description: ''\n",
      "  random_state: 125\n",
      "  folds: 5\n",
      "  iterations: 1\n",
      "  average: macro\n",
      "  dataset: all\n",
      "  lower_case: true\n",
      "  force: false\n",
      "  pin_commit: false\n",
      "  smote: false\n",
      "  smote_k_neighbors: 5\n",
      "  smote_sampling_strategy: not majority\n",
      "transformation:\n",
      "  description: None\n",
      "  type: Full\n",
      "  task: Task\n",
      "  goals: null\n",
      "  domain_data: Domain_Data\n",
      "  activity: Activity\n",
      "  stakeholder: Stakeholder\n",
      "  system_function: System_Function\n",
      "  interaction: Interaction\n",
      "  interaction_data: Interaction_Data\n",
      "  workspace: Workspace\n",
      "  software: System_Level\n",
      "  internal_action: System_Level\n",
      "  internal_data: System_Level\n",
      "  system_level: System_Level\n",
      "\n",
      "05:22:04 INFO:New experiment. Running\n",
      "05:22:04 INFO:Entering mlflow context\n",
      "05:22:19 INFO:Training 2nd Stage\n",
      "05:22:19 INFO:Importing dataset: anno from E:\\BERT\\uvl-tore-classifier-bert\\src\\data\\datasets\\forum\\anno_test.json\n",
      "05:22:19 INFO:Importing dataset: anno from E:\\BERT\\uvl-tore-classifier-bert\\src\\data\\datasets\\forum\\anno_train.json\n",
      "05:22:19 INFO:Importing dataset: prolific from E:\\BERT\\uvl-tore-classifier-bert\\src\\data\\datasets\\prolific\\TORE_Coded_Answers_1_33.json\n",
      "05:22:19 INFO:Importing dataset: prolific from E:\\BERT\\uvl-tore-classifier-bert\\src\\data\\datasets\\prolific\\TORE_Coded_Answers_34_66.json\n",
      "05:22:19 INFO:Importing dataset: prolific from E:\\BERT\\uvl-tore-classifier-bert\\src\\data\\datasets\\prolific\\TORE_Coded_Answers_67_100.json\n",
      "05:22:20 INFO:Importing dataset: komoot from E:\\BERT\\uvl-tore-classifier-bert\\src\\data\\datasets\\app\\Komoot_AppReview.json\n",
      "E:\\BERT\\uvl-tore-classifier-bert\\venv310\\lib\\site-packages\\huggingface_hub\\file_download.py:1132: FutureWarning: `resume_download` is deprecated and will be removed in version 1.0.0. Downloads always resume when possible. If you want to force a new download, use `force_download=True`.\n",
      "  warnings.warn(\n",
      "05:22:21 INFO:Dataset Labels: transformed_dataset['labels']=['System_Level', 'Workspace', '0', 'Stakeholder', 'Activity', 'System_Function', 'Task', 'Interaction', 'Domain_Data', 'Interaction_Data']\n",
      "05:22:21 INFO:Class weights: {'0': 0.13494545, 'Task': 8.320833, 'Domain_Data': 2.52101, 'Activity': 9.136601, 'Stakeholder': 9.949466, 'System_Function': 3.0622125, 'Interaction': 1.9934403, 'Interaction_Data': 1.877636, 'Workspace': 8.903822, 'System_Level': 2.5661314}\n",
      "05:22:21 INFO:Configured maximal token sequence length: max_len = 123\n",
      "05:22:21 INFO:Created fold datasets for fold: 0, stored at paths=[WindowsPath('E:/BERT/uvl-tore-classifier-bert/src/data/temp/sampling/capable-auk-759/0_data_train.pickle'), WindowsPath('E:/BERT/uvl-tore-classifier-bert/src/data/temp/sampling/capable-auk-759/0_data_train.csv'), WindowsPath('E:/BERT/uvl-tore-classifier-bert/src/data/temp/sampling/capable-auk-759/0_data_test.pickle'), WindowsPath('E:/BERT/uvl-tore-classifier-bert/src/data/temp/sampling/capable-auk-759/0_data_test.csv')]\n",
      "05:22:21 INFO:Starting iteration=0\n",
      "05:22:21 INFO:Found existing run with run_id: a4c9d058e4514186a8c8f91fb898474a matching the configuration\n",
      "05:22:21 INFO:Downloading run model from file:///E:/BERT/uvl-tore-classifier-bert/127.0.0.1/279074982670971635/a4c9d058e4514186a8c8f91fb898474a/artifacts/0_model\n"
     ]
    },
    {
     "data": {
      "text/plain": "Downloading artifacts:   0%|          | 0/7 [00:00<?, ?it/s]",
      "application/vnd.jupyter.widget-view+json": {
       "version_major": 2,
       "version_minor": 0,
       "model_id": "fda7f50b6fae4b10a9fd8cd67b3cf4f1"
      }
     },
     "metadata": {},
     "output_type": "display_data"
    },
    {
     "data": {
      "text/plain": "Map:   0%|          | 0/2488 [00:00<?, ? examples/s]",
      "application/vnd.jupyter.widget-view+json": {
       "version_major": 2,
       "version_minor": 0,
       "model_id": "945b4f0b76e34ab79645396dd628e335"
      }
     },
     "metadata": {},
     "output_type": "display_data"
    },
    {
     "name": "stderr",
     "output_type": "stream",
     "text": [
      "05:22:22 INFO:Loading Model\n",
      "05:22:24 INFO:Creating hint column\n",
      "05:22:39 INFO:Hint column created\n"
     ]
    },
    {
     "data": {
      "text/plain": "Map:   0%|          | 0/2488 [00:00<?, ? examples/s]",
      "application/vnd.jupyter.widget-view+json": {
       "version_major": 2,
       "version_minor": 0,
       "model_id": "e9930cd91c1e4da895dec75efd5c3126"
      }
     },
     "metadata": {},
     "output_type": "display_data"
    },
    {
     "data": {
      "text/plain": "Map:   0%|          | 0/622 [00:00<?, ? examples/s]",
      "application/vnd.jupyter.widget-view+json": {
       "version_major": 2,
       "version_minor": 0,
       "model_id": "f5c2ad7c8f9642df9a52120725f6320d"
      }
     },
     "metadata": {},
     "output_type": "display_data"
    },
    {
     "name": "stderr",
     "output_type": "stream",
     "text": [
      "05:22:40 INFO:Loading Model\n",
      "05:22:42 INFO:Creating hint column\n",
      "05:22:45 INFO:Hint column created\n"
     ]
    },
    {
     "data": {
      "text/plain": "Map:   0%|          | 0/622 [00:00<?, ? examples/s]",
      "application/vnd.jupyter.widget-view+json": {
       "version_major": 2,
       "version_minor": 0,
       "model_id": "94b28723b40343f4b9b4efed93b5b295"
      }
     },
     "metadata": {},
     "output_type": "display_data"
    },
    {
     "name": "stderr",
     "output_type": "stream",
     "text": [
      "E:\\BERT\\uvl-tore-classifier-bert\\venv310\\lib\\site-packages\\huggingface_hub\\file_download.py:1132: FutureWarning: `resume_download` is deprecated and will be removed in version 1.0.0. Downloads always resume when possible. If you want to force a new download, use `force_download=True`.\n",
      "  warnings.warn(\n"
     ]
    },
    {
     "name": "stdout",
     "output_type": "stream",
     "text": [
      "Test\n"
     ]
    },
    {
     "name": "stderr",
     "output_type": "stream",
     "text": [
      "05:22:47 INFO:7\n"
     ]
    },
    {
     "name": "stdout",
     "output_type": "stream",
     "text": [
      "StagedBertForTokenClassification(\n",
      "  (bert): BertModel(\n",
      "    (embeddings): BertEmbeddings(\n",
      "      (word_embeddings): Embedding(30522, 1024, padding_idx=0)\n",
      "      (position_embeddings): Embedding(512, 1024)\n",
      "      (token_type_embeddings): Embedding(2, 1024)\n",
      "      (LayerNorm): LayerNorm((1024,), eps=1e-12, elementwise_affine=True)\n",
      "      (dropout): Dropout(p=0.1, inplace=False)\n",
      "    )\n",
      "    (encoder): BertEncoder(\n",
      "      (layer): ModuleList(\n",
      "        (0-11): 12 x BertLayer(\n",
      "          (attention): BertAttention(\n",
      "            (self): BertSelfAttention(\n",
      "              (query): Linear(in_features=1024, out_features=1024, bias=True)\n",
      "              (key): Linear(in_features=1024, out_features=1024, bias=True)\n",
      "              (value): Linear(in_features=1024, out_features=1024, bias=True)\n",
      "              (dropout): Dropout(p=0.1, inplace=False)\n",
      "            )\n",
      "            (output): BertSelfOutput(\n",
      "              (dense): Linear(in_features=1024, out_features=1024, bias=True)\n",
      "              (LayerNorm): LayerNorm((1024,), eps=1e-12, elementwise_affine=True)\n",
      "              (dropout): Dropout(p=0.1, inplace=False)\n",
      "            )\n",
      "          )\n",
      "          (intermediate): BertIntermediate(\n",
      "            (dense): Linear(in_features=1024, out_features=3072, bias=True)\n",
      "            (intermediate_act_fn): GELUActivation()\n",
      "          )\n",
      "          (output): BertOutput(\n",
      "            (dense): Linear(in_features=3072, out_features=1024, bias=True)\n",
      "            (LayerNorm): LayerNorm((1024,), eps=1e-12, elementwise_affine=True)\n",
      "            (dropout): Dropout(p=0.1, inplace=False)\n",
      "          )\n",
      "        )\n",
      "      )\n",
      "    )\n",
      "  )\n",
      "  (dropout): Dropout(p=0.1, inplace=False)\n",
      "  (out_layers): Sequential(\n",
      "    (0): Linear(in_features=1028, out_features=10, bias=True)\n",
      "  )\n",
      ")\n"
     ]
    },
    {
     "name": "stderr",
     "output_type": "stream",
     "text": [
      "05:23:12 INFO:Logged iteration result res.precision=0.5730315957121147 res.recall=0.527792419984471\n"
     ]
    },
    {
     "name": "stdout",
     "output_type": "stream",
     "text": [
      "{'eval_loss': 3.804032802581787, 'eval_step': 0, 'eval_precision': 0.5730315957121147, 'eval_recall': 0.527792419984471, 'eval_f1': 0.5494824391836678, 'eval_label_count': 10, 'eval_runtime': 1.5922, 'eval_samples_per_second': 390.648, 'eval_steps_per_second': 6.281, 'epoch': 1.0}\n",
      "{'loss': 6.9222, 'grad_norm': 133.57272338867188, 'learning_rate': 2.397106109324759e-05, 'epoch': 1.607717041800643}\n"
     ]
    },
    {
     "name": "stderr",
     "output_type": "stream",
     "text": [
      "05:23:46 INFO:Logged iteration result res.precision=0.5385277083390875 res.recall=0.5685873621439543\n"
     ]
    },
    {
     "name": "stdout",
     "output_type": "stream",
     "text": [
      "{'eval_loss': 4.157386302947998, 'eval_step': 2, 'eval_precision': 0.5385277083390875, 'eval_recall': 0.5685873621439543, 'eval_f1': 0.5531494553540011, 'eval_label_count': 10, 'eval_runtime': 1.5783, 'eval_samples_per_second': 394.097, 'eval_steps_per_second': 6.336, 'epoch': 2.0}\n"
     ]
    },
    {
     "name": "stderr",
     "output_type": "stream",
     "text": [
      "05:24:25 INFO:Logged iteration result res.precision=0.5538376856823454 res.recall=0.5727055304726847\n"
     ]
    },
    {
     "name": "stdout",
     "output_type": "stream",
     "text": [
      "{'eval_loss': 3.758781909942627, 'eval_step': 4, 'eval_precision': 0.5538376856823454, 'eval_recall': 0.5727055304726847, 'eval_f1': 0.5631136045664524, 'eval_label_count': 10, 'eval_runtime': 1.5744, 'eval_samples_per_second': 395.08, 'eval_steps_per_second': 6.352, 'epoch': 3.0}\n",
      "{'loss': 1.8277, 'grad_norm': 136.3031005859375, 'learning_rate': 1.7942122186495177e-05, 'epoch': 3.215434083601286}\n"
     ]
    },
    {
     "name": "stderr",
     "output_type": "stream",
     "text": [
      "05:25:02 INFO:Logged iteration result res.precision=0.5951424359718406 res.recall=0.6179110439431708\n"
     ]
    },
    {
     "name": "stdout",
     "output_type": "stream",
     "text": [
      "{'eval_loss': 3.2019097805023193, 'eval_step': 6, 'eval_precision': 0.5951424359718406, 'eval_recall': 0.6179110439431708, 'eval_f1': 0.6063130603804979, 'eval_label_count': 10, 'eval_runtime': 1.575, 'eval_samples_per_second': 394.925, 'eval_steps_per_second': 6.349, 'epoch': 4.0}\n",
      "{'loss': 1.0161, 'grad_norm': 86.05380249023438, 'learning_rate': 1.1913183279742765e-05, 'epoch': 4.823151125401929}\n"
     ]
    },
    {
     "name": "stderr",
     "output_type": "stream",
     "text": [
      "05:25:45 INFO:Logged iteration result res.precision=0.6180404634440203 res.recall=0.5991204566462562\n"
     ]
    },
    {
     "name": "stdout",
     "output_type": "stream",
     "text": [
      "{'eval_loss': 3.6211235523223877, 'eval_step': 8, 'eval_precision': 0.6180404634440203, 'eval_recall': 0.5991204566462562, 'eval_f1': 0.6084334101968729, 'eval_label_count': 10, 'eval_runtime': 1.5763, 'eval_samples_per_second': 394.603, 'eval_steps_per_second': 6.344, 'epoch': 5.0}\n"
     ]
    },
    {
     "name": "stderr",
     "output_type": "stream",
     "text": [
      "05:26:25 INFO:Logged iteration result res.precision=0.6236489543458192 res.recall=0.6139808934651312\n"
     ]
    },
    {
     "name": "stdout",
     "output_type": "stream",
     "text": [
      "{'eval_loss': 3.653902053833008, 'eval_step': 10, 'eval_precision': 0.6236489543458192, 'eval_recall': 0.6139808934651312, 'eval_f1': 0.6187771616450716, 'eval_label_count': 10, 'eval_runtime': 1.6095, 'eval_samples_per_second': 386.458, 'eval_steps_per_second': 6.213, 'epoch': 6.0}\n",
      "{'loss': 0.5613, 'grad_norm': 49.70168685913086, 'learning_rate': 5.884244372990354e-06, 'epoch': 6.430868167202572}\n"
     ]
    },
    {
     "name": "stderr",
     "output_type": "stream",
     "text": [
      "05:27:03 INFO:Logged iteration result res.precision=0.6363503645887094 res.recall=0.6286576471882563\n"
     ]
    },
    {
     "name": "stdout",
     "output_type": "stream",
     "text": [
      "{'eval_loss': 3.6525940895080566, 'eval_step': 12, 'eval_precision': 0.6363503645887094, 'eval_recall': 0.6286576471882563, 'eval_f1': 0.6324806155619188, 'eval_label_count': 10, 'eval_runtime': 1.6182, 'eval_samples_per_second': 384.389, 'eval_steps_per_second': 6.18, 'epoch': 7.0}\n"
     ]
    },
    {
     "name": "stderr",
     "output_type": "stream",
     "text": [
      "05:27:38 INFO:Logged iteration result res.precision=0.6208496218507803 res.recall=0.6323361013544841\n"
     ]
    },
    {
     "name": "stdout",
     "output_type": "stream",
     "text": [
      "{'eval_loss': 3.5410361289978027, 'eval_step': 14, 'eval_precision': 0.6208496218507803, 'eval_recall': 0.6323361013544841, 'eval_f1': 0.626540220079135, 'eval_label_count': 10, 'eval_runtime': 1.6119, 'eval_samples_per_second': 385.873, 'eval_steps_per_second': 6.204, 'epoch': 8.0}\n",
      "{'train_runtime': 302.7632, 'train_samples_per_second': 65.741, 'train_steps_per_second': 8.218, 'train_loss': 2.1282704098814937, 'epoch': 8.0}\n"
     ]
    },
    {
     "name": "stderr",
     "output_type": "stream",
     "text": [
      "05:28:01 INFO:Logged iteration result res.precision=0.6208496218507803 res.recall=0.6323361013544841\n",
      "05:28:01 INFO:Logged iteration result res.precision=0.6208496218507803 res.recall=0.6323361013544841\n",
      "05:28:01 INFO:Finished iteration=0\n",
      "05:28:01 INFO:Logging model artifact (might take a while)\n",
      "05:28:02 INFO:Breaking early after iteration=0 of 5 folds\n",
      "05:28:03 INFO:Logged experiment result res.mean_precision=0.6208496218507803 res.mean_recall=0.6323361013544841\n",
      "05:28:05 INFO:Left mlflow context\n"
     ]
    },
    {
     "name": "stdout",
     "output_type": "stream",
     "text": [
      "1eeb76217ccd4fe29b4d27a19deb209c\n"
     ]
    },
    {
     "data": {
      "text/plain": "Downloading artifacts:   0%|          | 0/7 [00:00<?, ?it/s]",
      "application/vnd.jupyter.widget-view+json": {
       "version_major": 2,
       "version_minor": 0,
       "model_id": "29a258db7c5d42b392b424c6ec434940"
      }
     },
     "metadata": {},
     "output_type": "display_data"
    },
    {
     "data": {
      "text/plain": "WindowsPath('src/service/models/bert_2_bert')"
     },
     "execution_count": 35,
     "metadata": {},
     "output_type": "execute_result"
    }
   ],
   "source": [
    "from tooling.observability import get_run_id\n",
    "from tooling.config import DualModelStagedBERTConfig, StagedBERT\n",
    "\n",
    "from copy import deepcopy\n",
    "\n",
    "bert_2_bert_experiment_config = deepcopy(base_experiment_config)\n",
    "bert_2_bert_experiment_config.name = \"Production\"\n",
    "\n",
    "bert_2_bert_config = StagedBERT(\n",
    "    max_len=123,\n",
    "    layers=[],\n",
    "    learning_rate_bert=3e-05,\n",
    "    learning_rate_classifier=0.16,\n",
    "    number_epochs=8,\n",
    "    train_batch_size=8,\n",
    "    weight_decay=0.1,\n",
    "    weighted_classes=True,\n",
    "    validation_batch_size=64,\n",
    ")\n",
    "\n",
    "cfg = DualModelStagedBERTConfig(\n",
    "    bert=bert_2_bert_config,\n",
    "    experiment=bert_2_bert_experiment_config,\n",
    "    transformation=label_transformation_config,\n",
    "    first_model_bert=bert_1_cfg,\n",
    ")\n",
    "\n",
    "bert_2_bert_cfg: DualModelStagedBERTConfig = OmegaConf.structured(cfg)\n",
    "\n",
    "if run_experiments:\n",
    "    from experiments.dual_model_staged_bert import dual_stage_bert\n",
    "\n",
    "    dual_stage_bert(OmegaConf.create(bert_2_bert_cfg))\n",
    "\n",
    "bert_2_bert_run_id = get_run_id(bert_2_bert_cfg, pin_commit=pin_commits)\n",
    "\n",
    "print(bert_2_bert_run_id)\n",
    "\n",
    "bert_2_bert_run = mlflow.get_run(bert_2_bert_run_id)\n",
    "mlflow.artifacts.download_artifacts(\n",
    "    f\"{bert_2_bert_run.info.artifact_uri}/0_model\",\n",
    "    dst_path=Path(\"./src/service/models/\"),\n",
    ")\n",
    "try:\n",
    "    shutil.rmtree(Path(\"./src/service/models/bert_2_bert\"))\n",
    "except FileNotFoundError:\n",
    "    pass\n",
    "Path(\"./src/service/models/0_model\").rename(\"./src/service/models/bert_2_bert\")"
   ]
  },
  {
   "cell_type": "markdown",
   "metadata": {},
   "source": [
    "## Train BERT Second Stage Model for SNER First Stage\n"
   ]
  },
  {
   "cell_type": "code",
   "execution_count": null,
   "metadata": {},
   "outputs": [],
   "source": [
    "from tooling.observability import get_run_id\n",
    "from tooling.config import DualModelStagedBERTConfig, StagedBERT\n",
    "\n",
    "from copy import deepcopy\n",
    "\n",
    "import os\n",
    "\n",
    "os.environ[\"TOKENIZERS_PARALLELISM\"] = \"true\"\n",
    "\n",
    "bert_2_sner_experiment_config = deepcopy(base_experiment_config)\n",
    "bert_2_sner_experiment_config.name = \"Production\"\n",
    "\n",
    "bert_2_sner_config = StagedBERT(\n",
    "    max_len=123,\n",
    "    layers=[],\n",
    "    learning_rate_bert=3e-05,\n",
    "    learning_rate_classifier=0.16,\n",
    "    number_epochs=5,\n",
    "    train_batch_size=8,\n",
    "    weight_decay=0.1,\n",
    "    weighted_classes=True,\n",
    ")\n",
    "\n",
    "bert_2_sner_cfg = OmegaConf.structured(\n",
    "    DualModelStagedBERTConfig(\n",
    "        bert=bert_2_sner_config,\n",
    "        experiment=bert_2_sner_experiment_config,\n",
    "        transformation=label_transformation_config,\n",
    "        first_model_sner=sner_cfg,\n",
    "    )\n",
    ")\n",
    "\n",
    "if run_experiments:\n",
    "    from experiments.dual_model_staged_bert import dual_stage_bert\n",
    "\n",
    "    dual_stage_bert(OmegaConf.create(bert_2_sner_cfg))\n",
    "\n",
    "bert_2_sner_run_id = get_run_id(bert_2_sner_cfg, pin_commit=pin_commits)\n",
    "\n",
    "print(bert_2_sner_run_id)\n",
    "\n",
    "bert_2_sner_run = mlflow.get_run(bert_2_sner_run_id)\n",
    "mlflow.artifacts.download_artifacts(\n",
    "    f\"{bert_2_sner_run.info.artifact_uri}/0_model\",\n",
    "    dst_path=Path(\"./src/service/models/\"),\n",
    ")\n",
    "try:\n",
    "    shutil.rmtree(Path(\"./src/service/models/bert_2_sner\"))\n",
    "except FileNotFoundError:\n",
    "    pass\n",
    "\n",
    "Path(\"./src/service/models/0_model\").rename(\"./src/service/models/bert_2_sner\")"
   ]
  },
  {
   "cell_type": "markdown",
   "metadata": {},
   "source": [
    "## Train BERT Second Stage Model for BILSTM First Stage\n"
   ]
  },
  {
   "cell_type": "code",
   "execution_count": null,
   "metadata": {},
   "outputs": [],
   "source": [
    "from tooling.observability import get_run_id\n",
    "from tooling.config import DualModelStagedBERTConfig, StagedBERT\n",
    "\n",
    "from copy import deepcopy\n",
    "\n",
    "bilstm_config = BiLSTM(\n",
    "    batch_size=16,\n",
    "    learning_rate=0.006,\n",
    "    number_epochs=5,\n",
    "    weighted_classes=False,\n",
    "    sentence_length=106,\n",
    ")\n",
    "\n",
    "\n",
    "bert_2_bilstm_experiment_config = deepcopy(base_experiment_config)\n",
    "bert_2_bilstm_experiment_config.name = \"Production\"\n",
    "\n",
    "bert_2_bilstm_config = StagedBERT(\n",
    "    max_len=123,\n",
    "    layers=[],\n",
    "    learning_rate_bert=3e-05,\n",
    "    learning_rate_classifier=0.16,\n",
    "    number_epochs=5,\n",
    "    train_batch_size=8,\n",
    "    weight_decay=0.1,\n",
    "    weighted_classes=True,\n",
    ")\n",
    "\n",
    "bert_2_bilstm_cfg = OmegaConf.structured(\n",
    "    DualModelStagedBERTConfig(\n",
    "        bert=bert_2_bilstm_config,\n",
    "        experiment=bert_2_bilstm_experiment_config,\n",
    "        transformation=label_transformation_config,\n",
    "        first_model_bilstm=bilstm_cfg,\n",
    "    )\n",
    ")\n",
    "bert_2_bilstm_cfg.first_model_bilstm.bilstm.sentence_length = 106\n",
    "\n",
    "\n",
    "if run_experiments:\n",
    "    from experiments.dual_model_staged_bert import dual_stage_bert\n",
    "\n",
    "    dual_stage_bert(OmegaConf.create(bert_2_bilstm_cfg))\n",
    "\n",
    "bert_2_bilstm_run_id = get_run_id(bert_2_bilstm_cfg, pin_commit=pin_commits)\n",
    "\n",
    "print(bert_2_bilstm_run_id)\n",
    "\n",
    "bert_2_bilstm_run = mlflow.get_run(bert_2_bilstm_run_id)\n",
    "mlflow.artifacts.download_artifacts(\n",
    "    f\"{bert_2_bilstm_run.info.artifact_uri}/0_model\",\n",
    "    dst_path=Path(\"./src/service/models/\"),\n",
    ")\n",
    "try:\n",
    "    shutil.rmtree(Path(\"./src/service/models/bert_2_bilstm\"))\n",
    "except FileNotFoundError:\n",
    "    pass\n",
    "Path(\"./src/service/models/0_model\").rename(\n",
    "    \"./src/service/models/bert_2_bilstm\"\n",
    ")"
   ]
  },
  {
   "cell_type": "markdown",
   "metadata": {},
   "source": [
    "## Train BERT E2E Model\n"
   ]
  },
  {
   "cell_type": "code",
   "execution_count": 11,
   "outputs": [
    {
     "name": "stderr",
     "output_type": "stream",
     "text": [
      "11:17:17 INFO:\n",
      "bert:\n",
      "  model: bert-large-uncased\n",
      "  type: BERT\n",
      "  max_len: 123\n",
      "  train_batch_size: 8\n",
      "  validation_batch_size: 32\n",
      "  number_epochs: 11\n",
      "  learning_rate_bert: 6.0e-05\n",
      "  learning_rate_classifier: 0.1\n",
      "  weight_decay: 0.01\n",
      "  weighted_classes: false\n",
      "experiment:\n",
      "  name: Production\n",
      "  description: ''\n",
      "  random_state: 125\n",
      "  folds: 5\n",
      "  iterations: 1\n",
      "  average: macro\n",
      "  dataset: PFTrainKTest\n",
      "  lower_case: true\n",
      "  force: false\n",
      "  pin_commit: false\n",
      "  smote: false\n",
      "  smote_k_neighbors: 5\n",
      "  smote_sampling_strategy: not majority\n",
      "transformation:\n",
      "  description: None\n",
      "  type: Full\n",
      "  task: Task\n",
      "  goals: null\n",
      "  domain_data: Domain_Data\n",
      "  activity: Activity\n",
      "  stakeholder: Stakeholder\n",
      "  system_function: System_Function\n",
      "  interaction: Interaction\n",
      "  interaction_data: Interaction_Data\n",
      "  workspace: Workspace\n",
      "  software: System_Level\n",
      "  internal_action: System_Level\n",
      "  internal_data: System_Level\n",
      "  system_level: System_Level\n",
      "\n",
      "11:17:17 WARNING:Experiment was already run\n",
      "11:17:17 INFO:Entering mlflow context\n",
      "11:17:17 INFO:Importing dataset: prolific from E:\\BERT\\uvl-tore-classifier-bert\\src\\data\\datasets\\prolific\\TORE_Coded_Answers_1_33.json\n",
      "11:17:17 INFO:Importing dataset: prolific from E:\\BERT\\uvl-tore-classifier-bert\\src\\data\\datasets\\prolific\\TORE_Coded_Answers_34_66.json\n",
      "11:17:17 INFO:Importing dataset: prolific from E:\\BERT\\uvl-tore-classifier-bert\\src\\data\\datasets\\prolific\\TORE_Coded_Answers_67_100.json\n",
      "11:17:18 INFO:Importing dataset: anno from E:\\BERT\\uvl-tore-classifier-bert\\src\\data\\datasets\\forum\\anno_test.json\n",
      "11:17:18 INFO:Importing dataset: anno from E:\\BERT\\uvl-tore-classifier-bert\\src\\data\\datasets\\forum\\anno_train.json\n",
      "11:17:18 INFO:Importing dataset: komoot from E:\\BERT\\uvl-tore-classifier-bert\\src\\data\\datasets\\app\\Komoot_AppReview.json\n",
      "11:17:19 INFO:Dataset Labels: transformed_dataset['labels']=['Task', 'System_Function', 'Stakeholder', 'Workspace', '0', 'Activity', 'Interaction_Data', 'System_Level', 'Domain_Data', 'Interaction']\n",
      "11:17:19 INFO:Class weights: {'0': 1.0, 'Task': 1.0, 'Domain_Data': 1.0, 'Activity': 1.0, 'Stakeholder': 1.0, 'System_Function': 1.0, 'Interaction': 1.0, 'Interaction_Data': 1.0, 'Workspace': 1.0, 'System_Level': 1.0}\n",
      "11:17:19 INFO:Configured maximal token sequence length: max_len = 123\n"
     ]
    },
    {
     "name": "stdout",
     "output_type": "stream",
     "text": [
      "Entered Iteration 1 now\n",
      "prolific\n",
      "anno\n",
      "komoot\n"
     ]
    },
    {
     "name": "stderr",
     "output_type": "stream",
     "text": [
      "11:17:44 INFO:Created datasets for foldless run\n"
     ]
    },
    {
     "name": "stdout",
     "output_type": "stream",
     "text": [
      "                                sentence_id sentence_idx   string  \\\n",
      "0      baedc5bc-2965-11ef-919a-a6448883ebfb            0     this   \n",
      "1      baedc5bc-2965-11ef-919a-a6448883ebfb            1      app   \n",
      "2      baedc5bc-2965-11ef-919a-a6448883ebfb            2       is   \n",
      "3      baedc5bc-2965-11ef-919a-a6448883ebfb            3      for   \n",
      "4      baedc5bc-2965-11ef-919a-a6448883ebfb            4  mapping   \n",
      "...                                     ...          ...      ...   \n",
      "41032  bb4f7b7d-2965-11ef-ae25-a6448883ebfb           33      and   \n",
      "41033  bb4f7b7d-2965-11ef-ae25-a6448883ebfb           34     save   \n",
      "41034  bb4f7b7d-2965-11ef-ae25-a6448883ebfb           35        )   \n",
      "41035  bb4f7b7d-2965-11ef-ae25-a6448883ebfb           36        >   \n",
      "41036  bb4f7b7d-2965-11ef-ae25-a6448883ebfb           37    start   \n",
      "\n",
      "            tore_label  \n",
      "0                    0  \n",
      "1         System_Level  \n",
      "2                    0  \n",
      "3                    0  \n",
      "4      System_Function  \n",
      "...                ...  \n",
      "41032                0  \n",
      "41033      Interaction  \n",
      "41034                0  \n",
      "41035                0  \n",
      "41036                0  \n",
      "\n",
      "[41037 rows x 4 columns]\n"
     ]
    },
    {
     "name": "stderr",
     "output_type": "stream",
     "text": [
      "11:17:44 INFO:Starting iteration=1\n"
     ]
    },
    {
     "data": {
      "text/plain": "Map:   0%|          | 0/2209 [00:00<?, ? examples/s]",
      "application/vnd.jupyter.widget-view+json": {
       "version_major": 2,
       "version_minor": 0,
       "model_id": "8018fc1afe884ad9930fcfcd360310e8"
      }
     },
     "metadata": {},
     "output_type": "display_data"
    },
    {
     "data": {
      "text/plain": "Map:   0%|          | 0/901 [00:00<?, ? examples/s]",
      "application/vnd.jupyter.widget-view+json": {
       "version_major": 2,
       "version_minor": 0,
       "model_id": "28c9132bbe624347a64c02ff4f3dfe3e"
      }
     },
     "metadata": {},
     "output_type": "display_data"
    },
    {
     "name": "stderr",
     "output_type": "stream",
     "text": [
      "E:\\BERT\\uvl-tore-classifier-bert\\venv310\\lib\\site-packages\\transformers\\training_args.py:1474: FutureWarning: `evaluation_strategy` is deprecated and will be removed in version 4.46 of 🤗 Transformers. Use `eval_strategy` instead\n",
      "  warnings.warn(\n",
      "11:18:42 INFO:Logged iteration result res.precision=0.6132886484582519 res.recall=0.29788485464189185\n"
     ]
    },
    {
     "name": "stdout",
     "output_type": "stream",
     "text": [
      "{'eval_loss': 1.5076745748519897, 'eval_step': 0, 'eval_precision': 0.6132886484582519, 'eval_recall': 0.29788485464189185, 'eval_f1': 0.4009980520239732, 'eval_label_count': 10, 'eval_runtime': 4.9743, 'eval_samples_per_second': 181.131, 'eval_steps_per_second': 5.83, 'epoch': 1.0}\n",
      "{'loss': 0.9803, 'grad_norm': 6.249200820922852, 'learning_rate': 5.015425008204792e-05, 'epoch': 1.8050541516245486}\n"
     ]
    },
    {
     "name": "stderr",
     "output_type": "stream",
     "text": [
      "11:20:15 INFO:Logged iteration result res.precision=0.6251972086847687 res.recall=0.3819077860937647\n"
     ]
    },
    {
     "name": "stdout",
     "output_type": "stream",
     "text": [
      "{'eval_loss': 1.423190951347351, 'eval_step': 2, 'eval_precision': 0.6251972086847687, 'eval_recall': 0.3819077860937647, 'eval_f1': 0.47416641378748686, 'eval_label_count': 10, 'eval_runtime': 4.9008, 'eval_samples_per_second': 183.849, 'eval_steps_per_second': 5.917, 'epoch': 2.0}\n"
     ]
    },
    {
     "name": "stderr",
     "output_type": "stream",
     "text": [
      "11:21:48 INFO:Logged iteration result res.precision=0.6242278619471819 res.recall=0.38345485394232826\n"
     ]
    },
    {
     "name": "stdout",
     "output_type": "stream",
     "text": [
      "{'eval_loss': 1.3584579229354858, 'eval_step': 4, 'eval_precision': 0.6242278619471819, 'eval_recall': 0.38345485394232826, 'eval_f1': 0.4750765292593031, 'eval_label_count': 10, 'eval_runtime': 4.9304, 'eval_samples_per_second': 182.745, 'eval_steps_per_second': 5.882, 'epoch': 3.0}\n",
      "{'loss': 0.3444, 'grad_norm': 2.7788949012756348, 'learning_rate': 4.030850016409583e-05, 'epoch': 3.6101083032490973}\n"
     ]
    },
    {
     "name": "stderr",
     "output_type": "stream",
     "text": [
      "11:23:24 INFO:Logged iteration result res.precision=0.650753028234967 res.recall=0.4094944774666681\n"
     ]
    },
    {
     "name": "stdout",
     "output_type": "stream",
     "text": [
      "{'eval_loss': 1.5250743627548218, 'eval_step': 6, 'eval_precision': 0.650753028234967, 'eval_recall': 0.4094944774666681, 'eval_f1': 0.502674648747384, 'eval_label_count': 10, 'eval_runtime': 4.9271, 'eval_samples_per_second': 182.865, 'eval_steps_per_second': 5.886, 'epoch': 4.0}\n"
     ]
    },
    {
     "name": "stderr",
     "output_type": "stream",
     "text": [
      "11:24:58 INFO:Logged iteration result res.precision=0.597657682851897 res.recall=0.4604628741660853\n"
     ]
    },
    {
     "name": "stdout",
     "output_type": "stream",
     "text": [
      "{'eval_loss': 1.7969841957092285, 'eval_step': 8, 'eval_precision': 0.597657682851897, 'eval_recall': 0.4604628741660853, 'eval_f1': 0.5201660105517641, 'eval_label_count': 10, 'eval_runtime': 4.9187, 'eval_samples_per_second': 183.179, 'eval_steps_per_second': 5.896, 'epoch': 5.0}\n",
      "{'loss': 0.1519, 'grad_norm': 4.059031009674072, 'learning_rate': 3.046275024614375e-05, 'epoch': 5.415162454873646}\n"
     ]
    },
    {
     "name": "stderr",
     "output_type": "stream",
     "text": [
      "11:26:31 INFO:Logged iteration result res.precision=0.5918953018934963 res.recall=0.44924947625119616\n"
     ]
    },
    {
     "name": "stdout",
     "output_type": "stream",
     "text": [
      "{'eval_loss': 2.0352540016174316, 'eval_step': 10, 'eval_precision': 0.5918953018934963, 'eval_recall': 0.44924947625119616, 'eval_f1': 0.510800534091028, 'eval_label_count': 10, 'eval_runtime': 5.086, 'eval_samples_per_second': 177.154, 'eval_steps_per_second': 5.702, 'epoch': 6.0}\n"
     ]
    },
    {
     "name": "stderr",
     "output_type": "stream",
     "text": [
      "11:28:06 INFO:Logged iteration result res.precision=0.5907086609309076 res.recall=0.45910279510340446\n"
     ]
    },
    {
     "name": "stdout",
     "output_type": "stream",
     "text": [
      "{'eval_loss': 2.2828614711761475, 'eval_step': 12, 'eval_precision': 0.5907086609309076, 'eval_recall': 0.45910279510340446, 'eval_f1': 0.516656578219518, 'eval_label_count': 10, 'eval_runtime': 4.9097, 'eval_samples_per_second': 183.514, 'eval_steps_per_second': 5.907, 'epoch': 7.0}\n",
      "{'loss': 0.0673, 'grad_norm': 1.1041810512542725, 'learning_rate': 2.0617000328191666e-05, 'epoch': 7.2202166064981945}\n"
     ]
    },
    {
     "name": "stderr",
     "output_type": "stream",
     "text": [
      "11:29:43 INFO:Logged iteration result res.precision=0.5794515117270005 res.recall=0.4453595471305973\n"
     ]
    },
    {
     "name": "stdout",
     "output_type": "stream",
     "text": [
      "{'eval_loss': 2.7161920070648193, 'eval_step': 14, 'eval_precision': 0.5794515117270005, 'eval_recall': 0.4453595471305973, 'eval_f1': 0.5036328611335489, 'eval_label_count': 10, 'eval_runtime': 4.9306, 'eval_samples_per_second': 182.737, 'eval_steps_per_second': 5.882, 'epoch': 8.0}\n"
     ]
    },
    {
     "name": "stderr",
     "output_type": "stream",
     "text": [
      "11:31:22 INFO:Logged iteration result res.precision=0.5989868758531559 res.recall=0.4442434464601745\n"
     ]
    },
    {
     "name": "stdout",
     "output_type": "stream",
     "text": [
      "{'eval_loss': 2.855062246322632, 'eval_step': 16, 'eval_precision': 0.5989868758531559, 'eval_recall': 0.4442434464601745, 'eval_f1': 0.5101385349370582, 'eval_label_count': 10, 'eval_runtime': 4.9278, 'eval_samples_per_second': 182.838, 'eval_steps_per_second': 5.885, 'epoch': 9.0}\n",
      "{'loss': 0.0238, 'grad_norm': 0.05681925639510155, 'learning_rate': 1.077125041023958e-05, 'epoch': 9.025270758122744}\n"
     ]
    },
    {
     "name": "stderr",
     "output_type": "stream",
     "text": [
      "11:32:56 INFO:Logged iteration result res.precision=0.5802530010622482 res.recall=0.45549483126038365\n"
     ]
    },
    {
     "name": "stdout",
     "output_type": "stream",
     "text": [
      "{'eval_loss': 2.930391550064087, 'eval_step': 18, 'eval_precision': 0.5802530010622482, 'eval_recall': 0.45549483126038365, 'eval_f1': 0.5103602142511667, 'eval_label_count': 10, 'eval_runtime': 4.9323, 'eval_samples_per_second': 182.674, 'eval_steps_per_second': 5.88, 'epoch': 10.0}\n",
      "{'loss': 0.007, 'grad_norm': 0.001756721525453031, 'learning_rate': 9.25500492287496e-07, 'epoch': 10.830324909747292}\n"
     ]
    },
    {
     "name": "stderr",
     "output_type": "stream",
     "text": [
      "11:34:32 INFO:Logged iteration result res.precision=0.5896945702388192 res.recall=0.457998609863302\n"
     ]
    },
    {
     "name": "stdout",
     "output_type": "stream",
     "text": [
      "{'eval_loss': 2.88815975189209, 'eval_step': 20, 'eval_precision': 0.5896945702388192, 'eval_recall': 0.457998609863302, 'eval_f1': 0.5155694406390833, 'eval_label_count': 10, 'eval_runtime': 4.9393, 'eval_samples_per_second': 182.414, 'eval_steps_per_second': 5.871, 'epoch': 11.0}\n",
      "{'train_runtime': 1042.6365, 'train_samples_per_second': 23.305, 'train_steps_per_second': 2.922, 'train_loss': 0.2584537554557964, 'epoch': 11.0}\n"
     ]
    },
    {
     "name": "stderr",
     "output_type": "stream",
     "text": [
      "11:35:28 INFO:Logged iteration result res.precision=0.5896945702388192 res.recall=0.457998609863302\n",
      "11:35:29 INFO:Logged iteration result res.precision=0.5896945702388192 res.recall=0.457998609863302\n",
      "11:35:29 INFO:Finished iteration=1\n",
      "11:35:29 INFO:Logging model artifact (might take a while)\n",
      "11:35:32 INFO:Logged experiment result res.mean_precision=0.5896945702388192 res.mean_recall=0.457998609863302\n",
      "11:35:33 INFO:Left mlflow context\n"
     ]
    },
    {
     "name": "stdout",
     "output_type": "stream",
     "text": [
      "7cfcddb65af24a4595672177cf4f600d\n"
     ]
    },
    {
     "data": {
      "text/plain": "Downloading artifacts:   0%|          | 0/1 [00:00<?, ?it/s]",
      "application/vnd.jupyter.widget-view+json": {
       "version_major": 2,
       "version_minor": 0,
       "model_id": "e3c7c18d410b4664a329a3169da7f9ee"
      }
     },
     "metadata": {},
     "output_type": "display_data"
    },
    {
     "ename": "MlflowException",
     "evalue": "The following failures occurred while downloading one or more artifacts from file:///E:/BERT/uvl-tore-classifier-bert/127.0.0.1/279074982670971635/7cfcddb65af24a4595672177cf4f600d/artifacts:\n##### File 0_model #####\n[Errno 2] No such file or directory: 'E:\\\\BERT\\\\uvl-tore-classifier-bert\\\\127.0.0.1\\\\279074982670971635\\\\7cfcddb65af24a4595672177cf4f600d\\\\artifacts\\\\0_model'",
     "output_type": "error",
     "traceback": [
      "\u001B[1;31m---------------------------------------------------------------------------\u001B[0m",
      "\u001B[1;31mMlflowException\u001B[0m                           Traceback (most recent call last)",
      "Cell \u001B[1;32mIn[11], line 37\u001B[0m\n\u001B[0;32m     34\u001B[0m \u001B[38;5;28mprint\u001B[39m(bert_run_id)\n\u001B[0;32m     36\u001B[0m run \u001B[38;5;241m=\u001B[39m mlflow\u001B[38;5;241m.\u001B[39mget_run(bert_run_id)\n\u001B[1;32m---> 37\u001B[0m \u001B[43mmlflow\u001B[49m\u001B[38;5;241;43m.\u001B[39;49m\u001B[43martifacts\u001B[49m\u001B[38;5;241;43m.\u001B[39;49m\u001B[43mdownload_artifacts\u001B[49m\u001B[43m(\u001B[49m\n\u001B[0;32m     38\u001B[0m \u001B[43m    \u001B[49m\u001B[38;5;124;43mf\u001B[39;49m\u001B[38;5;124;43m\"\u001B[39;49m\u001B[38;5;132;43;01m{\u001B[39;49;00m\u001B[43mrun\u001B[49m\u001B[38;5;241;43m.\u001B[39;49m\u001B[43minfo\u001B[49m\u001B[38;5;241;43m.\u001B[39;49m\u001B[43martifact_uri\u001B[49m\u001B[38;5;132;43;01m}\u001B[39;49;00m\u001B[38;5;124;43m/0_model\u001B[39;49m\u001B[38;5;124;43m\"\u001B[39;49m\u001B[43m,\u001B[49m\u001B[43m \u001B[49m\u001B[43mdst_path\u001B[49m\u001B[38;5;241;43m=\u001B[39;49m\u001B[43mPath\u001B[49m\u001B[43m(\u001B[49m\u001B[38;5;124;43m\"\u001B[39;49m\u001B[38;5;124;43m./src/service/models/\u001B[39;49m\u001B[38;5;124;43m\"\u001B[39;49m\u001B[43m)\u001B[49m\n\u001B[0;32m     39\u001B[0m \u001B[43m)\u001B[49m\n\u001B[0;32m     40\u001B[0m \u001B[38;5;28;01mtry\u001B[39;00m:\n\u001B[0;32m     41\u001B[0m     shutil\u001B[38;5;241m.\u001B[39mrmtree(Path(\u001B[38;5;124m\"\u001B[39m\u001B[38;5;124m./src/service/models/bert\u001B[39m\u001B[38;5;124m\"\u001B[39m))\n",
      "File \u001B[1;32mE:\\BERT\\uvl-tore-classifier-bert\\venv310\\lib\\site-packages\\mlflow\\artifacts\\__init__.py:63\u001B[0m, in \u001B[0;36mdownload_artifacts\u001B[1;34m(artifact_uri, run_id, artifact_path, dst_path, tracking_uri)\u001B[0m\n\u001B[0;32m     60\u001B[0m     pathlib\u001B[38;5;241m.\u001B[39mPath(dst_path)\u001B[38;5;241m.\u001B[39mmkdir(exist_ok\u001B[38;5;241m=\u001B[39m\u001B[38;5;28;01mTrue\u001B[39;00m, parents\u001B[38;5;241m=\u001B[39m\u001B[38;5;28;01mTrue\u001B[39;00m)\n\u001B[0;32m     62\u001B[0m \u001B[38;5;28;01mif\u001B[39;00m artifact_uri \u001B[38;5;129;01mis\u001B[39;00m \u001B[38;5;129;01mnot\u001B[39;00m \u001B[38;5;28;01mNone\u001B[39;00m:\n\u001B[1;32m---> 63\u001B[0m     \u001B[38;5;28;01mreturn\u001B[39;00m \u001B[43m_download_artifact_from_uri\u001B[49m\u001B[43m(\u001B[49m\u001B[43martifact_uri\u001B[49m\u001B[43m,\u001B[49m\u001B[43m \u001B[49m\u001B[43moutput_path\u001B[49m\u001B[38;5;241;43m=\u001B[39;49m\u001B[43mdst_path\u001B[49m\u001B[43m)\u001B[49m\n\u001B[0;32m     65\u001B[0m artifact_path \u001B[38;5;241m=\u001B[39m artifact_path \u001B[38;5;28;01mif\u001B[39;00m artifact_path \u001B[38;5;129;01mis\u001B[39;00m \u001B[38;5;129;01mnot\u001B[39;00m \u001B[38;5;28;01mNone\u001B[39;00m \u001B[38;5;28;01melse\u001B[39;00m \u001B[38;5;124m\"\u001B[39m\u001B[38;5;124m\"\u001B[39m\n\u001B[0;32m     67\u001B[0m store \u001B[38;5;241m=\u001B[39m _get_store(store_uri\u001B[38;5;241m=\u001B[39mtracking_uri)\n",
      "File \u001B[1;32mE:\\BERT\\uvl-tore-classifier-bert\\venv310\\lib\\site-packages\\mlflow\\tracking\\artifact_utils.py:106\u001B[0m, in \u001B[0;36m_download_artifact_from_uri\u001B[1;34m(artifact_uri, output_path)\u001B[0m\n\u001B[0;32m     99\u001B[0m \u001B[38;5;250m\u001B[39m\u001B[38;5;124;03m\"\"\"\u001B[39;00m\n\u001B[0;32m    100\u001B[0m \u001B[38;5;124;03mArgs:\u001B[39;00m\n\u001B[0;32m    101\u001B[0m \u001B[38;5;124;03m    artifact_uri: The *absolute* URI of the artifact to download.\u001B[39;00m\n\u001B[0;32m    102\u001B[0m \u001B[38;5;124;03m    output_path: The local filesystem path to which to download the artifact. If unspecified,\u001B[39;00m\n\u001B[0;32m    103\u001B[0m \u001B[38;5;124;03m        a local output path will be created.\u001B[39;00m\n\u001B[0;32m    104\u001B[0m \u001B[38;5;124;03m\"\"\"\u001B[39;00m\n\u001B[0;32m    105\u001B[0m root_uri, artifact_path \u001B[38;5;241m=\u001B[39m _get_root_uri_and_artifact_path(artifact_uri)\n\u001B[1;32m--> 106\u001B[0m \u001B[38;5;28;01mreturn\u001B[39;00m \u001B[43mget_artifact_repository\u001B[49m\u001B[43m(\u001B[49m\u001B[43martifact_uri\u001B[49m\u001B[38;5;241;43m=\u001B[39;49m\u001B[43mroot_uri\u001B[49m\u001B[43m)\u001B[49m\u001B[38;5;241;43m.\u001B[39;49m\u001B[43mdownload_artifacts\u001B[49m\u001B[43m(\u001B[49m\n\u001B[0;32m    107\u001B[0m \u001B[43m    \u001B[49m\u001B[43martifact_path\u001B[49m\u001B[38;5;241;43m=\u001B[39;49m\u001B[43martifact_path\u001B[49m\u001B[43m,\u001B[49m\u001B[43m \u001B[49m\u001B[43mdst_path\u001B[49m\u001B[38;5;241;43m=\u001B[39;49m\u001B[43moutput_path\u001B[49m\n\u001B[0;32m    108\u001B[0m \u001B[43m\u001B[49m\u001B[43m)\u001B[49m\n",
      "File \u001B[1;32mE:\\BERT\\uvl-tore-classifier-bert\\venv310\\lib\\site-packages\\mlflow\\store\\artifact\\local_artifact_repo.py:79\u001B[0m, in \u001B[0;36mLocalArtifactRepository.download_artifacts\u001B[1;34m(self, artifact_path, dst_path)\u001B[0m\n\u001B[0;32m     64\u001B[0m \u001B[38;5;250m\u001B[39m\u001B[38;5;124;03m\"\"\"\u001B[39;00m\n\u001B[0;32m     65\u001B[0m \u001B[38;5;124;03mArtifacts tracked by ``LocalArtifactRepository`` already exist on the local filesystem.\u001B[39;00m\n\u001B[0;32m     66\u001B[0m \u001B[38;5;124;03mIf ``dst_path`` is ``None``, the absolute filesystem path of the specified artifact is\u001B[39;00m\n\u001B[1;32m   (...)\u001B[0m\n\u001B[0;32m     76\u001B[0m \u001B[38;5;124;03m    Absolute path of the local filesystem location containing the desired artifacts.\u001B[39;00m\n\u001B[0;32m     77\u001B[0m \u001B[38;5;124;03m\"\"\"\u001B[39;00m\n\u001B[0;32m     78\u001B[0m \u001B[38;5;28;01mif\u001B[39;00m dst_path:\n\u001B[1;32m---> 79\u001B[0m     \u001B[38;5;28;01mreturn\u001B[39;00m \u001B[38;5;28;43msuper\u001B[39;49m\u001B[43m(\u001B[49m\u001B[43m)\u001B[49m\u001B[38;5;241;43m.\u001B[39;49m\u001B[43mdownload_artifacts\u001B[49m\u001B[43m(\u001B[49m\u001B[43martifact_path\u001B[49m\u001B[43m,\u001B[49m\u001B[43m \u001B[49m\u001B[43mdst_path\u001B[49m\u001B[43m)\u001B[49m\n\u001B[0;32m     80\u001B[0m \u001B[38;5;66;03m# NOTE: The artifact_path is expected to be a relative path in posix format.\u001B[39;00m\n\u001B[0;32m     81\u001B[0m \u001B[38;5;66;03m# Posix paths work fine on windows but just in case we normalize it here.\u001B[39;00m\n\u001B[0;32m     82\u001B[0m artifact_path \u001B[38;5;241m=\u001B[39m validate_path_is_safe(artifact_path)\n",
      "File \u001B[1;32mE:\\BERT\\uvl-tore-classifier-bert\\venv310\\lib\\site-packages\\mlflow\\store\\artifact\\artifact_repo.py:279\u001B[0m, in \u001B[0;36mArtifactRepository.download_artifacts\u001B[1;34m(self, artifact_path, dst_path)\u001B[0m\n\u001B[0;32m    275\u001B[0m     template \u001B[38;5;241m=\u001B[39m \u001B[38;5;124m\"\u001B[39m\u001B[38;5;124m##### File \u001B[39m\u001B[38;5;132;01m{path}\u001B[39;00m\u001B[38;5;124m #####\u001B[39m\u001B[38;5;130;01m\\n\u001B[39;00m\u001B[38;5;132;01m{error}\u001B[39;00m\u001B[38;5;124m\"\u001B[39m\n\u001B[0;32m    276\u001B[0m     failures \u001B[38;5;241m=\u001B[39m \u001B[38;5;124m\"\u001B[39m\u001B[38;5;130;01m\\n\u001B[39;00m\u001B[38;5;124m\"\u001B[39m\u001B[38;5;241m.\u001B[39mjoin(\n\u001B[0;32m    277\u001B[0m         template\u001B[38;5;241m.\u001B[39mformat(path\u001B[38;5;241m=\u001B[39mpath, error\u001B[38;5;241m=\u001B[39merror) \u001B[38;5;28;01mfor\u001B[39;00m path, error \u001B[38;5;129;01min\u001B[39;00m failed_downloads\u001B[38;5;241m.\u001B[39mitems()\n\u001B[0;32m    278\u001B[0m     )\n\u001B[1;32m--> 279\u001B[0m     \u001B[38;5;28;01mraise\u001B[39;00m MlflowException(\n\u001B[0;32m    280\u001B[0m         message\u001B[38;5;241m=\u001B[39m(\n\u001B[0;32m    281\u001B[0m             \u001B[38;5;124m\"\u001B[39m\u001B[38;5;124mThe following failures occurred while downloading one or more\u001B[39m\u001B[38;5;124m\"\u001B[39m\n\u001B[0;32m    282\u001B[0m             \u001B[38;5;124mf\u001B[39m\u001B[38;5;124m\"\u001B[39m\u001B[38;5;124m artifacts from \u001B[39m\u001B[38;5;132;01m{\u001B[39;00m\u001B[38;5;28mself\u001B[39m\u001B[38;5;241m.\u001B[39martifact_uri\u001B[38;5;132;01m}\u001B[39;00m\u001B[38;5;124m:\u001B[39m\u001B[38;5;130;01m\\n\u001B[39;00m\u001B[38;5;132;01m{\u001B[39;00m_truncate_error(failures)\u001B[38;5;132;01m}\u001B[39;00m\u001B[38;5;124m\"\u001B[39m\n\u001B[0;32m    283\u001B[0m         )\n\u001B[0;32m    284\u001B[0m     )\n\u001B[0;32m    286\u001B[0m \u001B[38;5;28;01mreturn\u001B[39;00m os\u001B[38;5;241m.\u001B[39mpath\u001B[38;5;241m.\u001B[39mjoin(dst_path, artifact_path)\n",
      "\u001B[1;31mMlflowException\u001B[0m: The following failures occurred while downloading one or more artifacts from file:///E:/BERT/uvl-tore-classifier-bert/127.0.0.1/279074982670971635/7cfcddb65af24a4595672177cf4f600d/artifacts:\n##### File 0_model #####\n[Errno 2] No such file or directory: 'E:\\\\BERT\\\\uvl-tore-classifier-bert\\\\127.0.0.1\\\\279074982670971635\\\\7cfcddb65af24a4595672177cf4f600d\\\\artifacts\\\\0_model'"
     ]
    }
   ],
   "source": [
    "from tooling.observability import get_run_id\n",
    "from tooling.config import BERTConfig, BERT\n",
    "\n",
    "from copy import deepcopy\n",
    "\n",
    "bert_experiment_config = deepcopy(base_experiment_config)\n",
    "bert_experiment_config.name = \"Production\"\n",
    "\n",
    "bert_config = BERT(\n",
    "    learning_rate_bert=6e-05,\n",
    "    learning_rate_classifier=0.1,\n",
    "    max_len=123,\n",
    "    number_epochs=11 ,\n",
    "    train_batch_size=8,\n",
    "    weight_decay=0.01,\n",
    "    weighted_classes=False,\n",
    ")\n",
    "\n",
    "bert_cfg = OmegaConf.structured(\n",
    "    BERTConfig(\n",
    "        bert=bert_config,\n",
    "        experiment=bert_experiment_config,\n",
    "        transformation=label_transformation_config,\n",
    "    )\n",
    ")\n",
    "\n",
    "if run_experiments:\n",
    "    from experiments.bert import bert\n",
    "\n",
    "    bert(OmegaConf.create(bert_cfg))\n",
    "\n",
    "bert_run_id = get_run_id(bert_cfg, pin_commit=pin_commits)\n",
    "\n",
    "print(bert_run_id)\n",
    "\n",
    "run = mlflow.get_run(bert_run_id)\n",
    "mlflow.artifacts.download_artifacts(\n",
    "    f\"{run.info.artifact_uri}/0_model\", dst_path=Path(\"./src/service/models/\")\n",
    ")\n",
    "try:\n",
    "    shutil.rmtree(Path(\"./src/service/models/bert\"))\n",
    "except FileNotFoundError:\n",
    "    pass\n",
    "Path(\"./src/service/models/0_model\").rename(\"./src/service/models/bert\")"
   ],
   "metadata": {
    "collapsed": false,
    "ExecuteTime": {
     "end_time": "2024-06-13T09:35:34.091752Z",
     "start_time": "2024-06-13T09:17:16.857367Z"
    }
   }
  },
  {
   "cell_type": "code",
   "execution_count": null,
   "metadata": {},
   "outputs": [],
   "source": [
    "##Train RoBERTa E2E Model\n"
   ]
  },
  {
   "cell_type": "code",
   "execution_count": 14,
   "outputs": [
    {
     "name": "stderr",
     "output_type": "stream",
     "text": [
      "01:44:16 INFO:\n",
      "roberta:\n",
      "  model: Jean-Baptiste/roberta-large-ner-english\n",
      "  type: RoBERTa\n",
      "  max_len: 123\n",
      "  train_batch_size: 8\n",
      "  validation_batch_size: 32\n",
      "  number_epochs: 11\n",
      "  learning_rate_roberta: 6.0e-05\n",
      "  learning_rate_classifier: 0.1\n",
      "  weight_decay: 0.01\n",
      "  weighted_classes: false\n",
      "experiment:\n",
      "  name: Production\n",
      "  description: ''\n",
      "  random_state: 125\n",
      "  folds: 5\n",
      "  iterations: 1\n",
      "  average: macro\n",
      "  dataset: all\n",
      "  lower_case: true\n",
      "  force: false\n",
      "  pin_commit: false\n",
      "  smote: false\n",
      "  smote_k_neighbors: 5\n",
      "  smote_sampling_strategy: not majority\n",
      "transformation:\n",
      "  description: None\n",
      "  type: Full\n",
      "  task: Task\n",
      "  goals: null\n",
      "  domain_data: Domain_Data\n",
      "  activity: Activity\n",
      "  stakeholder: Stakeholder\n",
      "  system_function: System_Function\n",
      "  interaction: Interaction\n",
      "  interaction_data: Interaction_Data\n",
      "  workspace: Workspace\n",
      "  software: System_Level\n",
      "  internal_action: System_Level\n",
      "  internal_data: System_Level\n",
      "  system_level: System_Level\n",
      "\n",
      "01:44:16 INFO:New experiment. Running\n",
      "01:44:16 INFO:Entering mlflow context\n",
      "01:44:16 INFO:Importing dataset: anno from E:\\BERT\\uvl-tore-classifier-bert\\src\\data\\datasets\\forum\\anno_test.json\n",
      "01:44:16 INFO:Importing dataset: anno from E:\\BERT\\uvl-tore-classifier-bert\\src\\data\\datasets\\forum\\anno_train.json\n",
      "01:44:16 INFO:Importing dataset: prolific from E:\\BERT\\uvl-tore-classifier-bert\\src\\data\\datasets\\prolific\\TORE_Coded_Answers_1_33.json\n",
      "01:44:17 INFO:Importing dataset: prolific from E:\\BERT\\uvl-tore-classifier-bert\\src\\data\\datasets\\prolific\\TORE_Coded_Answers_34_66.json\n",
      "01:44:17 INFO:Importing dataset: prolific from E:\\BERT\\uvl-tore-classifier-bert\\src\\data\\datasets\\prolific\\TORE_Coded_Answers_67_100.json\n",
      "01:44:17 INFO:Importing dataset: komoot from E:\\BERT\\uvl-tore-classifier-bert\\src\\data\\datasets\\app\\Komoot_AppReview.json\n",
      "01:44:18 INFO:Dataset Labels: transformed_dataset['labels']=['Task', 'Workspace', 'Activity', 'System_Level', 'Domain_Data', 'Stakeholder', '0', 'Interaction_Data', 'System_Function', 'Interaction']\n",
      "01:44:18 INFO:Class weights: {'0': 1.0, 'Task': 1.0, 'Domain_Data': 1.0, 'Activity': 1.0, 'Stakeholder': 1.0, 'System_Function': 1.0, 'Interaction': 1.0, 'Interaction_Data': 1.0, 'Workspace': 1.0, 'System_Level': 1.0}\n",
      "01:44:18 INFO:Configured maximal token sequence length: max_len = 123\n",
      "01:44:18 INFO:Created fold datasets for fold: 0, stored at paths=[WindowsPath('E:/BERT/uvl-tore-classifier-bert/src/data/temp/sampling/capable-auk-759/0_data_train.pickle'), WindowsPath('E:/BERT/uvl-tore-classifier-bert/src/data/temp/sampling/capable-auk-759/0_data_train.csv'), WindowsPath('E:/BERT/uvl-tore-classifier-bert/src/data/temp/sampling/capable-auk-759/0_data_test.pickle'), WindowsPath('E:/BERT/uvl-tore-classifier-bert/src/data/temp/sampling/capable-auk-759/0_data_test.csv')]\n",
      "01:44:18 INFO:Starting iteration=0\n"
     ]
    },
    {
     "data": {
      "text/plain": "Map:   0%|          | 0/2488 [00:00<?, ? examples/s]",
      "application/vnd.jupyter.widget-view+json": {
       "version_major": 2,
       "version_minor": 0,
       "model_id": "2c895e7f1ffc491e8ceab79459d5ff24"
      }
     },
     "metadata": {},
     "output_type": "display_data"
    },
    {
     "data": {
      "text/plain": "Map:   0%|          | 0/622 [00:00<?, ? examples/s]",
      "application/vnd.jupyter.widget-view+json": {
       "version_major": 2,
       "version_minor": 0,
       "model_id": "f0ca2e213d0c4f2f8088f4f655e5342f"
      }
     },
     "metadata": {},
     "output_type": "display_data"
    },
    {
     "name": "stderr",
     "output_type": "stream",
     "text": [
      "E:\\BERT\\uvl-tore-classifier-bert\\venv310\\lib\\site-packages\\transformers\\training_args.py:1474: FutureWarning: `evaluation_strategy` is deprecated and will be removed in version 4.46 of 🤗 Transformers. Use `eval_strategy` instead\n",
      "  warnings.warn(\n",
      "01:45:21 INFO:Logged iteration result res.precision=0.5793384603014975 res.recall=0.5294931132606071\n"
     ]
    },
    {
     "name": "stdout",
     "output_type": "stream",
     "text": [
      "{'eval_loss': 0.606141209602356, 'eval_step': 0, 'eval_precision': 0.5793384603014975, 'eval_recall': 0.5294931132606071, 'eval_f1': 0.5532954369096804, 'eval_label_count': 10, 'eval_runtime': 3.4457, 'eval_samples_per_second': 180.515, 'eval_steps_per_second': 5.804, 'epoch': 1.0}\n",
      "{'loss': 1.2792, 'grad_norm': 15.624954223632812, 'learning_rate': 5.123063431745104e-05, 'epoch': 1.607717041800643}\n"
     ]
    },
    {
     "name": "stderr",
     "output_type": "stream",
     "text": [
      "01:46:59 INFO:Logged iteration result res.precision=0.6080609820590207 res.recall=0.4686796187106605\n"
     ]
    },
    {
     "name": "stdout",
     "output_type": "stream",
     "text": [
      "{'eval_loss': 0.6071531176567078, 'eval_step': 2, 'eval_precision': 0.6080609820590207, 'eval_recall': 0.4686796187106605, 'eval_f1': 0.5293490168765562, 'eval_label_count': 10, 'eval_runtime': 3.4508, 'eval_samples_per_second': 180.249, 'eval_steps_per_second': 5.796, 'epoch': 2.0}\n"
     ]
    },
    {
     "name": "stderr",
     "output_type": "stream",
     "text": [
      "01:48:43 INFO:Logged iteration result res.precision=0.6848862486107135 res.recall=0.5565420222272148\n"
     ]
    },
    {
     "name": "stdout",
     "output_type": "stream",
     "text": [
      "{'eval_loss': 0.4957864582538605, 'eval_step': 4, 'eval_precision': 0.6848862486107135, 'eval_recall': 0.5565420222272148, 'eval_f1': 0.6140797446801176, 'eval_label_count': 10, 'eval_runtime': 3.4562, 'eval_samples_per_second': 179.968, 'eval_steps_per_second': 5.787, 'epoch': 3.0}\n",
      "{'loss': 0.6808, 'grad_norm': 13.241116523742676, 'learning_rate': 4.2461268634902076e-05, 'epoch': 3.215434083601286}\n"
     ]
    },
    {
     "name": "stderr",
     "output_type": "stream",
     "text": [
      "01:50:20 INFO:Logged iteration result res.precision=0.6507461365221903 res.recall=0.6693099147848478\n"
     ]
    },
    {
     "name": "stdout",
     "output_type": "stream",
     "text": [
      "{'eval_loss': 0.4820605218410492, 'eval_step': 6, 'eval_precision': 0.6507461365221903, 'eval_recall': 0.6693099147848478, 'eval_f1': 0.6598974956419169, 'eval_label_count': 10, 'eval_runtime': 3.46, 'eval_samples_per_second': 179.767, 'eval_steps_per_second': 5.78, 'epoch': 4.0}\n",
      "{'loss': 0.5049, 'grad_norm': 7.3944220542907715, 'learning_rate': 3.369190295235311e-05, 'epoch': 4.823151125401929}\n"
     ]
    },
    {
     "name": "stderr",
     "output_type": "stream",
     "text": [
      "01:51:56 INFO:Logged iteration result res.precision=0.6895372990852613 res.recall=0.6271393081541824\n"
     ]
    },
    {
     "name": "stdout",
     "output_type": "stream",
     "text": [
      "{'eval_loss': 0.5652507543563843, 'eval_step': 8, 'eval_precision': 0.6895372990852613, 'eval_recall': 0.6271393081541824, 'eval_f1': 0.6568597669574816, 'eval_label_count': 10, 'eval_runtime': 3.4651, 'eval_samples_per_second': 179.504, 'eval_steps_per_second': 5.772, 'epoch': 5.0}\n"
     ]
    },
    {
     "name": "stderr",
     "output_type": "stream",
     "text": [
      "01:53:34 INFO:Logged iteration result res.precision=0.6742795448771706 res.recall=0.6181710754031103\n"
     ]
    },
    {
     "name": "stdout",
     "output_type": "stream",
     "text": [
      "{'eval_loss': 0.6192948222160339, 'eval_step': 10, 'eval_precision': 0.6742795448771706, 'eval_recall': 0.6181710754031103, 'eval_f1': 0.6450074066096988, 'eval_label_count': 10, 'eval_runtime': 3.5492, 'eval_samples_per_second': 175.249, 'eval_steps_per_second': 5.635, 'epoch': 6.0}\n",
      "{'loss': 0.324, 'grad_norm': 18.10057258605957, 'learning_rate': 2.492253726980415e-05, 'epoch': 6.430868167202572}\n"
     ]
    },
    {
     "name": "stderr",
     "output_type": "stream",
     "text": [
      "01:55:12 INFO:Logged iteration result res.precision=0.6873868514132714 res.recall=0.660922580138302\n"
     ]
    },
    {
     "name": "stdout",
     "output_type": "stream",
     "text": [
      "{'eval_loss': 0.5512689352035522, 'eval_step': 12, 'eval_precision': 0.6873868514132714, 'eval_recall': 0.660922580138302, 'eval_f1': 0.6738949988155228, 'eval_label_count': 10, 'eval_runtime': 3.4693, 'eval_samples_per_second': 179.286, 'eval_steps_per_second': 5.765, 'epoch': 7.0}\n"
     ]
    },
    {
     "name": "stderr",
     "output_type": "stream",
     "text": [
      "01:56:43 INFO:Logged iteration result res.precision=0.6969054031299542 res.recall=0.6630879913521743\n"
     ]
    },
    {
     "name": "stdout",
     "output_type": "stream",
     "text": [
      "{'eval_loss': 0.5906326770782471, 'eval_step': 14, 'eval_precision': 0.6969054031299542, 'eval_recall': 0.6630879913521743, 'eval_f1': 0.6795762476477104, 'eval_label_count': 10, 'eval_runtime': 3.4785, 'eval_samples_per_second': 178.813, 'eval_steps_per_second': 5.75, 'epoch': 8.0}\n",
      "{'loss': 0.2004, 'grad_norm': 7.203489780426025, 'learning_rate': 1.6153171587255187e-05, 'epoch': 8.038585209003216}\n"
     ]
    },
    {
     "name": "stderr",
     "output_type": "stream",
     "text": [
      "01:58:20 INFO:Logged iteration result res.precision=0.6929995630182143 res.recall=0.6776944016612059\n"
     ]
    },
    {
     "name": "stdout",
     "output_type": "stream",
     "text": [
      "{'eval_loss': 0.7513129711151123, 'eval_step': 16, 'eval_precision': 0.6929995630182143, 'eval_recall': 0.6776944016612059, 'eval_f1': 0.6852615336654618, 'eval_label_count': 10, 'eval_runtime': 3.5576, 'eval_samples_per_second': 174.838, 'eval_steps_per_second': 5.622, 'epoch': 9.0}\n",
      "{'loss': 0.0924, 'grad_norm': 11.683978080749512, 'learning_rate': 7.383805904706226e-06, 'epoch': 9.646302250803858}\n"
     ]
    },
    {
     "name": "stderr",
     "output_type": "stream",
     "text": [
      "02:00:00 INFO:Logged iteration result res.precision=0.6888084658467657 res.recall=0.6815572697029866\n"
     ]
    },
    {
     "name": "stdout",
     "output_type": "stream",
     "text": [
      "{'eval_loss': 0.9262818694114685, 'eval_step': 18, 'eval_precision': 0.6888084658467657, 'eval_recall': 0.6815572697029866, 'eval_f1': 0.6851636831717619, 'eval_label_count': 10, 'eval_runtime': 3.6713, 'eval_samples_per_second': 169.423, 'eval_steps_per_second': 5.448, 'epoch': 10.0}\n"
     ]
    },
    {
     "name": "stderr",
     "output_type": "stream",
     "text": [
      "02:01:44 INFO:Logged iteration result res.precision=0.6904512276980231 res.recall=0.6926464362913085\n"
     ]
    },
    {
     "name": "stdout",
     "output_type": "stream",
     "text": [
      "{'eval_loss': 0.9886234998703003, 'eval_step': 20, 'eval_precision': 0.6904512276980231, 'eval_recall': 0.6926464362913085, 'eval_f1': 0.6915470899120589, 'eval_label_count': 10, 'eval_runtime': 3.5215, 'eval_samples_per_second': 176.631, 'eval_steps_per_second': 5.679, 'epoch': 11.0}\n",
      "{'train_runtime': 1083.2292, 'train_samples_per_second': 25.265, 'train_steps_per_second': 3.158, 'train_loss': 0.45614679554546483, 'epoch': 11.0}\n"
     ]
    },
    {
     "name": "stderr",
     "output_type": "stream",
     "text": [
      "02:02:35 INFO:Logged iteration result res.precision=0.6904512276980231 res.recall=0.6926464362913085\n",
      "02:02:35 INFO:Logged iteration result res.precision=0.6904512276980231 res.recall=0.6926464362913085\n",
      "02:02:35 INFO:Finished iteration=0\n",
      "02:02:35 INFO:Logging model artifact (might take a while)\n",
      "02:02:38 INFO:Breaking early after iteration=0 of 5 folds\n",
      "02:02:38 INFO:Logged experiment result res.mean_precision=0.6904512276980231 res.mean_recall=0.6926464362913085\n",
      "02:02:39 INFO:Left mlflow context\n"
     ]
    },
    {
     "name": "stdout",
     "output_type": "stream",
     "text": [
      "73c3721d2c3e41e6b0539148725132df\n"
     ]
    },
    {
     "data": {
      "text/plain": "Downloading artifacts:   0%|          | 0/8 [00:00<?, ?it/s]",
      "application/vnd.jupyter.widget-view+json": {
       "version_major": 2,
       "version_minor": 0,
       "model_id": "f66c88a13f3f499593daa8ac53a8a930"
      }
     },
     "metadata": {},
     "output_type": "display_data"
    },
    {
     "data": {
      "text/plain": "WindowsPath('src/service/models/roberta')"
     },
     "execution_count": 14,
     "metadata": {},
     "output_type": "execute_result"
    }
   ],
   "source": [
    "from tooling.observability import get_run_id\n",
    "from tooling.config import RoBERTaConfig, RoBERTa\n",
    "\n",
    "from copy import deepcopy\n",
    "\n",
    "roberta_experiment_config = deepcopy(base_experiment_config)\n",
    "roberta_experiment_config.name = \"Production\"\n",
    "\n",
    "roberta_config = RoBERTa(\n",
    "    learning_rate_roberta=6e-05,\n",
    "    learning_rate_classifier=0.1,\n",
    "    max_len=123,\n",
    "    number_epochs=11,\n",
    "    train_batch_size=8,\n",
    "    weight_decay=0.01,\n",
    "    weighted_classes=False,\n",
    ")\n",
    "\n",
    "roberta_cfg = OmegaConf.structured(\n",
    "    RoBERTaConfig(\n",
    "        roberta=roberta_config,\n",
    "        experiment=roberta_experiment_config,\n",
    "        transformation=label_transformation_config,\n",
    "    )\n",
    ")\n",
    "\n",
    "if run_experiments:\n",
    "    from experiments.roberta import roberta\n",
    "\n",
    "    roberta(OmegaConf.create(roberta_cfg))\n",
    "\n",
    "roberta_run_id = get_run_id(roberta_cfg, pin_commit=pin_commits)\n",
    "\n",
    "print(roberta_run_id)\n",
    "\n",
    "run = mlflow.get_run(roberta_run_id)\n",
    "mlflow.artifacts.download_artifacts(\n",
    "    f\"{run.info.artifact_uri}/0_model\", dst_path=Path(\"./src/service/models/\")\n",
    ")\n",
    "try:\n",
    "    shutil.rmtree(Path(\"./src/service/models/roberta\"))\n",
    "except FileNotFoundError:\n",
    "    pass\n",
    "Path(\"./src/service/models/0_model\").rename(\"./src/service/models/roberta\")\n"
   ],
   "metadata": {
    "collapsed": false,
    "ExecuteTime": {
     "end_time": "2024-06-11T12:02:41.827681Z",
     "start_time": "2024-06-11T11:44:15.845402Z"
    }
   }
  },
  {
   "cell_type": "code",
   "execution_count": null,
   "outputs": [],
   "source": [],
   "metadata": {
    "collapsed": false
   }
  },
  {
   "cell_type": "code",
   "execution_count": null,
   "outputs": [],
   "source": [],
   "metadata": {
    "collapsed": false
   }
  }
 ],
 "metadata": {
  "kernelspec": {
   "display_name": "venv",
   "language": "python",
   "name": "python3"
  },
  "language_info": {
   "codemirror_mode": {
    "name": "ipython",
    "version": 3
   },
   "file_extension": ".py",
   "mimetype": "text/x-python",
   "name": "python",
   "nbconvert_exporter": "python",
   "pygments_lexer": "ipython3",
   "version": "3.11.4"
  },
  "orig_nbformat": 4
 },
 "nbformat": 4,
 "nbformat_minor": 2
}
