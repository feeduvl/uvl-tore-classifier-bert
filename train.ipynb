{
 "cells": [
  {
   "cell_type": "code",
   "execution_count": 1,
   "metadata": {
    "ExecuteTime": {
     "end_time": "2024-08-08T16:09:16.636591Z",
     "start_time": "2024-08-08T16:09:16.581210Z"
    }
   },
   "outputs": [],
   "source": [
    "%load_ext autoreload\n",
    "%autoreload 2\n"
   ]
  },
  {
   "cell_type": "code",
   "execution_count": 2,
   "metadata": {
    "ExecuteTime": {
     "end_time": "2024-08-08T16:09:20.996814Z",
     "start_time": "2024-08-08T16:09:16.638029Z"
    }
   },
   "outputs": [],
   "source": [
    "import logging\n",
    "import shutil\n",
    "from omegaconf import OmegaConf\n",
    "from hydra import initialize, compose\n",
    "from hydra.core.config_store import ConfigStore\n",
    "import mlflow\n",
    "from src.experiments.sner import sner\n",
    "from pathlib import Path\n",
    "\n",
    "import os\n",
    "\n",
    "logging.basicConfig(\n",
    "    format=\"%(asctime)s %(levelname)s:%(message)s\",\n",
    "    level=logging.INFO,\n",
    "    datefmt=\"%I:%M:%S\",\n",
    ")\n",
    "logger = logging.getLogger(\"training\")"
   ]
  },
  {
   "cell_type": "code",
   "execution_count": 3,
   "metadata": {
    "ExecuteTime": {
     "end_time": "2024-08-08T16:09:21.167937Z",
     "start_time": "2024-08-08T16:09:20.997821Z"
    }
   },
   "outputs": [
    {
     "data": {
      "text/plain": "'https://mlflow-uvl.ifi.uni-heidelberg.de'"
     },
     "execution_count": 3,
     "metadata": {},
     "output_type": "execute_result"
    }
   ],
   "source": [
    "mlflow.get_tracking_uri()"
   ]
  },
  {
   "cell_type": "code",
   "execution_count": 4,
   "metadata": {
    "ExecuteTime": {
     "end_time": "2024-08-08T16:09:21.323520Z",
     "start_time": "2024-08-08T16:09:21.168937Z"
    }
   },
   "outputs": [
    {
     "name": "stdout",
     "output_type": "stream",
     "text": [
      "run_experiments=True\n",
      "pin_commits=False\n"
     ]
    }
   ],
   "source": [
    "sentence_length = 106\n",
    "\n",
    "run_experiments = os.getenv(\"UVL_BERT_RUN_EXPERIMENTS\", \"True\") == \"True\"\n",
    "pin_commits = os.getenv(\"UVL_BERT_PIN_COMMITS\", \"True\") == \"FALSE\"\n",
    "\n",
    "print(f\"{run_experiments=}\")\n",
    "print(f\"{pin_commits=}\")"
   ]
  },
  {
   "cell_type": "code",
   "execution_count": 5,
   "metadata": {
    "ExecuteTime": {
     "end_time": "2024-08-08T16:09:21.478581Z",
     "start_time": "2024-08-08T16:09:21.324525Z"
    }
   },
   "outputs": [],
   "source": [
    "from tooling.config import Experiment, Transformation\n",
    "#Set Iterations=1 for Split training and testing on datasets. Set dataset to desired dataset split. See tooling.py for split options\n",
    "base_experiment_config = Experiment(\n",
    "    name=\"Base Config 1\",\n",
    "    iterations=1,\n",
    "    force=False,\n",
    "    dataset=\"all\",\n",
    "    lower_case=True,\n",
    ")\n",
    "\n",
    "levels_transformation_config = Transformation(\n",
    "    description=\"Levels\",\n",
    "    type=\"Reduced\",\n",
    "    task=\"Domain_Level\",\n",
    "    domain_data=\"Domain_Level\",\n",
    "    activity=\"Domain_Level\",\n",
    "    stakeholder=\"Domain_Level\",\n",
    "    system_function=\"Interaction_Level\",\n",
    "    interaction=\"Interaction_Level\",\n",
    "    interaction_data=\"Domain_Level\",\n",
    "    workspace=\"Interaction_Level\",\n",
    "    software=\"System_Level\",\n",
    "    internal_action=\"System_Level\",\n",
    "    internal_data=\"System_Level\",\n",
    "    system_level=\"System_Level\",\n",
    ")\n",
    "\n",
    "label_transformation_config = Transformation(\n",
    "    description=\"None\",\n",
    "    type=\"Full\",\n",
    "    task=\"Task\",\n",
    "    domain_data=\"Domain_Data\",\n",
    "    activity=\"Activity\",\n",
    "    stakeholder=\"Stakeholder\",\n",
    "    system_function=\"System_Function\",\n",
    "    interaction=\"Interaction\",\n",
    "    interaction_data=\"Interaction_Data\",\n",
    "    workspace=\"Workspace\",\n",
    "    software=\"System_Level\",\n",
    "    internal_action=\"System_Level\",\n",
    "    internal_data=\"System_Level\",\n",
    "    system_level=\"System_Level\",\n",
    ")"
   ]
  },
  {
   "cell_type": "code",
   "execution_count": 6,
   "metadata": {
    "ExecuteTime": {
     "end_time": "2024-08-08T16:09:21.649443Z",
     "start_time": "2024-08-08T16:09:21.479581Z"
    }
   },
   "outputs": [
    {
     "name": "stderr",
     "output_type": "stream",
     "text": [
      "06:09:21 INFO:Hint Label2Id: hint_label2id={'0': 0, 'System_Level': 1, 'Domain_Level': 2, 'Interaction_Level': 3}\n",
      "06:09:21 INFO:Hint Label2Id: hint_label2id={'0': 0, 'Task': 1, 'Domain_Data': 2, 'Activity': 3, 'Stakeholder': 4, 'System_Function': 5, 'Interaction': 6, 'Interaction_Data': 7, 'Workspace': 8, 'System_Level': 9}\n"
     ]
    }
   ],
   "source": [
    "from tooling.transformation import get_hint_transformation\n",
    "import pickle\n",
    "\n",
    "hint_transformation = get_hint_transformation(\n",
    "    transformation_cfg=OmegaConf.structured(levels_transformation_config)\n",
    ")\n",
    "\n",
    "Path(\"./src/service/models/\").mkdir(parents=True, exist_ok=True)\n",
    "\n",
    "hint_label2id = hint_transformation[\"label2id\"]\n",
    "pickle.dump(\n",
    "    hint_label2id, open(\"./src/service/models/hint_label2id.pickle\", \"wb\")\n",
    ")\n",
    "hint_id2label = {y: x for x, y in hint_label2id.items()}\n",
    "pickle.dump(\n",
    "    hint_id2label, open(\"./src/service/models/hint_id2label.pickle\", \"wb\")\n",
    ")\n",
    "\n",
    "transformation = get_hint_transformation(\n",
    "    transformation_cfg=OmegaConf.structured(label_transformation_config)\n",
    ")\n",
    "label2id = transformation[\"label2id\"]\n",
    "pickle.dump(label2id, open(\"./src/service/models/label2id.pickle\", \"wb\"))\n",
    "id2label = {y: x for x, y in label2id.items()}\n",
    "pickle.dump(id2label, open(\"./src/service/models/id2label.pickle\", \"wb\"))"
   ]
  },
  {
   "cell_type": "markdown",
   "metadata": {},
   "source": [
    "## Train BiLSTM First Stage Model\n"
   ]
  },
  {
   "cell_type": "code",
   "execution_count": 9,
   "metadata": {
    "ExecuteTime": {
     "end_time": "2024-08-08T16:36:23.932230Z",
     "start_time": "2024-08-08T16:36:23.557448Z"
    }
   },
   "outputs": [
    {
     "ename": "SyntaxError",
     "evalue": "unterminated triple-quoted string literal (detected at line 48) (87726336.py, line 1)",
     "output_type": "error",
     "traceback": [
      "\u001B[1;36m  Cell \u001B[1;32mIn[9], line 1\u001B[1;36m\u001B[0m\n\u001B[1;33m    '''\u001B[0m\n\u001B[1;37m    ^\u001B[0m\n\u001B[1;31mSyntaxError\u001B[0m\u001B[1;31m:\u001B[0m unterminated triple-quoted string literal (detected at line 48)\n"
     ]
    }
   ],
   "source": [
    "'''\n",
    "from tooling.observability import get_run_id\n",
    "from tooling.config import BiLSTMConfig, BiLSTM\n",
    "\n",
    "from copy import deepcopy\n",
    "\n",
    "bilstm_experiment_config = deepcopy(base_experiment_config)\n",
    "bilstm_experiment_config.name = \"Production\"\n",
    "\n",
    "bilstm_config = BiLSTM(\n",
    "    batch_size=16,\n",
    "    learning_rate=0.006,\n",
    "    number_epochs=5,\n",
    "    weighted_classes=False,\n",
    "    sentence_length=106,\n",
    ")\n",
    "\n",
    "bilstm_cfg: BiLSTMConfig = OmegaConf.structured(\n",
    "    BiLSTMConfig(\n",
    "        bilstm=bilstm_config,\n",
    "        experiment=bilstm_experiment_config,\n",
    "        transformation=levels_transformation_config,\n",
    "    )\n",
    ")\n",
    "\n",
    "# bilstm_cfg.experiment.force = True\n",
    "\n",
    "if run_experiments:\n",
    "    from experiments.bilstm import bilstm\n",
    "\n",
    "    bilstm(bilstm_cfg)\n",
    "\n",
    "\n",
    "bilstm_run_id = get_run_id(bilstm_cfg, pin_commit=pin_commits)\n",
    "\n",
    "print(bilstm_run_id)\n",
    "print(mlflow.get_artifact_uri())\n",
    "\n",
    "bilstm_run = mlflow.get_run(bilstm_run_id)\n",
    "mlflow.artifacts.download_artifacts(\n",
    "    f\"{bilstm_run.info.artifact_uri}/0_model\",\n",
    "    dst_path=Path(\"./src/service/models/\"),\n",
    ")\n",
    "try:\n",
    "    shutil.rmtree(Path(\"./src/service/models/bilstm\"))\n",
    "except FileNotFoundError:\n",
    "    pass\n",
    "Path(\"./src/service/models/0_model\").rename(\"./src/service/models/bilstm\")\n",
    "'''"
   ]
  },
  {
   "cell_type": "markdown",
   "metadata": {},
   "source": [
    "## Train SNER First Stage Model\n"
   ]
  },
  {
   "cell_type": "code",
   "execution_count": 13,
   "metadata": {
    "ExecuteTime": {
     "end_time": "2024-08-08T12:25:38.084332Z",
     "start_time": "2024-08-08T12:25:37.415320Z"
    }
   },
   "outputs": [
    {
     "ename": "SyntaxError",
     "evalue": "unterminated triple-quoted string literal (detected at line 40) (2848408053.py, line 1)",
     "output_type": "error",
     "traceback": [
      "\u001B[1;36m  Cell \u001B[1;32mIn[13], line 1\u001B[1;36m\u001B[0m\n\u001B[1;33m    '''\u001B[0m\n\u001B[1;37m    ^\u001B[0m\n\u001B[1;31mSyntaxError\u001B[0m\u001B[1;31m:\u001B[0m unterminated triple-quoted string literal (detected at line 40)\n"
     ]
    }
   ],
   "source": [
    "'''\n",
    "from tooling.observability import (get_run_id)\n",
    "from tooling.config import SNERConfig, SNER\n",
    "\n",
    "from copy import deepcopy\n",
    "\n",
    "sner_experiment_config = deepcopy(base_experiment_config)\n",
    "sner_experiment_config.name = \"Production\"\n",
    "\n",
    "sner_config = SNER()\n",
    "\n",
    "sner_cfg = OmegaConf.structured(\n",
    "    SNERConfig(\n",
    "        sner=sner_config,\n",
    "        experiment=sner_experiment_config,\n",
    "        transformation=levels_transformation_config,\n",
    "    )\n",
    ")\n",
    "\n",
    "if run_experiments:\n",
    "    from experiments.sner import sner\n",
    "\n",
    "    sner(OmegaConf.create(sner_cfg))\n",
    "\n",
    "sner_run_id = get_run_id(sner_cfg, pin_commit=pin_commits)\n",
    "print(mlflow.get_artifact_uri())\n",
    "print(sner_run_id)\n",
    "\n",
    "sner_run = mlflow.get_run(sner_run_id)\n",
    "mlflow.artifacts.download_artifacts(\n",
    "    f\"{sner_run.info.artifact_uri}/0_model.ser.gz\",\n",
    "    dst_path=Path(\"./src/service/models/\"),\n",
    ")\n",
    "try:\n",
    "    Path(\"./src/service/models/sner.ser.gz\").unlink()\n",
    "except FileNotFoundError:\n",
    "    pass\n",
    "Path(\"./src/service/models/0_model.ser.gz\").rename(\n",
    "    \"./src/service/models/sner.ser.gz\"\n",
    ")\n",
    "'''"
   ]
  },
  {
   "cell_type": "markdown",
   "metadata": {},
   "source": [
    "## Train BERT First Stage Model\n"
   ]
  },
  {
   "cell_type": "code",
   "execution_count": 14,
   "metadata": {
    "ExecuteTime": {
     "end_time": "2024-08-08T12:49:12.535224Z",
     "start_time": "2024-08-08T12:26:04.673491Z"
    }
   },
   "outputs": [
    {
     "name": "stderr",
     "output_type": "stream",
     "text": [
      "02:26:05 INFO:\n",
      "bert:\n",
      "  model: bert-large-uncased\n",
      "  type: BERT\n",
      "  max_len: 123\n",
      "  train_batch_size: 8\n",
      "  validation_batch_size: 64\n",
      "  number_epochs: 11\n",
      "  learning_rate_bert: 3.0e-05\n",
      "  learning_rate_classifier: 0.0005\n",
      "  weight_decay: 0.01\n",
      "  weighted_classes: true\n",
      "experiment:\n",
      "  name: Production\n",
      "  description: ''\n",
      "  random_state: 125\n",
      "  folds: 5\n",
      "  iterations: 1\n",
      "  average: macro\n",
      "  dataset: all\n",
      "  lower_case: true\n",
      "  force: false\n",
      "  pin_commit: false\n",
      "  smote: false\n",
      "  smote_k_neighbors: 5\n",
      "  smote_sampling_strategy: not majority\n",
      "  smote_balance_to_average: false\n",
      "transformation:\n",
      "  description: Levels\n",
      "  type: Reduced\n",
      "  task: Domain_Level\n",
      "  goals: null\n",
      "  domain_data: Domain_Level\n",
      "  activity: Domain_Level\n",
      "  stakeholder: Domain_Level\n",
      "  system_function: Interaction_Level\n",
      "  interaction: Interaction_Level\n",
      "  interaction_data: Domain_Level\n",
      "  workspace: Interaction_Level\n",
      "  software: System_Level\n",
      "  internal_action: System_Level\n",
      "  internal_data: System_Level\n",
      "  system_level: System_Level\n",
      "\n",
      "02:26:05 INFO:New experiment. Running\n",
      "02:26:05 INFO:Entering mlflow context\n",
      "02:26:06 INFO:Importing dataset: anno from E:\\BERT\\uvl-tore-classifier-bert\\src\\data\\datasets\\forum\\anno_test.json\n",
      "02:26:06 INFO:Importing dataset: anno from E:\\BERT\\uvl-tore-classifier-bert\\src\\data\\datasets\\forum\\anno_train.json\n",
      "02:26:07 INFO:Importing dataset: prolific from E:\\BERT\\uvl-tore-classifier-bert\\src\\data\\datasets\\prolific\\TORE_Coded_Answers_1_33.json\n",
      "02:26:07 INFO:Importing dataset: prolific from E:\\BERT\\uvl-tore-classifier-bert\\src\\data\\datasets\\prolific\\TORE_Coded_Answers_34_66.json\n",
      "02:26:07 INFO:Importing dataset: prolific from E:\\BERT\\uvl-tore-classifier-bert\\src\\data\\datasets\\prolific\\TORE_Coded_Answers_67_100.json\n",
      "02:26:07 INFO:Importing dataset: komoot from E:\\BERT\\uvl-tore-classifier-bert\\src\\data\\datasets\\app\\Komoot_AppReview.json\n",
      "02:26:11 INFO:Dataset Labels: transformed_dataset['labels']=['Interaction_Level', '0', 'Domain_Level', 'System_Level']\n",
      "02:26:12 INFO:Class weights: {'0': 0.33736363, 'System_Level': 6.415328, 'Domain_Level': 1.9850894, 'Interaction_Level': 2.65811}\n",
      "02:26:12 INFO:Configured maximal token sequence length: max_len = 123\n",
      "02:26:16 INFO:Created fold datasets for fold: 0, stored at paths=[WindowsPath('E:/BERT/uvl-tore-classifier-bert/src/data/temp/sampling/overjoyed-conch-105/0_data_train.pickle'), WindowsPath('E:/BERT/uvl-tore-classifier-bert/src/data/temp/sampling/overjoyed-conch-105/0_data_train.csv'), WindowsPath('E:/BERT/uvl-tore-classifier-bert/src/data/temp/sampling/overjoyed-conch-105/0_data_test.pickle'), WindowsPath('E:/BERT/uvl-tore-classifier-bert/src/data/temp/sampling/overjoyed-conch-105/0_data_test.csv')]\n",
      "02:26:16 INFO:Starting iteration=0\n"
     ]
    },
    {
     "data": {
      "text/plain": "Map:   0%|          | 0/2488 [00:00<?, ? examples/s]",
      "application/vnd.jupyter.widget-view+json": {
       "version_major": 2,
       "version_minor": 0,
       "model_id": "63d6cce726ce48328b39165cce1090b9"
      }
     },
     "metadata": {},
     "output_type": "display_data"
    },
    {
     "data": {
      "text/plain": "Map:   0%|          | 0/622 [00:00<?, ? examples/s]",
      "application/vnd.jupyter.widget-view+json": {
       "version_major": 2,
       "version_minor": 0,
       "model_id": "3a4dbc7bfdc34d46aed9577917687195"
      }
     },
     "metadata": {},
     "output_type": "display_data"
    },
    {
     "name": "stderr",
     "output_type": "stream",
     "text": [
      "E:\\BERT\\uvl-tore-classifier-bert\\venv310\\lib\\site-packages\\transformers\\training_args.py:1474: FutureWarning: `evaluation_strategy` is deprecated and will be removed in version 4.46 of 🤗 Transformers. Use `eval_strategy` instead\n",
      "  warnings.warn(\n",
      "E:\\BERT\\uvl-tore-classifier-bert\\venv310\\lib\\site-packages\\transformers\\models\\bert\\modeling_bert.py:435: UserWarning: 1Torch was not compiled with flash attention. (Triggered internally at ..\\aten\\src\\ATen\\native\\transformers\\cuda\\sdp_utils.cpp:455.)\n",
      "  attn_output = torch.nn.functional.scaled_dot_product_attention(\n",
      "02:27:27 INFO:Logged iteration result res.precision=0.6903478382818348 res.recall=0.8199129858857586\n"
     ]
    },
    {
     "name": "stdout",
     "output_type": "stream",
     "text": [
      "{'eval_loss': 0.5139986276626587, 'eval_step': 0, 'eval_precision': 0.6903478382818348, 'eval_recall': 0.8199129858857586, 'eval_f1': 0.749572720589389, 'eval_label_count': 4, 'eval_runtime': 5.1846, 'eval_samples_per_second': 119.97, 'eval_steps_per_second': 1.929, 'epoch': 1.0}\n",
      "{'loss': 0.5443, 'grad_norm': 8.23720645904541, 'learning_rate': 2.561531715872552e-05, 'epoch': 1.607717041800643}\n"
     ]
    },
    {
     "name": "stderr",
     "output_type": "stream",
     "text": [
      "02:29:11 INFO:Logged iteration result res.precision=0.6877753591285063 res.recall=0.8166917752797052\n"
     ]
    },
    {
     "name": "stdout",
     "output_type": "stream",
     "text": [
      "{'eval_loss': 0.5168285369873047, 'eval_step': 2, 'eval_precision': 0.6877753591285063, 'eval_recall': 0.8166917752797052, 'eval_f1': 0.7467102021623674, 'eval_label_count': 4, 'eval_runtime': 5.4536, 'eval_samples_per_second': 114.052, 'eval_steps_per_second': 1.834, 'epoch': 2.0}\n"
     ]
    },
    {
     "name": "stderr",
     "output_type": "stream",
     "text": [
      "02:30:52 INFO:Logged iteration result res.precision=0.7362654921933249 res.recall=0.8218482052384194\n"
     ]
    },
    {
     "name": "stdout",
     "output_type": "stream",
     "text": [
      "{'eval_loss': 0.6212430000305176, 'eval_step': 4, 'eval_precision': 0.7362654921933249, 'eval_recall': 0.8218482052384194, 'eval_f1': 0.7767064423288953, 'eval_label_count': 4, 'eval_runtime': 4.7963, 'eval_samples_per_second': 129.682, 'eval_steps_per_second': 2.085, 'epoch': 3.0}\n",
      "{'loss': 0.2434, 'grad_norm': 8.56639575958252, 'learning_rate': 2.1230634317451038e-05, 'epoch': 3.215434083601286}\n"
     ]
    },
    {
     "name": "stderr",
     "output_type": "stream",
     "text": [
      "02:32:30 INFO:Logged iteration result res.precision=0.7427709508452707 res.recall=0.8222790813185519\n"
     ]
    },
    {
     "name": "stdout",
     "output_type": "stream",
     "text": [
      "{'eval_loss': 0.7375434041023254, 'eval_step': 6, 'eval_precision': 0.7427709508452707, 'eval_recall': 0.8222790813185519, 'eval_f1': 0.7805054184072554, 'eval_label_count': 4, 'eval_runtime': 4.8435, 'eval_samples_per_second': 128.42, 'eval_steps_per_second': 2.065, 'epoch': 4.0}\n",
      "{'loss': 0.096, 'grad_norm': 2.142723321914673, 'learning_rate': 1.6845951476176556e-05, 'epoch': 4.823151125401929}\n"
     ]
    },
    {
     "name": "stderr",
     "output_type": "stream",
     "text": [
      "02:34:14 INFO:Logged iteration result res.precision=0.7838924154342816 res.recall=0.8161155553895505\n"
     ]
    },
    {
     "name": "stdout",
     "output_type": "stream",
     "text": [
      "{'eval_loss': 1.024376630783081, 'eval_step': 8, 'eval_precision': 0.7838924154342816, 'eval_recall': 0.8161155553895505, 'eval_f1': 0.7996795086694526, 'eval_label_count': 4, 'eval_runtime': 5.0918, 'eval_samples_per_second': 122.156, 'eval_steps_per_second': 1.964, 'epoch': 5.0}\n"
     ]
    },
    {
     "name": "stderr",
     "output_type": "stream",
     "text": [
      "02:35:55 INFO:Logged iteration result res.precision=0.7964285161725284 res.recall=0.806883709845793\n"
     ]
    },
    {
     "name": "stdout",
     "output_type": "stream",
     "text": [
      "{'eval_loss': 1.2160838842391968, 'eval_step': 10, 'eval_precision': 0.7964285161725284, 'eval_recall': 0.806883709845793, 'eval_f1': 0.8016220238676411, 'eval_label_count': 4, 'eval_runtime': 4.7572, 'eval_samples_per_second': 130.748, 'eval_steps_per_second': 2.102, 'epoch': 6.0}\n",
      "{'loss': 0.0386, 'grad_norm': 0.5252747535705566, 'learning_rate': 1.2461268634902075e-05, 'epoch': 6.430868167202572}\n"
     ]
    },
    {
     "name": "stderr",
     "output_type": "stream",
     "text": [
      "02:37:39 INFO:Logged iteration result res.precision=0.79783988502216 res.recall=0.8124556297509433\n"
     ]
    },
    {
     "name": "stdout",
     "output_type": "stream",
     "text": [
      "{'eval_loss': 1.4016085863113403, 'eval_step': 12, 'eval_precision': 0.79783988502216, 'eval_recall': 0.8124556297509433, 'eval_f1': 0.8050814279482538, 'eval_label_count': 4, 'eval_runtime': 4.6271, 'eval_samples_per_second': 134.425, 'eval_steps_per_second': 2.161, 'epoch': 7.0}\n"
     ]
    },
    {
     "name": "stderr",
     "output_type": "stream",
     "text": [
      "02:39:20 INFO:Logged iteration result res.precision=0.808643779778418 res.recall=0.8112349876206547\n"
     ]
    },
    {
     "name": "stdout",
     "output_type": "stream",
     "text": [
      "{'eval_loss': 1.5024405717849731, 'eval_step': 14, 'eval_precision': 0.808643779778418, 'eval_recall': 0.8112349876206547, 'eval_f1': 0.8099373112117005, 'eval_label_count': 4, 'eval_runtime': 4.7047, 'eval_samples_per_second': 132.208, 'eval_steps_per_second': 2.126, 'epoch': 8.0}\n",
      "{'loss': 0.0198, 'grad_norm': 1.4681686162948608, 'learning_rate': 8.076585793627593e-06, 'epoch': 8.038585209003216}\n"
     ]
    },
    {
     "name": "stderr",
     "output_type": "stream",
     "text": [
      "02:40:59 INFO:Logged iteration result res.precision=0.7989473567090808 res.recall=0.8135639564070826\n"
     ]
    },
    {
     "name": "stdout",
     "output_type": "stream",
     "text": [
      "{'eval_loss': 1.5148842334747314, 'eval_step': 16, 'eval_precision': 0.7989473567090808, 'eval_recall': 0.8135639564070826, 'eval_f1': 0.8061894105153427, 'eval_label_count': 4, 'eval_runtime': 4.8719, 'eval_samples_per_second': 127.671, 'eval_steps_per_second': 2.053, 'epoch': 9.0}\n",
      "{'loss': 0.0102, 'grad_norm': 0.036630794405937195, 'learning_rate': 3.691902952353113e-06, 'epoch': 9.646302250803858}\n"
     ]
    },
    {
     "name": "stderr",
     "output_type": "stream",
     "text": [
      "02:42:37 INFO:Logged iteration result res.precision=0.8093775536293907 res.recall=0.8117250397806778\n"
     ]
    },
    {
     "name": "stdout",
     "output_type": "stream",
     "text": [
      "{'eval_loss': 1.660742998123169, 'eval_step': 18, 'eval_precision': 0.8093775536293907, 'eval_recall': 0.8117250397806778, 'eval_f1': 0.810549597031228, 'eval_label_count': 4, 'eval_runtime': 4.5929, 'eval_samples_per_second': 135.426, 'eval_steps_per_second': 2.177, 'epoch': 10.0}\n"
     ]
    },
    {
     "name": "stderr",
     "output_type": "stream",
     "text": [
      "02:44:23 INFO:Logged iteration result res.precision=0.8050577289903632 res.recall=0.8133762651366054\n"
     ]
    },
    {
     "name": "stdout",
     "output_type": "stream",
     "text": [
      "{'eval_loss': 1.6525459289550781, 'eval_step': 20, 'eval_precision': 0.8050577289903632, 'eval_recall': 0.8133762651366054, 'eval_f1': 0.8091956189770539, 'eval_label_count': 4, 'eval_runtime': 4.5014, 'eval_samples_per_second': 138.18, 'eval_steps_per_second': 2.222, 'epoch': 11.0}\n",
      "{'train_runtime': 1118.9819, 'train_samples_per_second': 24.458, 'train_steps_per_second': 3.057, 'train_loss': 0.1395734454832102, 'epoch': 11.0}\n"
     ]
    },
    {
     "name": "stderr",
     "output_type": "stream",
     "text": [
      "02:45:22 INFO:Logged iteration result res.precision=0.8050577289903632 res.recall=0.8133762651366054\n",
      "02:45:23 INFO:Logged iteration result res.precision=0.8050577289903632 res.recall=0.8133762651366054\n",
      "02:45:23 INFO:Finished iteration=0\n",
      "02:45:23 INFO:Logging model artifact (might take a while)\n",
      "02:45:55 WARNING:Retrying (Retry(total=4, connect=5, read=5, redirect=5, status=5)) after connection broken by 'SSLEOFError(8, 'EOF occurred in violation of protocol (_ssl.c:2384)')': /api/2.0/mlflow-artifacts/artifacts/6/2fd7eb8bb98240a2bc79aaa6986e4487/artifacts/0_model/model.safetensors\n",
      "02:46:31 WARNING:Retrying (Retry(total=3, connect=5, read=5, redirect=5, status=5)) after connection broken by 'SSLEOFError(8, 'EOF occurred in violation of protocol (_ssl.c:2384)')': /api/2.0/mlflow-artifacts/artifacts/6/2fd7eb8bb98240a2bc79aaa6986e4487/artifacts/0_model/model.safetensors\n",
      "02:47:11 WARNING:Retrying (Retry(total=2, connect=5, read=5, redirect=5, status=5)) after connection broken by 'SSLEOFError(8, 'EOF occurred in violation of protocol (_ssl.c:2384)')': /api/2.0/mlflow-artifacts/artifacts/6/2fd7eb8bb98240a2bc79aaa6986e4487/artifacts/0_model/model.safetensors\n",
      "02:47:36 WARNING:Retrying (Retry(total=1, connect=5, read=5, redirect=5, status=5)) after connection broken by 'SSLEOFError(8, 'EOF occurred in violation of protocol (_ssl.c:2384)')': /api/2.0/mlflow-artifacts/artifacts/6/2fd7eb8bb98240a2bc79aaa6986e4487/artifacts/0_model/model.safetensors\n",
      "02:48:40 WARNING:Retrying (Retry(total=0, connect=5, read=5, redirect=5, status=5)) after connection broken by 'SSLEOFError(8, 'EOF occurred in violation of protocol (_ssl.c:2384)')': /api/2.0/mlflow-artifacts/artifacts/6/2fd7eb8bb98240a2bc79aaa6986e4487/artifacts/0_model/model.safetensors\n",
      "02:49:11 ERROR:API request to https://mlflow-uvl.ifi.uni-heidelberg.de/api/2.0/mlflow-artifacts/artifacts/6/2fd7eb8bb98240a2bc79aaa6986e4487/artifacts/0_model/model.safetensors failed with exception HTTPSConnectionPool(host='mlflow-uvl.ifi.uni-heidelberg.de', port=443): Max retries exceeded with url: /api/2.0/mlflow-artifacts/artifacts/6/2fd7eb8bb98240a2bc79aaa6986e4487/artifacts/0_model/model.safetensors (Caused by SSLError(SSLEOFError(8, 'EOF occurred in violation of protocol (_ssl.c:2384)')))\n"
     ]
    },
    {
     "ename": "MlflowException",
     "evalue": "API request to https://mlflow-uvl.ifi.uni-heidelberg.de/api/2.0/mlflow-artifacts/artifacts/6/2fd7eb8bb98240a2bc79aaa6986e4487/artifacts/0_model/model.safetensors failed with exception HTTPSConnectionPool(host='mlflow-uvl.ifi.uni-heidelberg.de', port=443): Max retries exceeded with url: /api/2.0/mlflow-artifacts/artifacts/6/2fd7eb8bb98240a2bc79aaa6986e4487/artifacts/0_model/model.safetensors (Caused by SSLError(SSLEOFError(8, 'EOF occurred in violation of protocol (_ssl.c:2384)')))",
     "output_type": "error",
     "traceback": [
      "\u001B[1;31m---------------------------------------------------------------------------\u001B[0m",
      "\u001B[1;31mSSLError\u001B[0m                                  Traceback (most recent call last)",
      "\u001B[1;31mSSLError\u001B[0m: EOF occurred in violation of protocol (_ssl.c:2384)",
      "\nThe above exception was the direct cause of the following exception:\n",
      "\u001B[1;31mMaxRetryError\u001B[0m                             Traceback (most recent call last)",
      "File \u001B[1;32mE:\\BERT\\uvl-tore-classifier-bert\\venv310\\lib\\site-packages\\requests\\adapters.py:486\u001B[0m, in \u001B[0;36mHTTPAdapter.send\u001B[1;34m(self, request, stream, timeout, verify, cert, proxies)\u001B[0m\n\u001B[0;32m    485\u001B[0m \u001B[38;5;28;01mtry\u001B[39;00m:\n\u001B[1;32m--> 486\u001B[0m     resp \u001B[38;5;241m=\u001B[39m \u001B[43mconn\u001B[49m\u001B[38;5;241;43m.\u001B[39;49m\u001B[43murlopen\u001B[49m\u001B[43m(\u001B[49m\n\u001B[0;32m    487\u001B[0m \u001B[43m        \u001B[49m\u001B[43mmethod\u001B[49m\u001B[38;5;241;43m=\u001B[39;49m\u001B[43mrequest\u001B[49m\u001B[38;5;241;43m.\u001B[39;49m\u001B[43mmethod\u001B[49m\u001B[43m,\u001B[49m\n\u001B[0;32m    488\u001B[0m \u001B[43m        \u001B[49m\u001B[43murl\u001B[49m\u001B[38;5;241;43m=\u001B[39;49m\u001B[43murl\u001B[49m\u001B[43m,\u001B[49m\n\u001B[0;32m    489\u001B[0m \u001B[43m        \u001B[49m\u001B[43mbody\u001B[49m\u001B[38;5;241;43m=\u001B[39;49m\u001B[43mrequest\u001B[49m\u001B[38;5;241;43m.\u001B[39;49m\u001B[43mbody\u001B[49m\u001B[43m,\u001B[49m\n\u001B[0;32m    490\u001B[0m \u001B[43m        \u001B[49m\u001B[43mheaders\u001B[49m\u001B[38;5;241;43m=\u001B[39;49m\u001B[43mrequest\u001B[49m\u001B[38;5;241;43m.\u001B[39;49m\u001B[43mheaders\u001B[49m\u001B[43m,\u001B[49m\n\u001B[0;32m    491\u001B[0m \u001B[43m        \u001B[49m\u001B[43mredirect\u001B[49m\u001B[38;5;241;43m=\u001B[39;49m\u001B[38;5;28;43;01mFalse\u001B[39;49;00m\u001B[43m,\u001B[49m\n\u001B[0;32m    492\u001B[0m \u001B[43m        \u001B[49m\u001B[43massert_same_host\u001B[49m\u001B[38;5;241;43m=\u001B[39;49m\u001B[38;5;28;43;01mFalse\u001B[39;49;00m\u001B[43m,\u001B[49m\n\u001B[0;32m    493\u001B[0m \u001B[43m        \u001B[49m\u001B[43mpreload_content\u001B[49m\u001B[38;5;241;43m=\u001B[39;49m\u001B[38;5;28;43;01mFalse\u001B[39;49;00m\u001B[43m,\u001B[49m\n\u001B[0;32m    494\u001B[0m \u001B[43m        \u001B[49m\u001B[43mdecode_content\u001B[49m\u001B[38;5;241;43m=\u001B[39;49m\u001B[38;5;28;43;01mFalse\u001B[39;49;00m\u001B[43m,\u001B[49m\n\u001B[0;32m    495\u001B[0m \u001B[43m        \u001B[49m\u001B[43mretries\u001B[49m\u001B[38;5;241;43m=\u001B[39;49m\u001B[38;5;28;43mself\u001B[39;49m\u001B[38;5;241;43m.\u001B[39;49m\u001B[43mmax_retries\u001B[49m\u001B[43m,\u001B[49m\n\u001B[0;32m    496\u001B[0m \u001B[43m        \u001B[49m\u001B[43mtimeout\u001B[49m\u001B[38;5;241;43m=\u001B[39;49m\u001B[43mtimeout\u001B[49m\u001B[43m,\u001B[49m\n\u001B[0;32m    497\u001B[0m \u001B[43m        \u001B[49m\u001B[43mchunked\u001B[49m\u001B[38;5;241;43m=\u001B[39;49m\u001B[43mchunked\u001B[49m\u001B[43m,\u001B[49m\n\u001B[0;32m    498\u001B[0m \u001B[43m    \u001B[49m\u001B[43m)\u001B[49m\n\u001B[0;32m    500\u001B[0m \u001B[38;5;28;01mexcept\u001B[39;00m (ProtocolError, \u001B[38;5;167;01mOSError\u001B[39;00m) \u001B[38;5;28;01mas\u001B[39;00m err:\n",
      "File \u001B[1;32mE:\\BERT\\uvl-tore-classifier-bert\\venv310\\lib\\site-packages\\urllib3\\connectionpool.py:877\u001B[0m, in \u001B[0;36mHTTPConnectionPool.urlopen\u001B[1;34m(self, method, url, body, headers, retries, redirect, assert_same_host, timeout, pool_timeout, release_conn, chunked, body_pos, preload_content, decode_content, **response_kw)\u001B[0m\n\u001B[0;32m    874\u001B[0m     log\u001B[38;5;241m.\u001B[39mwarning(\n\u001B[0;32m    875\u001B[0m         \u001B[38;5;124m\"\u001B[39m\u001B[38;5;124mRetrying (\u001B[39m\u001B[38;5;132;01m%r\u001B[39;00m\u001B[38;5;124m) after connection broken by \u001B[39m\u001B[38;5;124m'\u001B[39m\u001B[38;5;132;01m%r\u001B[39;00m\u001B[38;5;124m'\u001B[39m\u001B[38;5;124m: \u001B[39m\u001B[38;5;132;01m%s\u001B[39;00m\u001B[38;5;124m\"\u001B[39m, retries, err, url\n\u001B[0;32m    876\u001B[0m     )\n\u001B[1;32m--> 877\u001B[0m     \u001B[38;5;28;01mreturn\u001B[39;00m \u001B[38;5;28mself\u001B[39m\u001B[38;5;241m.\u001B[39murlopen(\n\u001B[0;32m    878\u001B[0m         method,\n\u001B[0;32m    879\u001B[0m         url,\n\u001B[0;32m    880\u001B[0m         body,\n\u001B[0;32m    881\u001B[0m         headers,\n\u001B[0;32m    882\u001B[0m         retries,\n\u001B[0;32m    883\u001B[0m         redirect,\n\u001B[0;32m    884\u001B[0m         assert_same_host,\n\u001B[0;32m    885\u001B[0m         timeout\u001B[38;5;241m=\u001B[39mtimeout,\n\u001B[0;32m    886\u001B[0m         pool_timeout\u001B[38;5;241m=\u001B[39mpool_timeout,\n\u001B[0;32m    887\u001B[0m         release_conn\u001B[38;5;241m=\u001B[39mrelease_conn,\n\u001B[0;32m    888\u001B[0m         chunked\u001B[38;5;241m=\u001B[39mchunked,\n\u001B[0;32m    889\u001B[0m         body_pos\u001B[38;5;241m=\u001B[39mbody_pos,\n\u001B[0;32m    890\u001B[0m         preload_content\u001B[38;5;241m=\u001B[39mpreload_content,\n\u001B[0;32m    891\u001B[0m         decode_content\u001B[38;5;241m=\u001B[39mdecode_content,\n\u001B[0;32m    892\u001B[0m         \u001B[38;5;241m*\u001B[39m\u001B[38;5;241m*\u001B[39mresponse_kw,\n\u001B[0;32m    893\u001B[0m     )\n\u001B[0;32m    895\u001B[0m \u001B[38;5;66;03m# Handle redirect?\u001B[39;00m\n",
      "File \u001B[1;32mE:\\BERT\\uvl-tore-classifier-bert\\venv310\\lib\\site-packages\\urllib3\\connectionpool.py:877\u001B[0m, in \u001B[0;36mHTTPConnectionPool.urlopen\u001B[1;34m(self, method, url, body, headers, retries, redirect, assert_same_host, timeout, pool_timeout, release_conn, chunked, body_pos, preload_content, decode_content, **response_kw)\u001B[0m\n\u001B[0;32m    874\u001B[0m     log\u001B[38;5;241m.\u001B[39mwarning(\n\u001B[0;32m    875\u001B[0m         \u001B[38;5;124m\"\u001B[39m\u001B[38;5;124mRetrying (\u001B[39m\u001B[38;5;132;01m%r\u001B[39;00m\u001B[38;5;124m) after connection broken by \u001B[39m\u001B[38;5;124m'\u001B[39m\u001B[38;5;132;01m%r\u001B[39;00m\u001B[38;5;124m'\u001B[39m\u001B[38;5;124m: \u001B[39m\u001B[38;5;132;01m%s\u001B[39;00m\u001B[38;5;124m\"\u001B[39m, retries, err, url\n\u001B[0;32m    876\u001B[0m     )\n\u001B[1;32m--> 877\u001B[0m     \u001B[38;5;28;01mreturn\u001B[39;00m \u001B[38;5;28mself\u001B[39m\u001B[38;5;241m.\u001B[39murlopen(\n\u001B[0;32m    878\u001B[0m         method,\n\u001B[0;32m    879\u001B[0m         url,\n\u001B[0;32m    880\u001B[0m         body,\n\u001B[0;32m    881\u001B[0m         headers,\n\u001B[0;32m    882\u001B[0m         retries,\n\u001B[0;32m    883\u001B[0m         redirect,\n\u001B[0;32m    884\u001B[0m         assert_same_host,\n\u001B[0;32m    885\u001B[0m         timeout\u001B[38;5;241m=\u001B[39mtimeout,\n\u001B[0;32m    886\u001B[0m         pool_timeout\u001B[38;5;241m=\u001B[39mpool_timeout,\n\u001B[0;32m    887\u001B[0m         release_conn\u001B[38;5;241m=\u001B[39mrelease_conn,\n\u001B[0;32m    888\u001B[0m         chunked\u001B[38;5;241m=\u001B[39mchunked,\n\u001B[0;32m    889\u001B[0m         body_pos\u001B[38;5;241m=\u001B[39mbody_pos,\n\u001B[0;32m    890\u001B[0m         preload_content\u001B[38;5;241m=\u001B[39mpreload_content,\n\u001B[0;32m    891\u001B[0m         decode_content\u001B[38;5;241m=\u001B[39mdecode_content,\n\u001B[0;32m    892\u001B[0m         \u001B[38;5;241m*\u001B[39m\u001B[38;5;241m*\u001B[39mresponse_kw,\n\u001B[0;32m    893\u001B[0m     )\n\u001B[0;32m    895\u001B[0m \u001B[38;5;66;03m# Handle redirect?\u001B[39;00m\n",
      "    \u001B[1;31m[... skipping similar frames: HTTPConnectionPool.urlopen at line 877 (2 times)]\u001B[0m\n",
      "File \u001B[1;32mE:\\BERT\\uvl-tore-classifier-bert\\venv310\\lib\\site-packages\\urllib3\\connectionpool.py:877\u001B[0m, in \u001B[0;36mHTTPConnectionPool.urlopen\u001B[1;34m(self, method, url, body, headers, retries, redirect, assert_same_host, timeout, pool_timeout, release_conn, chunked, body_pos, preload_content, decode_content, **response_kw)\u001B[0m\n\u001B[0;32m    874\u001B[0m     log\u001B[38;5;241m.\u001B[39mwarning(\n\u001B[0;32m    875\u001B[0m         \u001B[38;5;124m\"\u001B[39m\u001B[38;5;124mRetrying (\u001B[39m\u001B[38;5;132;01m%r\u001B[39;00m\u001B[38;5;124m) after connection broken by \u001B[39m\u001B[38;5;124m'\u001B[39m\u001B[38;5;132;01m%r\u001B[39;00m\u001B[38;5;124m'\u001B[39m\u001B[38;5;124m: \u001B[39m\u001B[38;5;132;01m%s\u001B[39;00m\u001B[38;5;124m\"\u001B[39m, retries, err, url\n\u001B[0;32m    876\u001B[0m     )\n\u001B[1;32m--> 877\u001B[0m     \u001B[38;5;28;01mreturn\u001B[39;00m \u001B[38;5;28mself\u001B[39m\u001B[38;5;241m.\u001B[39murlopen(\n\u001B[0;32m    878\u001B[0m         method,\n\u001B[0;32m    879\u001B[0m         url,\n\u001B[0;32m    880\u001B[0m         body,\n\u001B[0;32m    881\u001B[0m         headers,\n\u001B[0;32m    882\u001B[0m         retries,\n\u001B[0;32m    883\u001B[0m         redirect,\n\u001B[0;32m    884\u001B[0m         assert_same_host,\n\u001B[0;32m    885\u001B[0m         timeout\u001B[38;5;241m=\u001B[39mtimeout,\n\u001B[0;32m    886\u001B[0m         pool_timeout\u001B[38;5;241m=\u001B[39mpool_timeout,\n\u001B[0;32m    887\u001B[0m         release_conn\u001B[38;5;241m=\u001B[39mrelease_conn,\n\u001B[0;32m    888\u001B[0m         chunked\u001B[38;5;241m=\u001B[39mchunked,\n\u001B[0;32m    889\u001B[0m         body_pos\u001B[38;5;241m=\u001B[39mbody_pos,\n\u001B[0;32m    890\u001B[0m         preload_content\u001B[38;5;241m=\u001B[39mpreload_content,\n\u001B[0;32m    891\u001B[0m         decode_content\u001B[38;5;241m=\u001B[39mdecode_content,\n\u001B[0;32m    892\u001B[0m         \u001B[38;5;241m*\u001B[39m\u001B[38;5;241m*\u001B[39mresponse_kw,\n\u001B[0;32m    893\u001B[0m     )\n\u001B[0;32m    895\u001B[0m \u001B[38;5;66;03m# Handle redirect?\u001B[39;00m\n",
      "File \u001B[1;32mE:\\BERT\\uvl-tore-classifier-bert\\venv310\\lib\\site-packages\\urllib3\\connectionpool.py:847\u001B[0m, in \u001B[0;36mHTTPConnectionPool.urlopen\u001B[1;34m(self, method, url, body, headers, retries, redirect, assert_same_host, timeout, pool_timeout, release_conn, chunked, body_pos, preload_content, decode_content, **response_kw)\u001B[0m\n\u001B[0;32m    845\u001B[0m     new_e \u001B[38;5;241m=\u001B[39m ProtocolError(\u001B[38;5;124m\"\u001B[39m\u001B[38;5;124mConnection aborted.\u001B[39m\u001B[38;5;124m\"\u001B[39m, new_e)\n\u001B[1;32m--> 847\u001B[0m retries \u001B[38;5;241m=\u001B[39m \u001B[43mretries\u001B[49m\u001B[38;5;241;43m.\u001B[39;49m\u001B[43mincrement\u001B[49m\u001B[43m(\u001B[49m\n\u001B[0;32m    848\u001B[0m \u001B[43m    \u001B[49m\u001B[43mmethod\u001B[49m\u001B[43m,\u001B[49m\u001B[43m \u001B[49m\u001B[43murl\u001B[49m\u001B[43m,\u001B[49m\u001B[43m \u001B[49m\u001B[43merror\u001B[49m\u001B[38;5;241;43m=\u001B[39;49m\u001B[43mnew_e\u001B[49m\u001B[43m,\u001B[49m\u001B[43m \u001B[49m\u001B[43m_pool\u001B[49m\u001B[38;5;241;43m=\u001B[39;49m\u001B[38;5;28;43mself\u001B[39;49m\u001B[43m,\u001B[49m\u001B[43m \u001B[49m\u001B[43m_stacktrace\u001B[49m\u001B[38;5;241;43m=\u001B[39;49m\u001B[43msys\u001B[49m\u001B[38;5;241;43m.\u001B[39;49m\u001B[43mexc_info\u001B[49m\u001B[43m(\u001B[49m\u001B[43m)\u001B[49m\u001B[43m[\u001B[49m\u001B[38;5;241;43m2\u001B[39;49m\u001B[43m]\u001B[49m\n\u001B[0;32m    849\u001B[0m \u001B[43m\u001B[49m\u001B[43m)\u001B[49m\n\u001B[0;32m    850\u001B[0m retries\u001B[38;5;241m.\u001B[39msleep()\n",
      "File \u001B[1;32mE:\\BERT\\uvl-tore-classifier-bert\\venv310\\lib\\site-packages\\urllib3\\util\\retry.py:515\u001B[0m, in \u001B[0;36mRetry.increment\u001B[1;34m(self, method, url, response, error, _pool, _stacktrace)\u001B[0m\n\u001B[0;32m    514\u001B[0m     reason \u001B[38;5;241m=\u001B[39m error \u001B[38;5;129;01mor\u001B[39;00m ResponseError(cause)\n\u001B[1;32m--> 515\u001B[0m     \u001B[38;5;28;01mraise\u001B[39;00m MaxRetryError(_pool, url, reason) \u001B[38;5;28;01mfrom\u001B[39;00m \u001B[38;5;21;01mreason\u001B[39;00m  \u001B[38;5;66;03m# type: ignore[arg-type]\u001B[39;00m\n\u001B[0;32m    517\u001B[0m log\u001B[38;5;241m.\u001B[39mdebug(\u001B[38;5;124m\"\u001B[39m\u001B[38;5;124mIncremented Retry for (url=\u001B[39m\u001B[38;5;124m'\u001B[39m\u001B[38;5;132;01m%s\u001B[39;00m\u001B[38;5;124m'\u001B[39m\u001B[38;5;124m): \u001B[39m\u001B[38;5;132;01m%r\u001B[39;00m\u001B[38;5;124m\"\u001B[39m, url, new_retry)\n",
      "\u001B[1;31mMaxRetryError\u001B[0m: HTTPSConnectionPool(host='mlflow-uvl.ifi.uni-heidelberg.de', port=443): Max retries exceeded with url: /api/2.0/mlflow-artifacts/artifacts/6/2fd7eb8bb98240a2bc79aaa6986e4487/artifacts/0_model/model.safetensors (Caused by SSLError(SSLEOFError(8, 'EOF occurred in violation of protocol (_ssl.c:2384)')))",
      "\nDuring handling of the above exception, another exception occurred:\n",
      "\u001B[1;31mSSLError\u001B[0m                                  Traceback (most recent call last)",
      "File \u001B[1;32mE:\\BERT\\uvl-tore-classifier-bert\\venv310\\lib\\site-packages\\mlflow\\utils\\rest_utils.py:128\u001B[0m, in \u001B[0;36mhttp_request\u001B[1;34m(host_creds, endpoint, method, max_retries, backoff_factor, backoff_jitter, extra_headers, retry_codes, timeout, raise_on_status, respect_retry_after_header, **kwargs)\u001B[0m\n\u001B[0;32m    127\u001B[0m \u001B[38;5;28;01mtry\u001B[39;00m:\n\u001B[1;32m--> 128\u001B[0m     \u001B[38;5;28;01mreturn\u001B[39;00m _get_http_response_with_retries(\n\u001B[0;32m    129\u001B[0m         method,\n\u001B[0;32m    130\u001B[0m         url,\n\u001B[0;32m    131\u001B[0m         max_retries,\n\u001B[0;32m    132\u001B[0m         backoff_factor,\n\u001B[0;32m    133\u001B[0m         backoff_jitter,\n\u001B[0;32m    134\u001B[0m         retry_codes,\n\u001B[0;32m    135\u001B[0m         raise_on_status,\n\u001B[0;32m    136\u001B[0m         headers\u001B[38;5;241m=\u001B[39mheaders,\n\u001B[0;32m    137\u001B[0m         verify\u001B[38;5;241m=\u001B[39mhost_creds\u001B[38;5;241m.\u001B[39mverify,\n\u001B[0;32m    138\u001B[0m         timeout\u001B[38;5;241m=\u001B[39mtimeout,\n\u001B[0;32m    139\u001B[0m         respect_retry_after_header\u001B[38;5;241m=\u001B[39mrespect_retry_after_header,\n\u001B[0;32m    140\u001B[0m         \u001B[38;5;241m*\u001B[39m\u001B[38;5;241m*\u001B[39mkwargs,\n\u001B[0;32m    141\u001B[0m     )\n\u001B[0;32m    142\u001B[0m \u001B[38;5;28;01mexcept\u001B[39;00m requests\u001B[38;5;241m.\u001B[39mexceptions\u001B[38;5;241m.\u001B[39mTimeout \u001B[38;5;28;01mas\u001B[39;00m to:\n",
      "File \u001B[1;32mE:\\BERT\\uvl-tore-classifier-bert\\venv310\\lib\\site-packages\\mlflow\\utils\\request_utils.py:228\u001B[0m, in \u001B[0;36m_get_http_response_with_retries\u001B[1;34m(method, url, max_retries, backoff_factor, backoff_jitter, retry_codes, raise_on_status, allow_redirects, respect_retry_after_header, **kwargs)\u001B[0m\n\u001B[0;32m    226\u001B[0m allow_redirects \u001B[38;5;241m=\u001B[39m env_value \u001B[38;5;28;01mif\u001B[39;00m allow_redirects \u001B[38;5;129;01mis\u001B[39;00m \u001B[38;5;28;01mNone\u001B[39;00m \u001B[38;5;28;01melse\u001B[39;00m allow_redirects\n\u001B[1;32m--> 228\u001B[0m \u001B[38;5;28;01mreturn\u001B[39;00m session\u001B[38;5;241m.\u001B[39mrequest(method, url, allow_redirects\u001B[38;5;241m=\u001B[39mallow_redirects, \u001B[38;5;241m*\u001B[39m\u001B[38;5;241m*\u001B[39mkwargs)\n",
      "File \u001B[1;32mE:\\BERT\\uvl-tore-classifier-bert\\venv310\\lib\\site-packages\\requests\\sessions.py:589\u001B[0m, in \u001B[0;36mSession.request\u001B[1;34m(self, method, url, params, data, headers, cookies, files, auth, timeout, allow_redirects, proxies, hooks, stream, verify, cert, json)\u001B[0m\n\u001B[0;32m    588\u001B[0m send_kwargs\u001B[38;5;241m.\u001B[39mupdate(settings)\n\u001B[1;32m--> 589\u001B[0m resp \u001B[38;5;241m=\u001B[39m \u001B[38;5;28mself\u001B[39m\u001B[38;5;241m.\u001B[39msend(prep, \u001B[38;5;241m*\u001B[39m\u001B[38;5;241m*\u001B[39msend_kwargs)\n\u001B[0;32m    591\u001B[0m \u001B[38;5;28;01mreturn\u001B[39;00m resp\n",
      "File \u001B[1;32mE:\\BERT\\uvl-tore-classifier-bert\\venv310\\lib\\site-packages\\requests\\sessions.py:703\u001B[0m, in \u001B[0;36mSession.send\u001B[1;34m(self, request, **kwargs)\u001B[0m\n\u001B[0;32m    702\u001B[0m \u001B[38;5;66;03m# Send the request\u001B[39;00m\n\u001B[1;32m--> 703\u001B[0m r \u001B[38;5;241m=\u001B[39m adapter\u001B[38;5;241m.\u001B[39msend(request, \u001B[38;5;241m*\u001B[39m\u001B[38;5;241m*\u001B[39mkwargs)\n\u001B[0;32m    705\u001B[0m \u001B[38;5;66;03m# Total elapsed time of the request (approximately)\u001B[39;00m\n",
      "File \u001B[1;32mE:\\BERT\\uvl-tore-classifier-bert\\venv310\\lib\\site-packages\\requests\\adapters.py:517\u001B[0m, in \u001B[0;36mHTTPAdapter.send\u001B[1;34m(self, request, stream, timeout, verify, cert, proxies)\u001B[0m\n\u001B[0;32m    515\u001B[0m \u001B[38;5;28;01mif\u001B[39;00m \u001B[38;5;28misinstance\u001B[39m(e\u001B[38;5;241m.\u001B[39mreason, _SSLError):\n\u001B[0;32m    516\u001B[0m     \u001B[38;5;66;03m# This branch is for urllib3 v1.22 and later.\u001B[39;00m\n\u001B[1;32m--> 517\u001B[0m     \u001B[38;5;28;01mraise\u001B[39;00m SSLError(e, request\u001B[38;5;241m=\u001B[39mrequest)\n\u001B[0;32m    519\u001B[0m \u001B[38;5;28;01mraise\u001B[39;00m \u001B[38;5;167;01mConnectionError\u001B[39;00m(e, request\u001B[38;5;241m=\u001B[39mrequest)\n",
      "\u001B[1;31mSSLError\u001B[0m: HTTPSConnectionPool(host='mlflow-uvl.ifi.uni-heidelberg.de', port=443): Max retries exceeded with url: /api/2.0/mlflow-artifacts/artifacts/6/2fd7eb8bb98240a2bc79aaa6986e4487/artifacts/0_model/model.safetensors (Caused by SSLError(SSLEOFError(8, 'EOF occurred in violation of protocol (_ssl.c:2384)')))",
      "\nDuring handling of the above exception, another exception occurred:\n",
      "\u001B[1;31mMlflowException\u001B[0m                           Traceback (most recent call last)",
      "Cell \u001B[1;32mIn[14], line 33\u001B[0m\n\u001B[0;32m     30\u001B[0m \u001B[38;5;28;01mif\u001B[39;00m run_experiments:\n\u001B[0;32m     31\u001B[0m     \u001B[38;5;28;01mfrom\u001B[39;00m \u001B[38;5;21;01mexperiments\u001B[39;00m\u001B[38;5;21;01m.\u001B[39;00m\u001B[38;5;21;01mbert\u001B[39;00m \u001B[38;5;28;01mimport\u001B[39;00m bert\n\u001B[1;32m---> 33\u001B[0m     \u001B[43mbert\u001B[49m\u001B[43m(\u001B[49m\u001B[43mOmegaConf\u001B[49m\u001B[38;5;241;43m.\u001B[39;49m\u001B[43mcreate\u001B[49m\u001B[43m(\u001B[49m\u001B[43mbert_1_cfg\u001B[49m\u001B[43m)\u001B[49m\u001B[43m)\u001B[49m\n\u001B[0;32m     35\u001B[0m bert_1_run_id \u001B[38;5;241m=\u001B[39m get_run_id(bert_1_cfg, pin_commit\u001B[38;5;241m=\u001B[39mpin_commits)\n\u001B[0;32m     37\u001B[0m \u001B[38;5;28mprint\u001B[39m(bert_1_run_id)\n",
      "File \u001B[1;32mE:\\BERT\\uvl-tore-classifier-bert\\venv310\\lib\\site-packages\\hydra\\main.py:83\u001B[0m, in \u001B[0;36mmain.<locals>.main_decorator.<locals>.decorated_main\u001B[1;34m(cfg_passthrough)\u001B[0m\n\u001B[0;32m     80\u001B[0m \u001B[38;5;129m@functools\u001B[39m\u001B[38;5;241m.\u001B[39mwraps(task_function)\n\u001B[0;32m     81\u001B[0m \u001B[38;5;28;01mdef\u001B[39;00m \u001B[38;5;21mdecorated_main\u001B[39m(cfg_passthrough: Optional[DictConfig] \u001B[38;5;241m=\u001B[39m \u001B[38;5;28;01mNone\u001B[39;00m) \u001B[38;5;241m-\u001B[39m\u001B[38;5;241m>\u001B[39m Any:\n\u001B[0;32m     82\u001B[0m     \u001B[38;5;28;01mif\u001B[39;00m cfg_passthrough \u001B[38;5;129;01mis\u001B[39;00m \u001B[38;5;129;01mnot\u001B[39;00m \u001B[38;5;28;01mNone\u001B[39;00m:\n\u001B[1;32m---> 83\u001B[0m         \u001B[38;5;28;01mreturn\u001B[39;00m \u001B[43mtask_function\u001B[49m\u001B[43m(\u001B[49m\u001B[43mcfg_passthrough\u001B[49m\u001B[43m)\u001B[49m\n\u001B[0;32m     84\u001B[0m     \u001B[38;5;28;01melse\u001B[39;00m:\n\u001B[0;32m     85\u001B[0m         args_parser \u001B[38;5;241m=\u001B[39m get_args_parser()\n",
      "File \u001B[1;32mE:\\BERT\\uvl-tore-classifier-bert\\src\\experiments\\bert.py:41\u001B[0m, in \u001B[0;36mbert\u001B[1;34m(cfg)\u001B[0m\n\u001B[0;32m     39\u001B[0m         logging\u001B[38;5;241m.\u001B[39merror(e)\n\u001B[0;32m     40\u001B[0m         end_tracing()\n\u001B[1;32m---> 41\u001B[0m         \u001B[38;5;28;01mraise\u001B[39;00m e\n\u001B[0;32m     43\u001B[0m logging\u001B[38;5;241m.\u001B[39minfo(\u001B[38;5;124m\"\u001B[39m\u001B[38;5;124mLeft mlflow context\u001B[39m\u001B[38;5;124m\"\u001B[39m)\n\u001B[0;32m     44\u001B[0m \u001B[38;5;28;01mreturn\u001B[39;00m\n",
      "File \u001B[1;32mE:\\BERT\\uvl-tore-classifier-bert\\src\\experiments\\bert.py:30\u001B[0m, in \u001B[0;36mbert\u001B[1;34m(cfg)\u001B[0m\n\u001B[0;32m     28\u001B[0m \u001B[38;5;28;01mwith\u001B[39;00m config_mlflow(cfg\u001B[38;5;241m=\u001B[39mcfg) \u001B[38;5;28;01mas\u001B[39;00m current_run:\n\u001B[0;32m     29\u001B[0m     \u001B[38;5;28;01mtry\u001B[39;00m:\n\u001B[1;32m---> 30\u001B[0m         \u001B[43mbert_pipeline\u001B[49m\u001B[43m(\u001B[49m\u001B[43mcfg\u001B[49m\u001B[43m,\u001B[49m\u001B[43m \u001B[49m\u001B[43mrun_name\u001B[49m\u001B[38;5;241;43m=\u001B[39;49m\u001B[43mcurrent_run\u001B[49m\u001B[38;5;241;43m.\u001B[39;49m\u001B[43minfo\u001B[49m\u001B[38;5;241;43m.\u001B[39;49m\u001B[43mrun_name\u001B[49m\u001B[43m)\u001B[49m\n\u001B[0;32m     31\u001B[0m         end_tracing()\n\u001B[0;32m     33\u001B[0m     \u001B[38;5;28;01mexcept\u001B[39;00m \u001B[38;5;167;01mKeyboardInterrupt\u001B[39;00m:\n",
      "File \u001B[1;32mE:\\BERT\\uvl-tore-classifier-bert\\src\\classifiers\\bert\\pipeline.py:128\u001B[0m, in \u001B[0;36mbert_pipeline\u001B[1;34m(cfg, run_name)\u001B[0m\n\u001B[0;32m    126\u001B[0m logging\u001B[38;5;241m.\u001B[39minfo(\u001B[38;5;124mf\u001B[39m\u001B[38;5;124m\"\u001B[39m\u001B[38;5;124mFinished \u001B[39m\u001B[38;5;132;01m{\u001B[39;00miteration\u001B[38;5;132;01m=}\u001B[39;00m\u001B[38;5;124m\"\u001B[39m)\n\u001B[0;32m    127\u001B[0m logging\u001B[38;5;241m.\u001B[39minfo(\u001B[38;5;124m\"\u001B[39m\u001B[38;5;124mLogging model artifact (might take a while)\u001B[39m\u001B[38;5;124m\"\u001B[39m)\n\u001B[1;32m--> 128\u001B[0m \u001B[43mlog_artifacts\u001B[49m\u001B[43m(\u001B[49m\u001B[43mmodel_path\u001B[49m\u001B[43m(\u001B[49m\u001B[43mname\u001B[49m\u001B[38;5;241;43m=\u001B[39;49m\u001B[43mrun_name\u001B[49m\u001B[43m,\u001B[49m\u001B[43m \u001B[49m\u001B[43miteration\u001B[49m\u001B[38;5;241;43m=\u001B[39;49m\u001B[43miteration\u001B[49m\u001B[43m)\u001B[49m\u001B[43m)\u001B[49m\n\u001B[0;32m    130\u001B[0m \u001B[38;5;66;03m# early break if configured\u001B[39;00m\n\u001B[0;32m    131\u001B[0m \u001B[38;5;28;01mif\u001B[39;00m iteration \u001B[38;5;241m+\u001B[39m \u001B[38;5;241m1\u001B[39m \u001B[38;5;241m==\u001B[39m cfg\u001B[38;5;241m.\u001B[39mexperiment\u001B[38;5;241m.\u001B[39miterations:\n",
      "File \u001B[1;32mE:\\BERT\\uvl-tore-classifier-bert\\src\\tooling\\observability.py:49\u001B[0m, in \u001B[0;36mlog_artifacts\u001B[1;34m(artifact_paths)\u001B[0m\n\u001B[0;32m     47\u001B[0m \u001B[38;5;28;01melse\u001B[39;00m:\n\u001B[0;32m     48\u001B[0m     \u001B[38;5;28;01mif\u001B[39;00m \u001B[38;5;129;01mnot\u001B[39;00m os\u001B[38;5;241m.\u001B[39mgetenv(\u001B[38;5;124m\"\u001B[39m\u001B[38;5;124mDISABLE_MLFLOW\u001B[39m\u001B[38;5;124m\"\u001B[39m):\n\u001B[1;32m---> 49\u001B[0m         \u001B[43mmlflow\u001B[49m\u001B[38;5;241;43m.\u001B[39;49m\u001B[43mlog_artifact\u001B[49m\u001B[43m(\u001B[49m\u001B[43martifact_paths\u001B[49m\u001B[43m)\u001B[49m\n",
      "File \u001B[1;32mE:\\BERT\\uvl-tore-classifier-bert\\venv310\\lib\\site-packages\\mlflow\\tracking\\fluent.py:1068\u001B[0m, in \u001B[0;36mlog_artifact\u001B[1;34m(local_path, artifact_path, run_id)\u001B[0m\n\u001B[0;32m   1040\u001B[0m \u001B[38;5;250m\u001B[39m\u001B[38;5;124;03m\"\"\"\u001B[39;00m\n\u001B[0;32m   1041\u001B[0m \u001B[38;5;124;03mLog a local file or directory as an artifact of the currently active run. If no run is\u001B[39;00m\n\u001B[0;32m   1042\u001B[0m \u001B[38;5;124;03mactive, this method will create a new active run.\u001B[39;00m\n\u001B[1;32m   (...)\u001B[0m\n\u001B[0;32m   1065\u001B[0m \u001B[38;5;124;03m            mlflow.log_artifact(path)\u001B[39;00m\n\u001B[0;32m   1066\u001B[0m \u001B[38;5;124;03m\"\"\"\u001B[39;00m\n\u001B[0;32m   1067\u001B[0m run_id \u001B[38;5;241m=\u001B[39m run_id \u001B[38;5;129;01mor\u001B[39;00m _get_or_start_run()\u001B[38;5;241m.\u001B[39minfo\u001B[38;5;241m.\u001B[39mrun_id\n\u001B[1;32m-> 1068\u001B[0m \u001B[43mMlflowClient\u001B[49m\u001B[43m(\u001B[49m\u001B[43m)\u001B[49m\u001B[38;5;241;43m.\u001B[39;49m\u001B[43mlog_artifact\u001B[49m\u001B[43m(\u001B[49m\u001B[43mrun_id\u001B[49m\u001B[43m,\u001B[49m\u001B[43m \u001B[49m\u001B[43mlocal_path\u001B[49m\u001B[43m,\u001B[49m\u001B[43m \u001B[49m\u001B[43martifact_path\u001B[49m\u001B[43m)\u001B[49m\n",
      "File \u001B[1;32mE:\\BERT\\uvl-tore-classifier-bert\\venv310\\lib\\site-packages\\mlflow\\tracking\\client.py:1215\u001B[0m, in \u001B[0;36mMlflowClient.log_artifact\u001B[1;34m(self, run_id, local_path, artifact_path)\u001B[0m\n\u001B[0;32m   1172\u001B[0m \u001B[38;5;28;01mdef\u001B[39;00m \u001B[38;5;21mlog_artifact\u001B[39m(\u001B[38;5;28mself\u001B[39m, run_id, local_path, artifact_path\u001B[38;5;241m=\u001B[39m\u001B[38;5;28;01mNone\u001B[39;00m) \u001B[38;5;241m-\u001B[39m\u001B[38;5;241m>\u001B[39m \u001B[38;5;28;01mNone\u001B[39;00m:\n\u001B[0;32m   1173\u001B[0m \u001B[38;5;250m    \u001B[39m\u001B[38;5;124;03m\"\"\"Write a local file or directory to the remote ``artifact_uri``.\u001B[39;00m\n\u001B[0;32m   1174\u001B[0m \n\u001B[0;32m   1175\u001B[0m \u001B[38;5;124;03m    Args:\u001B[39;00m\n\u001B[1;32m   (...)\u001B[0m\n\u001B[0;32m   1213\u001B[0m \n\u001B[0;32m   1214\u001B[0m \u001B[38;5;124;03m    \"\"\"\u001B[39;00m\n\u001B[1;32m-> 1215\u001B[0m     \u001B[38;5;28;43mself\u001B[39;49m\u001B[38;5;241;43m.\u001B[39;49m\u001B[43m_tracking_client\u001B[49m\u001B[38;5;241;43m.\u001B[39;49m\u001B[43mlog_artifact\u001B[49m\u001B[43m(\u001B[49m\u001B[43mrun_id\u001B[49m\u001B[43m,\u001B[49m\u001B[43m \u001B[49m\u001B[43mlocal_path\u001B[49m\u001B[43m,\u001B[49m\u001B[43m \u001B[49m\u001B[43martifact_path\u001B[49m\u001B[43m)\u001B[49m\n",
      "File \u001B[1;32mE:\\BERT\\uvl-tore-classifier-bert\\venv310\\lib\\site-packages\\mlflow\\tracking\\_tracking_service\\client.py:555\u001B[0m, in \u001B[0;36mTrackingServiceClient.log_artifact\u001B[1;34m(self, run_id, local_path, artifact_path)\u001B[0m\n\u001B[0;32m    551\u001B[0m     dir_name \u001B[38;5;241m=\u001B[39m os\u001B[38;5;241m.\u001B[39mpath\u001B[38;5;241m.\u001B[39mbasename(os\u001B[38;5;241m.\u001B[39mpath\u001B[38;5;241m.\u001B[39mnormpath(local_path))\n\u001B[0;32m    552\u001B[0m     path_name \u001B[38;5;241m=\u001B[39m (\n\u001B[0;32m    553\u001B[0m         os\u001B[38;5;241m.\u001B[39mpath\u001B[38;5;241m.\u001B[39mjoin(artifact_path, dir_name) \u001B[38;5;28;01mif\u001B[39;00m artifact_path \u001B[38;5;129;01mis\u001B[39;00m \u001B[38;5;129;01mnot\u001B[39;00m \u001B[38;5;28;01mNone\u001B[39;00m \u001B[38;5;28;01melse\u001B[39;00m dir_name\n\u001B[0;32m    554\u001B[0m     )\n\u001B[1;32m--> 555\u001B[0m     \u001B[43martifact_repo\u001B[49m\u001B[38;5;241;43m.\u001B[39;49m\u001B[43mlog_artifacts\u001B[49m\u001B[43m(\u001B[49m\u001B[43mlocal_path\u001B[49m\u001B[43m,\u001B[49m\u001B[43m \u001B[49m\u001B[43mpath_name\u001B[49m\u001B[43m)\u001B[49m\n\u001B[0;32m    556\u001B[0m \u001B[38;5;28;01melse\u001B[39;00m:\n\u001B[0;32m    557\u001B[0m     artifact_repo\u001B[38;5;241m.\u001B[39mlog_artifact(local_path, artifact_path)\n",
      "File \u001B[1;32mE:\\BERT\\uvl-tore-classifier-bert\\venv310\\lib\\site-packages\\mlflow\\store\\artifact\\http_artifact_repo.py:80\u001B[0m, in \u001B[0;36mHttpArtifactRepository.log_artifacts\u001B[1;34m(self, local_dir, artifact_path)\u001B[0m\n\u001B[0;32m     76\u001B[0m     artifact_dir \u001B[38;5;241m=\u001B[39m (\n\u001B[0;32m     77\u001B[0m         posixpath\u001B[38;5;241m.\u001B[39mjoin(artifact_path, rel_path) \u001B[38;5;28;01mif\u001B[39;00m artifact_path \u001B[38;5;28;01melse\u001B[39;00m rel_path\n\u001B[0;32m     78\u001B[0m     )\n\u001B[0;32m     79\u001B[0m \u001B[38;5;28;01mfor\u001B[39;00m f \u001B[38;5;129;01min\u001B[39;00m filenames:\n\u001B[1;32m---> 80\u001B[0m     \u001B[38;5;28;43mself\u001B[39;49m\u001B[38;5;241;43m.\u001B[39;49m\u001B[43mlog_artifact\u001B[49m\u001B[43m(\u001B[49m\u001B[43mos\u001B[49m\u001B[38;5;241;43m.\u001B[39;49m\u001B[43mpath\u001B[49m\u001B[38;5;241;43m.\u001B[39;49m\u001B[43mjoin\u001B[49m\u001B[43m(\u001B[49m\u001B[43mroot\u001B[49m\u001B[43m,\u001B[49m\u001B[43m \u001B[49m\u001B[43mf\u001B[49m\u001B[43m)\u001B[49m\u001B[43m,\u001B[49m\u001B[43m \u001B[49m\u001B[43martifact_dir\u001B[49m\u001B[43m)\u001B[49m\n",
      "File \u001B[1;32mE:\\BERT\\uvl-tore-classifier-bert\\venv310\\lib\\site-packages\\mlflow\\store\\artifact\\http_artifact_repo.py:63\u001B[0m, in \u001B[0;36mHttpArtifactRepository.log_artifact\u001B[1;34m(self, local_file, artifact_path)\u001B[0m\n\u001B[0;32m     61\u001B[0m extra_headers \u001B[38;5;241m=\u001B[39m {\u001B[38;5;124m\"\u001B[39m\u001B[38;5;124mContent-Type\u001B[39m\u001B[38;5;124m\"\u001B[39m: mime_type}\n\u001B[0;32m     62\u001B[0m \u001B[38;5;28;01mwith\u001B[39;00m \u001B[38;5;28mopen\u001B[39m(local_file, \u001B[38;5;124m\"\u001B[39m\u001B[38;5;124mrb\u001B[39m\u001B[38;5;124m\"\u001B[39m) \u001B[38;5;28;01mas\u001B[39;00m f:\n\u001B[1;32m---> 63\u001B[0m     resp \u001B[38;5;241m=\u001B[39m \u001B[43mhttp_request\u001B[49m\u001B[43m(\u001B[49m\n\u001B[0;32m     64\u001B[0m \u001B[43m        \u001B[49m\u001B[38;5;28;43mself\u001B[39;49m\u001B[38;5;241;43m.\u001B[39;49m\u001B[43m_host_creds\u001B[49m\u001B[43m,\u001B[49m\u001B[43m \u001B[49m\u001B[43mendpoint\u001B[49m\u001B[43m,\u001B[49m\u001B[43m \u001B[49m\u001B[38;5;124;43m\"\u001B[39;49m\u001B[38;5;124;43mPUT\u001B[39;49m\u001B[38;5;124;43m\"\u001B[39;49m\u001B[43m,\u001B[49m\u001B[43m \u001B[49m\u001B[43mdata\u001B[49m\u001B[38;5;241;43m=\u001B[39;49m\u001B[43mf\u001B[49m\u001B[43m,\u001B[49m\u001B[43m \u001B[49m\u001B[43mextra_headers\u001B[49m\u001B[38;5;241;43m=\u001B[39;49m\u001B[43mextra_headers\u001B[49m\n\u001B[0;32m     65\u001B[0m \u001B[43m    \u001B[49m\u001B[43m)\u001B[49m\n\u001B[0;32m     66\u001B[0m     augmented_raise_for_status(resp)\n",
      "File \u001B[1;32mE:\\BERT\\uvl-tore-classifier-bert\\venv310\\lib\\site-packages\\mlflow\\utils\\rest_utils.py:151\u001B[0m, in \u001B[0;36mhttp_request\u001B[1;34m(host_creds, endpoint, method, max_retries, backoff_factor, backoff_jitter, extra_headers, retry_codes, timeout, raise_on_status, respect_retry_after_header, **kwargs)\u001B[0m\n\u001B[0;32m    149\u001B[0m     \u001B[38;5;28;01mraise\u001B[39;00m InvalidUrlException(\u001B[38;5;124mf\u001B[39m\u001B[38;5;124m\"\u001B[39m\u001B[38;5;124mInvalid url: \u001B[39m\u001B[38;5;132;01m{\u001B[39;00murl\u001B[38;5;132;01m}\u001B[39;00m\u001B[38;5;124m\"\u001B[39m) \u001B[38;5;28;01mfrom\u001B[39;00m \u001B[38;5;21;01miu\u001B[39;00m\n\u001B[0;32m    150\u001B[0m \u001B[38;5;28;01mexcept\u001B[39;00m \u001B[38;5;167;01mException\u001B[39;00m \u001B[38;5;28;01mas\u001B[39;00m e:\n\u001B[1;32m--> 151\u001B[0m     \u001B[38;5;28;01mraise\u001B[39;00m MlflowException(\u001B[38;5;124mf\u001B[39m\u001B[38;5;124m\"\u001B[39m\u001B[38;5;124mAPI request to \u001B[39m\u001B[38;5;132;01m{\u001B[39;00murl\u001B[38;5;132;01m}\u001B[39;00m\u001B[38;5;124m failed with exception \u001B[39m\u001B[38;5;132;01m{\u001B[39;00me\u001B[38;5;132;01m}\u001B[39;00m\u001B[38;5;124m\"\u001B[39m)\n",
      "\u001B[1;31mMlflowException\u001B[0m: API request to https://mlflow-uvl.ifi.uni-heidelberg.de/api/2.0/mlflow-artifacts/artifacts/6/2fd7eb8bb98240a2bc79aaa6986e4487/artifacts/0_model/model.safetensors failed with exception HTTPSConnectionPool(host='mlflow-uvl.ifi.uni-heidelberg.de', port=443): Max retries exceeded with url: /api/2.0/mlflow-artifacts/artifacts/6/2fd7eb8bb98240a2bc79aaa6986e4487/artifacts/0_model/model.safetensors (Caused by SSLError(SSLEOFError(8, 'EOF occurred in violation of protocol (_ssl.c:2384)')))"
     ]
    }
   ],
   "source": [
    "'''\n",
    "from tooling.observability import get_run_id\n",
    "from tooling.config import BERTConfig, BERT\n",
    "\n",
    "from copy import deepcopy\n",
    "\n",
    "bert_1_experiment_config = deepcopy(base_experiment_config)\n",
    "bert_1_experiment_config.name = \"Production\"\n",
    "bert_1_experiment_config.force = False\n",
    "\n",
    "bert_1_config = BERT(\n",
    "    max_len=123,\n",
    "    number_epochs=11,\n",
    "    train_batch_size=8,\n",
    "    weight_decay=0.01,\n",
    "    weighted_classes=True,\n",
    "    learning_rate_bert=3e-05,\n",
    "    learning_rate_classifier=0.0005,\n",
    "    validation_batch_size=64,\n",
    ")\n",
    "\n",
    "\n",
    "bert_1_cfg = OmegaConf.structured(\n",
    "    BERTConfig(\n",
    "        bert=bert_1_config,\n",
    "        experiment=bert_1_experiment_config,\n",
    "        transformation=levels_transformation_config,\n",
    "    )\n",
    ")\n",
    "\n",
    "if run_experiments:\n",
    "    from experiments.bert import bert\n",
    "\n",
    "    bert(OmegaConf.create(bert_1_cfg))\n",
    "\n",
    "bert_1_run_id = get_run_id(bert_1_cfg, pin_commit=pin_commits)\n",
    "\n",
    "print(bert_1_run_id)\n",
    "\n",
    "bert_1_run = mlflow.get_run(bert_1_run_id)\n",
    "mlflow.artifacts.download_artifacts(\n",
    "    f\"{bert_1_run.info.artifact_uri}/0_model\",\n",
    "    dst_path=Path(\"./src/service/models/\"),\n",
    ")\n",
    "try:\n",
    "    shutil.rmtree(Path(\"./src/service/models/bert_1\"))\n",
    "except FileNotFoundError:\n",
    "    pass\n",
    "Path(\"./src/service/models/0_model\").rename(\"./src/service/models/bert_1\")\n",
    "## Train BERT Second Stage Model for BERT First Stage\n",
    "'''"
   ]
  },
  {
   "cell_type": "code",
   "execution_count": 15,
   "metadata": {
    "ExecuteTime": {
     "end_time": "2024-08-08T13:32:25.752363Z",
     "start_time": "2024-08-08T12:49:21.611560Z"
    }
   },
   "outputs": [
    {
     "name": "stderr",
     "output_type": "stream",
     "text": [
      "02:49:22 INFO:\n",
      "first_model_bert:\n",
      "  bert:\n",
      "    model: bert-large-uncased\n",
      "    type: BERT\n",
      "    max_len: 123\n",
      "    train_batch_size: 8\n",
      "    validation_batch_size: 64\n",
      "    number_epochs: 11\n",
      "    learning_rate_bert: 3.0e-05\n",
      "    learning_rate_classifier: 0.0005\n",
      "    weight_decay: 0.01\n",
      "    weighted_classes: true\n",
      "  experiment:\n",
      "    name: Production\n",
      "    description: ''\n",
      "    random_state: 125\n",
      "    folds: 5\n",
      "    iterations: 1\n",
      "    average: macro\n",
      "    dataset: all\n",
      "    lower_case: true\n",
      "    force: false\n",
      "    pin_commit: false\n",
      "    smote: false\n",
      "    smote_k_neighbors: 5\n",
      "    smote_sampling_strategy: not majority\n",
      "    smote_balance_to_average: false\n",
      "  transformation:\n",
      "    description: Levels\n",
      "    type: Reduced\n",
      "    task: Domain_Level\n",
      "    goals: null\n",
      "    domain_data: Domain_Level\n",
      "    activity: Domain_Level\n",
      "    stakeholder: Domain_Level\n",
      "    system_function: Interaction_Level\n",
      "    interaction: Interaction_Level\n",
      "    interaction_data: Domain_Level\n",
      "    workspace: Interaction_Level\n",
      "    software: System_Level\n",
      "    internal_action: System_Level\n",
      "    internal_data: System_Level\n",
      "    system_level: System_Level\n",
      "first_model_bilstm: null\n",
      "first_model_sner: null\n",
      "bert:\n",
      "  model: bert-large-uncased\n",
      "  type: BERT\n",
      "  max_len: 123\n",
      "  train_batch_size: 8\n",
      "  validation_batch_size: 64\n",
      "  number_epochs: 8\n",
      "  learning_rate_bert: 3.0e-05\n",
      "  learning_rate_classifier: 0.16\n",
      "  weight_decay: 0.1\n",
      "  weighted_classes: true\n",
      "  layers: []\n",
      "experiment:\n",
      "  name: Production\n",
      "  description: ''\n",
      "  random_state: 125\n",
      "  folds: 5\n",
      "  iterations: 1\n",
      "  average: macro\n",
      "  dataset: all\n",
      "  lower_case: true\n",
      "  force: false\n",
      "  pin_commit: false\n",
      "  smote: false\n",
      "  smote_k_neighbors: 5\n",
      "  smote_sampling_strategy: not majority\n",
      "  smote_balance_to_average: false\n",
      "transformation:\n",
      "  description: None\n",
      "  type: Full\n",
      "  task: Task\n",
      "  goals: null\n",
      "  domain_data: Domain_Data\n",
      "  activity: Activity\n",
      "  stakeholder: Stakeholder\n",
      "  system_function: System_Function\n",
      "  interaction: Interaction\n",
      "  interaction_data: Interaction_Data\n",
      "  workspace: Workspace\n",
      "  software: System_Level\n",
      "  internal_action: System_Level\n",
      "  internal_data: System_Level\n",
      "  system_level: System_Level\n",
      "\n",
      "02:49:23 INFO:New experiment. Running\n",
      "02:49:23 INFO:Entering mlflow context\n",
      "02:49:24 INFO:Training 2nd Stage\n",
      "02:49:25 INFO:Importing dataset: anno from E:\\BERT\\uvl-tore-classifier-bert\\src\\data\\datasets\\forum\\anno_test.json\n",
      "02:49:25 INFO:Importing dataset: anno from E:\\BERT\\uvl-tore-classifier-bert\\src\\data\\datasets\\forum\\anno_train.json\n",
      "02:49:25 INFO:Importing dataset: prolific from E:\\BERT\\uvl-tore-classifier-bert\\src\\data\\datasets\\prolific\\TORE_Coded_Answers_1_33.json\n",
      "02:49:25 INFO:Importing dataset: prolific from E:\\BERT\\uvl-tore-classifier-bert\\src\\data\\datasets\\prolific\\TORE_Coded_Answers_34_66.json\n",
      "02:49:25 INFO:Importing dataset: prolific from E:\\BERT\\uvl-tore-classifier-bert\\src\\data\\datasets\\prolific\\TORE_Coded_Answers_67_100.json\n",
      "02:49:26 INFO:Importing dataset: komoot from E:\\BERT\\uvl-tore-classifier-bert\\src\\data\\datasets\\app\\Komoot_AppReview.json\n",
      "02:49:30 INFO:Dataset Labels: transformed_dataset['labels']=['Activity', 'Stakeholder', 'System_Function', 'Domain_Data', 'Interaction_Data', 'Interaction', '0', 'System_Level', 'Workspace', 'Task']\n",
      "02:49:30 INFO:Class weights: {'0': 0.13494545, 'Task': 8.320833, 'Domain_Data': 2.52101, 'Activity': 9.136601, 'Stakeholder': 9.949466, 'System_Function': 3.0622125, 'Interaction': 1.9934403, 'Interaction_Data': 1.877636, 'Workspace': 8.903822, 'System_Level': 2.5661314}\n",
      "02:49:30 INFO:Configured maximal token sequence length: max_len = 123\n",
      "02:49:33 INFO:Created fold datasets for fold: 0, stored at paths=[WindowsPath('E:/BERT/uvl-tore-classifier-bert/src/data/temp/sampling/funny-cod-807/0_data_train.pickle'), WindowsPath('E:/BERT/uvl-tore-classifier-bert/src/data/temp/sampling/funny-cod-807/0_data_train.csv'), WindowsPath('E:/BERT/uvl-tore-classifier-bert/src/data/temp/sampling/funny-cod-807/0_data_test.pickle'), WindowsPath('E:/BERT/uvl-tore-classifier-bert/src/data/temp/sampling/funny-cod-807/0_data_test.csv')]\n",
      "02:49:33 INFO:Starting iteration=0\n",
      "02:49:33 WARNING:Running missing experiment\n",
      "02:49:33 INFO:\n",
      "bert:\n",
      "  model: bert-large-uncased\n",
      "  type: BERT\n",
      "  max_len: 123\n",
      "  train_batch_size: 8\n",
      "  validation_batch_size: 64\n",
      "  number_epochs: 11\n",
      "  learning_rate_bert: 3.0e-05\n",
      "  learning_rate_classifier: 0.0005\n",
      "  weight_decay: 0.01\n",
      "  weighted_classes: true\n",
      "experiment:\n",
      "  name: Production\n",
      "  description: ''\n",
      "  random_state: 125\n",
      "  folds: 5\n",
      "  iterations: 1\n",
      "  average: macro\n",
      "  dataset: all\n",
      "  lower_case: true\n",
      "  force: false\n",
      "  pin_commit: false\n",
      "  smote: false\n",
      "  smote_k_neighbors: 5\n",
      "  smote_sampling_strategy: not majority\n",
      "  smote_balance_to_average: false\n",
      "transformation:\n",
      "  description: Levels\n",
      "  type: Reduced\n",
      "  task: Domain_Level\n",
      "  goals: null\n",
      "  domain_data: Domain_Level\n",
      "  activity: Domain_Level\n",
      "  stakeholder: Domain_Level\n",
      "  system_function: Interaction_Level\n",
      "  interaction: Interaction_Level\n",
      "  interaction_data: Domain_Level\n",
      "  workspace: Interaction_Level\n",
      "  software: System_Level\n",
      "  internal_action: System_Level\n",
      "  internal_data: System_Level\n",
      "  system_level: System_Level\n",
      "\n",
      "02:49:34 INFO:New experiment. Running\n",
      "02:49:34 INFO:Entering mlflow context\n",
      "02:49:34 INFO:Importing dataset: anno from E:\\BERT\\uvl-tore-classifier-bert\\src\\data\\datasets\\forum\\anno_test.json\n",
      "02:49:34 INFO:Importing dataset: anno from E:\\BERT\\uvl-tore-classifier-bert\\src\\data\\datasets\\forum\\anno_train.json\n",
      "02:49:34 INFO:Importing dataset: prolific from E:\\BERT\\uvl-tore-classifier-bert\\src\\data\\datasets\\prolific\\TORE_Coded_Answers_1_33.json\n",
      "02:49:35 INFO:Importing dataset: prolific from E:\\BERT\\uvl-tore-classifier-bert\\src\\data\\datasets\\prolific\\TORE_Coded_Answers_34_66.json\n",
      "02:49:35 INFO:Importing dataset: prolific from E:\\BERT\\uvl-tore-classifier-bert\\src\\data\\datasets\\prolific\\TORE_Coded_Answers_67_100.json\n",
      "02:49:35 INFO:Importing dataset: komoot from E:\\BERT\\uvl-tore-classifier-bert\\src\\data\\datasets\\app\\Komoot_AppReview.json\n",
      "02:49:39 INFO:Dataset Labels: transformed_dataset['labels']=['Interaction_Level', '0', 'Domain_Level', 'System_Level']\n",
      "02:49:39 INFO:Class weights: {'0': 0.33736363, 'System_Level': 6.415328, 'Domain_Level': 1.9850894, 'Interaction_Level': 2.65811}\n",
      "02:49:40 INFO:Configured maximal token sequence length: max_len = 123\n",
      "02:49:43 INFO:Created fold datasets for fold: 0, stored at paths=[WindowsPath('E:/BERT/uvl-tore-classifier-bert/src/data/temp/sampling/carefree-mouse-473/0_data_train.pickle'), WindowsPath('E:/BERT/uvl-tore-classifier-bert/src/data/temp/sampling/carefree-mouse-473/0_data_train.csv'), WindowsPath('E:/BERT/uvl-tore-classifier-bert/src/data/temp/sampling/carefree-mouse-473/0_data_test.pickle'), WindowsPath('E:/BERT/uvl-tore-classifier-bert/src/data/temp/sampling/carefree-mouse-473/0_data_test.csv')]\n",
      "02:49:43 INFO:Starting iteration=0\n"
     ]
    },
    {
     "data": {
      "text/plain": "Map:   0%|          | 0/2488 [00:00<?, ? examples/s]",
      "application/vnd.jupyter.widget-view+json": {
       "version_major": 2,
       "version_minor": 0,
       "model_id": "65c905e0a35342f8a1190158eca5912b"
      }
     },
     "metadata": {},
     "output_type": "display_data"
    },
    {
     "data": {
      "text/plain": "Map:   0%|          | 0/622 [00:00<?, ? examples/s]",
      "application/vnd.jupyter.widget-view+json": {
       "version_major": 2,
       "version_minor": 0,
       "model_id": "dee767e172f24616af9b8f24aba9d38e"
      }
     },
     "metadata": {},
     "output_type": "display_data"
    },
    {
     "name": "stderr",
     "output_type": "stream",
     "text": [
      "E:\\BERT\\uvl-tore-classifier-bert\\venv310\\lib\\site-packages\\transformers\\training_args.py:1474: FutureWarning: `evaluation_strategy` is deprecated and will be removed in version 4.46 of 🤗 Transformers. Use `eval_strategy` instead\n",
      "  warnings.warn(\n",
      "02:51:52 INFO:Logged iteration result res.precision=0.6819089064097362 res.recall=0.8139693008422187\n"
     ]
    },
    {
     "name": "stdout",
     "output_type": "stream",
     "text": [
      "{'eval_loss': 0.5252214670181274, 'eval_step': 0, 'eval_precision': 0.6819089064097362, 'eval_recall': 0.8139693008422187, 'eval_f1': 0.7421097694953261, 'eval_label_count': 4, 'eval_runtime': 30.8961, 'eval_samples_per_second': 20.132, 'eval_steps_per_second': 0.324, 'epoch': 1.0}\n",
      "{'loss': 0.5513, 'grad_norm': 6.163368225097656, 'learning_rate': 2.561531715872552e-05, 'epoch': 1.607717041800643}\n"
     ]
    },
    {
     "name": "stderr",
     "output_type": "stream",
     "text": [
      "02:55:48 INFO:Logged iteration result res.precision=0.6819854791943949 res.recall=0.816880522414842\n"
     ]
    },
    {
     "name": "stdout",
     "output_type": "stream",
     "text": [
      "{'eval_loss': 0.5075342059135437, 'eval_step': 2, 'eval_precision': 0.6819854791943949, 'eval_recall': 0.816880522414842, 'eval_f1': 0.7433628542184961, 'eval_label_count': 4, 'eval_runtime': 12.7502, 'eval_samples_per_second': 48.783, 'eval_steps_per_second': 0.784, 'epoch': 2.0}\n"
     ]
    },
    {
     "name": "stderr",
     "output_type": "stream",
     "text": [
      "02:59:01 INFO:Logged iteration result res.precision=0.7345653655128026 res.recall=0.8148828902452926\n"
     ]
    },
    {
     "name": "stdout",
     "output_type": "stream",
     "text": [
      "{'eval_loss': 0.6649463176727295, 'eval_step': 4, 'eval_precision': 0.7345653655128026, 'eval_recall': 0.8148828902452926, 'eval_f1': 0.7726424498510202, 'eval_label_count': 4, 'eval_runtime': 10.0529, 'eval_samples_per_second': 61.872, 'eval_steps_per_second': 0.995, 'epoch': 3.0}\n",
      "{'loss': 0.246, 'grad_norm': 8.337251663208008, 'learning_rate': 2.1230634317451038e-05, 'epoch': 3.215434083601286}\n"
     ]
    },
    {
     "name": "stderr",
     "output_type": "stream",
     "text": [
      "03:01:50 INFO:Logged iteration result res.precision=0.7438307465065683 res.recall=0.8224610526881617\n"
     ]
    },
    {
     "name": "stdout",
     "output_type": "stream",
     "text": [
      "{'eval_loss': 0.7602126598358154, 'eval_step': 6, 'eval_precision': 0.7438307465065683, 'eval_recall': 0.8224610526881617, 'eval_f1': 0.7811722172179418, 'eval_label_count': 4, 'eval_runtime': 9.3547, 'eval_samples_per_second': 66.491, 'eval_steps_per_second': 1.069, 'epoch': 4.0}\n",
      "{'loss': 0.1023, 'grad_norm': 1.979170322418213, 'learning_rate': 1.6845951476176556e-05, 'epoch': 4.823151125401929}\n"
     ]
    },
    {
     "name": "stderr",
     "output_type": "stream",
     "text": [
      "03:04:28 INFO:Logged iteration result res.precision=0.80370847713164 res.recall=0.8025923754966897\n"
     ]
    },
    {
     "name": "stdout",
     "output_type": "stream",
     "text": [
      "{'eval_loss': 1.19338858127594, 'eval_step': 8, 'eval_precision': 0.80370847713164, 'eval_recall': 0.8025923754966897, 'eval_f1': 0.8031500385652393, 'eval_label_count': 4, 'eval_runtime': 12.6699, 'eval_samples_per_second': 49.093, 'eval_steps_per_second': 0.789, 'epoch': 5.0}\n"
     ]
    },
    {
     "name": "stderr",
     "output_type": "stream",
     "text": [
      "03:07:23 INFO:Logged iteration result res.precision=0.8072358208343874 res.recall=0.8005684124172876\n"
     ]
    },
    {
     "name": "stdout",
     "output_type": "stream",
     "text": [
      "{'eval_loss': 1.2415218353271484, 'eval_step': 10, 'eval_precision': 0.8072358208343874, 'eval_recall': 0.8005684124172876, 'eval_f1': 0.8038882920774002, 'eval_label_count': 4, 'eval_runtime': 10.6913, 'eval_samples_per_second': 58.178, 'eval_steps_per_second': 0.935, 'epoch': 6.0}\n",
      "{'loss': 0.0451, 'grad_norm': 0.20919625461101532, 'learning_rate': 1.2461268634902075e-05, 'epoch': 6.430868167202572}\n"
     ]
    },
    {
     "name": "stderr",
     "output_type": "stream",
     "text": [
      "03:11:40 INFO:Logged iteration result res.precision=0.8020785151963441 res.recall=0.8042910763600086\n"
     ]
    },
    {
     "name": "stdout",
     "output_type": "stream",
     "text": [
      "{'eval_loss': 1.3368412256240845, 'eval_step': 12, 'eval_precision': 0.8020785151963441, 'eval_recall': 0.8042910763600086, 'eval_f1': 0.8031832720233293, 'eval_label_count': 4, 'eval_runtime': 10.323, 'eval_samples_per_second': 60.254, 'eval_steps_per_second': 0.969, 'epoch': 7.0}\n"
     ]
    },
    {
     "name": "stderr",
     "output_type": "stream",
     "text": [
      "03:16:15 INFO:Logged iteration result res.precision=0.7978905381131066 res.recall=0.801171775113673\n"
     ]
    },
    {
     "name": "stdout",
     "output_type": "stream",
     "text": [
      "{'eval_loss': 1.4603686332702637, 'eval_step': 14, 'eval_precision': 0.7978905381131066, 'eval_recall': 0.801171775113673, 'eval_f1': 0.7995277901041035, 'eval_label_count': 4, 'eval_runtime': 10.6033, 'eval_samples_per_second': 58.661, 'eval_steps_per_second': 0.943, 'epoch': 8.0}\n",
      "{'loss': 0.0249, 'grad_norm': 3.590575933456421, 'learning_rate': 8.076585793627593e-06, 'epoch': 8.038585209003216}\n"
     ]
    },
    {
     "name": "stderr",
     "output_type": "stream",
     "text": [
      "03:20:37 INFO:Logged iteration result res.precision=0.8057829846779383 res.recall=0.7988204940197272\n"
     ]
    },
    {
     "name": "stdout",
     "output_type": "stream",
     "text": [
      "{'eval_loss': 1.5697133541107178, 'eval_step': 16, 'eval_precision': 0.8057829846779383, 'eval_recall': 0.7988204940197272, 'eval_f1': 0.8022866339733274, 'eval_label_count': 4, 'eval_runtime': 8.5961, 'eval_samples_per_second': 72.358, 'eval_steps_per_second': 1.163, 'epoch': 9.0}\n",
      "{'loss': 0.0118, 'grad_norm': 0.05620058253407478, 'learning_rate': 3.691902952353113e-06, 'epoch': 9.646302250803858}\n"
     ]
    },
    {
     "name": "stderr",
     "output_type": "stream",
     "text": [
      "03:23:56 INFO:Logged iteration result res.precision=0.8018761819997918 res.recall=0.8040091055955558\n"
     ]
    },
    {
     "name": "stdout",
     "output_type": "stream",
     "text": [
      "{'eval_loss': 1.6771281957626343, 'eval_step': 18, 'eval_precision': 0.8018761819997918, 'eval_recall': 0.8040091055955558, 'eval_f1': 0.8029412273319085, 'eval_label_count': 4, 'eval_runtime': 10.7302, 'eval_samples_per_second': 57.967, 'eval_steps_per_second': 0.932, 'epoch': 10.0}\n"
     ]
    },
    {
     "name": "stderr",
     "output_type": "stream",
     "text": [
      "03:26:36 INFO:Logged iteration result res.precision=0.8044535315969952 res.recall=0.8009834272072174\n"
     ]
    },
    {
     "name": "stdout",
     "output_type": "stream",
     "text": [
      "{'eval_loss': 1.7390738725662231, 'eval_step': 20, 'eval_precision': 0.8044535315969952, 'eval_recall': 0.8009834272072174, 'eval_f1': 0.8027147291382264, 'eval_label_count': 4, 'eval_runtime': 29.1447, 'eval_samples_per_second': 21.342, 'eval_steps_per_second': 0.343, 'epoch': 11.0}\n",
      "{'train_runtime': 2244.684, 'train_samples_per_second': 12.192, 'train_steps_per_second': 1.524, 'train_loss': 0.14421657963964332, 'epoch': 11.0}\n"
     ]
    },
    {
     "name": "stderr",
     "output_type": "stream",
     "text": [
      "03:28:12 INFO:Logged iteration result res.precision=0.8044535315969952 res.recall=0.8009834272072174\n",
      "03:28:14 INFO:Logged iteration result res.precision=0.8044535315969952 res.recall=0.8009834272072174\n",
      "03:28:14 INFO:Finished iteration=0\n",
      "03:28:14 INFO:Logging model artifact (might take a while)\n",
      "03:28:44 WARNING:Retrying (Retry(total=4, connect=5, read=5, redirect=5, status=5)) after connection broken by 'SSLEOFError(8, 'EOF occurred in violation of protocol (_ssl.c:2384)')': /api/2.0/mlflow-artifacts/artifacts/6/ea07e5979b2142128114559b5c743eb4/artifacts/0_model/model.safetensors\n",
      "03:29:21 WARNING:Retrying (Retry(total=3, connect=5, read=5, redirect=5, status=5)) after connection broken by 'SSLEOFError(8, 'EOF occurred in violation of protocol (_ssl.c:2384)')': /api/2.0/mlflow-artifacts/artifacts/6/ea07e5979b2142128114559b5c743eb4/artifacts/0_model/model.safetensors\n",
      "03:30:00 WARNING:Retrying (Retry(total=2, connect=5, read=5, redirect=5, status=5)) after connection broken by 'SSLEOFError(8, 'EOF occurred in violation of protocol (_ssl.c:2384)')': /api/2.0/mlflow-artifacts/artifacts/6/ea07e5979b2142128114559b5c743eb4/artifacts/0_model/model.safetensors\n",
      "03:30:48 WARNING:Retrying (Retry(total=1, connect=5, read=5, redirect=5, status=5)) after connection broken by 'SSLEOFError(8, 'EOF occurred in violation of protocol (_ssl.c:2384)')': /api/2.0/mlflow-artifacts/artifacts/6/ea07e5979b2142128114559b5c743eb4/artifacts/0_model/model.safetensors\n",
      "03:31:51 WARNING:Retrying (Retry(total=0, connect=5, read=5, redirect=5, status=5)) after connection broken by 'SSLEOFError(8, 'EOF occurred in violation of protocol (_ssl.c:2384)')': /api/2.0/mlflow-artifacts/artifacts/6/ea07e5979b2142128114559b5c743eb4/artifacts/0_model/model.safetensors\n",
      "03:32:23 ERROR:API request to https://mlflow-uvl.ifi.uni-heidelberg.de/api/2.0/mlflow-artifacts/artifacts/6/ea07e5979b2142128114559b5c743eb4/artifacts/0_model/model.safetensors failed with exception HTTPSConnectionPool(host='mlflow-uvl.ifi.uni-heidelberg.de', port=443): Max retries exceeded with url: /api/2.0/mlflow-artifacts/artifacts/6/ea07e5979b2142128114559b5c743eb4/artifacts/0_model/model.safetensors (Caused by SSLError(SSLEOFError(8, 'EOF occurred in violation of protocol (_ssl.c:2384)')))\n",
      "03:32:25 ERROR:API request to https://mlflow-uvl.ifi.uni-heidelberg.de/api/2.0/mlflow-artifacts/artifacts/6/ea07e5979b2142128114559b5c743eb4/artifacts/0_model/model.safetensors failed with exception HTTPSConnectionPool(host='mlflow-uvl.ifi.uni-heidelberg.de', port=443): Max retries exceeded with url: /api/2.0/mlflow-artifacts/artifacts/6/ea07e5979b2142128114559b5c743eb4/artifacts/0_model/model.safetensors (Caused by SSLError(SSLEOFError(8, 'EOF occurred in violation of protocol (_ssl.c:2384)')))\n"
     ]
    },
    {
     "ename": "MlflowException",
     "evalue": "API request to https://mlflow-uvl.ifi.uni-heidelberg.de/api/2.0/mlflow-artifacts/artifacts/6/ea07e5979b2142128114559b5c743eb4/artifacts/0_model/model.safetensors failed with exception HTTPSConnectionPool(host='mlflow-uvl.ifi.uni-heidelberg.de', port=443): Max retries exceeded with url: /api/2.0/mlflow-artifacts/artifacts/6/ea07e5979b2142128114559b5c743eb4/artifacts/0_model/model.safetensors (Caused by SSLError(SSLEOFError(8, 'EOF occurred in violation of protocol (_ssl.c:2384)')))",
     "output_type": "error",
     "traceback": [
      "\u001B[1;31m---------------------------------------------------------------------------\u001B[0m",
      "\u001B[1;31mSSLError\u001B[0m                                  Traceback (most recent call last)",
      "\u001B[1;31mSSLError\u001B[0m: EOF occurred in violation of protocol (_ssl.c:2384)",
      "\nThe above exception was the direct cause of the following exception:\n",
      "\u001B[1;31mMaxRetryError\u001B[0m                             Traceback (most recent call last)",
      "File \u001B[1;32mE:\\BERT\\uvl-tore-classifier-bert\\venv310\\lib\\site-packages\\requests\\adapters.py:486\u001B[0m, in \u001B[0;36mHTTPAdapter.send\u001B[1;34m(self, request, stream, timeout, verify, cert, proxies)\u001B[0m\n\u001B[0;32m    485\u001B[0m \u001B[38;5;28;01mtry\u001B[39;00m:\n\u001B[1;32m--> 486\u001B[0m     resp \u001B[38;5;241m=\u001B[39m \u001B[43mconn\u001B[49m\u001B[38;5;241;43m.\u001B[39;49m\u001B[43murlopen\u001B[49m\u001B[43m(\u001B[49m\n\u001B[0;32m    487\u001B[0m \u001B[43m        \u001B[49m\u001B[43mmethod\u001B[49m\u001B[38;5;241;43m=\u001B[39;49m\u001B[43mrequest\u001B[49m\u001B[38;5;241;43m.\u001B[39;49m\u001B[43mmethod\u001B[49m\u001B[43m,\u001B[49m\n\u001B[0;32m    488\u001B[0m \u001B[43m        \u001B[49m\u001B[43murl\u001B[49m\u001B[38;5;241;43m=\u001B[39;49m\u001B[43murl\u001B[49m\u001B[43m,\u001B[49m\n\u001B[0;32m    489\u001B[0m \u001B[43m        \u001B[49m\u001B[43mbody\u001B[49m\u001B[38;5;241;43m=\u001B[39;49m\u001B[43mrequest\u001B[49m\u001B[38;5;241;43m.\u001B[39;49m\u001B[43mbody\u001B[49m\u001B[43m,\u001B[49m\n\u001B[0;32m    490\u001B[0m \u001B[43m        \u001B[49m\u001B[43mheaders\u001B[49m\u001B[38;5;241;43m=\u001B[39;49m\u001B[43mrequest\u001B[49m\u001B[38;5;241;43m.\u001B[39;49m\u001B[43mheaders\u001B[49m\u001B[43m,\u001B[49m\n\u001B[0;32m    491\u001B[0m \u001B[43m        \u001B[49m\u001B[43mredirect\u001B[49m\u001B[38;5;241;43m=\u001B[39;49m\u001B[38;5;28;43;01mFalse\u001B[39;49;00m\u001B[43m,\u001B[49m\n\u001B[0;32m    492\u001B[0m \u001B[43m        \u001B[49m\u001B[43massert_same_host\u001B[49m\u001B[38;5;241;43m=\u001B[39;49m\u001B[38;5;28;43;01mFalse\u001B[39;49;00m\u001B[43m,\u001B[49m\n\u001B[0;32m    493\u001B[0m \u001B[43m        \u001B[49m\u001B[43mpreload_content\u001B[49m\u001B[38;5;241;43m=\u001B[39;49m\u001B[38;5;28;43;01mFalse\u001B[39;49;00m\u001B[43m,\u001B[49m\n\u001B[0;32m    494\u001B[0m \u001B[43m        \u001B[49m\u001B[43mdecode_content\u001B[49m\u001B[38;5;241;43m=\u001B[39;49m\u001B[38;5;28;43;01mFalse\u001B[39;49;00m\u001B[43m,\u001B[49m\n\u001B[0;32m    495\u001B[0m \u001B[43m        \u001B[49m\u001B[43mretries\u001B[49m\u001B[38;5;241;43m=\u001B[39;49m\u001B[38;5;28;43mself\u001B[39;49m\u001B[38;5;241;43m.\u001B[39;49m\u001B[43mmax_retries\u001B[49m\u001B[43m,\u001B[49m\n\u001B[0;32m    496\u001B[0m \u001B[43m        \u001B[49m\u001B[43mtimeout\u001B[49m\u001B[38;5;241;43m=\u001B[39;49m\u001B[43mtimeout\u001B[49m\u001B[43m,\u001B[49m\n\u001B[0;32m    497\u001B[0m \u001B[43m        \u001B[49m\u001B[43mchunked\u001B[49m\u001B[38;5;241;43m=\u001B[39;49m\u001B[43mchunked\u001B[49m\u001B[43m,\u001B[49m\n\u001B[0;32m    498\u001B[0m \u001B[43m    \u001B[49m\u001B[43m)\u001B[49m\n\u001B[0;32m    500\u001B[0m \u001B[38;5;28;01mexcept\u001B[39;00m (ProtocolError, \u001B[38;5;167;01mOSError\u001B[39;00m) \u001B[38;5;28;01mas\u001B[39;00m err:\n",
      "File \u001B[1;32mE:\\BERT\\uvl-tore-classifier-bert\\venv310\\lib\\site-packages\\urllib3\\connectionpool.py:877\u001B[0m, in \u001B[0;36mHTTPConnectionPool.urlopen\u001B[1;34m(self, method, url, body, headers, retries, redirect, assert_same_host, timeout, pool_timeout, release_conn, chunked, body_pos, preload_content, decode_content, **response_kw)\u001B[0m\n\u001B[0;32m    874\u001B[0m     log\u001B[38;5;241m.\u001B[39mwarning(\n\u001B[0;32m    875\u001B[0m         \u001B[38;5;124m\"\u001B[39m\u001B[38;5;124mRetrying (\u001B[39m\u001B[38;5;132;01m%r\u001B[39;00m\u001B[38;5;124m) after connection broken by \u001B[39m\u001B[38;5;124m'\u001B[39m\u001B[38;5;132;01m%r\u001B[39;00m\u001B[38;5;124m'\u001B[39m\u001B[38;5;124m: \u001B[39m\u001B[38;5;132;01m%s\u001B[39;00m\u001B[38;5;124m\"\u001B[39m, retries, err, url\n\u001B[0;32m    876\u001B[0m     )\n\u001B[1;32m--> 877\u001B[0m     \u001B[38;5;28;01mreturn\u001B[39;00m \u001B[38;5;28mself\u001B[39m\u001B[38;5;241m.\u001B[39murlopen(\n\u001B[0;32m    878\u001B[0m         method,\n\u001B[0;32m    879\u001B[0m         url,\n\u001B[0;32m    880\u001B[0m         body,\n\u001B[0;32m    881\u001B[0m         headers,\n\u001B[0;32m    882\u001B[0m         retries,\n\u001B[0;32m    883\u001B[0m         redirect,\n\u001B[0;32m    884\u001B[0m         assert_same_host,\n\u001B[0;32m    885\u001B[0m         timeout\u001B[38;5;241m=\u001B[39mtimeout,\n\u001B[0;32m    886\u001B[0m         pool_timeout\u001B[38;5;241m=\u001B[39mpool_timeout,\n\u001B[0;32m    887\u001B[0m         release_conn\u001B[38;5;241m=\u001B[39mrelease_conn,\n\u001B[0;32m    888\u001B[0m         chunked\u001B[38;5;241m=\u001B[39mchunked,\n\u001B[0;32m    889\u001B[0m         body_pos\u001B[38;5;241m=\u001B[39mbody_pos,\n\u001B[0;32m    890\u001B[0m         preload_content\u001B[38;5;241m=\u001B[39mpreload_content,\n\u001B[0;32m    891\u001B[0m         decode_content\u001B[38;5;241m=\u001B[39mdecode_content,\n\u001B[0;32m    892\u001B[0m         \u001B[38;5;241m*\u001B[39m\u001B[38;5;241m*\u001B[39mresponse_kw,\n\u001B[0;32m    893\u001B[0m     )\n\u001B[0;32m    895\u001B[0m \u001B[38;5;66;03m# Handle redirect?\u001B[39;00m\n",
      "File \u001B[1;32mE:\\BERT\\uvl-tore-classifier-bert\\venv310\\lib\\site-packages\\urllib3\\connectionpool.py:877\u001B[0m, in \u001B[0;36mHTTPConnectionPool.urlopen\u001B[1;34m(self, method, url, body, headers, retries, redirect, assert_same_host, timeout, pool_timeout, release_conn, chunked, body_pos, preload_content, decode_content, **response_kw)\u001B[0m\n\u001B[0;32m    874\u001B[0m     log\u001B[38;5;241m.\u001B[39mwarning(\n\u001B[0;32m    875\u001B[0m         \u001B[38;5;124m\"\u001B[39m\u001B[38;5;124mRetrying (\u001B[39m\u001B[38;5;132;01m%r\u001B[39;00m\u001B[38;5;124m) after connection broken by \u001B[39m\u001B[38;5;124m'\u001B[39m\u001B[38;5;132;01m%r\u001B[39;00m\u001B[38;5;124m'\u001B[39m\u001B[38;5;124m: \u001B[39m\u001B[38;5;132;01m%s\u001B[39;00m\u001B[38;5;124m\"\u001B[39m, retries, err, url\n\u001B[0;32m    876\u001B[0m     )\n\u001B[1;32m--> 877\u001B[0m     \u001B[38;5;28;01mreturn\u001B[39;00m \u001B[38;5;28mself\u001B[39m\u001B[38;5;241m.\u001B[39murlopen(\n\u001B[0;32m    878\u001B[0m         method,\n\u001B[0;32m    879\u001B[0m         url,\n\u001B[0;32m    880\u001B[0m         body,\n\u001B[0;32m    881\u001B[0m         headers,\n\u001B[0;32m    882\u001B[0m         retries,\n\u001B[0;32m    883\u001B[0m         redirect,\n\u001B[0;32m    884\u001B[0m         assert_same_host,\n\u001B[0;32m    885\u001B[0m         timeout\u001B[38;5;241m=\u001B[39mtimeout,\n\u001B[0;32m    886\u001B[0m         pool_timeout\u001B[38;5;241m=\u001B[39mpool_timeout,\n\u001B[0;32m    887\u001B[0m         release_conn\u001B[38;5;241m=\u001B[39mrelease_conn,\n\u001B[0;32m    888\u001B[0m         chunked\u001B[38;5;241m=\u001B[39mchunked,\n\u001B[0;32m    889\u001B[0m         body_pos\u001B[38;5;241m=\u001B[39mbody_pos,\n\u001B[0;32m    890\u001B[0m         preload_content\u001B[38;5;241m=\u001B[39mpreload_content,\n\u001B[0;32m    891\u001B[0m         decode_content\u001B[38;5;241m=\u001B[39mdecode_content,\n\u001B[0;32m    892\u001B[0m         \u001B[38;5;241m*\u001B[39m\u001B[38;5;241m*\u001B[39mresponse_kw,\n\u001B[0;32m    893\u001B[0m     )\n\u001B[0;32m    895\u001B[0m \u001B[38;5;66;03m# Handle redirect?\u001B[39;00m\n",
      "    \u001B[1;31m[... skipping similar frames: HTTPConnectionPool.urlopen at line 877 (2 times)]\u001B[0m\n",
      "File \u001B[1;32mE:\\BERT\\uvl-tore-classifier-bert\\venv310\\lib\\site-packages\\urllib3\\connectionpool.py:877\u001B[0m, in \u001B[0;36mHTTPConnectionPool.urlopen\u001B[1;34m(self, method, url, body, headers, retries, redirect, assert_same_host, timeout, pool_timeout, release_conn, chunked, body_pos, preload_content, decode_content, **response_kw)\u001B[0m\n\u001B[0;32m    874\u001B[0m     log\u001B[38;5;241m.\u001B[39mwarning(\n\u001B[0;32m    875\u001B[0m         \u001B[38;5;124m\"\u001B[39m\u001B[38;5;124mRetrying (\u001B[39m\u001B[38;5;132;01m%r\u001B[39;00m\u001B[38;5;124m) after connection broken by \u001B[39m\u001B[38;5;124m'\u001B[39m\u001B[38;5;132;01m%r\u001B[39;00m\u001B[38;5;124m'\u001B[39m\u001B[38;5;124m: \u001B[39m\u001B[38;5;132;01m%s\u001B[39;00m\u001B[38;5;124m\"\u001B[39m, retries, err, url\n\u001B[0;32m    876\u001B[0m     )\n\u001B[1;32m--> 877\u001B[0m     \u001B[38;5;28;01mreturn\u001B[39;00m \u001B[38;5;28mself\u001B[39m\u001B[38;5;241m.\u001B[39murlopen(\n\u001B[0;32m    878\u001B[0m         method,\n\u001B[0;32m    879\u001B[0m         url,\n\u001B[0;32m    880\u001B[0m         body,\n\u001B[0;32m    881\u001B[0m         headers,\n\u001B[0;32m    882\u001B[0m         retries,\n\u001B[0;32m    883\u001B[0m         redirect,\n\u001B[0;32m    884\u001B[0m         assert_same_host,\n\u001B[0;32m    885\u001B[0m         timeout\u001B[38;5;241m=\u001B[39mtimeout,\n\u001B[0;32m    886\u001B[0m         pool_timeout\u001B[38;5;241m=\u001B[39mpool_timeout,\n\u001B[0;32m    887\u001B[0m         release_conn\u001B[38;5;241m=\u001B[39mrelease_conn,\n\u001B[0;32m    888\u001B[0m         chunked\u001B[38;5;241m=\u001B[39mchunked,\n\u001B[0;32m    889\u001B[0m         body_pos\u001B[38;5;241m=\u001B[39mbody_pos,\n\u001B[0;32m    890\u001B[0m         preload_content\u001B[38;5;241m=\u001B[39mpreload_content,\n\u001B[0;32m    891\u001B[0m         decode_content\u001B[38;5;241m=\u001B[39mdecode_content,\n\u001B[0;32m    892\u001B[0m         \u001B[38;5;241m*\u001B[39m\u001B[38;5;241m*\u001B[39mresponse_kw,\n\u001B[0;32m    893\u001B[0m     )\n\u001B[0;32m    895\u001B[0m \u001B[38;5;66;03m# Handle redirect?\u001B[39;00m\n",
      "File \u001B[1;32mE:\\BERT\\uvl-tore-classifier-bert\\venv310\\lib\\site-packages\\urllib3\\connectionpool.py:847\u001B[0m, in \u001B[0;36mHTTPConnectionPool.urlopen\u001B[1;34m(self, method, url, body, headers, retries, redirect, assert_same_host, timeout, pool_timeout, release_conn, chunked, body_pos, preload_content, decode_content, **response_kw)\u001B[0m\n\u001B[0;32m    845\u001B[0m     new_e \u001B[38;5;241m=\u001B[39m ProtocolError(\u001B[38;5;124m\"\u001B[39m\u001B[38;5;124mConnection aborted.\u001B[39m\u001B[38;5;124m\"\u001B[39m, new_e)\n\u001B[1;32m--> 847\u001B[0m retries \u001B[38;5;241m=\u001B[39m \u001B[43mretries\u001B[49m\u001B[38;5;241;43m.\u001B[39;49m\u001B[43mincrement\u001B[49m\u001B[43m(\u001B[49m\n\u001B[0;32m    848\u001B[0m \u001B[43m    \u001B[49m\u001B[43mmethod\u001B[49m\u001B[43m,\u001B[49m\u001B[43m \u001B[49m\u001B[43murl\u001B[49m\u001B[43m,\u001B[49m\u001B[43m \u001B[49m\u001B[43merror\u001B[49m\u001B[38;5;241;43m=\u001B[39;49m\u001B[43mnew_e\u001B[49m\u001B[43m,\u001B[49m\u001B[43m \u001B[49m\u001B[43m_pool\u001B[49m\u001B[38;5;241;43m=\u001B[39;49m\u001B[38;5;28;43mself\u001B[39;49m\u001B[43m,\u001B[49m\u001B[43m \u001B[49m\u001B[43m_stacktrace\u001B[49m\u001B[38;5;241;43m=\u001B[39;49m\u001B[43msys\u001B[49m\u001B[38;5;241;43m.\u001B[39;49m\u001B[43mexc_info\u001B[49m\u001B[43m(\u001B[49m\u001B[43m)\u001B[49m\u001B[43m[\u001B[49m\u001B[38;5;241;43m2\u001B[39;49m\u001B[43m]\u001B[49m\n\u001B[0;32m    849\u001B[0m \u001B[43m\u001B[49m\u001B[43m)\u001B[49m\n\u001B[0;32m    850\u001B[0m retries\u001B[38;5;241m.\u001B[39msleep()\n",
      "File \u001B[1;32mE:\\BERT\\uvl-tore-classifier-bert\\venv310\\lib\\site-packages\\urllib3\\util\\retry.py:515\u001B[0m, in \u001B[0;36mRetry.increment\u001B[1;34m(self, method, url, response, error, _pool, _stacktrace)\u001B[0m\n\u001B[0;32m    514\u001B[0m     reason \u001B[38;5;241m=\u001B[39m error \u001B[38;5;129;01mor\u001B[39;00m ResponseError(cause)\n\u001B[1;32m--> 515\u001B[0m     \u001B[38;5;28;01mraise\u001B[39;00m MaxRetryError(_pool, url, reason) \u001B[38;5;28;01mfrom\u001B[39;00m \u001B[38;5;21;01mreason\u001B[39;00m  \u001B[38;5;66;03m# type: ignore[arg-type]\u001B[39;00m\n\u001B[0;32m    517\u001B[0m log\u001B[38;5;241m.\u001B[39mdebug(\u001B[38;5;124m\"\u001B[39m\u001B[38;5;124mIncremented Retry for (url=\u001B[39m\u001B[38;5;124m'\u001B[39m\u001B[38;5;132;01m%s\u001B[39;00m\u001B[38;5;124m'\u001B[39m\u001B[38;5;124m): \u001B[39m\u001B[38;5;132;01m%r\u001B[39;00m\u001B[38;5;124m\"\u001B[39m, url, new_retry)\n",
      "\u001B[1;31mMaxRetryError\u001B[0m: HTTPSConnectionPool(host='mlflow-uvl.ifi.uni-heidelberg.de', port=443): Max retries exceeded with url: /api/2.0/mlflow-artifacts/artifacts/6/ea07e5979b2142128114559b5c743eb4/artifacts/0_model/model.safetensors (Caused by SSLError(SSLEOFError(8, 'EOF occurred in violation of protocol (_ssl.c:2384)')))",
      "\nDuring handling of the above exception, another exception occurred:\n",
      "\u001B[1;31mSSLError\u001B[0m                                  Traceback (most recent call last)",
      "File \u001B[1;32mE:\\BERT\\uvl-tore-classifier-bert\\venv310\\lib\\site-packages\\mlflow\\utils\\rest_utils.py:128\u001B[0m, in \u001B[0;36mhttp_request\u001B[1;34m(host_creds, endpoint, method, max_retries, backoff_factor, backoff_jitter, extra_headers, retry_codes, timeout, raise_on_status, respect_retry_after_header, **kwargs)\u001B[0m\n\u001B[0;32m    127\u001B[0m \u001B[38;5;28;01mtry\u001B[39;00m:\n\u001B[1;32m--> 128\u001B[0m     \u001B[38;5;28;01mreturn\u001B[39;00m _get_http_response_with_retries(\n\u001B[0;32m    129\u001B[0m         method,\n\u001B[0;32m    130\u001B[0m         url,\n\u001B[0;32m    131\u001B[0m         max_retries,\n\u001B[0;32m    132\u001B[0m         backoff_factor,\n\u001B[0;32m    133\u001B[0m         backoff_jitter,\n\u001B[0;32m    134\u001B[0m         retry_codes,\n\u001B[0;32m    135\u001B[0m         raise_on_status,\n\u001B[0;32m    136\u001B[0m         headers\u001B[38;5;241m=\u001B[39mheaders,\n\u001B[0;32m    137\u001B[0m         verify\u001B[38;5;241m=\u001B[39mhost_creds\u001B[38;5;241m.\u001B[39mverify,\n\u001B[0;32m    138\u001B[0m         timeout\u001B[38;5;241m=\u001B[39mtimeout,\n\u001B[0;32m    139\u001B[0m         respect_retry_after_header\u001B[38;5;241m=\u001B[39mrespect_retry_after_header,\n\u001B[0;32m    140\u001B[0m         \u001B[38;5;241m*\u001B[39m\u001B[38;5;241m*\u001B[39mkwargs,\n\u001B[0;32m    141\u001B[0m     )\n\u001B[0;32m    142\u001B[0m \u001B[38;5;28;01mexcept\u001B[39;00m requests\u001B[38;5;241m.\u001B[39mexceptions\u001B[38;5;241m.\u001B[39mTimeout \u001B[38;5;28;01mas\u001B[39;00m to:\n",
      "File \u001B[1;32mE:\\BERT\\uvl-tore-classifier-bert\\venv310\\lib\\site-packages\\mlflow\\utils\\request_utils.py:228\u001B[0m, in \u001B[0;36m_get_http_response_with_retries\u001B[1;34m(method, url, max_retries, backoff_factor, backoff_jitter, retry_codes, raise_on_status, allow_redirects, respect_retry_after_header, **kwargs)\u001B[0m\n\u001B[0;32m    226\u001B[0m allow_redirects \u001B[38;5;241m=\u001B[39m env_value \u001B[38;5;28;01mif\u001B[39;00m allow_redirects \u001B[38;5;129;01mis\u001B[39;00m \u001B[38;5;28;01mNone\u001B[39;00m \u001B[38;5;28;01melse\u001B[39;00m allow_redirects\n\u001B[1;32m--> 228\u001B[0m \u001B[38;5;28;01mreturn\u001B[39;00m session\u001B[38;5;241m.\u001B[39mrequest(method, url, allow_redirects\u001B[38;5;241m=\u001B[39mallow_redirects, \u001B[38;5;241m*\u001B[39m\u001B[38;5;241m*\u001B[39mkwargs)\n",
      "File \u001B[1;32mE:\\BERT\\uvl-tore-classifier-bert\\venv310\\lib\\site-packages\\requests\\sessions.py:589\u001B[0m, in \u001B[0;36mSession.request\u001B[1;34m(self, method, url, params, data, headers, cookies, files, auth, timeout, allow_redirects, proxies, hooks, stream, verify, cert, json)\u001B[0m\n\u001B[0;32m    588\u001B[0m send_kwargs\u001B[38;5;241m.\u001B[39mupdate(settings)\n\u001B[1;32m--> 589\u001B[0m resp \u001B[38;5;241m=\u001B[39m \u001B[38;5;28mself\u001B[39m\u001B[38;5;241m.\u001B[39msend(prep, \u001B[38;5;241m*\u001B[39m\u001B[38;5;241m*\u001B[39msend_kwargs)\n\u001B[0;32m    591\u001B[0m \u001B[38;5;28;01mreturn\u001B[39;00m resp\n",
      "File \u001B[1;32mE:\\BERT\\uvl-tore-classifier-bert\\venv310\\lib\\site-packages\\requests\\sessions.py:703\u001B[0m, in \u001B[0;36mSession.send\u001B[1;34m(self, request, **kwargs)\u001B[0m\n\u001B[0;32m    702\u001B[0m \u001B[38;5;66;03m# Send the request\u001B[39;00m\n\u001B[1;32m--> 703\u001B[0m r \u001B[38;5;241m=\u001B[39m adapter\u001B[38;5;241m.\u001B[39msend(request, \u001B[38;5;241m*\u001B[39m\u001B[38;5;241m*\u001B[39mkwargs)\n\u001B[0;32m    705\u001B[0m \u001B[38;5;66;03m# Total elapsed time of the request (approximately)\u001B[39;00m\n",
      "File \u001B[1;32mE:\\BERT\\uvl-tore-classifier-bert\\venv310\\lib\\site-packages\\requests\\adapters.py:517\u001B[0m, in \u001B[0;36mHTTPAdapter.send\u001B[1;34m(self, request, stream, timeout, verify, cert, proxies)\u001B[0m\n\u001B[0;32m    515\u001B[0m \u001B[38;5;28;01mif\u001B[39;00m \u001B[38;5;28misinstance\u001B[39m(e\u001B[38;5;241m.\u001B[39mreason, _SSLError):\n\u001B[0;32m    516\u001B[0m     \u001B[38;5;66;03m# This branch is for urllib3 v1.22 and later.\u001B[39;00m\n\u001B[1;32m--> 517\u001B[0m     \u001B[38;5;28;01mraise\u001B[39;00m SSLError(e, request\u001B[38;5;241m=\u001B[39mrequest)\n\u001B[0;32m    519\u001B[0m \u001B[38;5;28;01mraise\u001B[39;00m \u001B[38;5;167;01mConnectionError\u001B[39;00m(e, request\u001B[38;5;241m=\u001B[39mrequest)\n",
      "\u001B[1;31mSSLError\u001B[0m: HTTPSConnectionPool(host='mlflow-uvl.ifi.uni-heidelberg.de', port=443): Max retries exceeded with url: /api/2.0/mlflow-artifacts/artifacts/6/ea07e5979b2142128114559b5c743eb4/artifacts/0_model/model.safetensors (Caused by SSLError(SSLEOFError(8, 'EOF occurred in violation of protocol (_ssl.c:2384)')))",
      "\nDuring handling of the above exception, another exception occurred:\n",
      "\u001B[1;31mMlflowException\u001B[0m                           Traceback (most recent call last)",
      "Cell \u001B[1;32mIn[15], line 33\u001B[0m\n\u001B[0;32m     30\u001B[0m \u001B[38;5;28;01mif\u001B[39;00m run_experiments:\n\u001B[0;32m     31\u001B[0m     \u001B[38;5;28;01mfrom\u001B[39;00m \u001B[38;5;21;01mexperiments\u001B[39;00m\u001B[38;5;21;01m.\u001B[39;00m\u001B[38;5;21;01mdual_model_staged_bert\u001B[39;00m \u001B[38;5;28;01mimport\u001B[39;00m dual_stage_bert\n\u001B[1;32m---> 33\u001B[0m     \u001B[43mdual_stage_bert\u001B[49m\u001B[43m(\u001B[49m\u001B[43mOmegaConf\u001B[49m\u001B[38;5;241;43m.\u001B[39;49m\u001B[43mcreate\u001B[49m\u001B[43m(\u001B[49m\u001B[43mbert_2_bert_cfg\u001B[49m\u001B[43m)\u001B[49m\u001B[43m)\u001B[49m\n\u001B[0;32m     35\u001B[0m bert_2_bert_run_id \u001B[38;5;241m=\u001B[39m get_run_id(bert_2_bert_cfg, pin_commit\u001B[38;5;241m=\u001B[39mpin_commits)\n\u001B[0;32m     37\u001B[0m \u001B[38;5;28mprint\u001B[39m(bert_2_bert_run_id)\n",
      "File \u001B[1;32mE:\\BERT\\uvl-tore-classifier-bert\\venv310\\lib\\site-packages\\hydra\\main.py:83\u001B[0m, in \u001B[0;36mmain.<locals>.main_decorator.<locals>.decorated_main\u001B[1;34m(cfg_passthrough)\u001B[0m\n\u001B[0;32m     80\u001B[0m \u001B[38;5;129m@functools\u001B[39m\u001B[38;5;241m.\u001B[39mwraps(task_function)\n\u001B[0;32m     81\u001B[0m \u001B[38;5;28;01mdef\u001B[39;00m \u001B[38;5;21mdecorated_main\u001B[39m(cfg_passthrough: Optional[DictConfig] \u001B[38;5;241m=\u001B[39m \u001B[38;5;28;01mNone\u001B[39;00m) \u001B[38;5;241m-\u001B[39m\u001B[38;5;241m>\u001B[39m Any:\n\u001B[0;32m     82\u001B[0m     \u001B[38;5;28;01mif\u001B[39;00m cfg_passthrough \u001B[38;5;129;01mis\u001B[39;00m \u001B[38;5;129;01mnot\u001B[39;00m \u001B[38;5;28;01mNone\u001B[39;00m:\n\u001B[1;32m---> 83\u001B[0m         \u001B[38;5;28;01mreturn\u001B[39;00m \u001B[43mtask_function\u001B[49m\u001B[43m(\u001B[49m\u001B[43mcfg_passthrough\u001B[49m\u001B[43m)\u001B[49m\n\u001B[0;32m     84\u001B[0m     \u001B[38;5;28;01melse\u001B[39;00m:\n\u001B[0;32m     85\u001B[0m         args_parser \u001B[38;5;241m=\u001B[39m get_args_parser()\n",
      "File \u001B[1;32mE:\\BERT\\uvl-tore-classifier-bert\\src\\experiments\\dual_model_staged_bert.py:45\u001B[0m, in \u001B[0;36mdual_stage_bert\u001B[1;34m(cfg)\u001B[0m\n\u001B[0;32m     43\u001B[0m         logging\u001B[38;5;241m.\u001B[39merror(e)\n\u001B[0;32m     44\u001B[0m         end_tracing()\n\u001B[1;32m---> 45\u001B[0m         \u001B[38;5;28;01mraise\u001B[39;00m e\n\u001B[0;32m     47\u001B[0m logging\u001B[38;5;241m.\u001B[39minfo(\u001B[38;5;124m\"\u001B[39m\u001B[38;5;124mLeft mlflow context\u001B[39m\u001B[38;5;124m\"\u001B[39m)\n\u001B[0;32m     49\u001B[0m \u001B[38;5;28;01mreturn\u001B[39;00m\n",
      "File \u001B[1;32mE:\\BERT\\uvl-tore-classifier-bert\\src\\experiments\\dual_model_staged_bert.py:34\u001B[0m, in \u001B[0;36mdual_stage_bert\u001B[1;34m(cfg)\u001B[0m\n\u001B[0;32m     32\u001B[0m \u001B[38;5;28;01mwith\u001B[39;00m config_mlflow(cfg\u001B[38;5;241m=\u001B[39mcfg) \u001B[38;5;28;01mas\u001B[39;00m current_run:\n\u001B[0;32m     33\u001B[0m     \u001B[38;5;28;01mtry\u001B[39;00m:\n\u001B[1;32m---> 34\u001B[0m         \u001B[43mdual_stage_bert_pipeline\u001B[49m\u001B[43m(\u001B[49m\u001B[43mcfg\u001B[49m\u001B[43m,\u001B[49m\u001B[43m \u001B[49m\u001B[43mrun_name\u001B[49m\u001B[38;5;241;43m=\u001B[39;49m\u001B[43mcurrent_run\u001B[49m\u001B[38;5;241;43m.\u001B[39;49m\u001B[43minfo\u001B[49m\u001B[38;5;241;43m.\u001B[39;49m\u001B[43mrun_name\u001B[49m\u001B[43m)\u001B[49m\n\u001B[0;32m     35\u001B[0m         end_tracing()\n\u001B[0;32m     37\u001B[0m     \u001B[38;5;28;01mexcept\u001B[39;00m \u001B[38;5;167;01mKeyboardInterrupt\u001B[39;00m:\n",
      "File \u001B[1;32mE:\\BERT\\uvl-tore-classifier-bert\\src\\classifiers\\staged_bert\\pipeline.py:272\u001B[0m, in \u001B[0;36mdual_stage_bert_pipeline\u001B[1;34m(cfg, run_name)\u001B[0m\n\u001B[0;32m    269\u001B[0m logging\u001B[38;5;241m.\u001B[39minfo(\u001B[38;5;124mf\u001B[39m\u001B[38;5;124m\"\u001B[39m\u001B[38;5;124mStarting \u001B[39m\u001B[38;5;132;01m{\u001B[39;00miteration\u001B[38;5;132;01m=}\u001B[39;00m\u001B[38;5;124m\"\u001B[39m)\n\u001B[0;32m    271\u001B[0m \u001B[38;5;66;03m# Get First stage model\u001B[39;00m\n\u001B[1;32m--> 272\u001B[0m hint_label2id, hint_id2label, glove_model, padded_labels \u001B[38;5;241m=\u001B[39m \u001B[43mget_model\u001B[49m\u001B[43m(\u001B[49m\n\u001B[0;32m    273\u001B[0m \u001B[43m    \u001B[49m\u001B[43mcfg\u001B[49m\u001B[43m,\u001B[49m\u001B[43m \u001B[49m\u001B[43miteration\u001B[49m\u001B[38;5;241;43m=\u001B[39;49m\u001B[43miteration\u001B[49m\u001B[43m,\u001B[49m\u001B[43m \u001B[49m\u001B[43mrun_name\u001B[49m\u001B[38;5;241;43m=\u001B[39;49m\u001B[43mrun_name\u001B[49m\n\u001B[0;32m    274\u001B[0m \u001B[43m\u001B[49m\u001B[43m)\u001B[49m\n\u001B[0;32m    276\u001B[0m \u001B[38;5;66;03m# Load training data\u001B[39;00m\n\u001B[0;32m    277\u001B[0m input_training_data \u001B[38;5;241m=\u001B[39m load_split_dataset(\n\u001B[0;32m    278\u001B[0m     name\u001B[38;5;241m=\u001B[39mrun_name, filename\u001B[38;5;241m=\u001B[39mDATA_TRAIN, iteration\u001B[38;5;241m=\u001B[39miteration\n\u001B[0;32m    279\u001B[0m )\n",
      "File \u001B[1;32mE:\\BERT\\uvl-tore-classifier-bert\\src\\tooling\\experiment.py:110\u001B[0m, in \u001B[0;36mget_model\u001B[1;34m(cfg, run_name, iteration, retry)\u001B[0m\n\u001B[0;32m    108\u001B[0m \u001B[38;5;28;01mif\u001B[39;00m cfg\u001B[38;5;241m.\u001B[39mfirst_model_bert:\n\u001B[0;32m    109\u001B[0m     logging\u001B[38;5;241m.\u001B[39mwarn(\u001B[38;5;124m\"\u001B[39m\u001B[38;5;124mRunning missing experiment\u001B[39m\u001B[38;5;124m\"\u001B[39m)\n\u001B[1;32m--> 110\u001B[0m     \u001B[43mbert\u001B[49m\u001B[43m(\u001B[49m\u001B[43mcfg\u001B[49m\u001B[38;5;241;43m.\u001B[39;49m\u001B[43mfirst_model_bert\u001B[49m\u001B[43m)\u001B[49m\n\u001B[0;32m    111\u001B[0m     logging\u001B[38;5;241m.\u001B[39mwarn(\u001B[38;5;124m\"\u001B[39m\u001B[38;5;124mRetry finding experiment\u001B[39m\u001B[38;5;124m\"\u001B[39m)\n\u001B[0;32m    112\u001B[0m     \u001B[38;5;28;01mreturn\u001B[39;00m get_model(\n\u001B[0;32m    113\u001B[0m         cfg, run_name\u001B[38;5;241m=\u001B[39mrun_name, iteration\u001B[38;5;241m=\u001B[39miteration, retry\u001B[38;5;241m=\u001B[39mretry \u001B[38;5;241m+\u001B[39m \u001B[38;5;241m1\u001B[39m\n\u001B[0;32m    114\u001B[0m     )\n",
      "File \u001B[1;32mE:\\BERT\\uvl-tore-classifier-bert\\venv310\\lib\\site-packages\\hydra\\main.py:83\u001B[0m, in \u001B[0;36mmain.<locals>.main_decorator.<locals>.decorated_main\u001B[1;34m(cfg_passthrough)\u001B[0m\n\u001B[0;32m     80\u001B[0m \u001B[38;5;129m@functools\u001B[39m\u001B[38;5;241m.\u001B[39mwraps(task_function)\n\u001B[0;32m     81\u001B[0m \u001B[38;5;28;01mdef\u001B[39;00m \u001B[38;5;21mdecorated_main\u001B[39m(cfg_passthrough: Optional[DictConfig] \u001B[38;5;241m=\u001B[39m \u001B[38;5;28;01mNone\u001B[39;00m) \u001B[38;5;241m-\u001B[39m\u001B[38;5;241m>\u001B[39m Any:\n\u001B[0;32m     82\u001B[0m     \u001B[38;5;28;01mif\u001B[39;00m cfg_passthrough \u001B[38;5;129;01mis\u001B[39;00m \u001B[38;5;129;01mnot\u001B[39;00m \u001B[38;5;28;01mNone\u001B[39;00m:\n\u001B[1;32m---> 83\u001B[0m         \u001B[38;5;28;01mreturn\u001B[39;00m \u001B[43mtask_function\u001B[49m\u001B[43m(\u001B[49m\u001B[43mcfg_passthrough\u001B[49m\u001B[43m)\u001B[49m\n\u001B[0;32m     84\u001B[0m     \u001B[38;5;28;01melse\u001B[39;00m:\n\u001B[0;32m     85\u001B[0m         args_parser \u001B[38;5;241m=\u001B[39m get_args_parser()\n",
      "File \u001B[1;32mE:\\BERT\\uvl-tore-classifier-bert\\src\\experiments\\bert.py:41\u001B[0m, in \u001B[0;36mbert\u001B[1;34m(cfg)\u001B[0m\n\u001B[0;32m     39\u001B[0m         logging\u001B[38;5;241m.\u001B[39merror(e)\n\u001B[0;32m     40\u001B[0m         end_tracing()\n\u001B[1;32m---> 41\u001B[0m         \u001B[38;5;28;01mraise\u001B[39;00m e\n\u001B[0;32m     43\u001B[0m logging\u001B[38;5;241m.\u001B[39minfo(\u001B[38;5;124m\"\u001B[39m\u001B[38;5;124mLeft mlflow context\u001B[39m\u001B[38;5;124m\"\u001B[39m)\n\u001B[0;32m     44\u001B[0m \u001B[38;5;28;01mreturn\u001B[39;00m\n",
      "File \u001B[1;32mE:\\BERT\\uvl-tore-classifier-bert\\src\\experiments\\bert.py:30\u001B[0m, in \u001B[0;36mbert\u001B[1;34m(cfg)\u001B[0m\n\u001B[0;32m     28\u001B[0m \u001B[38;5;28;01mwith\u001B[39;00m config_mlflow(cfg\u001B[38;5;241m=\u001B[39mcfg) \u001B[38;5;28;01mas\u001B[39;00m current_run:\n\u001B[0;32m     29\u001B[0m     \u001B[38;5;28;01mtry\u001B[39;00m:\n\u001B[1;32m---> 30\u001B[0m         \u001B[43mbert_pipeline\u001B[49m\u001B[43m(\u001B[49m\u001B[43mcfg\u001B[49m\u001B[43m,\u001B[49m\u001B[43m \u001B[49m\u001B[43mrun_name\u001B[49m\u001B[38;5;241;43m=\u001B[39;49m\u001B[43mcurrent_run\u001B[49m\u001B[38;5;241;43m.\u001B[39;49m\u001B[43minfo\u001B[49m\u001B[38;5;241;43m.\u001B[39;49m\u001B[43mrun_name\u001B[49m\u001B[43m)\u001B[49m\n\u001B[0;32m     31\u001B[0m         end_tracing()\n\u001B[0;32m     33\u001B[0m     \u001B[38;5;28;01mexcept\u001B[39;00m \u001B[38;5;167;01mKeyboardInterrupt\u001B[39;00m:\n",
      "File \u001B[1;32mE:\\BERT\\uvl-tore-classifier-bert\\src\\classifiers\\bert\\pipeline.py:128\u001B[0m, in \u001B[0;36mbert_pipeline\u001B[1;34m(cfg, run_name)\u001B[0m\n\u001B[0;32m    126\u001B[0m logging\u001B[38;5;241m.\u001B[39minfo(\u001B[38;5;124mf\u001B[39m\u001B[38;5;124m\"\u001B[39m\u001B[38;5;124mFinished \u001B[39m\u001B[38;5;132;01m{\u001B[39;00miteration\u001B[38;5;132;01m=}\u001B[39;00m\u001B[38;5;124m\"\u001B[39m)\n\u001B[0;32m    127\u001B[0m logging\u001B[38;5;241m.\u001B[39minfo(\u001B[38;5;124m\"\u001B[39m\u001B[38;5;124mLogging model artifact (might take a while)\u001B[39m\u001B[38;5;124m\"\u001B[39m)\n\u001B[1;32m--> 128\u001B[0m \u001B[43mlog_artifacts\u001B[49m\u001B[43m(\u001B[49m\u001B[43mmodel_path\u001B[49m\u001B[43m(\u001B[49m\u001B[43mname\u001B[49m\u001B[38;5;241;43m=\u001B[39;49m\u001B[43mrun_name\u001B[49m\u001B[43m,\u001B[49m\u001B[43m \u001B[49m\u001B[43miteration\u001B[49m\u001B[38;5;241;43m=\u001B[39;49m\u001B[43miteration\u001B[49m\u001B[43m)\u001B[49m\u001B[43m)\u001B[49m\n\u001B[0;32m    130\u001B[0m \u001B[38;5;66;03m# early break if configured\u001B[39;00m\n\u001B[0;32m    131\u001B[0m \u001B[38;5;28;01mif\u001B[39;00m iteration \u001B[38;5;241m+\u001B[39m \u001B[38;5;241m1\u001B[39m \u001B[38;5;241m==\u001B[39m cfg\u001B[38;5;241m.\u001B[39mexperiment\u001B[38;5;241m.\u001B[39miterations:\n",
      "File \u001B[1;32mE:\\BERT\\uvl-tore-classifier-bert\\src\\tooling\\observability.py:49\u001B[0m, in \u001B[0;36mlog_artifacts\u001B[1;34m(artifact_paths)\u001B[0m\n\u001B[0;32m     47\u001B[0m \u001B[38;5;28;01melse\u001B[39;00m:\n\u001B[0;32m     48\u001B[0m     \u001B[38;5;28;01mif\u001B[39;00m \u001B[38;5;129;01mnot\u001B[39;00m os\u001B[38;5;241m.\u001B[39mgetenv(\u001B[38;5;124m\"\u001B[39m\u001B[38;5;124mDISABLE_MLFLOW\u001B[39m\u001B[38;5;124m\"\u001B[39m):\n\u001B[1;32m---> 49\u001B[0m         \u001B[43mmlflow\u001B[49m\u001B[38;5;241;43m.\u001B[39;49m\u001B[43mlog_artifact\u001B[49m\u001B[43m(\u001B[49m\u001B[43martifact_paths\u001B[49m\u001B[43m)\u001B[49m\n",
      "File \u001B[1;32mE:\\BERT\\uvl-tore-classifier-bert\\venv310\\lib\\site-packages\\mlflow\\tracking\\fluent.py:1068\u001B[0m, in \u001B[0;36mlog_artifact\u001B[1;34m(local_path, artifact_path, run_id)\u001B[0m\n\u001B[0;32m   1040\u001B[0m \u001B[38;5;250m\u001B[39m\u001B[38;5;124;03m\"\"\"\u001B[39;00m\n\u001B[0;32m   1041\u001B[0m \u001B[38;5;124;03mLog a local file or directory as an artifact of the currently active run. If no run is\u001B[39;00m\n\u001B[0;32m   1042\u001B[0m \u001B[38;5;124;03mactive, this method will create a new active run.\u001B[39;00m\n\u001B[1;32m   (...)\u001B[0m\n\u001B[0;32m   1065\u001B[0m \u001B[38;5;124;03m            mlflow.log_artifact(path)\u001B[39;00m\n\u001B[0;32m   1066\u001B[0m \u001B[38;5;124;03m\"\"\"\u001B[39;00m\n\u001B[0;32m   1067\u001B[0m run_id \u001B[38;5;241m=\u001B[39m run_id \u001B[38;5;129;01mor\u001B[39;00m _get_or_start_run()\u001B[38;5;241m.\u001B[39minfo\u001B[38;5;241m.\u001B[39mrun_id\n\u001B[1;32m-> 1068\u001B[0m \u001B[43mMlflowClient\u001B[49m\u001B[43m(\u001B[49m\u001B[43m)\u001B[49m\u001B[38;5;241;43m.\u001B[39;49m\u001B[43mlog_artifact\u001B[49m\u001B[43m(\u001B[49m\u001B[43mrun_id\u001B[49m\u001B[43m,\u001B[49m\u001B[43m \u001B[49m\u001B[43mlocal_path\u001B[49m\u001B[43m,\u001B[49m\u001B[43m \u001B[49m\u001B[43martifact_path\u001B[49m\u001B[43m)\u001B[49m\n",
      "File \u001B[1;32mE:\\BERT\\uvl-tore-classifier-bert\\venv310\\lib\\site-packages\\mlflow\\tracking\\client.py:1215\u001B[0m, in \u001B[0;36mMlflowClient.log_artifact\u001B[1;34m(self, run_id, local_path, artifact_path)\u001B[0m\n\u001B[0;32m   1172\u001B[0m \u001B[38;5;28;01mdef\u001B[39;00m \u001B[38;5;21mlog_artifact\u001B[39m(\u001B[38;5;28mself\u001B[39m, run_id, local_path, artifact_path\u001B[38;5;241m=\u001B[39m\u001B[38;5;28;01mNone\u001B[39;00m) \u001B[38;5;241m-\u001B[39m\u001B[38;5;241m>\u001B[39m \u001B[38;5;28;01mNone\u001B[39;00m:\n\u001B[0;32m   1173\u001B[0m \u001B[38;5;250m    \u001B[39m\u001B[38;5;124;03m\"\"\"Write a local file or directory to the remote ``artifact_uri``.\u001B[39;00m\n\u001B[0;32m   1174\u001B[0m \n\u001B[0;32m   1175\u001B[0m \u001B[38;5;124;03m    Args:\u001B[39;00m\n\u001B[1;32m   (...)\u001B[0m\n\u001B[0;32m   1213\u001B[0m \n\u001B[0;32m   1214\u001B[0m \u001B[38;5;124;03m    \"\"\"\u001B[39;00m\n\u001B[1;32m-> 1215\u001B[0m     \u001B[38;5;28;43mself\u001B[39;49m\u001B[38;5;241;43m.\u001B[39;49m\u001B[43m_tracking_client\u001B[49m\u001B[38;5;241;43m.\u001B[39;49m\u001B[43mlog_artifact\u001B[49m\u001B[43m(\u001B[49m\u001B[43mrun_id\u001B[49m\u001B[43m,\u001B[49m\u001B[43m \u001B[49m\u001B[43mlocal_path\u001B[49m\u001B[43m,\u001B[49m\u001B[43m \u001B[49m\u001B[43martifact_path\u001B[49m\u001B[43m)\u001B[49m\n",
      "File \u001B[1;32mE:\\BERT\\uvl-tore-classifier-bert\\venv310\\lib\\site-packages\\mlflow\\tracking\\_tracking_service\\client.py:555\u001B[0m, in \u001B[0;36mTrackingServiceClient.log_artifact\u001B[1;34m(self, run_id, local_path, artifact_path)\u001B[0m\n\u001B[0;32m    551\u001B[0m     dir_name \u001B[38;5;241m=\u001B[39m os\u001B[38;5;241m.\u001B[39mpath\u001B[38;5;241m.\u001B[39mbasename(os\u001B[38;5;241m.\u001B[39mpath\u001B[38;5;241m.\u001B[39mnormpath(local_path))\n\u001B[0;32m    552\u001B[0m     path_name \u001B[38;5;241m=\u001B[39m (\n\u001B[0;32m    553\u001B[0m         os\u001B[38;5;241m.\u001B[39mpath\u001B[38;5;241m.\u001B[39mjoin(artifact_path, dir_name) \u001B[38;5;28;01mif\u001B[39;00m artifact_path \u001B[38;5;129;01mis\u001B[39;00m \u001B[38;5;129;01mnot\u001B[39;00m \u001B[38;5;28;01mNone\u001B[39;00m \u001B[38;5;28;01melse\u001B[39;00m dir_name\n\u001B[0;32m    554\u001B[0m     )\n\u001B[1;32m--> 555\u001B[0m     \u001B[43martifact_repo\u001B[49m\u001B[38;5;241;43m.\u001B[39;49m\u001B[43mlog_artifacts\u001B[49m\u001B[43m(\u001B[49m\u001B[43mlocal_path\u001B[49m\u001B[43m,\u001B[49m\u001B[43m \u001B[49m\u001B[43mpath_name\u001B[49m\u001B[43m)\u001B[49m\n\u001B[0;32m    556\u001B[0m \u001B[38;5;28;01melse\u001B[39;00m:\n\u001B[0;32m    557\u001B[0m     artifact_repo\u001B[38;5;241m.\u001B[39mlog_artifact(local_path, artifact_path)\n",
      "File \u001B[1;32mE:\\BERT\\uvl-tore-classifier-bert\\venv310\\lib\\site-packages\\mlflow\\store\\artifact\\http_artifact_repo.py:80\u001B[0m, in \u001B[0;36mHttpArtifactRepository.log_artifacts\u001B[1;34m(self, local_dir, artifact_path)\u001B[0m\n\u001B[0;32m     76\u001B[0m     artifact_dir \u001B[38;5;241m=\u001B[39m (\n\u001B[0;32m     77\u001B[0m         posixpath\u001B[38;5;241m.\u001B[39mjoin(artifact_path, rel_path) \u001B[38;5;28;01mif\u001B[39;00m artifact_path \u001B[38;5;28;01melse\u001B[39;00m rel_path\n\u001B[0;32m     78\u001B[0m     )\n\u001B[0;32m     79\u001B[0m \u001B[38;5;28;01mfor\u001B[39;00m f \u001B[38;5;129;01min\u001B[39;00m filenames:\n\u001B[1;32m---> 80\u001B[0m     \u001B[38;5;28;43mself\u001B[39;49m\u001B[38;5;241;43m.\u001B[39;49m\u001B[43mlog_artifact\u001B[49m\u001B[43m(\u001B[49m\u001B[43mos\u001B[49m\u001B[38;5;241;43m.\u001B[39;49m\u001B[43mpath\u001B[49m\u001B[38;5;241;43m.\u001B[39;49m\u001B[43mjoin\u001B[49m\u001B[43m(\u001B[49m\u001B[43mroot\u001B[49m\u001B[43m,\u001B[49m\u001B[43m \u001B[49m\u001B[43mf\u001B[49m\u001B[43m)\u001B[49m\u001B[43m,\u001B[49m\u001B[43m \u001B[49m\u001B[43martifact_dir\u001B[49m\u001B[43m)\u001B[49m\n",
      "File \u001B[1;32mE:\\BERT\\uvl-tore-classifier-bert\\venv310\\lib\\site-packages\\mlflow\\store\\artifact\\http_artifact_repo.py:63\u001B[0m, in \u001B[0;36mHttpArtifactRepository.log_artifact\u001B[1;34m(self, local_file, artifact_path)\u001B[0m\n\u001B[0;32m     61\u001B[0m extra_headers \u001B[38;5;241m=\u001B[39m {\u001B[38;5;124m\"\u001B[39m\u001B[38;5;124mContent-Type\u001B[39m\u001B[38;5;124m\"\u001B[39m: mime_type}\n\u001B[0;32m     62\u001B[0m \u001B[38;5;28;01mwith\u001B[39;00m \u001B[38;5;28mopen\u001B[39m(local_file, \u001B[38;5;124m\"\u001B[39m\u001B[38;5;124mrb\u001B[39m\u001B[38;5;124m\"\u001B[39m) \u001B[38;5;28;01mas\u001B[39;00m f:\n\u001B[1;32m---> 63\u001B[0m     resp \u001B[38;5;241m=\u001B[39m \u001B[43mhttp_request\u001B[49m\u001B[43m(\u001B[49m\n\u001B[0;32m     64\u001B[0m \u001B[43m        \u001B[49m\u001B[38;5;28;43mself\u001B[39;49m\u001B[38;5;241;43m.\u001B[39;49m\u001B[43m_host_creds\u001B[49m\u001B[43m,\u001B[49m\u001B[43m \u001B[49m\u001B[43mendpoint\u001B[49m\u001B[43m,\u001B[49m\u001B[43m \u001B[49m\u001B[38;5;124;43m\"\u001B[39;49m\u001B[38;5;124;43mPUT\u001B[39;49m\u001B[38;5;124;43m\"\u001B[39;49m\u001B[43m,\u001B[49m\u001B[43m \u001B[49m\u001B[43mdata\u001B[49m\u001B[38;5;241;43m=\u001B[39;49m\u001B[43mf\u001B[49m\u001B[43m,\u001B[49m\u001B[43m \u001B[49m\u001B[43mextra_headers\u001B[49m\u001B[38;5;241;43m=\u001B[39;49m\u001B[43mextra_headers\u001B[49m\n\u001B[0;32m     65\u001B[0m \u001B[43m    \u001B[49m\u001B[43m)\u001B[49m\n\u001B[0;32m     66\u001B[0m     augmented_raise_for_status(resp)\n",
      "File \u001B[1;32mE:\\BERT\\uvl-tore-classifier-bert\\venv310\\lib\\site-packages\\mlflow\\utils\\rest_utils.py:151\u001B[0m, in \u001B[0;36mhttp_request\u001B[1;34m(host_creds, endpoint, method, max_retries, backoff_factor, backoff_jitter, extra_headers, retry_codes, timeout, raise_on_status, respect_retry_after_header, **kwargs)\u001B[0m\n\u001B[0;32m    149\u001B[0m     \u001B[38;5;28;01mraise\u001B[39;00m InvalidUrlException(\u001B[38;5;124mf\u001B[39m\u001B[38;5;124m\"\u001B[39m\u001B[38;5;124mInvalid url: \u001B[39m\u001B[38;5;132;01m{\u001B[39;00murl\u001B[38;5;132;01m}\u001B[39;00m\u001B[38;5;124m\"\u001B[39m) \u001B[38;5;28;01mfrom\u001B[39;00m \u001B[38;5;21;01miu\u001B[39;00m\n\u001B[0;32m    150\u001B[0m \u001B[38;5;28;01mexcept\u001B[39;00m \u001B[38;5;167;01mException\u001B[39;00m \u001B[38;5;28;01mas\u001B[39;00m e:\n\u001B[1;32m--> 151\u001B[0m     \u001B[38;5;28;01mraise\u001B[39;00m MlflowException(\u001B[38;5;124mf\u001B[39m\u001B[38;5;124m\"\u001B[39m\u001B[38;5;124mAPI request to \u001B[39m\u001B[38;5;132;01m{\u001B[39;00murl\u001B[38;5;132;01m}\u001B[39;00m\u001B[38;5;124m failed with exception \u001B[39m\u001B[38;5;132;01m{\u001B[39;00me\u001B[38;5;132;01m}\u001B[39;00m\u001B[38;5;124m\"\u001B[39m)\n",
      "\u001B[1;31mMlflowException\u001B[0m: API request to https://mlflow-uvl.ifi.uni-heidelberg.de/api/2.0/mlflow-artifacts/artifacts/6/ea07e5979b2142128114559b5c743eb4/artifacts/0_model/model.safetensors failed with exception HTTPSConnectionPool(host='mlflow-uvl.ifi.uni-heidelberg.de', port=443): Max retries exceeded with url: /api/2.0/mlflow-artifacts/artifacts/6/ea07e5979b2142128114559b5c743eb4/artifacts/0_model/model.safetensors (Caused by SSLError(SSLEOFError(8, 'EOF occurred in violation of protocol (_ssl.c:2384)')))"
     ]
    }
   ],
   "source": [
    "'''\n",
    "from tooling.observability import get_run_id\n",
    "from tooling.config import DualModelStagedBERTConfig, StagedBERT\n",
    "\n",
    "from copy import deepcopy\n",
    "\n",
    "bert_2_bert_experiment_config = deepcopy(base_experiment_config)\n",
    "bert_2_bert_experiment_config.name = \"Production\"\n",
    "\n",
    "bert_2_bert_config = StagedBERT(\n",
    "    max_len=123,\n",
    "    layers=[],\n",
    "    learning_rate_bert=3e-05,\n",
    "    learning_rate_classifier=0.16,\n",
    "    number_epochs=8,\n",
    "    train_batch_size=8,\n",
    "    weight_decay=0.1,\n",
    "    weighted_classes=True,\n",
    "    validation_batch_size=64,\n",
    ")\n",
    "\n",
    "cfg = DualModelStagedBERTConfig(\n",
    "    bert=bert_2_bert_config,\n",
    "    experiment=bert_2_bert_experiment_config,\n",
    "    transformation=label_transformation_config,\n",
    "    first_model_bert=bert_1_cfg,\n",
    ")\n",
    "\n",
    "bert_2_bert_cfg: DualModelStagedBERTConfig = OmegaConf.structured(cfg)\n",
    "\n",
    "if run_experiments:\n",
    "    from experiments.dual_model_staged_bert import dual_stage_bert\n",
    "\n",
    "    dual_stage_bert(OmegaConf.create(bert_2_bert_cfg))\n",
    "\n",
    "bert_2_bert_run_id = get_run_id(bert_2_bert_cfg, pin_commit=pin_commits)\n",
    "\n",
    "print(bert_2_bert_run_id)\n",
    "\n",
    "bert_2_bert_run = mlflow.get_run(bert_2_bert_run_id)\n",
    "mlflow.artifacts.download_artifacts(\n",
    "    f\"{bert_2_bert_run.info.artifact_uri}/0_model\",\n",
    "    dst_path=Path(\"./src/service/models/\"),\n",
    ")\n",
    "try:\n",
    "    shutil.rmtree(Path(\"./src/service/models/bert_2_bert\"))\n",
    "except FileNotFoundError:\n",
    "    pass\n",
    "Path(\"./src/service/models/0_model\").rename(\"./src/service/models/bert_2_bert\")\n",
    "'''"
   ]
  },
  {
   "cell_type": "markdown",
   "metadata": {},
   "source": [
    "## Train BERT Second Stage Model for SNER First Stage\n"
   ]
  },
  {
   "cell_type": "code",
   "execution_count": null,
   "metadata": {},
   "outputs": [],
   "source": [
    "'''\n",
    "from tooling.observability import get_run_id\n",
    "from tooling.config import DualModelStagedBERTConfig, StagedBERT\n",
    "\n",
    "from copy import deepcopy\n",
    "\n",
    "import os\n",
    "\n",
    "os.environ[\"TOKENIZERS_PARALLELISM\"] = \"true\"\n",
    "\n",
    "bert_2_sner_experiment_config = deepcopy(base_experiment_config)\n",
    "bert_2_sner_experiment_config.name = \"Production\"\n",
    "\n",
    "bert_2_sner_config = StagedBERT(\n",
    "    max_len=123,\n",
    "    layers=[],\n",
    "    learning_rate_bert=3e-05,\n",
    "    learning_rate_classifier=0.16,\n",
    "    number_epochs=5,\n",
    "    train_batch_size=8,\n",
    "    weight_decay=0.1,\n",
    "    weighted_classes=True,\n",
    ")\n",
    "\n",
    "bert_2_sner_cfg = OmegaConf.structured(\n",
    "    DualModelStagedBERTConfig(\n",
    "        bert=bert_2_sner_config,\n",
    "        experiment=bert_2_sner_experiment_config,\n",
    "        transformation=label_transformation_config,\n",
    "        first_model_sner=sner_cfg,\n",
    "    )\n",
    ")\n",
    "\n",
    "if run_experiments:\n",
    "    from experiments.dual_model_staged_bert import dual_stage_bert\n",
    "\n",
    "    dual_stage_bert(OmegaConf.create(bert_2_sner_cfg))\n",
    "\n",
    "bert_2_sner_run_id = get_run_id(bert_2_sner_cfg, pin_commit=pin_commits)\n",
    "\n",
    "print(bert_2_sner_run_id)\n",
    "\n",
    "bert_2_sner_run = mlflow.get_run(bert_2_sner_run_id)\n",
    "mlflow.artifacts.download_artifacts(\n",
    "    f\"{bert_2_sner_run.info.artifact_uri}/0_model\",\n",
    "    dst_path=Path(\"./src/service/models/\"),\n",
    ")\n",
    "try:\n",
    "    shutil.rmtree(Path(\"./src/service/models/bert_2_sner\"))\n",
    "except FileNotFoundError:\n",
    "    pass\n",
    "\n",
    "Path(\"./src/service/models/0_model\").rename(\"./src/service/models/bert_2_sner\")\n",
    "'''"
   ]
  },
  {
   "cell_type": "markdown",
   "metadata": {},
   "source": [
    "## Train BERT Second Stage Model for BILSTM First Stage\n"
   ]
  },
  {
   "cell_type": "code",
   "execution_count": null,
   "metadata": {},
   "outputs": [],
   "source": [
    "'''\n",
    "from tooling.observability import get_run_id\n",
    "from tooling.config import DualModelStagedBERTConfig, StagedBERT\n",
    "\n",
    "from copy import deepcopy\n",
    "\n",
    "bilstm_config = BiLSTM(\n",
    "    batch_size=16,\n",
    "    learning_rate=0.006,\n",
    "    number_epochs=5,\n",
    "    weighted_classes=False,\n",
    "    sentence_length=106,\n",
    ")\n",
    "\n",
    "\n",
    "bert_2_bilstm_experiment_config = deepcopy(base_experiment_config)\n",
    "bert_2_bilstm_experiment_config.name = \"Production\"\n",
    "\n",
    "bert_2_bilstm_config = StagedBERT(\n",
    "    max_len=123,\n",
    "    layers=[],\n",
    "    learning_rate_bert=3e-05,\n",
    "    learning_rate_classifier=0.16,\n",
    "    number_epochs=5,\n",
    "    train_batch_size=8,\n",
    "    weight_decay=0.1,\n",
    "    weighted_classes=True,\n",
    ")\n",
    "\n",
    "bert_2_bilstm_cfg = OmegaConf.structured(\n",
    "    DualModelStagedBERTConfig(\n",
    "        bert=bert_2_bilstm_config,\n",
    "        experiment=bert_2_bilstm_experiment_config,\n",
    "        transformation=label_transformation_config,\n",
    "        first_model_bilstm=bilstm_cfg,\n",
    "    )\n",
    ")\n",
    "bert_2_bilstm_cfg.first_model_bilstm.bilstm.sentence_length = 106\n",
    "\n",
    "\n",
    "if run_experiments:\n",
    "    from experiments.dual_model_staged_bert import dual_stage_bert\n",
    "\n",
    "    dual_stage_bert(OmegaConf.create(bert_2_bilstm_cfg))\n",
    "\n",
    "bert_2_bilstm_run_id = get_run_id(bert_2_bilstm_cfg, pin_commit=pin_commits)\n",
    "\n",
    "print(bert_2_bilstm_run_id)\n",
    "\n",
    "bert_2_bilstm_run = mlflow.get_run(bert_2_bilstm_run_id)\n",
    "mlflow.artifacts.download_artifacts(\n",
    "    f\"{bert_2_bilstm_run.info.artifact_uri}/0_model\",\n",
    "    dst_path=Path(\"./src/service/models/\"),\n",
    ")\n",
    "try:\n",
    "    shutil.rmtree(Path(\"./src/service/models/bert_2_bilstm\"))\n",
    "except FileNotFoundError:\n",
    "    pass\n",
    "Path(\"./src/service/models/0_model\").rename(\n",
    "    \"./src/service/models/bert_2_bilstm\"\n",
    ")\n",
    "'''"
   ]
  },
  {
   "cell_type": "markdown",
   "metadata": {},
   "source": [
    "## Train BERT E2E Model\n"
   ]
  },
  {
   "cell_type": "code",
   "execution_count": 7,
   "outputs": [
    {
     "name": "stderr",
     "output_type": "stream",
     "text": [
      "06:09:31 INFO:PyTorch version 2.3.0+cu118 available.\n",
      "06:09:31 INFO:TensorFlow version 2.15.1 available.\n",
      "06:09:35 WARNING:From E:\\BERT\\uvl-tore-classifier-bert\\venv310\\lib\\site-packages\\keras\\src\\losses.py:2976: The name tf.losses.sparse_softmax_cross_entropy is deprecated. Please use tf.compat.v1.losses.sparse_softmax_cross_entropy instead.\n",
      "\n",
      "06:09:35 INFO:\n",
      "bert:\n",
      "  model: bert-large-uncased\n",
      "  type: BERT\n",
      "  max_len: 123\n",
      "  train_batch_size: 8\n",
      "  validation_batch_size: 32\n",
      "  number_epochs: 1\n",
      "  learning_rate_bert: 6.0e-05\n",
      "  learning_rate_classifier: 0.1\n",
      "  weight_decay: 0.01\n",
      "  weighted_classes: false\n",
      "experiment:\n",
      "  name: Production\n",
      "  description: ''\n",
      "  random_state: 125\n",
      "  folds: 5\n",
      "  iterations: 1\n",
      "  average: macro\n",
      "  dataset: all\n",
      "  lower_case: true\n",
      "  force: false\n",
      "  pin_commit: false\n",
      "  smote: false\n",
      "  smote_k_neighbors: 5\n",
      "  smote_sampling_strategy: not majority\n",
      "  smote_balance_to_average: false\n",
      "transformation:\n",
      "  description: None\n",
      "  type: Full\n",
      "  task: Task\n",
      "  goals: null\n",
      "  domain_data: Domain_Data\n",
      "  activity: Activity\n",
      "  stakeholder: Stakeholder\n",
      "  system_function: System_Function\n",
      "  interaction: Interaction\n",
      "  interaction_data: Interaction_Data\n",
      "  workspace: Workspace\n",
      "  software: System_Level\n",
      "  internal_action: System_Level\n",
      "  internal_data: System_Level\n",
      "  system_level: System_Level\n",
      "\n",
      "06:09:35 INFO:New experiment. Running\n",
      "06:09:35 INFO:Entering mlflow context\n",
      "06:09:37 INFO:Importing dataset: anno from E:\\BERT\\uvl-tore-classifier-bert\\src\\data\\datasets\\forum\\anno_test.json\n",
      "06:09:37 INFO:Importing dataset: anno from E:\\BERT\\uvl-tore-classifier-bert\\src\\data\\datasets\\forum\\anno_train.json\n",
      "06:09:37 INFO:Importing dataset: prolific from E:\\BERT\\uvl-tore-classifier-bert\\src\\data\\datasets\\prolific\\TORE_Coded_Answers_1_33.json\n",
      "06:09:37 INFO:Importing dataset: prolific from E:\\BERT\\uvl-tore-classifier-bert\\src\\data\\datasets\\prolific\\TORE_Coded_Answers_34_66.json\n",
      "06:09:37 INFO:Importing dataset: prolific from E:\\BERT\\uvl-tore-classifier-bert\\src\\data\\datasets\\prolific\\TORE_Coded_Answers_67_100.json\n",
      "06:09:38 INFO:Importing dataset: komoot from E:\\BERT\\uvl-tore-classifier-bert\\src\\data\\datasets\\app\\Komoot_AppReview.json\n",
      "06:10:49 ERROR:API request to https://mlflow-uvl.ifi.uni-heidelberg.de/api/2.0/mlflow-artifacts/artifacts/6/9f0a9d8307da45f29d017f024a5348c4/artifacts/imported_dataset.csv failed with exception HTTPSConnectionPool(host='mlflow-uvl.ifi.uni-heidelberg.de', port=443): Max retries exceeded with url: /api/2.0/mlflow-artifacts/artifacts/6/9f0a9d8307da45f29d017f024a5348c4/artifacts/imported_dataset.csv (Caused by ResponseError('too many 500 error responses'))\n"
     ]
    },
    {
     "ename": "MlflowException",
     "evalue": "API request to https://mlflow-uvl.ifi.uni-heidelberg.de/api/2.0/mlflow-artifacts/artifacts/6/9f0a9d8307da45f29d017f024a5348c4/artifacts/imported_dataset.csv failed with exception HTTPSConnectionPool(host='mlflow-uvl.ifi.uni-heidelberg.de', port=443): Max retries exceeded with url: /api/2.0/mlflow-artifacts/artifacts/6/9f0a9d8307da45f29d017f024a5348c4/artifacts/imported_dataset.csv (Caused by ResponseError('too many 500 error responses'))",
     "output_type": "error",
     "traceback": [
      "\u001B[1;31m---------------------------------------------------------------------------\u001B[0m",
      "\u001B[1;31mResponseError\u001B[0m                             Traceback (most recent call last)",
      "\u001B[1;31mResponseError\u001B[0m: too many 500 error responses",
      "\nThe above exception was the direct cause of the following exception:\n",
      "\u001B[1;31mMaxRetryError\u001B[0m                             Traceback (most recent call last)",
      "File \u001B[1;32mE:\\BERT\\uvl-tore-classifier-bert\\venv310\\lib\\site-packages\\requests\\adapters.py:486\u001B[0m, in \u001B[0;36mHTTPAdapter.send\u001B[1;34m(self, request, stream, timeout, verify, cert, proxies)\u001B[0m\n\u001B[0;32m    485\u001B[0m \u001B[38;5;28;01mtry\u001B[39;00m:\n\u001B[1;32m--> 486\u001B[0m     resp \u001B[38;5;241m=\u001B[39m \u001B[43mconn\u001B[49m\u001B[38;5;241;43m.\u001B[39;49m\u001B[43murlopen\u001B[49m\u001B[43m(\u001B[49m\n\u001B[0;32m    487\u001B[0m \u001B[43m        \u001B[49m\u001B[43mmethod\u001B[49m\u001B[38;5;241;43m=\u001B[39;49m\u001B[43mrequest\u001B[49m\u001B[38;5;241;43m.\u001B[39;49m\u001B[43mmethod\u001B[49m\u001B[43m,\u001B[49m\n\u001B[0;32m    488\u001B[0m \u001B[43m        \u001B[49m\u001B[43murl\u001B[49m\u001B[38;5;241;43m=\u001B[39;49m\u001B[43murl\u001B[49m\u001B[43m,\u001B[49m\n\u001B[0;32m    489\u001B[0m \u001B[43m        \u001B[49m\u001B[43mbody\u001B[49m\u001B[38;5;241;43m=\u001B[39;49m\u001B[43mrequest\u001B[49m\u001B[38;5;241;43m.\u001B[39;49m\u001B[43mbody\u001B[49m\u001B[43m,\u001B[49m\n\u001B[0;32m    490\u001B[0m \u001B[43m        \u001B[49m\u001B[43mheaders\u001B[49m\u001B[38;5;241;43m=\u001B[39;49m\u001B[43mrequest\u001B[49m\u001B[38;5;241;43m.\u001B[39;49m\u001B[43mheaders\u001B[49m\u001B[43m,\u001B[49m\n\u001B[0;32m    491\u001B[0m \u001B[43m        \u001B[49m\u001B[43mredirect\u001B[49m\u001B[38;5;241;43m=\u001B[39;49m\u001B[38;5;28;43;01mFalse\u001B[39;49;00m\u001B[43m,\u001B[49m\n\u001B[0;32m    492\u001B[0m \u001B[43m        \u001B[49m\u001B[43massert_same_host\u001B[49m\u001B[38;5;241;43m=\u001B[39;49m\u001B[38;5;28;43;01mFalse\u001B[39;49;00m\u001B[43m,\u001B[49m\n\u001B[0;32m    493\u001B[0m \u001B[43m        \u001B[49m\u001B[43mpreload_content\u001B[49m\u001B[38;5;241;43m=\u001B[39;49m\u001B[38;5;28;43;01mFalse\u001B[39;49;00m\u001B[43m,\u001B[49m\n\u001B[0;32m    494\u001B[0m \u001B[43m        \u001B[49m\u001B[43mdecode_content\u001B[49m\u001B[38;5;241;43m=\u001B[39;49m\u001B[38;5;28;43;01mFalse\u001B[39;49;00m\u001B[43m,\u001B[49m\n\u001B[0;32m    495\u001B[0m \u001B[43m        \u001B[49m\u001B[43mretries\u001B[49m\u001B[38;5;241;43m=\u001B[39;49m\u001B[38;5;28;43mself\u001B[39;49m\u001B[38;5;241;43m.\u001B[39;49m\u001B[43mmax_retries\u001B[49m\u001B[43m,\u001B[49m\n\u001B[0;32m    496\u001B[0m \u001B[43m        \u001B[49m\u001B[43mtimeout\u001B[49m\u001B[38;5;241;43m=\u001B[39;49m\u001B[43mtimeout\u001B[49m\u001B[43m,\u001B[49m\n\u001B[0;32m    497\u001B[0m \u001B[43m        \u001B[49m\u001B[43mchunked\u001B[49m\u001B[38;5;241;43m=\u001B[39;49m\u001B[43mchunked\u001B[49m\u001B[43m,\u001B[49m\n\u001B[0;32m    498\u001B[0m \u001B[43m    \u001B[49m\u001B[43m)\u001B[49m\n\u001B[0;32m    500\u001B[0m \u001B[38;5;28;01mexcept\u001B[39;00m (ProtocolError, \u001B[38;5;167;01mOSError\u001B[39;00m) \u001B[38;5;28;01mas\u001B[39;00m err:\n",
      "File \u001B[1;32mE:\\BERT\\uvl-tore-classifier-bert\\venv310\\lib\\site-packages\\urllib3\\connectionpool.py:948\u001B[0m, in \u001B[0;36mHTTPConnectionPool.urlopen\u001B[1;34m(self, method, url, body, headers, retries, redirect, assert_same_host, timeout, pool_timeout, release_conn, chunked, body_pos, preload_content, decode_content, **response_kw)\u001B[0m\n\u001B[0;32m    947\u001B[0m     log\u001B[38;5;241m.\u001B[39mdebug(\u001B[38;5;124m\"\u001B[39m\u001B[38;5;124mRetry: \u001B[39m\u001B[38;5;132;01m%s\u001B[39;00m\u001B[38;5;124m\"\u001B[39m, url)\n\u001B[1;32m--> 948\u001B[0m     \u001B[38;5;28;01mreturn\u001B[39;00m \u001B[38;5;28mself\u001B[39m\u001B[38;5;241m.\u001B[39murlopen(\n\u001B[0;32m    949\u001B[0m         method,\n\u001B[0;32m    950\u001B[0m         url,\n\u001B[0;32m    951\u001B[0m         body,\n\u001B[0;32m    952\u001B[0m         headers,\n\u001B[0;32m    953\u001B[0m         retries\u001B[38;5;241m=\u001B[39mretries,\n\u001B[0;32m    954\u001B[0m         redirect\u001B[38;5;241m=\u001B[39mredirect,\n\u001B[0;32m    955\u001B[0m         assert_same_host\u001B[38;5;241m=\u001B[39massert_same_host,\n\u001B[0;32m    956\u001B[0m         timeout\u001B[38;5;241m=\u001B[39mtimeout,\n\u001B[0;32m    957\u001B[0m         pool_timeout\u001B[38;5;241m=\u001B[39mpool_timeout,\n\u001B[0;32m    958\u001B[0m         release_conn\u001B[38;5;241m=\u001B[39mrelease_conn,\n\u001B[0;32m    959\u001B[0m         chunked\u001B[38;5;241m=\u001B[39mchunked,\n\u001B[0;32m    960\u001B[0m         body_pos\u001B[38;5;241m=\u001B[39mbody_pos,\n\u001B[0;32m    961\u001B[0m         preload_content\u001B[38;5;241m=\u001B[39mpreload_content,\n\u001B[0;32m    962\u001B[0m         decode_content\u001B[38;5;241m=\u001B[39mdecode_content,\n\u001B[0;32m    963\u001B[0m         \u001B[38;5;241m*\u001B[39m\u001B[38;5;241m*\u001B[39mresponse_kw,\n\u001B[0;32m    964\u001B[0m     )\n\u001B[0;32m    966\u001B[0m \u001B[38;5;28;01mreturn\u001B[39;00m response\n",
      "File \u001B[1;32mE:\\BERT\\uvl-tore-classifier-bert\\venv310\\lib\\site-packages\\urllib3\\connectionpool.py:948\u001B[0m, in \u001B[0;36mHTTPConnectionPool.urlopen\u001B[1;34m(self, method, url, body, headers, retries, redirect, assert_same_host, timeout, pool_timeout, release_conn, chunked, body_pos, preload_content, decode_content, **response_kw)\u001B[0m\n\u001B[0;32m    947\u001B[0m     log\u001B[38;5;241m.\u001B[39mdebug(\u001B[38;5;124m\"\u001B[39m\u001B[38;5;124mRetry: \u001B[39m\u001B[38;5;132;01m%s\u001B[39;00m\u001B[38;5;124m\"\u001B[39m, url)\n\u001B[1;32m--> 948\u001B[0m     \u001B[38;5;28;01mreturn\u001B[39;00m \u001B[38;5;28mself\u001B[39m\u001B[38;5;241m.\u001B[39murlopen(\n\u001B[0;32m    949\u001B[0m         method,\n\u001B[0;32m    950\u001B[0m         url,\n\u001B[0;32m    951\u001B[0m         body,\n\u001B[0;32m    952\u001B[0m         headers,\n\u001B[0;32m    953\u001B[0m         retries\u001B[38;5;241m=\u001B[39mretries,\n\u001B[0;32m    954\u001B[0m         redirect\u001B[38;5;241m=\u001B[39mredirect,\n\u001B[0;32m    955\u001B[0m         assert_same_host\u001B[38;5;241m=\u001B[39massert_same_host,\n\u001B[0;32m    956\u001B[0m         timeout\u001B[38;5;241m=\u001B[39mtimeout,\n\u001B[0;32m    957\u001B[0m         pool_timeout\u001B[38;5;241m=\u001B[39mpool_timeout,\n\u001B[0;32m    958\u001B[0m         release_conn\u001B[38;5;241m=\u001B[39mrelease_conn,\n\u001B[0;32m    959\u001B[0m         chunked\u001B[38;5;241m=\u001B[39mchunked,\n\u001B[0;32m    960\u001B[0m         body_pos\u001B[38;5;241m=\u001B[39mbody_pos,\n\u001B[0;32m    961\u001B[0m         preload_content\u001B[38;5;241m=\u001B[39mpreload_content,\n\u001B[0;32m    962\u001B[0m         decode_content\u001B[38;5;241m=\u001B[39mdecode_content,\n\u001B[0;32m    963\u001B[0m         \u001B[38;5;241m*\u001B[39m\u001B[38;5;241m*\u001B[39mresponse_kw,\n\u001B[0;32m    964\u001B[0m     )\n\u001B[0;32m    966\u001B[0m \u001B[38;5;28;01mreturn\u001B[39;00m response\n",
      "    \u001B[1;31m[... skipping similar frames: HTTPConnectionPool.urlopen at line 948 (2 times)]\u001B[0m\n",
      "File \u001B[1;32mE:\\BERT\\uvl-tore-classifier-bert\\venv310\\lib\\site-packages\\urllib3\\connectionpool.py:948\u001B[0m, in \u001B[0;36mHTTPConnectionPool.urlopen\u001B[1;34m(self, method, url, body, headers, retries, redirect, assert_same_host, timeout, pool_timeout, release_conn, chunked, body_pos, preload_content, decode_content, **response_kw)\u001B[0m\n\u001B[0;32m    947\u001B[0m     log\u001B[38;5;241m.\u001B[39mdebug(\u001B[38;5;124m\"\u001B[39m\u001B[38;5;124mRetry: \u001B[39m\u001B[38;5;132;01m%s\u001B[39;00m\u001B[38;5;124m\"\u001B[39m, url)\n\u001B[1;32m--> 948\u001B[0m     \u001B[38;5;28;01mreturn\u001B[39;00m \u001B[38;5;28mself\u001B[39m\u001B[38;5;241m.\u001B[39murlopen(\n\u001B[0;32m    949\u001B[0m         method,\n\u001B[0;32m    950\u001B[0m         url,\n\u001B[0;32m    951\u001B[0m         body,\n\u001B[0;32m    952\u001B[0m         headers,\n\u001B[0;32m    953\u001B[0m         retries\u001B[38;5;241m=\u001B[39mretries,\n\u001B[0;32m    954\u001B[0m         redirect\u001B[38;5;241m=\u001B[39mredirect,\n\u001B[0;32m    955\u001B[0m         assert_same_host\u001B[38;5;241m=\u001B[39massert_same_host,\n\u001B[0;32m    956\u001B[0m         timeout\u001B[38;5;241m=\u001B[39mtimeout,\n\u001B[0;32m    957\u001B[0m         pool_timeout\u001B[38;5;241m=\u001B[39mpool_timeout,\n\u001B[0;32m    958\u001B[0m         release_conn\u001B[38;5;241m=\u001B[39mrelease_conn,\n\u001B[0;32m    959\u001B[0m         chunked\u001B[38;5;241m=\u001B[39mchunked,\n\u001B[0;32m    960\u001B[0m         body_pos\u001B[38;5;241m=\u001B[39mbody_pos,\n\u001B[0;32m    961\u001B[0m         preload_content\u001B[38;5;241m=\u001B[39mpreload_content,\n\u001B[0;32m    962\u001B[0m         decode_content\u001B[38;5;241m=\u001B[39mdecode_content,\n\u001B[0;32m    963\u001B[0m         \u001B[38;5;241m*\u001B[39m\u001B[38;5;241m*\u001B[39mresponse_kw,\n\u001B[0;32m    964\u001B[0m     )\n\u001B[0;32m    966\u001B[0m \u001B[38;5;28;01mreturn\u001B[39;00m response\n",
      "File \u001B[1;32mE:\\BERT\\uvl-tore-classifier-bert\\venv310\\lib\\site-packages\\urllib3\\connectionpool.py:938\u001B[0m, in \u001B[0;36mHTTPConnectionPool.urlopen\u001B[1;34m(self, method, url, body, headers, retries, redirect, assert_same_host, timeout, pool_timeout, release_conn, chunked, body_pos, preload_content, decode_content, **response_kw)\u001B[0m\n\u001B[0;32m    937\u001B[0m \u001B[38;5;28;01mtry\u001B[39;00m:\n\u001B[1;32m--> 938\u001B[0m     retries \u001B[38;5;241m=\u001B[39m \u001B[43mretries\u001B[49m\u001B[38;5;241;43m.\u001B[39;49m\u001B[43mincrement\u001B[49m\u001B[43m(\u001B[49m\u001B[43mmethod\u001B[49m\u001B[43m,\u001B[49m\u001B[43m \u001B[49m\u001B[43murl\u001B[49m\u001B[43m,\u001B[49m\u001B[43m \u001B[49m\u001B[43mresponse\u001B[49m\u001B[38;5;241;43m=\u001B[39;49m\u001B[43mresponse\u001B[49m\u001B[43m,\u001B[49m\u001B[43m \u001B[49m\u001B[43m_pool\u001B[49m\u001B[38;5;241;43m=\u001B[39;49m\u001B[38;5;28;43mself\u001B[39;49m\u001B[43m)\u001B[49m\n\u001B[0;32m    939\u001B[0m \u001B[38;5;28;01mexcept\u001B[39;00m MaxRetryError:\n",
      "File \u001B[1;32mE:\\BERT\\uvl-tore-classifier-bert\\venv310\\lib\\site-packages\\urllib3\\util\\retry.py:515\u001B[0m, in \u001B[0;36mRetry.increment\u001B[1;34m(self, method, url, response, error, _pool, _stacktrace)\u001B[0m\n\u001B[0;32m    514\u001B[0m     reason \u001B[38;5;241m=\u001B[39m error \u001B[38;5;129;01mor\u001B[39;00m ResponseError(cause)\n\u001B[1;32m--> 515\u001B[0m     \u001B[38;5;28;01mraise\u001B[39;00m MaxRetryError(_pool, url, reason) \u001B[38;5;28;01mfrom\u001B[39;00m \u001B[38;5;21;01mreason\u001B[39;00m  \u001B[38;5;66;03m# type: ignore[arg-type]\u001B[39;00m\n\u001B[0;32m    517\u001B[0m log\u001B[38;5;241m.\u001B[39mdebug(\u001B[38;5;124m\"\u001B[39m\u001B[38;5;124mIncremented Retry for (url=\u001B[39m\u001B[38;5;124m'\u001B[39m\u001B[38;5;132;01m%s\u001B[39;00m\u001B[38;5;124m'\u001B[39m\u001B[38;5;124m): \u001B[39m\u001B[38;5;132;01m%r\u001B[39;00m\u001B[38;5;124m\"\u001B[39m, url, new_retry)\n",
      "\u001B[1;31mMaxRetryError\u001B[0m: HTTPSConnectionPool(host='mlflow-uvl.ifi.uni-heidelberg.de', port=443): Max retries exceeded with url: /api/2.0/mlflow-artifacts/artifacts/6/9f0a9d8307da45f29d017f024a5348c4/artifacts/imported_dataset.csv (Caused by ResponseError('too many 500 error responses'))",
      "\nDuring handling of the above exception, another exception occurred:\n",
      "\u001B[1;31mRetryError\u001B[0m                                Traceback (most recent call last)",
      "File \u001B[1;32mE:\\BERT\\uvl-tore-classifier-bert\\venv310\\lib\\site-packages\\mlflow\\utils\\rest_utils.py:128\u001B[0m, in \u001B[0;36mhttp_request\u001B[1;34m(host_creds, endpoint, method, max_retries, backoff_factor, backoff_jitter, extra_headers, retry_codes, timeout, raise_on_status, respect_retry_after_header, **kwargs)\u001B[0m\n\u001B[0;32m    127\u001B[0m \u001B[38;5;28;01mtry\u001B[39;00m:\n\u001B[1;32m--> 128\u001B[0m     \u001B[38;5;28;01mreturn\u001B[39;00m _get_http_response_with_retries(\n\u001B[0;32m    129\u001B[0m         method,\n\u001B[0;32m    130\u001B[0m         url,\n\u001B[0;32m    131\u001B[0m         max_retries,\n\u001B[0;32m    132\u001B[0m         backoff_factor,\n\u001B[0;32m    133\u001B[0m         backoff_jitter,\n\u001B[0;32m    134\u001B[0m         retry_codes,\n\u001B[0;32m    135\u001B[0m         raise_on_status,\n\u001B[0;32m    136\u001B[0m         headers\u001B[38;5;241m=\u001B[39mheaders,\n\u001B[0;32m    137\u001B[0m         verify\u001B[38;5;241m=\u001B[39mhost_creds\u001B[38;5;241m.\u001B[39mverify,\n\u001B[0;32m    138\u001B[0m         timeout\u001B[38;5;241m=\u001B[39mtimeout,\n\u001B[0;32m    139\u001B[0m         respect_retry_after_header\u001B[38;5;241m=\u001B[39mrespect_retry_after_header,\n\u001B[0;32m    140\u001B[0m         \u001B[38;5;241m*\u001B[39m\u001B[38;5;241m*\u001B[39mkwargs,\n\u001B[0;32m    141\u001B[0m     )\n\u001B[0;32m    142\u001B[0m \u001B[38;5;28;01mexcept\u001B[39;00m requests\u001B[38;5;241m.\u001B[39mexceptions\u001B[38;5;241m.\u001B[39mTimeout \u001B[38;5;28;01mas\u001B[39;00m to:\n",
      "File \u001B[1;32mE:\\BERT\\uvl-tore-classifier-bert\\venv310\\lib\\site-packages\\mlflow\\utils\\request_utils.py:228\u001B[0m, in \u001B[0;36m_get_http_response_with_retries\u001B[1;34m(method, url, max_retries, backoff_factor, backoff_jitter, retry_codes, raise_on_status, allow_redirects, respect_retry_after_header, **kwargs)\u001B[0m\n\u001B[0;32m    226\u001B[0m allow_redirects \u001B[38;5;241m=\u001B[39m env_value \u001B[38;5;28;01mif\u001B[39;00m allow_redirects \u001B[38;5;129;01mis\u001B[39;00m \u001B[38;5;28;01mNone\u001B[39;00m \u001B[38;5;28;01melse\u001B[39;00m allow_redirects\n\u001B[1;32m--> 228\u001B[0m \u001B[38;5;28;01mreturn\u001B[39;00m session\u001B[38;5;241m.\u001B[39mrequest(method, url, allow_redirects\u001B[38;5;241m=\u001B[39mallow_redirects, \u001B[38;5;241m*\u001B[39m\u001B[38;5;241m*\u001B[39mkwargs)\n",
      "File \u001B[1;32mE:\\BERT\\uvl-tore-classifier-bert\\venv310\\lib\\site-packages\\requests\\sessions.py:589\u001B[0m, in \u001B[0;36mSession.request\u001B[1;34m(self, method, url, params, data, headers, cookies, files, auth, timeout, allow_redirects, proxies, hooks, stream, verify, cert, json)\u001B[0m\n\u001B[0;32m    588\u001B[0m send_kwargs\u001B[38;5;241m.\u001B[39mupdate(settings)\n\u001B[1;32m--> 589\u001B[0m resp \u001B[38;5;241m=\u001B[39m \u001B[38;5;28mself\u001B[39m\u001B[38;5;241m.\u001B[39msend(prep, \u001B[38;5;241m*\u001B[39m\u001B[38;5;241m*\u001B[39msend_kwargs)\n\u001B[0;32m    591\u001B[0m \u001B[38;5;28;01mreturn\u001B[39;00m resp\n",
      "File \u001B[1;32mE:\\BERT\\uvl-tore-classifier-bert\\venv310\\lib\\site-packages\\requests\\sessions.py:703\u001B[0m, in \u001B[0;36mSession.send\u001B[1;34m(self, request, **kwargs)\u001B[0m\n\u001B[0;32m    702\u001B[0m \u001B[38;5;66;03m# Send the request\u001B[39;00m\n\u001B[1;32m--> 703\u001B[0m r \u001B[38;5;241m=\u001B[39m adapter\u001B[38;5;241m.\u001B[39msend(request, \u001B[38;5;241m*\u001B[39m\u001B[38;5;241m*\u001B[39mkwargs)\n\u001B[0;32m    705\u001B[0m \u001B[38;5;66;03m# Total elapsed time of the request (approximately)\u001B[39;00m\n",
      "File \u001B[1;32mE:\\BERT\\uvl-tore-classifier-bert\\venv310\\lib\\site-packages\\requests\\adapters.py:510\u001B[0m, in \u001B[0;36mHTTPAdapter.send\u001B[1;34m(self, request, stream, timeout, verify, cert, proxies)\u001B[0m\n\u001B[0;32m    509\u001B[0m \u001B[38;5;28;01mif\u001B[39;00m \u001B[38;5;28misinstance\u001B[39m(e\u001B[38;5;241m.\u001B[39mreason, ResponseError):\n\u001B[1;32m--> 510\u001B[0m     \u001B[38;5;28;01mraise\u001B[39;00m RetryError(e, request\u001B[38;5;241m=\u001B[39mrequest)\n\u001B[0;32m    512\u001B[0m \u001B[38;5;28;01mif\u001B[39;00m \u001B[38;5;28misinstance\u001B[39m(e\u001B[38;5;241m.\u001B[39mreason, _ProxyError):\n",
      "\u001B[1;31mRetryError\u001B[0m: HTTPSConnectionPool(host='mlflow-uvl.ifi.uni-heidelberg.de', port=443): Max retries exceeded with url: /api/2.0/mlflow-artifacts/artifacts/6/9f0a9d8307da45f29d017f024a5348c4/artifacts/imported_dataset.csv (Caused by ResponseError('too many 500 error responses'))",
      "\nDuring handling of the above exception, another exception occurred:\n",
      "\u001B[1;31mMlflowException\u001B[0m                           Traceback (most recent call last)",
      "Cell \u001B[1;32mIn[7], line 30\u001B[0m\n\u001B[0;32m     27\u001B[0m \u001B[38;5;28;01mif\u001B[39;00m run_experiments:\n\u001B[0;32m     28\u001B[0m     \u001B[38;5;28;01mfrom\u001B[39;00m \u001B[38;5;21;01mexperiments\u001B[39;00m\u001B[38;5;21;01m.\u001B[39;00m\u001B[38;5;21;01mbert\u001B[39;00m \u001B[38;5;28;01mimport\u001B[39;00m bert\n\u001B[1;32m---> 30\u001B[0m     \u001B[43mbert\u001B[49m\u001B[43m(\u001B[49m\u001B[43mOmegaConf\u001B[49m\u001B[38;5;241;43m.\u001B[39;49m\u001B[43mcreate\u001B[49m\u001B[43m(\u001B[49m\u001B[43mbert_cfg\u001B[49m\u001B[43m)\u001B[49m\u001B[43m)\u001B[49m\n\u001B[0;32m     32\u001B[0m bert_run_id \u001B[38;5;241m=\u001B[39m get_run_id(bert_cfg, pin_commit\u001B[38;5;241m=\u001B[39mpin_commits)\n\u001B[0;32m     34\u001B[0m \u001B[38;5;28mprint\u001B[39m(bert_run_id)\n",
      "File \u001B[1;32mE:\\BERT\\uvl-tore-classifier-bert\\venv310\\lib\\site-packages\\hydra\\main.py:83\u001B[0m, in \u001B[0;36mmain.<locals>.main_decorator.<locals>.decorated_main\u001B[1;34m(cfg_passthrough)\u001B[0m\n\u001B[0;32m     80\u001B[0m \u001B[38;5;129m@functools\u001B[39m\u001B[38;5;241m.\u001B[39mwraps(task_function)\n\u001B[0;32m     81\u001B[0m \u001B[38;5;28;01mdef\u001B[39;00m \u001B[38;5;21mdecorated_main\u001B[39m(cfg_passthrough: Optional[DictConfig] \u001B[38;5;241m=\u001B[39m \u001B[38;5;28;01mNone\u001B[39;00m) \u001B[38;5;241m-\u001B[39m\u001B[38;5;241m>\u001B[39m Any:\n\u001B[0;32m     82\u001B[0m     \u001B[38;5;28;01mif\u001B[39;00m cfg_passthrough \u001B[38;5;129;01mis\u001B[39;00m \u001B[38;5;129;01mnot\u001B[39;00m \u001B[38;5;28;01mNone\u001B[39;00m:\n\u001B[1;32m---> 83\u001B[0m         \u001B[38;5;28;01mreturn\u001B[39;00m \u001B[43mtask_function\u001B[49m\u001B[43m(\u001B[49m\u001B[43mcfg_passthrough\u001B[49m\u001B[43m)\u001B[49m\n\u001B[0;32m     84\u001B[0m     \u001B[38;5;28;01melse\u001B[39;00m:\n\u001B[0;32m     85\u001B[0m         args_parser \u001B[38;5;241m=\u001B[39m get_args_parser()\n",
      "File \u001B[1;32mE:\\BERT\\uvl-tore-classifier-bert\\src\\experiments\\bert.py:41\u001B[0m, in \u001B[0;36mbert\u001B[1;34m(cfg)\u001B[0m\n\u001B[0;32m     39\u001B[0m         logging\u001B[38;5;241m.\u001B[39merror(e)\n\u001B[0;32m     40\u001B[0m         end_tracing()\n\u001B[1;32m---> 41\u001B[0m         \u001B[38;5;28;01mraise\u001B[39;00m e\n\u001B[0;32m     43\u001B[0m logging\u001B[38;5;241m.\u001B[39minfo(\u001B[38;5;124m\"\u001B[39m\u001B[38;5;124mLeft mlflow context\u001B[39m\u001B[38;5;124m\"\u001B[39m)\n\u001B[0;32m     44\u001B[0m \u001B[38;5;28;01mreturn\u001B[39;00m\n",
      "File \u001B[1;32mE:\\BERT\\uvl-tore-classifier-bert\\src\\experiments\\bert.py:30\u001B[0m, in \u001B[0;36mbert\u001B[1;34m(cfg)\u001B[0m\n\u001B[0;32m     28\u001B[0m \u001B[38;5;28;01mwith\u001B[39;00m config_mlflow(cfg\u001B[38;5;241m=\u001B[39mcfg) \u001B[38;5;28;01mas\u001B[39;00m current_run:\n\u001B[0;32m     29\u001B[0m     \u001B[38;5;28;01mtry\u001B[39;00m:\n\u001B[1;32m---> 30\u001B[0m         \u001B[43mbert_pipeline\u001B[49m\u001B[43m(\u001B[49m\u001B[43mcfg\u001B[49m\u001B[43m,\u001B[49m\u001B[43m \u001B[49m\u001B[43mrun_name\u001B[49m\u001B[38;5;241;43m=\u001B[39;49m\u001B[43mcurrent_run\u001B[49m\u001B[38;5;241;43m.\u001B[39;49m\u001B[43minfo\u001B[49m\u001B[38;5;241;43m.\u001B[39;49m\u001B[43mrun_name\u001B[49m\u001B[43m)\u001B[49m\n\u001B[0;32m     31\u001B[0m         end_tracing()\n\u001B[0;32m     33\u001B[0m     \u001B[38;5;28;01mexcept\u001B[39;00m \u001B[38;5;167;01mKeyboardInterrupt\u001B[39;00m:\n",
      "File \u001B[1;32mE:\\BERT\\uvl-tore-classifier-bert\\src\\classifiers\\bert\\pipeline.py:39\u001B[0m, in \u001B[0;36mbert_pipeline\u001B[1;34m(cfg, run_name)\u001B[0m\n\u001B[0;32m     36\u001B[0m device \u001B[38;5;241m=\u001B[39m setup_device()\n\u001B[0;32m     38\u001B[0m \u001B[38;5;66;03m# Import Dataset\u001B[39;00m\n\u001B[1;32m---> 39\u001B[0m \u001B[43mimport_dataset\u001B[49m\u001B[43m(\u001B[49m\u001B[43mcfg\u001B[49m\u001B[43m,\u001B[49m\u001B[43m \u001B[49m\u001B[43mrun_name\u001B[49m\u001B[43m)\u001B[49m\n\u001B[0;32m     41\u001B[0m \u001B[38;5;66;03m# Setup Tokenizer\u001B[39;00m\n\u001B[0;32m     42\u001B[0m TOKENIZER \u001B[38;5;241m=\u001B[39m BertTokenizerFast\u001B[38;5;241m.\u001B[39mfrom_pretrained(cfg\u001B[38;5;241m.\u001B[39mbert\u001B[38;5;241m.\u001B[39mmodel)\n",
      "File \u001B[1;32mE:\\BERT\\uvl-tore-classifier-bert\\src\\tooling\\loading.py:261\u001B[0m, in \u001B[0;36mimport_dataset\u001B[1;34m(cfg, run_name)\u001B[0m\n\u001B[0;32m    257\u001B[0m dataset_information \u001B[38;5;241m=\u001B[39m get_dataset_information(cfg\u001B[38;5;241m.\u001B[39mexperiment\u001B[38;5;241m.\u001B[39mdataset)\n\u001B[0;32m    258\u001B[0m imported_dataset_path \u001B[38;5;241m=\u001B[39m _import_dataset(\n\u001B[0;32m    259\u001B[0m     name\u001B[38;5;241m=\u001B[39mrun_name, ds_spec\u001B[38;5;241m=\u001B[39mdataset_information\n\u001B[0;32m    260\u001B[0m )\n\u001B[1;32m--> 261\u001B[0m \u001B[43mlog_artifacts\u001B[49m\u001B[43m(\u001B[49m\u001B[38;5;28;43mdict\u001B[39;49m\u001B[43m(\u001B[49m\u001B[43mimported_dataset_path\u001B[49m\u001B[43m)\u001B[49m\u001B[43m)\u001B[49m\n\u001B[0;32m    262\u001B[0m \u001B[38;5;28;01mreturn\u001B[39;00m imported_dataset_path\n",
      "File \u001B[1;32mE:\\BERT\\uvl-tore-classifier-bert\\src\\tooling\\observability.py:42\u001B[0m, in \u001B[0;36mlog_artifacts\u001B[1;34m(artifact_paths)\u001B[0m\n\u001B[0;32m     40\u001B[0m         \u001B[38;5;28;01mif\u001B[39;00m \u001B[38;5;28misinstance\u001B[39m(value, Path):\n\u001B[0;32m     41\u001B[0m             \u001B[38;5;28;01mif\u001B[39;00m \u001B[38;5;129;01mnot\u001B[39;00m os\u001B[38;5;241m.\u001B[39mgetenv(\u001B[38;5;124m\"\u001B[39m\u001B[38;5;124mDISABLE_MLFLOW\u001B[39m\u001B[38;5;124m\"\u001B[39m):\n\u001B[1;32m---> 42\u001B[0m                 \u001B[43mmlflow\u001B[49m\u001B[38;5;241;43m.\u001B[39;49m\u001B[43mlog_artifact\u001B[49m\u001B[43m(\u001B[49m\u001B[43mvalue\u001B[49m\u001B[43m)\u001B[49m\n\u001B[0;32m     43\u001B[0m \u001B[38;5;28;01melif\u001B[39;00m \u001B[38;5;28misinstance\u001B[39m(artifact_paths, Iterable):\n\u001B[0;32m     44\u001B[0m     \u001B[38;5;28;01mfor\u001B[39;00m path \u001B[38;5;129;01min\u001B[39;00m artifact_paths:\n",
      "File \u001B[1;32mE:\\BERT\\uvl-tore-classifier-bert\\venv310\\lib\\site-packages\\mlflow\\tracking\\fluent.py:1068\u001B[0m, in \u001B[0;36mlog_artifact\u001B[1;34m(local_path, artifact_path, run_id)\u001B[0m\n\u001B[0;32m   1040\u001B[0m \u001B[38;5;250m\u001B[39m\u001B[38;5;124;03m\"\"\"\u001B[39;00m\n\u001B[0;32m   1041\u001B[0m \u001B[38;5;124;03mLog a local file or directory as an artifact of the currently active run. If no run is\u001B[39;00m\n\u001B[0;32m   1042\u001B[0m \u001B[38;5;124;03mactive, this method will create a new active run.\u001B[39;00m\n\u001B[1;32m   (...)\u001B[0m\n\u001B[0;32m   1065\u001B[0m \u001B[38;5;124;03m            mlflow.log_artifact(path)\u001B[39;00m\n\u001B[0;32m   1066\u001B[0m \u001B[38;5;124;03m\"\"\"\u001B[39;00m\n\u001B[0;32m   1067\u001B[0m run_id \u001B[38;5;241m=\u001B[39m run_id \u001B[38;5;129;01mor\u001B[39;00m _get_or_start_run()\u001B[38;5;241m.\u001B[39minfo\u001B[38;5;241m.\u001B[39mrun_id\n\u001B[1;32m-> 1068\u001B[0m \u001B[43mMlflowClient\u001B[49m\u001B[43m(\u001B[49m\u001B[43m)\u001B[49m\u001B[38;5;241;43m.\u001B[39;49m\u001B[43mlog_artifact\u001B[49m\u001B[43m(\u001B[49m\u001B[43mrun_id\u001B[49m\u001B[43m,\u001B[49m\u001B[43m \u001B[49m\u001B[43mlocal_path\u001B[49m\u001B[43m,\u001B[49m\u001B[43m \u001B[49m\u001B[43martifact_path\u001B[49m\u001B[43m)\u001B[49m\n",
      "File \u001B[1;32mE:\\BERT\\uvl-tore-classifier-bert\\venv310\\lib\\site-packages\\mlflow\\tracking\\client.py:1215\u001B[0m, in \u001B[0;36mMlflowClient.log_artifact\u001B[1;34m(self, run_id, local_path, artifact_path)\u001B[0m\n\u001B[0;32m   1172\u001B[0m \u001B[38;5;28;01mdef\u001B[39;00m \u001B[38;5;21mlog_artifact\u001B[39m(\u001B[38;5;28mself\u001B[39m, run_id, local_path, artifact_path\u001B[38;5;241m=\u001B[39m\u001B[38;5;28;01mNone\u001B[39;00m) \u001B[38;5;241m-\u001B[39m\u001B[38;5;241m>\u001B[39m \u001B[38;5;28;01mNone\u001B[39;00m:\n\u001B[0;32m   1173\u001B[0m \u001B[38;5;250m    \u001B[39m\u001B[38;5;124;03m\"\"\"Write a local file or directory to the remote ``artifact_uri``.\u001B[39;00m\n\u001B[0;32m   1174\u001B[0m \n\u001B[0;32m   1175\u001B[0m \u001B[38;5;124;03m    Args:\u001B[39;00m\n\u001B[1;32m   (...)\u001B[0m\n\u001B[0;32m   1213\u001B[0m \n\u001B[0;32m   1214\u001B[0m \u001B[38;5;124;03m    \"\"\"\u001B[39;00m\n\u001B[1;32m-> 1215\u001B[0m     \u001B[38;5;28;43mself\u001B[39;49m\u001B[38;5;241;43m.\u001B[39;49m\u001B[43m_tracking_client\u001B[49m\u001B[38;5;241;43m.\u001B[39;49m\u001B[43mlog_artifact\u001B[49m\u001B[43m(\u001B[49m\u001B[43mrun_id\u001B[49m\u001B[43m,\u001B[49m\u001B[43m \u001B[49m\u001B[43mlocal_path\u001B[49m\u001B[43m,\u001B[49m\u001B[43m \u001B[49m\u001B[43martifact_path\u001B[49m\u001B[43m)\u001B[49m\n",
      "File \u001B[1;32mE:\\BERT\\uvl-tore-classifier-bert\\venv310\\lib\\site-packages\\mlflow\\tracking\\_tracking_service\\client.py:557\u001B[0m, in \u001B[0;36mTrackingServiceClient.log_artifact\u001B[1;34m(self, run_id, local_path, artifact_path)\u001B[0m\n\u001B[0;32m    555\u001B[0m     artifact_repo\u001B[38;5;241m.\u001B[39mlog_artifacts(local_path, path_name)\n\u001B[0;32m    556\u001B[0m \u001B[38;5;28;01melse\u001B[39;00m:\n\u001B[1;32m--> 557\u001B[0m     \u001B[43martifact_repo\u001B[49m\u001B[38;5;241;43m.\u001B[39;49m\u001B[43mlog_artifact\u001B[49m\u001B[43m(\u001B[49m\u001B[43mlocal_path\u001B[49m\u001B[43m,\u001B[49m\u001B[43m \u001B[49m\u001B[43martifact_path\u001B[49m\u001B[43m)\u001B[49m\n",
      "File \u001B[1;32mE:\\BERT\\uvl-tore-classifier-bert\\venv310\\lib\\site-packages\\mlflow\\store\\artifact\\http_artifact_repo.py:63\u001B[0m, in \u001B[0;36mHttpArtifactRepository.log_artifact\u001B[1;34m(self, local_file, artifact_path)\u001B[0m\n\u001B[0;32m     61\u001B[0m extra_headers \u001B[38;5;241m=\u001B[39m {\u001B[38;5;124m\"\u001B[39m\u001B[38;5;124mContent-Type\u001B[39m\u001B[38;5;124m\"\u001B[39m: mime_type}\n\u001B[0;32m     62\u001B[0m \u001B[38;5;28;01mwith\u001B[39;00m \u001B[38;5;28mopen\u001B[39m(local_file, \u001B[38;5;124m\"\u001B[39m\u001B[38;5;124mrb\u001B[39m\u001B[38;5;124m\"\u001B[39m) \u001B[38;5;28;01mas\u001B[39;00m f:\n\u001B[1;32m---> 63\u001B[0m     resp \u001B[38;5;241m=\u001B[39m \u001B[43mhttp_request\u001B[49m\u001B[43m(\u001B[49m\n\u001B[0;32m     64\u001B[0m \u001B[43m        \u001B[49m\u001B[38;5;28;43mself\u001B[39;49m\u001B[38;5;241;43m.\u001B[39;49m\u001B[43m_host_creds\u001B[49m\u001B[43m,\u001B[49m\u001B[43m \u001B[49m\u001B[43mendpoint\u001B[49m\u001B[43m,\u001B[49m\u001B[43m \u001B[49m\u001B[38;5;124;43m\"\u001B[39;49m\u001B[38;5;124;43mPUT\u001B[39;49m\u001B[38;5;124;43m\"\u001B[39;49m\u001B[43m,\u001B[49m\u001B[43m \u001B[49m\u001B[43mdata\u001B[49m\u001B[38;5;241;43m=\u001B[39;49m\u001B[43mf\u001B[49m\u001B[43m,\u001B[49m\u001B[43m \u001B[49m\u001B[43mextra_headers\u001B[49m\u001B[38;5;241;43m=\u001B[39;49m\u001B[43mextra_headers\u001B[49m\n\u001B[0;32m     65\u001B[0m \u001B[43m    \u001B[49m\u001B[43m)\u001B[49m\n\u001B[0;32m     66\u001B[0m     augmented_raise_for_status(resp)\n",
      "File \u001B[1;32mE:\\BERT\\uvl-tore-classifier-bert\\venv310\\lib\\site-packages\\mlflow\\utils\\rest_utils.py:151\u001B[0m, in \u001B[0;36mhttp_request\u001B[1;34m(host_creds, endpoint, method, max_retries, backoff_factor, backoff_jitter, extra_headers, retry_codes, timeout, raise_on_status, respect_retry_after_header, **kwargs)\u001B[0m\n\u001B[0;32m    149\u001B[0m     \u001B[38;5;28;01mraise\u001B[39;00m InvalidUrlException(\u001B[38;5;124mf\u001B[39m\u001B[38;5;124m\"\u001B[39m\u001B[38;5;124mInvalid url: \u001B[39m\u001B[38;5;132;01m{\u001B[39;00murl\u001B[38;5;132;01m}\u001B[39;00m\u001B[38;5;124m\"\u001B[39m) \u001B[38;5;28;01mfrom\u001B[39;00m \u001B[38;5;21;01miu\u001B[39;00m\n\u001B[0;32m    150\u001B[0m \u001B[38;5;28;01mexcept\u001B[39;00m \u001B[38;5;167;01mException\u001B[39;00m \u001B[38;5;28;01mas\u001B[39;00m e:\n\u001B[1;32m--> 151\u001B[0m     \u001B[38;5;28;01mraise\u001B[39;00m MlflowException(\u001B[38;5;124mf\u001B[39m\u001B[38;5;124m\"\u001B[39m\u001B[38;5;124mAPI request to \u001B[39m\u001B[38;5;132;01m{\u001B[39;00murl\u001B[38;5;132;01m}\u001B[39;00m\u001B[38;5;124m failed with exception \u001B[39m\u001B[38;5;132;01m{\u001B[39;00me\u001B[38;5;132;01m}\u001B[39;00m\u001B[38;5;124m\"\u001B[39m)\n",
      "\u001B[1;31mMlflowException\u001B[0m: API request to https://mlflow-uvl.ifi.uni-heidelberg.de/api/2.0/mlflow-artifacts/artifacts/6/9f0a9d8307da45f29d017f024a5348c4/artifacts/imported_dataset.csv failed with exception HTTPSConnectionPool(host='mlflow-uvl.ifi.uni-heidelberg.de', port=443): Max retries exceeded with url: /api/2.0/mlflow-artifacts/artifacts/6/9f0a9d8307da45f29d017f024a5348c4/artifacts/imported_dataset.csv (Caused by ResponseError('too many 500 error responses'))"
     ]
    }
   ],
   "source": [
    "from tooling.observability import get_run_id\n",
    "from tooling.config import BERTConfig, BERT\n",
    "\n",
    "from copy import deepcopy\n",
    "\n",
    "bert_experiment_config = deepcopy(base_experiment_config)\n",
    "bert_experiment_config.name = \"Production\"\n",
    "\n",
    "bert_config = BERT(\n",
    "    learning_rate_bert=6e-05,\n",
    "    learning_rate_classifier=0.1,\n",
    "    max_len=123,\n",
    "    number_epochs=1 ,\n",
    "    train_batch_size=8,\n",
    "    weight_decay=0.01,\n",
    "    weighted_classes=False,\n",
    ")\n",
    "\n",
    "bert_cfg = OmegaConf.structured(\n",
    "    BERTConfig(\n",
    "        bert=bert_config,\n",
    "        experiment=bert_experiment_config,\n",
    "        transformation=label_transformation_config,\n",
    "    )\n",
    ")\n",
    "\n",
    "if run_experiments:\n",
    "    from experiments.bert import bert\n",
    "\n",
    "    bert(OmegaConf.create(bert_cfg))\n",
    "\n",
    "bert_run_id = get_run_id(bert_cfg, pin_commit=pin_commits)\n",
    "\n",
    "print(bert_run_id)\n",
    "\n",
    "run = mlflow.get_run(bert_run_id)\n",
    "mlflow.artifacts.download_artifacts(\n",
    "    f\"{run.info.artifact_uri}/0_model\", dst_path=Path(\"./src/service/models/\")\n",
    ")\n",
    "try:\n",
    "    shutil.rmtree(Path(\"./src/service/models/bert\"))\n",
    "except FileNotFoundError:\n",
    "    pass\n",
    "Path(\"./src/service/models/0_model\").rename(\"./src/service/models/bert\")"
   ],
   "metadata": {
    "collapsed": false,
    "ExecuteTime": {
     "end_time": "2024-08-08T16:10:50.693738Z",
     "start_time": "2024-08-08T16:09:29.436859Z"
    }
   }
  },
  {
   "cell_type": "code",
   "execution_count": null,
   "metadata": {},
   "outputs": [],
   "source": [
    "##Train RoBERTa E2E Model\n"
   ]
  },
  {
   "cell_type": "code",
   "execution_count": 14,
   "outputs": [
    {
     "name": "stderr",
     "output_type": "stream",
     "text": [
      "01:44:16 INFO:\n",
      "roberta:\n",
      "  model: Jean-Baptiste/roberta-large-ner-english\n",
      "  type: RoBERTa\n",
      "  max_len: 123\n",
      "  train_batch_size: 8\n",
      "  validation_batch_size: 32\n",
      "  number_epochs: 11\n",
      "  learning_rate_roberta: 6.0e-05\n",
      "  learning_rate_classifier: 0.1\n",
      "  weight_decay: 0.01\n",
      "  weighted_classes: false\n",
      "experiment:\n",
      "  name: Production\n",
      "  description: ''\n",
      "  random_state: 125\n",
      "  folds: 5\n",
      "  iterations: 1\n",
      "  average: macro\n",
      "  dataset: all\n",
      "  lower_case: true\n",
      "  force: false\n",
      "  pin_commit: false\n",
      "  smote: false\n",
      "  smote_k_neighbors: 5\n",
      "  smote_sampling_strategy: not majority\n",
      "transformation:\n",
      "  description: None\n",
      "  type: Full\n",
      "  task: Task\n",
      "  goals: null\n",
      "  domain_data: Domain_Data\n",
      "  activity: Activity\n",
      "  stakeholder: Stakeholder\n",
      "  system_function: System_Function\n",
      "  interaction: Interaction\n",
      "  interaction_data: Interaction_Data\n",
      "  workspace: Workspace\n",
      "  software: System_Level\n",
      "  internal_action: System_Level\n",
      "  internal_data: System_Level\n",
      "  system_level: System_Level\n",
      "\n",
      "01:44:16 INFO:New experiment. Running\n",
      "01:44:16 INFO:Entering mlflow context\n",
      "01:44:16 INFO:Importing dataset: anno from E:\\BERT\\uvl-tore-classifier-bert\\src\\data\\datasets\\forum\\anno_test.json\n",
      "01:44:16 INFO:Importing dataset: anno from E:\\BERT\\uvl-tore-classifier-bert\\src\\data\\datasets\\forum\\anno_train.json\n",
      "01:44:16 INFO:Importing dataset: prolific from E:\\BERT\\uvl-tore-classifier-bert\\src\\data\\datasets\\prolific\\TORE_Coded_Answers_1_33.json\n",
      "01:44:17 INFO:Importing dataset: prolific from E:\\BERT\\uvl-tore-classifier-bert\\src\\data\\datasets\\prolific\\TORE_Coded_Answers_34_66.json\n",
      "01:44:17 INFO:Importing dataset: prolific from E:\\BERT\\uvl-tore-classifier-bert\\src\\data\\datasets\\prolific\\TORE_Coded_Answers_67_100.json\n",
      "01:44:17 INFO:Importing dataset: komoot from E:\\BERT\\uvl-tore-classifier-bert\\src\\data\\datasets\\app\\Komoot_AppReview.json\n",
      "01:44:18 INFO:Dataset Labels: transformed_dataset['labels']=['Task', 'Workspace', 'Activity', 'System_Level', 'Domain_Data', 'Stakeholder', '0', 'Interaction_Data', 'System_Function', 'Interaction']\n",
      "01:44:18 INFO:Class weights: {'0': 1.0, 'Task': 1.0, 'Domain_Data': 1.0, 'Activity': 1.0, 'Stakeholder': 1.0, 'System_Function': 1.0, 'Interaction': 1.0, 'Interaction_Data': 1.0, 'Workspace': 1.0, 'System_Level': 1.0}\n",
      "01:44:18 INFO:Configured maximal token sequence length: max_len = 123\n",
      "01:44:18 INFO:Created fold datasets for fold: 0, stored at paths=[WindowsPath('E:/BERT/uvl-tore-classifier-bert/src/data/temp/sampling/capable-auk-759/0_data_train.pickle'), WindowsPath('E:/BERT/uvl-tore-classifier-bert/src/data/temp/sampling/capable-auk-759/0_data_train.csv'), WindowsPath('E:/BERT/uvl-tore-classifier-bert/src/data/temp/sampling/capable-auk-759/0_data_test.pickle'), WindowsPath('E:/BERT/uvl-tore-classifier-bert/src/data/temp/sampling/capable-auk-759/0_data_test.csv')]\n",
      "01:44:18 INFO:Starting iteration=0\n"
     ]
    },
    {
     "data": {
      "text/plain": "Map:   0%|          | 0/2488 [00:00<?, ? examples/s]",
      "application/vnd.jupyter.widget-view+json": {
       "version_major": 2,
       "version_minor": 0,
       "model_id": "2c895e7f1ffc491e8ceab79459d5ff24"
      }
     },
     "metadata": {},
     "output_type": "display_data"
    },
    {
     "data": {
      "text/plain": "Map:   0%|          | 0/622 [00:00<?, ? examples/s]",
      "application/vnd.jupyter.widget-view+json": {
       "version_major": 2,
       "version_minor": 0,
       "model_id": "f0ca2e213d0c4f2f8088f4f655e5342f"
      }
     },
     "metadata": {},
     "output_type": "display_data"
    },
    {
     "name": "stderr",
     "output_type": "stream",
     "text": [
      "E:\\BERT\\uvl-tore-classifier-bert\\venv310\\lib\\site-packages\\transformers\\training_args.py:1474: FutureWarning: `evaluation_strategy` is deprecated and will be removed in version 4.46 of 🤗 Transformers. Use `eval_strategy` instead\n",
      "  warnings.warn(\n",
      "01:45:21 INFO:Logged iteration result res.precision=0.5793384603014975 res.recall=0.5294931132606071\n"
     ]
    },
    {
     "name": "stdout",
     "output_type": "stream",
     "text": [
      "{'eval_loss': 0.606141209602356, 'eval_step': 0, 'eval_precision': 0.5793384603014975, 'eval_recall': 0.5294931132606071, 'eval_f1': 0.5532954369096804, 'eval_label_count': 10, 'eval_runtime': 3.4457, 'eval_samples_per_second': 180.515, 'eval_steps_per_second': 5.804, 'epoch': 1.0}\n",
      "{'loss': 1.2792, 'grad_norm': 15.624954223632812, 'learning_rate': 5.123063431745104e-05, 'epoch': 1.607717041800643}\n"
     ]
    },
    {
     "name": "stderr",
     "output_type": "stream",
     "text": [
      "01:46:59 INFO:Logged iteration result res.precision=0.6080609820590207 res.recall=0.4686796187106605\n"
     ]
    },
    {
     "name": "stdout",
     "output_type": "stream",
     "text": [
      "{'eval_loss': 0.6071531176567078, 'eval_step': 2, 'eval_precision': 0.6080609820590207, 'eval_recall': 0.4686796187106605, 'eval_f1': 0.5293490168765562, 'eval_label_count': 10, 'eval_runtime': 3.4508, 'eval_samples_per_second': 180.249, 'eval_steps_per_second': 5.796, 'epoch': 2.0}\n"
     ]
    },
    {
     "name": "stderr",
     "output_type": "stream",
     "text": [
      "01:48:43 INFO:Logged iteration result res.precision=0.6848862486107135 res.recall=0.5565420222272148\n"
     ]
    },
    {
     "name": "stdout",
     "output_type": "stream",
     "text": [
      "{'eval_loss': 0.4957864582538605, 'eval_step': 4, 'eval_precision': 0.6848862486107135, 'eval_recall': 0.5565420222272148, 'eval_f1': 0.6140797446801176, 'eval_label_count': 10, 'eval_runtime': 3.4562, 'eval_samples_per_second': 179.968, 'eval_steps_per_second': 5.787, 'epoch': 3.0}\n",
      "{'loss': 0.6808, 'grad_norm': 13.241116523742676, 'learning_rate': 4.2461268634902076e-05, 'epoch': 3.215434083601286}\n"
     ]
    },
    {
     "name": "stderr",
     "output_type": "stream",
     "text": [
      "01:50:20 INFO:Logged iteration result res.precision=0.6507461365221903 res.recall=0.6693099147848478\n"
     ]
    },
    {
     "name": "stdout",
     "output_type": "stream",
     "text": [
      "{'eval_loss': 0.4820605218410492, 'eval_step': 6, 'eval_precision': 0.6507461365221903, 'eval_recall': 0.6693099147848478, 'eval_f1': 0.6598974956419169, 'eval_label_count': 10, 'eval_runtime': 3.46, 'eval_samples_per_second': 179.767, 'eval_steps_per_second': 5.78, 'epoch': 4.0}\n",
      "{'loss': 0.5049, 'grad_norm': 7.3944220542907715, 'learning_rate': 3.369190295235311e-05, 'epoch': 4.823151125401929}\n"
     ]
    },
    {
     "name": "stderr",
     "output_type": "stream",
     "text": [
      "01:51:56 INFO:Logged iteration result res.precision=0.6895372990852613 res.recall=0.6271393081541824\n"
     ]
    },
    {
     "name": "stdout",
     "output_type": "stream",
     "text": [
      "{'eval_loss': 0.5652507543563843, 'eval_step': 8, 'eval_precision': 0.6895372990852613, 'eval_recall': 0.6271393081541824, 'eval_f1': 0.6568597669574816, 'eval_label_count': 10, 'eval_runtime': 3.4651, 'eval_samples_per_second': 179.504, 'eval_steps_per_second': 5.772, 'epoch': 5.0}\n"
     ]
    },
    {
     "name": "stderr",
     "output_type": "stream",
     "text": [
      "01:53:34 INFO:Logged iteration result res.precision=0.6742795448771706 res.recall=0.6181710754031103\n"
     ]
    },
    {
     "name": "stdout",
     "output_type": "stream",
     "text": [
      "{'eval_loss': 0.6192948222160339, 'eval_step': 10, 'eval_precision': 0.6742795448771706, 'eval_recall': 0.6181710754031103, 'eval_f1': 0.6450074066096988, 'eval_label_count': 10, 'eval_runtime': 3.5492, 'eval_samples_per_second': 175.249, 'eval_steps_per_second': 5.635, 'epoch': 6.0}\n",
      "{'loss': 0.324, 'grad_norm': 18.10057258605957, 'learning_rate': 2.492253726980415e-05, 'epoch': 6.430868167202572}\n"
     ]
    },
    {
     "name": "stderr",
     "output_type": "stream",
     "text": [
      "01:55:12 INFO:Logged iteration result res.precision=0.6873868514132714 res.recall=0.660922580138302\n"
     ]
    },
    {
     "name": "stdout",
     "output_type": "stream",
     "text": [
      "{'eval_loss': 0.5512689352035522, 'eval_step': 12, 'eval_precision': 0.6873868514132714, 'eval_recall': 0.660922580138302, 'eval_f1': 0.6738949988155228, 'eval_label_count': 10, 'eval_runtime': 3.4693, 'eval_samples_per_second': 179.286, 'eval_steps_per_second': 5.765, 'epoch': 7.0}\n"
     ]
    },
    {
     "name": "stderr",
     "output_type": "stream",
     "text": [
      "01:56:43 INFO:Logged iteration result res.precision=0.6969054031299542 res.recall=0.6630879913521743\n"
     ]
    },
    {
     "name": "stdout",
     "output_type": "stream",
     "text": [
      "{'eval_loss': 0.5906326770782471, 'eval_step': 14, 'eval_precision': 0.6969054031299542, 'eval_recall': 0.6630879913521743, 'eval_f1': 0.6795762476477104, 'eval_label_count': 10, 'eval_runtime': 3.4785, 'eval_samples_per_second': 178.813, 'eval_steps_per_second': 5.75, 'epoch': 8.0}\n",
      "{'loss': 0.2004, 'grad_norm': 7.203489780426025, 'learning_rate': 1.6153171587255187e-05, 'epoch': 8.038585209003216}\n"
     ]
    },
    {
     "name": "stderr",
     "output_type": "stream",
     "text": [
      "01:58:20 INFO:Logged iteration result res.precision=0.6929995630182143 res.recall=0.6776944016612059\n"
     ]
    },
    {
     "name": "stdout",
     "output_type": "stream",
     "text": [
      "{'eval_loss': 0.7513129711151123, 'eval_step': 16, 'eval_precision': 0.6929995630182143, 'eval_recall': 0.6776944016612059, 'eval_f1': 0.6852615336654618, 'eval_label_count': 10, 'eval_runtime': 3.5576, 'eval_samples_per_second': 174.838, 'eval_steps_per_second': 5.622, 'epoch': 9.0}\n",
      "{'loss': 0.0924, 'grad_norm': 11.683978080749512, 'learning_rate': 7.383805904706226e-06, 'epoch': 9.646302250803858}\n"
     ]
    },
    {
     "name": "stderr",
     "output_type": "stream",
     "text": [
      "02:00:00 INFO:Logged iteration result res.precision=0.6888084658467657 res.recall=0.6815572697029866\n"
     ]
    },
    {
     "name": "stdout",
     "output_type": "stream",
     "text": [
      "{'eval_loss': 0.9262818694114685, 'eval_step': 18, 'eval_precision': 0.6888084658467657, 'eval_recall': 0.6815572697029866, 'eval_f1': 0.6851636831717619, 'eval_label_count': 10, 'eval_runtime': 3.6713, 'eval_samples_per_second': 169.423, 'eval_steps_per_second': 5.448, 'epoch': 10.0}\n"
     ]
    },
    {
     "name": "stderr",
     "output_type": "stream",
     "text": [
      "02:01:44 INFO:Logged iteration result res.precision=0.6904512276980231 res.recall=0.6926464362913085\n"
     ]
    },
    {
     "name": "stdout",
     "output_type": "stream",
     "text": [
      "{'eval_loss': 0.9886234998703003, 'eval_step': 20, 'eval_precision': 0.6904512276980231, 'eval_recall': 0.6926464362913085, 'eval_f1': 0.6915470899120589, 'eval_label_count': 10, 'eval_runtime': 3.5215, 'eval_samples_per_second': 176.631, 'eval_steps_per_second': 5.679, 'epoch': 11.0}\n",
      "{'train_runtime': 1083.2292, 'train_samples_per_second': 25.265, 'train_steps_per_second': 3.158, 'train_loss': 0.45614679554546483, 'epoch': 11.0}\n"
     ]
    },
    {
     "name": "stderr",
     "output_type": "stream",
     "text": [
      "02:02:35 INFO:Logged iteration result res.precision=0.6904512276980231 res.recall=0.6926464362913085\n",
      "02:02:35 INFO:Logged iteration result res.precision=0.6904512276980231 res.recall=0.6926464362913085\n",
      "02:02:35 INFO:Finished iteration=0\n",
      "02:02:35 INFO:Logging model artifact (might take a while)\n",
      "02:02:38 INFO:Breaking early after iteration=0 of 5 folds\n",
      "02:02:38 INFO:Logged experiment result res.mean_precision=0.6904512276980231 res.mean_recall=0.6926464362913085\n",
      "02:02:39 INFO:Left mlflow context\n"
     ]
    },
    {
     "name": "stdout",
     "output_type": "stream",
     "text": [
      "73c3721d2c3e41e6b0539148725132df\n"
     ]
    },
    {
     "data": {
      "text/plain": "Downloading artifacts:   0%|          | 0/8 [00:00<?, ?it/s]",
      "application/vnd.jupyter.widget-view+json": {
       "version_major": 2,
       "version_minor": 0,
       "model_id": "f66c88a13f3f499593daa8ac53a8a930"
      }
     },
     "metadata": {},
     "output_type": "display_data"
    },
    {
     "data": {
      "text/plain": "WindowsPath('src/service/models/roberta')"
     },
     "execution_count": 14,
     "metadata": {},
     "output_type": "execute_result"
    }
   ],
   "source": [
    "'''\n",
    "from tooling.observability import get_run_id\n",
    "from tooling.config import RoBERTaConfig, RoBERTa\n",
    "\n",
    "from copy import deepcopy\n",
    "\n",
    "roberta_experiment_config = deepcopy(base_experiment_config)\n",
    "roberta_experiment_config.name = \"Production\"\n",
    "\n",
    "roberta_config = RoBERTa(\n",
    "    learning_rate_roberta=6e-05,\n",
    "    learning_rate_classifier=0.1,\n",
    "    max_len=123,\n",
    "    number_epochs=11,\n",
    "    train_batch_size=8,\n",
    "    weight_decay=0.01,\n",
    "    weighted_classes=False,\n",
    ")\n",
    "\n",
    "roberta_cfg = OmegaConf.structured(\n",
    "    RoBERTaConfig(\n",
    "        roberta=roberta_config,\n",
    "        experiment=roberta_experiment_config,\n",
    "        transformation=label_transformation_config,\n",
    "    )\n",
    ")\n",
    "\n",
    "if run_experiments:\n",
    "    from experiments.roberta import roberta\n",
    "\n",
    "    roberta(OmegaConf.create(roberta_cfg))\n",
    "\n",
    "roberta_run_id = get_run_id(roberta_cfg, pin_commit=pin_commits)\n",
    "\n",
    "print(roberta_run_id)\n",
    "\n",
    "run = mlflow.get_run(roberta_run_id)\n",
    "mlflow.artifacts.download_artifacts(\n",
    "    f\"{run.info.artifact_uri}/0_model\", dst_path=Path(\"./src/service/models/\")\n",
    ")\n",
    "try:\n",
    "    shutil.rmtree(Path(\"./src/service/models/roberta\"))\n",
    "except FileNotFoundError:\n",
    "    pass\n",
    "Path(\"./src/service/models/0_model\").rename(\"./src/service/models/roberta\")\n",
    "'''"
   ],
   "metadata": {
    "collapsed": false,
    "ExecuteTime": {
     "end_time": "2024-06-11T12:02:41.827681Z",
     "start_time": "2024-06-11T11:44:15.845402Z"
    }
   }
  },
  {
   "cell_type": "code",
   "execution_count": null,
   "outputs": [],
   "source": [],
   "metadata": {
    "collapsed": false
   }
  },
  {
   "cell_type": "code",
   "execution_count": null,
   "outputs": [],
   "source": [],
   "metadata": {
    "collapsed": false
   }
  }
 ],
 "metadata": {
  "kernelspec": {
   "display_name": "venv",
   "language": "python",
   "name": "python3"
  },
  "language_info": {
   "codemirror_mode": {
    "name": "ipython",
    "version": 3
   },
   "file_extension": ".py",
   "mimetype": "text/x-python",
   "name": "python",
   "nbconvert_exporter": "python",
   "pygments_lexer": "ipython3",
   "version": "3.11.4"
  },
  "orig_nbformat": 4
 },
 "nbformat": 4,
 "nbformat_minor": 2
}
