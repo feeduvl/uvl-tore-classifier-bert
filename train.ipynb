{
 "cells": [
  {
   "cell_type": "code",
   "execution_count": 1,
   "metadata": {
    "ExecuteTime": {
     "end_time": "2024-08-09T10:29:38.455651Z",
     "start_time": "2024-08-09T10:29:38.407581Z"
    }
   },
   "outputs": [],
   "source": [
    "%load_ext autoreload\n",
    "%autoreload 2\n"
   ]
  },
  {
   "cell_type": "code",
   "execution_count": 2,
   "metadata": {
    "ExecuteTime": {
     "end_time": "2024-08-09T10:29:43.776441Z",
     "start_time": "2024-08-09T10:29:38.455651Z"
    }
   },
   "outputs": [],
   "source": [
    "import logging\n",
    "import shutil\n",
    "from omegaconf import OmegaConf\n",
    "from hydra import initialize, compose\n",
    "from hydra.core.config_store import ConfigStore\n",
    "import mlflow\n",
    "from src.experiments.sner import sner\n",
    "from pathlib import Path\n",
    "\n",
    "import os\n",
    "\n",
    "logging.basicConfig(\n",
    "    format=\"%(asctime)s %(levelname)s:%(message)s\",\n",
    "    level=logging.INFO,\n",
    "    datefmt=\"%I:%M:%S\",\n",
    ")\n",
    "logger = logging.getLogger(\"training\")"
   ]
  },
  {
   "cell_type": "code",
   "execution_count": 3,
   "metadata": {
    "ExecuteTime": {
     "end_time": "2024-08-09T10:29:43.947681Z",
     "start_time": "2024-08-09T10:29:43.777441Z"
    }
   },
   "outputs": [
    {
     "data": {
      "text/plain": "'127.0.0.1'"
     },
     "execution_count": 3,
     "metadata": {},
     "output_type": "execute_result"
    }
   ],
   "source": [
    "mlflow.get_tracking_uri()"
   ]
  },
  {
   "cell_type": "code",
   "execution_count": 4,
   "metadata": {
    "ExecuteTime": {
     "end_time": "2024-08-09T10:29:45.575077Z",
     "start_time": "2024-08-09T10:29:45.290860Z"
    }
   },
   "outputs": [
    {
     "name": "stdout",
     "output_type": "stream",
     "text": [
      "run_experiments=True\n",
      "pin_commits=False\n"
     ]
    }
   ],
   "source": [
    "sentence_length = 106\n",
    "\n",
    "run_experiments = os.getenv(\"UVL_BERT_RUN_EXPERIMENTS\", \"True\") == \"True\"\n",
    "pin_commits = os.getenv(\"UVL_BERT_PIN_COMMITS\", \"True\") == \"FALSE\"\n",
    "\n",
    "print(f\"{run_experiments=}\")\n",
    "print(f\"{pin_commits=}\")"
   ]
  },
  {
   "cell_type": "code",
   "execution_count": 5,
   "metadata": {
    "ExecuteTime": {
     "end_time": "2024-08-09T10:29:46.201587Z",
     "start_time": "2024-08-09T10:29:45.962491Z"
    }
   },
   "outputs": [],
   "source": [
    "from tooling.config import Experiment, Transformation\n",
    "#Set Iterations=1 for Split training and testing on datasets. Set dataset to desired dataset split. See tooling.py for split options\n",
    "base_experiment_config = Experiment(\n",
    "    name=\"Base Config 1\",\n",
    "    iterations=1,\n",
    "    force=False,\n",
    "    dataset=\"all\",\n",
    "    lower_case=True,\n",
    ")\n",
    "\n",
    "levels_transformation_config = Transformation(\n",
    "    description=\"Levels\",\n",
    "    type=\"Reduced\",\n",
    "    task=\"Domain_Level\",\n",
    "    domain_data=\"Domain_Level\",\n",
    "    activity=\"Domain_Level\",\n",
    "    stakeholder=\"Domain_Level\",\n",
    "    system_function=\"Interaction_Level\",\n",
    "    interaction=\"Interaction_Level\",\n",
    "    interaction_data=\"Domain_Level\",\n",
    "    workspace=\"Interaction_Level\",\n",
    "    software=\"System_Level\",\n",
    "    internal_action=\"System_Level\",\n",
    "    internal_data=\"System_Level\",\n",
    "    system_level=\"System_Level\",\n",
    ")\n",
    "\n",
    "label_transformation_config = Transformation(\n",
    "    description=\"None\",\n",
    "    type=\"Full\",\n",
    "    task=\"Task\",\n",
    "    domain_data=\"Domain_Data\",\n",
    "    activity=\"Activity\",\n",
    "    stakeholder=\"Stakeholder\",\n",
    "    system_function=\"System_Function\",\n",
    "    interaction=\"Interaction\",\n",
    "    interaction_data=\"Interaction_Data\",\n",
    "    workspace=\"Workspace\",\n",
    "    software=\"System_Level\",\n",
    "    internal_action=\"System_Level\",\n",
    "    internal_data=\"System_Level\",\n",
    "    system_level=\"System_Level\",\n",
    ")"
   ]
  },
  {
   "cell_type": "code",
   "execution_count": 6,
   "metadata": {
    "ExecuteTime": {
     "end_time": "2024-08-09T10:29:47.183644Z",
     "start_time": "2024-08-09T10:29:46.931831Z"
    }
   },
   "outputs": [
    {
     "name": "stderr",
     "output_type": "stream",
     "text": [
      "12:29:47 INFO:Hint Label2Id: hint_label2id={'0': 0, 'System_Level': 1, 'Domain_Level': 2, 'Interaction_Level': 3}\n",
      "12:29:47 INFO:Hint Label2Id: hint_label2id={'0': 0, 'Task': 1, 'Domain_Data': 2, 'Activity': 3, 'Stakeholder': 4, 'System_Function': 5, 'Interaction': 6, 'Interaction_Data': 7, 'Workspace': 8, 'System_Level': 9}\n"
     ]
    }
   ],
   "source": [
    "from tooling.transformation import get_hint_transformation\n",
    "import pickle\n",
    "\n",
    "hint_transformation = get_hint_transformation(\n",
    "    transformation_cfg=OmegaConf.structured(levels_transformation_config)\n",
    ")\n",
    "\n",
    "Path(\"./src/service/models/\").mkdir(parents=True, exist_ok=True)\n",
    "\n",
    "hint_label2id = hint_transformation[\"label2id\"]\n",
    "pickle.dump(\n",
    "    hint_label2id, open(\"./src/service/models/hint_label2id.pickle\", \"wb\")\n",
    ")\n",
    "hint_id2label = {y: x for x, y in hint_label2id.items()}\n",
    "pickle.dump(\n",
    "    hint_id2label, open(\"./src/service/models/hint_id2label.pickle\", \"wb\")\n",
    ")\n",
    "\n",
    "transformation = get_hint_transformation(\n",
    "    transformation_cfg=OmegaConf.structured(label_transformation_config)\n",
    ")\n",
    "label2id = transformation[\"label2id\"]\n",
    "pickle.dump(label2id, open(\"./src/service/models/label2id.pickle\", \"wb\"))\n",
    "id2label = {y: x for x, y in label2id.items()}\n",
    "pickle.dump(id2label, open(\"./src/service/models/id2label.pickle\", \"wb\"))"
   ]
  },
  {
   "cell_type": "markdown",
   "metadata": {},
   "source": [
    "## Train BiLSTM First Stage Model\n"
   ]
  },
  {
   "cell_type": "code",
   "execution_count": 9,
   "metadata": {
    "ExecuteTime": {
     "end_time": "2024-08-09T11:03:25.710045Z",
     "start_time": "2024-08-09T11:03:24.011491Z"
    }
   },
   "outputs": [
    {
     "name": "stderr",
     "output_type": "stream",
     "text": [
      "01:03:24 INFO:\n",
      "bilstm:\n",
      "  type: BiLSTM\n",
      "  sentence_length: 106\n",
      "  batch_size: 16\n",
      "  number_epochs: 5\n",
      "  verbose: 1\n",
      "  weighted_classes: false\n",
      "  learning_rate: 0.006\n",
      "experiment:\n",
      "  name: Production\n",
      "  description: ''\n",
      "  random_state: 125\n",
      "  folds: 5\n",
      "  iterations: 1\n",
      "  average: macro\n",
      "  dataset: all\n",
      "  lower_case: true\n",
      "  force: false\n",
      "  pin_commit: false\n",
      "  smote: false\n",
      "  smote_k_neighbors: 5\n",
      "  smote_sampling_strategy: not majority\n",
      "  smote_balance_to_average: false\n",
      "transformation:\n",
      "  description: Levels\n",
      "  type: Reduced\n",
      "  task: Domain_Level\n",
      "  goals: null\n",
      "  domain_data: Domain_Level\n",
      "  activity: Domain_Level\n",
      "  stakeholder: Domain_Level\n",
      "  system_function: Interaction_Level\n",
      "  interaction: Interaction_Level\n",
      "  interaction_data: Domain_Level\n",
      "  workspace: Interaction_Level\n",
      "  software: System_Level\n",
      "  internal_action: System_Level\n",
      "  internal_data: System_Level\n",
      "  system_level: System_Level\n",
      "\n",
      "01:03:24 WARNING:Experiment was already run\n"
     ]
    },
    {
     "name": "stdout",
     "output_type": "stream",
     "text": [
      "ec764d893a574ea0a71bcdd67e025dc5\n",
      "file:///E:/BERT/uvl-tore-classifier-bert/127.0.0.1/279074982670971635/7fdf5594883148b6ada0cb314bd89b86/artifacts\n"
     ]
    },
    {
     "data": {
      "text/plain": "Downloading artifacts:   0%|          | 0/5 [00:00<?, ?it/s]",
      "application/vnd.jupyter.widget-view+json": {
       "version_major": 2,
       "version_minor": 0,
       "model_id": "9094be90d6964407944230b8f9a64a47"
      }
     },
     "metadata": {},
     "output_type": "display_data"
    },
    {
     "data": {
      "text/plain": "WindowsPath('src/service/models/bilstm')"
     },
     "execution_count": 9,
     "metadata": {},
     "output_type": "execute_result"
    }
   ],
   "source": [
    "'''\n",
    "from tooling.observability import get_run_id\n",
    "from tooling.config import BiLSTMConfig, BiLSTM\n",
    "\n",
    "from copy import deepcopy\n",
    "\n",
    "bilstm_experiment_config = deepcopy(base_experiment_config)\n",
    "bilstm_experiment_config.name = \"Production\"\n",
    "\n",
    "bilstm_config = BiLSTM(\n",
    "    batch_size=16,\n",
    "    learning_rate=0.006,\n",
    "    number_epochs=5,\n",
    "    weighted_classes=False,\n",
    "    sentence_length=106,\n",
    ")\n",
    "\n",
    "bilstm_cfg: BiLSTMConfig = OmegaConf.structured(\n",
    "    BiLSTMConfig(\n",
    "        bilstm=bilstm_config,\n",
    "        experiment=bilstm_experiment_config,\n",
    "        transformation=levels_transformation_config,\n",
    "    )\n",
    ")\n",
    "\n",
    "# bilstm_cfg.experiment.force = True\n",
    "\n",
    "if run_experiments:\n",
    "    from experiments.bilstm import bilstm\n",
    "\n",
    "    bilstm(bilstm_cfg)\n",
    "\n",
    "\n",
    "bilstm_run_id = get_run_id(bilstm_cfg, pin_commit=pin_commits)\n",
    "\n",
    "print(bilstm_run_id)\n",
    "print(mlflow.get_artifact_uri())\n",
    "\n",
    "bilstm_run = mlflow.get_run(bilstm_run_id)\n",
    "mlflow.artifacts.download_artifacts(\n",
    "    f\"{bilstm_run.info.artifact_uri}/0_model\",\n",
    "    dst_path=Path(\"./src/service/models/\"),\n",
    ")\n",
    "try:\n",
    "    shutil.rmtree(Path(\"./src/service/models/bilstm\"))\n",
    "except FileNotFoundError:\n",
    "    pass\n",
    "Path(\"./src/service/models/0_model\").rename(\"./src/service/models/bilstm\")\n",
    "'''"
   ]
  },
  {
   "cell_type": "markdown",
   "metadata": {},
   "source": [
    "## Train SNER First Stage Model\n"
   ]
  },
  {
   "cell_type": "code",
   "execution_count": 13,
   "metadata": {
    "ExecuteTime": {
     "end_time": "2024-08-08T12:25:38.084332Z",
     "start_time": "2024-08-08T12:25:37.415320Z"
    }
   },
   "outputs": [
    {
     "ename": "SyntaxError",
     "evalue": "unterminated triple-quoted string literal (detected at line 40) (2848408053.py, line 1)",
     "output_type": "error",
     "traceback": [
      "\u001B[1;36m  Cell \u001B[1;32mIn[13], line 1\u001B[1;36m\u001B[0m\n\u001B[1;33m    '''\u001B[0m\n\u001B[1;37m    ^\u001B[0m\n\u001B[1;31mSyntaxError\u001B[0m\u001B[1;31m:\u001B[0m unterminated triple-quoted string literal (detected at line 40)\n"
     ]
    }
   ],
   "source": [
    "'''\n",
    "from tooling.observability import (get_run_id)\n",
    "from tooling.config import SNERConfig, SNER\n",
    "\n",
    "from copy import deepcopy\n",
    "\n",
    "sner_experiment_config = deepcopy(base_experiment_config)\n",
    "sner_experiment_config.name = \"Production\"\n",
    "\n",
    "sner_config = SNER()\n",
    "\n",
    "sner_cfg = OmegaConf.structured(\n",
    "    SNERConfig(\n",
    "        sner=sner_config,\n",
    "        experiment=sner_experiment_config,\n",
    "        transformation=levels_transformation_config,\n",
    "    )\n",
    ")\n",
    "\n",
    "if run_experiments:\n",
    "    from experiments.sner import sner\n",
    "\n",
    "    sner(OmegaConf.create(sner_cfg))\n",
    "\n",
    "sner_run_id = get_run_id(sner_cfg, pin_commit=pin_commits)\n",
    "print(mlflow.get_artifact_uri())\n",
    "print(sner_run_id)\n",
    "\n",
    "sner_run = mlflow.get_run(sner_run_id)\n",
    "mlflow.artifacts.download_artifacts(\n",
    "    f\"{sner_run.info.artifact_uri}/0_model.ser.gz\",\n",
    "    dst_path=Path(\"./src/service/models/\"),\n",
    ")\n",
    "try:\n",
    "    Path(\"./src/service/models/sner.ser.gz\").unlink()\n",
    "except FileNotFoundError:\n",
    "    pass\n",
    "Path(\"./src/service/models/0_model.ser.gz\").rename(\n",
    "    \"./src/service/models/sner.ser.gz\"\n",
    ")\n",
    "'''"
   ]
  },
  {
   "cell_type": "markdown",
   "metadata": {},
   "source": [
    "## Train BERT First Stage Model\n"
   ]
  },
  {
   "cell_type": "code",
   "execution_count": 7,
   "metadata": {
    "ExecuteTime": {
     "end_time": "2024-08-09T10:50:19.783307Z",
     "start_time": "2024-08-09T10:30:06.324009Z"
    }
   },
   "outputs": [
    {
     "name": "stderr",
     "output_type": "stream",
     "text": [
      "12:30:11 INFO:PyTorch version 2.3.0+cu118 available.\n",
      "12:30:11 INFO:TensorFlow version 2.15.1 available.\n",
      "12:30:39 WARNING:From E:\\BERT\\uvl-tore-classifier-bert\\venv310\\lib\\site-packages\\keras\\src\\losses.py:2976: The name tf.losses.sparse_softmax_cross_entropy is deprecated. Please use tf.compat.v1.losses.sparse_softmax_cross_entropy instead.\n",
      "\n",
      "12:30:40 INFO:\n",
      "bert:\n",
      "  model: bert-large-uncased\n",
      "  type: BERT\n",
      "  max_len: 123\n",
      "  train_batch_size: 8\n",
      "  validation_batch_size: 64\n",
      "  number_epochs: 11\n",
      "  learning_rate_bert: 3.0e-05\n",
      "  learning_rate_classifier: 0.0005\n",
      "  weight_decay: 0.01\n",
      "  weighted_classes: true\n",
      "experiment:\n",
      "  name: Production\n",
      "  description: ''\n",
      "  random_state: 125\n",
      "  folds: 5\n",
      "  iterations: 1\n",
      "  average: macro\n",
      "  dataset: all\n",
      "  lower_case: true\n",
      "  force: false\n",
      "  pin_commit: false\n",
      "  smote: false\n",
      "  smote_k_neighbors: 5\n",
      "  smote_sampling_strategy: not majority\n",
      "  smote_balance_to_average: false\n",
      "transformation:\n",
      "  description: Levels\n",
      "  type: Reduced\n",
      "  task: Domain_Level\n",
      "  goals: null\n",
      "  domain_data: Domain_Level\n",
      "  activity: Domain_Level\n",
      "  stakeholder: Domain_Level\n",
      "  system_function: Interaction_Level\n",
      "  interaction: Interaction_Level\n",
      "  interaction_data: Domain_Level\n",
      "  workspace: Interaction_Level\n",
      "  software: System_Level\n",
      "  internal_action: System_Level\n",
      "  internal_data: System_Level\n",
      "  system_level: System_Level\n",
      "\n",
      "12:30:47 INFO:New experiment. Running\n",
      "12:30:47 INFO:Entering mlflow context\n",
      "12:30:48 INFO:Importing dataset: anno from E:\\BERT\\uvl-tore-classifier-bert\\src\\data\\datasets\\forum\\anno_test.json\n",
      "12:30:48 INFO:Importing dataset: anno from E:\\BERT\\uvl-tore-classifier-bert\\src\\data\\datasets\\forum\\anno_train.json\n",
      "12:30:48 INFO:Importing dataset: prolific from E:\\BERT\\uvl-tore-classifier-bert\\src\\data\\datasets\\prolific\\TORE_Coded_Answers_1_33.json\n",
      "12:30:49 INFO:Importing dataset: prolific from E:\\BERT\\uvl-tore-classifier-bert\\src\\data\\datasets\\prolific\\TORE_Coded_Answers_34_66.json\n",
      "12:30:49 INFO:Importing dataset: prolific from E:\\BERT\\uvl-tore-classifier-bert\\src\\data\\datasets\\prolific\\TORE_Coded_Answers_67_100.json\n",
      "12:30:49 INFO:Importing dataset: komoot from E:\\BERT\\uvl-tore-classifier-bert\\src\\data\\datasets\\app\\Komoot_AppReview.json\n",
      "12:30:50 INFO:Dataset Labels: transformed_dataset['labels']=['0', 'System_Level', 'Interaction_Level', 'Domain_Level']\n",
      "12:30:50 INFO:Class weights: {'0': 0.33736363, 'System_Level': 6.415328, 'Domain_Level': 1.9850894, 'Interaction_Level': 2.65811}\n",
      "12:30:50 INFO:Configured maximal token sequence length: max_len = 123\n",
      "12:30:51 INFO:Created fold datasets for fold: 0, stored at paths=[WindowsPath('E:/BERT/uvl-tore-classifier-bert/src/data/temp/sampling/nosy-fish-384/0_data_train.pickle'), WindowsPath('E:/BERT/uvl-tore-classifier-bert/src/data/temp/sampling/nosy-fish-384/0_data_train.csv'), WindowsPath('E:/BERT/uvl-tore-classifier-bert/src/data/temp/sampling/nosy-fish-384/0_data_test.pickle'), WindowsPath('E:/BERT/uvl-tore-classifier-bert/src/data/temp/sampling/nosy-fish-384/0_data_test.csv')]\n",
      "12:30:51 INFO:Starting iteration=0\n"
     ]
    },
    {
     "data": {
      "text/plain": "Map:   0%|          | 0/2488 [00:00<?, ? examples/s]",
      "application/vnd.jupyter.widget-view+json": {
       "version_major": 2,
       "version_minor": 0,
       "model_id": "1ab7ffd91a884204a52e0b66f98c8158"
      }
     },
     "metadata": {},
     "output_type": "display_data"
    },
    {
     "data": {
      "text/plain": "Map:   0%|          | 0/622 [00:00<?, ? examples/s]",
      "application/vnd.jupyter.widget-view+json": {
       "version_major": 2,
       "version_minor": 0,
       "model_id": "5c5da7f92ef0441ab97883fc9a673ef4"
      }
     },
     "metadata": {},
     "output_type": "display_data"
    },
    {
     "name": "stderr",
     "output_type": "stream",
     "text": [
      "E:\\BERT\\uvl-tore-classifier-bert\\venv310\\lib\\site-packages\\transformers\\training_args.py:1474: FutureWarning: `evaluation_strategy` is deprecated and will be removed in version 4.46 of 🤗 Transformers. Use `eval_strategy` instead\n",
      "  warnings.warn(\n",
      "E:\\BERT\\uvl-tore-classifier-bert\\venv310\\lib\\site-packages\\transformers\\models\\bert\\modeling_bert.py:435: UserWarning: 1Torch was not compiled with flash attention. (Triggered internally at ..\\aten\\src\\ATen\\native\\transformers\\cuda\\sdp_utils.cpp:455.)\n",
      "  attn_output = torch.nn.functional.scaled_dot_product_attention(\n",
      "12:32:05 INFO:Logged iteration result res.precision=0.6756897999233451 res.recall=0.8142645295054445\n"
     ]
    },
    {
     "name": "stdout",
     "output_type": "stream",
     "text": [
      "{'eval_loss': 0.5253523588180542, 'eval_step': 0, 'eval_precision': 0.6756897999233451, 'eval_recall': 0.8142645295054445, 'eval_f1': 0.7385330223338313, 'eval_label_count': 4, 'eval_runtime': 3.7893, 'eval_samples_per_second': 164.148, 'eval_steps_per_second': 2.639, 'epoch': 1.0}\n",
      "{'loss': 0.5786, 'grad_norm': 4.1576666831970215, 'learning_rate': 2.561531715872552e-05, 'epoch': 1.607717041800643}\n"
     ]
    },
    {
     "name": "stderr",
     "output_type": "stream",
     "text": [
      "12:33:49 INFO:Logged iteration result res.precision=0.6833589366007791 res.recall=0.8109974488430945\n"
     ]
    },
    {
     "name": "stdout",
     "output_type": "stream",
     "text": [
      "{'eval_loss': 0.5196940302848816, 'eval_step': 2, 'eval_precision': 0.6833589366007791, 'eval_recall': 0.8109974488430945, 'eval_f1': 0.7417271537441791, 'eval_label_count': 4, 'eval_runtime': 3.4757, 'eval_samples_per_second': 178.956, 'eval_steps_per_second': 2.877, 'epoch': 2.0}\n"
     ]
    },
    {
     "name": "stderr",
     "output_type": "stream",
     "text": [
      "12:35:36 INFO:Logged iteration result res.precision=0.7573025292015192 res.recall=0.8227498141029697\n"
     ]
    },
    {
     "name": "stdout",
     "output_type": "stream",
     "text": [
      "{'eval_loss': 0.642128050327301, 'eval_step': 4, 'eval_precision': 0.7573025292015192, 'eval_recall': 0.8227498141029697, 'eval_f1': 0.7886707269674141, 'eval_label_count': 4, 'eval_runtime': 3.5416, 'eval_samples_per_second': 175.627, 'eval_steps_per_second': 2.824, 'epoch': 3.0}\n",
      "{'loss': 0.2617, 'grad_norm': 8.406131744384766, 'learning_rate': 2.1230634317451038e-05, 'epoch': 3.215434083601286}\n"
     ]
    },
    {
     "name": "stderr",
     "output_type": "stream",
     "text": [
      "12:37:19 INFO:Logged iteration result res.precision=0.734778430976205 res.recall=0.8203361601295482\n"
     ]
    },
    {
     "name": "stdout",
     "output_type": "stream",
     "text": [
      "{'eval_loss': 0.743887722492218, 'eval_step': 6, 'eval_precision': 0.734778430976205, 'eval_recall': 0.8203361601295482, 'eval_f1': 0.7752037310439512, 'eval_label_count': 4, 'eval_runtime': 3.4763, 'eval_samples_per_second': 178.928, 'eval_steps_per_second': 2.877, 'epoch': 4.0}\n",
      "{'loss': 0.1109, 'grad_norm': 2.2925939559936523, 'learning_rate': 1.6845951476176556e-05, 'epoch': 4.823151125401929}\n"
     ]
    },
    {
     "name": "stderr",
     "output_type": "stream",
     "text": [
      "12:38:58 INFO:Logged iteration result res.precision=0.7846923413905645 res.recall=0.8160195503135643\n"
     ]
    },
    {
     "name": "stdout",
     "output_type": "stream",
     "text": [
      "{'eval_loss': 0.9803286194801331, 'eval_step': 8, 'eval_precision': 0.7846923413905645, 'eval_recall': 0.8160195503135643, 'eval_f1': 0.8000493966148183, 'eval_label_count': 4, 'eval_runtime': 3.4772, 'eval_samples_per_second': 178.882, 'eval_steps_per_second': 2.876, 'epoch': 5.0}\n"
     ]
    },
    {
     "name": "stderr",
     "output_type": "stream",
     "text": [
      "12:40:39 INFO:Logged iteration result res.precision=0.7781239492946235 res.recall=0.8063357384853598\n"
     ]
    },
    {
     "name": "stdout",
     "output_type": "stream",
     "text": [
      "{'eval_loss': 1.0557518005371094, 'eval_step': 10, 'eval_precision': 0.7781239492946235, 'eval_recall': 0.8063357384853598, 'eval_f1': 0.7919786841238325, 'eval_label_count': 4, 'eval_runtime': 3.4946, 'eval_samples_per_second': 177.99, 'eval_steps_per_second': 2.862, 'epoch': 6.0}\n",
      "{'loss': 0.0517, 'grad_norm': 6.891000270843506, 'learning_rate': 1.2461268634902075e-05, 'epoch': 6.430868167202572}\n"
     ]
    },
    {
     "name": "stderr",
     "output_type": "stream",
     "text": [
      "12:42:21 INFO:Logged iteration result res.precision=0.8123284405256106 res.recall=0.802416718675508\n"
     ]
    },
    {
     "name": "stdout",
     "output_type": "stream",
     "text": [
      "{'eval_loss': 1.4151220321655273, 'eval_step': 12, 'eval_precision': 0.8123284405256106, 'eval_recall': 0.802416718675508, 'eval_f1': 0.8073421592492506, 'eval_label_count': 4, 'eval_runtime': 3.501, 'eval_samples_per_second': 177.665, 'eval_steps_per_second': 2.856, 'epoch': 7.0}\n"
     ]
    },
    {
     "name": "stderr",
     "output_type": "stream",
     "text": [
      "12:44:04 INFO:Logged iteration result res.precision=0.7897360144764364 res.recall=0.8116329517718256\n"
     ]
    },
    {
     "name": "stdout",
     "output_type": "stream",
     "text": [
      "{'eval_loss': 1.4224872589111328, 'eval_step': 14, 'eval_precision': 0.7897360144764364, 'eval_recall': 0.8116329517718256, 'eval_f1': 0.800534775007818, 'eval_label_count': 4, 'eval_runtime': 3.5259, 'eval_samples_per_second': 176.406, 'eval_steps_per_second': 2.836, 'epoch': 8.0}\n",
      "{'loss': 0.0241, 'grad_norm': 2.3051090240478516, 'learning_rate': 8.076585793627593e-06, 'epoch': 8.038585209003216}\n"
     ]
    },
    {
     "name": "stderr",
     "output_type": "stream",
     "text": [
      "12:45:47 INFO:Logged iteration result res.precision=0.7945387512730647 res.recall=0.8088653282996519\n"
     ]
    },
    {
     "name": "stdout",
     "output_type": "stream",
     "text": [
      "{'eval_loss': 1.5340865850448608, 'eval_step': 16, 'eval_precision': 0.7945387512730647, 'eval_recall': 0.8088653282996519, 'eval_f1': 0.8016380350816449, 'eval_label_count': 4, 'eval_runtime': 3.4662, 'eval_samples_per_second': 179.449, 'eval_steps_per_second': 2.885, 'epoch': 9.0}\n",
      "{'loss': 0.013, 'grad_norm': 0.0549466647207737, 'learning_rate': 3.691902952353113e-06, 'epoch': 9.646302250803858}\n"
     ]
    },
    {
     "name": "stderr",
     "output_type": "stream",
     "text": [
      "12:47:27 INFO:Logged iteration result res.precision=0.8013214393971057 res.recall=0.8073749903550451\n"
     ]
    },
    {
     "name": "stdout",
     "output_type": "stream",
     "text": [
      "{'eval_loss': 1.6018013954162598, 'eval_step': 18, 'eval_precision': 0.8013214393971057, 'eval_recall': 0.8073749903550451, 'eval_f1': 0.8043368250704779, 'eval_label_count': 4, 'eval_runtime': 3.4731, 'eval_samples_per_second': 179.089, 'eval_steps_per_second': 2.879, 'epoch': 10.0}\n"
     ]
    },
    {
     "name": "stderr",
     "output_type": "stream",
     "text": [
      "12:49:08 INFO:Logged iteration result res.precision=0.8057886955001589 res.recall=0.8106319383455668\n"
     ]
    },
    {
     "name": "stdout",
     "output_type": "stream",
     "text": [
      "{'eval_loss': 1.6497583389282227, 'eval_step': 20, 'eval_precision': 0.8057886955001589, 'eval_recall': 0.8106319383455668, 'eval_f1': 0.8082030610759724, 'eval_label_count': 4, 'eval_runtime': 3.4679, 'eval_samples_per_second': 179.359, 'eval_steps_per_second': 2.884, 'epoch': 11.0}\n",
      "{'train_runtime': 1131.9258, 'train_samples_per_second': 24.178, 'train_steps_per_second': 3.022, 'train_loss': 0.15274266860736668, 'epoch': 11.0}\n"
     ]
    },
    {
     "name": "stderr",
     "output_type": "stream",
     "text": [
      "12:50:10 INFO:Logged iteration result res.precision=0.8057886955001589 res.recall=0.8106319383455668\n",
      "12:50:10 INFO:Logged iteration result res.precision=0.8057886955001589 res.recall=0.8106319383455668\n",
      "12:50:10 INFO:Finished iteration=0\n",
      "12:50:10 INFO:Logging model artifact (might take a while)\n",
      "12:50:14 INFO:Breaking early after iteration=0 of 5 folds\n",
      "12:50:15 INFO:Logged experiment result res.mean_precision=0.8057886955001589 res.mean_recall=0.8106319383455668\n",
      "12:50:16 INFO:Left mlflow context\n"
     ]
    },
    {
     "name": "stdout",
     "output_type": "stream",
     "text": [
      "d3fc119779a74a40b6010a0de4a8ab79\n"
     ]
    },
    {
     "data": {
      "text/plain": "Downloading artifacts:   0%|          | 0/7 [00:00<?, ?it/s]",
      "application/vnd.jupyter.widget-view+json": {
       "version_major": 2,
       "version_minor": 0,
       "model_id": "91629e5f1a6a43c3a887048c4521c00d"
      }
     },
     "metadata": {},
     "output_type": "display_data"
    },
    {
     "data": {
      "text/plain": "WindowsPath('src/service/models/bert_1')"
     },
     "execution_count": 7,
     "metadata": {},
     "output_type": "execute_result"
    }
   ],
   "source": [
    "'''\n",
    "from tooling.observability import get_run_id\n",
    "from tooling.config import BERTConfig, BERT\n",
    "\n",
    "from copy import deepcopy\n",
    "\n",
    "bert_1_experiment_config = deepcopy(base_experiment_config)\n",
    "bert_1_experiment_config.name = \"Production\"\n",
    "bert_1_experiment_config.force = False\n",
    "\n",
    "bert_1_config = BERT(\n",
    "    max_len=123,\n",
    "    number_epochs=11,\n",
    "    train_batch_size=8,\n",
    "    weight_decay=0.01,\n",
    "    weighted_classes=True,\n",
    "    learning_rate_bert=3e-05,\n",
    "    learning_rate_classifier=0.0005,\n",
    "    validation_batch_size=64,\n",
    ")\n",
    "\n",
    "\n",
    "bert_1_cfg = OmegaConf.structured(\n",
    "    BERTConfig(\n",
    "        bert=bert_1_config,\n",
    "        experiment=bert_1_experiment_config,\n",
    "        transformation=levels_transformation_config,\n",
    "    )\n",
    ")\n",
    "\n",
    "if run_experiments:\n",
    "    from experiments.bert import bert\n",
    "\n",
    "    bert(OmegaConf.create(bert_1_cfg))\n",
    "\n",
    "bert_1_run_id = get_run_id(bert_1_cfg, pin_commit=pin_commits)\n",
    "\n",
    "print(bert_1_run_id)\n",
    "\n",
    "bert_1_run = mlflow.get_run(bert_1_run_id)\n",
    "mlflow.artifacts.download_artifacts(\n",
    "    f\"{bert_1_run.info.artifact_uri}/0_model\",\n",
    "    dst_path=Path(\"./src/service/models/\"),\n",
    ")\n",
    "try:\n",
    "    shutil.rmtree(Path(\"./src/service/models/bert_1\"))\n",
    "except FileNotFoundError:\n",
    "    pass\n",
    "Path(\"./src/service/models/0_model\").rename(\"./src/service/models/bert_1\")\n",
    "## Train BERT Second Stage Model for BERT First Stage\n",
    "'''"
   ]
  },
  {
   "cell_type": "code",
   "execution_count": 8,
   "metadata": {
    "ExecuteTime": {
     "end_time": "2024-08-09T11:01:40.955713Z",
     "start_time": "2024-08-09T10:55:00.272755Z"
    }
   },
   "outputs": [
    {
     "name": "stderr",
     "output_type": "stream",
     "text": [
      "12:55:01 INFO:\n",
      "first_model_bert:\n",
      "  bert:\n",
      "    model: bert-large-uncased\n",
      "    type: BERT\n",
      "    max_len: 123\n",
      "    train_batch_size: 8\n",
      "    validation_batch_size: 64\n",
      "    number_epochs: 11\n",
      "    learning_rate_bert: 3.0e-05\n",
      "    learning_rate_classifier: 0.0005\n",
      "    weight_decay: 0.01\n",
      "    weighted_classes: true\n",
      "  experiment:\n",
      "    name: Production\n",
      "    description: ''\n",
      "    random_state: 125\n",
      "    folds: 5\n",
      "    iterations: 1\n",
      "    average: macro\n",
      "    dataset: all\n",
      "    lower_case: true\n",
      "    force: false\n",
      "    pin_commit: false\n",
      "    smote: false\n",
      "    smote_k_neighbors: 5\n",
      "    smote_sampling_strategy: not majority\n",
      "    smote_balance_to_average: false\n",
      "  transformation:\n",
      "    description: Levels\n",
      "    type: Reduced\n",
      "    task: Domain_Level\n",
      "    goals: null\n",
      "    domain_data: Domain_Level\n",
      "    activity: Domain_Level\n",
      "    stakeholder: Domain_Level\n",
      "    system_function: Interaction_Level\n",
      "    interaction: Interaction_Level\n",
      "    interaction_data: Domain_Level\n",
      "    workspace: Interaction_Level\n",
      "    software: System_Level\n",
      "    internal_action: System_Level\n",
      "    internal_data: System_Level\n",
      "    system_level: System_Level\n",
      "first_model_bilstm: null\n",
      "first_model_sner: null\n",
      "bert:\n",
      "  model: bert-large-uncased\n",
      "  type: BERT\n",
      "  max_len: 123\n",
      "  train_batch_size: 8\n",
      "  validation_batch_size: 64\n",
      "  number_epochs: 8\n",
      "  learning_rate_bert: 3.0e-05\n",
      "  learning_rate_classifier: 0.16\n",
      "  weight_decay: 0.1\n",
      "  weighted_classes: true\n",
      "  layers: []\n",
      "experiment:\n",
      "  name: Production\n",
      "  description: ''\n",
      "  random_state: 125\n",
      "  folds: 5\n",
      "  iterations: 1\n",
      "  average: macro\n",
      "  dataset: all\n",
      "  lower_case: true\n",
      "  force: false\n",
      "  pin_commit: false\n",
      "  smote: false\n",
      "  smote_k_neighbors: 5\n",
      "  smote_sampling_strategy: not majority\n",
      "  smote_balance_to_average: false\n",
      "transformation:\n",
      "  description: None\n",
      "  type: Full\n",
      "  task: Task\n",
      "  goals: null\n",
      "  domain_data: Domain_Data\n",
      "  activity: Activity\n",
      "  stakeholder: Stakeholder\n",
      "  system_function: System_Function\n",
      "  interaction: Interaction\n",
      "  interaction_data: Interaction_Data\n",
      "  workspace: Workspace\n",
      "  software: System_Level\n",
      "  internal_action: System_Level\n",
      "  internal_data: System_Level\n",
      "  system_level: System_Level\n",
      "\n",
      "12:55:04 INFO:New experiment. Running\n",
      "12:55:04 INFO:Entering mlflow context\n",
      "12:55:04 INFO:Training 2nd Stage\n",
      "12:55:04 INFO:Importing dataset: anno from E:\\BERT\\uvl-tore-classifier-bert\\src\\data\\datasets\\forum\\anno_test.json\n",
      "12:55:04 INFO:Importing dataset: anno from E:\\BERT\\uvl-tore-classifier-bert\\src\\data\\datasets\\forum\\anno_train.json\n",
      "12:55:04 INFO:Importing dataset: prolific from E:\\BERT\\uvl-tore-classifier-bert\\src\\data\\datasets\\prolific\\TORE_Coded_Answers_1_33.json\n",
      "12:55:05 INFO:Importing dataset: prolific from E:\\BERT\\uvl-tore-classifier-bert\\src\\data\\datasets\\prolific\\TORE_Coded_Answers_34_66.json\n",
      "12:55:05 INFO:Importing dataset: prolific from E:\\BERT\\uvl-tore-classifier-bert\\src\\data\\datasets\\prolific\\TORE_Coded_Answers_67_100.json\n",
      "12:55:05 INFO:Importing dataset: komoot from E:\\BERT\\uvl-tore-classifier-bert\\src\\data\\datasets\\app\\Komoot_AppReview.json\n",
      "12:55:06 INFO:Dataset Labels: transformed_dataset['labels']=['0', 'Domain_Data', 'Interaction_Data', 'Workspace', 'System_Level', 'System_Function', 'Activity', 'Interaction', 'Task', 'Stakeholder']\n",
      "12:55:06 INFO:Class weights: {'0': 0.13494545, 'Task': 8.320833, 'Domain_Data': 2.52101, 'Activity': 9.136601, 'Stakeholder': 9.949466, 'System_Function': 3.0622125, 'Interaction': 1.9934403, 'Interaction_Data': 1.877636, 'Workspace': 8.903822, 'System_Level': 2.5661314}\n",
      "12:55:06 INFO:Configured maximal token sequence length: max_len = 123\n",
      "12:55:07 INFO:Created fold datasets for fold: 0, stored at paths=[WindowsPath('E:/BERT/uvl-tore-classifier-bert/src/data/temp/sampling/capable-auk-759/0_data_train.pickle'), WindowsPath('E:/BERT/uvl-tore-classifier-bert/src/data/temp/sampling/capable-auk-759/0_data_train.csv'), WindowsPath('E:/BERT/uvl-tore-classifier-bert/src/data/temp/sampling/capable-auk-759/0_data_test.pickle'), WindowsPath('E:/BERT/uvl-tore-classifier-bert/src/data/temp/sampling/capable-auk-759/0_data_test.csv')]\n",
      "12:55:07 INFO:Starting iteration=0\n",
      "12:55:07 INFO:Found existing run with run_id: d3fc119779a74a40b6010a0de4a8ab79 matching the configuration\n",
      "12:55:07 INFO:Downloading run model from file:///E:/BERT/uvl-tore-classifier-bert/127.0.0.1/279074982670971635/d3fc119779a74a40b6010a0de4a8ab79/artifacts/0_model\n"
     ]
    },
    {
     "data": {
      "text/plain": "Downloading artifacts:   0%|          | 0/7 [00:00<?, ?it/s]",
      "application/vnd.jupyter.widget-view+json": {
       "version_major": 2,
       "version_minor": 0,
       "model_id": "300f97df00bc475ea99bb93bf5710588"
      }
     },
     "metadata": {},
     "output_type": "display_data"
    },
    {
     "data": {
      "text/plain": "Map:   0%|          | 0/2488 [00:00<?, ? examples/s]",
      "application/vnd.jupyter.widget-view+json": {
       "version_major": 2,
       "version_minor": 0,
       "model_id": "7799361e0a334344882ffe8c7c3f2f36"
      }
     },
     "metadata": {},
     "output_type": "display_data"
    },
    {
     "name": "stderr",
     "output_type": "stream",
     "text": [
      "12:55:08 INFO:Loading Model\n",
      "12:55:10 INFO:Creating hint column\n",
      "12:55:25 INFO:Hint column created\n"
     ]
    },
    {
     "data": {
      "text/plain": "Map:   0%|          | 0/2488 [00:00<?, ? examples/s]",
      "application/vnd.jupyter.widget-view+json": {
       "version_major": 2,
       "version_minor": 0,
       "model_id": "3815b084161a40c5bb2ae8b174532682"
      }
     },
     "metadata": {},
     "output_type": "display_data"
    },
    {
     "data": {
      "text/plain": "Map:   0%|          | 0/622 [00:00<?, ? examples/s]",
      "application/vnd.jupyter.widget-view+json": {
       "version_major": 2,
       "version_minor": 0,
       "model_id": "a6b2ac26c8804401939702c67d875711"
      }
     },
     "metadata": {},
     "output_type": "display_data"
    },
    {
     "name": "stderr",
     "output_type": "stream",
     "text": [
      "12:55:26 INFO:Loading Model\n",
      "12:55:28 INFO:Creating hint column\n",
      "12:55:32 INFO:Hint column created\n"
     ]
    },
    {
     "data": {
      "text/plain": "Map:   0%|          | 0/622 [00:00<?, ? examples/s]",
      "application/vnd.jupyter.widget-view+json": {
       "version_major": 2,
       "version_minor": 0,
       "model_id": "07a5dd8ca3bc465eaabe0ace1e15614b"
      }
     },
     "metadata": {},
     "output_type": "display_data"
    },
    {
     "name": "stdout",
     "output_type": "stream",
     "text": [
      "Test\n"
     ]
    },
    {
     "name": "stderr",
     "output_type": "stream",
     "text": [
      "E:\\BERT\\uvl-tore-classifier-bert\\venv310\\lib\\site-packages\\transformers\\training_args.py:1474: FutureWarning: `evaluation_strategy` is deprecated and will be removed in version 4.46 of 🤗 Transformers. Use `eval_strategy` instead\n",
      "  warnings.warn(\n",
      "12:55:33 INFO:7\n"
     ]
    },
    {
     "name": "stdout",
     "output_type": "stream",
     "text": [
      "StagedBertForTokenClassification(\n",
      "  (bert): BertModel(\n",
      "    (embeddings): BertEmbeddings(\n",
      "      (word_embeddings): Embedding(30522, 1024, padding_idx=0)\n",
      "      (position_embeddings): Embedding(512, 1024)\n",
      "      (token_type_embeddings): Embedding(2, 1024)\n",
      "      (LayerNorm): LayerNorm((1024,), eps=1e-12, elementwise_affine=True)\n",
      "      (dropout): Dropout(p=0.1, inplace=False)\n",
      "    )\n",
      "    (encoder): BertEncoder(\n",
      "      (layer): ModuleList(\n",
      "        (0-11): 12 x BertLayer(\n",
      "          (attention): BertAttention(\n",
      "            (self): BertSdpaSelfAttention(\n",
      "              (query): Linear(in_features=1024, out_features=1024, bias=True)\n",
      "              (key): Linear(in_features=1024, out_features=1024, bias=True)\n",
      "              (value): Linear(in_features=1024, out_features=1024, bias=True)\n",
      "              (dropout): Dropout(p=0.1, inplace=False)\n",
      "            )\n",
      "            (output): BertSelfOutput(\n",
      "              (dense): Linear(in_features=1024, out_features=1024, bias=True)\n",
      "              (LayerNorm): LayerNorm((1024,), eps=1e-12, elementwise_affine=True)\n",
      "              (dropout): Dropout(p=0.1, inplace=False)\n",
      "            )\n",
      "          )\n",
      "          (intermediate): BertIntermediate(\n",
      "            (dense): Linear(in_features=1024, out_features=3072, bias=True)\n",
      "            (intermediate_act_fn): GELUActivation()\n",
      "          )\n",
      "          (output): BertOutput(\n",
      "            (dense): Linear(in_features=3072, out_features=1024, bias=True)\n",
      "            (LayerNorm): LayerNorm((1024,), eps=1e-12, elementwise_affine=True)\n",
      "            (dropout): Dropout(p=0.1, inplace=False)\n",
      "          )\n",
      "        )\n",
      "      )\n",
      "    )\n",
      "  )\n",
      "  (dropout): Dropout(p=0.1, inplace=False)\n",
      "  (out_layers): Sequential(\n",
      "    (0): Linear(in_features=1028, out_features=10, bias=True)\n",
      "  )\n",
      ")\n"
     ]
    },
    {
     "name": "stderr",
     "output_type": "stream",
     "text": [
      "12:56:03 INFO:Logged iteration result res.precision=0.5392913576328743 res.recall=0.5337425736038452\n"
     ]
    },
    {
     "name": "stdout",
     "output_type": "stream",
     "text": [
      "{'eval_loss': 3.7942090034484863, 'eval_step': 0, 'eval_precision': 0.5392913576328743, 'eval_recall': 0.5337425736038452, 'eval_f1': 0.5365026189125826, 'eval_label_count': 10, 'eval_runtime': 1.6415, 'eval_samples_per_second': 378.926, 'eval_steps_per_second': 6.092, 'epoch': 1.0}\n",
      "{'loss': 6.956, 'grad_norm': 62.51388931274414, 'learning_rate': 2.397106109324759e-05, 'epoch': 1.607717041800643}\n"
     ]
    },
    {
     "name": "stderr",
     "output_type": "stream",
     "text": [
      "12:56:45 INFO:Logged iteration result res.precision=0.5063822530034654 res.recall=0.5730294178082354\n"
     ]
    },
    {
     "name": "stdout",
     "output_type": "stream",
     "text": [
      "{'eval_loss': 3.308440685272217, 'eval_step': 2, 'eval_precision': 0.5063822530034654, 'eval_recall': 0.5730294178082354, 'eval_f1': 0.5376483050415669, 'eval_label_count': 10, 'eval_runtime': 1.5929, 'eval_samples_per_second': 390.479, 'eval_steps_per_second': 6.278, 'epoch': 2.0}\n"
     ]
    },
    {
     "name": "stderr",
     "output_type": "stream",
     "text": [
      "12:57:30 INFO:Logged iteration result res.precision=0.528073221545292 res.recall=0.5091412079304918\n"
     ]
    },
    {
     "name": "stdout",
     "output_type": "stream",
     "text": [
      "{'eval_loss': 5.084657192230225, 'eval_step': 4, 'eval_precision': 0.528073221545292, 'eval_recall': 0.5091412079304918, 'eval_f1': 0.5184344341009641, 'eval_label_count': 10, 'eval_runtime': 1.6767, 'eval_samples_per_second': 370.964, 'eval_steps_per_second': 5.964, 'epoch': 3.0}\n",
      "{'loss': 1.7901, 'grad_norm': 120.33353424072266, 'learning_rate': 1.7942122186495177e-05, 'epoch': 3.215434083601286}\n"
     ]
    },
    {
     "name": "stderr",
     "output_type": "stream",
     "text": [
      "12:58:14 INFO:Logged iteration result res.precision=0.5709051216353134 res.recall=0.5912164887621856\n"
     ]
    },
    {
     "name": "stdout",
     "output_type": "stream",
     "text": [
      "{'eval_loss': 2.928711175918579, 'eval_step': 6, 'eval_precision': 0.5709051216353134, 'eval_recall': 0.5912164887621856, 'eval_f1': 0.5808833058600953, 'eval_label_count': 10, 'eval_runtime': 1.6348, 'eval_samples_per_second': 380.476, 'eval_steps_per_second': 6.117, 'epoch': 4.0}\n",
      "{'loss': 1.0839, 'grad_norm': 81.06916046142578, 'learning_rate': 1.1913183279742765e-05, 'epoch': 4.823151125401929}\n"
     ]
    },
    {
     "name": "stderr",
     "output_type": "stream",
     "text": [
      "12:58:57 INFO:Logged iteration result res.precision=0.5993728836908356 res.recall=0.6101016376926836\n"
     ]
    },
    {
     "name": "stdout",
     "output_type": "stream",
     "text": [
      "{'eval_loss': 3.358468770980835, 'eval_step': 8, 'eval_precision': 0.5993728836908356, 'eval_recall': 0.6101016376926836, 'eval_f1': 0.6046896754965376, 'eval_label_count': 10, 'eval_runtime': 1.6616, 'eval_samples_per_second': 374.344, 'eval_steps_per_second': 6.018, 'epoch': 5.0}\n"
     ]
    },
    {
     "name": "stderr",
     "output_type": "stream",
     "text": [
      "12:59:47 INFO:Logged iteration result res.precision=0.598880049341314 res.recall=0.628622668637876\n"
     ]
    },
    {
     "name": "stdout",
     "output_type": "stream",
     "text": [
      "{'eval_loss': 3.274951219558716, 'eval_step': 10, 'eval_precision': 0.598880049341314, 'eval_recall': 0.628622668637876, 'eval_f1': 0.6133910243892462, 'eval_label_count': 10, 'eval_runtime': 1.6002, 'eval_samples_per_second': 388.704, 'eval_steps_per_second': 6.249, 'epoch': 6.0}\n",
      "{'loss': 0.6087, 'grad_norm': 62.24665451049805, 'learning_rate': 5.884244372990354e-06, 'epoch': 6.430868167202572}\n"
     ]
    },
    {
     "name": "stderr",
     "output_type": "stream",
     "text": [
      "01:00:28 INFO:Logged iteration result res.precision=0.6301808966120607 res.recall=0.6449058199551485\n"
     ]
    },
    {
     "name": "stdout",
     "output_type": "stream",
     "text": [
      "{'eval_loss': 3.1634361743927, 'eval_step': 12, 'eval_precision': 0.6301808966120607, 'eval_recall': 0.6449058199551485, 'eval_f1': 0.6374583352947198, 'eval_label_count': 10, 'eval_runtime': 1.6504, 'eval_samples_per_second': 376.868, 'eval_steps_per_second': 6.059, 'epoch': 7.0}\n"
     ]
    },
    {
     "name": "stderr",
     "output_type": "stream",
     "text": [
      "01:01:09 INFO:Logged iteration result res.precision=0.6177489587915692 res.recall=0.6419935353316357\n"
     ]
    },
    {
     "name": "stdout",
     "output_type": "stream",
     "text": [
      "{'eval_loss': 3.0090813636779785, 'eval_step': 14, 'eval_precision': 0.6177489587915692, 'eval_recall': 0.6419935353316357, 'eval_f1': 0.629637945615335, 'eval_label_count': 10, 'eval_runtime': 1.6695, 'eval_samples_per_second': 372.577, 'eval_steps_per_second': 5.99, 'epoch': 8.0}\n",
      "{'train_runtime': 352.3917, 'train_samples_per_second': 56.483, 'train_steps_per_second': 7.06, 'train_loss': 2.1583940070541727, 'epoch': 8.0}\n"
     ]
    },
    {
     "name": "stderr",
     "output_type": "stream",
     "text": [
      "01:01:33 INFO:Logged iteration result res.precision=0.6177489587915692 res.recall=0.6419935353316357\n",
      "01:01:34 INFO:Logged iteration result res.precision=0.6177489587915692 res.recall=0.6419935353316357\n",
      "01:01:34 INFO:Finished iteration=0\n",
      "01:01:34 INFO:Logging model artifact (might take a while)\n",
      "01:01:36 INFO:Breaking early after iteration=0 of 5 folds\n",
      "01:01:37 INFO:Logged experiment result res.mean_precision=0.6177489587915692 res.mean_recall=0.6419935353316357\n",
      "01:01:38 INFO:Left mlflow context\n"
     ]
    },
    {
     "name": "stdout",
     "output_type": "stream",
     "text": [
      "ef1de5d973ba48da908754e23427c330\n"
     ]
    },
    {
     "data": {
      "text/plain": "Downloading artifacts:   0%|          | 0/7 [00:00<?, ?it/s]",
      "application/vnd.jupyter.widget-view+json": {
       "version_major": 2,
       "version_minor": 0,
       "model_id": "72486055cd75478d8a521aabb2a6084c"
      }
     },
     "metadata": {},
     "output_type": "display_data"
    },
    {
     "data": {
      "text/plain": "WindowsPath('src/service/models/bert_2_bert')"
     },
     "execution_count": 8,
     "metadata": {},
     "output_type": "execute_result"
    }
   ],
   "source": [
    "'''\n",
    "from tooling.observability import get_run_id\n",
    "from tooling.config import DualModelStagedBERTConfig, StagedBERT\n",
    "\n",
    "from copy import deepcopy\n",
    "\n",
    "bert_2_bert_experiment_config = deepcopy(base_experiment_config)\n",
    "bert_2_bert_experiment_config.name = \"Production\"\n",
    "\n",
    "bert_2_bert_config = StagedBERT(\n",
    "    max_len=123,\n",
    "    layers=[],\n",
    "    learning_rate_bert=3e-05,\n",
    "    learning_rate_classifier=0.16,\n",
    "    number_epochs=8,\n",
    "    train_batch_size=8,\n",
    "    weight_decay=0.1,\n",
    "    weighted_classes=True,\n",
    "    validation_batch_size=64,\n",
    ")\n",
    "\n",
    "cfg = DualModelStagedBERTConfig(\n",
    "    bert=bert_2_bert_config,\n",
    "    experiment=bert_2_bert_experiment_config,\n",
    "    transformation=label_transformation_config,\n",
    "    first_model_bert=bert_1_cfg,\n",
    ")\n",
    "\n",
    "bert_2_bert_cfg: DualModelStagedBERTConfig = OmegaConf.structured(cfg)\n",
    "\n",
    "if run_experiments:\n",
    "    from experiments.dual_model_staged_bert import dual_stage_bert\n",
    "\n",
    "    dual_stage_bert(OmegaConf.create(bert_2_bert_cfg))\n",
    "\n",
    "bert_2_bert_run_id = get_run_id(bert_2_bert_cfg, pin_commit=pin_commits)\n",
    "\n",
    "print(bert_2_bert_run_id)\n",
    "\n",
    "bert_2_bert_run = mlflow.get_run(bert_2_bert_run_id)\n",
    "mlflow.artifacts.download_artifacts(\n",
    "    f\"{bert_2_bert_run.info.artifact_uri}/0_model\",\n",
    "    dst_path=Path(\"./src/service/models/\"),\n",
    ")\n",
    "try:\n",
    "    shutil.rmtree(Path(\"./src/service/models/bert_2_bert\"))\n",
    "except FileNotFoundError:\n",
    "    pass\n",
    "Path(\"./src/service/models/0_model\").rename(\"./src/service/models/bert_2_bert\")\n",
    "'''"
   ]
  },
  {
   "cell_type": "markdown",
   "metadata": {},
   "source": [
    "## Train BERT Second Stage Model for SNER First Stage\n"
   ]
  },
  {
   "cell_type": "code",
   "execution_count": null,
   "metadata": {},
   "outputs": [],
   "source": [
    "'''\n",
    "from tooling.observability import get_run_id\n",
    "from tooling.config import DualModelStagedBERTConfig, StagedBERT\n",
    "\n",
    "from copy import deepcopy\n",
    "\n",
    "import os\n",
    "\n",
    "os.environ[\"TOKENIZERS_PARALLELISM\"] = \"true\"\n",
    "\n",
    "bert_2_sner_experiment_config = deepcopy(base_experiment_config)\n",
    "bert_2_sner_experiment_config.name = \"Production\"\n",
    "\n",
    "bert_2_sner_config = StagedBERT(\n",
    "    max_len=123,\n",
    "    layers=[],\n",
    "    learning_rate_bert=3e-05,\n",
    "    learning_rate_classifier=0.16,\n",
    "    number_epochs=5,\n",
    "    train_batch_size=8,\n",
    "    weight_decay=0.1,\n",
    "    weighted_classes=True,\n",
    ")\n",
    "\n",
    "bert_2_sner_cfg = OmegaConf.structured(\n",
    "    DualModelStagedBERTConfig(\n",
    "        bert=bert_2_sner_config,\n",
    "        experiment=bert_2_sner_experiment_config,\n",
    "        transformation=label_transformation_config,\n",
    "        first_model_sner=sner_cfg,\n",
    "    )\n",
    ")\n",
    "\n",
    "if run_experiments:\n",
    "    from experiments.dual_model_staged_bert import dual_stage_bert\n",
    "\n",
    "    dual_stage_bert(OmegaConf.create(bert_2_sner_cfg))\n",
    "\n",
    "bert_2_sner_run_id = get_run_id(bert_2_sner_cfg, pin_commit=pin_commits)\n",
    "\n",
    "print(bert_2_sner_run_id)\n",
    "\n",
    "bert_2_sner_run = mlflow.get_run(bert_2_sner_run_id)\n",
    "mlflow.artifacts.download_artifacts(\n",
    "    f\"{bert_2_sner_run.info.artifact_uri}/0_model\",\n",
    "    dst_path=Path(\"./src/service/models/\"),\n",
    ")\n",
    "try:\n",
    "    shutil.rmtree(Path(\"./src/service/models/bert_2_sner\"))\n",
    "except FileNotFoundError:\n",
    "    pass\n",
    "\n",
    "Path(\"./src/service/models/0_model\").rename(\"./src/service/models/bert_2_sner\")\n",
    "'''"
   ]
  },
  {
   "cell_type": "markdown",
   "metadata": {},
   "source": [
    "## Train BERT Second Stage Model for BILSTM First Stage\n"
   ]
  },
  {
   "cell_type": "code",
   "execution_count": 10,
   "metadata": {
    "ExecuteTime": {
     "end_time": "2024-08-09T11:09:50.956787Z",
     "start_time": "2024-08-09T11:04:17.952322Z"
    }
   },
   "outputs": [
    {
     "name": "stderr",
     "output_type": "stream",
     "text": [
      "01:04:18 INFO:\n",
      "first_model_bert: null\n",
      "first_model_bilstm:\n",
      "  bilstm:\n",
      "    type: BiLSTM\n",
      "    sentence_length: 106\n",
      "    batch_size: 16\n",
      "    number_epochs: 5\n",
      "    verbose: 1\n",
      "    weighted_classes: false\n",
      "    learning_rate: 0.006\n",
      "  experiment:\n",
      "    name: Production\n",
      "    description: ''\n",
      "    random_state: 125\n",
      "    folds: 5\n",
      "    iterations: 1\n",
      "    average: macro\n",
      "    dataset: all\n",
      "    lower_case: true\n",
      "    force: false\n",
      "    pin_commit: false\n",
      "    smote: false\n",
      "    smote_k_neighbors: 5\n",
      "    smote_sampling_strategy: not majority\n",
      "    smote_balance_to_average: false\n",
      "  transformation:\n",
      "    description: Levels\n",
      "    type: Reduced\n",
      "    task: Domain_Level\n",
      "    goals: null\n",
      "    domain_data: Domain_Level\n",
      "    activity: Domain_Level\n",
      "    stakeholder: Domain_Level\n",
      "    system_function: Interaction_Level\n",
      "    interaction: Interaction_Level\n",
      "    interaction_data: Domain_Level\n",
      "    workspace: Interaction_Level\n",
      "    software: System_Level\n",
      "    internal_action: System_Level\n",
      "    internal_data: System_Level\n",
      "    system_level: System_Level\n",
      "first_model_sner: null\n",
      "bert:\n",
      "  model: bert-large-uncased\n",
      "  type: BERT\n",
      "  max_len: 123\n",
      "  train_batch_size: 8\n",
      "  validation_batch_size: 32\n",
      "  number_epochs: 5\n",
      "  learning_rate_bert: 3.0e-05\n",
      "  learning_rate_classifier: 0.16\n",
      "  weight_decay: 0.1\n",
      "  weighted_classes: true\n",
      "  layers: []\n",
      "experiment:\n",
      "  name: Production\n",
      "  description: ''\n",
      "  random_state: 125\n",
      "  folds: 5\n",
      "  iterations: 1\n",
      "  average: macro\n",
      "  dataset: all\n",
      "  lower_case: true\n",
      "  force: false\n",
      "  pin_commit: false\n",
      "  smote: false\n",
      "  smote_k_neighbors: 5\n",
      "  smote_sampling_strategy: not majority\n",
      "  smote_balance_to_average: false\n",
      "transformation:\n",
      "  description: None\n",
      "  type: Full\n",
      "  task: Task\n",
      "  goals: null\n",
      "  domain_data: Domain_Data\n",
      "  activity: Activity\n",
      "  stakeholder: Stakeholder\n",
      "  system_function: System_Function\n",
      "  interaction: Interaction\n",
      "  interaction_data: Interaction_Data\n",
      "  workspace: Workspace\n",
      "  software: System_Level\n",
      "  internal_action: System_Level\n",
      "  internal_data: System_Level\n",
      "  system_level: System_Level\n",
      "\n",
      "01:04:18 INFO:New experiment. Running\n",
      "01:04:18 INFO:Entering mlflow context\n",
      "01:04:18 INFO:Training 2nd Stage\n",
      "01:04:18 INFO:Importing dataset: anno from E:\\BERT\\uvl-tore-classifier-bert\\src\\data\\datasets\\forum\\anno_test.json\n",
      "01:04:19 INFO:Importing dataset: anno from E:\\BERT\\uvl-tore-classifier-bert\\src\\data\\datasets\\forum\\anno_train.json\n",
      "01:04:19 INFO:Importing dataset: prolific from E:\\BERT\\uvl-tore-classifier-bert\\src\\data\\datasets\\prolific\\TORE_Coded_Answers_1_33.json\n",
      "01:04:19 INFO:Importing dataset: prolific from E:\\BERT\\uvl-tore-classifier-bert\\src\\data\\datasets\\prolific\\TORE_Coded_Answers_34_66.json\n",
      "01:04:19 INFO:Importing dataset: prolific from E:\\BERT\\uvl-tore-classifier-bert\\src\\data\\datasets\\prolific\\TORE_Coded_Answers_67_100.json\n",
      "01:04:19 INFO:Importing dataset: komoot from E:\\BERT\\uvl-tore-classifier-bert\\src\\data\\datasets\\app\\Komoot_AppReview.json\n",
      "01:04:20 INFO:Dataset Labels: transformed_dataset['labels']=['0', 'Domain_Data', 'Interaction_Data', 'Workspace', 'System_Level', 'System_Function', 'Activity', 'Interaction', 'Task', 'Stakeholder']\n",
      "01:04:20 INFO:Class weights: {'0': 0.13494545, 'Task': 8.320833, 'Domain_Data': 2.52101, 'Activity': 9.136601, 'Stakeholder': 9.949466, 'System_Function': 3.0622125, 'Interaction': 1.9934403, 'Interaction_Data': 1.877636, 'Workspace': 8.903822, 'System_Level': 2.5661314}\n",
      "01:04:20 INFO:Configured maximal token sequence length: max_len = 123\n",
      "01:04:21 INFO:Created fold datasets for fold: 0, stored at paths=[WindowsPath('E:/BERT/uvl-tore-classifier-bert/src/data/temp/sampling/intelligent-eel-228/0_data_train.pickle'), WindowsPath('E:/BERT/uvl-tore-classifier-bert/src/data/temp/sampling/intelligent-eel-228/0_data_train.csv'), WindowsPath('E:/BERT/uvl-tore-classifier-bert/src/data/temp/sampling/intelligent-eel-228/0_data_test.pickle'), WindowsPath('E:/BERT/uvl-tore-classifier-bert/src/data/temp/sampling/intelligent-eel-228/0_data_test.csv')]\n",
      "01:04:21 INFO:Starting iteration=0\n",
      "01:04:21 INFO:Found existing run with run_id: ec764d893a574ea0a71bcdd67e025dc5 matching the configuration\n",
      "01:04:21 INFO:Downloading run model from file:///E:/BERT/uvl-tore-classifier-bert/127.0.0.1/279074982670971635/ec764d893a574ea0a71bcdd67e025dc5/artifacts/0_model\n"
     ]
    },
    {
     "data": {
      "text/plain": "Downloading artifacts:   0%|          | 0/5 [00:00<?, ?it/s]",
      "application/vnd.jupyter.widget-view+json": {
       "version_major": 2,
       "version_minor": 0,
       "model_id": "253fd9ec6c124351998af49c4774da80"
      }
     },
     "metadata": {},
     "output_type": "display_data"
    },
    {
     "name": "stderr",
     "output_type": "stream",
     "text": [
      "01:04:21 INFO:loading projection weights from C:\\Users\\mjand/gensim-data\\glove-twitter-100\\glove-twitter-100.gz\n",
      "01:05:07 INFO:KeyedVectors lifecycle event {'msg': 'loaded (1193514, 100) matrix of type float32 from C:\\\\Users\\\\mjand/gensim-data\\\\glove-twitter-100\\\\glove-twitter-100.gz', 'binary': False, 'encoding': 'utf8', 'datetime': '2024-08-09T13:05:07.502736', 'gensim': '4.3.2', 'python': '3.10.0 (tags/v3.10.0:b494f59, Oct  4 2021, 19:00:18) [MSC v.1929 64 bit (AMD64)]', 'platform': 'Windows-10-10.0.22631-SP0', 'event': 'load_word2vec_format'}\n",
      "01:05:08 WARNING:From E:\\BERT\\uvl-tore-classifier-bert\\venv310\\lib\\site-packages\\keras\\src\\saving\\legacy\\saved_model\\load.py:107: The name tf.gfile.Exists is deprecated. Please use tf.io.gfile.exists instead.\n",
      "\n",
      "01:05:09 WARNING:From E:\\BERT\\uvl-tore-classifier-bert\\venv310\\lib\\site-packages\\keras\\src\\engine\\functional.py:156: The name tf.executing_eagerly_outside_functions is deprecated. Please use tf.compat.v1.executing_eagerly_outside_functions instead.\n",
      "\n"
     ]
    },
    {
     "name": "stdout",
     "output_type": "stream",
     "text": [
      "78/78 [==============================] - 4s 14ms/step\n"
     ]
    },
    {
     "data": {
      "text/plain": "Map:   0%|          | 0/2488 [00:00<?, ? examples/s]",
      "application/vnd.jupyter.widget-view+json": {
       "version_major": 2,
       "version_minor": 0,
       "model_id": "97c1f523359a4614894ca069c8e9b1ad"
      }
     },
     "metadata": {},
     "output_type": "display_data"
    },
    {
     "name": "stdout",
     "output_type": "stream",
     "text": [
      "20/20 [==============================] - 1s 16ms/step\n"
     ]
    },
    {
     "data": {
      "text/plain": "Map:   0%|          | 0/622 [00:00<?, ? examples/s]",
      "application/vnd.jupyter.widget-view+json": {
       "version_major": 2,
       "version_minor": 0,
       "model_id": "d5625098e80d42be955c7cbba2b83efc"
      }
     },
     "metadata": {},
     "output_type": "display_data"
    },
    {
     "name": "stdout",
     "output_type": "stream",
     "text": [
      "Test\n"
     ]
    },
    {
     "name": "stderr",
     "output_type": "stream",
     "text": [
      "E:\\BERT\\uvl-tore-classifier-bert\\venv310\\lib\\site-packages\\transformers\\training_args.py:1474: FutureWarning: `evaluation_strategy` is deprecated and will be removed in version 4.46 of 🤗 Transformers. Use `eval_strategy` instead\n",
      "  warnings.warn(\n",
      "01:06:15 INFO:7\n"
     ]
    },
    {
     "name": "stdout",
     "output_type": "stream",
     "text": [
      "StagedBertForTokenClassification(\n",
      "  (bert): BertModel(\n",
      "    (embeddings): BertEmbeddings(\n",
      "      (word_embeddings): Embedding(30522, 1024, padding_idx=0)\n",
      "      (position_embeddings): Embedding(512, 1024)\n",
      "      (token_type_embeddings): Embedding(2, 1024)\n",
      "      (LayerNorm): LayerNorm((1024,), eps=1e-12, elementwise_affine=True)\n",
      "      (dropout): Dropout(p=0.1, inplace=False)\n",
      "    )\n",
      "    (encoder): BertEncoder(\n",
      "      (layer): ModuleList(\n",
      "        (0-11): 12 x BertLayer(\n",
      "          (attention): BertAttention(\n",
      "            (self): BertSdpaSelfAttention(\n",
      "              (query): Linear(in_features=1024, out_features=1024, bias=True)\n",
      "              (key): Linear(in_features=1024, out_features=1024, bias=True)\n",
      "              (value): Linear(in_features=1024, out_features=1024, bias=True)\n",
      "              (dropout): Dropout(p=0.1, inplace=False)\n",
      "            )\n",
      "            (output): BertSelfOutput(\n",
      "              (dense): Linear(in_features=1024, out_features=1024, bias=True)\n",
      "              (LayerNorm): LayerNorm((1024,), eps=1e-12, elementwise_affine=True)\n",
      "              (dropout): Dropout(p=0.1, inplace=False)\n",
      "            )\n",
      "          )\n",
      "          (intermediate): BertIntermediate(\n",
      "            (dense): Linear(in_features=1024, out_features=3072, bias=True)\n",
      "            (intermediate_act_fn): GELUActivation()\n",
      "          )\n",
      "          (output): BertOutput(\n",
      "            (dense): Linear(in_features=3072, out_features=1024, bias=True)\n",
      "            (LayerNorm): LayerNorm((1024,), eps=1e-12, elementwise_affine=True)\n",
      "            (dropout): Dropout(p=0.1, inplace=False)\n",
      "          )\n",
      "        )\n",
      "      )\n",
      "    )\n",
      "  )\n",
      "  (dropout): Dropout(p=0.1, inplace=False)\n",
      "  (out_layers): Sequential(\n",
      "    (0): Linear(in_features=1028, out_features=10, bias=True)\n",
      "  )\n",
      ")\n"
     ]
    },
    {
     "name": "stderr",
     "output_type": "stream",
     "text": [
      "01:06:44 INFO:Logged iteration result res.precision=0.26281309088656263 res.recall=0.4016852215276566\n"
     ]
    },
    {
     "name": "stdout",
     "output_type": "stream",
     "text": [
      "{'eval_loss': 5.582622528076172, 'eval_step': 0, 'eval_precision': 0.26281309088656263, 'eval_recall': 0.4016852215276566, 'eval_f1': 0.3177378562470464, 'eval_label_count': 10, 'eval_runtime': 1.6838, 'eval_samples_per_second': 369.395, 'eval_steps_per_second': 11.878, 'epoch': 1.0}\n",
      "{'loss': 8.0593, 'grad_norm': 144.47695922851562, 'learning_rate': 2.0353697749196142e-05, 'epoch': 1.607717041800643}\n"
     ]
    },
    {
     "name": "stderr",
     "output_type": "stream",
     "text": [
      "01:07:17 INFO:Logged iteration result res.precision=0.49356327079853185 res.recall=0.5463156963401071\n"
     ]
    },
    {
     "name": "stdout",
     "output_type": "stream",
     "text": [
      "{'eval_loss': 1.7887775897979736, 'eval_step': 2, 'eval_precision': 0.49356327079853185, 'eval_recall': 0.5463156963401071, 'eval_f1': 0.5186014343883765, 'eval_label_count': 10, 'eval_runtime': 1.6076, 'eval_samples_per_second': 386.917, 'eval_steps_per_second': 12.441, 'epoch': 2.0}\n"
     ]
    },
    {
     "name": "stderr",
     "output_type": "stream",
     "text": [
      "01:08:03 INFO:Logged iteration result res.precision=0.4501432856953981 res.recall=0.4737963650840255\n"
     ]
    },
    {
     "name": "stdout",
     "output_type": "stream",
     "text": [
      "{'eval_loss': 2.2039310932159424, 'eval_step': 4, 'eval_precision': 0.4501432856953981, 'eval_recall': 0.4737963650840255, 'eval_f1': 0.4616670631021031, 'eval_label_count': 10, 'eval_runtime': 1.6063, 'eval_samples_per_second': 387.215, 'eval_steps_per_second': 12.451, 'epoch': 3.0}\n",
      "{'loss': 2.2868, 'grad_norm': 74.28800201416016, 'learning_rate': 1.0707395498392284e-05, 'epoch': 3.215434083601286}\n"
     ]
    },
    {
     "name": "stderr",
     "output_type": "stream",
     "text": [
      "01:08:43 INFO:Logged iteration result res.precision=0.5292361983525639 res.recall=0.595063434628867\n"
     ]
    },
    {
     "name": "stdout",
     "output_type": "stream",
     "text": [
      "{'eval_loss': 1.4000910520553589, 'eval_step': 6, 'eval_precision': 0.5292361983525639, 'eval_recall': 0.595063434628867, 'eval_f1': 0.5602227389979099, 'eval_label_count': 10, 'eval_runtime': 1.7089, 'eval_samples_per_second': 363.976, 'eval_steps_per_second': 11.703, 'epoch': 4.0}\n",
      "{'loss': 1.2401, 'grad_norm': 42.581459045410156, 'learning_rate': 1.0610932475884245e-06, 'epoch': 4.823151125401929}\n"
     ]
    },
    {
     "name": "stderr",
     "output_type": "stream",
     "text": [
      "01:09:23 INFO:Logged iteration result res.precision=0.4494197880174009 res.recall=0.6317989450945161\n"
     ]
    },
    {
     "name": "stdout",
     "output_type": "stream",
     "text": [
      "{'eval_loss': 1.3167644739151, 'eval_step': 8, 'eval_precision': 0.4494197880174009, 'eval_recall': 0.6317989450945161, 'eval_f1': 0.5252275775073979, 'eval_label_count': 10, 'eval_runtime': 1.7127, 'eval_samples_per_second': 363.165, 'eval_steps_per_second': 11.677, 'epoch': 5.0}\n",
      "{'train_runtime': 200.609, 'train_samples_per_second': 62.011, 'train_steps_per_second': 7.751, 'train_loss': 3.755339663588349, 'epoch': 5.0}\n"
     ]
    },
    {
     "name": "stderr",
     "output_type": "stream",
     "text": [
      "01:09:45 INFO:Logged iteration result res.precision=0.4494197880174009 res.recall=0.6317989450945161\n",
      "01:09:45 INFO:Logged iteration result res.precision=0.4494197880174009 res.recall=0.6317989450945161\n",
      "01:09:45 INFO:Finished iteration=0\n",
      "01:09:45 INFO:Logging model artifact (might take a while)\n",
      "01:09:46 INFO:Breaking early after iteration=0 of 5 folds\n",
      "01:09:47 INFO:Logged experiment result res.mean_precision=0.4494197880174009 res.mean_recall=0.6317989450945161\n",
      "01:09:48 INFO:Left mlflow context\n"
     ]
    },
    {
     "name": "stdout",
     "output_type": "stream",
     "text": [
      "f21fd79e52d647b899146124dadb3f3d\n"
     ]
    },
    {
     "data": {
      "text/plain": "Downloading artifacts:   0%|          | 0/7 [00:00<?, ?it/s]",
      "application/vnd.jupyter.widget-view+json": {
       "version_major": 2,
       "version_minor": 0,
       "model_id": "0eef2ae9c58342f39c38b1777f11c274"
      }
     },
     "metadata": {},
     "output_type": "display_data"
    },
    {
     "data": {
      "text/plain": "WindowsPath('src/service/models/bert_2_bilstm')"
     },
     "execution_count": 10,
     "metadata": {},
     "output_type": "execute_result"
    }
   ],
   "source": [
    "'''\n",
    "from tooling.observability import get_run_id\n",
    "from tooling.config import DualModelStagedBERTConfig, StagedBERT\n",
    "\n",
    "from copy import deepcopy\n",
    "\n",
    "bilstm_config = BiLSTM(\n",
    "    batch_size=16,\n",
    "    learning_rate=0.006,\n",
    "    number_epochs=5,\n",
    "    weighted_classes=False,\n",
    "    sentence_length=106,\n",
    ")\n",
    "\n",
    "\n",
    "bert_2_bilstm_experiment_config = deepcopy(base_experiment_config)\n",
    "bert_2_bilstm_experiment_config.name = \"Production\"\n",
    "\n",
    "bert_2_bilstm_config = StagedBERT(\n",
    "    max_len=123,\n",
    "    layers=[],\n",
    "    learning_rate_bert=3e-05,\n",
    "    learning_rate_classifier=0.16,\n",
    "    number_epochs=5,\n",
    "    train_batch_size=8,\n",
    "    weight_decay=0.1,\n",
    "    weighted_classes=True,\n",
    ")\n",
    "\n",
    "bert_2_bilstm_cfg = OmegaConf.structured(\n",
    "    DualModelStagedBERTConfig(\n",
    "        bert=bert_2_bilstm_config,\n",
    "        experiment=bert_2_bilstm_experiment_config,\n",
    "        transformation=label_transformation_config,\n",
    "        first_model_bilstm=bilstm_cfg,\n",
    "    )\n",
    ")\n",
    "bert_2_bilstm_cfg.first_model_bilstm.bilstm.sentence_length = 106\n",
    "\n",
    "\n",
    "if run_experiments:\n",
    "    from experiments.dual_model_staged_bert import dual_stage_bert\n",
    "\n",
    "    dual_stage_bert(OmegaConf.create(bert_2_bilstm_cfg))\n",
    "\n",
    "bert_2_bilstm_run_id = get_run_id(bert_2_bilstm_cfg, pin_commit=pin_commits)\n",
    "\n",
    "print(bert_2_bilstm_run_id)\n",
    "\n",
    "bert_2_bilstm_run = mlflow.get_run(bert_2_bilstm_run_id)\n",
    "mlflow.artifacts.download_artifacts(\n",
    "    f\"{bert_2_bilstm_run.info.artifact_uri}/0_model\",\n",
    "    dst_path=Path(\"./src/service/models/\"),\n",
    ")\n",
    "try:\n",
    "    shutil.rmtree(Path(\"./src/service/models/bert_2_bilstm\"))\n",
    "except FileNotFoundError:\n",
    "    pass\n",
    "Path(\"./src/service/models/0_model\").rename(\n",
    "    \"./src/service/models/bert_2_bilstm\"\n",
    ")\n",
    "'''"
   ]
  },
  {
   "cell_type": "markdown",
   "metadata": {},
   "source": [
    "## Train BERT E2E Model\n"
   ]
  },
  {
   "cell_type": "code",
   "execution_count": 11,
   "outputs": [
    {
     "name": "stderr",
     "output_type": "stream",
     "text": [
      "01:42:10 INFO:\n",
      "bert:\n",
      "  model: bert-large-uncased\n",
      "  type: BERT\n",
      "  max_len: 123\n",
      "  train_batch_size: 8\n",
      "  validation_batch_size: 32\n",
      "  number_epochs: 11\n",
      "  learning_rate_bert: 6.0e-05\n",
      "  learning_rate_classifier: 0.1\n",
      "  weight_decay: 0.01\n",
      "  weighted_classes: false\n",
      "experiment:\n",
      "  name: Production\n",
      "  description: ''\n",
      "  random_state: 125\n",
      "  folds: 5\n",
      "  iterations: 1\n",
      "  average: macro\n",
      "  dataset: all\n",
      "  lower_case: true\n",
      "  force: false\n",
      "  pin_commit: false\n",
      "  smote: false\n",
      "  smote_k_neighbors: 5\n",
      "  smote_sampling_strategy: not majority\n",
      "  smote_balance_to_average: false\n",
      "transformation:\n",
      "  description: None\n",
      "  type: Full\n",
      "  task: Task\n",
      "  goals: null\n",
      "  domain_data: Domain_Data\n",
      "  activity: Activity\n",
      "  stakeholder: Stakeholder\n",
      "  system_function: System_Function\n",
      "  interaction: Interaction\n",
      "  interaction_data: Interaction_Data\n",
      "  workspace: Workspace\n",
      "  software: System_Level\n",
      "  internal_action: System_Level\n",
      "  internal_data: System_Level\n",
      "  system_level: System_Level\n",
      "\n",
      "01:42:11 INFO:New experiment. Running\n",
      "01:42:11 INFO:Entering mlflow context\n",
      "01:42:11 INFO:Importing dataset: anno from E:\\BERT\\uvl-tore-classifier-bert\\src\\data\\datasets\\forum\\anno_test.json\n",
      "01:42:11 INFO:Importing dataset: anno from E:\\BERT\\uvl-tore-classifier-bert\\src\\data\\datasets\\forum\\anno_train.json\n",
      "01:42:11 INFO:Importing dataset: prolific from E:\\BERT\\uvl-tore-classifier-bert\\src\\data\\datasets\\prolific\\TORE_Coded_Answers_1_33.json\n",
      "01:42:11 INFO:Importing dataset: prolific from E:\\BERT\\uvl-tore-classifier-bert\\src\\data\\datasets\\prolific\\TORE_Coded_Answers_34_66.json\n",
      "01:42:12 INFO:Importing dataset: prolific from E:\\BERT\\uvl-tore-classifier-bert\\src\\data\\datasets\\prolific\\TORE_Coded_Answers_67_100.json\n",
      "01:42:12 INFO:Importing dataset: komoot from E:\\BERT\\uvl-tore-classifier-bert\\src\\data\\datasets\\app\\Komoot_AppReview.json\n",
      "01:42:13 INFO:Dataset Labels: transformed_dataset['labels']=['0', 'Domain_Data', 'Interaction_Data', 'Workspace', 'System_Level', 'System_Function', 'Activity', 'Interaction', 'Task', 'Stakeholder']\n",
      "01:42:13 INFO:Class weights: {'0': 1.0, 'Task': 1.0, 'Domain_Data': 1.0, 'Activity': 1.0, 'Stakeholder': 1.0, 'System_Function': 1.0, 'Interaction': 1.0, 'Interaction_Data': 1.0, 'Workspace': 1.0, 'System_Level': 1.0}\n",
      "01:42:13 INFO:Configured maximal token sequence length: max_len = 123\n",
      "01:42:13 INFO:Created fold datasets for fold: 0, stored at paths=[WindowsPath('E:/BERT/uvl-tore-classifier-bert/src/data/temp/sampling/capable-auk-759/0_data_train.pickle'), WindowsPath('E:/BERT/uvl-tore-classifier-bert/src/data/temp/sampling/capable-auk-759/0_data_train.csv'), WindowsPath('E:/BERT/uvl-tore-classifier-bert/src/data/temp/sampling/capable-auk-759/0_data_test.pickle'), WindowsPath('E:/BERT/uvl-tore-classifier-bert/src/data/temp/sampling/capable-auk-759/0_data_test.csv')]\n",
      "01:42:13 INFO:Starting iteration=0\n"
     ]
    },
    {
     "data": {
      "text/plain": "Map:   0%|          | 0/2488 [00:00<?, ? examples/s]",
      "application/vnd.jupyter.widget-view+json": {
       "version_major": 2,
       "version_minor": 0,
       "model_id": "f20f383d31a14b769421e7a51b0a1f2a"
      }
     },
     "metadata": {},
     "output_type": "display_data"
    },
    {
     "data": {
      "text/plain": "Map:   0%|          | 0/622 [00:00<?, ? examples/s]",
      "application/vnd.jupyter.widget-view+json": {
       "version_major": 2,
       "version_minor": 0,
       "model_id": "18d469591a9a473ca338db6fc7e9a14d"
      }
     },
     "metadata": {},
     "output_type": "display_data"
    },
    {
     "name": "stderr",
     "output_type": "stream",
     "text": [
      "E:\\BERT\\uvl-tore-classifier-bert\\venv310\\lib\\site-packages\\transformers\\training_args.py:1474: FutureWarning: `evaluation_strategy` is deprecated and will be removed in version 4.46 of 🤗 Transformers. Use `eval_strategy` instead\n",
      "  warnings.warn(\n",
      "01:43:23 INFO:Logged iteration result res.precision=0.6213213662604519 res.recall=0.5905146054557319\n"
     ]
    },
    {
     "name": "stdout",
     "output_type": "stream",
     "text": [
      "{'eval_loss': 0.5869194269180298, 'eval_step': 0, 'eval_precision': 0.6213213662604519, 'eval_recall': 0.5905146054557319, 'eval_f1': 0.6055264078997584, 'eval_label_count': 10, 'eval_runtime': 3.8157, 'eval_samples_per_second': 163.011, 'eval_steps_per_second': 5.242, 'epoch': 1.0}\n",
      "{'loss': 0.8892, 'grad_norm': 17.129610061645508, 'learning_rate': 5.123063431745104e-05, 'epoch': 1.607717041800643}\n"
     ]
    },
    {
     "name": "stderr",
     "output_type": "stream",
     "text": [
      "01:45:03 INFO:Logged iteration result res.precision=0.7022438735979583 res.recall=0.6220511692220859\n"
     ]
    },
    {
     "name": "stdout",
     "output_type": "stream",
     "text": [
      "{'eval_loss': 0.4838867783546448, 'eval_step': 2, 'eval_precision': 0.7022438735979583, 'eval_recall': 0.6220511692220859, 'eval_f1': 0.6597194862565333, 'eval_label_count': 10, 'eval_runtime': 3.7104, 'eval_samples_per_second': 167.635, 'eval_steps_per_second': 5.39, 'epoch': 2.0}\n"
     ]
    },
    {
     "name": "stderr",
     "output_type": "stream",
     "text": [
      "01:46:44 INFO:Logged iteration result res.precision=0.6766482039358526 res.recall=0.6268810139999939\n"
     ]
    },
    {
     "name": "stdout",
     "output_type": "stream",
     "text": [
      "{'eval_loss': 0.4852464199066162, 'eval_step': 4, 'eval_precision': 0.6766482039358526, 'eval_recall': 0.6268810139999939, 'eval_f1': 0.6508145830076176, 'eval_label_count': 10, 'eval_runtime': 3.5884, 'eval_samples_per_second': 173.337, 'eval_steps_per_second': 5.574, 'epoch': 3.0}\n",
      "{'loss': 0.4177, 'grad_norm': 8.494513511657715, 'learning_rate': 4.2461268634902076e-05, 'epoch': 3.215434083601286}\n"
     ]
    },
    {
     "name": "stderr",
     "output_type": "stream",
     "text": [
      "01:48:27 INFO:Logged iteration result res.precision=0.631797141165601 res.recall=0.6837044082091075\n"
     ]
    },
    {
     "name": "stdout",
     "output_type": "stream",
     "text": [
      "{'eval_loss': 0.6598058342933655, 'eval_step': 6, 'eval_precision': 0.631797141165601, 'eval_recall': 0.6837044082091075, 'eval_f1': 0.6567266921337432, 'eval_label_count': 10, 'eval_runtime': 3.4647, 'eval_samples_per_second': 179.527, 'eval_steps_per_second': 5.773, 'epoch': 4.0}\n",
      "{'loss': 0.2081, 'grad_norm': 2.3741159439086914, 'learning_rate': 3.369190295235311e-05, 'epoch': 4.823151125401929}\n"
     ]
    },
    {
     "name": "stderr",
     "output_type": "stream",
     "text": [
      "01:50:08 INFO:Logged iteration result res.precision=0.6791808876600803 res.recall=0.6395399367837269\n"
     ]
    },
    {
     "name": "stdout",
     "output_type": "stream",
     "text": [
      "{'eval_loss': 0.7204200029373169, 'eval_step': 8, 'eval_precision': 0.6791808876600803, 'eval_recall': 0.6395399367837269, 'eval_f1': 0.658764605680726, 'eval_label_count': 10, 'eval_runtime': 3.6654, 'eval_samples_per_second': 169.695, 'eval_steps_per_second': 5.456, 'epoch': 5.0}\n"
     ]
    },
    {
     "name": "stderr",
     "output_type": "stream",
     "text": [
      "01:51:51 INFO:Logged iteration result res.precision=0.6793818723404386 res.recall=0.6351383475242651\n"
     ]
    },
    {
     "name": "stdout",
     "output_type": "stream",
     "text": [
      "{'eval_loss': 0.8172088265419006, 'eval_step': 10, 'eval_precision': 0.6793818723404386, 'eval_recall': 0.6351383475242651, 'eval_f1': 0.6565155456956904, 'eval_label_count': 10, 'eval_runtime': 3.7142, 'eval_samples_per_second': 167.466, 'eval_steps_per_second': 5.385, 'epoch': 6.0}\n",
      "{'loss': 0.0978, 'grad_norm': 4.219596862792969, 'learning_rate': 2.492253726980415e-05, 'epoch': 6.430868167202572}\n"
     ]
    },
    {
     "name": "stderr",
     "output_type": "stream",
     "text": [
      "01:53:33 INFO:Logged iteration result res.precision=0.6867650779210395 res.recall=0.6442953889789912\n"
     ]
    },
    {
     "name": "stdout",
     "output_type": "stream",
     "text": [
      "{'eval_loss': 0.9645420908927917, 'eval_step': 12, 'eval_precision': 0.6867650779210395, 'eval_recall': 0.6442953889789912, 'eval_f1': 0.6648527005641373, 'eval_label_count': 10, 'eval_runtime': 3.4659, 'eval_samples_per_second': 179.464, 'eval_steps_per_second': 5.771, 'epoch': 7.0}\n"
     ]
    },
    {
     "name": "stderr",
     "output_type": "stream",
     "text": [
      "01:55:12 INFO:Logged iteration result res.precision=0.6695952891957468 res.recall=0.6546263958038462\n"
     ]
    },
    {
     "name": "stdout",
     "output_type": "stream",
     "text": [
      "{'eval_loss': 1.0647567510604858, 'eval_step': 14, 'eval_precision': 0.6695952891957468, 'eval_recall': 0.6546263958038462, 'eval_f1': 0.6620262389277827, 'eval_label_count': 10, 'eval_runtime': 3.4616, 'eval_samples_per_second': 179.684, 'eval_steps_per_second': 5.778, 'epoch': 8.0}\n",
      "{'loss': 0.042, 'grad_norm': 1.8247817754745483, 'learning_rate': 1.6153171587255187e-05, 'epoch': 8.038585209003216}\n"
     ]
    },
    {
     "name": "stderr",
     "output_type": "stream",
     "text": [
      "01:56:58 INFO:Logged iteration result res.precision=0.6614178635167831 res.recall=0.6433668359166914\n"
     ]
    },
    {
     "name": "stdout",
     "output_type": "stream",
     "text": [
      "{'eval_loss': 1.140834093093872, 'eval_step': 16, 'eval_precision': 0.6614178635167831, 'eval_recall': 0.6433668359166914, 'eval_f1': 0.6522674863589892, 'eval_label_count': 10, 'eval_runtime': 3.851, 'eval_samples_per_second': 161.517, 'eval_steps_per_second': 5.193, 'epoch': 9.0}\n",
      "{'loss': 0.018, 'grad_norm': 0.37050992250442505, 'learning_rate': 7.383805904706226e-06, 'epoch': 9.646302250803858}\n"
     ]
    },
    {
     "name": "stderr",
     "output_type": "stream",
     "text": [
      "01:58:46 INFO:Logged iteration result res.precision=0.6696976552710456 res.recall=0.663743168593655\n"
     ]
    },
    {
     "name": "stdout",
     "output_type": "stream",
     "text": [
      "{'eval_loss': 1.211259126663208, 'eval_step': 18, 'eval_precision': 0.6696976552710456, 'eval_recall': 0.663743168593655, 'eval_f1': 0.6667071170373101, 'eval_label_count': 10, 'eval_runtime': 3.8461, 'eval_samples_per_second': 161.722, 'eval_steps_per_second': 5.2, 'epoch': 10.0}\n"
     ]
    },
    {
     "name": "stderr",
     "output_type": "stream",
     "text": [
      "02:00:34 INFO:Logged iteration result res.precision=0.6679785896915205 res.recall=0.6638011770091515\n"
     ]
    },
    {
     "name": "stdout",
     "output_type": "stream",
     "text": [
      "{'eval_loss': 1.2225558757781982, 'eval_step': 20, 'eval_precision': 0.6679785896915205, 'eval_recall': 0.6638011770091515, 'eval_f1': 0.6658833316752186, 'eval_label_count': 10, 'eval_runtime': 3.9822, 'eval_samples_per_second': 156.194, 'eval_steps_per_second': 5.022, 'epoch': 11.0}\n",
      "{'train_runtime': 1138.3761, 'train_samples_per_second': 24.041, 'train_steps_per_second': 3.005, 'train_loss': 0.24518448035990903, 'epoch': 11.0}\n"
     ]
    },
    {
     "name": "stderr",
     "output_type": "stream",
     "text": [
      "02:01:24 INFO:Logged iteration result res.precision=0.6679785896915205 res.recall=0.6638011770091515\n",
      "02:01:24 INFO:Logged iteration result res.precision=0.6679785896915205 res.recall=0.6638011770091515\n",
      "02:01:24 INFO:Finished iteration=0\n",
      "02:01:24 INFO:Logging model artifact (might take a while)\n",
      "02:01:26 INFO:Breaking early after iteration=0 of 5 folds\n",
      "02:01:27 INFO:Logged experiment result res.mean_precision=0.6679785896915205 res.mean_recall=0.6638011770091515\n",
      "02:01:28 INFO:Left mlflow context\n"
     ]
    },
    {
     "name": "stdout",
     "output_type": "stream",
     "text": [
      "be26e295cb9d4b5c9dbbbe6fb2396c22\n"
     ]
    },
    {
     "data": {
      "text/plain": "Downloading artifacts:   0%|          | 0/7 [00:00<?, ?it/s]",
      "application/vnd.jupyter.widget-view+json": {
       "version_major": 2,
       "version_minor": 0,
       "model_id": "8402b41eb1234129a82f6adaf52792f4"
      }
     },
     "metadata": {},
     "output_type": "display_data"
    },
    {
     "data": {
      "text/plain": "WindowsPath('src/service/models/bert')"
     },
     "execution_count": 11,
     "metadata": {},
     "output_type": "execute_result"
    }
   ],
   "source": [
    "from tooling.observability import get_run_id\n",
    "from tooling.config import BERTConfig, BERT\n",
    "\n",
    "from copy import deepcopy\n",
    "\n",
    "bert_experiment_config = deepcopy(base_experiment_config)\n",
    "bert_experiment_config.name = \"Production\"\n",
    "\n",
    "bert_config = BERT(\n",
    "    learning_rate_bert=6e-05,\n",
    "    learning_rate_classifier=0.1,\n",
    "    max_len=123,\n",
    "    number_epochs=11 ,\n",
    "    train_batch_size=8,\n",
    "    weight_decay=0.01,\n",
    "    weighted_classes=False,\n",
    ")\n",
    "\n",
    "bert_cfg = OmegaConf.structured(\n",
    "    BERTConfig(\n",
    "        bert=bert_config,\n",
    "        experiment=bert_experiment_config,\n",
    "        transformation=label_transformation_config,\n",
    "    )\n",
    ")\n",
    "\n",
    "if run_experiments:\n",
    "    from experiments.bert import bert\n",
    "\n",
    "    bert(OmegaConf.create(bert_cfg))\n",
    "\n",
    "bert_run_id = get_run_id(bert_cfg, pin_commit=pin_commits)\n",
    "\n",
    "print(bert_run_id)\n",
    "\n",
    "run = mlflow.get_run(bert_run_id)\n",
    "mlflow.artifacts.download_artifacts(\n",
    "    f\"{run.info.artifact_uri}/0_model\", dst_path=Path(\"./src/service/models/\")\n",
    ")\n",
    "try:\n",
    "    shutil.rmtree(Path(\"./src/service/models/bert\"))\n",
    "except FileNotFoundError:\n",
    "    pass\n",
    "Path(\"./src/service/models/0_model\").rename(\"./src/service/models/bert\")"
   ],
   "metadata": {
    "collapsed": false,
    "ExecuteTime": {
     "end_time": "2024-08-09T12:01:31.295837Z",
     "start_time": "2024-08-09T11:42:10.204057Z"
    }
   }
  },
  {
   "cell_type": "code",
   "execution_count": null,
   "metadata": {},
   "outputs": [],
   "source": [
    "##Train RoBERTa E2E Model\n"
   ]
  },
  {
   "cell_type": "code",
   "execution_count": 14,
   "outputs": [
    {
     "name": "stderr",
     "output_type": "stream",
     "text": [
      "01:44:16 INFO:\n",
      "roberta:\n",
      "  model: Jean-Baptiste/roberta-large-ner-english\n",
      "  type: RoBERTa\n",
      "  max_len: 123\n",
      "  train_batch_size: 8\n",
      "  validation_batch_size: 32\n",
      "  number_epochs: 11\n",
      "  learning_rate_roberta: 6.0e-05\n",
      "  learning_rate_classifier: 0.1\n",
      "  weight_decay: 0.01\n",
      "  weighted_classes: false\n",
      "experiment:\n",
      "  name: Production\n",
      "  description: ''\n",
      "  random_state: 125\n",
      "  folds: 5\n",
      "  iterations: 1\n",
      "  average: macro\n",
      "  dataset: all\n",
      "  lower_case: true\n",
      "  force: false\n",
      "  pin_commit: false\n",
      "  smote: false\n",
      "  smote_k_neighbors: 5\n",
      "  smote_sampling_strategy: not majority\n",
      "transformation:\n",
      "  description: None\n",
      "  type: Full\n",
      "  task: Task\n",
      "  goals: null\n",
      "  domain_data: Domain_Data\n",
      "  activity: Activity\n",
      "  stakeholder: Stakeholder\n",
      "  system_function: System_Function\n",
      "  interaction: Interaction\n",
      "  interaction_data: Interaction_Data\n",
      "  workspace: Workspace\n",
      "  software: System_Level\n",
      "  internal_action: System_Level\n",
      "  internal_data: System_Level\n",
      "  system_level: System_Level\n",
      "\n",
      "01:44:16 INFO:New experiment. Running\n",
      "01:44:16 INFO:Entering mlflow context\n",
      "01:44:16 INFO:Importing dataset: anno from E:\\BERT\\uvl-tore-classifier-bert\\src\\data\\datasets\\forum\\anno_test.json\n",
      "01:44:16 INFO:Importing dataset: anno from E:\\BERT\\uvl-tore-classifier-bert\\src\\data\\datasets\\forum\\anno_train.json\n",
      "01:44:16 INFO:Importing dataset: prolific from E:\\BERT\\uvl-tore-classifier-bert\\src\\data\\datasets\\prolific\\TORE_Coded_Answers_1_33.json\n",
      "01:44:17 INFO:Importing dataset: prolific from E:\\BERT\\uvl-tore-classifier-bert\\src\\data\\datasets\\prolific\\TORE_Coded_Answers_34_66.json\n",
      "01:44:17 INFO:Importing dataset: prolific from E:\\BERT\\uvl-tore-classifier-bert\\src\\data\\datasets\\prolific\\TORE_Coded_Answers_67_100.json\n",
      "01:44:17 INFO:Importing dataset: komoot from E:\\BERT\\uvl-tore-classifier-bert\\src\\data\\datasets\\app\\Komoot_AppReview.json\n",
      "01:44:18 INFO:Dataset Labels: transformed_dataset['labels']=['Task', 'Workspace', 'Activity', 'System_Level', 'Domain_Data', 'Stakeholder', '0', 'Interaction_Data', 'System_Function', 'Interaction']\n",
      "01:44:18 INFO:Class weights: {'0': 1.0, 'Task': 1.0, 'Domain_Data': 1.0, 'Activity': 1.0, 'Stakeholder': 1.0, 'System_Function': 1.0, 'Interaction': 1.0, 'Interaction_Data': 1.0, 'Workspace': 1.0, 'System_Level': 1.0}\n",
      "01:44:18 INFO:Configured maximal token sequence length: max_len = 123\n",
      "01:44:18 INFO:Created fold datasets for fold: 0, stored at paths=[WindowsPath('E:/BERT/uvl-tore-classifier-bert/src/data/temp/sampling/capable-auk-759/0_data_train.pickle'), WindowsPath('E:/BERT/uvl-tore-classifier-bert/src/data/temp/sampling/capable-auk-759/0_data_train.csv'), WindowsPath('E:/BERT/uvl-tore-classifier-bert/src/data/temp/sampling/capable-auk-759/0_data_test.pickle'), WindowsPath('E:/BERT/uvl-tore-classifier-bert/src/data/temp/sampling/capable-auk-759/0_data_test.csv')]\n",
      "01:44:18 INFO:Starting iteration=0\n"
     ]
    },
    {
     "data": {
      "text/plain": "Map:   0%|          | 0/2488 [00:00<?, ? examples/s]",
      "application/vnd.jupyter.widget-view+json": {
       "version_major": 2,
       "version_minor": 0,
       "model_id": "2c895e7f1ffc491e8ceab79459d5ff24"
      }
     },
     "metadata": {},
     "output_type": "display_data"
    },
    {
     "data": {
      "text/plain": "Map:   0%|          | 0/622 [00:00<?, ? examples/s]",
      "application/vnd.jupyter.widget-view+json": {
       "version_major": 2,
       "version_minor": 0,
       "model_id": "f0ca2e213d0c4f2f8088f4f655e5342f"
      }
     },
     "metadata": {},
     "output_type": "display_data"
    },
    {
     "name": "stderr",
     "output_type": "stream",
     "text": [
      "E:\\BERT\\uvl-tore-classifier-bert\\venv310\\lib\\site-packages\\transformers\\training_args.py:1474: FutureWarning: `evaluation_strategy` is deprecated and will be removed in version 4.46 of 🤗 Transformers. Use `eval_strategy` instead\n",
      "  warnings.warn(\n",
      "01:45:21 INFO:Logged iteration result res.precision=0.5793384603014975 res.recall=0.5294931132606071\n"
     ]
    },
    {
     "name": "stdout",
     "output_type": "stream",
     "text": [
      "{'eval_loss': 0.606141209602356, 'eval_step': 0, 'eval_precision': 0.5793384603014975, 'eval_recall': 0.5294931132606071, 'eval_f1': 0.5532954369096804, 'eval_label_count': 10, 'eval_runtime': 3.4457, 'eval_samples_per_second': 180.515, 'eval_steps_per_second': 5.804, 'epoch': 1.0}\n",
      "{'loss': 1.2792, 'grad_norm': 15.624954223632812, 'learning_rate': 5.123063431745104e-05, 'epoch': 1.607717041800643}\n"
     ]
    },
    {
     "name": "stderr",
     "output_type": "stream",
     "text": [
      "01:46:59 INFO:Logged iteration result res.precision=0.6080609820590207 res.recall=0.4686796187106605\n"
     ]
    },
    {
     "name": "stdout",
     "output_type": "stream",
     "text": [
      "{'eval_loss': 0.6071531176567078, 'eval_step': 2, 'eval_precision': 0.6080609820590207, 'eval_recall': 0.4686796187106605, 'eval_f1': 0.5293490168765562, 'eval_label_count': 10, 'eval_runtime': 3.4508, 'eval_samples_per_second': 180.249, 'eval_steps_per_second': 5.796, 'epoch': 2.0}\n"
     ]
    },
    {
     "name": "stderr",
     "output_type": "stream",
     "text": [
      "01:48:43 INFO:Logged iteration result res.precision=0.6848862486107135 res.recall=0.5565420222272148\n"
     ]
    },
    {
     "name": "stdout",
     "output_type": "stream",
     "text": [
      "{'eval_loss': 0.4957864582538605, 'eval_step': 4, 'eval_precision': 0.6848862486107135, 'eval_recall': 0.5565420222272148, 'eval_f1': 0.6140797446801176, 'eval_label_count': 10, 'eval_runtime': 3.4562, 'eval_samples_per_second': 179.968, 'eval_steps_per_second': 5.787, 'epoch': 3.0}\n",
      "{'loss': 0.6808, 'grad_norm': 13.241116523742676, 'learning_rate': 4.2461268634902076e-05, 'epoch': 3.215434083601286}\n"
     ]
    },
    {
     "name": "stderr",
     "output_type": "stream",
     "text": [
      "01:50:20 INFO:Logged iteration result res.precision=0.6507461365221903 res.recall=0.6693099147848478\n"
     ]
    },
    {
     "name": "stdout",
     "output_type": "stream",
     "text": [
      "{'eval_loss': 0.4820605218410492, 'eval_step': 6, 'eval_precision': 0.6507461365221903, 'eval_recall': 0.6693099147848478, 'eval_f1': 0.6598974956419169, 'eval_label_count': 10, 'eval_runtime': 3.46, 'eval_samples_per_second': 179.767, 'eval_steps_per_second': 5.78, 'epoch': 4.0}\n",
      "{'loss': 0.5049, 'grad_norm': 7.3944220542907715, 'learning_rate': 3.369190295235311e-05, 'epoch': 4.823151125401929}\n"
     ]
    },
    {
     "name": "stderr",
     "output_type": "stream",
     "text": [
      "01:51:56 INFO:Logged iteration result res.precision=0.6895372990852613 res.recall=0.6271393081541824\n"
     ]
    },
    {
     "name": "stdout",
     "output_type": "stream",
     "text": [
      "{'eval_loss': 0.5652507543563843, 'eval_step': 8, 'eval_precision': 0.6895372990852613, 'eval_recall': 0.6271393081541824, 'eval_f1': 0.6568597669574816, 'eval_label_count': 10, 'eval_runtime': 3.4651, 'eval_samples_per_second': 179.504, 'eval_steps_per_second': 5.772, 'epoch': 5.0}\n"
     ]
    },
    {
     "name": "stderr",
     "output_type": "stream",
     "text": [
      "01:53:34 INFO:Logged iteration result res.precision=0.6742795448771706 res.recall=0.6181710754031103\n"
     ]
    },
    {
     "name": "stdout",
     "output_type": "stream",
     "text": [
      "{'eval_loss': 0.6192948222160339, 'eval_step': 10, 'eval_precision': 0.6742795448771706, 'eval_recall': 0.6181710754031103, 'eval_f1': 0.6450074066096988, 'eval_label_count': 10, 'eval_runtime': 3.5492, 'eval_samples_per_second': 175.249, 'eval_steps_per_second': 5.635, 'epoch': 6.0}\n",
      "{'loss': 0.324, 'grad_norm': 18.10057258605957, 'learning_rate': 2.492253726980415e-05, 'epoch': 6.430868167202572}\n"
     ]
    },
    {
     "name": "stderr",
     "output_type": "stream",
     "text": [
      "01:55:12 INFO:Logged iteration result res.precision=0.6873868514132714 res.recall=0.660922580138302\n"
     ]
    },
    {
     "name": "stdout",
     "output_type": "stream",
     "text": [
      "{'eval_loss': 0.5512689352035522, 'eval_step': 12, 'eval_precision': 0.6873868514132714, 'eval_recall': 0.660922580138302, 'eval_f1': 0.6738949988155228, 'eval_label_count': 10, 'eval_runtime': 3.4693, 'eval_samples_per_second': 179.286, 'eval_steps_per_second': 5.765, 'epoch': 7.0}\n"
     ]
    },
    {
     "name": "stderr",
     "output_type": "stream",
     "text": [
      "01:56:43 INFO:Logged iteration result res.precision=0.6969054031299542 res.recall=0.6630879913521743\n"
     ]
    },
    {
     "name": "stdout",
     "output_type": "stream",
     "text": [
      "{'eval_loss': 0.5906326770782471, 'eval_step': 14, 'eval_precision': 0.6969054031299542, 'eval_recall': 0.6630879913521743, 'eval_f1': 0.6795762476477104, 'eval_label_count': 10, 'eval_runtime': 3.4785, 'eval_samples_per_second': 178.813, 'eval_steps_per_second': 5.75, 'epoch': 8.0}\n",
      "{'loss': 0.2004, 'grad_norm': 7.203489780426025, 'learning_rate': 1.6153171587255187e-05, 'epoch': 8.038585209003216}\n"
     ]
    },
    {
     "name": "stderr",
     "output_type": "stream",
     "text": [
      "01:58:20 INFO:Logged iteration result res.precision=0.6929995630182143 res.recall=0.6776944016612059\n"
     ]
    },
    {
     "name": "stdout",
     "output_type": "stream",
     "text": [
      "{'eval_loss': 0.7513129711151123, 'eval_step': 16, 'eval_precision': 0.6929995630182143, 'eval_recall': 0.6776944016612059, 'eval_f1': 0.6852615336654618, 'eval_label_count': 10, 'eval_runtime': 3.5576, 'eval_samples_per_second': 174.838, 'eval_steps_per_second': 5.622, 'epoch': 9.0}\n",
      "{'loss': 0.0924, 'grad_norm': 11.683978080749512, 'learning_rate': 7.383805904706226e-06, 'epoch': 9.646302250803858}\n"
     ]
    },
    {
     "name": "stderr",
     "output_type": "stream",
     "text": [
      "02:00:00 INFO:Logged iteration result res.precision=0.6888084658467657 res.recall=0.6815572697029866\n"
     ]
    },
    {
     "name": "stdout",
     "output_type": "stream",
     "text": [
      "{'eval_loss': 0.9262818694114685, 'eval_step': 18, 'eval_precision': 0.6888084658467657, 'eval_recall': 0.6815572697029866, 'eval_f1': 0.6851636831717619, 'eval_label_count': 10, 'eval_runtime': 3.6713, 'eval_samples_per_second': 169.423, 'eval_steps_per_second': 5.448, 'epoch': 10.0}\n"
     ]
    },
    {
     "name": "stderr",
     "output_type": "stream",
     "text": [
      "02:01:44 INFO:Logged iteration result res.precision=0.6904512276980231 res.recall=0.6926464362913085\n"
     ]
    },
    {
     "name": "stdout",
     "output_type": "stream",
     "text": [
      "{'eval_loss': 0.9886234998703003, 'eval_step': 20, 'eval_precision': 0.6904512276980231, 'eval_recall': 0.6926464362913085, 'eval_f1': 0.6915470899120589, 'eval_label_count': 10, 'eval_runtime': 3.5215, 'eval_samples_per_second': 176.631, 'eval_steps_per_second': 5.679, 'epoch': 11.0}\n",
      "{'train_runtime': 1083.2292, 'train_samples_per_second': 25.265, 'train_steps_per_second': 3.158, 'train_loss': 0.45614679554546483, 'epoch': 11.0}\n"
     ]
    },
    {
     "name": "stderr",
     "output_type": "stream",
     "text": [
      "02:02:35 INFO:Logged iteration result res.precision=0.6904512276980231 res.recall=0.6926464362913085\n",
      "02:02:35 INFO:Logged iteration result res.precision=0.6904512276980231 res.recall=0.6926464362913085\n",
      "02:02:35 INFO:Finished iteration=0\n",
      "02:02:35 INFO:Logging model artifact (might take a while)\n",
      "02:02:38 INFO:Breaking early after iteration=0 of 5 folds\n",
      "02:02:38 INFO:Logged experiment result res.mean_precision=0.6904512276980231 res.mean_recall=0.6926464362913085\n",
      "02:02:39 INFO:Left mlflow context\n"
     ]
    },
    {
     "name": "stdout",
     "output_type": "stream",
     "text": [
      "73c3721d2c3e41e6b0539148725132df\n"
     ]
    },
    {
     "data": {
      "text/plain": "Downloading artifacts:   0%|          | 0/8 [00:00<?, ?it/s]",
      "application/vnd.jupyter.widget-view+json": {
       "version_major": 2,
       "version_minor": 0,
       "model_id": "f66c88a13f3f499593daa8ac53a8a930"
      }
     },
     "metadata": {},
     "output_type": "display_data"
    },
    {
     "data": {
      "text/plain": "WindowsPath('src/service/models/roberta')"
     },
     "execution_count": 14,
     "metadata": {},
     "output_type": "execute_result"
    }
   ],
   "source": [
    "'''\n",
    "from tooling.observability import get_run_id\n",
    "from tooling.config import RoBERTaConfig, RoBERTa\n",
    "\n",
    "from copy import deepcopy\n",
    "\n",
    "roberta_experiment_config = deepcopy(base_experiment_config)\n",
    "roberta_experiment_config.name = \"Production\"\n",
    "\n",
    "roberta_config = RoBERTa(\n",
    "    learning_rate_roberta=6e-05,\n",
    "    learning_rate_classifier=0.1,\n",
    "    max_len=123,\n",
    "    number_epochs=11,\n",
    "    train_batch_size=8,\n",
    "    weight_decay=0.01,\n",
    "    weighted_classes=False,\n",
    ")\n",
    "\n",
    "roberta_cfg = OmegaConf.structured(\n",
    "    RoBERTaConfig(\n",
    "        roberta=roberta_config,\n",
    "        experiment=roberta_experiment_config,\n",
    "        transformation=label_transformation_config,\n",
    "    )\n",
    ")\n",
    "\n",
    "if run_experiments:\n",
    "    from experiments.roberta import roberta\n",
    "\n",
    "    roberta(OmegaConf.create(roberta_cfg))\n",
    "\n",
    "roberta_run_id = get_run_id(roberta_cfg, pin_commit=pin_commits)\n",
    "\n",
    "print(roberta_run_id)\n",
    "\n",
    "run = mlflow.get_run(roberta_run_id)\n",
    "mlflow.artifacts.download_artifacts(\n",
    "    f\"{run.info.artifact_uri}/0_model\", dst_path=Path(\"./src/service/models/\")\n",
    ")\n",
    "try:\n",
    "    shutil.rmtree(Path(\"./src/service/models/roberta\"))\n",
    "except FileNotFoundError:\n",
    "    pass\n",
    "Path(\"./src/service/models/0_model\").rename(\"./src/service/models/roberta\")\n",
    "'''"
   ],
   "metadata": {
    "collapsed": false,
    "ExecuteTime": {
     "end_time": "2024-06-11T12:02:41.827681Z",
     "start_time": "2024-06-11T11:44:15.845402Z"
    }
   }
  },
  {
   "cell_type": "code",
   "execution_count": null,
   "outputs": [],
   "source": [],
   "metadata": {
    "collapsed": false
   }
  },
  {
   "cell_type": "code",
   "execution_count": null,
   "outputs": [],
   "source": [],
   "metadata": {
    "collapsed": false
   }
  }
 ],
 "metadata": {
  "kernelspec": {
   "display_name": "venv",
   "language": "python",
   "name": "python3"
  },
  "language_info": {
   "codemirror_mode": {
    "name": "ipython",
    "version": 3
   },
   "file_extension": ".py",
   "mimetype": "text/x-python",
   "name": "python",
   "nbconvert_exporter": "python",
   "pygments_lexer": "ipython3",
   "version": "3.11.4"
  },
  "orig_nbformat": 4
 },
 "nbformat": 4,
 "nbformat_minor": 2
}
