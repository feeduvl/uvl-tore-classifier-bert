{
 "cells": [
  {
   "cell_type": "code",
   "execution_count": 19,
   "metadata": {},
   "outputs": [
    {
     "name": "stdout",
     "output_type": "stream",
     "text": [
      "The autoreload extension is already loaded. To reload it, use:\n",
      "  %reload_ext autoreload\n"
     ]
    }
   ],
   "source": [
    "%load_ext autoreload\n",
    "%autoreload 2"
   ]
  },
  {
   "cell_type": "code",
   "execution_count": 20,
   "metadata": {},
   "outputs": [],
   "source": [
    "import logging\n",
    "import shutil\n",
    "from omegaconf import OmegaConf\n",
    "from hydra import initialize, compose\n",
    "from hydra.core.config_store import ConfigStore\n",
    "import mlflow\n",
    "from src.experiments.sner import sner\n",
    "from pathlib import Path\n",
    "\n",
    "import os\n",
    "\n",
    "logging.basicConfig(\n",
    "    format=\"%(asctime)s %(levelname)s:%(message)s\",\n",
    "    level=logging.INFO,\n",
    "    datefmt=\"%I:%M:%S\",\n",
    ")\n",
    "logger = logging.getLogger(\"training\")"
   ]
  },
  {
   "cell_type": "code",
   "execution_count": 21,
   "metadata": {},
   "outputs": [
    {
     "data": {
      "text/plain": [
       "'https://mlflow-uvl.ifi.uni-heidelberg.de'"
      ]
     },
     "execution_count": 21,
     "metadata": {},
     "output_type": "execute_result"
    }
   ],
   "source": [
    "mlflow.get_tracking_uri()"
   ]
  },
  {
   "cell_type": "code",
   "execution_count": 22,
   "metadata": {},
   "outputs": [
    {
     "name": "stdout",
     "output_type": "stream",
     "text": [
      "run_experiments=True\n",
      "pin_commits=False\n"
     ]
    }
   ],
   "source": [
    "sentence_length = 106\n",
    "\n",
    "run_experiments = os.getenv(\"UVL_BERT_RUN_EXPERIMENTS\", \"True\") == \"True\"\n",
    "pin_commits = os.getenv(\"UVL_BERT_PIN_COMMITS\", \"True\") == \"FALSE\"\n",
    "\n",
    "print(f\"{run_experiments=}\")\n",
    "print(f\"{pin_commits=}\")"
   ]
  },
  {
   "cell_type": "code",
   "execution_count": 23,
   "metadata": {},
   "outputs": [],
   "source": [
    "from tooling.config import Experiment, Transformation\n",
    "\n",
    "base_experiment_config = Experiment(\n",
    "    name=\"Base Config 1\",\n",
    "    iterations=5,\n",
    "    force=False,\n",
    "    dataset=\"all\",\n",
    "    lower_case=True,\n",
    ")\n",
    "\n",
    "levels_transformation_config = Transformation(\n",
    "    description=\"Levels\",\n",
    "    type=\"Reduced\",\n",
    "    task=\"Domain_Level\",\n",
    "    domain_data=\"Domain_Level\",\n",
    "    activity=\"Domain_Level\",\n",
    "    stakeholder=\"Domain_Level\",\n",
    "    system_function=\"Interaction_Level\",\n",
    "    interaction=\"Interaction_Level\",\n",
    "    interaction_data=\"Interaction_Level\",\n",
    "    workspace=\"Interaction_Level\",\n",
    "    software=\"System_Level\",\n",
    "    internal_action=\"System_Level\",\n",
    "    internal_data=\"System_Level\",\n",
    "    system_level=\"System_Level\",\n",
    ")\n",
    "\n",
    "label_transformation_config = Transformation(\n",
    "    description=\"None\",\n",
    "    type=\"Full\",\n",
    "    task=\"Task\",\n",
    "    domain_data=\"Domain_Data\",\n",
    "    activity=\"Activity\",\n",
    "    stakeholder=\"Stakeholder\",\n",
    "    system_function=\"System_Function\",\n",
    "    interaction=\"Interaction\",\n",
    "    interaction_data=\"Interaction_Data\",\n",
    "    workspace=\"Workspace\",\n",
    "    software=\"System_Level\",\n",
    "    internal_action=\"System_Level\",\n",
    "    internal_data=\"System_Level\",\n",
    "    system_level=\"System_Level\",\n",
    ")"
   ]
  },
  {
   "cell_type": "code",
   "execution_count": 24,
   "metadata": {},
   "outputs": [
    {
     "name": "stderr",
     "output_type": "stream",
     "text": [
      "04:00:10 INFO:Hint Label2Id: hint_label2id={'0': 0, 'System_Level': 1, 'Domain_Level': 2, 'Interaction_Level': 3}\n",
      "04:00:10 INFO:Hint Label2Id: hint_label2id={'0': 0, 'Task': 1, 'Domain_Data': 2, 'Activity': 3, 'Stakeholder': 4, 'System_Function': 5, 'Interaction': 6, 'Interaction_Data': 7, 'Workspace': 8, 'System_Level': 9}\n"
     ]
    }
   ],
   "source": [
    "from tooling.transformation import get_hint_transformation\n",
    "import pickle\n",
    "\n",
    "hint_transformation = get_hint_transformation(\n",
    "    transformation_cfg=OmegaConf.structured(levels_transformation_config)\n",
    ")\n",
    "hint_label2id = hint_transformation[\"label2id\"]\n",
    "pickle.dump(\n",
    "    hint_label2id, open(\"./src/service/models/hint_label2id.pickle\", \"wb\")\n",
    ")\n",
    "hint_id2label = {y: x for x, y in hint_label2id.items()}\n",
    "pickle.dump(\n",
    "    hint_id2label, open(\"./src/service/models/hint_id2label.pickle\", \"wb\")\n",
    ")\n",
    "\n",
    "transformation = get_hint_transformation(\n",
    "    transformation_cfg=OmegaConf.structured(label_transformation_config)\n",
    ")\n",
    "label2id = transformation[\"label2id\"]\n",
    "pickle.dump(label2id, open(\"./src/service/models/label2id.pickle\", \"wb\"))\n",
    "id2label = {y: x for x, y in label2id.items()}\n",
    "pickle.dump(id2label, open(\"./src/service/models/id2label.pickle\", \"wb\"))"
   ]
  },
  {
   "cell_type": "markdown",
   "metadata": {},
   "source": [
    "## Train BiLSTM First Stage Model\n"
   ]
  },
  {
   "cell_type": "code",
   "execution_count": 25,
   "metadata": {},
   "outputs": [
    {
     "name": "stderr",
     "output_type": "stream",
     "text": [
      "04:00:10 INFO:\n",
      "bilstm:\n",
      "  type: BiLSTM\n",
      "  sentence_length: 106\n",
      "  batch_size: 16\n",
      "  number_epochs: 5\n",
      "  verbose: 1\n",
      "  weighted_classes: false\n",
      "  learning_rate: 0.006\n",
      "experiment:\n",
      "  name: Production\n",
      "  description: ''\n",
      "  random_state: 125\n",
      "  folds: 5\n",
      "  iterations: 5\n",
      "  average: macro\n",
      "  dataset: all\n",
      "  lower_case: true\n",
      "  force: false\n",
      "  pin_commit: false\n",
      "transformation:\n",
      "  description: Levels\n",
      "  type: Reduced\n",
      "  task: Domain_Level\n",
      "  goals: null\n",
      "  domain_data: Domain_Level\n",
      "  activity: Domain_Level\n",
      "  stakeholder: Domain_Level\n",
      "  system_function: Interaction_Level\n",
      "  interaction: Interaction_Level\n",
      "  interaction_data: Interaction_Level\n",
      "  workspace: Interaction_Level\n",
      "  software: System_Level\n",
      "  internal_action: System_Level\n",
      "  internal_data: System_Level\n",
      "  system_level: System_Level\n",
      "\n",
      "04:00:11 WARNING:Experiment was already run, aborting\n"
     ]
    },
    {
     "name": "stdout",
     "output_type": "stream",
     "text": [
      "97f6d3072d1644f6a08c33ebc3c165b5\n",
      "mlflow-artifacts:/6/c2b199bb34b04b278480a86e58086f0c/artifacts\n"
     ]
    },
    {
     "data": {
      "application/vnd.jupyter.widget-view+json": {
       "model_id": "867f5aad23604a51aac9998731d88979",
       "version_major": 2,
       "version_minor": 0
      },
      "text/plain": [
       "Downloading artifacts:   0%|          | 0/5 [00:00<?, ?it/s]"
      ]
     },
     "metadata": {},
     "output_type": "display_data"
    },
    {
     "data": {
      "text/plain": [
       "PosixPath('src/service/models/bilstm')"
      ]
     },
     "execution_count": 25,
     "metadata": {},
     "output_type": "execute_result"
    }
   ],
   "source": [
    "from tooling.observability import get_run_id\n",
    "from tooling.config import BiLSTMConfig, BiLSTM\n",
    "\n",
    "from copy import deepcopy\n",
    "\n",
    "bilstm_experiment_config = deepcopy(base_experiment_config)\n",
    "bilstm_experiment_config.name = \"Production\"\n",
    "\n",
    "bilstm_config = BiLSTM(\n",
    "    batch_size=16,\n",
    "    learning_rate=0.006,\n",
    "    number_epochs=5,\n",
    "    weighted_classes=False,\n",
    "    sentence_length=106,\n",
    ")\n",
    "\n",
    "bilstm_cfg: BiLSTMConfig = OmegaConf.structured(\n",
    "    BiLSTMConfig(\n",
    "        bilstm=bilstm_config,\n",
    "        experiment=bilstm_experiment_config,\n",
    "        transformation=levels_transformation_config,\n",
    "    )\n",
    ")\n",
    "\n",
    "# bilstm_cfg.experiment.force = True\n",
    "\n",
    "if run_experiments:\n",
    "    from experiments.bilstm import bilstm\n",
    "\n",
    "    bilstm(bilstm_cfg)\n",
    "\n",
    "\n",
    "bilstm_run_id = get_run_id(bilstm_cfg, pin_commit=pin_commits)\n",
    "\n",
    "print(bilstm_run_id)\n",
    "print(mlflow.get_artifact_uri())\n",
    "\n",
    "bilstm_run = mlflow.get_run(bilstm_run_id)\n",
    "mlflow.artifacts.download_artifacts(\n",
    "    f\"{bilstm_run.info.artifact_uri}/0_model\",\n",
    "    dst_path=Path(\"./src/service/models/\"),\n",
    ")\n",
    "try:\n",
    "    shutil.rmtree(Path(\"./src/service/models/bilstm\"))\n",
    "except FileNotFoundError:\n",
    "    pass\n",
    "Path(\"./src/service/models/0_model\").rename(\"./src/service/models/bilstm\")"
   ]
  },
  {
   "cell_type": "markdown",
   "metadata": {},
   "source": [
    "## Train SNER First Stage Model\n"
   ]
  },
  {
   "cell_type": "code",
   "execution_count": 26,
   "metadata": {},
   "outputs": [
    {
     "name": "stderr",
     "output_type": "stream",
     "text": [
      "04:00:19 INFO:\n",
      "sner:\n",
      "  type: SNER\n",
      "experiment:\n",
      "  name: Production\n",
      "  description: ''\n",
      "  random_state: 125\n",
      "  folds: 5\n",
      "  iterations: 5\n",
      "  average: macro\n",
      "  dataset: all\n",
      "  lower_case: true\n",
      "  force: false\n",
      "  pin_commit: false\n",
      "transformation:\n",
      "  description: Levels\n",
      "  type: Reduced\n",
      "  task: Domain_Level\n",
      "  goals: null\n",
      "  domain_data: Domain_Level\n",
      "  activity: Domain_Level\n",
      "  stakeholder: Domain_Level\n",
      "  system_function: Interaction_Level\n",
      "  interaction: Interaction_Level\n",
      "  interaction_data: Interaction_Level\n",
      "  workspace: Interaction_Level\n",
      "  software: System_Level\n",
      "  internal_action: System_Level\n",
      "  internal_data: System_Level\n",
      "  system_level: System_Level\n",
      "\n",
      "04:00:20 WARNING:Experiment was already run, aborting\n"
     ]
    },
    {
     "name": "stdout",
     "output_type": "stream",
     "text": [
      "mlflow-artifacts:/6/c2b199bb34b04b278480a86e58086f0c/artifacts\n",
      "026f983c8249412ab989d4b036846b8f\n"
     ]
    },
    {
     "data": {
      "application/vnd.jupyter.widget-view+json": {
       "model_id": "70cf1c8290f745cea55927fbc2e0b034",
       "version_major": 2,
       "version_minor": 0
      },
      "text/plain": [
       "Downloading artifacts:   0%|          | 0/1 [00:00<?, ?it/s]"
      ]
     },
     "metadata": {},
     "output_type": "display_data"
    },
    {
     "data": {
      "text/plain": [
       "PosixPath('src/service/models/sner.ser.gz')"
      ]
     },
     "execution_count": 26,
     "metadata": {},
     "output_type": "execute_result"
    }
   ],
   "source": [
    "from tooling.observability import get_run_id\n",
    "from tooling.config import SNERConfig, SNER\n",
    "\n",
    "from copy import deepcopy\n",
    "\n",
    "sner_experiment_config = deepcopy(base_experiment_config)\n",
    "sner_experiment_config.name = \"Production\"\n",
    "\n",
    "sner_config = SNER()\n",
    "\n",
    "sner_cfg = OmegaConf.structured(\n",
    "    SNERConfig(\n",
    "        sner=sner_config,\n",
    "        experiment=sner_experiment_config,\n",
    "        transformation=levels_transformation_config,\n",
    "    )\n",
    ")\n",
    "\n",
    "if run_experiments:\n",
    "    from experiments.sner import sner\n",
    "\n",
    "    sner(OmegaConf.create(sner_cfg))\n",
    "\n",
    "sner_run_id = get_run_id(sner_cfg, pin_commit=pin_commits)\n",
    "print(mlflow.get_artifact_uri())\n",
    "print(sner_run_id)\n",
    "\n",
    "sner_run = mlflow.get_run(sner_run_id)\n",
    "mlflow.artifacts.download_artifacts(\n",
    "    f\"{sner_run.info.artifact_uri}/0_model.ser.gz\",\n",
    "    dst_path=Path(\"./src/service/models/\"),\n",
    ")\n",
    "try:\n",
    "    Path(\"./src/service/models/sner.ser.gz\").unlink()\n",
    "except FileNotFoundError:\n",
    "    pass\n",
    "Path(\"./src/service/models/0_model.ser.gz\").rename(\n",
    "    \"./src/service/models/sner.ser.gz\"\n",
    ")"
   ]
  },
  {
   "cell_type": "markdown",
   "metadata": {},
   "source": [
    "## Train BERT First Stage Model\n"
   ]
  },
  {
   "cell_type": "code",
   "execution_count": 27,
   "metadata": {},
   "outputs": [
    {
     "name": "stderr",
     "output_type": "stream",
     "text": [
      "04:00:22 INFO:\n",
      "bert:\n",
      "  model: bert-base-uncased\n",
      "  type: BERT\n",
      "  max_len: 123\n",
      "  train_batch_size: 8\n",
      "  validation_batch_size: 64\n",
      "  number_epochs: 8\n",
      "  learning_rate_bert: 3.0e-05\n",
      "  learning_rate_classifier: 0.0005\n",
      "  weight_decay: 0.01\n",
      "  weighted_classes: true\n",
      "experiment:\n",
      "  name: Production\n",
      "  description: ''\n",
      "  random_state: 125\n",
      "  folds: 5\n",
      "  iterations: 5\n",
      "  average: macro\n",
      "  dataset: all\n",
      "  lower_case: true\n",
      "  force: false\n",
      "  pin_commit: false\n",
      "transformation:\n",
      "  description: Levels\n",
      "  type: Reduced\n",
      "  task: Domain_Level\n",
      "  goals: null\n",
      "  domain_data: Domain_Level\n",
      "  activity: Domain_Level\n",
      "  stakeholder: Domain_Level\n",
      "  system_function: Interaction_Level\n",
      "  interaction: Interaction_Level\n",
      "  interaction_data: Interaction_Level\n",
      "  workspace: Interaction_Level\n",
      "  software: System_Level\n",
      "  internal_action: System_Level\n",
      "  internal_data: System_Level\n",
      "  system_level: System_Level\n",
      "\n",
      "04:00:22 INFO:New experiment. Running\n",
      "04:00:22 INFO:Entering mlflow context\n",
      "04:00:23 INFO:Importing dataset: anno from /Users/bockstaller/code/uvl-tore-classifier-bert/src/data/datasets/forum/anno_test.json\n",
      "04:00:23 INFO:Importing dataset: anno from /Users/bockstaller/code/uvl-tore-classifier-bert/src/data/datasets/forum/anno_train.json\n",
      "04:00:23 INFO:Importing dataset: prolific from /Users/bockstaller/code/uvl-tore-classifier-bert/src/data/datasets/prolific/TORE_Coded_Answers_1_33.json\n",
      "04:00:23 INFO:Importing dataset: prolific from /Users/bockstaller/code/uvl-tore-classifier-bert/src/data/datasets/prolific/TORE_Coded_Answers_34_66.json\n",
      "04:00:24 INFO:Importing dataset: prolific from /Users/bockstaller/code/uvl-tore-classifier-bert/src/data/datasets/prolific/TORE_Coded_Answers_67_100.json\n",
      "04:00:24 INFO:Importing dataset: komoot from /Users/bockstaller/code/uvl-tore-classifier-bert/src/data/datasets/app/Komoot_AppReview.json\n",
      "04:00:28 INFO:Dataset Labels: transformed_dataset['labels']=['Domain_Level', '0', 'Interaction_Level', 'System_Level']\n",
      "04:00:28 INFO:Class weights: {'0': 0.33736363, 'System_Level': 6.415328, 'Domain_Level': 3.4397147, 'Interaction_Level': 1.6970985}\n",
      "04:00:29 INFO:Configured maximal token sequence length: max_len = 123\n",
      "04:00:31 INFO:Created fold datasets for fold: 0, stored at paths=[PosixPath('/Users/bockstaller/code/uvl-tore-classifier-bert/src/data/temp/sampling/sedate-roo-908/0_data_train.pickle'), PosixPath('/Users/bockstaller/code/uvl-tore-classifier-bert/src/data/temp/sampling/sedate-roo-908/0_data_train.csv'), PosixPath('/Users/bockstaller/code/uvl-tore-classifier-bert/src/data/temp/sampling/sedate-roo-908/0_data_test.pickle'), PosixPath('/Users/bockstaller/code/uvl-tore-classifier-bert/src/data/temp/sampling/sedate-roo-908/0_data_test.csv')]\n",
      "04:00:31 INFO:Starting iteration=0\n"
     ]
    },
    {
     "data": {
      "application/vnd.jupyter.widget-view+json": {
       "model_id": "24774f2c879244a2b0d3dd048c1f9209",
       "version_major": 2,
       "version_minor": 0
      },
      "text/plain": [
       "Map:   0%|          | 0/2488 [00:00<?, ? examples/s]"
      ]
     },
     "metadata": {},
     "output_type": "display_data"
    },
    {
     "data": {
      "application/vnd.jupyter.widget-view+json": {
       "model_id": "4ae42897457448e79fb94c33723e38ed",
       "version_major": 2,
       "version_minor": 0
      },
      "text/plain": [
       "Map:   0%|          | 0/622 [00:00<?, ? examples/s]"
      ]
     },
     "metadata": {},
     "output_type": "display_data"
    },
    {
     "name": "stderr",
     "output_type": "stream",
     "text": [
      "04:02:12 INFO:Logged iteration result res.precision=0.6475567566724493 res.recall=0.7885720057017407\n"
     ]
    },
    {
     "name": "stdout",
     "output_type": "stream",
     "text": [
      "{'eval_loss': 0.5521677732467651, 'eval_step': 0, 'eval_precision': 0.6475567566724493, 'eval_recall': 0.7885720057017407, 'eval_f1': 0.7111411508404235, 'eval_label_count': 4, 'eval_runtime': 5.4443, 'eval_samples_per_second': 114.248, 'eval_steps_per_second': 1.837, 'epoch': 1.0}\n",
      "{'loss': 0.5699, 'learning_rate': 2.397106109324759e-05, 'epoch': 1.61}\n"
     ]
    },
    {
     "name": "stderr",
     "output_type": "stream",
     "text": [
      "04:03:54 INFO:Logged iteration result res.precision=0.7186862452109917 res.recall=0.8085557721539085\n"
     ]
    },
    {
     "name": "stdout",
     "output_type": "stream",
     "text": [
      "{'eval_loss': 0.5650464296340942, 'eval_step': 2, 'eval_precision': 0.7186862452109917, 'eval_recall': 0.8085557721539085, 'eval_f1': 0.7609768528181166, 'eval_label_count': 4, 'eval_runtime': 5.7706, 'eval_samples_per_second': 107.788, 'eval_steps_per_second': 1.733, 'epoch': 2.0}\n"
     ]
    },
    {
     "name": "stderr",
     "output_type": "stream",
     "text": [
      "04:05:35 INFO:Logged iteration result res.precision=0.6956311392611862 res.recall=0.8069336523734703\n"
     ]
    },
    {
     "name": "stdout",
     "output_type": "stream",
     "text": [
      "{'eval_loss': 0.6244310736656189, 'eval_step': 4, 'eval_precision': 0.6956311392611862, 'eval_recall': 0.8069336523734703, 'eval_f1': 0.7471600280185884, 'eval_label_count': 4, 'eval_runtime': 5.5461, 'eval_samples_per_second': 112.152, 'eval_steps_per_second': 1.803, 'epoch': 3.0}\n",
      "{'loss': 0.2577, 'learning_rate': 1.7942122186495177e-05, 'epoch': 3.22}\n"
     ]
    },
    {
     "name": "stderr",
     "output_type": "stream",
     "text": [
      "04:07:18 INFO:Logged iteration result res.precision=0.7560400966931575 res.recall=0.7995506270630915\n"
     ]
    },
    {
     "name": "stdout",
     "output_type": "stream",
     "text": [
      "{'eval_loss': 0.8587595224380493, 'eval_step': 6, 'eval_precision': 0.7560400966931575, 'eval_recall': 0.7995506270630915, 'eval_f1': 0.7771868579110587, 'eval_label_count': 4, 'eval_runtime': 5.708, 'eval_samples_per_second': 108.971, 'eval_steps_per_second': 1.752, 'epoch': 4.0}\n",
      "{'loss': 0.1132, 'learning_rate': 1.1913183279742765e-05, 'epoch': 4.82}\n"
     ]
    },
    {
     "name": "stderr",
     "output_type": "stream",
     "text": [
      "04:09:00 INFO:Logged iteration result res.precision=0.7665259511103067 res.recall=0.8068658854928547\n"
     ]
    },
    {
     "name": "stdout",
     "output_type": "stream",
     "text": [
      "{'eval_loss': 1.0138555765151978, 'eval_step': 8, 'eval_precision': 0.7665259511103067, 'eval_recall': 0.8068658854928547, 'eval_f1': 0.7861787838319174, 'eval_label_count': 4, 'eval_runtime': 6.0054, 'eval_samples_per_second': 103.573, 'eval_steps_per_second': 1.665, 'epoch': 5.0}\n"
     ]
    },
    {
     "name": "stderr",
     "output_type": "stream",
     "text": [
      "04:10:42 INFO:Logged iteration result res.precision=0.7822431712098377 res.recall=0.8004077282029143\n"
     ]
    },
    {
     "name": "stdout",
     "output_type": "stream",
     "text": [
      "{'eval_loss': 1.205561637878418, 'eval_step': 10, 'eval_precision': 0.7822431712098377, 'eval_recall': 0.8004077282029143, 'eval_f1': 0.7912212096838678, 'eval_label_count': 4, 'eval_runtime': 5.9459, 'eval_samples_per_second': 104.61, 'eval_steps_per_second': 1.682, 'epoch': 6.0}\n",
      "{'loss': 0.053, 'learning_rate': 5.884244372990354e-06, 'epoch': 6.43}\n"
     ]
    },
    {
     "name": "stderr",
     "output_type": "stream",
     "text": [
      "04:12:24 INFO:Logged iteration result res.precision=0.7887592300792999 res.recall=0.7903211928678491\n"
     ]
    },
    {
     "name": "stdout",
     "output_type": "stream",
     "text": [
      "{'eval_loss': 1.3244564533233643, 'eval_step': 12, 'eval_precision': 0.7887592300792999, 'eval_recall': 0.7903211928678491, 'eval_f1': 0.7895394389582175, 'eval_label_count': 4, 'eval_runtime': 5.4268, 'eval_samples_per_second': 114.617, 'eval_steps_per_second': 1.843, 'epoch': 7.0}\n"
     ]
    },
    {
     "name": "stderr",
     "output_type": "stream",
     "text": [
      "04:14:06 INFO:Logged iteration result res.precision=0.7849220525652167 res.recall=0.797109873113024\n"
     ]
    },
    {
     "name": "stdout",
     "output_type": "stream",
     "text": [
      "{'eval_loss': 1.3363664150238037, 'eval_step': 14, 'eval_precision': 0.7849220525652167, 'eval_recall': 0.797109873113024, 'eval_f1': 0.7909690159452889, 'eval_label_count': 4, 'eval_runtime': 5.8101, 'eval_samples_per_second': 107.054, 'eval_steps_per_second': 1.721, 'epoch': 8.0}\n",
      "{'train_runtime': 816.2945, 'train_samples_per_second': 24.383, 'train_steps_per_second': 3.048, 'train_loss': 0.20580000202755452, 'epoch': 8.0}\n"
     ]
    },
    {
     "name": "stderr",
     "output_type": "stream",
     "text": [
      "04:14:16 INFO:Logged iteration result res.precision=0.7849220525652167 res.recall=0.797109873113024\n",
      "04:14:17 INFO:Logged iteration result res.precision=0.7849220525652167 res.recall=0.797109873113024\n",
      "04:14:17 INFO:Finished iteration=0\n",
      "04:14:17 INFO:Logging model artifact (might take a while)\n",
      "04:16:18 INFO:Created fold datasets for fold: 1, stored at paths=[PosixPath('/Users/bockstaller/code/uvl-tore-classifier-bert/src/data/temp/sampling/sedate-roo-908/1_data_train.pickle'), PosixPath('/Users/bockstaller/code/uvl-tore-classifier-bert/src/data/temp/sampling/sedate-roo-908/1_data_train.csv'), PosixPath('/Users/bockstaller/code/uvl-tore-classifier-bert/src/data/temp/sampling/sedate-roo-908/1_data_test.pickle'), PosixPath('/Users/bockstaller/code/uvl-tore-classifier-bert/src/data/temp/sampling/sedate-roo-908/1_data_test.csv')]\n",
      "04:16:18 INFO:Starting iteration=1\n"
     ]
    },
    {
     "data": {
      "application/vnd.jupyter.widget-view+json": {
       "model_id": "dda919b411dc4beb836deeb741dca997",
       "version_major": 2,
       "version_minor": 0
      },
      "text/plain": [
       "Map:   0%|          | 0/2488 [00:00<?, ? examples/s]"
      ]
     },
     "metadata": {},
     "output_type": "display_data"
    },
    {
     "data": {
      "application/vnd.jupyter.widget-view+json": {
       "model_id": "1bf0f3306ce545ac8b1e6beafae7e2ce",
       "version_major": 2,
       "version_minor": 0
      },
      "text/plain": [
       "Map:   0%|          | 0/622 [00:00<?, ? examples/s]"
      ]
     },
     "metadata": {},
     "output_type": "display_data"
    },
    {
     "name": "stderr",
     "output_type": "stream",
     "text": [
      "04:18:00 INFO:Logged iteration result res.precision=0.6800793555656589 res.recall=0.7930167435584031\n"
     ]
    },
    {
     "name": "stdout",
     "output_type": "stream",
     "text": [
      "{'eval_loss': 0.5417787432670593, 'eval_step': 0, 'eval_precision': 0.6800793555656589, 'eval_recall': 0.7930167435584031, 'eval_f1': 0.7322187822405685, 'eval_label_count': 4, 'eval_runtime': 5.3949, 'eval_samples_per_second': 115.294, 'eval_steps_per_second': 1.854, 'epoch': 1.0}\n",
      "{'loss': 0.5588, 'learning_rate': 2.397106109324759e-05, 'epoch': 1.61}\n"
     ]
    },
    {
     "name": "stderr",
     "output_type": "stream",
     "text": [
      "04:19:42 INFO:Logged iteration result res.precision=0.7015744665266641 res.recall=0.8225995931611247\n"
     ]
    },
    {
     "name": "stdout",
     "output_type": "stream",
     "text": [
      "{'eval_loss': 0.5110695362091064, 'eval_step': 2, 'eval_precision': 0.7015744665266641, 'eval_recall': 0.8225995931611247, 'eval_f1': 0.7572821057659032, 'eval_label_count': 4, 'eval_runtime': 5.5588, 'eval_samples_per_second': 111.895, 'eval_steps_per_second': 1.799, 'epoch': 2.0}\n"
     ]
    },
    {
     "name": "stderr",
     "output_type": "stream",
     "text": [
      "04:21:23 INFO:Logged iteration result res.precision=0.7269564939066432 res.recall=0.8198224565896663\n"
     ]
    },
    {
     "name": "stdout",
     "output_type": "stream",
     "text": [
      "{'eval_loss': 0.6491295695304871, 'eval_step': 4, 'eval_precision': 0.7269564939066432, 'eval_recall': 0.8198224565896663, 'eval_f1': 0.7706017184642014, 'eval_label_count': 4, 'eval_runtime': 5.5719, 'eval_samples_per_second': 111.633, 'eval_steps_per_second': 1.795, 'epoch': 3.0}\n",
      "{'loss': 0.2547, 'learning_rate': 1.7942122186495177e-05, 'epoch': 3.22}\n"
     ]
    },
    {
     "name": "stderr",
     "output_type": "stream",
     "text": [
      "04:23:04 INFO:Logged iteration result res.precision=0.7461653744499667 res.recall=0.8121429908256874\n"
     ]
    },
    {
     "name": "stdout",
     "output_type": "stream",
     "text": [
      "{'eval_loss': 0.7964043617248535, 'eval_step': 6, 'eval_precision': 0.7461653744499667, 'eval_recall': 0.8121429908256874, 'eval_f1': 0.7777574610519004, 'eval_label_count': 4, 'eval_runtime': 5.3903, 'eval_samples_per_second': 115.392, 'eval_steps_per_second': 1.855, 'epoch': 4.0}\n",
      "{'loss': 0.1153, 'learning_rate': 1.1913183279742765e-05, 'epoch': 4.82}\n"
     ]
    },
    {
     "name": "stderr",
     "output_type": "stream",
     "text": [
      "04:24:47 INFO:Logged iteration result res.precision=0.7657147788485931 res.recall=0.8129676211665563\n"
     ]
    },
    {
     "name": "stdout",
     "output_type": "stream",
     "text": [
      "{'eval_loss': 1.0054500102996826, 'eval_step': 8, 'eval_precision': 0.7657147788485931, 'eval_recall': 0.8129676211665563, 'eval_f1': 0.7886340181491132, 'eval_label_count': 4, 'eval_runtime': 5.6261, 'eval_samples_per_second': 110.557, 'eval_steps_per_second': 1.777, 'epoch': 5.0}\n"
     ]
    },
    {
     "name": "stderr",
     "output_type": "stream",
     "text": [
      "04:26:28 INFO:Logged iteration result res.precision=0.7992914052336716 res.recall=0.7956532318959848\n"
     ]
    },
    {
     "name": "stdout",
     "output_type": "stream",
     "text": [
      "{'eval_loss': 1.2405695915222168, 'eval_step': 10, 'eval_precision': 0.7992914052336716, 'eval_recall': 0.7956532318959848, 'eval_f1': 0.7974681691088136, 'eval_label_count': 4, 'eval_runtime': 5.688, 'eval_samples_per_second': 109.353, 'eval_steps_per_second': 1.758, 'epoch': 6.0}\n",
      "{'loss': 0.0543, 'learning_rate': 5.884244372990354e-06, 'epoch': 6.43}\n"
     ]
    },
    {
     "name": "stderr",
     "output_type": "stream",
     "text": [
      "04:28:10 INFO:Logged iteration result res.precision=0.7917438949574097 res.recall=0.8003959691627469\n"
     ]
    },
    {
     "name": "stdout",
     "output_type": "stream",
     "text": [
      "{'eval_loss': 1.2685984373092651, 'eval_step': 12, 'eval_precision': 0.7917438949574097, 'eval_recall': 0.8003959691627469, 'eval_f1': 0.7960464233251544, 'eval_label_count': 4, 'eval_runtime': 5.544, 'eval_samples_per_second': 112.193, 'eval_steps_per_second': 1.804, 'epoch': 7.0}\n"
     ]
    },
    {
     "name": "stderr",
     "output_type": "stream",
     "text": [
      "04:29:52 INFO:Logged iteration result res.precision=0.7936867036253155 res.recall=0.8006151146469085\n"
     ]
    },
    {
     "name": "stdout",
     "output_type": "stream",
     "text": [
      "{'eval_loss': 1.3108457326889038, 'eval_step': 14, 'eval_precision': 0.7936867036253155, 'eval_recall': 0.8006151146469085, 'eval_f1': 0.7971358546217365, 'eval_label_count': 4, 'eval_runtime': 5.6747, 'eval_samples_per_second': 109.61, 'eval_steps_per_second': 1.762, 'epoch': 8.0}\n",
      "{'train_runtime': 814.9381, 'train_samples_per_second': 24.424, 'train_steps_per_second': 3.053, 'train_loss': 0.20354082385060104, 'epoch': 8.0}\n"
     ]
    },
    {
     "name": "stderr",
     "output_type": "stream",
     "text": [
      "04:30:01 INFO:Logged iteration result res.precision=0.7936867036253155 res.recall=0.8006151146469085\n",
      "04:30:03 INFO:Logged iteration result res.precision=0.7936867036253155 res.recall=0.8006151146469085\n",
      "04:30:03 INFO:Finished iteration=1\n",
      "04:30:03 INFO:Logging model artifact (might take a while)\n",
      "04:32:06 INFO:Created fold datasets for fold: 2, stored at paths=[PosixPath('/Users/bockstaller/code/uvl-tore-classifier-bert/src/data/temp/sampling/sedate-roo-908/2_data_train.pickle'), PosixPath('/Users/bockstaller/code/uvl-tore-classifier-bert/src/data/temp/sampling/sedate-roo-908/2_data_train.csv'), PosixPath('/Users/bockstaller/code/uvl-tore-classifier-bert/src/data/temp/sampling/sedate-roo-908/2_data_test.pickle'), PosixPath('/Users/bockstaller/code/uvl-tore-classifier-bert/src/data/temp/sampling/sedate-roo-908/2_data_test.csv')]\n",
      "04:32:06 INFO:Starting iteration=2\n"
     ]
    },
    {
     "data": {
      "application/vnd.jupyter.widget-view+json": {
       "model_id": "74048e09b904428fbac6e5e192f6385b",
       "version_major": 2,
       "version_minor": 0
      },
      "text/plain": [
       "Map:   0%|          | 0/2488 [00:00<?, ? examples/s]"
      ]
     },
     "metadata": {},
     "output_type": "display_data"
    },
    {
     "data": {
      "application/vnd.jupyter.widget-view+json": {
       "model_id": "73a2c93e6cea48a4a474e675f19e2177",
       "version_major": 2,
       "version_minor": 0
      },
      "text/plain": [
       "Map:   0%|          | 0/622 [00:00<?, ? examples/s]"
      ]
     },
     "metadata": {},
     "output_type": "display_data"
    },
    {
     "name": "stderr",
     "output_type": "stream",
     "text": [
      "04:33:47 INFO:Logged iteration result res.precision=0.681143229927166 res.recall=0.7938088485966175\n"
     ]
    },
    {
     "name": "stdout",
     "output_type": "stream",
     "text": [
      "{'eval_loss': 0.5551111102104187, 'eval_step': 0, 'eval_precision': 0.681143229927166, 'eval_recall': 0.7938088485966175, 'eval_f1': 0.7331730039921376, 'eval_label_count': 4, 'eval_runtime': 5.6452, 'eval_samples_per_second': 110.183, 'eval_steps_per_second': 1.771, 'epoch': 1.0}\n",
      "{'loss': 0.5511, 'learning_rate': 2.397106109324759e-05, 'epoch': 1.61}\n"
     ]
    },
    {
     "name": "stderr",
     "output_type": "stream",
     "text": [
      "04:35:29 INFO:Logged iteration result res.precision=0.6921566076896006 res.recall=0.7975297688240782\n"
     ]
    },
    {
     "name": "stdout",
     "output_type": "stream",
     "text": [
      "{'eval_loss': 0.5928078889846802, 'eval_step': 2, 'eval_precision': 0.6921566076896006, 'eval_recall': 0.7975297688240782, 'eval_f1': 0.741116396073421, 'eval_label_count': 4, 'eval_runtime': 5.791, 'eval_samples_per_second': 107.407, 'eval_steps_per_second': 1.727, 'epoch': 2.0}\n"
     ]
    },
    {
     "name": "stderr",
     "output_type": "stream",
     "text": [
      "04:37:12 INFO:Logged iteration result res.precision=0.7300870404176797 res.recall=0.7964385688264652\n"
     ]
    },
    {
     "name": "stdout",
     "output_type": "stream",
     "text": [
      "{'eval_loss': 0.7409144043922424, 'eval_step': 4, 'eval_precision': 0.7300870404176797, 'eval_recall': 0.7964385688264652, 'eval_f1': 0.7618207962811965, 'eval_label_count': 4, 'eval_runtime': 5.7131, 'eval_samples_per_second': 108.872, 'eval_steps_per_second': 1.75, 'epoch': 3.0}\n",
      "{'loss': 0.2436, 'learning_rate': 1.7942122186495177e-05, 'epoch': 3.22}\n"
     ]
    },
    {
     "name": "stderr",
     "output_type": "stream",
     "text": [
      "04:38:54 INFO:Logged iteration result res.precision=0.726103729813126 res.recall=0.8013935269410813\n"
     ]
    },
    {
     "name": "stdout",
     "output_type": "stream",
     "text": [
      "{'eval_loss': 0.8330478668212891, 'eval_step': 6, 'eval_precision': 0.726103729813126, 'eval_recall': 0.8013935269410813, 'eval_f1': 0.7618931247005818, 'eval_label_count': 4, 'eval_runtime': 5.5418, 'eval_samples_per_second': 112.237, 'eval_steps_per_second': 1.804, 'epoch': 4.0}\n",
      "{'loss': 0.1065, 'learning_rate': 1.1913183279742765e-05, 'epoch': 4.82}\n"
     ]
    },
    {
     "name": "stderr",
     "output_type": "stream",
     "text": [
      "04:40:37 INFO:Logged iteration result res.precision=0.7545698523441623 res.recall=0.7989044824755435\n"
     ]
    },
    {
     "name": "stdout",
     "output_type": "stream",
     "text": [
      "{'eval_loss': 1.0582157373428345, 'eval_step': 8, 'eval_precision': 0.7545698523441623, 'eval_recall': 0.7989044824755435, 'eval_f1': 0.7761045340329022, 'eval_label_count': 4, 'eval_runtime': 5.8271, 'eval_samples_per_second': 106.743, 'eval_steps_per_second': 1.716, 'epoch': 5.0}\n"
     ]
    },
    {
     "name": "stderr",
     "output_type": "stream",
     "text": [
      "04:42:19 INFO:Logged iteration result res.precision=0.7796313410345169 res.recall=0.7876667292953807\n"
     ]
    },
    {
     "name": "stdout",
     "output_type": "stream",
     "text": [
      "{'eval_loss': 1.2792561054229736, 'eval_step': 10, 'eval_precision': 0.7796313410345169, 'eval_recall': 0.7876667292953807, 'eval_f1': 0.7836284368289574, 'eval_label_count': 4, 'eval_runtime': 6.1315, 'eval_samples_per_second': 101.444, 'eval_steps_per_second': 1.631, 'epoch': 6.0}\n",
      "{'loss': 0.052, 'learning_rate': 5.884244372990354e-06, 'epoch': 6.43}\n"
     ]
    },
    {
     "name": "stderr",
     "output_type": "stream",
     "text": [
      "04:44:01 INFO:Logged iteration result res.precision=0.769912299524768 res.recall=0.7941439024829632\n"
     ]
    },
    {
     "name": "stdout",
     "output_type": "stream",
     "text": [
      "{'eval_loss': 1.3276604413986206, 'eval_step': 12, 'eval_precision': 0.769912299524768, 'eval_recall': 0.7941439024829632, 'eval_f1': 0.7818403933686893, 'eval_label_count': 4, 'eval_runtime': 5.3931, 'eval_samples_per_second': 115.332, 'eval_steps_per_second': 1.854, 'epoch': 7.0}\n"
     ]
    },
    {
     "name": "stderr",
     "output_type": "stream",
     "text": [
      "04:45:43 INFO:Logged iteration result res.precision=0.7801906523490285 res.recall=0.7921046084619278\n"
     ]
    },
    {
     "name": "stdout",
     "output_type": "stream",
     "text": [
      "{'eval_loss': 1.4027245044708252, 'eval_step': 14, 'eval_precision': 0.7801906523490285, 'eval_recall': 0.7921046084619278, 'eval_f1': 0.7861024918256585, 'eval_label_count': 4, 'eval_runtime': 5.953, 'eval_samples_per_second': 104.485, 'eval_steps_per_second': 1.68, 'epoch': 8.0}\n",
      "{'train_runtime': 817.6369, 'train_samples_per_second': 24.343, 'train_steps_per_second': 3.043, 'train_loss': 0.19691148831530017, 'epoch': 8.0}\n"
     ]
    },
    {
     "name": "stderr",
     "output_type": "stream",
     "text": [
      "04:45:53 INFO:Logged iteration result res.precision=0.7801906523490285 res.recall=0.7921046084619278\n",
      "04:45:54 INFO:Logged iteration result res.precision=0.7801906523490285 res.recall=0.7921046084619278\n",
      "04:45:54 INFO:Finished iteration=2\n",
      "04:45:54 INFO:Logging model artifact (might take a while)\n",
      "04:47:55 INFO:Created fold datasets for fold: 3, stored at paths=[PosixPath('/Users/bockstaller/code/uvl-tore-classifier-bert/src/data/temp/sampling/sedate-roo-908/3_data_train.pickle'), PosixPath('/Users/bockstaller/code/uvl-tore-classifier-bert/src/data/temp/sampling/sedate-roo-908/3_data_train.csv'), PosixPath('/Users/bockstaller/code/uvl-tore-classifier-bert/src/data/temp/sampling/sedate-roo-908/3_data_test.pickle'), PosixPath('/Users/bockstaller/code/uvl-tore-classifier-bert/src/data/temp/sampling/sedate-roo-908/3_data_test.csv')]\n",
      "04:47:55 INFO:Starting iteration=3\n"
     ]
    },
    {
     "data": {
      "application/vnd.jupyter.widget-view+json": {
       "model_id": "8b25b9fe2bcf4227a59e50e50a976545",
       "version_major": 2,
       "version_minor": 0
      },
      "text/plain": [
       "Map:   0%|          | 0/2488 [00:00<?, ? examples/s]"
      ]
     },
     "metadata": {},
     "output_type": "display_data"
    },
    {
     "data": {
      "application/vnd.jupyter.widget-view+json": {
       "model_id": "befc85aa7efe4aa28eeb98d055ec2e88",
       "version_major": 2,
       "version_minor": 0
      },
      "text/plain": [
       "Map:   0%|          | 0/622 [00:00<?, ? examples/s]"
      ]
     },
     "metadata": {},
     "output_type": "display_data"
    },
    {
     "name": "stderr",
     "output_type": "stream",
     "text": [
      "04:49:36 INFO:Logged iteration result res.precision=0.6743950722050123 res.recall=0.7763287418789065\n"
     ]
    },
    {
     "name": "stdout",
     "output_type": "stream",
     "text": [
      "{'eval_loss': 0.5920003652572632, 'eval_step': 0, 'eval_precision': 0.6743950722050123, 'eval_recall': 0.7763287418789065, 'eval_f1': 0.7217807729514062, 'eval_label_count': 4, 'eval_runtime': 5.6386, 'eval_samples_per_second': 110.311, 'eval_steps_per_second': 1.773, 'epoch': 1.0}\n",
      "{'loss': 0.5455, 'learning_rate': 2.397106109324759e-05, 'epoch': 1.61}\n"
     ]
    },
    {
     "name": "stderr",
     "output_type": "stream",
     "text": [
      "04:51:17 INFO:Logged iteration result res.precision=0.6827528993318354 res.recall=0.7975366931613364\n"
     ]
    },
    {
     "name": "stdout",
     "output_type": "stream",
     "text": [
      "{'eval_loss': 0.5747444033622742, 'eval_step': 2, 'eval_precision': 0.6827528993318354, 'eval_recall': 0.7975366931613364, 'eval_f1': 0.7356945456359256, 'eval_label_count': 4, 'eval_runtime': 5.5157, 'eval_samples_per_second': 112.768, 'eval_steps_per_second': 1.813, 'epoch': 2.0}\n"
     ]
    },
    {
     "name": "stderr",
     "output_type": "stream",
     "text": [
      "04:52:59 INFO:Logged iteration result res.precision=0.716879289536999 res.recall=0.7904362327074183\n"
     ]
    },
    {
     "name": "stdout",
     "output_type": "stream",
     "text": [
      "{'eval_loss': 0.7593855857849121, 'eval_step': 4, 'eval_precision': 0.716879289536999, 'eval_recall': 0.7904362327074183, 'eval_f1': 0.7518629730341381, 'eval_label_count': 4, 'eval_runtime': 5.783, 'eval_samples_per_second': 107.557, 'eval_steps_per_second': 1.729, 'epoch': 3.0}\n",
      "{'loss': 0.2514, 'learning_rate': 1.7942122186495177e-05, 'epoch': 3.22}\n"
     ]
    },
    {
     "name": "stderr",
     "output_type": "stream",
     "text": [
      "04:54:41 INFO:Logged iteration result res.precision=0.7580681610421964 res.recall=0.7832939867296465\n"
     ]
    },
    {
     "name": "stdout",
     "output_type": "stream",
     "text": [
      "{'eval_loss': 1.0181050300598145, 'eval_step': 6, 'eval_precision': 0.7580681610421964, 'eval_recall': 0.7832939867296465, 'eval_f1': 0.770474651831723, 'eval_label_count': 4, 'eval_runtime': 6.3721, 'eval_samples_per_second': 97.612, 'eval_steps_per_second': 1.569, 'epoch': 4.0}\n",
      "{'loss': 0.1058, 'learning_rate': 1.1913183279742765e-05, 'epoch': 4.82}\n"
     ]
    },
    {
     "name": "stderr",
     "output_type": "stream",
     "text": [
      "04:56:23 INFO:Logged iteration result res.precision=0.762953463671521 res.recall=0.7848379174878053\n"
     ]
    },
    {
     "name": "stdout",
     "output_type": "stream",
     "text": [
      "{'eval_loss': 1.177322268486023, 'eval_step': 8, 'eval_precision': 0.762953463671521, 'eval_recall': 0.7848379174878053, 'eval_f1': 0.7737409767969573, 'eval_label_count': 4, 'eval_runtime': 5.6815, 'eval_samples_per_second': 109.478, 'eval_steps_per_second': 1.76, 'epoch': 5.0}\n"
     ]
    },
    {
     "name": "stderr",
     "output_type": "stream",
     "text": [
      "04:58:03 INFO:Logged iteration result res.precision=0.7716000963393613 res.recall=0.7819124294695121\n"
     ]
    },
    {
     "name": "stdout",
     "output_type": "stream",
     "text": [
      "{'eval_loss': 1.2918368577957153, 'eval_step': 10, 'eval_precision': 0.7716000963393613, 'eval_recall': 0.7819124294695121, 'eval_f1': 0.7767220358825041, 'eval_label_count': 4, 'eval_runtime': 5.465, 'eval_samples_per_second': 113.815, 'eval_steps_per_second': 1.83, 'epoch': 6.0}\n",
      "{'loss': 0.0517, 'learning_rate': 5.884244372990354e-06, 'epoch': 6.43}\n"
     ]
    },
    {
     "name": "stderr",
     "output_type": "stream",
     "text": [
      "04:59:45 INFO:Logged iteration result res.precision=0.7716063356943188 res.recall=0.7840104762500919\n"
     ]
    },
    {
     "name": "stdout",
     "output_type": "stream",
     "text": [
      "{'eval_loss': 1.3845933675765991, 'eval_step': 12, 'eval_precision': 0.7716063356943188, 'eval_recall': 0.7840104762500919, 'eval_f1': 0.7777589520508585, 'eval_label_count': 4, 'eval_runtime': 5.8989, 'eval_samples_per_second': 105.443, 'eval_steps_per_second': 1.695, 'epoch': 7.0}\n"
     ]
    },
    {
     "name": "stderr",
     "output_type": "stream",
     "text": [
      "05:01:26 INFO:Logged iteration result res.precision=0.7851706305925343 res.recall=0.7793666653556828\n"
     ]
    },
    {
     "name": "stdout",
     "output_type": "stream",
     "text": [
      "{'eval_loss': 1.4995105266571045, 'eval_step': 14, 'eval_precision': 0.7851706305925343, 'eval_recall': 0.7793666653556828, 'eval_f1': 0.7822578824869074, 'eval_label_count': 4, 'eval_runtime': 5.5881, 'eval_samples_per_second': 111.308, 'eval_steps_per_second': 1.79, 'epoch': 8.0}\n",
      "{'train_runtime': 811.3344, 'train_samples_per_second': 24.532, 'train_steps_per_second': 3.067, 'train_loss': 0.1973763198331238, 'epoch': 8.0}\n"
     ]
    },
    {
     "name": "stderr",
     "output_type": "stream",
     "text": [
      "05:01:35 INFO:Logged iteration result res.precision=0.7851706305925343 res.recall=0.7793666653556828\n",
      "05:01:36 INFO:Logged iteration result res.precision=0.7851706305925343 res.recall=0.7793666653556828\n",
      "05:01:36 INFO:Finished iteration=3\n",
      "05:01:36 INFO:Logging model artifact (might take a while)\n",
      "05:03:41 INFO:Created fold datasets for fold: 4, stored at paths=[PosixPath('/Users/bockstaller/code/uvl-tore-classifier-bert/src/data/temp/sampling/sedate-roo-908/4_data_train.pickle'), PosixPath('/Users/bockstaller/code/uvl-tore-classifier-bert/src/data/temp/sampling/sedate-roo-908/4_data_train.csv'), PosixPath('/Users/bockstaller/code/uvl-tore-classifier-bert/src/data/temp/sampling/sedate-roo-908/4_data_test.pickle'), PosixPath('/Users/bockstaller/code/uvl-tore-classifier-bert/src/data/temp/sampling/sedate-roo-908/4_data_test.csv')]\n",
      "05:03:41 INFO:Starting iteration=4\n"
     ]
    },
    {
     "data": {
      "application/vnd.jupyter.widget-view+json": {
       "model_id": "2c477701295b42b6a128778eb79f8fa2",
       "version_major": 2,
       "version_minor": 0
      },
      "text/plain": [
       "Map:   0%|          | 0/2488 [00:00<?, ? examples/s]"
      ]
     },
     "metadata": {},
     "output_type": "display_data"
    },
    {
     "data": {
      "application/vnd.jupyter.widget-view+json": {
       "model_id": "c7f98e679c80424ab184953cebd69cc8",
       "version_major": 2,
       "version_minor": 0
      },
      "text/plain": [
       "Map:   0%|          | 0/622 [00:00<?, ? examples/s]"
      ]
     },
     "metadata": {},
     "output_type": "display_data"
    },
    {
     "name": "stderr",
     "output_type": "stream",
     "text": [
      "05:05:22 INFO:Logged iteration result res.precision=0.6645805847089123 res.recall=0.7819132638870488\n"
     ]
    },
    {
     "name": "stdout",
     "output_type": "stream",
     "text": [
      "{'eval_loss': 0.6065749526023865, 'eval_step': 0, 'eval_precision': 0.6645805847089123, 'eval_recall': 0.7819132638870488, 'eval_f1': 0.7184881907518674, 'eval_label_count': 4, 'eval_runtime': 5.8042, 'eval_samples_per_second': 107.164, 'eval_steps_per_second': 1.723, 'epoch': 1.0}\n",
      "{'loss': 0.5403, 'learning_rate': 2.397106109324759e-05, 'epoch': 1.61}\n"
     ]
    },
    {
     "name": "stderr",
     "output_type": "stream",
     "text": [
      "05:07:03 INFO:Logged iteration result res.precision=0.6788457382687849 res.recall=0.7890710294945982\n"
     ]
    },
    {
     "name": "stdout",
     "output_type": "stream",
     "text": [
      "{'eval_loss': 0.6411641836166382, 'eval_step': 2, 'eval_precision': 0.6788457382687849, 'eval_recall': 0.7890710294945982, 'eval_f1': 0.729819997056011, 'eval_label_count': 4, 'eval_runtime': 5.4649, 'eval_samples_per_second': 113.817, 'eval_steps_per_second': 1.83, 'epoch': 2.0}\n"
     ]
    },
    {
     "name": "stderr",
     "output_type": "stream",
     "text": [
      "05:08:43 INFO:Logged iteration result res.precision=0.7126003179958726 res.recall=0.7705867388557507\n"
     ]
    },
    {
     "name": "stdout",
     "output_type": "stream",
     "text": [
      "{'eval_loss': 0.8742575645446777, 'eval_step': 4, 'eval_precision': 0.7126003179958726, 'eval_recall': 0.7705867388557507, 'eval_f1': 0.7404600149594535, 'eval_label_count': 4, 'eval_runtime': 5.387, 'eval_samples_per_second': 115.463, 'eval_steps_per_second': 1.856, 'epoch': 3.0}\n",
      "{'loss': 0.2457, 'learning_rate': 1.7942122186495177e-05, 'epoch': 3.22}\n"
     ]
    },
    {
     "name": "stderr",
     "output_type": "stream",
     "text": [
      "05:10:24 INFO:Logged iteration result res.precision=0.7326170657068858 res.recall=0.7763870267365932\n"
     ]
    },
    {
     "name": "stdout",
     "output_type": "stream",
     "text": [
      "{'eval_loss': 1.0923675298690796, 'eval_step': 6, 'eval_precision': 0.7326170657068858, 'eval_recall': 0.7763870267365932, 'eval_f1': 0.7538672535468436, 'eval_label_count': 4, 'eval_runtime': 5.4062, 'eval_samples_per_second': 115.053, 'eval_steps_per_second': 1.85, 'epoch': 4.0}\n",
      "{'loss': 0.1022, 'learning_rate': 1.1913183279742765e-05, 'epoch': 4.82}\n"
     ]
    },
    {
     "name": "stderr",
     "output_type": "stream",
     "text": [
      "05:12:06 INFO:Logged iteration result res.precision=0.7143750929164991 res.recall=0.7791054092312597\n"
     ]
    },
    {
     "name": "stdout",
     "output_type": "stream",
     "text": [
      "{'eval_loss': 1.1164789199829102, 'eval_step': 8, 'eval_precision': 0.7143750929164991, 'eval_recall': 0.7791054092312597, 'eval_f1': 0.7453374828943875, 'eval_label_count': 4, 'eval_runtime': 5.8204, 'eval_samples_per_second': 106.866, 'eval_steps_per_second': 1.718, 'epoch': 5.0}\n"
     ]
    },
    {
     "name": "stderr",
     "output_type": "stream",
     "text": [
      "05:13:47 INFO:Logged iteration result res.precision=0.7470786023542068 res.recall=0.7651066980233966\n"
     ]
    },
    {
     "name": "stdout",
     "output_type": "stream",
     "text": [
      "{'eval_loss': 1.4003376960754395, 'eval_step': 10, 'eval_precision': 0.7470786023542068, 'eval_recall': 0.7651066980233966, 'eval_f1': 0.7559851857684768, 'eval_label_count': 4, 'eval_runtime': 5.4348, 'eval_samples_per_second': 114.447, 'eval_steps_per_second': 1.84, 'epoch': 6.0}\n",
      "{'loss': 0.0496, 'learning_rate': 5.884244372990354e-06, 'epoch': 6.43}\n"
     ]
    },
    {
     "name": "stderr",
     "output_type": "stream",
     "text": [
      "05:15:28 INFO:Logged iteration result res.precision=0.7488184305221133 res.recall=0.7570431296524712\n"
     ]
    },
    {
     "name": "stdout",
     "output_type": "stream",
     "text": [
      "{'eval_loss': 1.5391751527786255, 'eval_step': 12, 'eval_precision': 0.7488184305221133, 'eval_recall': 0.7570431296524712, 'eval_f1': 0.7529083192988726, 'eval_label_count': 4, 'eval_runtime': 5.465, 'eval_samples_per_second': 113.815, 'eval_steps_per_second': 1.83, 'epoch': 7.0}\n"
     ]
    },
    {
     "name": "stderr",
     "output_type": "stream",
     "text": [
      "05:17:10 INFO:Logged iteration result res.precision=0.7465559516588782 res.recall=0.7590111879884601\n"
     ]
    },
    {
     "name": "stdout",
     "output_type": "stream",
     "text": [
      "{'eval_loss': 1.582337737083435, 'eval_step': 14, 'eval_precision': 0.7465559516588782, 'eval_recall': 0.7590111879884601, 'eval_f1': 0.7527320500647888, 'eval_label_count': 4, 'eval_runtime': 6.2387, 'eval_samples_per_second': 99.7, 'eval_steps_per_second': 1.603, 'epoch': 8.0}\n",
      "{'train_runtime': 809.9401, 'train_samples_per_second': 24.575, 'train_steps_per_second': 3.072, 'train_loss': 0.19409293568785935, 'epoch': 8.0}\n"
     ]
    },
    {
     "name": "stderr",
     "output_type": "stream",
     "text": [
      "05:17:20 INFO:Logged iteration result res.precision=0.7465559516588782 res.recall=0.7590111879884601\n",
      "05:17:21 INFO:Logged iteration result res.precision=0.7465559516588782 res.recall=0.7590111879884601\n",
      "05:17:21 INFO:Finished iteration=4\n",
      "05:17:21 INFO:Logging model artifact (might take a while)\n",
      "05:19:20 INFO:Breaking early after iteration=4 of 5 folds\n",
      "05:19:30 INFO:Logged experiment result res.mean_precision=0.7781051981581948 res.mean_recall=0.7856414899132007\n",
      "05:19:30 INFO:Left mlflow context\n"
     ]
    },
    {
     "name": "stdout",
     "output_type": "stream",
     "text": [
      "4e3a979a1df64714ba2f585eaaacb046\n"
     ]
    },
    {
     "data": {
      "application/vnd.jupyter.widget-view+json": {
       "model_id": "fa462eaad02f4f90976b1c93fce2fae8",
       "version_major": 2,
       "version_minor": 0
      },
      "text/plain": [
       "Downloading artifacts:   0%|          | 0/7 [00:00<?, ?it/s]"
      ]
     },
     "metadata": {},
     "output_type": "display_data"
    },
    {
     "data": {
      "text/plain": [
       "PosixPath('src/service/models/bert_1')"
      ]
     },
     "execution_count": 27,
     "metadata": {},
     "output_type": "execute_result"
    }
   ],
   "source": [
    "from tooling.observability import get_run_id\n",
    "from tooling.config import BERTConfig, BERT\n",
    "\n",
    "from copy import deepcopy\n",
    "\n",
    "bert_1_experiment_config = deepcopy(base_experiment_config)\n",
    "bert_1_experiment_config.name = \"Production\"\n",
    "bert_1_experiment_config.force = False\n",
    "\n",
    "bert_1_config = BERT(\n",
    "    max_len=123,\n",
    "    number_epochs=8,\n",
    "    train_batch_size=8,\n",
    "    weight_decay=0.01,\n",
    "    weighted_classes=True,\n",
    "    learning_rate_bert=3e-05,\n",
    "    learning_rate_classifier=0.0005,\n",
    "    validation_batch_size=64,\n",
    ")\n",
    "\n",
    "\n",
    "bert_1_cfg = OmegaConf.structured(\n",
    "    BERTConfig(\n",
    "        bert=bert_1_config,\n",
    "        experiment=bert_1_experiment_config,\n",
    "        transformation=levels_transformation_config,\n",
    "    )\n",
    ")\n",
    "\n",
    "if run_experiments:\n",
    "    from experiments.bert import bert\n",
    "\n",
    "    bert(OmegaConf.create(bert_1_cfg))\n",
    "\n",
    "bert_1_run_id = get_run_id(bert_1_cfg, pin_commit=pin_commits)\n",
    "\n",
    "print(bert_1_run_id)\n",
    "\n",
    "bert_1_run = mlflow.get_run(bert_1_run_id)\n",
    "mlflow.artifacts.download_artifacts(\n",
    "    f\"{bert_1_run.info.artifact_uri}/0_model\",\n",
    "    dst_path=Path(\"./src/service/models/\"),\n",
    ")\n",
    "try:\n",
    "    shutil.rmtree(Path(\"./src/service/models/bert_1\"))\n",
    "except FileNotFoundError:\n",
    "    pass\n",
    "Path(\"./src/service/models/0_model\").rename(\"./src/service/models/bert_1\")\n",
    "## Train BERT Second Stage Model for BERT First Stage"
   ]
  },
  {
   "cell_type": "code",
   "execution_count": 28,
   "metadata": {},
   "outputs": [
    {
     "name": "stderr",
     "output_type": "stream",
     "text": [
      "05:20:39 INFO:\n",
      "first_model_bert:\n",
      "  bert:\n",
      "    model: bert-base-uncased\n",
      "    type: BERT\n",
      "    max_len: 123\n",
      "    train_batch_size: 8\n",
      "    validation_batch_size: 64\n",
      "    number_epochs: 8\n",
      "    learning_rate_bert: 3.0e-05\n",
      "    learning_rate_classifier: 0.0005\n",
      "    weight_decay: 0.01\n",
      "    weighted_classes: true\n",
      "  experiment:\n",
      "    name: Production\n",
      "    description: ''\n",
      "    random_state: 125\n",
      "    folds: 5\n",
      "    iterations: 5\n",
      "    average: macro\n",
      "    dataset: all\n",
      "    lower_case: true\n",
      "    force: false\n",
      "    pin_commit: false\n",
      "  transformation:\n",
      "    description: Levels\n",
      "    type: Reduced\n",
      "    task: Domain_Level\n",
      "    goals: null\n",
      "    domain_data: Domain_Level\n",
      "    activity: Domain_Level\n",
      "    stakeholder: Domain_Level\n",
      "    system_function: Interaction_Level\n",
      "    interaction: Interaction_Level\n",
      "    interaction_data: Interaction_Level\n",
      "    workspace: Interaction_Level\n",
      "    software: System_Level\n",
      "    internal_action: System_Level\n",
      "    internal_data: System_Level\n",
      "    system_level: System_Level\n",
      "first_model_bilstm: null\n",
      "first_model_sner: null\n",
      "bert:\n",
      "  model: bert-base-uncased\n",
      "  type: BERT\n",
      "  max_len: 123\n",
      "  train_batch_size: 8\n",
      "  validation_batch_size: 64\n",
      "  number_epochs: 5\n",
      "  learning_rate_bert: 3.0e-05\n",
      "  learning_rate_classifier: 0.16\n",
      "  weight_decay: 0.1\n",
      "  weighted_classes: true\n",
      "  layers: []\n",
      "experiment:\n",
      "  name: Production\n",
      "  description: ''\n",
      "  random_state: 125\n",
      "  folds: 5\n",
      "  iterations: 5\n",
      "  average: macro\n",
      "  dataset: all\n",
      "  lower_case: true\n",
      "  force: false\n",
      "  pin_commit: false\n",
      "transformation:\n",
      "  description: None\n",
      "  type: Full\n",
      "  task: Task\n",
      "  goals: null\n",
      "  domain_data: Domain_Data\n",
      "  activity: Activity\n",
      "  stakeholder: Stakeholder\n",
      "  system_function: System_Function\n",
      "  interaction: Interaction\n",
      "  interaction_data: Interaction_Data\n",
      "  workspace: Workspace\n",
      "  software: System_Level\n",
      "  internal_action: System_Level\n",
      "  internal_data: System_Level\n",
      "  system_level: System_Level\n",
      "\n",
      "05:20:39 INFO:New experiment. Running\n",
      "05:20:39 INFO:Entering mlflow context\n",
      "05:20:40 INFO:Importing dataset: anno from /Users/bockstaller/code/uvl-tore-classifier-bert/src/data/datasets/forum/anno_test.json\n",
      "05:20:40 INFO:Importing dataset: anno from /Users/bockstaller/code/uvl-tore-classifier-bert/src/data/datasets/forum/anno_train.json\n",
      "05:20:41 INFO:Importing dataset: prolific from /Users/bockstaller/code/uvl-tore-classifier-bert/src/data/datasets/prolific/TORE_Coded_Answers_1_33.json\n",
      "05:20:41 INFO:Importing dataset: prolific from /Users/bockstaller/code/uvl-tore-classifier-bert/src/data/datasets/prolific/TORE_Coded_Answers_34_66.json\n",
      "05:20:41 INFO:Importing dataset: prolific from /Users/bockstaller/code/uvl-tore-classifier-bert/src/data/datasets/prolific/TORE_Coded_Answers_67_100.json\n",
      "05:20:42 INFO:Importing dataset: komoot from /Users/bockstaller/code/uvl-tore-classifier-bert/src/data/datasets/app/Komoot_AppReview.json\n",
      "05:20:45 INFO:Dataset Labels: transformed_dataset['labels']=['Stakeholder', 'Activity', 'Domain_Data', 'Interaction', 'Interaction_Data', 'System_Function', 'System_Level', 'Task', '0', 'Workspace']\n",
      "05:20:46 INFO:Class weights: {'0': 0.13494545, 'Task': 8.320833, 'Domain_Data': 2.52101, 'Activity': 9.136601, 'Stakeholder': 9.949466, 'System_Function': 3.0622125, 'Interaction': 1.9934403, 'Interaction_Data': 1.877636, 'Workspace': 8.903822, 'System_Level': 2.5661314}\n",
      "05:20:46 INFO:Configured maximal token sequence length: max_len = 123\n",
      "05:20:48 INFO:Created fold datasets for fold: 0, stored at paths=[PosixPath('/Users/bockstaller/code/uvl-tore-classifier-bert/src/data/temp/sampling/smiling-sow-213/0_data_train.pickle'), PosixPath('/Users/bockstaller/code/uvl-tore-classifier-bert/src/data/temp/sampling/smiling-sow-213/0_data_train.csv'), PosixPath('/Users/bockstaller/code/uvl-tore-classifier-bert/src/data/temp/sampling/smiling-sow-213/0_data_test.pickle'), PosixPath('/Users/bockstaller/code/uvl-tore-classifier-bert/src/data/temp/sampling/smiling-sow-213/0_data_test.csv')]\n",
      "05:20:48 INFO:Starting iteration=0\n",
      "05:20:48 INFO:Found existing run with run_id: 4e3a979a1df64714ba2f585eaaacb046 matching the configuration\n",
      "05:20:49 INFO:Downloading run model from mlflow-artifacts:/6/4e3a979a1df64714ba2f585eaaacb046/artifacts/0_model\n"
     ]
    },
    {
     "data": {
      "application/vnd.jupyter.widget-view+json": {
       "model_id": "68ba52a200954392977c1db02992c28a",
       "version_major": 2,
       "version_minor": 0
      },
      "text/plain": [
       "Downloading artifacts:   0%|          | 0/7 [00:00<?, ?it/s]"
      ]
     },
     "metadata": {},
     "output_type": "display_data"
    },
    {
     "data": {
      "application/vnd.jupyter.widget-view+json": {
       "model_id": "277b355d14664ee49938dd5375452ce0",
       "version_major": 2,
       "version_minor": 0
      },
      "text/plain": [
       "Map:   0%|          | 0/2488 [00:00<?, ? examples/s]"
      ]
     },
     "metadata": {},
     "output_type": "display_data"
    },
    {
     "name": "stderr",
     "output_type": "stream",
     "text": [
      "05:21:56 INFO:Loading Model\n",
      "05:22:00 INFO:Creating hint column\n"
     ]
    },
    {
     "data": {
      "application/vnd.jupyter.widget-view+json": {
       "model_id": "64e1e986095b44309ffe2f6128f62a5d",
       "version_major": 2,
       "version_minor": 0
      },
      "text/plain": [
       "Map:   0%|          | 0/2488 [00:00<?, ? examples/s]"
      ]
     },
     "metadata": {},
     "output_type": "display_data"
    },
    {
     "data": {
      "application/vnd.jupyter.widget-view+json": {
       "model_id": "f3a43216fb054ca08cd4039430f8c352",
       "version_major": 2,
       "version_minor": 0
      },
      "text/plain": [
       "Map:   0%|          | 0/622 [00:00<?, ? examples/s]"
      ]
     },
     "metadata": {},
     "output_type": "display_data"
    },
    {
     "name": "stderr",
     "output_type": "stream",
     "text": [
      "05:23:11 INFO:Loading Model\n",
      "05:23:12 INFO:Creating hint column\n"
     ]
    },
    {
     "data": {
      "application/vnd.jupyter.widget-view+json": {
       "model_id": "76398405a46249c5b9bd910f4b451593",
       "version_major": 2,
       "version_minor": 0
      },
      "text/plain": [
       "Map:   0%|          | 0/622 [00:00<?, ? examples/s]"
      ]
     },
     "metadata": {},
     "output_type": "display_data"
    },
    {
     "name": "stdout",
     "output_type": "stream",
     "text": [
      "Test\n",
      "StagedBertForTokenClassification(\n",
      "  (bert): BertModel(\n",
      "    (embeddings): BertEmbeddings(\n",
      "      (word_embeddings): Embedding(30522, 768, padding_idx=0)\n",
      "      (position_embeddings): Embedding(512, 768)\n",
      "      (token_type_embeddings): Embedding(2, 768)\n",
      "      (LayerNorm): LayerNorm((768,), eps=1e-12, elementwise_affine=True)\n",
      "      (dropout): Dropout(p=0.1, inplace=False)\n",
      "    )\n",
      "    (encoder): BertEncoder(\n",
      "      (layer): ModuleList(\n",
      "        (0-11): 12 x BertLayer(\n",
      "          (attention): BertAttention(\n",
      "            (self): BertSelfAttention(\n",
      "              (query): Linear(in_features=768, out_features=768, bias=True)\n",
      "              (key): Linear(in_features=768, out_features=768, bias=True)\n",
      "              (value): Linear(in_features=768, out_features=768, bias=True)\n",
      "              (dropout): Dropout(p=0.1, inplace=False)\n",
      "            )\n",
      "            (output): BertSelfOutput(\n",
      "              (dense): Linear(in_features=768, out_features=768, bias=True)\n",
      "              (LayerNorm): LayerNorm((768,), eps=1e-12, elementwise_affine=True)\n",
      "              (dropout): Dropout(p=0.1, inplace=False)\n",
      "            )\n",
      "          )\n",
      "          (intermediate): BertIntermediate(\n",
      "            (dense): Linear(in_features=768, out_features=3072, bias=True)\n",
      "            (intermediate_act_fn): GELUActivation()\n",
      "          )\n",
      "          (output): BertOutput(\n",
      "            (dense): Linear(in_features=3072, out_features=768, bias=True)\n",
      "            (LayerNorm): LayerNorm((768,), eps=1e-12, elementwise_affine=True)\n",
      "            (dropout): Dropout(p=0.1, inplace=False)\n",
      "          )\n",
      "        )\n",
      "      )\n",
      "    )\n",
      "  )\n",
      "  (dropout): Dropout(p=0.1, inplace=False)\n",
      "  (out_layers): Sequential(\n",
      "    (0): Linear(in_features=772, out_features=10, bias=True)\n",
      "  )\n",
      ")\n"
     ]
    },
    {
     "name": "stderr",
     "output_type": "stream",
     "text": [
      "05:25:14 INFO:Logged iteration result res.precision=0.5537576355695171 res.recall=0.597176839157429\n"
     ]
    },
    {
     "name": "stdout",
     "output_type": "stream",
     "text": [
      "{'eval_loss': 3.518721103668213, 'eval_step': 0, 'eval_precision': 0.5537576355695171, 'eval_recall': 0.597176839157429, 'eval_f1': 0.5746482388533034, 'eval_label_count': 10, 'eval_runtime': 6.2322, 'eval_samples_per_second': 99.804, 'eval_steps_per_second': 1.605, 'epoch': 1.0}\n",
      "{'loss': 1.8977, 'learning_rate': 2.0353697749196142e-05, 'epoch': 1.61}\n"
     ]
    },
    {
     "name": "stderr",
     "output_type": "stream",
     "text": [
      "05:26:55 INFO:Logged iteration result res.precision=0.5878248436780507 res.recall=0.6455119948888264\n"
     ]
    },
    {
     "name": "stdout",
     "output_type": "stream",
     "text": [
      "{'eval_loss': 2.7408523559570312, 'eval_step': 2, 'eval_precision': 0.5878248436780507, 'eval_recall': 0.6455119948888264, 'eval_f1': 0.6153193120035968, 'eval_label_count': 10, 'eval_runtime': 5.6759, 'eval_samples_per_second': 109.585, 'eval_steps_per_second': 1.762, 'epoch': 2.0}\n"
     ]
    },
    {
     "name": "stderr",
     "output_type": "stream",
     "text": [
      "05:28:36 INFO:Logged iteration result res.precision=0.6412934079104801 res.recall=0.64911578066878\n"
     ]
    },
    {
     "name": "stdout",
     "output_type": "stream",
     "text": [
      "{'eval_loss': 2.6973931789398193, 'eval_step': 4, 'eval_precision': 0.6412934079104801, 'eval_recall': 0.64911578066878, 'eval_f1': 0.6451808849437453, 'eval_label_count': 10, 'eval_runtime': 5.6661, 'eval_samples_per_second': 109.776, 'eval_steps_per_second': 1.765, 'epoch': 3.0}\n",
      "{'loss': 0.5199, 'learning_rate': 1.0707395498392284e-05, 'epoch': 3.22}\n"
     ]
    },
    {
     "name": "stderr",
     "output_type": "stream",
     "text": [
      "05:30:17 INFO:Logged iteration result res.precision=0.6347634915231521 res.recall=0.6599242298143716\n"
     ]
    },
    {
     "name": "stdout",
     "output_type": "stream",
     "text": [
      "{'eval_loss': 3.0197012424468994, 'eval_step': 6, 'eval_precision': 0.6347634915231521, 'eval_recall': 0.6599242298143716, 'eval_f1': 0.647099375940543, 'eval_label_count': 10, 'eval_runtime': 5.6635, 'eval_samples_per_second': 109.827, 'eval_steps_per_second': 1.766, 'epoch': 4.0}\n",
      "{'loss': 0.1679, 'learning_rate': 1.0610932475884245e-06, 'epoch': 4.82}\n"
     ]
    },
    {
     "name": "stderr",
     "output_type": "stream",
     "text": [
      "05:31:59 INFO:Logged iteration result res.precision=0.6374656192372076 res.recall=0.665998109125163\n"
     ]
    },
    {
     "name": "stdout",
     "output_type": "stream",
     "text": [
      "{'eval_loss': 2.8969099521636963, 'eval_step': 8, 'eval_precision': 0.6374656192372076, 'eval_recall': 0.665998109125163, 'eval_f1': 0.6514195797034925, 'eval_label_count': 10, 'eval_runtime': 5.7566, 'eval_samples_per_second': 108.051, 'eval_steps_per_second': 1.737, 'epoch': 5.0}\n",
      "{'train_runtime': 508.5831, 'train_samples_per_second': 24.46, 'train_steps_per_second': 3.058, 'train_loss': 0.8346514674244969, 'epoch': 5.0}\n"
     ]
    },
    {
     "name": "stderr",
     "output_type": "stream",
     "text": [
      "05:32:08 INFO:Logged iteration result res.precision=0.6374656192372076 res.recall=0.665998109125163\n",
      "05:32:09 INFO:Logged iteration result res.precision=0.6374656192372076 res.recall=0.665998109125163\n",
      "05:32:09 INFO:Finished iteration=0\n",
      "05:32:09 INFO:Logging model artifact (might take a while)\n",
      "05:34:08 INFO:Created fold datasets for fold: 1, stored at paths=[PosixPath('/Users/bockstaller/code/uvl-tore-classifier-bert/src/data/temp/sampling/smiling-sow-213/1_data_train.pickle'), PosixPath('/Users/bockstaller/code/uvl-tore-classifier-bert/src/data/temp/sampling/smiling-sow-213/1_data_train.csv'), PosixPath('/Users/bockstaller/code/uvl-tore-classifier-bert/src/data/temp/sampling/smiling-sow-213/1_data_test.pickle'), PosixPath('/Users/bockstaller/code/uvl-tore-classifier-bert/src/data/temp/sampling/smiling-sow-213/1_data_test.csv')]\n",
      "05:34:08 INFO:Starting iteration=1\n",
      "05:34:09 INFO:Found existing run with run_id: 4e3a979a1df64714ba2f585eaaacb046 matching the configuration\n",
      "05:34:09 INFO:Downloading run model from mlflow-artifacts:/6/4e3a979a1df64714ba2f585eaaacb046/artifacts/1_model\n"
     ]
    },
    {
     "data": {
      "application/vnd.jupyter.widget-view+json": {
       "model_id": "9b17ae9a62fd494795fff978bdf44b74",
       "version_major": 2,
       "version_minor": 0
      },
      "text/plain": [
       "Downloading artifacts:   0%|          | 0/7 [00:00<?, ?it/s]"
      ]
     },
     "metadata": {},
     "output_type": "display_data"
    },
    {
     "data": {
      "application/vnd.jupyter.widget-view+json": {
       "model_id": "36bb4bec428840f8b0a900a563fc8b50",
       "version_major": 2,
       "version_minor": 0
      },
      "text/plain": [
       "Map:   0%|          | 0/2488 [00:00<?, ? examples/s]"
      ]
     },
     "metadata": {},
     "output_type": "display_data"
    },
    {
     "name": "stderr",
     "output_type": "stream",
     "text": [
      "05:35:19 INFO:Loading Model\n",
      "05:35:20 INFO:Creating hint column\n"
     ]
    },
    {
     "data": {
      "application/vnd.jupyter.widget-view+json": {
       "model_id": "bc8dad649cd54f18b39b0a0f6d5030f2",
       "version_major": 2,
       "version_minor": 0
      },
      "text/plain": [
       "Map:   0%|          | 0/2488 [00:00<?, ? examples/s]"
      ]
     },
     "metadata": {},
     "output_type": "display_data"
    },
    {
     "data": {
      "application/vnd.jupyter.widget-view+json": {
       "model_id": "a64dc6957fd443b2813b72b357ea1a66",
       "version_major": 2,
       "version_minor": 0
      },
      "text/plain": [
       "Map:   0%|          | 0/622 [00:00<?, ? examples/s]"
      ]
     },
     "metadata": {},
     "output_type": "display_data"
    },
    {
     "name": "stderr",
     "output_type": "stream",
     "text": [
      "05:36:31 INFO:Loading Model\n",
      "05:36:32 INFO:Creating hint column\n"
     ]
    },
    {
     "data": {
      "application/vnd.jupyter.widget-view+json": {
       "model_id": "985cbeefa2974db3bc017dbe168058ae",
       "version_major": 2,
       "version_minor": 0
      },
      "text/plain": [
       "Map:   0%|          | 0/622 [00:00<?, ? examples/s]"
      ]
     },
     "metadata": {},
     "output_type": "display_data"
    },
    {
     "name": "stdout",
     "output_type": "stream",
     "text": [
      "Test\n",
      "StagedBertForTokenClassification(\n",
      "  (bert): BertModel(\n",
      "    (embeddings): BertEmbeddings(\n",
      "      (word_embeddings): Embedding(30522, 768, padding_idx=0)\n",
      "      (position_embeddings): Embedding(512, 768)\n",
      "      (token_type_embeddings): Embedding(2, 768)\n",
      "      (LayerNorm): LayerNorm((768,), eps=1e-12, elementwise_affine=True)\n",
      "      (dropout): Dropout(p=0.1, inplace=False)\n",
      "    )\n",
      "    (encoder): BertEncoder(\n",
      "      (layer): ModuleList(\n",
      "        (0-11): 12 x BertLayer(\n",
      "          (attention): BertAttention(\n",
      "            (self): BertSelfAttention(\n",
      "              (query): Linear(in_features=768, out_features=768, bias=True)\n",
      "              (key): Linear(in_features=768, out_features=768, bias=True)\n",
      "              (value): Linear(in_features=768, out_features=768, bias=True)\n",
      "              (dropout): Dropout(p=0.1, inplace=False)\n",
      "            )\n",
      "            (output): BertSelfOutput(\n",
      "              (dense): Linear(in_features=768, out_features=768, bias=True)\n",
      "              (LayerNorm): LayerNorm((768,), eps=1e-12, elementwise_affine=True)\n",
      "              (dropout): Dropout(p=0.1, inplace=False)\n",
      "            )\n",
      "          )\n",
      "          (intermediate): BertIntermediate(\n",
      "            (dense): Linear(in_features=768, out_features=3072, bias=True)\n",
      "            (intermediate_act_fn): GELUActivation()\n",
      "          )\n",
      "          (output): BertOutput(\n",
      "            (dense): Linear(in_features=3072, out_features=768, bias=True)\n",
      "            (LayerNorm): LayerNorm((768,), eps=1e-12, elementwise_affine=True)\n",
      "            (dropout): Dropout(p=0.1, inplace=False)\n",
      "          )\n",
      "        )\n",
      "      )\n",
      "    )\n",
      "  )\n",
      "  (dropout): Dropout(p=0.1, inplace=False)\n",
      "  (out_layers): Sequential(\n",
      "    (0): Linear(in_features=772, out_features=10, bias=True)\n",
      "  )\n",
      ")\n"
     ]
    },
    {
     "name": "stderr",
     "output_type": "stream",
     "text": [
      "05:38:32 INFO:Logged iteration result res.precision=0.6065560598726486 res.recall=0.6385482068516037\n"
     ]
    },
    {
     "name": "stdout",
     "output_type": "stream",
     "text": [
      "{'eval_loss': 2.8735973834991455, 'eval_step': 0, 'eval_precision': 0.6065560598726486, 'eval_recall': 0.6385482068516037, 'eval_f1': 0.62214112462347, 'eval_label_count': 10, 'eval_runtime': 6.9024, 'eval_samples_per_second': 90.113, 'eval_steps_per_second': 1.449, 'epoch': 1.0}\n",
      "{'loss': 1.5664, 'learning_rate': 2.0353697749196142e-05, 'epoch': 1.61}\n"
     ]
    },
    {
     "name": "stderr",
     "output_type": "stream",
     "text": [
      "05:40:14 INFO:Logged iteration result res.precision=0.6490900744837097 res.recall=0.6558352733633714\n"
     ]
    },
    {
     "name": "stdout",
     "output_type": "stream",
     "text": [
      "{'eval_loss': 2.7607948780059814, 'eval_step': 2, 'eval_precision': 0.6490900744837097, 'eval_recall': 0.6558352733633714, 'eval_f1': 0.6524452408542845, 'eval_label_count': 10, 'eval_runtime': 6.715, 'eval_samples_per_second': 92.629, 'eval_steps_per_second': 1.489, 'epoch': 2.0}\n"
     ]
    },
    {
     "name": "stderr",
     "output_type": "stream",
     "text": [
      "05:41:56 INFO:Logged iteration result res.precision=0.6346956065603626 res.recall=0.67039189448765\n"
     ]
    },
    {
     "name": "stdout",
     "output_type": "stream",
     "text": [
      "{'eval_loss': 2.5067126750946045, 'eval_step': 4, 'eval_precision': 0.6346956065603626, 'eval_recall': 0.67039189448765, 'eval_f1': 0.6520555744550589, 'eval_label_count': 10, 'eval_runtime': 5.896, 'eval_samples_per_second': 105.495, 'eval_steps_per_second': 1.696, 'epoch': 3.0}\n",
      "{'loss': 0.4986, 'learning_rate': 1.0707395498392284e-05, 'epoch': 3.22}\n"
     ]
    },
    {
     "name": "stderr",
     "output_type": "stream",
     "text": [
      "05:43:37 INFO:Logged iteration result res.precision=0.6547356867051328 res.recall=0.6538805002496524\n"
     ]
    },
    {
     "name": "stdout",
     "output_type": "stream",
     "text": [
      "{'eval_loss': 3.1555283069610596, 'eval_step': 6, 'eval_precision': 0.6547356867051328, 'eval_recall': 0.6538805002496524, 'eval_f1': 0.6543078140433305, 'eval_label_count': 10, 'eval_runtime': 5.5405, 'eval_samples_per_second': 112.265, 'eval_steps_per_second': 1.805, 'epoch': 4.0}\n",
      "{'loss': 0.1444, 'learning_rate': 1.0610932475884245e-06, 'epoch': 4.82}\n"
     ]
    },
    {
     "name": "stderr",
     "output_type": "stream",
     "text": [
      "05:45:18 INFO:Logged iteration result res.precision=0.6593679780347639 res.recall=0.6641998085699841\n"
     ]
    },
    {
     "name": "stdout",
     "output_type": "stream",
     "text": [
      "{'eval_loss': 3.1702449321746826, 'eval_step': 8, 'eval_precision': 0.6593679780347639, 'eval_recall': 0.6641998085699841, 'eval_f1': 0.6617750737365923, 'eval_label_count': 10, 'eval_runtime': 5.9752, 'eval_samples_per_second': 104.097, 'eval_steps_per_second': 1.674, 'epoch': 5.0}\n",
      "{'train_runtime': 509.6987, 'train_samples_per_second': 24.407, 'train_steps_per_second': 3.051, 'train_loss': 0.7138634460915323, 'epoch': 5.0}\n"
     ]
    },
    {
     "name": "stderr",
     "output_type": "stream",
     "text": [
      "05:45:27 INFO:Logged iteration result res.precision=0.6593679780347639 res.recall=0.6641998085699841\n",
      "05:45:29 INFO:Logged iteration result res.precision=0.6593679780347639 res.recall=0.6641998085699841\n",
      "05:45:29 INFO:Finished iteration=1\n",
      "05:45:29 INFO:Logging model artifact (might take a while)\n",
      "05:47:32 INFO:Created fold datasets for fold: 2, stored at paths=[PosixPath('/Users/bockstaller/code/uvl-tore-classifier-bert/src/data/temp/sampling/smiling-sow-213/2_data_train.pickle'), PosixPath('/Users/bockstaller/code/uvl-tore-classifier-bert/src/data/temp/sampling/smiling-sow-213/2_data_train.csv'), PosixPath('/Users/bockstaller/code/uvl-tore-classifier-bert/src/data/temp/sampling/smiling-sow-213/2_data_test.pickle'), PosixPath('/Users/bockstaller/code/uvl-tore-classifier-bert/src/data/temp/sampling/smiling-sow-213/2_data_test.csv')]\n",
      "05:47:32 INFO:Starting iteration=2\n",
      "05:47:32 INFO:Found existing run with run_id: 4e3a979a1df64714ba2f585eaaacb046 matching the configuration\n",
      "05:47:33 INFO:Downloading run model from mlflow-artifacts:/6/4e3a979a1df64714ba2f585eaaacb046/artifacts/2_model\n"
     ]
    },
    {
     "data": {
      "application/vnd.jupyter.widget-view+json": {
       "model_id": "25f93982e9534641b0194dda61303203",
       "version_major": 2,
       "version_minor": 0
      },
      "text/plain": [
       "Downloading artifacts:   0%|          | 0/7 [00:00<?, ?it/s]"
      ]
     },
     "metadata": {},
     "output_type": "display_data"
    },
    {
     "data": {
      "application/vnd.jupyter.widget-view+json": {
       "model_id": "309f2c2837e74576a92b3509c6928d57",
       "version_major": 2,
       "version_minor": 0
      },
      "text/plain": [
       "Map:   0%|          | 0/2488 [00:00<?, ? examples/s]"
      ]
     },
     "metadata": {},
     "output_type": "display_data"
    },
    {
     "name": "stderr",
     "output_type": "stream",
     "text": [
      "05:48:56 INFO:Loading Model\n",
      "05:48:56 INFO:Creating hint column\n"
     ]
    },
    {
     "data": {
      "application/vnd.jupyter.widget-view+json": {
       "model_id": "1437b007d2444bbc86d8bda6f4ee882a",
       "version_major": 2,
       "version_minor": 0
      },
      "text/plain": [
       "Map:   0%|          | 0/2488 [00:00<?, ? examples/s]"
      ]
     },
     "metadata": {},
     "output_type": "display_data"
    },
    {
     "data": {
      "application/vnd.jupyter.widget-view+json": {
       "model_id": "5f539b02d539411eaeff71badb264921",
       "version_major": 2,
       "version_minor": 0
      },
      "text/plain": [
       "Map:   0%|          | 0/622 [00:00<?, ? examples/s]"
      ]
     },
     "metadata": {},
     "output_type": "display_data"
    },
    {
     "name": "stderr",
     "output_type": "stream",
     "text": [
      "05:50:03 INFO:Loading Model\n",
      "05:50:04 INFO:Creating hint column\n"
     ]
    },
    {
     "data": {
      "application/vnd.jupyter.widget-view+json": {
       "model_id": "3892049bcd7943c9ad0b93186796879c",
       "version_major": 2,
       "version_minor": 0
      },
      "text/plain": [
       "Map:   0%|          | 0/622 [00:00<?, ? examples/s]"
      ]
     },
     "metadata": {},
     "output_type": "display_data"
    },
    {
     "name": "stdout",
     "output_type": "stream",
     "text": [
      "Test\n",
      "StagedBertForTokenClassification(\n",
      "  (bert): BertModel(\n",
      "    (embeddings): BertEmbeddings(\n",
      "      (word_embeddings): Embedding(30522, 768, padding_idx=0)\n",
      "      (position_embeddings): Embedding(512, 768)\n",
      "      (token_type_embeddings): Embedding(2, 768)\n",
      "      (LayerNorm): LayerNorm((768,), eps=1e-12, elementwise_affine=True)\n",
      "      (dropout): Dropout(p=0.1, inplace=False)\n",
      "    )\n",
      "    (encoder): BertEncoder(\n",
      "      (layer): ModuleList(\n",
      "        (0-11): 12 x BertLayer(\n",
      "          (attention): BertAttention(\n",
      "            (self): BertSelfAttention(\n",
      "              (query): Linear(in_features=768, out_features=768, bias=True)\n",
      "              (key): Linear(in_features=768, out_features=768, bias=True)\n",
      "              (value): Linear(in_features=768, out_features=768, bias=True)\n",
      "              (dropout): Dropout(p=0.1, inplace=False)\n",
      "            )\n",
      "            (output): BertSelfOutput(\n",
      "              (dense): Linear(in_features=768, out_features=768, bias=True)\n",
      "              (LayerNorm): LayerNorm((768,), eps=1e-12, elementwise_affine=True)\n",
      "              (dropout): Dropout(p=0.1, inplace=False)\n",
      "            )\n",
      "          )\n",
      "          (intermediate): BertIntermediate(\n",
      "            (dense): Linear(in_features=768, out_features=3072, bias=True)\n",
      "            (intermediate_act_fn): GELUActivation()\n",
      "          )\n",
      "          (output): BertOutput(\n",
      "            (dense): Linear(in_features=3072, out_features=768, bias=True)\n",
      "            (LayerNorm): LayerNorm((768,), eps=1e-12, elementwise_affine=True)\n",
      "            (dropout): Dropout(p=0.1, inplace=False)\n",
      "          )\n",
      "        )\n",
      "      )\n",
      "    )\n",
      "  )\n",
      "  (dropout): Dropout(p=0.1, inplace=False)\n",
      "  (out_layers): Sequential(\n",
      "    (0): Linear(in_features=772, out_features=10, bias=True)\n",
      "  )\n",
      ")\n"
     ]
    },
    {
     "name": "stderr",
     "output_type": "stream",
     "text": [
      "05:52:01 INFO:Logged iteration result res.precision=0.5703894029126935 res.recall=0.5841611297197237\n"
     ]
    },
    {
     "name": "stdout",
     "output_type": "stream",
     "text": [
      "{'eval_loss': 2.7166779041290283, 'eval_step': 0, 'eval_precision': 0.5703894029126935, 'eval_recall': 0.5841611297197237, 'eval_f1': 0.5771931302581119, 'eval_label_count': 10, 'eval_runtime': 5.6861, 'eval_samples_per_second': 109.39, 'eval_steps_per_second': 1.759, 'epoch': 1.0}\n",
      "{'loss': 1.5748, 'learning_rate': 2.0353697749196142e-05, 'epoch': 1.61}\n"
     ]
    },
    {
     "name": "stderr",
     "output_type": "stream",
     "text": [
      "05:53:43 INFO:Logged iteration result res.precision=0.6473269363907235 res.recall=0.5977520124113613\n"
     ]
    },
    {
     "name": "stdout",
     "output_type": "stream",
     "text": [
      "{'eval_loss': 3.0596163272857666, 'eval_step': 2, 'eval_precision': 0.6473269363907235, 'eval_recall': 0.5977520124113613, 'eval_f1': 0.6215525196822577, 'eval_label_count': 10, 'eval_runtime': 6.0632, 'eval_samples_per_second': 102.586, 'eval_steps_per_second': 1.649, 'epoch': 2.0}\n"
     ]
    },
    {
     "name": "stderr",
     "output_type": "stream",
     "text": [
      "05:55:23 INFO:Logged iteration result res.precision=0.6707798036832778 res.recall=0.6183135818440043\n"
     ]
    },
    {
     "name": "stdout",
     "output_type": "stream",
     "text": [
      "{'eval_loss': 3.1988484859466553, 'eval_step': 4, 'eval_precision': 0.6707798036832778, 'eval_recall': 0.6183135818440043, 'eval_f1': 0.643479002685873, 'eval_label_count': 10, 'eval_runtime': 6.014, 'eval_samples_per_second': 103.426, 'eval_steps_per_second': 1.663, 'epoch': 3.0}\n",
      "{'loss': 0.4792, 'learning_rate': 1.0707395498392284e-05, 'epoch': 3.22}\n"
     ]
    },
    {
     "name": "stderr",
     "output_type": "stream",
     "text": [
      "05:57:04 INFO:Logged iteration result res.precision=0.6511527890050375 res.recall=0.6314178061517894\n"
     ]
    },
    {
     "name": "stdout",
     "output_type": "stream",
     "text": [
      "{'eval_loss': 3.3399670124053955, 'eval_step': 6, 'eval_precision': 0.6511527890050375, 'eval_recall': 0.6314178061517894, 'eval_f1': 0.6411334659561665, 'eval_label_count': 10, 'eval_runtime': 5.606, 'eval_samples_per_second': 110.953, 'eval_steps_per_second': 1.784, 'epoch': 4.0}\n",
      "{'loss': 0.15, 'learning_rate': 1.0610932475884245e-06, 'epoch': 4.82}\n"
     ]
    },
    {
     "name": "stderr",
     "output_type": "stream",
     "text": [
      "05:58:45 INFO:Logged iteration result res.precision=0.6544721603109629 res.recall=0.6375691977230369\n"
     ]
    },
    {
     "name": "stdout",
     "output_type": "stream",
     "text": [
      "{'eval_loss': 3.424325466156006, 'eval_step': 8, 'eval_precision': 0.6544721603109629, 'eval_recall': 0.6375691977230369, 'eval_f1': 0.6459101136150209, 'eval_label_count': 10, 'eval_runtime': 5.4426, 'eval_samples_per_second': 114.283, 'eval_steps_per_second': 1.837, 'epoch': 5.0}\n",
      "{'train_runtime': 504.3645, 'train_samples_per_second': 24.665, 'train_steps_per_second': 3.083, 'train_loss': 0.7111413642907832, 'epoch': 5.0}\n"
     ]
    },
    {
     "name": "stderr",
     "output_type": "stream",
     "text": [
      "05:58:54 INFO:Logged iteration result res.precision=0.6544721603109629 res.recall=0.6375691977230369\n",
      "05:58:56 INFO:Logged iteration result res.precision=0.6544721603109629 res.recall=0.6375691977230369\n",
      "05:58:56 INFO:Finished iteration=2\n",
      "05:58:56 INFO:Logging model artifact (might take a while)\n",
      "06:00:54 INFO:Created fold datasets for fold: 3, stored at paths=[PosixPath('/Users/bockstaller/code/uvl-tore-classifier-bert/src/data/temp/sampling/smiling-sow-213/3_data_train.pickle'), PosixPath('/Users/bockstaller/code/uvl-tore-classifier-bert/src/data/temp/sampling/smiling-sow-213/3_data_train.csv'), PosixPath('/Users/bockstaller/code/uvl-tore-classifier-bert/src/data/temp/sampling/smiling-sow-213/3_data_test.pickle'), PosixPath('/Users/bockstaller/code/uvl-tore-classifier-bert/src/data/temp/sampling/smiling-sow-213/3_data_test.csv')]\n",
      "06:00:54 INFO:Starting iteration=3\n",
      "06:00:54 INFO:Found existing run with run_id: 4e3a979a1df64714ba2f585eaaacb046 matching the configuration\n",
      "06:00:54 INFO:Downloading run model from mlflow-artifacts:/6/4e3a979a1df64714ba2f585eaaacb046/artifacts/3_model\n"
     ]
    },
    {
     "data": {
      "application/vnd.jupyter.widget-view+json": {
       "model_id": "daed8246d1a3453f85b52afe7f66afe9",
       "version_major": 2,
       "version_minor": 0
      },
      "text/plain": [
       "Downloading artifacts:   0%|          | 0/7 [00:00<?, ?it/s]"
      ]
     },
     "metadata": {},
     "output_type": "display_data"
    },
    {
     "data": {
      "application/vnd.jupyter.widget-view+json": {
       "model_id": "1ad0ce92faff434594f867e62670dcd1",
       "version_major": 2,
       "version_minor": 0
      },
      "text/plain": [
       "Map:   0%|          | 0/2488 [00:00<?, ? examples/s]"
      ]
     },
     "metadata": {},
     "output_type": "display_data"
    },
    {
     "name": "stderr",
     "output_type": "stream",
     "text": [
      "06:02:15 INFO:Loading Model\n",
      "06:02:16 INFO:Creating hint column\n"
     ]
    },
    {
     "data": {
      "application/vnd.jupyter.widget-view+json": {
       "model_id": "770a46878bf144aba04547566c20ff96",
       "version_major": 2,
       "version_minor": 0
      },
      "text/plain": [
       "Map:   0%|          | 0/2488 [00:00<?, ? examples/s]"
      ]
     },
     "metadata": {},
     "output_type": "display_data"
    },
    {
     "data": {
      "application/vnd.jupyter.widget-view+json": {
       "model_id": "2a2e8bb9fe9044e9be6070ac55d30bfe",
       "version_major": 2,
       "version_minor": 0
      },
      "text/plain": [
       "Map:   0%|          | 0/622 [00:00<?, ? examples/s]"
      ]
     },
     "metadata": {},
     "output_type": "display_data"
    },
    {
     "name": "stderr",
     "output_type": "stream",
     "text": [
      "06:03:26 INFO:Loading Model\n",
      "06:03:26 INFO:Creating hint column\n"
     ]
    },
    {
     "data": {
      "application/vnd.jupyter.widget-view+json": {
       "model_id": "104fc718298f447b97f146884a0e5f58",
       "version_major": 2,
       "version_minor": 0
      },
      "text/plain": [
       "Map:   0%|          | 0/622 [00:00<?, ? examples/s]"
      ]
     },
     "metadata": {},
     "output_type": "display_data"
    },
    {
     "name": "stdout",
     "output_type": "stream",
     "text": [
      "Test\n",
      "StagedBertForTokenClassification(\n",
      "  (bert): BertModel(\n",
      "    (embeddings): BertEmbeddings(\n",
      "      (word_embeddings): Embedding(30522, 768, padding_idx=0)\n",
      "      (position_embeddings): Embedding(512, 768)\n",
      "      (token_type_embeddings): Embedding(2, 768)\n",
      "      (LayerNorm): LayerNorm((768,), eps=1e-12, elementwise_affine=True)\n",
      "      (dropout): Dropout(p=0.1, inplace=False)\n",
      "    )\n",
      "    (encoder): BertEncoder(\n",
      "      (layer): ModuleList(\n",
      "        (0-11): 12 x BertLayer(\n",
      "          (attention): BertAttention(\n",
      "            (self): BertSelfAttention(\n",
      "              (query): Linear(in_features=768, out_features=768, bias=True)\n",
      "              (key): Linear(in_features=768, out_features=768, bias=True)\n",
      "              (value): Linear(in_features=768, out_features=768, bias=True)\n",
      "              (dropout): Dropout(p=0.1, inplace=False)\n",
      "            )\n",
      "            (output): BertSelfOutput(\n",
      "              (dense): Linear(in_features=768, out_features=768, bias=True)\n",
      "              (LayerNorm): LayerNorm((768,), eps=1e-12, elementwise_affine=True)\n",
      "              (dropout): Dropout(p=0.1, inplace=False)\n",
      "            )\n",
      "          )\n",
      "          (intermediate): BertIntermediate(\n",
      "            (dense): Linear(in_features=768, out_features=3072, bias=True)\n",
      "            (intermediate_act_fn): GELUActivation()\n",
      "          )\n",
      "          (output): BertOutput(\n",
      "            (dense): Linear(in_features=3072, out_features=768, bias=True)\n",
      "            (LayerNorm): LayerNorm((768,), eps=1e-12, elementwise_affine=True)\n",
      "            (dropout): Dropout(p=0.1, inplace=False)\n",
      "          )\n",
      "        )\n",
      "      )\n",
      "    )\n",
      "  )\n",
      "  (dropout): Dropout(p=0.1, inplace=False)\n",
      "  (out_layers): Sequential(\n",
      "    (0): Linear(in_features=772, out_features=10, bias=True)\n",
      "  )\n",
      ")\n"
     ]
    },
    {
     "name": "stderr",
     "output_type": "stream",
     "text": [
      "06:05:24 INFO:Logged iteration result res.precision=0.5485257921105768 res.recall=0.5870584665344409\n"
     ]
    },
    {
     "name": "stdout",
     "output_type": "stream",
     "text": [
      "{'eval_loss': 2.696674108505249, 'eval_step': 0, 'eval_precision': 0.5485257921105768, 'eval_recall': 0.5870584665344409, 'eval_f1': 0.5671383834701197, 'eval_label_count': 10, 'eval_runtime': 5.636, 'eval_samples_per_second': 110.363, 'eval_steps_per_second': 1.774, 'epoch': 1.0}\n",
      "{'loss': 1.6702, 'learning_rate': 2.0353697749196142e-05, 'epoch': 1.61}\n"
     ]
    },
    {
     "name": "stderr",
     "output_type": "stream",
     "text": [
      "06:07:05 INFO:Logged iteration result res.precision=0.6484350352179897 res.recall=0.6025216074773744\n"
     ]
    },
    {
     "name": "stdout",
     "output_type": "stream",
     "text": [
      "{'eval_loss': 2.7202858924865723, 'eval_step': 2, 'eval_precision': 0.6484350352179897, 'eval_recall': 0.6025216074773744, 'eval_f1': 0.6246357490414387, 'eval_label_count': 10, 'eval_runtime': 5.408, 'eval_samples_per_second': 115.015, 'eval_steps_per_second': 1.849, 'epoch': 2.0}\n"
     ]
    },
    {
     "name": "stderr",
     "output_type": "stream",
     "text": [
      "06:08:46 INFO:Logged iteration result res.precision=0.6405511526705142 res.recall=0.6375891307855804\n"
     ]
    },
    {
     "name": "stdout",
     "output_type": "stream",
     "text": [
      "{'eval_loss': 2.7077620029449463, 'eval_step': 4, 'eval_precision': 0.6405511526705142, 'eval_recall': 0.6375891307855804, 'eval_f1': 0.6390667095642385, 'eval_label_count': 10, 'eval_runtime': 6.0265, 'eval_samples_per_second': 103.211, 'eval_steps_per_second': 1.659, 'epoch': 3.0}\n",
      "{'loss': 0.4605, 'learning_rate': 1.0707395498392284e-05, 'epoch': 3.22}\n"
     ]
    },
    {
     "name": "stderr",
     "output_type": "stream",
     "text": [
      "06:10:27 INFO:Logged iteration result res.precision=0.6515481510999573 res.recall=0.6414567040565553\n"
     ]
    },
    {
     "name": "stdout",
     "output_type": "stream",
     "text": [
      "{'eval_loss': 3.0924644470214844, 'eval_step': 6, 'eval_precision': 0.6515481510999573, 'eval_recall': 0.6414567040565553, 'eval_f1': 0.646463047485048, 'eval_label_count': 10, 'eval_runtime': 5.5473, 'eval_samples_per_second': 112.126, 'eval_steps_per_second': 1.803, 'epoch': 4.0}\n",
      "{'loss': 0.1638, 'learning_rate': 1.0610932475884245e-06, 'epoch': 4.82}\n"
     ]
    },
    {
     "name": "stderr",
     "output_type": "stream",
     "text": [
      "06:12:08 INFO:Logged iteration result res.precision=0.6429978032258015 res.recall=0.6515439576443459\n"
     ]
    },
    {
     "name": "stdout",
     "output_type": "stream",
     "text": [
      "{'eval_loss': 3.012558937072754, 'eval_step': 8, 'eval_precision': 0.6429978032258015, 'eval_recall': 0.6515439576443459, 'eval_f1': 0.6472426709336294, 'eval_label_count': 10, 'eval_runtime': 5.7051, 'eval_samples_per_second': 109.025, 'eval_steps_per_second': 1.753, 'epoch': 5.0}\n",
      "{'train_runtime': 504.7679, 'train_samples_per_second': 24.645, 'train_steps_per_second': 3.081, 'train_loss': 0.7405550131843788, 'epoch': 5.0}\n"
     ]
    },
    {
     "name": "stderr",
     "output_type": "stream",
     "text": [
      "06:12:17 INFO:Logged iteration result res.precision=0.6429978032258015 res.recall=0.6515439576443459\n",
      "06:12:19 INFO:Logged iteration result res.precision=0.6429978032258015 res.recall=0.6515439576443459\n",
      "06:12:19 INFO:Finished iteration=3\n",
      "06:12:19 INFO:Logging model artifact (might take a while)\n",
      "06:14:17 INFO:Created fold datasets for fold: 4, stored at paths=[PosixPath('/Users/bockstaller/code/uvl-tore-classifier-bert/src/data/temp/sampling/smiling-sow-213/4_data_train.pickle'), PosixPath('/Users/bockstaller/code/uvl-tore-classifier-bert/src/data/temp/sampling/smiling-sow-213/4_data_train.csv'), PosixPath('/Users/bockstaller/code/uvl-tore-classifier-bert/src/data/temp/sampling/smiling-sow-213/4_data_test.pickle'), PosixPath('/Users/bockstaller/code/uvl-tore-classifier-bert/src/data/temp/sampling/smiling-sow-213/4_data_test.csv')]\n",
      "06:14:17 INFO:Starting iteration=4\n",
      "06:14:18 INFO:Found existing run with run_id: 4e3a979a1df64714ba2f585eaaacb046 matching the configuration\n",
      "06:14:18 INFO:Downloading run model from mlflow-artifacts:/6/4e3a979a1df64714ba2f585eaaacb046/artifacts/4_model\n"
     ]
    },
    {
     "data": {
      "application/vnd.jupyter.widget-view+json": {
       "model_id": "9c854af938f5485583df6a78cb7bc04b",
       "version_major": 2,
       "version_minor": 0
      },
      "text/plain": [
       "Downloading artifacts:   0%|          | 0/7 [00:00<?, ?it/s]"
      ]
     },
     "metadata": {},
     "output_type": "display_data"
    },
    {
     "data": {
      "application/vnd.jupyter.widget-view+json": {
       "model_id": "9e8adfa178f240dbbb214412900b30ed",
       "version_major": 2,
       "version_minor": 0
      },
      "text/plain": [
       "Map:   0%|          | 0/2488 [00:00<?, ? examples/s]"
      ]
     },
     "metadata": {},
     "output_type": "display_data"
    },
    {
     "name": "stderr",
     "output_type": "stream",
     "text": [
      "06:15:35 INFO:Loading Model\n",
      "06:15:36 INFO:Creating hint column\n"
     ]
    },
    {
     "data": {
      "application/vnd.jupyter.widget-view+json": {
       "model_id": "5e65ad87b77545ddab052a70cc8f4a5c",
       "version_major": 2,
       "version_minor": 0
      },
      "text/plain": [
       "Map:   0%|          | 0/2488 [00:00<?, ? examples/s]"
      ]
     },
     "metadata": {},
     "output_type": "display_data"
    },
    {
     "data": {
      "application/vnd.jupyter.widget-view+json": {
       "model_id": "efb097e929dd4db8bc74249d13d6fcc9",
       "version_major": 2,
       "version_minor": 0
      },
      "text/plain": [
       "Map:   0%|          | 0/622 [00:00<?, ? examples/s]"
      ]
     },
     "metadata": {},
     "output_type": "display_data"
    },
    {
     "name": "stderr",
     "output_type": "stream",
     "text": [
      "06:16:48 INFO:Loading Model\n",
      "06:16:49 INFO:Creating hint column\n"
     ]
    },
    {
     "data": {
      "application/vnd.jupyter.widget-view+json": {
       "model_id": "937572d42fa24b9ebeec21d5c904e573",
       "version_major": 2,
       "version_minor": 0
      },
      "text/plain": [
       "Map:   0%|          | 0/622 [00:00<?, ? examples/s]"
      ]
     },
     "metadata": {},
     "output_type": "display_data"
    },
    {
     "name": "stdout",
     "output_type": "stream",
     "text": [
      "Test\n",
      "StagedBertForTokenClassification(\n",
      "  (bert): BertModel(\n",
      "    (embeddings): BertEmbeddings(\n",
      "      (word_embeddings): Embedding(30522, 768, padding_idx=0)\n",
      "      (position_embeddings): Embedding(512, 768)\n",
      "      (token_type_embeddings): Embedding(2, 768)\n",
      "      (LayerNorm): LayerNorm((768,), eps=1e-12, elementwise_affine=True)\n",
      "      (dropout): Dropout(p=0.1, inplace=False)\n",
      "    )\n",
      "    (encoder): BertEncoder(\n",
      "      (layer): ModuleList(\n",
      "        (0-11): 12 x BertLayer(\n",
      "          (attention): BertAttention(\n",
      "            (self): BertSelfAttention(\n",
      "              (query): Linear(in_features=768, out_features=768, bias=True)\n",
      "              (key): Linear(in_features=768, out_features=768, bias=True)\n",
      "              (value): Linear(in_features=768, out_features=768, bias=True)\n",
      "              (dropout): Dropout(p=0.1, inplace=False)\n",
      "            )\n",
      "            (output): BertSelfOutput(\n",
      "              (dense): Linear(in_features=768, out_features=768, bias=True)\n",
      "              (LayerNorm): LayerNorm((768,), eps=1e-12, elementwise_affine=True)\n",
      "              (dropout): Dropout(p=0.1, inplace=False)\n",
      "            )\n",
      "          )\n",
      "          (intermediate): BertIntermediate(\n",
      "            (dense): Linear(in_features=768, out_features=3072, bias=True)\n",
      "            (intermediate_act_fn): GELUActivation()\n",
      "          )\n",
      "          (output): BertOutput(\n",
      "            (dense): Linear(in_features=3072, out_features=768, bias=True)\n",
      "            (LayerNorm): LayerNorm((768,), eps=1e-12, elementwise_affine=True)\n",
      "            (dropout): Dropout(p=0.1, inplace=False)\n",
      "          )\n",
      "        )\n",
      "      )\n",
      "    )\n",
      "  )\n",
      "  (dropout): Dropout(p=0.1, inplace=False)\n",
      "  (out_layers): Sequential(\n",
      "    (0): Linear(in_features=772, out_features=10, bias=True)\n",
      "  )\n",
      ")\n"
     ]
    },
    {
     "name": "stderr",
     "output_type": "stream",
     "text": [
      "06:18:48 INFO:Logged iteration result res.precision=0.5583935190350708 res.recall=0.5473486852717552\n"
     ]
    },
    {
     "name": "stdout",
     "output_type": "stream",
     "text": [
      "{'eval_loss': 3.6281075477600098, 'eval_step': 0, 'eval_precision': 0.5583935190350708, 'eval_recall': 0.5473486852717552, 'eval_f1': 0.5528159408543398, 'eval_label_count': 10, 'eval_runtime': 6.6826, 'eval_samples_per_second': 93.077, 'eval_steps_per_second': 1.496, 'epoch': 1.0}\n",
      "{'loss': 1.6154, 'learning_rate': 2.0353697749196142e-05, 'epoch': 1.61}\n"
     ]
    },
    {
     "name": "stderr",
     "output_type": "stream",
     "text": [
      "06:20:29 INFO:Logged iteration result res.precision=0.5816920141206713 res.recall=0.5881790969894511\n"
     ]
    },
    {
     "name": "stdout",
     "output_type": "stream",
     "text": [
      "{'eval_loss': 3.3005242347717285, 'eval_step': 2, 'eval_precision': 0.5816920141206713, 'eval_recall': 0.5881790969894511, 'eval_f1': 0.5849175697086945, 'eval_label_count': 10, 'eval_runtime': 5.6346, 'eval_samples_per_second': 110.389, 'eval_steps_per_second': 1.775, 'epoch': 2.0}\n"
     ]
    },
    {
     "name": "stderr",
     "output_type": "stream",
     "text": [
      "06:22:11 INFO:Logged iteration result res.precision=0.5869947938068851 res.recall=0.5980917051568735\n"
     ]
    },
    {
     "name": "stdout",
     "output_type": "stream",
     "text": [
      "{'eval_loss': 3.236570119857788, 'eval_step': 4, 'eval_precision': 0.5869947938068851, 'eval_recall': 0.5980917051568735, 'eval_f1': 0.592491294860163, 'eval_label_count': 10, 'eval_runtime': 5.9091, 'eval_samples_per_second': 105.261, 'eval_steps_per_second': 1.692, 'epoch': 3.0}\n",
      "{'loss': 0.5102, 'learning_rate': 1.0707395498392284e-05, 'epoch': 3.22}\n"
     ]
    },
    {
     "name": "stderr",
     "output_type": "stream",
     "text": [
      "06:23:55 INFO:Logged iteration result res.precision=0.5997435104569422 res.recall=0.61598610543093\n"
     ]
    },
    {
     "name": "stdout",
     "output_type": "stream",
     "text": [
      "{'eval_loss': 3.7122044563293457, 'eval_step': 6, 'eval_precision': 0.5997435104569422, 'eval_recall': 0.61598610543093, 'eval_f1': 0.6077563044214253, 'eval_label_count': 10, 'eval_runtime': 6.1263, 'eval_samples_per_second': 101.53, 'eval_steps_per_second': 1.632, 'epoch': 4.0}\n",
      "{'loss': 0.1714, 'learning_rate': 1.0610932475884245e-06, 'epoch': 4.82}\n"
     ]
    },
    {
     "name": "stderr",
     "output_type": "stream",
     "text": [
      "06:25:37 INFO:Logged iteration result res.precision=0.6001618505850141 res.recall=0.6247862891395036\n"
     ]
    },
    {
     "name": "stdout",
     "output_type": "stream",
     "text": [
      "{'eval_loss': 3.5856027603149414, 'eval_step': 8, 'eval_precision': 0.6001618505850141, 'eval_recall': 0.6247862891395036, 'eval_f1': 0.6122265642926517, 'eval_label_count': 10, 'eval_runtime': 6.0029, 'eval_samples_per_second': 103.617, 'eval_steps_per_second': 1.666, 'epoch': 5.0}\n",
      "{'train_runtime': 511.0452, 'train_samples_per_second': 24.342, 'train_steps_per_second': 3.043, 'train_loss': 0.74242153382378, 'epoch': 5.0}\n"
     ]
    },
    {
     "name": "stderr",
     "output_type": "stream",
     "text": [
      "06:25:47 INFO:Logged iteration result res.precision=0.6001618505850141 res.recall=0.6247862891395036\n",
      "06:25:49 INFO:Logged iteration result res.precision=0.6001618505850141 res.recall=0.6247862891395036\n",
      "06:25:49 INFO:Finished iteration=4\n",
      "06:25:49 INFO:Logging model artifact (might take a while)\n",
      "06:27:45 INFO:Breaking early after iteration=4 of 5 folds\n",
      "06:27:55 INFO:Logged experiment result res.mean_precision=0.6388930822787499 res.mean_recall=0.6488194724404067\n",
      "06:27:56 INFO:Left mlflow context\n"
     ]
    },
    {
     "name": "stdout",
     "output_type": "stream",
     "text": [
      "e524e5041d5340fe8f46b141fbf5fd91\n"
     ]
    },
    {
     "data": {
      "application/vnd.jupyter.widget-view+json": {
       "model_id": "c0e8d36e7d89440e8fb4acce3eb9bdf7",
       "version_major": 2,
       "version_minor": 0
      },
      "text/plain": [
       "Downloading artifacts:   0%|          | 0/7 [00:00<?, ?it/s]"
      ]
     },
     "metadata": {},
     "output_type": "display_data"
    },
    {
     "data": {
      "text/plain": [
       "PosixPath('src/service/models/bert_2_bert')"
      ]
     },
     "execution_count": 28,
     "metadata": {},
     "output_type": "execute_result"
    }
   ],
   "source": [
    "from tooling.observability import get_run_id\n",
    "from tooling.config import DualModelStagedBERTConfig, StagedBERT\n",
    "\n",
    "from copy import deepcopy\n",
    "\n",
    "bert_2_bert_experiment_config = deepcopy(base_experiment_config)\n",
    "bert_2_bert_experiment_config.name = \"Production\"\n",
    "\n",
    "bert_2_bert_config = StagedBERT(\n",
    "    max_len=123,\n",
    "    layers=[],\n",
    "    learning_rate_bert=3e-05,\n",
    "    learning_rate_classifier=0.16,\n",
    "    number_epochs=5,\n",
    "    train_batch_size=8,\n",
    "    weight_decay=0.1,\n",
    "    weighted_classes=True,\n",
    "    validation_batch_size=64,\n",
    ")\n",
    "\n",
    "cfg = DualModelStagedBERTConfig(\n",
    "    bert=bert_2_bert_config,\n",
    "    experiment=bert_2_bert_experiment_config,\n",
    "    transformation=label_transformation_config,\n",
    "    first_model_bert=bert_1_cfg,\n",
    ")\n",
    "\n",
    "bert_2_bert_cfg: DualModelStagedBERTConfig = OmegaConf.structured(cfg)\n",
    "\n",
    "if run_experiments:\n",
    "    from experiments.dual_model_staged_bert import dual_stage_bert\n",
    "\n",
    "    dual_stage_bert(OmegaConf.create(bert_2_bert_cfg))\n",
    "\n",
    "bert_2_bert_run_id = get_run_id(bert_2_bert_cfg, pin_commit=pin_commits)\n",
    "\n",
    "print(bert_2_bert_run_id)\n",
    "\n",
    "bert_2_bert_run = mlflow.get_run(bert_2_bert_run_id)\n",
    "mlflow.artifacts.download_artifacts(\n",
    "    f\"{bert_2_bert_run.info.artifact_uri}/0_model\",\n",
    "    dst_path=Path(\"./src/service/models/\"),\n",
    ")\n",
    "try:\n",
    "    shutil.rmtree(Path(\"./src/service/models/bert_2_bert\"))\n",
    "except FileNotFoundError:\n",
    "    pass\n",
    "Path(\"./src/service/models/0_model\").rename(\"./src/service/models/bert_2_bert\")"
   ]
  },
  {
   "cell_type": "markdown",
   "metadata": {},
   "source": [
    "## Train BERT Second Stage Model for SNER First Stage\n"
   ]
  },
  {
   "cell_type": "code",
   "execution_count": 29,
   "metadata": {},
   "outputs": [
    {
     "name": "stderr",
     "output_type": "stream",
     "text": [
      "06:29:10 INFO:\n",
      "first_model_bert: null\n",
      "first_model_bilstm: null\n",
      "first_model_sner:\n",
      "  sner:\n",
      "    type: SNER\n",
      "  experiment:\n",
      "    name: Production\n",
      "    description: ''\n",
      "    random_state: 125\n",
      "    folds: 5\n",
      "    iterations: 5\n",
      "    average: macro\n",
      "    dataset: all\n",
      "    lower_case: true\n",
      "    force: false\n",
      "    pin_commit: false\n",
      "  transformation:\n",
      "    description: Levels\n",
      "    type: Reduced\n",
      "    task: Domain_Level\n",
      "    goals: null\n",
      "    domain_data: Domain_Level\n",
      "    activity: Domain_Level\n",
      "    stakeholder: Domain_Level\n",
      "    system_function: Interaction_Level\n",
      "    interaction: Interaction_Level\n",
      "    interaction_data: Interaction_Level\n",
      "    workspace: Interaction_Level\n",
      "    software: System_Level\n",
      "    internal_action: System_Level\n",
      "    internal_data: System_Level\n",
      "    system_level: System_Level\n",
      "bert:\n",
      "  model: bert-base-uncased\n",
      "  type: BERT\n",
      "  max_len: 123\n",
      "  train_batch_size: 8\n",
      "  validation_batch_size: 32\n",
      "  number_epochs: 5\n",
      "  learning_rate_bert: 3.0e-05\n",
      "  learning_rate_classifier: 0.16\n",
      "  weight_decay: 0.1\n",
      "  weighted_classes: true\n",
      "  layers: []\n",
      "experiment:\n",
      "  name: Production\n",
      "  description: ''\n",
      "  random_state: 125\n",
      "  folds: 5\n",
      "  iterations: 5\n",
      "  average: macro\n",
      "  dataset: all\n",
      "  lower_case: true\n",
      "  force: false\n",
      "  pin_commit: false\n",
      "transformation:\n",
      "  description: None\n",
      "  type: Full\n",
      "  task: Task\n",
      "  goals: null\n",
      "  domain_data: Domain_Data\n",
      "  activity: Activity\n",
      "  stakeholder: Stakeholder\n",
      "  system_function: System_Function\n",
      "  interaction: Interaction\n",
      "  interaction_data: Interaction_Data\n",
      "  workspace: Workspace\n",
      "  software: System_Level\n",
      "  internal_action: System_Level\n",
      "  internal_data: System_Level\n",
      "  system_level: System_Level\n",
      "\n",
      "06:29:10 INFO:New experiment. Running\n",
      "06:29:10 INFO:Entering mlflow context\n",
      "06:29:12 INFO:Importing dataset: anno from /Users/bockstaller/code/uvl-tore-classifier-bert/src/data/datasets/forum/anno_test.json\n",
      "06:29:12 INFO:Importing dataset: anno from /Users/bockstaller/code/uvl-tore-classifier-bert/src/data/datasets/forum/anno_train.json\n",
      "06:29:12 INFO:Importing dataset: prolific from /Users/bockstaller/code/uvl-tore-classifier-bert/src/data/datasets/prolific/TORE_Coded_Answers_1_33.json\n",
      "06:29:13 INFO:Importing dataset: prolific from /Users/bockstaller/code/uvl-tore-classifier-bert/src/data/datasets/prolific/TORE_Coded_Answers_34_66.json\n",
      "06:29:13 INFO:Importing dataset: prolific from /Users/bockstaller/code/uvl-tore-classifier-bert/src/data/datasets/prolific/TORE_Coded_Answers_67_100.json\n",
      "06:29:13 INFO:Importing dataset: komoot from /Users/bockstaller/code/uvl-tore-classifier-bert/src/data/datasets/app/Komoot_AppReview.json\n",
      "06:29:17 INFO:Dataset Labels: transformed_dataset['labels']=['Stakeholder', 'Activity', 'Domain_Data', 'Interaction', 'Interaction_Data', 'System_Function', 'System_Level', 'Task', '0', 'Workspace']\n",
      "06:29:17 INFO:Class weights: {'0': 0.13494545, 'Task': 8.320833, 'Domain_Data': 2.52101, 'Activity': 9.136601, 'Stakeholder': 9.949466, 'System_Function': 3.0622125, 'Interaction': 1.9934403, 'Interaction_Data': 1.877636, 'Workspace': 8.903822, 'System_Level': 2.5661314}\n",
      "06:29:17 INFO:Configured maximal token sequence length: max_len = 123\n",
      "06:29:20 INFO:Created fold datasets for fold: 0, stored at paths=[PosixPath('/Users/bockstaller/code/uvl-tore-classifier-bert/src/data/temp/sampling/fearless-swan-328/0_data_train.pickle'), PosixPath('/Users/bockstaller/code/uvl-tore-classifier-bert/src/data/temp/sampling/fearless-swan-328/0_data_train.csv'), PosixPath('/Users/bockstaller/code/uvl-tore-classifier-bert/src/data/temp/sampling/fearless-swan-328/0_data_test.pickle'), PosixPath('/Users/bockstaller/code/uvl-tore-classifier-bert/src/data/temp/sampling/fearless-swan-328/0_data_test.csv')]\n",
      "06:29:20 INFO:Starting iteration=0\n",
      "06:29:20 INFO:Found existing run with run_id: 026f983c8249412ab989d4b036846b8f matching the configuration\n",
      "06:29:20 INFO:Downloading run model from mlflow-artifacts:/6/026f983c8249412ab989d4b036846b8f/artifacts/0_model.ser.gz\n"
     ]
    },
    {
     "data": {
      "application/vnd.jupyter.widget-view+json": {
       "model_id": "acbd5fa52f5f4022860c4ccbe592e5d0",
       "version_major": 2,
       "version_minor": 0
      },
      "text/plain": [
       "Downloading artifacts:   0%|          | 0/1 [00:00<?, ?it/s]"
      ]
     },
     "metadata": {},
     "output_type": "display_data"
    },
    {
     "data": {
      "application/vnd.jupyter.widget-view+json": {
       "model_id": "e17919e21cae48428488d4215081592c",
       "version_major": 2,
       "version_minor": 0
      },
      "text/plain": [
       "Map:   0%|          | 0/2488 [00:00<?, ? examples/s]"
      ]
     },
     "metadata": {},
     "output_type": "display_data"
    },
    {
     "data": {
      "application/vnd.jupyter.widget-view+json": {
       "model_id": "6e71e39df0004c9681fa5833f2203644",
       "version_major": 2,
       "version_minor": 0
      },
      "text/plain": [
       "Map:   0%|          | 0/622 [00:00<?, ? examples/s]"
      ]
     },
     "metadata": {},
     "output_type": "display_data"
    },
    {
     "name": "stdout",
     "output_type": "stream",
     "text": [
      "Test\n",
      "StagedBertForTokenClassification(\n",
      "  (bert): BertModel(\n",
      "    (embeddings): BertEmbeddings(\n",
      "      (word_embeddings): Embedding(30522, 768, padding_idx=0)\n",
      "      (position_embeddings): Embedding(512, 768)\n",
      "      (token_type_embeddings): Embedding(2, 768)\n",
      "      (LayerNorm): LayerNorm((768,), eps=1e-12, elementwise_affine=True)\n",
      "      (dropout): Dropout(p=0.1, inplace=False)\n",
      "    )\n",
      "    (encoder): BertEncoder(\n",
      "      (layer): ModuleList(\n",
      "        (0-11): 12 x BertLayer(\n",
      "          (attention): BertAttention(\n",
      "            (self): BertSelfAttention(\n",
      "              (query): Linear(in_features=768, out_features=768, bias=True)\n",
      "              (key): Linear(in_features=768, out_features=768, bias=True)\n",
      "              (value): Linear(in_features=768, out_features=768, bias=True)\n",
      "              (dropout): Dropout(p=0.1, inplace=False)\n",
      "            )\n",
      "            (output): BertSelfOutput(\n",
      "              (dense): Linear(in_features=768, out_features=768, bias=True)\n",
      "              (LayerNorm): LayerNorm((768,), eps=1e-12, elementwise_affine=True)\n",
      "              (dropout): Dropout(p=0.1, inplace=False)\n",
      "            )\n",
      "          )\n",
      "          (intermediate): BertIntermediate(\n",
      "            (dense): Linear(in_features=768, out_features=3072, bias=True)\n",
      "            (intermediate_act_fn): GELUActivation()\n",
      "          )\n",
      "          (output): BertOutput(\n",
      "            (dense): Linear(in_features=3072, out_features=768, bias=True)\n",
      "            (LayerNorm): LayerNorm((768,), eps=1e-12, elementwise_affine=True)\n",
      "            (dropout): Dropout(p=0.1, inplace=False)\n",
      "          )\n",
      "        )\n",
      "      )\n",
      "    )\n",
      "  )\n",
      "  (dropout): Dropout(p=0.1, inplace=False)\n",
      "  (out_layers): Sequential(\n",
      "    (0): Linear(in_features=772, out_features=10, bias=True)\n",
      "  )\n",
      ")\n"
     ]
    },
    {
     "name": "stderr",
     "output_type": "stream",
     "text": [
      "06:31:09 INFO:Logged iteration result res.precision=0.5216784271253025 res.recall=0.5347241430022265\n"
     ]
    },
    {
     "name": "stdout",
     "output_type": "stream",
     "text": [
      "{'eval_loss': 4.567152976989746, 'eval_step': 0, 'eval_precision': 0.5216784271253025, 'eval_recall': 0.5347241430022265, 'eval_f1': 0.5281207330528389, 'eval_label_count': 10, 'eval_runtime': 9.3152, 'eval_samples_per_second': 66.773, 'eval_steps_per_second': 2.147, 'epoch': 1.0}\n",
      "{'loss': 1.8947, 'learning_rate': 2.0353697749196142e-05, 'epoch': 1.61}\n"
     ]
    },
    {
     "name": "stderr",
     "output_type": "stream",
     "text": [
      "06:32:50 INFO:Logged iteration result res.precision=0.575125133240645 res.recall=0.5742180958794106\n"
     ]
    },
    {
     "name": "stdout",
     "output_type": "stream",
     "text": [
      "{'eval_loss': 3.028416156768799, 'eval_step': 2, 'eval_precision': 0.575125133240645, 'eval_recall': 0.5742180958794106, 'eval_f1': 0.5746712566526796, 'eval_label_count': 10, 'eval_runtime': 5.9144, 'eval_samples_per_second': 105.168, 'eval_steps_per_second': 3.382, 'epoch': 2.0}\n"
     ]
    },
    {
     "name": "stderr",
     "output_type": "stream",
     "text": [
      "06:34:30 INFO:Logged iteration result res.precision=0.6313514930825477 res.recall=0.5732056904993196\n"
     ]
    },
    {
     "name": "stdout",
     "output_type": "stream",
     "text": [
      "{'eval_loss': 2.9836573600769043, 'eval_step': 4, 'eval_precision': 0.6313514930825477, 'eval_recall': 0.5732056904993196, 'eval_f1': 0.6008751987415499, 'eval_label_count': 10, 'eval_runtime': 5.951, 'eval_samples_per_second': 104.52, 'eval_steps_per_second': 3.361, 'epoch': 3.0}\n",
      "{'loss': 0.5115, 'learning_rate': 1.0707395498392284e-05, 'epoch': 3.22}\n"
     ]
    },
    {
     "name": "stderr",
     "output_type": "stream",
     "text": [
      "06:36:11 INFO:Logged iteration result res.precision=0.623580960654633 res.recall=0.592289520334621\n"
     ]
    },
    {
     "name": "stdout",
     "output_type": "stream",
     "text": [
      "{'eval_loss': 2.8475306034088135, 'eval_step': 6, 'eval_precision': 0.623580960654633, 'eval_recall': 0.592289520334621, 'eval_f1': 0.6075325848447817, 'eval_label_count': 10, 'eval_runtime': 5.6385, 'eval_samples_per_second': 110.312, 'eval_steps_per_second': 3.547, 'epoch': 4.0}\n",
      "{'loss': 0.1778, 'learning_rate': 1.0610932475884245e-06, 'epoch': 4.82}\n"
     ]
    },
    {
     "name": "stderr",
     "output_type": "stream",
     "text": [
      "06:37:52 INFO:Logged iteration result res.precision=0.6288460235485516 res.recall=0.584225080397154\n"
     ]
    },
    {
     "name": "stdout",
     "output_type": "stream",
     "text": [
      "{'eval_loss': 3.178431272506714, 'eval_step': 8, 'eval_precision': 0.6288460235485516, 'eval_recall': 0.584225080397154, 'eval_f1': 0.6057148958047007, 'eval_label_count': 10, 'eval_runtime': 5.9297, 'eval_samples_per_second': 104.896, 'eval_steps_per_second': 3.373, 'epoch': 5.0}\n",
      "{'train_runtime': 508.9701, 'train_samples_per_second': 24.442, 'train_steps_per_second': 3.055, 'train_loss': 0.8342967714144103, 'epoch': 5.0}\n"
     ]
    },
    {
     "name": "stderr",
     "output_type": "stream",
     "text": [
      "06:38:02 INFO:Logged iteration result res.precision=0.6288460235485516 res.recall=0.584225080397154\n",
      "06:38:03 INFO:Logged iteration result res.precision=0.6288460235485516 res.recall=0.584225080397154\n",
      "06:38:03 INFO:Finished iteration=0\n",
      "06:38:03 INFO:Logging model artifact (might take a while)\n",
      "06:40:01 INFO:Created fold datasets for fold: 1, stored at paths=[PosixPath('/Users/bockstaller/code/uvl-tore-classifier-bert/src/data/temp/sampling/fearless-swan-328/1_data_train.pickle'), PosixPath('/Users/bockstaller/code/uvl-tore-classifier-bert/src/data/temp/sampling/fearless-swan-328/1_data_train.csv'), PosixPath('/Users/bockstaller/code/uvl-tore-classifier-bert/src/data/temp/sampling/fearless-swan-328/1_data_test.pickle'), PosixPath('/Users/bockstaller/code/uvl-tore-classifier-bert/src/data/temp/sampling/fearless-swan-328/1_data_test.csv')]\n",
      "06:40:01 INFO:Starting iteration=1\n",
      "06:40:01 INFO:Found existing run with run_id: 026f983c8249412ab989d4b036846b8f matching the configuration\n",
      "06:40:01 INFO:Downloading run model from mlflow-artifacts:/6/026f983c8249412ab989d4b036846b8f/artifacts/1_model.ser.gz\n"
     ]
    },
    {
     "data": {
      "application/vnd.jupyter.widget-view+json": {
       "model_id": "f1a2ddf174104355845e927dca5e38ee",
       "version_major": 2,
       "version_minor": 0
      },
      "text/plain": [
       "Downloading artifacts:   0%|          | 0/1 [00:00<?, ?it/s]"
      ]
     },
     "metadata": {},
     "output_type": "display_data"
    },
    {
     "data": {
      "application/vnd.jupyter.widget-view+json": {
       "model_id": "0166812231e84c6590da6437f02af608",
       "version_major": 2,
       "version_minor": 0
      },
      "text/plain": [
       "Map:   0%|          | 0/2488 [00:00<?, ? examples/s]"
      ]
     },
     "metadata": {},
     "output_type": "display_data"
    },
    {
     "data": {
      "application/vnd.jupyter.widget-view+json": {
       "model_id": "8c1cc40997ab4155b480bb4fa2bdcbdf",
       "version_major": 2,
       "version_minor": 0
      },
      "text/plain": [
       "Map:   0%|          | 0/622 [00:00<?, ? examples/s]"
      ]
     },
     "metadata": {},
     "output_type": "display_data"
    },
    {
     "name": "stdout",
     "output_type": "stream",
     "text": [
      "Test\n",
      "StagedBertForTokenClassification(\n",
      "  (bert): BertModel(\n",
      "    (embeddings): BertEmbeddings(\n",
      "      (word_embeddings): Embedding(30522, 768, padding_idx=0)\n",
      "      (position_embeddings): Embedding(512, 768)\n",
      "      (token_type_embeddings): Embedding(2, 768)\n",
      "      (LayerNorm): LayerNorm((768,), eps=1e-12, elementwise_affine=True)\n",
      "      (dropout): Dropout(p=0.1, inplace=False)\n",
      "    )\n",
      "    (encoder): BertEncoder(\n",
      "      (layer): ModuleList(\n",
      "        (0-11): 12 x BertLayer(\n",
      "          (attention): BertAttention(\n",
      "            (self): BertSelfAttention(\n",
      "              (query): Linear(in_features=768, out_features=768, bias=True)\n",
      "              (key): Linear(in_features=768, out_features=768, bias=True)\n",
      "              (value): Linear(in_features=768, out_features=768, bias=True)\n",
      "              (dropout): Dropout(p=0.1, inplace=False)\n",
      "            )\n",
      "            (output): BertSelfOutput(\n",
      "              (dense): Linear(in_features=768, out_features=768, bias=True)\n",
      "              (LayerNorm): LayerNorm((768,), eps=1e-12, elementwise_affine=True)\n",
      "              (dropout): Dropout(p=0.1, inplace=False)\n",
      "            )\n",
      "          )\n",
      "          (intermediate): BertIntermediate(\n",
      "            (dense): Linear(in_features=768, out_features=3072, bias=True)\n",
      "            (intermediate_act_fn): GELUActivation()\n",
      "          )\n",
      "          (output): BertOutput(\n",
      "            (dense): Linear(in_features=3072, out_features=768, bias=True)\n",
      "            (LayerNorm): LayerNorm((768,), eps=1e-12, elementwise_affine=True)\n",
      "            (dropout): Dropout(p=0.1, inplace=False)\n",
      "          )\n",
      "        )\n",
      "      )\n",
      "    )\n",
      "  )\n",
      "  (dropout): Dropout(p=0.1, inplace=False)\n",
      "  (out_layers): Sequential(\n",
      "    (0): Linear(in_features=772, out_features=10, bias=True)\n",
      "  )\n",
      ")\n"
     ]
    },
    {
     "name": "stderr",
     "output_type": "stream",
     "text": [
      "06:41:47 INFO:Logged iteration result res.precision=0.5927704360648518 res.recall=0.5266476452751478\n"
     ]
    },
    {
     "name": "stdout",
     "output_type": "stream",
     "text": [
      "{'eval_loss': 3.3952503204345703, 'eval_step': 0, 'eval_precision': 0.5927704360648518, 'eval_recall': 0.5266476452751478, 'eval_f1': 0.5577561405271929, 'eval_label_count': 10, 'eval_runtime': 6.2339, 'eval_samples_per_second': 99.777, 'eval_steps_per_second': 3.208, 'epoch': 1.0}\n",
      "{'loss': 1.6526, 'learning_rate': 2.0353697749196142e-05, 'epoch': 1.61}\n"
     ]
    },
    {
     "name": "stderr",
     "output_type": "stream",
     "text": [
      "06:43:28 INFO:Logged iteration result res.precision=0.6389033617521747 res.recall=0.5757004808543984\n"
     ]
    },
    {
     "name": "stdout",
     "output_type": "stream",
     "text": [
      "{'eval_loss': 3.0504212379455566, 'eval_step': 2, 'eval_precision': 0.6389033617521747, 'eval_recall': 0.5757004808543984, 'eval_f1': 0.605657515113526, 'eval_label_count': 10, 'eval_runtime': 5.5855, 'eval_samples_per_second': 111.36, 'eval_steps_per_second': 3.581, 'epoch': 2.0}\n"
     ]
    },
    {
     "name": "stderr",
     "output_type": "stream",
     "text": [
      "06:45:08 INFO:Logged iteration result res.precision=0.612195384915106 res.recall=0.5804785091018665\n"
     ]
    },
    {
     "name": "stdout",
     "output_type": "stream",
     "text": [
      "{'eval_loss': 2.752326488494873, 'eval_step': 4, 'eval_precision': 0.612195384915106, 'eval_recall': 0.5804785091018665, 'eval_f1': 0.5959152222535473, 'eval_label_count': 10, 'eval_runtime': 5.6134, 'eval_samples_per_second': 110.807, 'eval_steps_per_second': 3.563, 'epoch': 3.0}\n",
      "{'loss': 0.5398, 'learning_rate': 1.0707395498392284e-05, 'epoch': 3.22}\n"
     ]
    },
    {
     "name": "stderr",
     "output_type": "stream",
     "text": [
      "06:46:49 INFO:Logged iteration result res.precision=0.650301944077575 res.recall=0.5558082235141573\n"
     ]
    },
    {
     "name": "stdout",
     "output_type": "stream",
     "text": [
      "{'eval_loss': 3.353285551071167, 'eval_step': 6, 'eval_precision': 0.650301944077575, 'eval_recall': 0.5558082235141573, 'eval_f1': 0.5993534885909496, 'eval_label_count': 10, 'eval_runtime': 5.5692, 'eval_samples_per_second': 111.685, 'eval_steps_per_second': 3.591, 'epoch': 4.0}\n",
      "{'loss': 0.1707, 'learning_rate': 1.0610932475884245e-06, 'epoch': 4.82}\n"
     ]
    },
    {
     "name": "stderr",
     "output_type": "stream",
     "text": [
      "06:48:29 INFO:Logged iteration result res.precision=0.6418788801332636 res.recall=0.5721077388132019\n"
     ]
    },
    {
     "name": "stdout",
     "output_type": "stream",
     "text": [
      "{'eval_loss': 3.1858627796173096, 'eval_step': 8, 'eval_precision': 0.6418788801332636, 'eval_recall': 0.5721077388132019, 'eval_f1': 0.6049883400258229, 'eval_label_count': 10, 'eval_runtime': 5.9292, 'eval_samples_per_second': 104.904, 'eval_steps_per_second': 3.373, 'epoch': 5.0}\n",
      "{'train_runtime': 503.4833, 'train_samples_per_second': 24.708, 'train_steps_per_second': 3.088, 'train_loss': 0.7637636797987764, 'epoch': 5.0}\n"
     ]
    },
    {
     "name": "stderr",
     "output_type": "stream",
     "text": [
      "06:48:39 INFO:Logged iteration result res.precision=0.6418788801332636 res.recall=0.5721077388132019\n",
      "06:48:40 INFO:Logged iteration result res.precision=0.6418788801332636 res.recall=0.5721077388132019\n",
      "06:48:40 INFO:Finished iteration=1\n",
      "06:48:40 INFO:Logging model artifact (might take a while)\n",
      "06:50:39 INFO:Created fold datasets for fold: 2, stored at paths=[PosixPath('/Users/bockstaller/code/uvl-tore-classifier-bert/src/data/temp/sampling/fearless-swan-328/2_data_train.pickle'), PosixPath('/Users/bockstaller/code/uvl-tore-classifier-bert/src/data/temp/sampling/fearless-swan-328/2_data_train.csv'), PosixPath('/Users/bockstaller/code/uvl-tore-classifier-bert/src/data/temp/sampling/fearless-swan-328/2_data_test.pickle'), PosixPath('/Users/bockstaller/code/uvl-tore-classifier-bert/src/data/temp/sampling/fearless-swan-328/2_data_test.csv')]\n",
      "06:50:39 INFO:Starting iteration=2\n",
      "06:50:40 INFO:Found existing run with run_id: 026f983c8249412ab989d4b036846b8f matching the configuration\n",
      "06:50:40 INFO:Downloading run model from mlflow-artifacts:/6/026f983c8249412ab989d4b036846b8f/artifacts/2_model.ser.gz\n"
     ]
    },
    {
     "data": {
      "application/vnd.jupyter.widget-view+json": {
       "model_id": "4b420200af744d4ea365f6585579a5e3",
       "version_major": 2,
       "version_minor": 0
      },
      "text/plain": [
       "Downloading artifacts:   0%|          | 0/1 [00:00<?, ?it/s]"
      ]
     },
     "metadata": {},
     "output_type": "display_data"
    },
    {
     "data": {
      "application/vnd.jupyter.widget-view+json": {
       "model_id": "9235632d5b07497383720480827485b3",
       "version_major": 2,
       "version_minor": 0
      },
      "text/plain": [
       "Map:   0%|          | 0/2488 [00:00<?, ? examples/s]"
      ]
     },
     "metadata": {},
     "output_type": "display_data"
    },
    {
     "data": {
      "application/vnd.jupyter.widget-view+json": {
       "model_id": "e181f59489cc4fae95bb022fedb99e32",
       "version_major": 2,
       "version_minor": 0
      },
      "text/plain": [
       "Map:   0%|          | 0/622 [00:00<?, ? examples/s]"
      ]
     },
     "metadata": {},
     "output_type": "display_data"
    },
    {
     "name": "stdout",
     "output_type": "stream",
     "text": [
      "Test\n",
      "StagedBertForTokenClassification(\n",
      "  (bert): BertModel(\n",
      "    (embeddings): BertEmbeddings(\n",
      "      (word_embeddings): Embedding(30522, 768, padding_idx=0)\n",
      "      (position_embeddings): Embedding(512, 768)\n",
      "      (token_type_embeddings): Embedding(2, 768)\n",
      "      (LayerNorm): LayerNorm((768,), eps=1e-12, elementwise_affine=True)\n",
      "      (dropout): Dropout(p=0.1, inplace=False)\n",
      "    )\n",
      "    (encoder): BertEncoder(\n",
      "      (layer): ModuleList(\n",
      "        (0-11): 12 x BertLayer(\n",
      "          (attention): BertAttention(\n",
      "            (self): BertSelfAttention(\n",
      "              (query): Linear(in_features=768, out_features=768, bias=True)\n",
      "              (key): Linear(in_features=768, out_features=768, bias=True)\n",
      "              (value): Linear(in_features=768, out_features=768, bias=True)\n",
      "              (dropout): Dropout(p=0.1, inplace=False)\n",
      "            )\n",
      "            (output): BertSelfOutput(\n",
      "              (dense): Linear(in_features=768, out_features=768, bias=True)\n",
      "              (LayerNorm): LayerNorm((768,), eps=1e-12, elementwise_affine=True)\n",
      "              (dropout): Dropout(p=0.1, inplace=False)\n",
      "            )\n",
      "          )\n",
      "          (intermediate): BertIntermediate(\n",
      "            (dense): Linear(in_features=768, out_features=3072, bias=True)\n",
      "            (intermediate_act_fn): GELUActivation()\n",
      "          )\n",
      "          (output): BertOutput(\n",
      "            (dense): Linear(in_features=3072, out_features=768, bias=True)\n",
      "            (LayerNorm): LayerNorm((768,), eps=1e-12, elementwise_affine=True)\n",
      "            (dropout): Dropout(p=0.1, inplace=False)\n",
      "          )\n",
      "        )\n",
      "      )\n",
      "    )\n",
      "  )\n",
      "  (dropout): Dropout(p=0.1, inplace=False)\n",
      "  (out_layers): Sequential(\n",
      "    (0): Linear(in_features=772, out_features=10, bias=True)\n",
      "  )\n",
      ")\n"
     ]
    },
    {
     "name": "stderr",
     "output_type": "stream",
     "text": [
      "06:52:29 INFO:Logged iteration result res.precision=0.5129729636484315 res.recall=0.548654059670078\n"
     ]
    },
    {
     "name": "stdout",
     "output_type": "stream",
     "text": [
      "{'eval_loss': 2.349161148071289, 'eval_step': 0, 'eval_precision': 0.5129729636484315, 'eval_recall': 0.548654059670078, 'eval_f1': 0.5302138940038346, 'eval_label_count': 10, 'eval_runtime': 6.1214, 'eval_samples_per_second': 101.61, 'eval_steps_per_second': 3.267, 'epoch': 1.0}\n",
      "{'loss': 1.6347, 'learning_rate': 2.0353697749196142e-05, 'epoch': 1.61}\n"
     ]
    },
    {
     "name": "stderr",
     "output_type": "stream",
     "text": [
      "06:54:10 INFO:Logged iteration result res.precision=0.617424773576422 res.recall=0.5264291187229646\n"
     ]
    },
    {
     "name": "stdout",
     "output_type": "stream",
     "text": [
      "{'eval_loss': 3.3038816452026367, 'eval_step': 2, 'eval_precision': 0.617424773576422, 'eval_recall': 0.5264291187229646, 'eval_f1': 0.5683075113346556, 'eval_label_count': 10, 'eval_runtime': 5.8601, 'eval_samples_per_second': 106.141, 'eval_steps_per_second': 3.413, 'epoch': 2.0}\n"
     ]
    },
    {
     "name": "stderr",
     "output_type": "stream",
     "text": [
      "06:55:51 INFO:Logged iteration result res.precision=0.6117127930855192 res.recall=0.5638052131277222\n"
     ]
    },
    {
     "name": "stdout",
     "output_type": "stream",
     "text": [
      "{'eval_loss': 3.108973741531372, 'eval_step': 4, 'eval_precision': 0.6117127930855192, 'eval_recall': 0.5638052131277222, 'eval_f1': 0.5867827797713414, 'eval_label_count': 10, 'eval_runtime': 6.0315, 'eval_samples_per_second': 103.125, 'eval_steps_per_second': 3.316, 'epoch': 3.0}\n",
      "{'loss': 0.4897, 'learning_rate': 1.0707395498392284e-05, 'epoch': 3.22}\n"
     ]
    },
    {
     "name": "stderr",
     "output_type": "stream",
     "text": [
      "06:57:32 INFO:Logged iteration result res.precision=0.6330401408233226 res.recall=0.5371708114162661\n"
     ]
    },
    {
     "name": "stdout",
     "output_type": "stream",
     "text": [
      "{'eval_loss': 4.251964569091797, 'eval_step': 6, 'eval_precision': 0.6330401408233226, 'eval_recall': 0.5371708114162661, 'eval_f1': 0.5811784370233952, 'eval_label_count': 10, 'eval_runtime': 5.7092, 'eval_samples_per_second': 108.947, 'eval_steps_per_second': 3.503, 'epoch': 4.0}\n",
      "{'loss': 0.159, 'learning_rate': 1.0610932475884245e-06, 'epoch': 4.82}\n"
     ]
    },
    {
     "name": "stderr",
     "output_type": "stream",
     "text": [
      "06:59:13 INFO:Logged iteration result res.precision=0.6258367633028581 res.recall=0.5476353166777872\n"
     ]
    },
    {
     "name": "stdout",
     "output_type": "stream",
     "text": [
      "{'eval_loss': 3.6765851974487305, 'eval_step': 8, 'eval_precision': 0.6258367633028581, 'eval_recall': 0.5476353166777872, 'eval_f1': 0.5841303255644819, 'eval_label_count': 10, 'eval_runtime': 5.5472, 'eval_samples_per_second': 112.129, 'eval_steps_per_second': 3.605, 'epoch': 5.0}\n",
      "{'train_runtime': 504.4172, 'train_samples_per_second': 24.662, 'train_steps_per_second': 3.083, 'train_loss': 0.7375341906041578, 'epoch': 5.0}\n"
     ]
    },
    {
     "name": "stderr",
     "output_type": "stream",
     "text": [
      "06:59:22 INFO:Logged iteration result res.precision=0.6258367633028581 res.recall=0.5476353166777872\n",
      "06:59:24 INFO:Logged iteration result res.precision=0.6258367633028581 res.recall=0.5476353166777872\n",
      "06:59:24 INFO:Finished iteration=2\n",
      "06:59:24 INFO:Logging model artifact (might take a while)\n",
      "07:01:23 INFO:Created fold datasets for fold: 3, stored at paths=[PosixPath('/Users/bockstaller/code/uvl-tore-classifier-bert/src/data/temp/sampling/fearless-swan-328/3_data_train.pickle'), PosixPath('/Users/bockstaller/code/uvl-tore-classifier-bert/src/data/temp/sampling/fearless-swan-328/3_data_train.csv'), PosixPath('/Users/bockstaller/code/uvl-tore-classifier-bert/src/data/temp/sampling/fearless-swan-328/3_data_test.pickle'), PosixPath('/Users/bockstaller/code/uvl-tore-classifier-bert/src/data/temp/sampling/fearless-swan-328/3_data_test.csv')]\n",
      "07:01:23 INFO:Starting iteration=3\n",
      "07:01:24 INFO:Found existing run with run_id: 026f983c8249412ab989d4b036846b8f matching the configuration\n",
      "07:01:24 INFO:Downloading run model from mlflow-artifacts:/6/026f983c8249412ab989d4b036846b8f/artifacts/3_model.ser.gz\n"
     ]
    },
    {
     "data": {
      "application/vnd.jupyter.widget-view+json": {
       "model_id": "4384419588134996871a6e33f28820f0",
       "version_major": 2,
       "version_minor": 0
      },
      "text/plain": [
       "Downloading artifacts:   0%|          | 0/1 [00:00<?, ?it/s]"
      ]
     },
     "metadata": {},
     "output_type": "display_data"
    },
    {
     "data": {
      "application/vnd.jupyter.widget-view+json": {
       "model_id": "9f49de5e9da540a693977dcc84e04368",
       "version_major": 2,
       "version_minor": 0
      },
      "text/plain": [
       "Map:   0%|          | 0/2488 [00:00<?, ? examples/s]"
      ]
     },
     "metadata": {},
     "output_type": "display_data"
    },
    {
     "data": {
      "application/vnd.jupyter.widget-view+json": {
       "model_id": "54269099872b435cbc45432a4a52c8a5",
       "version_major": 2,
       "version_minor": 0
      },
      "text/plain": [
       "Map:   0%|          | 0/622 [00:00<?, ? examples/s]"
      ]
     },
     "metadata": {},
     "output_type": "display_data"
    },
    {
     "name": "stdout",
     "output_type": "stream",
     "text": [
      "Test\n",
      "StagedBertForTokenClassification(\n",
      "  (bert): BertModel(\n",
      "    (embeddings): BertEmbeddings(\n",
      "      (word_embeddings): Embedding(30522, 768, padding_idx=0)\n",
      "      (position_embeddings): Embedding(512, 768)\n",
      "      (token_type_embeddings): Embedding(2, 768)\n",
      "      (LayerNorm): LayerNorm((768,), eps=1e-12, elementwise_affine=True)\n",
      "      (dropout): Dropout(p=0.1, inplace=False)\n",
      "    )\n",
      "    (encoder): BertEncoder(\n",
      "      (layer): ModuleList(\n",
      "        (0-11): 12 x BertLayer(\n",
      "          (attention): BertAttention(\n",
      "            (self): BertSelfAttention(\n",
      "              (query): Linear(in_features=768, out_features=768, bias=True)\n",
      "              (key): Linear(in_features=768, out_features=768, bias=True)\n",
      "              (value): Linear(in_features=768, out_features=768, bias=True)\n",
      "              (dropout): Dropout(p=0.1, inplace=False)\n",
      "            )\n",
      "            (output): BertSelfOutput(\n",
      "              (dense): Linear(in_features=768, out_features=768, bias=True)\n",
      "              (LayerNorm): LayerNorm((768,), eps=1e-12, elementwise_affine=True)\n",
      "              (dropout): Dropout(p=0.1, inplace=False)\n",
      "            )\n",
      "          )\n",
      "          (intermediate): BertIntermediate(\n",
      "            (dense): Linear(in_features=768, out_features=3072, bias=True)\n",
      "            (intermediate_act_fn): GELUActivation()\n",
      "          )\n",
      "          (output): BertOutput(\n",
      "            (dense): Linear(in_features=3072, out_features=768, bias=True)\n",
      "            (LayerNorm): LayerNorm((768,), eps=1e-12, elementwise_affine=True)\n",
      "            (dropout): Dropout(p=0.1, inplace=False)\n",
      "          )\n",
      "        )\n",
      "      )\n",
      "    )\n",
      "  )\n",
      "  (dropout): Dropout(p=0.1, inplace=False)\n",
      "  (out_layers): Sequential(\n",
      "    (0): Linear(in_features=772, out_features=10, bias=True)\n",
      "  )\n",
      ")\n"
     ]
    },
    {
     "name": "stderr",
     "output_type": "stream",
     "text": [
      "07:03:10 INFO:Logged iteration result res.precision=0.6246886943003118 res.recall=0.5329373917173252\n"
     ]
    },
    {
     "name": "stdout",
     "output_type": "stream",
     "text": [
      "{'eval_loss': 3.1019885540008545, 'eval_step': 0, 'eval_precision': 0.6246886943003118, 'eval_recall': 0.5329373917173252, 'eval_f1': 0.5751770237330978, 'eval_label_count': 10, 'eval_runtime': 5.8671, 'eval_samples_per_second': 106.015, 'eval_steps_per_second': 3.409, 'epoch': 1.0}\n",
      "{'loss': 1.6228, 'learning_rate': 2.0353697749196142e-05, 'epoch': 1.61}\n"
     ]
    },
    {
     "name": "stderr",
     "output_type": "stream",
     "text": [
      "07:04:51 INFO:Logged iteration result res.precision=0.5731780980967565 res.recall=0.5559108668263939\n"
     ]
    },
    {
     "name": "stdout",
     "output_type": "stream",
     "text": [
      "{'eval_loss': 2.349236488342285, 'eval_step': 2, 'eval_precision': 0.5731780980967565, 'eval_recall': 0.5559108668263939, 'eval_f1': 0.5644124480138891, 'eval_label_count': 10, 'eval_runtime': 5.9365, 'eval_samples_per_second': 104.775, 'eval_steps_per_second': 3.369, 'epoch': 2.0}\n"
     ]
    },
    {
     "name": "stderr",
     "output_type": "stream",
     "text": [
      "07:06:32 INFO:Logged iteration result res.precision=0.6035563902877655 res.recall=0.5485695879623018\n"
     ]
    },
    {
     "name": "stdout",
     "output_type": "stream",
     "text": [
      "{'eval_loss': 2.8237953186035156, 'eval_step': 4, 'eval_precision': 0.6035563902877655, 'eval_recall': 0.5485695879623018, 'eval_f1': 0.5747508286117484, 'eval_label_count': 10, 'eval_runtime': 5.5401, 'eval_samples_per_second': 112.273, 'eval_steps_per_second': 3.61, 'epoch': 3.0}\n",
      "{'loss': 0.4799, 'learning_rate': 1.0707395498392284e-05, 'epoch': 3.22}\n"
     ]
    },
    {
     "name": "stderr",
     "output_type": "stream",
     "text": [
      "07:08:12 INFO:Logged iteration result res.precision=0.6310110752600842 res.recall=0.5627480504366624\n"
     ]
    },
    {
     "name": "stdout",
     "output_type": "stream",
     "text": [
      "{'eval_loss': 3.311630964279175, 'eval_step': 6, 'eval_precision': 0.6310110752600842, 'eval_recall': 0.5627480504366624, 'eval_f1': 0.5949278120898929, 'eval_label_count': 10, 'eval_runtime': 5.5919, 'eval_samples_per_second': 111.233, 'eval_steps_per_second': 3.577, 'epoch': 4.0}\n",
      "{'loss': 0.1774, 'learning_rate': 1.0610932475884245e-06, 'epoch': 4.82}\n"
     ]
    },
    {
     "name": "stderr",
     "output_type": "stream",
     "text": [
      "07:09:53 INFO:Logged iteration result res.precision=0.6292404182878324 res.recall=0.5696333225539965\n"
     ]
    },
    {
     "name": "stdout",
     "output_type": "stream",
     "text": [
      "{'eval_loss': 3.341395616531372, 'eval_step': 8, 'eval_precision': 0.6292404182878324, 'eval_recall': 0.5696333225539965, 'eval_f1': 0.5979550605602164, 'eval_label_count': 10, 'eval_runtime': 5.6787, 'eval_samples_per_second': 109.533, 'eval_steps_per_second': 3.522, 'epoch': 5.0}\n",
      "{'train_runtime': 504.0704, 'train_samples_per_second': 24.679, 'train_steps_per_second': 3.085, 'train_loss': 0.7361752795253153, 'epoch': 5.0}\n"
     ]
    },
    {
     "name": "stderr",
     "output_type": "stream",
     "text": [
      "07:10:02 INFO:Logged iteration result res.precision=0.6292404182878324 res.recall=0.5696333225539965\n",
      "07:10:04 INFO:Logged iteration result res.precision=0.6292404182878324 res.recall=0.5696333225539965\n",
      "07:10:04 INFO:Finished iteration=3\n",
      "07:10:04 INFO:Logging model artifact (might take a while)\n",
      "07:12:02 INFO:Created fold datasets for fold: 4, stored at paths=[PosixPath('/Users/bockstaller/code/uvl-tore-classifier-bert/src/data/temp/sampling/fearless-swan-328/4_data_train.pickle'), PosixPath('/Users/bockstaller/code/uvl-tore-classifier-bert/src/data/temp/sampling/fearless-swan-328/4_data_train.csv'), PosixPath('/Users/bockstaller/code/uvl-tore-classifier-bert/src/data/temp/sampling/fearless-swan-328/4_data_test.pickle'), PosixPath('/Users/bockstaller/code/uvl-tore-classifier-bert/src/data/temp/sampling/fearless-swan-328/4_data_test.csv')]\n",
      "07:12:02 INFO:Starting iteration=4\n",
      "07:12:02 INFO:Found existing run with run_id: 026f983c8249412ab989d4b036846b8f matching the configuration\n",
      "07:12:02 INFO:Downloading run model from mlflow-artifacts:/6/026f983c8249412ab989d4b036846b8f/artifacts/4_model.ser.gz\n"
     ]
    },
    {
     "data": {
      "application/vnd.jupyter.widget-view+json": {
       "model_id": "d9c476416f704a66a9adfb6e24c07663",
       "version_major": 2,
       "version_minor": 0
      },
      "text/plain": [
       "Downloading artifacts:   0%|          | 0/1 [00:00<?, ?it/s]"
      ]
     },
     "metadata": {},
     "output_type": "display_data"
    },
    {
     "data": {
      "application/vnd.jupyter.widget-view+json": {
       "model_id": "f7bac0a572864679af840565efdba023",
       "version_major": 2,
       "version_minor": 0
      },
      "text/plain": [
       "Map:   0%|          | 0/2488 [00:00<?, ? examples/s]"
      ]
     },
     "metadata": {},
     "output_type": "display_data"
    },
    {
     "data": {
      "application/vnd.jupyter.widget-view+json": {
       "model_id": "32c26f93cd8e4a9898e9aa2cd73f2e06",
       "version_major": 2,
       "version_minor": 0
      },
      "text/plain": [
       "Map:   0%|          | 0/622 [00:00<?, ? examples/s]"
      ]
     },
     "metadata": {},
     "output_type": "display_data"
    },
    {
     "name": "stdout",
     "output_type": "stream",
     "text": [
      "Test\n",
      "StagedBertForTokenClassification(\n",
      "  (bert): BertModel(\n",
      "    (embeddings): BertEmbeddings(\n",
      "      (word_embeddings): Embedding(30522, 768, padding_idx=0)\n",
      "      (position_embeddings): Embedding(512, 768)\n",
      "      (token_type_embeddings): Embedding(2, 768)\n",
      "      (LayerNorm): LayerNorm((768,), eps=1e-12, elementwise_affine=True)\n",
      "      (dropout): Dropout(p=0.1, inplace=False)\n",
      "    )\n",
      "    (encoder): BertEncoder(\n",
      "      (layer): ModuleList(\n",
      "        (0-11): 12 x BertLayer(\n",
      "          (attention): BertAttention(\n",
      "            (self): BertSelfAttention(\n",
      "              (query): Linear(in_features=768, out_features=768, bias=True)\n",
      "              (key): Linear(in_features=768, out_features=768, bias=True)\n",
      "              (value): Linear(in_features=768, out_features=768, bias=True)\n",
      "              (dropout): Dropout(p=0.1, inplace=False)\n",
      "            )\n",
      "            (output): BertSelfOutput(\n",
      "              (dense): Linear(in_features=768, out_features=768, bias=True)\n",
      "              (LayerNorm): LayerNorm((768,), eps=1e-12, elementwise_affine=True)\n",
      "              (dropout): Dropout(p=0.1, inplace=False)\n",
      "            )\n",
      "          )\n",
      "          (intermediate): BertIntermediate(\n",
      "            (dense): Linear(in_features=768, out_features=3072, bias=True)\n",
      "            (intermediate_act_fn): GELUActivation()\n",
      "          )\n",
      "          (output): BertOutput(\n",
      "            (dense): Linear(in_features=3072, out_features=768, bias=True)\n",
      "            (LayerNorm): LayerNorm((768,), eps=1e-12, elementwise_affine=True)\n",
      "            (dropout): Dropout(p=0.1, inplace=False)\n",
      "          )\n",
      "        )\n",
      "      )\n",
      "    )\n",
      "  )\n",
      "  (dropout): Dropout(p=0.1, inplace=False)\n",
      "  (out_layers): Sequential(\n",
      "    (0): Linear(in_features=772, out_features=10, bias=True)\n",
      "  )\n",
      ")\n"
     ]
    },
    {
     "name": "stderr",
     "output_type": "stream",
     "text": [
      "07:13:51 INFO:Logged iteration result res.precision=0.5493976028391929 res.recall=0.48706173442357886\n"
     ]
    },
    {
     "name": "stdout",
     "output_type": "stream",
     "text": [
      "{'eval_loss': 3.9948201179504395, 'eval_step': 0, 'eval_precision': 0.5493976028391929, 'eval_recall': 0.48706173442357886, 'eval_f1': 0.5163551327227265, 'eval_label_count': 10, 'eval_runtime': 5.9341, 'eval_samples_per_second': 104.817, 'eval_steps_per_second': 3.37, 'epoch': 1.0}\n",
      "{'loss': 1.5969, 'learning_rate': 2.0353697749196142e-05, 'epoch': 1.61}\n"
     ]
    },
    {
     "name": "stderr",
     "output_type": "stream",
     "text": [
      "07:15:32 INFO:Logged iteration result res.precision=0.5318146737880107 res.recall=0.5315039004932284\n"
     ]
    },
    {
     "name": "stdout",
     "output_type": "stream",
     "text": [
      "{'eval_loss': 2.6354353427886963, 'eval_step': 2, 'eval_precision': 0.5318146737880107, 'eval_recall': 0.5315039004932284, 'eval_f1': 0.531659241726177, 'eval_label_count': 10, 'eval_runtime': 5.6093, 'eval_samples_per_second': 110.888, 'eval_steps_per_second': 3.566, 'epoch': 2.0}\n"
     ]
    },
    {
     "name": "stderr",
     "output_type": "stream",
     "text": [
      "07:17:13 INFO:Logged iteration result res.precision=0.5924851571726517 res.recall=0.5084631280528744\n"
     ]
    },
    {
     "name": "stdout",
     "output_type": "stream",
     "text": [
      "{'eval_loss': 3.8233375549316406, 'eval_step': 4, 'eval_precision': 0.5924851571726517, 'eval_recall': 0.5084631280528744, 'eval_f1': 0.5472679514264266, 'eval_label_count': 10, 'eval_runtime': 6.2197, 'eval_samples_per_second': 100.004, 'eval_steps_per_second': 3.216, 'epoch': 3.0}\n",
      "{'loss': 0.5023, 'learning_rate': 1.0707395498392284e-05, 'epoch': 3.22}\n"
     ]
    },
    {
     "name": "stderr",
     "output_type": "stream",
     "text": [
      "07:18:53 INFO:Logged iteration result res.precision=0.5952915255697124 res.recall=0.5360785192631242\n"
     ]
    },
    {
     "name": "stdout",
     "output_type": "stream",
     "text": [
      "{'eval_loss': 3.5143659114837646, 'eval_step': 6, 'eval_precision': 0.5952915255697124, 'eval_recall': 0.5360785192631242, 'eval_f1': 0.5641354939788052, 'eval_label_count': 10, 'eval_runtime': 5.7774, 'eval_samples_per_second': 107.66, 'eval_steps_per_second': 3.462, 'epoch': 4.0}\n",
      "{'loss': 0.1847, 'learning_rate': 1.0610932475884245e-06, 'epoch': 4.82}\n"
     ]
    },
    {
     "name": "stderr",
     "output_type": "stream",
     "text": [
      "07:20:34 INFO:Logged iteration result res.precision=0.6025761601385351 res.recall=0.537407386595133\n"
     ]
    },
    {
     "name": "stdout",
     "output_type": "stream",
     "text": [
      "{'eval_loss': 3.728144645690918, 'eval_step': 8, 'eval_precision': 0.6025761601385351, 'eval_recall': 0.537407386595133, 'eval_f1': 0.5681290407610347, 'eval_label_count': 10, 'eval_runtime': 5.8172, 'eval_samples_per_second': 106.924, 'eval_steps_per_second': 3.438, 'epoch': 5.0}\n",
      "{'train_runtime': 503.9214, 'train_samples_per_second': 24.686, 'train_steps_per_second': 3.086, 'train_loss': 0.7389109912025967, 'epoch': 5.0}\n"
     ]
    },
    {
     "name": "stderr",
     "output_type": "stream",
     "text": [
      "07:20:44 INFO:Logged iteration result res.precision=0.6025761601385351 res.recall=0.537407386595133\n",
      "07:20:45 INFO:Logged iteration result res.precision=0.6025761601385351 res.recall=0.537407386595133\n",
      "07:20:45 INFO:Finished iteration=4\n",
      "07:20:45 INFO:Logging model artifact (might take a while)\n",
      "07:22:41 INFO:Breaking early after iteration=4 of 5 folds\n",
      "07:22:52 INFO:Logged experiment result res.mean_precision=0.6256756490822082 res.mean_recall=0.5622017690074544\n",
      "07:22:53 INFO:Left mlflow context\n"
     ]
    },
    {
     "name": "stdout",
     "output_type": "stream",
     "text": [
      "89900f3ccbc94ae2b3566471e8c1cc23\n"
     ]
    },
    {
     "data": {
      "application/vnd.jupyter.widget-view+json": {
       "model_id": "ea7a5fe2c2124eeaa38a47bd59e7ecf9",
       "version_major": 2,
       "version_minor": 0
      },
      "text/plain": [
       "Downloading artifacts:   0%|          | 0/7 [00:00<?, ?it/s]"
      ]
     },
     "metadata": {},
     "output_type": "display_data"
    },
    {
     "data": {
      "text/plain": [
       "PosixPath('src/service/models/bert_2_sner')"
      ]
     },
     "execution_count": 29,
     "metadata": {},
     "output_type": "execute_result"
    }
   ],
   "source": [
    "from tooling.observability import get_run_id\n",
    "from tooling.config import DualModelStagedBERTConfig, StagedBERT\n",
    "\n",
    "from copy import deepcopy\n",
    "\n",
    "import os\n",
    "\n",
    "os.environ[\"TOKENIZERS_PARALLELISM\"] = \"true\"\n",
    "\n",
    "bert_2_sner_experiment_config = deepcopy(base_experiment_config)\n",
    "bert_2_sner_experiment_config.name = \"Production\"\n",
    "\n",
    "bert_2_sner_config = StagedBERT(\n",
    "    max_len=123,\n",
    "    layers=[],\n",
    "    learning_rate_bert=3e-05,\n",
    "    learning_rate_classifier=0.16,\n",
    "    number_epochs=5,\n",
    "    train_batch_size=8,\n",
    "    weight_decay=0.1,\n",
    "    weighted_classes=True,\n",
    ")\n",
    "\n",
    "bert_2_sner_cfg = OmegaConf.structured(\n",
    "    DualModelStagedBERTConfig(\n",
    "        bert=bert_2_sner_config,\n",
    "        experiment=bert_2_sner_experiment_config,\n",
    "        transformation=label_transformation_config,\n",
    "        first_model_sner=sner_cfg,\n",
    "    )\n",
    ")\n",
    "\n",
    "if run_experiments:\n",
    "    from experiments.dual_model_staged_bert import dual_stage_bert\n",
    "\n",
    "    dual_stage_bert(OmegaConf.create(bert_2_sner_cfg))\n",
    "\n",
    "bert_2_sner_run_id = get_run_id(bert_2_sner_cfg, pin_commit=pin_commits)\n",
    "\n",
    "print(bert_2_sner_run_id)\n",
    "\n",
    "bert_2_sner_run = mlflow.get_run(bert_2_sner_run_id)\n",
    "mlflow.artifacts.download_artifacts(\n",
    "    f\"{bert_2_sner_run.info.artifact_uri}/0_model\",\n",
    "    dst_path=Path(\"./src/service/models/\"),\n",
    ")\n",
    "try:\n",
    "    shutil.rmtree(Path(\"./src/service/models/bert_2_sner\"))\n",
    "except FileNotFoundError:\n",
    "    pass\n",
    "\n",
    "Path(\"./src/service/models/0_model\").rename(\"./src/service/models/bert_2_sner\")"
   ]
  },
  {
   "cell_type": "markdown",
   "metadata": {},
   "source": [
    "## Train BERT Second Stage Model for BILSTM First Stage\n"
   ]
  },
  {
   "cell_type": "code",
   "execution_count": 30,
   "metadata": {},
   "outputs": [
    {
     "name": "stderr",
     "output_type": "stream",
     "text": [
      "07:24:05 INFO:\n",
      "first_model_bert: null\n",
      "first_model_bilstm:\n",
      "  bilstm:\n",
      "    type: BiLSTM\n",
      "    sentence_length: 106\n",
      "    batch_size: 16\n",
      "    number_epochs: 5\n",
      "    verbose: 1\n",
      "    weighted_classes: false\n",
      "    learning_rate: 0.006\n",
      "  experiment:\n",
      "    name: Production\n",
      "    description: ''\n",
      "    random_state: 125\n",
      "    folds: 5\n",
      "    iterations: 5\n",
      "    average: macro\n",
      "    dataset: all\n",
      "    lower_case: true\n",
      "    force: false\n",
      "    pin_commit: false\n",
      "  transformation:\n",
      "    description: Levels\n",
      "    type: Reduced\n",
      "    task: Domain_Level\n",
      "    goals: null\n",
      "    domain_data: Domain_Level\n",
      "    activity: Domain_Level\n",
      "    stakeholder: Domain_Level\n",
      "    system_function: Interaction_Level\n",
      "    interaction: Interaction_Level\n",
      "    interaction_data: Interaction_Level\n",
      "    workspace: Interaction_Level\n",
      "    software: System_Level\n",
      "    internal_action: System_Level\n",
      "    internal_data: System_Level\n",
      "    system_level: System_Level\n",
      "first_model_sner: null\n",
      "bert:\n",
      "  model: bert-base-uncased\n",
      "  type: BERT\n",
      "  max_len: 123\n",
      "  train_batch_size: 8\n",
      "  validation_batch_size: 32\n",
      "  number_epochs: 5\n",
      "  learning_rate_bert: 3.0e-05\n",
      "  learning_rate_classifier: 0.16\n",
      "  weight_decay: 0.1\n",
      "  weighted_classes: true\n",
      "  layers: []\n",
      "experiment:\n",
      "  name: Production\n",
      "  description: ''\n",
      "  random_state: 125\n",
      "  folds: 5\n",
      "  iterations: 5\n",
      "  average: macro\n",
      "  dataset: all\n",
      "  lower_case: true\n",
      "  force: false\n",
      "  pin_commit: false\n",
      "transformation:\n",
      "  description: None\n",
      "  type: Full\n",
      "  task: Task\n",
      "  goals: null\n",
      "  domain_data: Domain_Data\n",
      "  activity: Activity\n",
      "  stakeholder: Stakeholder\n",
      "  system_function: System_Function\n",
      "  interaction: Interaction\n",
      "  interaction_data: Interaction_Data\n",
      "  workspace: Workspace\n",
      "  software: System_Level\n",
      "  internal_action: System_Level\n",
      "  internal_data: System_Level\n",
      "  system_level: System_Level\n",
      "\n",
      "07:24:06 INFO:New experiment. Running\n",
      "07:24:06 INFO:Entering mlflow context\n",
      "07:24:07 INFO:Importing dataset: anno from /Users/bockstaller/code/uvl-tore-classifier-bert/src/data/datasets/forum/anno_test.json\n",
      "07:24:07 INFO:Importing dataset: anno from /Users/bockstaller/code/uvl-tore-classifier-bert/src/data/datasets/forum/anno_train.json\n",
      "07:24:07 INFO:Importing dataset: prolific from /Users/bockstaller/code/uvl-tore-classifier-bert/src/data/datasets/prolific/TORE_Coded_Answers_1_33.json\n",
      "07:24:08 INFO:Importing dataset: prolific from /Users/bockstaller/code/uvl-tore-classifier-bert/src/data/datasets/prolific/TORE_Coded_Answers_34_66.json\n",
      "07:24:08 INFO:Importing dataset: prolific from /Users/bockstaller/code/uvl-tore-classifier-bert/src/data/datasets/prolific/TORE_Coded_Answers_67_100.json\n",
      "07:24:08 INFO:Importing dataset: komoot from /Users/bockstaller/code/uvl-tore-classifier-bert/src/data/datasets/app/Komoot_AppReview.json\n",
      "07:24:12 INFO:Dataset Labels: transformed_dataset['labels']=['Stakeholder', 'Activity', 'Domain_Data', 'Interaction', 'Interaction_Data', 'System_Function', 'System_Level', 'Task', '0', 'Workspace']\n",
      "07:24:12 INFO:Class weights: {'0': 0.13494545, 'Task': 8.320833, 'Domain_Data': 2.52101, 'Activity': 9.136601, 'Stakeholder': 9.949466, 'System_Function': 3.0622125, 'Interaction': 1.9934403, 'Interaction_Data': 1.877636, 'Workspace': 8.903822, 'System_Level': 2.5661314}\n",
      "07:24:12 INFO:Configured maximal token sequence length: max_len = 123\n",
      "07:24:15 INFO:Created fold datasets for fold: 0, stored at paths=[PosixPath('/Users/bockstaller/code/uvl-tore-classifier-bert/src/data/temp/sampling/languid-bug-961/0_data_train.pickle'), PosixPath('/Users/bockstaller/code/uvl-tore-classifier-bert/src/data/temp/sampling/languid-bug-961/0_data_train.csv'), PosixPath('/Users/bockstaller/code/uvl-tore-classifier-bert/src/data/temp/sampling/languid-bug-961/0_data_test.pickle'), PosixPath('/Users/bockstaller/code/uvl-tore-classifier-bert/src/data/temp/sampling/languid-bug-961/0_data_test.csv')]\n",
      "07:24:15 INFO:Starting iteration=0\n",
      "07:24:15 INFO:Found existing run with run_id: 97f6d3072d1644f6a08c33ebc3c165b5 matching the configuration\n",
      "07:24:16 INFO:Downloading run model from mlflow-artifacts:/6/97f6d3072d1644f6a08c33ebc3c165b5/artifacts/0_model\n"
     ]
    },
    {
     "data": {
      "application/vnd.jupyter.widget-view+json": {
       "model_id": "5460b48d9753448d82c3f7c2f44ef0a8",
       "version_major": 2,
       "version_minor": 0
      },
      "text/plain": [
       "Downloading artifacts:   0%|          | 0/5 [00:00<?, ?it/s]"
      ]
     },
     "metadata": {},
     "output_type": "display_data"
    },
    {
     "name": "stderr",
     "output_type": "stream",
     "text": [
      "07:24:23 INFO:loading projection weights from /Users/bockstaller/gensim-data/glove-twitter-100/glove-twitter-100.gz\n",
      "07:24:59 INFO:KeyedVectors lifecycle event {'msg': 'loaded (1193514, 100) matrix of type float32 from /Users/bockstaller/gensim-data/glove-twitter-100/glove-twitter-100.gz', 'binary': False, 'encoding': 'utf8', 'datetime': '2023-10-14T19:24:59.451313', 'gensim': '4.3.2', 'python': '3.11.4 (main, Jun 20 2023, 19:14:10) [Clang 14.0.3 (clang-1403.0.22.14.1)]', 'platform': 'macOS-14.0-arm64-arm-64bit', 'event': 'load_word2vec_format'}\n",
      "2023-10-14 19:24:59.854811: I metal_plugin/src/device/metal_device.cc:1154] Metal device set to: Apple M2 Pro\n",
      "2023-10-14 19:24:59.854864: I metal_plugin/src/device/metal_device.cc:296] systemMemory: 32.00 GB\n",
      "2023-10-14 19:24:59.854868: I metal_plugin/src/device/metal_device.cc:313] maxCacheSize: 10.67 GB\n",
      "2023-10-14 19:24:59.854938: I tensorflow/core/common_runtime/pluggable_device/pluggable_device_factory.cc:303] Could not identify NUMA node of platform GPU ID 0, defaulting to 0. Your kernel may not have been built with NUMA support.\n",
      "2023-10-14 19:24:59.855164: I tensorflow/core/common_runtime/pluggable_device/pluggable_device_factory.cc:269] Created TensorFlow device (/job:localhost/replica:0/task:0/device:GPU:0 with 0 MB memory) -> physical PluggableDevice (device: 0, name: METAL, pci bus id: <undefined>)\n",
      "2023-10-14 19:25:32.181733: I tensorflow/core/grappler/optimizers/custom_graph_optimizer_registry.cc:114] Plugin optimizer for device_type GPU is enabled.\n",
      "2023-10-14 19:25:32.327377: I tensorflow/core/grappler/optimizers/custom_graph_optimizer_registry.cc:114] Plugin optimizer for device_type GPU is enabled.\n",
      "2023-10-14 19:25:32.339088: I tensorflow/core/grappler/optimizers/custom_graph_optimizer_registry.cc:114] Plugin optimizer for device_type GPU is enabled.\n",
      "2023-10-14 19:25:33.385756: I tensorflow/core/grappler/optimizers/custom_graph_optimizer_registry.cc:114] Plugin optimizer for device_type GPU is enabled.\n",
      "2023-10-14 19:25:33.396725: I tensorflow/core/grappler/optimizers/custom_graph_optimizer_registry.cc:114] Plugin optimizer for device_type GPU is enabled.\n"
     ]
    },
    {
     "name": "stdout",
     "output_type": "stream",
     "text": [
      "78/78 [==============================] - 5s 32ms/step\n"
     ]
    },
    {
     "data": {
      "application/vnd.jupyter.widget-view+json": {
       "model_id": "7fe69bab9b03446fb3d47a5b82efe5dc",
       "version_major": 2,
       "version_minor": 0
      },
      "text/plain": [
       "Map:   0%|          | 0/2488 [00:00<?, ? examples/s]"
      ]
     },
     "metadata": {},
     "output_type": "display_data"
    },
    {
     "name": "stderr",
     "output_type": "stream",
     "text": [
      "2023-10-14 19:25:47.669802: I tensorflow/core/grappler/optimizers/custom_graph_optimizer_registry.cc:114] Plugin optimizer for device_type GPU is enabled.\n",
      "2023-10-14 19:25:47.781038: I tensorflow/core/grappler/optimizers/custom_graph_optimizer_registry.cc:114] Plugin optimizer for device_type GPU is enabled.\n",
      "2023-10-14 19:25:47.793333: I tensorflow/core/grappler/optimizers/custom_graph_optimizer_registry.cc:114] Plugin optimizer for device_type GPU is enabled.\n",
      "2023-10-14 19:25:48.795220: I tensorflow/core/grappler/optimizers/custom_graph_optimizer_registry.cc:114] Plugin optimizer for device_type GPU is enabled.\n",
      "2023-10-14 19:25:48.806596: I tensorflow/core/grappler/optimizers/custom_graph_optimizer_registry.cc:114] Plugin optimizer for device_type GPU is enabled.\n"
     ]
    },
    {
     "name": "stdout",
     "output_type": "stream",
     "text": [
      "20/20 [==============================] - 4s 54ms/step\n"
     ]
    },
    {
     "data": {
      "application/vnd.jupyter.widget-view+json": {
       "model_id": "b628446704424af183b16ff82de27138",
       "version_major": 2,
       "version_minor": 0
      },
      "text/plain": [
       "Map:   0%|          | 0/622 [00:00<?, ? examples/s]"
      ]
     },
     "metadata": {},
     "output_type": "display_data"
    },
    {
     "name": "stdout",
     "output_type": "stream",
     "text": [
      "Test\n",
      "StagedBertForTokenClassification(\n",
      "  (bert): BertModel(\n",
      "    (embeddings): BertEmbeddings(\n",
      "      (word_embeddings): Embedding(30522, 768, padding_idx=0)\n",
      "      (position_embeddings): Embedding(512, 768)\n",
      "      (token_type_embeddings): Embedding(2, 768)\n",
      "      (LayerNorm): LayerNorm((768,), eps=1e-12, elementwise_affine=True)\n",
      "      (dropout): Dropout(p=0.1, inplace=False)\n",
      "    )\n",
      "    (encoder): BertEncoder(\n",
      "      (layer): ModuleList(\n",
      "        (0-11): 12 x BertLayer(\n",
      "          (attention): BertAttention(\n",
      "            (self): BertSelfAttention(\n",
      "              (query): Linear(in_features=768, out_features=768, bias=True)\n",
      "              (key): Linear(in_features=768, out_features=768, bias=True)\n",
      "              (value): Linear(in_features=768, out_features=768, bias=True)\n",
      "              (dropout): Dropout(p=0.1, inplace=False)\n",
      "            )\n",
      "            (output): BertSelfOutput(\n",
      "              (dense): Linear(in_features=768, out_features=768, bias=True)\n",
      "              (LayerNorm): LayerNorm((768,), eps=1e-12, elementwise_affine=True)\n",
      "              (dropout): Dropout(p=0.1, inplace=False)\n",
      "            )\n",
      "          )\n",
      "          (intermediate): BertIntermediate(\n",
      "            (dense): Linear(in_features=768, out_features=3072, bias=True)\n",
      "            (intermediate_act_fn): GELUActivation()\n",
      "          )\n",
      "          (output): BertOutput(\n",
      "            (dense): Linear(in_features=3072, out_features=768, bias=True)\n",
      "            (LayerNorm): LayerNorm((768,), eps=1e-12, elementwise_affine=True)\n",
      "            (dropout): Dropout(p=0.1, inplace=False)\n",
      "          )\n",
      "        )\n",
      "      )\n",
      "    )\n",
      "  )\n",
      "  (dropout): Dropout(p=0.1, inplace=False)\n",
      "  (out_layers): Sequential(\n",
      "    (0): Linear(in_features=772, out_features=10, bias=True)\n",
      "  )\n",
      ")\n"
     ]
    },
    {
     "name": "stderr",
     "output_type": "stream",
     "text": [
      "07:27:31 INFO:Logged iteration result res.precision=0.4704672905782242 res.recall=0.594022454878395\n"
     ]
    },
    {
     "name": "stdout",
     "output_type": "stream",
     "text": [
      "{'eval_loss': 2.0544893741607666, 'eval_step': 0, 'eval_precision': 0.4704672905782242, 'eval_recall': 0.594022454878395, 'eval_f1': 0.5250743580801418, 'eval_label_count': 10, 'eval_runtime': 5.5563, 'eval_samples_per_second': 111.944, 'eval_steps_per_second': 3.599, 'epoch': 1.0}\n",
      "{'loss': 2.4438, 'learning_rate': 2.0353697749196142e-05, 'epoch': 1.61}\n"
     ]
    },
    {
     "name": "stderr",
     "output_type": "stream",
     "text": [
      "07:29:11 INFO:Logged iteration result res.precision=0.5122574897174277 res.recall=0.6082409128690053\n"
     ]
    },
    {
     "name": "stdout",
     "output_type": "stream",
     "text": [
      "{'eval_loss': 1.6727495193481445, 'eval_step': 2, 'eval_precision': 0.5122574897174277, 'eval_recall': 0.6082409128690053, 'eval_f1': 0.5561381657492884, 'eval_label_count': 10, 'eval_runtime': 5.5773, 'eval_samples_per_second': 111.523, 'eval_steps_per_second': 3.586, 'epoch': 2.0}\n"
     ]
    },
    {
     "name": "stderr",
     "output_type": "stream",
     "text": [
      "07:30:52 INFO:Logged iteration result res.precision=0.4866336073441313 res.recall=0.6863594632861449\n"
     ]
    },
    {
     "name": "stdout",
     "output_type": "stream",
     "text": [
      "{'eval_loss': 1.1428433656692505, 'eval_step': 4, 'eval_precision': 0.4866336073441313, 'eval_recall': 0.6863594632861449, 'eval_f1': 0.5694928468319931, 'eval_label_count': 10, 'eval_runtime': 5.9481, 'eval_samples_per_second': 104.571, 'eval_steps_per_second': 3.362, 'epoch': 3.0}\n",
      "{'loss': 0.8998, 'learning_rate': 1.0707395498392284e-05, 'epoch': 3.22}\n"
     ]
    },
    {
     "name": "stderr",
     "output_type": "stream",
     "text": [
      "07:32:33 INFO:Logged iteration result res.precision=0.5392452192659986 res.recall=0.6753779615216206\n"
     ]
    },
    {
     "name": "stdout",
     "output_type": "stream",
     "text": [
      "{'eval_loss': 1.3104873895645142, 'eval_step': 6, 'eval_precision': 0.5392452192659986, 'eval_recall': 0.6753779615216206, 'eval_f1': 0.5996828361401576, 'eval_label_count': 10, 'eval_runtime': 5.6745, 'eval_samples_per_second': 109.613, 'eval_steps_per_second': 3.525, 'epoch': 4.0}\n",
      "{'loss': 0.443, 'learning_rate': 1.0610932475884245e-06, 'epoch': 4.82}\n"
     ]
    },
    {
     "name": "stderr",
     "output_type": "stream",
     "text": [
      "07:34:14 INFO:Logged iteration result res.precision=0.5501634843310629 res.recall=0.6859794122105667\n"
     ]
    },
    {
     "name": "stdout",
     "output_type": "stream",
     "text": [
      "{'eval_loss': 1.280669927597046, 'eval_step': 8, 'eval_precision': 0.5501634843310629, 'eval_recall': 0.6859794122105667, 'eval_f1': 0.6106103504004242, 'eval_label_count': 10, 'eval_runtime': 5.6611, 'eval_samples_per_second': 109.872, 'eval_steps_per_second': 3.533, 'epoch': 5.0}\n",
      "{'train_runtime': 504.2275, 'train_samples_per_second': 24.671, 'train_steps_per_second': 3.084, 'train_loss': 1.2275875152882272, 'epoch': 5.0}\n"
     ]
    },
    {
     "name": "stderr",
     "output_type": "stream",
     "text": [
      "07:34:23 INFO:Logged iteration result res.precision=0.5501634843310629 res.recall=0.6859794122105667\n",
      "07:34:24 INFO:Logged iteration result res.precision=0.5501634843310629 res.recall=0.6859794122105667\n",
      "07:34:24 INFO:Finished iteration=0\n",
      "07:34:24 INFO:Logging model artifact (might take a while)\n",
      "07:36:22 INFO:Created fold datasets for fold: 1, stored at paths=[PosixPath('/Users/bockstaller/code/uvl-tore-classifier-bert/src/data/temp/sampling/languid-bug-961/1_data_train.pickle'), PosixPath('/Users/bockstaller/code/uvl-tore-classifier-bert/src/data/temp/sampling/languid-bug-961/1_data_train.csv'), PosixPath('/Users/bockstaller/code/uvl-tore-classifier-bert/src/data/temp/sampling/languid-bug-961/1_data_test.pickle'), PosixPath('/Users/bockstaller/code/uvl-tore-classifier-bert/src/data/temp/sampling/languid-bug-961/1_data_test.csv')]\n",
      "07:36:22 INFO:Starting iteration=1\n",
      "07:36:24 INFO:Found existing run with run_id: 97f6d3072d1644f6a08c33ebc3c165b5 matching the configuration\n",
      "07:36:24 INFO:Downloading run model from mlflow-artifacts:/6/97f6d3072d1644f6a08c33ebc3c165b5/artifacts/1_model\n"
     ]
    },
    {
     "data": {
      "application/vnd.jupyter.widget-view+json": {
       "model_id": "4a7c89ae79c644269fb1195585bc9f0f",
       "version_major": 2,
       "version_minor": 0
      },
      "text/plain": [
       "Downloading artifacts:   0%|          | 0/5 [00:00<?, ?it/s]"
      ]
     },
     "metadata": {},
     "output_type": "display_data"
    },
    {
     "name": "stderr",
     "output_type": "stream",
     "text": [
      "07:36:31 INFO:loading projection weights from /Users/bockstaller/gensim-data/glove-twitter-100/glove-twitter-100.gz\n",
      "07:37:09 INFO:KeyedVectors lifecycle event {'msg': 'loaded (1193514, 100) matrix of type float32 from /Users/bockstaller/gensim-data/glove-twitter-100/glove-twitter-100.gz', 'binary': False, 'encoding': 'utf8', 'datetime': '2023-10-14T19:37:09.099439', 'gensim': '4.3.2', 'python': '3.11.4 (main, Jun 20 2023, 19:14:10) [Clang 14.0.3 (clang-1403.0.22.14.1)]', 'platform': 'macOS-14.0-arm64-arm-64bit', 'event': 'load_word2vec_format'}\n",
      "2023-10-14 19:37:41.636452: I tensorflow/core/grappler/optimizers/custom_graph_optimizer_registry.cc:114] Plugin optimizer for device_type GPU is enabled.\n",
      "2023-10-14 19:37:41.749891: I tensorflow/core/grappler/optimizers/custom_graph_optimizer_registry.cc:114] Plugin optimizer for device_type GPU is enabled.\n",
      "2023-10-14 19:37:41.763465: I tensorflow/core/grappler/optimizers/custom_graph_optimizer_registry.cc:114] Plugin optimizer for device_type GPU is enabled.\n",
      "2023-10-14 19:37:42.794685: I tensorflow/core/grappler/optimizers/custom_graph_optimizer_registry.cc:114] Plugin optimizer for device_type GPU is enabled.\n",
      "2023-10-14 19:37:42.806011: I tensorflow/core/grappler/optimizers/custom_graph_optimizer_registry.cc:114] Plugin optimizer for device_type GPU is enabled.\n"
     ]
    },
    {
     "name": "stdout",
     "output_type": "stream",
     "text": [
      "78/78 [==============================] - 5s 31ms/step\n"
     ]
    },
    {
     "data": {
      "application/vnd.jupyter.widget-view+json": {
       "model_id": "fdfffdb8788645908c0eb7e74c799ee3",
       "version_major": 2,
       "version_minor": 0
      },
      "text/plain": [
       "Map:   0%|          | 0/2488 [00:00<?, ? examples/s]"
      ]
     },
     "metadata": {},
     "output_type": "display_data"
    },
    {
     "name": "stderr",
     "output_type": "stream",
     "text": [
      "2023-10-14 19:37:57.005098: I tensorflow/core/grappler/optimizers/custom_graph_optimizer_registry.cc:114] Plugin optimizer for device_type GPU is enabled.\n",
      "2023-10-14 19:37:57.118741: I tensorflow/core/grappler/optimizers/custom_graph_optimizer_registry.cc:114] Plugin optimizer for device_type GPU is enabled.\n",
      "2023-10-14 19:37:57.130965: I tensorflow/core/grappler/optimizers/custom_graph_optimizer_registry.cc:114] Plugin optimizer for device_type GPU is enabled.\n",
      "2023-10-14 19:37:58.157904: I tensorflow/core/grappler/optimizers/custom_graph_optimizer_registry.cc:114] Plugin optimizer for device_type GPU is enabled.\n",
      "2023-10-14 19:37:58.169238: I tensorflow/core/grappler/optimizers/custom_graph_optimizer_registry.cc:114] Plugin optimizer for device_type GPU is enabled.\n"
     ]
    },
    {
     "name": "stdout",
     "output_type": "stream",
     "text": [
      "20/20 [==============================] - 3s 47ms/step\n"
     ]
    },
    {
     "data": {
      "application/vnd.jupyter.widget-view+json": {
       "model_id": "b928fea4e2244377a2430553648af4bb",
       "version_major": 2,
       "version_minor": 0
      },
      "text/plain": [
       "Map:   0%|          | 0/622 [00:00<?, ? examples/s]"
      ]
     },
     "metadata": {},
     "output_type": "display_data"
    },
    {
     "name": "stdout",
     "output_type": "stream",
     "text": [
      "Test\n",
      "StagedBertForTokenClassification(\n",
      "  (bert): BertModel(\n",
      "    (embeddings): BertEmbeddings(\n",
      "      (word_embeddings): Embedding(30522, 768, padding_idx=0)\n",
      "      (position_embeddings): Embedding(512, 768)\n",
      "      (token_type_embeddings): Embedding(2, 768)\n",
      "      (LayerNorm): LayerNorm((768,), eps=1e-12, elementwise_affine=True)\n",
      "      (dropout): Dropout(p=0.1, inplace=False)\n",
      "    )\n",
      "    (encoder): BertEncoder(\n",
      "      (layer): ModuleList(\n",
      "        (0-11): 12 x BertLayer(\n",
      "          (attention): BertAttention(\n",
      "            (self): BertSelfAttention(\n",
      "              (query): Linear(in_features=768, out_features=768, bias=True)\n",
      "              (key): Linear(in_features=768, out_features=768, bias=True)\n",
      "              (value): Linear(in_features=768, out_features=768, bias=True)\n",
      "              (dropout): Dropout(p=0.1, inplace=False)\n",
      "            )\n",
      "            (output): BertSelfOutput(\n",
      "              (dense): Linear(in_features=768, out_features=768, bias=True)\n",
      "              (LayerNorm): LayerNorm((768,), eps=1e-12, elementwise_affine=True)\n",
      "              (dropout): Dropout(p=0.1, inplace=False)\n",
      "            )\n",
      "          )\n",
      "          (intermediate): BertIntermediate(\n",
      "            (dense): Linear(in_features=768, out_features=3072, bias=True)\n",
      "            (intermediate_act_fn): GELUActivation()\n",
      "          )\n",
      "          (output): BertOutput(\n",
      "            (dense): Linear(in_features=3072, out_features=768, bias=True)\n",
      "            (LayerNorm): LayerNorm((768,), eps=1e-12, elementwise_affine=True)\n",
      "            (dropout): Dropout(p=0.1, inplace=False)\n",
      "          )\n",
      "        )\n",
      "      )\n",
      "    )\n",
      "  )\n",
      "  (dropout): Dropout(p=0.1, inplace=False)\n",
      "  (out_layers): Sequential(\n",
      "    (0): Linear(in_features=772, out_features=10, bias=True)\n",
      "  )\n",
      ")\n"
     ]
    },
    {
     "name": "stderr",
     "output_type": "stream",
     "text": [
      "07:39:40 INFO:Logged iteration result res.precision=0.5034964217418884 res.recall=0.6072564022123539\n"
     ]
    },
    {
     "name": "stdout",
     "output_type": "stream",
     "text": [
      "{'eval_loss': 1.5170058012008667, 'eval_step': 0, 'eval_precision': 0.5034964217418884, 'eval_recall': 0.6072564022123539, 'eval_f1': 0.5505300891431604, 'eval_label_count': 10, 'eval_runtime': 5.8588, 'eval_samples_per_second': 106.166, 'eval_steps_per_second': 3.414, 'epoch': 1.0}\n",
      "{'loss': 2.1479, 'learning_rate': 2.0353697749196142e-05, 'epoch': 1.61}\n"
     ]
    },
    {
     "name": "stderr",
     "output_type": "stream",
     "text": [
      "07:41:21 INFO:Logged iteration result res.precision=0.5070145232807999 res.recall=0.6241145335993995\n"
     ]
    },
    {
     "name": "stdout",
     "output_type": "stream",
     "text": [
      "{'eval_loss': 1.5515938997268677, 'eval_step': 2, 'eval_precision': 0.5070145232807999, 'eval_recall': 0.6241145335993995, 'eval_f1': 0.5595031456415548, 'eval_label_count': 10, 'eval_runtime': 6.2382, 'eval_samples_per_second': 99.709, 'eval_steps_per_second': 3.206, 'epoch': 2.0}\n"
     ]
    },
    {
     "name": "stderr",
     "output_type": "stream",
     "text": [
      "07:43:02 INFO:Logged iteration result res.precision=0.4950435771147516 res.recall=0.6699432695183577\n"
     ]
    },
    {
     "name": "stdout",
     "output_type": "stream",
     "text": [
      "{'eval_loss': 1.1251881122589111, 'eval_step': 4, 'eval_precision': 0.4950435771147516, 'eval_recall': 0.6699432695183577, 'eval_f1': 0.5693645616082517, 'eval_label_count': 10, 'eval_runtime': 5.9286, 'eval_samples_per_second': 104.915, 'eval_steps_per_second': 3.373, 'epoch': 3.0}\n",
      "{'loss': 0.8846, 'learning_rate': 1.0707395498392284e-05, 'epoch': 3.22}\n"
     ]
    },
    {
     "name": "stderr",
     "output_type": "stream",
     "text": [
      "07:44:43 INFO:Logged iteration result res.precision=0.5427637353649777 res.recall=0.6549374626447462\n"
     ]
    },
    {
     "name": "stdout",
     "output_type": "stream",
     "text": [
      "{'eval_loss': 1.370863437652588, 'eval_step': 6, 'eval_precision': 0.5427637353649777, 'eval_recall': 0.6549374626447462, 'eval_f1': 0.5935976422938118, 'eval_label_count': 10, 'eval_runtime': 5.8686, 'eval_samples_per_second': 105.987, 'eval_steps_per_second': 3.408, 'epoch': 4.0}\n",
      "{'loss': 0.4114, 'learning_rate': 1.0610932475884245e-06, 'epoch': 4.82}\n"
     ]
    },
    {
     "name": "stderr",
     "output_type": "stream",
     "text": [
      "07:46:25 INFO:Logged iteration result res.precision=0.5516159313471146 res.recall=0.6797327222615943\n"
     ]
    },
    {
     "name": "stdout",
     "output_type": "stream",
     "text": [
      "{'eval_loss': 1.2967681884765625, 'eval_step': 8, 'eval_precision': 0.5516159313471146, 'eval_recall': 0.6797327222615943, 'eval_f1': 0.609009312770303, 'eval_label_count': 10, 'eval_runtime': 5.6176, 'eval_samples_per_second': 110.723, 'eval_steps_per_second': 3.56, 'epoch': 5.0}\n",
      "{'train_runtime': 505.6932, 'train_samples_per_second': 24.6, 'train_steps_per_second': 3.075, 'train_loss': 1.1174759039924842, 'epoch': 5.0}\n"
     ]
    },
    {
     "name": "stderr",
     "output_type": "stream",
     "text": [
      "07:46:34 INFO:Logged iteration result res.precision=0.5516159313471146 res.recall=0.6797327222615943\n",
      "07:46:35 INFO:Logged iteration result res.precision=0.5516159313471146 res.recall=0.6797327222615943\n",
      "07:46:35 INFO:Finished iteration=1\n",
      "07:46:35 INFO:Logging model artifact (might take a while)\n",
      "07:48:33 INFO:Created fold datasets for fold: 2, stored at paths=[PosixPath('/Users/bockstaller/code/uvl-tore-classifier-bert/src/data/temp/sampling/languid-bug-961/2_data_train.pickle'), PosixPath('/Users/bockstaller/code/uvl-tore-classifier-bert/src/data/temp/sampling/languid-bug-961/2_data_train.csv'), PosixPath('/Users/bockstaller/code/uvl-tore-classifier-bert/src/data/temp/sampling/languid-bug-961/2_data_test.pickle'), PosixPath('/Users/bockstaller/code/uvl-tore-classifier-bert/src/data/temp/sampling/languid-bug-961/2_data_test.csv')]\n",
      "07:48:33 INFO:Starting iteration=2\n",
      "07:48:34 INFO:Found existing run with run_id: 97f6d3072d1644f6a08c33ebc3c165b5 matching the configuration\n",
      "07:48:34 INFO:Downloading run model from mlflow-artifacts:/6/97f6d3072d1644f6a08c33ebc3c165b5/artifacts/2_model\n"
     ]
    },
    {
     "data": {
      "application/vnd.jupyter.widget-view+json": {
       "model_id": "a2408f77a50348c8a414af182f31f448",
       "version_major": 2,
       "version_minor": 0
      },
      "text/plain": [
       "Downloading artifacts:   0%|          | 0/5 [00:00<?, ?it/s]"
      ]
     },
     "metadata": {},
     "output_type": "display_data"
    },
    {
     "name": "stderr",
     "output_type": "stream",
     "text": [
      "07:48:40 INFO:loading projection weights from /Users/bockstaller/gensim-data/glove-twitter-100/glove-twitter-100.gz\n",
      "07:49:17 INFO:KeyedVectors lifecycle event {'msg': 'loaded (1193514, 100) matrix of type float32 from /Users/bockstaller/gensim-data/glove-twitter-100/glove-twitter-100.gz', 'binary': False, 'encoding': 'utf8', 'datetime': '2023-10-14T19:49:17.839321', 'gensim': '4.3.2', 'python': '3.11.4 (main, Jun 20 2023, 19:14:10) [Clang 14.0.3 (clang-1403.0.22.14.1)]', 'platform': 'macOS-14.0-arm64-arm-64bit', 'event': 'load_word2vec_format'}\n",
      "2023-10-14 19:49:50.599879: I tensorflow/core/grappler/optimizers/custom_graph_optimizer_registry.cc:114] Plugin optimizer for device_type GPU is enabled.\n",
      "2023-10-14 19:49:50.714540: I tensorflow/core/grappler/optimizers/custom_graph_optimizer_registry.cc:114] Plugin optimizer for device_type GPU is enabled.\n",
      "2023-10-14 19:49:50.728311: I tensorflow/core/grappler/optimizers/custom_graph_optimizer_registry.cc:114] Plugin optimizer for device_type GPU is enabled.\n",
      "2023-10-14 19:49:51.776950: I tensorflow/core/grappler/optimizers/custom_graph_optimizer_registry.cc:114] Plugin optimizer for device_type GPU is enabled.\n",
      "2023-10-14 19:49:51.788101: I tensorflow/core/grappler/optimizers/custom_graph_optimizer_registry.cc:114] Plugin optimizer for device_type GPU is enabled.\n"
     ]
    },
    {
     "name": "stdout",
     "output_type": "stream",
     "text": [
      "78/78 [==============================] - 5s 31ms/step\n"
     ]
    },
    {
     "data": {
      "application/vnd.jupyter.widget-view+json": {
       "model_id": "696662f3306849e4a720c032c9586534",
       "version_major": 2,
       "version_minor": 0
      },
      "text/plain": [
       "Map:   0%|          | 0/2488 [00:00<?, ? examples/s]"
      ]
     },
     "metadata": {},
     "output_type": "display_data"
    },
    {
     "name": "stderr",
     "output_type": "stream",
     "text": [
      "2023-10-14 19:50:05.531114: I tensorflow/core/grappler/optimizers/custom_graph_optimizer_registry.cc:114] Plugin optimizer for device_type GPU is enabled.\n",
      "2023-10-14 19:50:05.645477: I tensorflow/core/grappler/optimizers/custom_graph_optimizer_registry.cc:114] Plugin optimizer for device_type GPU is enabled.\n",
      "2023-10-14 19:50:05.658126: I tensorflow/core/grappler/optimizers/custom_graph_optimizer_registry.cc:114] Plugin optimizer for device_type GPU is enabled.\n",
      "2023-10-14 19:50:06.681404: I tensorflow/core/grappler/optimizers/custom_graph_optimizer_registry.cc:114] Plugin optimizer for device_type GPU is enabled.\n",
      "2023-10-14 19:50:06.692535: I tensorflow/core/grappler/optimizers/custom_graph_optimizer_registry.cc:114] Plugin optimizer for device_type GPU is enabled.\n"
     ]
    },
    {
     "name": "stdout",
     "output_type": "stream",
     "text": [
      "20/20 [==============================] - 3s 47ms/step\n"
     ]
    },
    {
     "data": {
      "application/vnd.jupyter.widget-view+json": {
       "model_id": "cb823bb76b9646d2867db95189944585",
       "version_major": 2,
       "version_minor": 0
      },
      "text/plain": [
       "Map:   0%|          | 0/622 [00:00<?, ? examples/s]"
      ]
     },
     "metadata": {},
     "output_type": "display_data"
    },
    {
     "name": "stdout",
     "output_type": "stream",
     "text": [
      "Test\n",
      "StagedBertForTokenClassification(\n",
      "  (bert): BertModel(\n",
      "    (embeddings): BertEmbeddings(\n",
      "      (word_embeddings): Embedding(30522, 768, padding_idx=0)\n",
      "      (position_embeddings): Embedding(512, 768)\n",
      "      (token_type_embeddings): Embedding(2, 768)\n",
      "      (LayerNorm): LayerNorm((768,), eps=1e-12, elementwise_affine=True)\n",
      "      (dropout): Dropout(p=0.1, inplace=False)\n",
      "    )\n",
      "    (encoder): BertEncoder(\n",
      "      (layer): ModuleList(\n",
      "        (0-11): 12 x BertLayer(\n",
      "          (attention): BertAttention(\n",
      "            (self): BertSelfAttention(\n",
      "              (query): Linear(in_features=768, out_features=768, bias=True)\n",
      "              (key): Linear(in_features=768, out_features=768, bias=True)\n",
      "              (value): Linear(in_features=768, out_features=768, bias=True)\n",
      "              (dropout): Dropout(p=0.1, inplace=False)\n",
      "            )\n",
      "            (output): BertSelfOutput(\n",
      "              (dense): Linear(in_features=768, out_features=768, bias=True)\n",
      "              (LayerNorm): LayerNorm((768,), eps=1e-12, elementwise_affine=True)\n",
      "              (dropout): Dropout(p=0.1, inplace=False)\n",
      "            )\n",
      "          )\n",
      "          (intermediate): BertIntermediate(\n",
      "            (dense): Linear(in_features=768, out_features=3072, bias=True)\n",
      "            (intermediate_act_fn): GELUActivation()\n",
      "          )\n",
      "          (output): BertOutput(\n",
      "            (dense): Linear(in_features=3072, out_features=768, bias=True)\n",
      "            (LayerNorm): LayerNorm((768,), eps=1e-12, elementwise_affine=True)\n",
      "            (dropout): Dropout(p=0.1, inplace=False)\n",
      "          )\n",
      "        )\n",
      "      )\n",
      "    )\n",
      "  )\n",
      "  (dropout): Dropout(p=0.1, inplace=False)\n",
      "  (out_layers): Sequential(\n",
      "    (0): Linear(in_features=772, out_features=10, bias=True)\n",
      "  )\n",
      ")\n"
     ]
    },
    {
     "name": "stderr",
     "output_type": "stream",
     "text": [
      "07:51:49 INFO:Logged iteration result res.precision=0.478381686220165 res.recall=0.6051276245348267\n"
     ]
    },
    {
     "name": "stdout",
     "output_type": "stream",
     "text": [
      "{'eval_loss': 1.5248245000839233, 'eval_step': 0, 'eval_precision': 0.478381686220165, 'eval_recall': 0.6051276245348267, 'eval_f1': 0.5343414597917235, 'eval_label_count': 10, 'eval_runtime': 6.0761, 'eval_samples_per_second': 102.368, 'eval_steps_per_second': 3.292, 'epoch': 1.0}\n",
      "{'loss': 2.0678, 'learning_rate': 2.0353697749196142e-05, 'epoch': 1.61}\n"
     ]
    },
    {
     "name": "stderr",
     "output_type": "stream",
     "text": [
      "07:53:30 INFO:Logged iteration result res.precision=0.45162393474852597 res.recall=0.5878873367211955\n"
     ]
    },
    {
     "name": "stdout",
     "output_type": "stream",
     "text": [
      "{'eval_loss': 2.0167582035064697, 'eval_step': 2, 'eval_precision': 0.45162393474852597, 'eval_recall': 0.5878873367211955, 'eval_f1': 0.5108246528649429, 'eval_label_count': 10, 'eval_runtime': 5.6499, 'eval_samples_per_second': 110.091, 'eval_steps_per_second': 3.54, 'epoch': 2.0}\n"
     ]
    },
    {
     "name": "stderr",
     "output_type": "stream",
     "text": [
      "07:55:10 INFO:Logged iteration result res.precision=0.5849730769847505 res.recall=0.6065417309626577\n"
     ]
    },
    {
     "name": "stdout",
     "output_type": "stream",
     "text": [
      "{'eval_loss': 1.7002062797546387, 'eval_step': 4, 'eval_precision': 0.5849730769847505, 'eval_recall': 0.6065417309626577, 'eval_f1': 0.5955621874177218, 'eval_label_count': 10, 'eval_runtime': 5.6875, 'eval_samples_per_second': 109.363, 'eval_steps_per_second': 3.516, 'epoch': 3.0}\n",
      "{'loss': 0.8413, 'learning_rate': 1.0707395498392284e-05, 'epoch': 3.22}\n"
     ]
    },
    {
     "name": "stderr",
     "output_type": "stream",
     "text": [
      "07:56:52 INFO:Logged iteration result res.precision=0.5532422303594854 res.recall=0.6205921564252973\n"
     ]
    },
    {
     "name": "stdout",
     "output_type": "stream",
     "text": [
      "{'eval_loss': 1.658295750617981, 'eval_step': 6, 'eval_precision': 0.5532422303594854, 'eval_recall': 0.6205921564252973, 'eval_f1': 0.5849850585903539, 'eval_label_count': 10, 'eval_runtime': 5.783, 'eval_samples_per_second': 107.557, 'eval_steps_per_second': 3.458, 'epoch': 4.0}\n",
      "{'loss': 0.3914, 'learning_rate': 1.0610932475884245e-06, 'epoch': 4.82}\n"
     ]
    },
    {
     "name": "stderr",
     "output_type": "stream",
     "text": [
      "07:58:32 INFO:Logged iteration result res.precision=0.555837644416181 res.recall=0.6481692471851302\n"
     ]
    },
    {
     "name": "stdout",
     "output_type": "stream",
     "text": [
      "{'eval_loss': 1.582521915435791, 'eval_step': 8, 'eval_precision': 0.555837644416181, 'eval_recall': 0.6481692471851302, 'eval_f1': 0.5984631318168442, 'eval_label_count': 10, 'eval_runtime': 5.5503, 'eval_samples_per_second': 112.066, 'eval_steps_per_second': 3.603, 'epoch': 5.0}\n",
      "{'train_runtime': 505.137, 'train_samples_per_second': 24.627, 'train_steps_per_second': 3.078, 'train_loss': 1.070613415218243, 'epoch': 5.0}\n"
     ]
    },
    {
     "name": "stderr",
     "output_type": "stream",
     "text": [
      "07:58:42 INFO:Logged iteration result res.precision=0.555837644416181 res.recall=0.6481692471851302\n",
      "07:58:44 INFO:Logged iteration result res.precision=0.555837644416181 res.recall=0.6481692471851302\n",
      "07:58:44 INFO:Finished iteration=2\n",
      "07:58:44 INFO:Logging model artifact (might take a while)\n",
      "08:00:45 INFO:Created fold datasets for fold: 3, stored at paths=[PosixPath('/Users/bockstaller/code/uvl-tore-classifier-bert/src/data/temp/sampling/languid-bug-961/3_data_train.pickle'), PosixPath('/Users/bockstaller/code/uvl-tore-classifier-bert/src/data/temp/sampling/languid-bug-961/3_data_train.csv'), PosixPath('/Users/bockstaller/code/uvl-tore-classifier-bert/src/data/temp/sampling/languid-bug-961/3_data_test.pickle'), PosixPath('/Users/bockstaller/code/uvl-tore-classifier-bert/src/data/temp/sampling/languid-bug-961/3_data_test.csv')]\n",
      "08:00:45 INFO:Starting iteration=3\n",
      "08:00:45 INFO:Found existing run with run_id: 97f6d3072d1644f6a08c33ebc3c165b5 matching the configuration\n",
      "08:00:45 INFO:Downloading run model from mlflow-artifacts:/6/97f6d3072d1644f6a08c33ebc3c165b5/artifacts/3_model\n"
     ]
    },
    {
     "data": {
      "application/vnd.jupyter.widget-view+json": {
       "model_id": "07ecb2504a6c46708b01f974acf15074",
       "version_major": 2,
       "version_minor": 0
      },
      "text/plain": [
       "Downloading artifacts:   0%|          | 0/5 [00:00<?, ?it/s]"
      ]
     },
     "metadata": {},
     "output_type": "display_data"
    },
    {
     "name": "stderr",
     "output_type": "stream",
     "text": [
      "08:00:54 INFO:loading projection weights from /Users/bockstaller/gensim-data/glove-twitter-100/glove-twitter-100.gz\n",
      "08:01:31 INFO:KeyedVectors lifecycle event {'msg': 'loaded (1193514, 100) matrix of type float32 from /Users/bockstaller/gensim-data/glove-twitter-100/glove-twitter-100.gz', 'binary': False, 'encoding': 'utf8', 'datetime': '2023-10-14T20:01:31.144629', 'gensim': '4.3.2', 'python': '3.11.4 (main, Jun 20 2023, 19:14:10) [Clang 14.0.3 (clang-1403.0.22.14.1)]', 'platform': 'macOS-14.0-arm64-arm-64bit', 'event': 'load_word2vec_format'}\n",
      "2023-10-14 20:02:03.788069: I tensorflow/core/grappler/optimizers/custom_graph_optimizer_registry.cc:114] Plugin optimizer for device_type GPU is enabled.\n",
      "2023-10-14 20:02:03.901323: I tensorflow/core/grappler/optimizers/custom_graph_optimizer_registry.cc:114] Plugin optimizer for device_type GPU is enabled.\n",
      "2023-10-14 20:02:03.913419: I tensorflow/core/grappler/optimizers/custom_graph_optimizer_registry.cc:114] Plugin optimizer for device_type GPU is enabled.\n",
      "2023-10-14 20:02:04.964977: I tensorflow/core/grappler/optimizers/custom_graph_optimizer_registry.cc:114] Plugin optimizer for device_type GPU is enabled.\n",
      "2023-10-14 20:02:04.975734: I tensorflow/core/grappler/optimizers/custom_graph_optimizer_registry.cc:114] Plugin optimizer for device_type GPU is enabled.\n"
     ]
    },
    {
     "name": "stdout",
     "output_type": "stream",
     "text": [
      "78/78 [==============================] - 5s 31ms/step\n"
     ]
    },
    {
     "data": {
      "application/vnd.jupyter.widget-view+json": {
       "model_id": "52ab70d0c0b645aa8267703756ad3dcf",
       "version_major": 2,
       "version_minor": 0
      },
      "text/plain": [
       "Map:   0%|          | 0/2488 [00:00<?, ? examples/s]"
      ]
     },
     "metadata": {},
     "output_type": "display_data"
    },
    {
     "name": "stderr",
     "output_type": "stream",
     "text": [
      "2023-10-14 20:02:19.256809: I tensorflow/core/grappler/optimizers/custom_graph_optimizer_registry.cc:114] Plugin optimizer for device_type GPU is enabled.\n",
      "2023-10-14 20:02:19.368465: I tensorflow/core/grappler/optimizers/custom_graph_optimizer_registry.cc:114] Plugin optimizer for device_type GPU is enabled.\n",
      "2023-10-14 20:02:19.380644: I tensorflow/core/grappler/optimizers/custom_graph_optimizer_registry.cc:114] Plugin optimizer for device_type GPU is enabled.\n",
      "2023-10-14 20:02:20.454600: I tensorflow/core/grappler/optimizers/custom_graph_optimizer_registry.cc:114] Plugin optimizer for device_type GPU is enabled.\n",
      "2023-10-14 20:02:20.465312: I tensorflow/core/grappler/optimizers/custom_graph_optimizer_registry.cc:114] Plugin optimizer for device_type GPU is enabled.\n"
     ]
    },
    {
     "name": "stdout",
     "output_type": "stream",
     "text": [
      "20/20 [==============================] - 4s 52ms/step\n"
     ]
    },
    {
     "data": {
      "application/vnd.jupyter.widget-view+json": {
       "model_id": "33e64bef415446fcae6a234b1e2df48e",
       "version_major": 2,
       "version_minor": 0
      },
      "text/plain": [
       "Map:   0%|          | 0/622 [00:00<?, ? examples/s]"
      ]
     },
     "metadata": {},
     "output_type": "display_data"
    },
    {
     "name": "stdout",
     "output_type": "stream",
     "text": [
      "Test\n",
      "StagedBertForTokenClassification(\n",
      "  (bert): BertModel(\n",
      "    (embeddings): BertEmbeddings(\n",
      "      (word_embeddings): Embedding(30522, 768, padding_idx=0)\n",
      "      (position_embeddings): Embedding(512, 768)\n",
      "      (token_type_embeddings): Embedding(2, 768)\n",
      "      (LayerNorm): LayerNorm((768,), eps=1e-12, elementwise_affine=True)\n",
      "      (dropout): Dropout(p=0.1, inplace=False)\n",
      "    )\n",
      "    (encoder): BertEncoder(\n",
      "      (layer): ModuleList(\n",
      "        (0-11): 12 x BertLayer(\n",
      "          (attention): BertAttention(\n",
      "            (self): BertSelfAttention(\n",
      "              (query): Linear(in_features=768, out_features=768, bias=True)\n",
      "              (key): Linear(in_features=768, out_features=768, bias=True)\n",
      "              (value): Linear(in_features=768, out_features=768, bias=True)\n",
      "              (dropout): Dropout(p=0.1, inplace=False)\n",
      "            )\n",
      "            (output): BertSelfOutput(\n",
      "              (dense): Linear(in_features=768, out_features=768, bias=True)\n",
      "              (LayerNorm): LayerNorm((768,), eps=1e-12, elementwise_affine=True)\n",
      "              (dropout): Dropout(p=0.1, inplace=False)\n",
      "            )\n",
      "          )\n",
      "          (intermediate): BertIntermediate(\n",
      "            (dense): Linear(in_features=768, out_features=3072, bias=True)\n",
      "            (intermediate_act_fn): GELUActivation()\n",
      "          )\n",
      "          (output): BertOutput(\n",
      "            (dense): Linear(in_features=3072, out_features=768, bias=True)\n",
      "            (LayerNorm): LayerNorm((768,), eps=1e-12, elementwise_affine=True)\n",
      "            (dropout): Dropout(p=0.1, inplace=False)\n",
      "          )\n",
      "        )\n",
      "      )\n",
      "    )\n",
      "  )\n",
      "  (dropout): Dropout(p=0.1, inplace=False)\n",
      "  (out_layers): Sequential(\n",
      "    (0): Linear(in_features=772, out_features=10, bias=True)\n",
      "  )\n",
      ")\n"
     ]
    },
    {
     "name": "stderr",
     "output_type": "stream",
     "text": [
      "08:04:04 INFO:Logged iteration result res.precision=0.5192365922655274 res.recall=0.605095062752005\n"
     ]
    },
    {
     "name": "stdout",
     "output_type": "stream",
     "text": [
      "{'eval_loss': 1.5644328594207764, 'eval_step': 0, 'eval_precision': 0.5192365922655274, 'eval_recall': 0.605095062752005, 'eval_f1': 0.5588875790838553, 'eval_label_count': 10, 'eval_runtime': 5.9729, 'eval_samples_per_second': 104.138, 'eval_steps_per_second': 3.348, 'epoch': 1.0}\n",
      "{'loss': 2.1522, 'learning_rate': 2.0353697749196142e-05, 'epoch': 1.61}\n"
     ]
    },
    {
     "name": "stderr",
     "output_type": "stream",
     "text": [
      "08:05:46 INFO:Logged iteration result res.precision=0.5112768628295974 res.recall=0.5870661169380902\n"
     ]
    },
    {
     "name": "stdout",
     "output_type": "stream",
     "text": [
      "{'eval_loss': 1.3513480424880981, 'eval_step': 2, 'eval_precision': 0.5112768628295974, 'eval_recall': 0.5870661169380902, 'eval_f1': 0.5465566368078326, 'eval_label_count': 10, 'eval_runtime': 6.147, 'eval_samples_per_second': 101.187, 'eval_steps_per_second': 3.254, 'epoch': 2.0}\n"
     ]
    },
    {
     "name": "stderr",
     "output_type": "stream",
     "text": [
      "08:07:28 INFO:Logged iteration result res.precision=0.42405063723057185 res.recall=0.6492562543889095\n"
     ]
    },
    {
     "name": "stdout",
     "output_type": "stream",
     "text": [
      "{'eval_loss': 1.220123529434204, 'eval_step': 4, 'eval_precision': 0.42405063723057185, 'eval_recall': 0.6492562543889095, 'eval_f1': 0.5130266665559797, 'eval_label_count': 10, 'eval_runtime': 5.7254, 'eval_samples_per_second': 108.638, 'eval_steps_per_second': 3.493, 'epoch': 3.0}\n",
      "{'loss': 0.847, 'learning_rate': 1.0707395498392284e-05, 'epoch': 3.22}\n"
     ]
    },
    {
     "name": "stderr",
     "output_type": "stream",
     "text": [
      "08:09:10 INFO:Logged iteration result res.precision=0.5356363403883633 res.recall=0.6564167915637812\n"
     ]
    },
    {
     "name": "stdout",
     "output_type": "stream",
     "text": [
      "{'eval_loss': 1.392411708831787, 'eval_step': 6, 'eval_precision': 0.5356363403883633, 'eval_recall': 0.6564167915637812, 'eval_f1': 0.5899077458517343, 'eval_label_count': 10, 'eval_runtime': 6.0167, 'eval_samples_per_second': 103.379, 'eval_steps_per_second': 3.324, 'epoch': 4.0}\n",
      "{'loss': 0.4076, 'learning_rate': 1.0610932475884245e-06, 'epoch': 4.82}\n"
     ]
    },
    {
     "name": "stderr",
     "output_type": "stream",
     "text": [
      "08:10:52 INFO:Logged iteration result res.precision=0.5715268243885961 res.recall=0.68337519929152\n"
     ]
    },
    {
     "name": "stdout",
     "output_type": "stream",
     "text": [
      "{'eval_loss': 1.318129539489746, 'eval_step': 8, 'eval_precision': 0.5715268243885961, 'eval_recall': 0.68337519929152, 'eval_f1': 0.6224665354696487, 'eval_label_count': 10, 'eval_runtime': 5.5754, 'eval_samples_per_second': 111.561, 'eval_steps_per_second': 3.587, 'epoch': 5.0}\n",
      "{'train_runtime': 510.7528, 'train_samples_per_second': 24.356, 'train_steps_per_second': 3.045, 'train_loss': 1.105769887844466, 'epoch': 5.0}\n"
     ]
    },
    {
     "name": "stderr",
     "output_type": "stream",
     "text": [
      "08:11:01 INFO:Logged iteration result res.precision=0.5715268243885961 res.recall=0.68337519929152\n",
      "08:11:03 INFO:Logged iteration result res.precision=0.5715268243885961 res.recall=0.68337519929152\n",
      "08:11:03 INFO:Finished iteration=3\n",
      "08:11:03 INFO:Logging model artifact (might take a while)\n",
      "08:13:02 INFO:Created fold datasets for fold: 4, stored at paths=[PosixPath('/Users/bockstaller/code/uvl-tore-classifier-bert/src/data/temp/sampling/languid-bug-961/4_data_train.pickle'), PosixPath('/Users/bockstaller/code/uvl-tore-classifier-bert/src/data/temp/sampling/languid-bug-961/4_data_train.csv'), PosixPath('/Users/bockstaller/code/uvl-tore-classifier-bert/src/data/temp/sampling/languid-bug-961/4_data_test.pickle'), PosixPath('/Users/bockstaller/code/uvl-tore-classifier-bert/src/data/temp/sampling/languid-bug-961/4_data_test.csv')]\n",
      "08:13:02 INFO:Starting iteration=4\n",
      "08:13:02 INFO:Found existing run with run_id: 97f6d3072d1644f6a08c33ebc3c165b5 matching the configuration\n",
      "08:13:02 INFO:Downloading run model from mlflow-artifacts:/6/97f6d3072d1644f6a08c33ebc3c165b5/artifacts/4_model\n"
     ]
    },
    {
     "data": {
      "application/vnd.jupyter.widget-view+json": {
       "model_id": "97413f73860d42e798a491cf026bf760",
       "version_major": 2,
       "version_minor": 0
      },
      "text/plain": [
       "Downloading artifacts:   0%|          | 0/5 [00:00<?, ?it/s]"
      ]
     },
     "metadata": {},
     "output_type": "display_data"
    },
    {
     "name": "stderr",
     "output_type": "stream",
     "text": [
      "08:13:13 INFO:loading projection weights from /Users/bockstaller/gensim-data/glove-twitter-100/glove-twitter-100.gz\n",
      "08:13:50 INFO:KeyedVectors lifecycle event {'msg': 'loaded (1193514, 100) matrix of type float32 from /Users/bockstaller/gensim-data/glove-twitter-100/glove-twitter-100.gz', 'binary': False, 'encoding': 'utf8', 'datetime': '2023-10-14T20:13:50.285146', 'gensim': '4.3.2', 'python': '3.11.4 (main, Jun 20 2023, 19:14:10) [Clang 14.0.3 (clang-1403.0.22.14.1)]', 'platform': 'macOS-14.0-arm64-arm-64bit', 'event': 'load_word2vec_format'}\n",
      "2023-10-14 20:14:23.103307: I tensorflow/core/grappler/optimizers/custom_graph_optimizer_registry.cc:114] Plugin optimizer for device_type GPU is enabled.\n",
      "2023-10-14 20:14:23.216974: I tensorflow/core/grappler/optimizers/custom_graph_optimizer_registry.cc:114] Plugin optimizer for device_type GPU is enabled.\n",
      "2023-10-14 20:14:23.216990: I tensorflow/core/grappler/optimizers/custom_graph_optimizer_registry.cc:114] Plugin optimizer for device_type GPU is enabled.\n",
      "2023-10-14 20:14:24.296976: I tensorflow/core/grappler/optimizers/custom_graph_optimizer_registry.cc:114] Plugin optimizer for device_type GPU is enabled.\n",
      "2023-10-14 20:14:24.308583: I tensorflow/core/grappler/optimizers/custom_graph_optimizer_registry.cc:114] Plugin optimizer for device_type GPU is enabled.\n"
     ]
    },
    {
     "name": "stdout",
     "output_type": "stream",
     "text": [
      "78/78 [==============================] - 5s 31ms/step\n"
     ]
    },
    {
     "data": {
      "application/vnd.jupyter.widget-view+json": {
       "model_id": "87de88bdac104b0699d70b9860c46ad4",
       "version_major": 2,
       "version_minor": 0
      },
      "text/plain": [
       "Map:   0%|          | 0/2488 [00:00<?, ? examples/s]"
      ]
     },
     "metadata": {},
     "output_type": "display_data"
    },
    {
     "name": "stderr",
     "output_type": "stream",
     "text": [
      "2023-10-14 20:14:38.738138: I tensorflow/core/grappler/optimizers/custom_graph_optimizer_registry.cc:114] Plugin optimizer for device_type GPU is enabled.\n",
      "2023-10-14 20:14:38.853816: I tensorflow/core/grappler/optimizers/custom_graph_optimizer_registry.cc:114] Plugin optimizer for device_type GPU is enabled.\n",
      "2023-10-14 20:14:38.865564: I tensorflow/core/grappler/optimizers/custom_graph_optimizer_registry.cc:114] Plugin optimizer for device_type GPU is enabled.\n",
      "2023-10-14 20:14:39.941176: I tensorflow/core/grappler/optimizers/custom_graph_optimizer_registry.cc:114] Plugin optimizer for device_type GPU is enabled.\n",
      "2023-10-14 20:14:39.952312: I tensorflow/core/grappler/optimizers/custom_graph_optimizer_registry.cc:114] Plugin optimizer for device_type GPU is enabled.\n"
     ]
    },
    {
     "name": "stdout",
     "output_type": "stream",
     "text": [
      "20/20 [==============================] - 4s 49ms/step\n"
     ]
    },
    {
     "data": {
      "application/vnd.jupyter.widget-view+json": {
       "model_id": "8f47d1fbb072406e94363545bcde1173",
       "version_major": 2,
       "version_minor": 0
      },
      "text/plain": [
       "Map:   0%|          | 0/622 [00:00<?, ? examples/s]"
      ]
     },
     "metadata": {},
     "output_type": "display_data"
    },
    {
     "name": "stdout",
     "output_type": "stream",
     "text": [
      "Test\n",
      "StagedBertForTokenClassification(\n",
      "  (bert): BertModel(\n",
      "    (embeddings): BertEmbeddings(\n",
      "      (word_embeddings): Embedding(30522, 768, padding_idx=0)\n",
      "      (position_embeddings): Embedding(512, 768)\n",
      "      (token_type_embeddings): Embedding(2, 768)\n",
      "      (LayerNorm): LayerNorm((768,), eps=1e-12, elementwise_affine=True)\n",
      "      (dropout): Dropout(p=0.1, inplace=False)\n",
      "    )\n",
      "    (encoder): BertEncoder(\n",
      "      (layer): ModuleList(\n",
      "        (0-11): 12 x BertLayer(\n",
      "          (attention): BertAttention(\n",
      "            (self): BertSelfAttention(\n",
      "              (query): Linear(in_features=768, out_features=768, bias=True)\n",
      "              (key): Linear(in_features=768, out_features=768, bias=True)\n",
      "              (value): Linear(in_features=768, out_features=768, bias=True)\n",
      "              (dropout): Dropout(p=0.1, inplace=False)\n",
      "            )\n",
      "            (output): BertSelfOutput(\n",
      "              (dense): Linear(in_features=768, out_features=768, bias=True)\n",
      "              (LayerNorm): LayerNorm((768,), eps=1e-12, elementwise_affine=True)\n",
      "              (dropout): Dropout(p=0.1, inplace=False)\n",
      "            )\n",
      "          )\n",
      "          (intermediate): BertIntermediate(\n",
      "            (dense): Linear(in_features=768, out_features=3072, bias=True)\n",
      "            (intermediate_act_fn): GELUActivation()\n",
      "          )\n",
      "          (output): BertOutput(\n",
      "            (dense): Linear(in_features=3072, out_features=768, bias=True)\n",
      "            (LayerNorm): LayerNorm((768,), eps=1e-12, elementwise_affine=True)\n",
      "            (dropout): Dropout(p=0.1, inplace=False)\n",
      "          )\n",
      "        )\n",
      "      )\n",
      "    )\n",
      "  )\n",
      "  (dropout): Dropout(p=0.1, inplace=False)\n",
      "  (out_layers): Sequential(\n",
      "    (0): Linear(in_features=772, out_features=10, bias=True)\n",
      "  )\n",
      ")\n"
     ]
    },
    {
     "name": "stderr",
     "output_type": "stream",
     "text": [
      "08:16:24 INFO:Logged iteration result res.precision=0.5414234591694052 res.recall=0.5353219967974318\n"
     ]
    },
    {
     "name": "stdout",
     "output_type": "stream",
     "text": [
      "{'eval_loss': 1.952148199081421, 'eval_step': 0, 'eval_precision': 0.5414234591694052, 'eval_recall': 0.5353219967974318, 'eval_f1': 0.5383554407764605, 'eval_label_count': 10, 'eval_runtime': 5.6077, 'eval_samples_per_second': 110.92, 'eval_steps_per_second': 3.567, 'epoch': 1.0}\n",
      "{'loss': 2.0434, 'learning_rate': 2.0353697749196142e-05, 'epoch': 1.61}\n"
     ]
    },
    {
     "name": "stderr",
     "output_type": "stream",
     "text": [
      "08:18:06 INFO:Logged iteration result res.precision=0.44303210071579413 res.recall=0.6142532787914888\n"
     ]
    },
    {
     "name": "stdout",
     "output_type": "stream",
     "text": [
      "{'eval_loss': 1.2978780269622803, 'eval_step': 2, 'eval_precision': 0.44303210071579413, 'eval_recall': 0.6142532787914888, 'eval_f1': 0.514778556006095, 'eval_label_count': 10, 'eval_runtime': 5.6051, 'eval_samples_per_second': 110.969, 'eval_steps_per_second': 3.568, 'epoch': 2.0}\n"
     ]
    },
    {
     "name": "stderr",
     "output_type": "stream",
     "text": [
      "08:19:48 INFO:Logged iteration result res.precision=0.5303217892501318 res.recall=0.6253900091558389\n"
     ]
    },
    {
     "name": "stdout",
     "output_type": "stream",
     "text": [
      "{'eval_loss': 1.5292075872421265, 'eval_step': 4, 'eval_precision': 0.5303217892501318, 'eval_recall': 0.6253900091558389, 'eval_f1': 0.5739457693382103, 'eval_label_count': 10, 'eval_runtime': 6.6882, 'eval_samples_per_second': 92.999, 'eval_steps_per_second': 2.99, 'epoch': 3.0}\n",
      "{'loss': 0.8733, 'learning_rate': 1.0707395498392284e-05, 'epoch': 3.22}\n"
     ]
    },
    {
     "name": "stderr",
     "output_type": "stream",
     "text": [
      "08:21:30 INFO:Logged iteration result res.precision=0.5490345565712393 res.recall=0.6318399587290855\n"
     ]
    },
    {
     "name": "stdout",
     "output_type": "stream",
     "text": [
      "{'eval_loss': 1.5502634048461914, 'eval_step': 6, 'eval_precision': 0.5490345565712393, 'eval_recall': 0.6318399587290855, 'eval_f1': 0.5875340132589585, 'eval_label_count': 10, 'eval_runtime': 6.1962, 'eval_samples_per_second': 100.385, 'eval_steps_per_second': 3.228, 'epoch': 4.0}\n",
      "{'loss': 0.4335, 'learning_rate': 1.0610932475884245e-06, 'epoch': 4.82}\n"
     ]
    },
    {
     "name": "stderr",
     "output_type": "stream",
     "text": [
      "08:23:12 INFO:Logged iteration result res.precision=0.531509451110273 res.recall=0.6502450971683986\n"
     ]
    },
    {
     "name": "stdout",
     "output_type": "stream",
     "text": [
      "{'eval_loss': 1.4704921245574951, 'eval_step': 8, 'eval_precision': 0.531509451110273, 'eval_recall': 0.6502450971683986, 'eval_f1': 0.5849123495002153, 'eval_label_count': 10, 'eval_runtime': 6.2953, 'eval_samples_per_second': 98.805, 'eval_steps_per_second': 3.177, 'epoch': 5.0}\n",
      "{'train_runtime': 510.4063, 'train_samples_per_second': 24.373, 'train_steps_per_second': 3.047, 'train_loss': 1.0884260048820276, 'epoch': 5.0}\n"
     ]
    },
    {
     "name": "stderr",
     "output_type": "stream",
     "text": [
      "08:23:23 INFO:Logged iteration result res.precision=0.531509451110273 res.recall=0.6502450971683986\n",
      "08:23:24 INFO:Logged iteration result res.precision=0.531509451110273 res.recall=0.6502450971683986\n",
      "08:23:24 INFO:Finished iteration=4\n",
      "08:23:24 INFO:Logging model artifact (might take a while)\n",
      "08:25:20 INFO:Breaking early after iteration=4 of 5 folds\n",
      "08:25:29 INFO:Logged experiment result res.mean_precision=0.5521306671186457 res.mean_recall=0.6695003356234419\n",
      "08:25:30 INFO:Left mlflow context\n"
     ]
    },
    {
     "name": "stdout",
     "output_type": "stream",
     "text": [
      "b85cc01c9dce4c9fa2072f0c4b2bf6fa\n"
     ]
    },
    {
     "data": {
      "application/vnd.jupyter.widget-view+json": {
       "model_id": "a1ea229f6611491a934da938e4f38185",
       "version_major": 2,
       "version_minor": 0
      },
      "text/plain": [
       "Downloading artifacts:   0%|          | 0/7 [00:00<?, ?it/s]"
      ]
     },
     "metadata": {},
     "output_type": "display_data"
    },
    {
     "data": {
      "text/plain": [
       "PosixPath('src/service/models/bert_2_bilstm')"
      ]
     },
     "execution_count": 30,
     "metadata": {},
     "output_type": "execute_result"
    }
   ],
   "source": [
    "from tooling.observability import get_run_id\n",
    "from tooling.config import DualModelStagedBERTConfig, StagedBERT\n",
    "\n",
    "from copy import deepcopy\n",
    "\n",
    "bilstm_config = BiLSTM(\n",
    "    batch_size=16,\n",
    "    learning_rate=0.006,\n",
    "    number_epochs=5,\n",
    "    weighted_classes=False,\n",
    "    sentence_length=106,\n",
    ")\n",
    "\n",
    "\n",
    "bert_2_bilstm_experiment_config = deepcopy(base_experiment_config)\n",
    "bert_2_bilstm_experiment_config.name = \"Production\"\n",
    "\n",
    "bert_2_bilstm_config = StagedBERT(\n",
    "    max_len=123,\n",
    "    layers=[],\n",
    "    learning_rate_bert=3e-05,\n",
    "    learning_rate_classifier=0.16,\n",
    "    number_epochs=5,\n",
    "    train_batch_size=8,\n",
    "    weight_decay=0.1,\n",
    "    weighted_classes=True,\n",
    ")\n",
    "\n",
    "bert_2_bilstm_cfg = OmegaConf.structured(\n",
    "    DualModelStagedBERTConfig(\n",
    "        bert=bert_2_bilstm_config,\n",
    "        experiment=bert_2_bilstm_experiment_config,\n",
    "        transformation=label_transformation_config,\n",
    "        first_model_bilstm=bilstm_cfg,\n",
    "    )\n",
    ")\n",
    "bert_2_bilstm_cfg.first_model_bilstm.bilstm.sentence_length = 106\n",
    "\n",
    "\n",
    "if run_experiments:\n",
    "    from experiments.dual_model_staged_bert import dual_stage_bert\n",
    "\n",
    "    dual_stage_bert(OmegaConf.create(bert_2_bilstm_cfg))\n",
    "\n",
    "bert_2_bilstm_run_id = get_run_id(bert_2_bilstm_cfg, pin_commit=pin_commits)\n",
    "\n",
    "print(bert_2_bilstm_run_id)\n",
    "\n",
    "bert_2_bilstm_run = mlflow.get_run(bert_2_bilstm_run_id)\n",
    "mlflow.artifacts.download_artifacts(\n",
    "    f\"{bert_2_bilstm_run.info.artifact_uri}/0_model\",\n",
    "    dst_path=Path(\"./src/service/models/\"),\n",
    ")\n",
    "try:\n",
    "    shutil.rmtree(Path(\"./src/service/models/bert_2_bilstm\"))\n",
    "except FileNotFoundError:\n",
    "    pass\n",
    "Path(\"./src/service/models/0_model\").rename(\n",
    "    \"./src/service/models/bert_2_bilstm\"\n",
    ")"
   ]
  },
  {
   "cell_type": "markdown",
   "metadata": {},
   "source": [
    "## Train BERT E2E Model\n"
   ]
  },
  {
   "cell_type": "code",
   "execution_count": 31,
   "metadata": {},
   "outputs": [
    {
     "name": "stderr",
     "output_type": "stream",
     "text": [
      "08:26:33 INFO:\n",
      "bert:\n",
      "  model: bert-base-uncased\n",
      "  type: BERT\n",
      "  max_len: 123\n",
      "  train_batch_size: 8\n",
      "  validation_batch_size: 32\n",
      "  number_epochs: 8\n",
      "  learning_rate_bert: 6.0e-05\n",
      "  learning_rate_classifier: 0.1\n",
      "  weight_decay: 0.01\n",
      "  weighted_classes: false\n",
      "experiment:\n",
      "  name: Production\n",
      "  description: ''\n",
      "  random_state: 125\n",
      "  folds: 5\n",
      "  iterations: 5\n",
      "  average: macro\n",
      "  dataset: all\n",
      "  lower_case: true\n",
      "  force: false\n",
      "  pin_commit: false\n",
      "transformation:\n",
      "  description: None\n",
      "  type: Full\n",
      "  task: Task\n",
      "  goals: null\n",
      "  domain_data: Domain_Data\n",
      "  activity: Activity\n",
      "  stakeholder: Stakeholder\n",
      "  system_function: System_Function\n",
      "  interaction: Interaction\n",
      "  interaction_data: Interaction_Data\n",
      "  workspace: Workspace\n",
      "  software: System_Level\n",
      "  internal_action: System_Level\n",
      "  internal_data: System_Level\n",
      "  system_level: System_Level\n",
      "\n",
      "08:26:34 INFO:New experiment. Running\n",
      "08:26:34 INFO:Entering mlflow context\n",
      "08:26:34 INFO:Importing dataset: anno from /Users/bockstaller/code/uvl-tore-classifier-bert/src/data/datasets/forum/anno_test.json\n",
      "08:26:34 INFO:Importing dataset: anno from /Users/bockstaller/code/uvl-tore-classifier-bert/src/data/datasets/forum/anno_train.json\n",
      "08:26:35 INFO:Importing dataset: prolific from /Users/bockstaller/code/uvl-tore-classifier-bert/src/data/datasets/prolific/TORE_Coded_Answers_1_33.json\n",
      "08:26:36 INFO:Importing dataset: prolific from /Users/bockstaller/code/uvl-tore-classifier-bert/src/data/datasets/prolific/TORE_Coded_Answers_34_66.json\n",
      "08:26:36 INFO:Importing dataset: prolific from /Users/bockstaller/code/uvl-tore-classifier-bert/src/data/datasets/prolific/TORE_Coded_Answers_67_100.json\n",
      "08:26:36 INFO:Importing dataset: komoot from /Users/bockstaller/code/uvl-tore-classifier-bert/src/data/datasets/app/Komoot_AppReview.json\n",
      "08:26:40 INFO:Dataset Labels: transformed_dataset['labels']=['Stakeholder', 'Activity', 'Domain_Data', 'Interaction', 'Interaction_Data', 'System_Function', 'System_Level', 'Task', '0', 'Workspace']\n",
      "08:26:40 INFO:Class weights: {'0': 1.0, 'Task': 1.0, 'Domain_Data': 1.0, 'Activity': 1.0, 'Stakeholder': 1.0, 'System_Function': 1.0, 'Interaction': 1.0, 'Interaction_Data': 1.0, 'Workspace': 1.0, 'System_Level': 1.0}\n",
      "08:26:41 INFO:Configured maximal token sequence length: max_len = 123\n",
      "08:26:43 INFO:Created fold datasets for fold: 0, stored at paths=[PosixPath('/Users/bockstaller/code/uvl-tore-classifier-bert/src/data/temp/sampling/funny-trout-471/0_data_train.pickle'), PosixPath('/Users/bockstaller/code/uvl-tore-classifier-bert/src/data/temp/sampling/funny-trout-471/0_data_train.csv'), PosixPath('/Users/bockstaller/code/uvl-tore-classifier-bert/src/data/temp/sampling/funny-trout-471/0_data_test.pickle'), PosixPath('/Users/bockstaller/code/uvl-tore-classifier-bert/src/data/temp/sampling/funny-trout-471/0_data_test.csv')]\n",
      "08:26:43 INFO:Starting iteration=0\n"
     ]
    },
    {
     "data": {
      "application/vnd.jupyter.widget-view+json": {
       "model_id": "a5f0e5b1d9d64e5d9ed139800971b5a1",
       "version_major": 2,
       "version_minor": 0
      },
      "text/plain": [
       "Map:   0%|          | 0/2488 [00:00<?, ? examples/s]"
      ]
     },
     "metadata": {},
     "output_type": "display_data"
    },
    {
     "data": {
      "application/vnd.jupyter.widget-view+json": {
       "model_id": "f6417b9a93ff4ff2acc8d0b0de46ee28",
       "version_major": 2,
       "version_minor": 0
      },
      "text/plain": [
       "Map:   0%|          | 0/622 [00:00<?, ? examples/s]"
      ]
     },
     "metadata": {},
     "output_type": "display_data"
    },
    {
     "name": "stderr",
     "output_type": "stream",
     "text": [
      "08:28:25 INFO:Logged iteration result res.precision=0.6365416031601717 res.recall=0.2598879669406778\n"
     ]
    },
    {
     "name": "stdout",
     "output_type": "stream",
     "text": [
      "{'eval_loss': 1.0562902688980103, 'eval_step': 0, 'eval_precision': 0.6365416031601717, 'eval_recall': 0.2598879669406778, 'eval_f1': 0.36908533282730893, 'eval_label_count': 10, 'eval_runtime': 6.5209, 'eval_samples_per_second': 95.386, 'eval_steps_per_second': 3.067, 'epoch': 1.0}\n",
      "{'loss': 0.6918, 'learning_rate': 4.794212218649518e-05, 'epoch': 1.61}\n"
     ]
    },
    {
     "name": "stderr",
     "output_type": "stream",
     "text": [
      "08:30:07 INFO:Logged iteration result res.precision=0.6608249907387117 res.recall=0.6240355109608439\n"
     ]
    },
    {
     "name": "stdout",
     "output_type": "stream",
     "text": [
      "{'eval_loss': 0.5863764882087708, 'eval_step': 2, 'eval_precision': 0.6608249907387117, 'eval_recall': 0.6240355109608439, 'eval_f1': 0.6419035532742294, 'eval_label_count': 10, 'eval_runtime': 6.3581, 'eval_samples_per_second': 97.828, 'eval_steps_per_second': 3.146, 'epoch': 2.0}\n"
     ]
    },
    {
     "name": "stderr",
     "output_type": "stream",
     "text": [
      "08:31:49 INFO:Logged iteration result res.precision=0.6835736003891983 res.recall=0.623049659349203\n"
     ]
    },
    {
     "name": "stdout",
     "output_type": "stream",
     "text": [
      "{'eval_loss': 0.46131086349487305, 'eval_step': 4, 'eval_precision': 0.6835736003891983, 'eval_recall': 0.623049659349203, 'eval_f1': 0.6519098687220181, 'eval_label_count': 10, 'eval_runtime': 6.0634, 'eval_samples_per_second': 102.583, 'eval_steps_per_second': 3.298, 'epoch': 3.0}\n",
      "{'loss': 0.328, 'learning_rate': 3.588424437299035e-05, 'epoch': 3.22}\n"
     ]
    },
    {
     "name": "stderr",
     "output_type": "stream",
     "text": [
      "08:33:30 INFO:Logged iteration result res.precision=0.6494527701376365 res.recall=0.6518785962840881\n"
     ]
    },
    {
     "name": "stdout",
     "output_type": "stream",
     "text": [
      "{'eval_loss': 0.671811580657959, 'eval_step': 6, 'eval_precision': 0.6494527701376365, 'eval_recall': 0.6518785962840881, 'eval_f1': 0.6506634222062309, 'eval_label_count': 10, 'eval_runtime': 6.2091, 'eval_samples_per_second': 100.175, 'eval_steps_per_second': 3.221, 'epoch': 4.0}\n",
      "{'loss': 0.1363, 'learning_rate': 2.382636655948553e-05, 'epoch': 4.82}\n"
     ]
    },
    {
     "name": "stderr",
     "output_type": "stream",
     "text": [
      "08:35:12 INFO:Logged iteration result res.precision=0.6566376129035404 res.recall=0.6613726532050486\n"
     ]
    },
    {
     "name": "stdout",
     "output_type": "stream",
     "text": [
      "{'eval_loss': 0.7856917381286621, 'eval_step': 8, 'eval_precision': 0.6566376129035404, 'eval_recall': 0.6613726532050486, 'eval_f1': 0.6589966275793245, 'eval_label_count': 10, 'eval_runtime': 5.9902, 'eval_samples_per_second': 103.837, 'eval_steps_per_second': 3.339, 'epoch': 5.0}\n"
     ]
    },
    {
     "name": "stderr",
     "output_type": "stream",
     "text": [
      "08:36:52 INFO:Logged iteration result res.precision=0.6788447809258108 res.recall=0.6454969190431993\n"
     ]
    },
    {
     "name": "stdout",
     "output_type": "stream",
     "text": [
      "{'eval_loss': 0.8830660581588745, 'eval_step': 10, 'eval_precision': 0.6788447809258108, 'eval_recall': 0.6454969190431993, 'eval_f1': 0.6617509885951944, 'eval_label_count': 10, 'eval_runtime': 5.9344, 'eval_samples_per_second': 104.813, 'eval_steps_per_second': 3.37, 'epoch': 6.0}\n",
      "{'loss': 0.0471, 'learning_rate': 1.1768488745980709e-05, 'epoch': 6.43}\n"
     ]
    },
    {
     "name": "stderr",
     "output_type": "stream",
     "text": [
      "08:38:33 INFO:Logged iteration result res.precision=0.6487271076550083 res.recall=0.660749170563603\n"
     ]
    },
    {
     "name": "stdout",
     "output_type": "stream",
     "text": [
      "{'eval_loss': 0.9846754670143127, 'eval_step': 12, 'eval_precision': 0.6487271076550083, 'eval_recall': 0.660749170563603, 'eval_f1': 0.6546829529257213, 'eval_label_count': 10, 'eval_runtime': 5.9377, 'eval_samples_per_second': 104.754, 'eval_steps_per_second': 3.368, 'epoch': 7.0}\n"
     ]
    },
    {
     "name": "stderr",
     "output_type": "stream",
     "text": [
      "08:40:13 INFO:Logged iteration result res.precision=0.663748079776525 res.recall=0.6582859917920669\n"
     ]
    },
    {
     "name": "stdout",
     "output_type": "stream",
     "text": [
      "{'eval_loss': 1.0805014371871948, 'eval_step': 14, 'eval_precision': 0.663748079776525, 'eval_recall': 0.6582859917920669, 'eval_f1': 0.6610057522607501, 'eval_label_count': 10, 'eval_runtime': 5.6803, 'eval_samples_per_second': 109.502, 'eval_steps_per_second': 3.521, 'epoch': 8.0}\n",
      "{'train_runtime': 811.3363, 'train_samples_per_second': 24.532, 'train_steps_per_second': 3.067, 'train_loss': 0.24448478892685133, 'epoch': 8.0}\n"
     ]
    },
    {
     "name": "stderr",
     "output_type": "stream",
     "text": [
      "08:40:23 INFO:Logged iteration result res.precision=0.663748079776525 res.recall=0.6582859917920669\n",
      "08:40:24 INFO:Logged iteration result res.precision=0.663748079776525 res.recall=0.6582859917920669\n",
      "08:40:24 INFO:Finished iteration=0\n",
      "08:40:24 INFO:Logging model artifact (might take a while)\n",
      "08:42:23 INFO:Created fold datasets for fold: 1, stored at paths=[PosixPath('/Users/bockstaller/code/uvl-tore-classifier-bert/src/data/temp/sampling/funny-trout-471/1_data_train.pickle'), PosixPath('/Users/bockstaller/code/uvl-tore-classifier-bert/src/data/temp/sampling/funny-trout-471/1_data_train.csv'), PosixPath('/Users/bockstaller/code/uvl-tore-classifier-bert/src/data/temp/sampling/funny-trout-471/1_data_test.pickle'), PosixPath('/Users/bockstaller/code/uvl-tore-classifier-bert/src/data/temp/sampling/funny-trout-471/1_data_test.csv')]\n",
      "08:42:23 INFO:Starting iteration=1\n"
     ]
    },
    {
     "data": {
      "application/vnd.jupyter.widget-view+json": {
       "model_id": "f978561bfc94423bb108c9c0de93d83a",
       "version_major": 2,
       "version_minor": 0
      },
      "text/plain": [
       "Map:   0%|          | 0/2488 [00:00<?, ? examples/s]"
      ]
     },
     "metadata": {},
     "output_type": "display_data"
    },
    {
     "data": {
      "application/vnd.jupyter.widget-view+json": {
       "model_id": "0b9572157b4b4d7a92fa23ec98949050",
       "version_major": 2,
       "version_minor": 0
      },
      "text/plain": [
       "Map:   0%|          | 0/622 [00:00<?, ? examples/s]"
      ]
     },
     "metadata": {},
     "output_type": "display_data"
    },
    {
     "name": "stderr",
     "output_type": "stream",
     "text": [
      "08:44:03 INFO:Logged iteration result res.precision=0.6681631646357982 res.recall=0.39756805277290086\n"
     ]
    },
    {
     "name": "stdout",
     "output_type": "stream",
     "text": [
      "{'eval_loss': 0.7453746795654297, 'eval_step': 0, 'eval_precision': 0.6681631646357982, 'eval_recall': 0.39756805277290086, 'eval_f1': 0.4985128031526219, 'eval_label_count': 10, 'eval_runtime': 5.5245, 'eval_samples_per_second': 112.589, 'eval_steps_per_second': 3.62, 'epoch': 1.0}\n",
      "{'loss': 0.6935, 'learning_rate': 4.794212218649518e-05, 'epoch': 1.61}\n"
     ]
    },
    {
     "name": "stderr",
     "output_type": "stream",
     "text": [
      "08:45:43 INFO:Logged iteration result res.precision=0.6716229827353335 res.recall=0.6226903128857835\n"
     ]
    },
    {
     "name": "stdout",
     "output_type": "stream",
     "text": [
      "{'eval_loss': 0.48580560088157654, 'eval_step': 2, 'eval_precision': 0.6716229827353335, 'eval_recall': 0.6226903128857835, 'eval_f1': 0.6462316761724297, 'eval_label_count': 10, 'eval_runtime': 5.6255, 'eval_samples_per_second': 110.569, 'eval_steps_per_second': 3.555, 'epoch': 2.0}\n"
     ]
    },
    {
     "name": "stderr",
     "output_type": "stream",
     "text": [
      "08:47:23 INFO:Logged iteration result res.precision=0.6244105998468651 res.recall=0.646450301389238\n"
     ]
    },
    {
     "name": "stdout",
     "output_type": "stream",
     "text": [
      "{'eval_loss': 0.5893813967704773, 'eval_step': 4, 'eval_precision': 0.6244105998468651, 'eval_recall': 0.646450301389238, 'eval_f1': 0.635239340621826, 'eval_label_count': 10, 'eval_runtime': 5.557, 'eval_samples_per_second': 111.931, 'eval_steps_per_second': 3.599, 'epoch': 3.0}\n",
      "{'loss': 0.3155, 'learning_rate': 3.588424437299035e-05, 'epoch': 3.22}\n"
     ]
    },
    {
     "name": "stderr",
     "output_type": "stream",
     "text": [
      "08:49:03 INFO:Logged iteration result res.precision=0.6801665674657666 res.recall=0.6182383641513998\n"
     ]
    },
    {
     "name": "stdout",
     "output_type": "stream",
     "text": [
      "{'eval_loss': 0.6572259664535522, 'eval_step': 6, 'eval_precision': 0.6801665674657666, 'eval_recall': 0.6182383641513998, 'eval_f1': 0.6477256143763536, 'eval_label_count': 10, 'eval_runtime': 5.8689, 'eval_samples_per_second': 105.982, 'eval_steps_per_second': 3.408, 'epoch': 4.0}\n",
      "{'loss': 0.128, 'learning_rate': 2.382636655948553e-05, 'epoch': 4.82}\n"
     ]
    },
    {
     "name": "stderr",
     "output_type": "stream",
     "text": [
      "08:50:44 INFO:Logged iteration result res.precision=0.6408228400872968 res.recall=0.649211299368194\n"
     ]
    },
    {
     "name": "stdout",
     "output_type": "stream",
     "text": [
      "{'eval_loss': 0.7136884927749634, 'eval_step': 8, 'eval_precision': 0.6408228400872968, 'eval_recall': 0.649211299368194, 'eval_f1': 0.6449897967095535, 'eval_label_count': 10, 'eval_runtime': 5.7889, 'eval_samples_per_second': 107.446, 'eval_steps_per_second': 3.455, 'epoch': 5.0}\n"
     ]
    },
    {
     "name": "stderr",
     "output_type": "stream",
     "text": [
      "08:52:24 INFO:Logged iteration result res.precision=0.6624643946422902 res.recall=0.6419215348026499\n"
     ]
    },
    {
     "name": "stdout",
     "output_type": "stream",
     "text": [
      "{'eval_loss': 0.9030664563179016, 'eval_step': 10, 'eval_precision': 0.6624643946422902, 'eval_recall': 0.6419215348026499, 'eval_f1': 0.652031199296738, 'eval_label_count': 10, 'eval_runtime': 5.8248, 'eval_samples_per_second': 106.785, 'eval_steps_per_second': 3.434, 'epoch': 6.0}\n",
      "{'loss': 0.0438, 'learning_rate': 1.1768488745980709e-05, 'epoch': 6.43}\n"
     ]
    },
    {
     "name": "stderr",
     "output_type": "stream",
     "text": [
      "08:54:05 INFO:Logged iteration result res.precision=0.6866537666781096 res.recall=0.6319545522863154\n"
     ]
    },
    {
     "name": "stdout",
     "output_type": "stream",
     "text": [
      "{'eval_loss': 1.096685528755188, 'eval_step': 12, 'eval_precision': 0.6866537666781096, 'eval_recall': 0.6319545522863154, 'eval_f1': 0.6581696284724927, 'eval_label_count': 10, 'eval_runtime': 6.6539, 'eval_samples_per_second': 93.478, 'eval_steps_per_second': 3.006, 'epoch': 7.0}\n"
     ]
    },
    {
     "name": "stderr",
     "output_type": "stream",
     "text": [
      "08:55:45 INFO:Logged iteration result res.precision=0.678107605955753 res.recall=0.6530955984270548\n"
     ]
    },
    {
     "name": "stdout",
     "output_type": "stream",
     "text": [
      "{'eval_loss': 1.1340832710266113, 'eval_step': 14, 'eval_precision': 0.678107605955753, 'eval_recall': 0.6530955984270548, 'eval_f1': 0.6653666265999405, 'eval_label_count': 10, 'eval_runtime': 5.8857, 'eval_samples_per_second': 105.68, 'eval_steps_per_second': 3.398, 'epoch': 8.0}\n",
      "{'train_runtime': 802.6909, 'train_samples_per_second': 24.797, 'train_steps_per_second': 3.1, 'train_loss': 0.23982296553455365, 'epoch': 8.0}\n"
     ]
    },
    {
     "name": "stderr",
     "output_type": "stream",
     "text": [
      "08:55:54 INFO:Logged iteration result res.precision=0.678107605955753 res.recall=0.6530955984270548\n",
      "08:55:56 INFO:Logged iteration result res.precision=0.678107605955753 res.recall=0.6530955984270548\n",
      "08:55:56 INFO:Finished iteration=1\n",
      "08:55:56 INFO:Logging model artifact (might take a while)\n",
      "08:57:55 INFO:Created fold datasets for fold: 2, stored at paths=[PosixPath('/Users/bockstaller/code/uvl-tore-classifier-bert/src/data/temp/sampling/funny-trout-471/2_data_train.pickle'), PosixPath('/Users/bockstaller/code/uvl-tore-classifier-bert/src/data/temp/sampling/funny-trout-471/2_data_train.csv'), PosixPath('/Users/bockstaller/code/uvl-tore-classifier-bert/src/data/temp/sampling/funny-trout-471/2_data_test.pickle'), PosixPath('/Users/bockstaller/code/uvl-tore-classifier-bert/src/data/temp/sampling/funny-trout-471/2_data_test.csv')]\n",
      "08:57:55 INFO:Starting iteration=2\n"
     ]
    },
    {
     "data": {
      "application/vnd.jupyter.widget-view+json": {
       "model_id": "5012223811254739b1c14ab0e0807631",
       "version_major": 2,
       "version_minor": 0
      },
      "text/plain": [
       "Map:   0%|          | 0/2488 [00:00<?, ? examples/s]"
      ]
     },
     "metadata": {},
     "output_type": "display_data"
    },
    {
     "data": {
      "application/vnd.jupyter.widget-view+json": {
       "model_id": "3fdb1df8cacb4637a4faf1656a807429",
       "version_major": 2,
       "version_minor": 0
      },
      "text/plain": [
       "Map:   0%|          | 0/622 [00:00<?, ? examples/s]"
      ]
     },
     "metadata": {},
     "output_type": "display_data"
    },
    {
     "name": "stderr",
     "output_type": "stream",
     "text": [
      "08:59:35 INFO:Logged iteration result res.precision=0.6430666597388627 res.recall=0.5080367269577439\n"
     ]
    },
    {
     "name": "stdout",
     "output_type": "stream",
     "text": [
      "{'eval_loss': 0.5449497699737549, 'eval_step': 0, 'eval_precision': 0.6430666597388627, 'eval_recall': 0.5080367269577439, 'eval_f1': 0.5676318648786824, 'eval_label_count': 10, 'eval_runtime': 5.9186, 'eval_samples_per_second': 105.093, 'eval_steps_per_second': 3.379, 'epoch': 1.0}\n",
      "{'loss': 0.6833, 'learning_rate': 4.794212218649518e-05, 'epoch': 1.61}\n"
     ]
    },
    {
     "name": "stderr",
     "output_type": "stream",
     "text": [
      "09:01:15 INFO:Logged iteration result res.precision=0.6791581702978541 res.recall=0.5765433698727335\n"
     ]
    },
    {
     "name": "stdout",
     "output_type": "stream",
     "text": [
      "{'eval_loss': 0.6185944676399231, 'eval_step': 2, 'eval_precision': 0.6791581702978541, 'eval_recall': 0.5765433698727335, 'eval_f1': 0.6236579754882365, 'eval_label_count': 10, 'eval_runtime': 5.6109, 'eval_samples_per_second': 110.855, 'eval_steps_per_second': 3.564, 'epoch': 2.0}\n"
     ]
    },
    {
     "name": "stderr",
     "output_type": "stream",
     "text": [
      "09:02:55 INFO:Logged iteration result res.precision=0.6705796820121127 res.recall=0.555076233938484\n"
     ]
    },
    {
     "name": "stdout",
     "output_type": "stream",
     "text": [
      "{'eval_loss': 0.7280495166778564, 'eval_step': 4, 'eval_precision': 0.6705796820121127, 'eval_recall': 0.555076233938484, 'eval_f1': 0.6073855469595809, 'eval_label_count': 10, 'eval_runtime': 5.8767, 'eval_samples_per_second': 105.841, 'eval_steps_per_second': 3.403, 'epoch': 3.0}\n",
      "{'loss': 0.3214, 'learning_rate': 3.588424437299035e-05, 'epoch': 3.22}\n"
     ]
    },
    {
     "name": "stderr",
     "output_type": "stream",
     "text": [
      "09:04:35 INFO:Logged iteration result res.precision=0.6375979394514681 res.recall=0.6013110734978063\n"
     ]
    },
    {
     "name": "stdout",
     "output_type": "stream",
     "text": [
      "{'eval_loss': 0.6810140609741211, 'eval_step': 6, 'eval_precision': 0.6375979394514681, 'eval_recall': 0.6013110734978063, 'eval_f1': 0.6189230967314776, 'eval_label_count': 10, 'eval_runtime': 5.7014, 'eval_samples_per_second': 109.096, 'eval_steps_per_second': 3.508, 'epoch': 4.0}\n",
      "{'loss': 0.1286, 'learning_rate': 2.382636655948553e-05, 'epoch': 4.82}\n"
     ]
    },
    {
     "name": "stderr",
     "output_type": "stream",
     "text": [
      "09:06:16 INFO:Logged iteration result res.precision=0.6446502785647149 res.recall=0.6007801043147177\n"
     ]
    },
    {
     "name": "stdout",
     "output_type": "stream",
     "text": [
      "{'eval_loss': 0.8810098767280579, 'eval_step': 8, 'eval_precision': 0.6446502785647149, 'eval_recall': 0.6007801043147177, 'eval_f1': 0.6219425299504906, 'eval_label_count': 10, 'eval_runtime': 6.0792, 'eval_samples_per_second': 102.316, 'eval_steps_per_second': 3.29, 'epoch': 5.0}\n"
     ]
    },
    {
     "name": "stderr",
     "output_type": "stream",
     "text": [
      "09:07:57 INFO:Logged iteration result res.precision=0.641927923589524 res.recall=0.5926678115782026\n"
     ]
    },
    {
     "name": "stdout",
     "output_type": "stream",
     "text": [
      "{'eval_loss': 1.0569915771484375, 'eval_step': 10, 'eval_precision': 0.641927923589524, 'eval_recall': 0.5926678115782026, 'eval_f1': 0.6163151334927568, 'eval_label_count': 10, 'eval_runtime': 5.658, 'eval_samples_per_second': 109.932, 'eval_steps_per_second': 3.535, 'epoch': 6.0}\n",
      "{'loss': 0.043, 'learning_rate': 1.1768488745980709e-05, 'epoch': 6.43}\n"
     ]
    },
    {
     "name": "stderr",
     "output_type": "stream",
     "text": [
      "09:09:38 INFO:Logged iteration result res.precision=0.6537468372897856 res.recall=0.5960324338246727\n"
     ]
    },
    {
     "name": "stdout",
     "output_type": "stream",
     "text": [
      "{'eval_loss': 1.2816442251205444, 'eval_step': 12, 'eval_precision': 0.6537468372897856, 'eval_recall': 0.5960324338246727, 'eval_f1': 0.6235570192927733, 'eval_label_count': 10, 'eval_runtime': 5.7215, 'eval_samples_per_second': 108.713, 'eval_steps_per_second': 3.496, 'epoch': 7.0}\n"
     ]
    },
    {
     "name": "stderr",
     "output_type": "stream",
     "text": [
      "09:11:19 INFO:Logged iteration result res.precision=0.645229623827267 res.recall=0.6052265333459336\n"
     ]
    },
    {
     "name": "stdout",
     "output_type": "stream",
     "text": [
      "{'eval_loss': 1.3641940355300903, 'eval_step': 14, 'eval_precision': 0.645229623827267, 'eval_recall': 0.6052265333459336, 'eval_f1': 0.6245882131907294, 'eval_label_count': 10, 'eval_runtime': 6.2449, 'eval_samples_per_second': 99.602, 'eval_steps_per_second': 3.203, 'epoch': 8.0}\n",
      "{'train_runtime': 805.0895, 'train_samples_per_second': 24.723, 'train_steps_per_second': 3.09, 'train_loss': 0.23904519544920355, 'epoch': 8.0}\n"
     ]
    },
    {
     "name": "stderr",
     "output_type": "stream",
     "text": [
      "09:11:29 INFO:Logged iteration result res.precision=0.645229623827267 res.recall=0.6052265333459336\n",
      "09:11:31 INFO:Logged iteration result res.precision=0.645229623827267 res.recall=0.6052265333459336\n",
      "09:11:31 INFO:Finished iteration=2\n",
      "09:11:31 INFO:Logging model artifact (might take a while)\n",
      "09:13:32 INFO:Created fold datasets for fold: 3, stored at paths=[PosixPath('/Users/bockstaller/code/uvl-tore-classifier-bert/src/data/temp/sampling/funny-trout-471/3_data_train.pickle'), PosixPath('/Users/bockstaller/code/uvl-tore-classifier-bert/src/data/temp/sampling/funny-trout-471/3_data_train.csv'), PosixPath('/Users/bockstaller/code/uvl-tore-classifier-bert/src/data/temp/sampling/funny-trout-471/3_data_test.pickle'), PosixPath('/Users/bockstaller/code/uvl-tore-classifier-bert/src/data/temp/sampling/funny-trout-471/3_data_test.csv')]\n",
      "09:13:32 INFO:Starting iteration=3\n"
     ]
    },
    {
     "data": {
      "application/vnd.jupyter.widget-view+json": {
       "model_id": "a3e68f66fd134055b6b60569525a55c4",
       "version_major": 2,
       "version_minor": 0
      },
      "text/plain": [
       "Map:   0%|          | 0/2488 [00:00<?, ? examples/s]"
      ]
     },
     "metadata": {},
     "output_type": "display_data"
    },
    {
     "data": {
      "application/vnd.jupyter.widget-view+json": {
       "model_id": "2c0e4ab3bdb34a748bce7d49b4b8d146",
       "version_major": 2,
       "version_minor": 0
      },
      "text/plain": [
       "Map:   0%|          | 0/622 [00:00<?, ? examples/s]"
      ]
     },
     "metadata": {},
     "output_type": "display_data"
    },
    {
     "name": "stderr",
     "output_type": "stream",
     "text": [
      "09:15:12 INFO:Logged iteration result res.precision=0.6277092589299628 res.recall=0.4524113181411886\n"
     ]
    },
    {
     "name": "stdout",
     "output_type": "stream",
     "text": [
      "{'eval_loss': 0.6230230331420898, 'eval_step': 0, 'eval_precision': 0.6277092589299628, 'eval_recall': 0.4524113181411886, 'eval_f1': 0.5258353174086899, 'eval_label_count': 10, 'eval_runtime': 5.8935, 'eval_samples_per_second': 105.539, 'eval_steps_per_second': 3.394, 'epoch': 1.0}\n",
      "{'loss': 0.7083, 'learning_rate': 4.794212218649518e-05, 'epoch': 1.61}\n"
     ]
    },
    {
     "name": "stderr",
     "output_type": "stream",
     "text": [
      "09:16:53 INFO:Logged iteration result res.precision=0.667538820905561 res.recall=0.6065382544354514\n"
     ]
    },
    {
     "name": "stdout",
     "output_type": "stream",
     "text": [
      "{'eval_loss': 0.47139331698417664, 'eval_step': 2, 'eval_precision': 0.667538820905561, 'eval_recall': 0.6065382544354514, 'eval_f1': 0.6355782378261352, 'eval_label_count': 10, 'eval_runtime': 5.9108, 'eval_samples_per_second': 105.231, 'eval_steps_per_second': 3.384, 'epoch': 2.0}\n"
     ]
    },
    {
     "name": "stderr",
     "output_type": "stream",
     "text": [
      "09:18:34 INFO:Logged iteration result res.precision=0.6765065953578725 res.recall=0.5943248613232897\n"
     ]
    },
    {
     "name": "stdout",
     "output_type": "stream",
     "text": [
      "{'eval_loss': 0.5529868602752686, 'eval_step': 4, 'eval_precision': 0.6765065953578725, 'eval_recall': 0.5943248613232897, 'eval_f1': 0.6327584769114385, 'eval_label_count': 10, 'eval_runtime': 5.9468, 'eval_samples_per_second': 104.594, 'eval_steps_per_second': 3.363, 'epoch': 3.0}\n",
      "{'loss': 0.3306, 'learning_rate': 3.588424437299035e-05, 'epoch': 3.22}\n"
     ]
    },
    {
     "name": "stderr",
     "output_type": "stream",
     "text": [
      "09:20:15 INFO:Logged iteration result res.precision=0.6836835644697469 res.recall=0.6025777280623336\n"
     ]
    },
    {
     "name": "stdout",
     "output_type": "stream",
     "text": [
      "{'eval_loss': 0.7121398448944092, 'eval_step': 6, 'eval_precision': 0.6836835644697469, 'eval_recall': 0.6025777280623336, 'eval_f1': 0.6405735621270949, 'eval_label_count': 10, 'eval_runtime': 5.7503, 'eval_samples_per_second': 108.167, 'eval_steps_per_second': 3.478, 'epoch': 4.0}\n",
      "{'loss': 0.1277, 'learning_rate': 2.382636655948553e-05, 'epoch': 4.82}\n"
     ]
    },
    {
     "name": "stderr",
     "output_type": "stream",
     "text": [
      "09:21:55 INFO:Logged iteration result res.precision=0.6187779102402514 res.recall=0.6470874991190098\n"
     ]
    },
    {
     "name": "stdout",
     "output_type": "stream",
     "text": [
      "{'eval_loss': 0.8004817366600037, 'eval_step': 8, 'eval_precision': 0.6187779102402514, 'eval_recall': 0.6470874991190098, 'eval_f1': 0.6326161493742408, 'eval_label_count': 10, 'eval_runtime': 6.1751, 'eval_samples_per_second': 100.727, 'eval_steps_per_second': 3.239, 'epoch': 5.0}\n"
     ]
    },
    {
     "name": "stderr",
     "output_type": "stream",
     "text": [
      "09:23:36 INFO:Logged iteration result res.precision=0.6555064475321462 res.recall=0.6368318436486338\n"
     ]
    },
    {
     "name": "stdout",
     "output_type": "stream",
     "text": [
      "{'eval_loss': 1.0231016874313354, 'eval_step': 10, 'eval_precision': 0.6555064475321462, 'eval_recall': 0.6368318436486338, 'eval_f1': 0.6460342192972568, 'eval_label_count': 10, 'eval_runtime': 5.9657, 'eval_samples_per_second': 104.263, 'eval_steps_per_second': 3.352, 'epoch': 6.0}\n",
      "{'loss': 0.0451, 'learning_rate': 1.1768488745980709e-05, 'epoch': 6.43}\n"
     ]
    },
    {
     "name": "stderr",
     "output_type": "stream",
     "text": [
      "09:25:17 INFO:Logged iteration result res.precision=0.6555882778399205 res.recall=0.6317882801766384\n"
     ]
    },
    {
     "name": "stdout",
     "output_type": "stream",
     "text": [
      "{'eval_loss': 1.2134531736373901, 'eval_step': 12, 'eval_precision': 0.6555882778399205, 'eval_recall': 0.6317882801766384, 'eval_f1': 0.6434682812596623, 'eval_label_count': 10, 'eval_runtime': 6.0797, 'eval_samples_per_second': 102.308, 'eval_steps_per_second': 3.29, 'epoch': 7.0}\n"
     ]
    },
    {
     "name": "stderr",
     "output_type": "stream",
     "text": [
      "09:26:57 INFO:Logged iteration result res.precision=0.6587401127637069 res.recall=0.630996528888307\n"
     ]
    },
    {
     "name": "stdout",
     "output_type": "stream",
     "text": [
      "{'eval_loss': 1.2299710512161255, 'eval_step': 14, 'eval_precision': 0.6587401127637069, 'eval_recall': 0.630996528888307, 'eval_f1': 0.6445699240753086, 'eval_label_count': 10, 'eval_runtime': 5.6541, 'eval_samples_per_second': 110.009, 'eval_steps_per_second': 3.537, 'epoch': 8.0}\n",
      "{'train_runtime': 805.8463, 'train_samples_per_second': 24.699, 'train_steps_per_second': 3.087, 'train_loss': 0.2462567690867703, 'epoch': 8.0}\n"
     ]
    },
    {
     "name": "stderr",
     "output_type": "stream",
     "text": [
      "09:27:06 INFO:Logged iteration result res.precision=0.6587401127637069 res.recall=0.630996528888307\n",
      "09:27:08 INFO:Logged iteration result res.precision=0.6587401127637069 res.recall=0.630996528888307\n",
      "09:27:08 INFO:Finished iteration=3\n",
      "09:27:08 INFO:Logging model artifact (might take a while)\n",
      "09:29:06 INFO:Created fold datasets for fold: 4, stored at paths=[PosixPath('/Users/bockstaller/code/uvl-tore-classifier-bert/src/data/temp/sampling/funny-trout-471/4_data_train.pickle'), PosixPath('/Users/bockstaller/code/uvl-tore-classifier-bert/src/data/temp/sampling/funny-trout-471/4_data_train.csv'), PosixPath('/Users/bockstaller/code/uvl-tore-classifier-bert/src/data/temp/sampling/funny-trout-471/4_data_test.pickle'), PosixPath('/Users/bockstaller/code/uvl-tore-classifier-bert/src/data/temp/sampling/funny-trout-471/4_data_test.csv')]\n",
      "09:29:06 INFO:Starting iteration=4\n"
     ]
    },
    {
     "data": {
      "application/vnd.jupyter.widget-view+json": {
       "model_id": "22fac2b212f54b2d97edcc1c4f24b855",
       "version_major": 2,
       "version_minor": 0
      },
      "text/plain": [
       "Map:   0%|          | 0/2488 [00:00<?, ? examples/s]"
      ]
     },
     "metadata": {},
     "output_type": "display_data"
    },
    {
     "data": {
      "application/vnd.jupyter.widget-view+json": {
       "model_id": "e3a28b718e8a4a1e81a90c06eb934ba4",
       "version_major": 2,
       "version_minor": 0
      },
      "text/plain": [
       "Map:   0%|          | 0/622 [00:00<?, ? examples/s]"
      ]
     },
     "metadata": {},
     "output_type": "display_data"
    },
    {
     "name": "stderr",
     "output_type": "stream",
     "text": [
      "09:30:46 INFO:Logged iteration result res.precision=0.6315355902946356 res.recall=0.5537333605244228\n"
     ]
    },
    {
     "name": "stdout",
     "output_type": "stream",
     "text": [
      "{'eval_loss': 0.4981420934200287, 'eval_step': 0, 'eval_precision': 0.6315355902946356, 'eval_recall': 0.5537333605244228, 'eval_f1': 0.5900809676368696, 'eval_label_count': 10, 'eval_runtime': 5.8882, 'eval_samples_per_second': 105.635, 'eval_steps_per_second': 3.397, 'epoch': 1.0}\n",
      "{'loss': 0.6992, 'learning_rate': 4.794212218649518e-05, 'epoch': 1.61}\n"
     ]
    },
    {
     "name": "stderr",
     "output_type": "stream",
     "text": [
      "09:32:27 INFO:Logged iteration result res.precision=0.5864730193348484 res.recall=0.6039210052019166\n"
     ]
    },
    {
     "name": "stdout",
     "output_type": "stream",
     "text": [
      "{'eval_loss': 0.6419799327850342, 'eval_step': 2, 'eval_precision': 0.5864730193348484, 'eval_recall': 0.6039210052019166, 'eval_f1': 0.5950691419143055, 'eval_label_count': 10, 'eval_runtime': 6.0554, 'eval_samples_per_second': 102.717, 'eval_steps_per_second': 3.303, 'epoch': 2.0}\n"
     ]
    },
    {
     "name": "stderr",
     "output_type": "stream",
     "text": [
      "09:34:07 INFO:Logged iteration result res.precision=0.668231604196275 res.recall=0.5873260495823267\n"
     ]
    },
    {
     "name": "stdout",
     "output_type": "stream",
     "text": [
      "{'eval_loss': 0.6203287243843079, 'eval_step': 4, 'eval_precision': 0.668231604196275, 'eval_recall': 0.5873260495823267, 'eval_f1': 0.6251721330637758, 'eval_label_count': 10, 'eval_runtime': 6.2027, 'eval_samples_per_second': 100.279, 'eval_steps_per_second': 3.224, 'epoch': 3.0}\n",
      "{'loss': 0.3155, 'learning_rate': 3.588424437299035e-05, 'epoch': 3.22}\n"
     ]
    },
    {
     "name": "stderr",
     "output_type": "stream",
     "text": [
      "09:35:48 INFO:Logged iteration result res.precision=0.6320638146440071 res.recall=0.5963324305456158\n"
     ]
    },
    {
     "name": "stdout",
     "output_type": "stream",
     "text": [
      "{'eval_loss': 0.7758787870407104, 'eval_step': 6, 'eval_precision': 0.6320638146440071, 'eval_recall': 0.5963324305456158, 'eval_f1': 0.6136784483388104, 'eval_label_count': 10, 'eval_runtime': 5.6449, 'eval_samples_per_second': 110.188, 'eval_steps_per_second': 3.543, 'epoch': 4.0}\n",
      "{'loss': 0.1257, 'learning_rate': 2.382636655948553e-05, 'epoch': 4.82}\n"
     ]
    },
    {
     "name": "stderr",
     "output_type": "stream",
     "text": [
      "09:37:28 INFO:Logged iteration result res.precision=0.65216794473182 res.recall=0.6084369464897297\n"
     ]
    },
    {
     "name": "stdout",
     "output_type": "stream",
     "text": [
      "{'eval_loss': 0.8394561409950256, 'eval_step': 8, 'eval_precision': 0.65216794473182, 'eval_recall': 0.6084369464897297, 'eval_f1': 0.6295439207864755, 'eval_label_count': 10, 'eval_runtime': 5.9932, 'eval_samples_per_second': 103.784, 'eval_steps_per_second': 3.337, 'epoch': 5.0}\n"
     ]
    },
    {
     "name": "stderr",
     "output_type": "stream",
     "text": [
      "09:39:08 INFO:Logged iteration result res.precision=0.6387326162490777 res.recall=0.6019702135625434\n"
     ]
    },
    {
     "name": "stdout",
     "output_type": "stream",
     "text": [
      "{'eval_loss': 1.0563815832138062, 'eval_step': 10, 'eval_precision': 0.6387326162490777, 'eval_recall': 0.6019702135625434, 'eval_f1': 0.619806774312264, 'eval_label_count': 10, 'eval_runtime': 5.8066, 'eval_samples_per_second': 107.119, 'eval_steps_per_second': 3.444, 'epoch': 6.0}\n",
      "{'loss': 0.0432, 'learning_rate': 1.1768488745980709e-05, 'epoch': 6.43}\n"
     ]
    },
    {
     "name": "stderr",
     "output_type": "stream",
     "text": [
      "09:40:49 INFO:Logged iteration result res.precision=0.6358181184363367 res.recall=0.6326461524504906\n"
     ]
    },
    {
     "name": "stdout",
     "output_type": "stream",
     "text": [
      "{'eval_loss': 1.2335824966430664, 'eval_step': 12, 'eval_precision': 0.6358181184363367, 'eval_recall': 0.6326461524504906, 'eval_f1': 0.6342281694790398, 'eval_label_count': 10, 'eval_runtime': 5.9671, 'eval_samples_per_second': 104.238, 'eval_steps_per_second': 3.352, 'epoch': 7.0}\n"
     ]
    },
    {
     "name": "stderr",
     "output_type": "stream",
     "text": [
      "09:42:29 INFO:Logged iteration result res.precision=0.6443612671532553 res.recall=0.6164343062474515\n"
     ]
    },
    {
     "name": "stdout",
     "output_type": "stream",
     "text": [
      "{'eval_loss': 1.3043292760849, 'eval_step': 14, 'eval_precision': 0.6443612671532553, 'eval_recall': 0.6164343062474515, 'eval_f1': 0.6300884918543497, 'eval_label_count': 10, 'eval_runtime': 5.6499, 'eval_samples_per_second': 110.091, 'eval_steps_per_second': 3.54, 'epoch': 8.0}\n",
      "{'train_runtime': 804.1386, 'train_samples_per_second': 24.752, 'train_steps_per_second': 3.094, 'train_loss': 0.24037194424503486, 'epoch': 8.0}\n"
     ]
    },
    {
     "name": "stderr",
     "output_type": "stream",
     "text": [
      "09:42:39 INFO:Logged iteration result res.precision=0.6443612671532553 res.recall=0.6164343062474515\n",
      "09:42:40 INFO:Logged iteration result res.precision=0.6443612671532553 res.recall=0.6164343062474515\n",
      "09:42:40 INFO:Finished iteration=4\n",
      "09:42:40 INFO:Logging model artifact (might take a while)\n",
      "09:44:36 INFO:Breaking early after iteration=4 of 5 folds\n",
      "09:44:46 INFO:Logged experiment result res.mean_precision=0.6580373378953014 res.mean_recall=0.6328077917401627\n",
      "09:44:46 INFO:Left mlflow context\n"
     ]
    },
    {
     "name": "stdout",
     "output_type": "stream",
     "text": [
      "4d2c935aa5844b84b820314cd1d308bf\n"
     ]
    },
    {
     "data": {
      "application/vnd.jupyter.widget-view+json": {
       "model_id": "01be8175478a49e69722067e1331dd53",
       "version_major": 2,
       "version_minor": 0
      },
      "text/plain": [
       "Downloading artifacts:   0%|          | 0/7 [00:00<?, ?it/s]"
      ]
     },
     "metadata": {},
     "output_type": "display_data"
    },
    {
     "data": {
      "text/plain": [
       "PosixPath('src/service/models/bert')"
      ]
     },
     "execution_count": 31,
     "metadata": {},
     "output_type": "execute_result"
    }
   ],
   "source": [
    "from tooling.observability import get_run_id\n",
    "from tooling.config import BERTConfig, BERT\n",
    "\n",
    "from copy import deepcopy\n",
    "\n",
    "bert_experiment_config = deepcopy(base_experiment_config)\n",
    "bert_experiment_config.name = \"Production\"\n",
    "\n",
    "bert_config = BERT(\n",
    "    learning_rate_bert=6e-05,\n",
    "    learning_rate_classifier=0.1,\n",
    "    max_len=123,\n",
    "    number_epochs=8,\n",
    "    train_batch_size=8,\n",
    "    weight_decay=0.01,\n",
    "    weighted_classes=False,\n",
    ")\n",
    "\n",
    "bert_cfg = OmegaConf.structured(\n",
    "    BERTConfig(\n",
    "        bert=bert_config,\n",
    "        experiment=bert_experiment_config,\n",
    "        transformation=label_transformation_config,\n",
    "    )\n",
    ")\n",
    "\n",
    "if run_experiments:\n",
    "    from experiments.bert import bert\n",
    "\n",
    "    bert(OmegaConf.create(bert_cfg))\n",
    "\n",
    "bert_run_id = get_run_id(bert_cfg, pin_commit=pin_commits)\n",
    "\n",
    "print(bert_run_id)\n",
    "\n",
    "run = mlflow.get_run(bert_run_id)\n",
    "mlflow.artifacts.download_artifacts(\n",
    "    f\"{run.info.artifact_uri}/0_model\", dst_path=Path(\"./src/service/models/\")\n",
    ")\n",
    "try:\n",
    "    shutil.rmtree(Path(\"./src/service/models/bert\"))\n",
    "except FileNotFoundError:\n",
    "    pass\n",
    "Path(\"./src/service/models/0_model\").rename(\"./src/service/models/bert\")"
   ]
  },
  {
   "cell_type": "code",
   "execution_count": null,
   "metadata": {},
   "outputs": [],
   "source": []
  }
 ],
 "metadata": {
  "kernelspec": {
   "display_name": "venv",
   "language": "python",
   "name": "python3"
  },
  "language_info": {
   "codemirror_mode": {
    "name": "ipython",
    "version": 3
   },
   "file_extension": ".py",
   "mimetype": "text/x-python",
   "name": "python",
   "nbconvert_exporter": "python",
   "pygments_lexer": "ipython3",
   "version": "3.11.4"
  },
  "orig_nbformat": 4
 },
 "nbformat": 4,
 "nbformat_minor": 2
}
