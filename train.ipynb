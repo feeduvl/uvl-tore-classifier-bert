{
 "cells": [
  {
   "cell_type": "code",
   "execution_count": 7,
   "metadata": {
    "ExecuteTime": {
     "end_time": "2024-01-26T11:53:20.508048600Z",
     "start_time": "2024-01-26T11:53:20.164359Z"
    }
   },
   "outputs": [
    {
     "name": "stdout",
     "output_type": "stream",
     "text": [
      "The autoreload extension is already loaded. To reload it, use:\n",
      "  %reload_ext autoreload\n"
     ]
    }
   ],
   "source": [
    "%load_ext autoreload\n",
    "%autoreload 2"
   ]
  },
  {
   "cell_type": "code",
   "execution_count": 8,
   "metadata": {
    "ExecuteTime": {
     "end_time": "2024-01-26T11:53:22.359784200Z",
     "start_time": "2024-01-26T11:53:22.030132300Z"
    }
   },
   "outputs": [],
   "source": [
    "import logging\n",
    "import shutil\n",
    "from omegaconf import OmegaConf\n",
    "from hydra import initialize, compose\n",
    "from hydra.core.config_store import ConfigStore\n",
    "import mlflow\n",
    "from src.experiments.sner import sner\n",
    "from pathlib import Path\n",
    "\n",
    "import os\n",
    "\n",
    "logging.basicConfig(\n",
    "    format=\"%(asctime)s %(levelname)s:%(message)s\",\n",
    "    level=logging.INFO,\n",
    "    datefmt=\"%I:%M:%S\",\n",
    ")\n",
    "logger = logging.getLogger(\"training\")"
   ]
  },
  {
   "cell_type": "code",
   "execution_count": 9,
   "metadata": {
    "ExecuteTime": {
     "end_time": "2024-01-26T11:53:23.730606Z",
     "start_time": "2024-01-26T11:53:23.234300100Z"
    }
   },
   "outputs": [
    {
     "data": {
      "text/plain": "'https://mlflow-uvl.ifi.uni-heidelberg.de'"
     },
     "execution_count": 9,
     "metadata": {},
     "output_type": "execute_result"
    }
   ],
   "source": [
    "mlflow.get_tracking_uri()"
   ]
  },
  {
   "cell_type": "code",
   "execution_count": 10,
   "metadata": {
    "ExecuteTime": {
     "end_time": "2024-01-26T11:53:24.276333500Z",
     "start_time": "2024-01-26T11:53:23.967231900Z"
    }
   },
   "outputs": [
    {
     "name": "stdout",
     "output_type": "stream",
     "text": [
      "run_experiments=True\n",
      "pin_commits=False\n"
     ]
    }
   ],
   "source": [
    "sentence_length = 106\n",
    "\n",
    "run_experiments = os.getenv(\"UVL_BERT_RUN_EXPERIMENTS\", \"True\") == \"True\"\n",
    "pin_commits = os.getenv(\"UVL_BERT_PIN_COMMITS\", \"True\") == \"FALSE\"\n",
    "\n",
    "print(f\"{run_experiments=}\")\n",
    "print(f\"{pin_commits=}\")"
   ]
  },
  {
   "cell_type": "code",
   "execution_count": 14,
   "metadata": {
    "ExecuteTime": {
     "end_time": "2024-01-26T14:55:18.073873Z",
     "start_time": "2024-01-26T14:55:15.614861400Z"
    }
   },
   "outputs": [],
   "source": [
    "from tooling.config import Experiment, Transformation\n",
    "#Set Iterations=1 for Split training and testing on datasets. Set dataset to desired dataset split. See tooling.py for split options\n",
    "base_experiment_config = Experiment(\n",
    "    name=\"Base Config 1\",\n",
    "    iterations=1,\n",
    "    force=False,\n",
    "    dataset=\"PKTrainFTest\",\n",
    "    lower_case=True,\n",
    ")\n",
    "\n",
    "levels_transformation_config = Transformation(\n",
    "    description=\"Levels\",\n",
    "    type=\"Reduced\",\n",
    "    task=\"Domain_Level\",\n",
    "    domain_data=\"Domain_Level\",\n",
    "    activity=\"Domain_Level\",\n",
    "    stakeholder=\"Domain_Level\",\n",
    "    system_function=\"Interaction_Level\",\n",
    "    interaction=\"Interaction_Level\",\n",
    "    interaction_data=\"Domain_Level\",\n",
    "    workspace=\"Interaction_Level\",\n",
    "    software=\"System_Level\",\n",
    "    internal_action=\"System_Level\",\n",
    "    internal_data=\"System_Level\",\n",
    "    system_level=\"System_Level\",\n",
    ")\n",
    "\n",
    "label_transformation_config = Transformation(\n",
    "    description=\"None\",\n",
    "    type=\"Full\",\n",
    "    task=\"Task\",\n",
    "    domain_data=\"Domain_Data\",\n",
    "    activity=\"Activity\",\n",
    "    stakeholder=\"Stakeholder\",\n",
    "    system_function=\"System_Function\",\n",
    "    interaction=\"Interaction\",\n",
    "    interaction_data=\"Interaction_Data\",\n",
    "    workspace=\"Workspace\",\n",
    "    software=\"System_Level\",\n",
    "    internal_action=\"System_Level\",\n",
    "    internal_data=\"System_Level\",\n",
    "    system_level=\"System_Level\",\n",
    ")"
   ]
  },
  {
   "cell_type": "code",
   "execution_count": 15,
   "metadata": {
    "ExecuteTime": {
     "end_time": "2024-01-26T14:55:19.997740500Z",
     "start_time": "2024-01-26T14:55:18.833065200Z"
    }
   },
   "outputs": [
    {
     "name": "stderr",
     "output_type": "stream",
     "text": [
      "03:55:19 INFO:Hint Label2Id: hint_label2id={'0': 0, 'System_Level': 1, 'Domain_Level': 2, 'Interaction_Level': 3}\n",
      "03:55:19 INFO:Hint Label2Id: hint_label2id={'0': 0, 'Task': 1, 'Domain_Data': 2, 'Activity': 3, 'Stakeholder': 4, 'System_Function': 5, 'Interaction': 6, 'Interaction_Data': 7, 'Workspace': 8, 'System_Level': 9}\n"
     ]
    }
   ],
   "source": [
    "from tooling.transformation import get_hint_transformation\n",
    "import pickle\n",
    "\n",
    "hint_transformation = get_hint_transformation(\n",
    "    transformation_cfg=OmegaConf.structured(levels_transformation_config)\n",
    ")\n",
    "\n",
    "Path(\"./src/service/models/\").mkdir(parents=True, exist_ok=True)\n",
    "\n",
    "hint_label2id = hint_transformation[\"label2id\"]\n",
    "pickle.dump(\n",
    "    hint_label2id, open(\"./src/service/models/hint_label2id.pickle\", \"wb\")\n",
    ")\n",
    "hint_id2label = {y: x for x, y in hint_label2id.items()}\n",
    "pickle.dump(\n",
    "    hint_id2label, open(\"./src/service/models/hint_id2label.pickle\", \"wb\")\n",
    ")\n",
    "\n",
    "transformation = get_hint_transformation(\n",
    "    transformation_cfg=OmegaConf.structured(label_transformation_config)\n",
    ")\n",
    "label2id = transformation[\"label2id\"]\n",
    "pickle.dump(label2id, open(\"./src/service/models/label2id.pickle\", \"wb\"))\n",
    "id2label = {y: x for x, y in label2id.items()}\n",
    "pickle.dump(id2label, open(\"./src/service/models/id2label.pickle\", \"wb\"))"
   ]
  },
  {
   "cell_type": "markdown",
   "metadata": {},
   "source": [
    "## Train BiLSTM First Stage Model\n"
   ]
  },
  {
   "cell_type": "code",
   "execution_count": 25,
   "metadata": {},
   "outputs": [
    {
     "name": "stderr",
     "output_type": "stream",
     "text": [
      "04:00:10 INFO:\n",
      "bilstm:\n",
      "  type: BiLSTM\n",
      "  sentence_length: 106\n",
      "  batch_size: 16\n",
      "  number_epochs: 5\n",
      "  verbose: 1\n",
      "  weighted_classes: false\n",
      "  learning_rate: 0.006\n",
      "experiment:\n",
      "  name: Production\n",
      "  description: ''\n",
      "  random_state: 125\n",
      "  folds: 5\n",
      "  iterations: 5\n",
      "  average: macro\n",
      "  dataset: all\n",
      "  lower_case: true\n",
      "  force: false\n",
      "  pin_commit: false\n",
      "transformation:\n",
      "  description: Levels\n",
      "  type: Reduced\n",
      "  task: Domain_Level\n",
      "  goals: null\n",
      "  domain_data: Domain_Level\n",
      "  activity: Domain_Level\n",
      "  stakeholder: Domain_Level\n",
      "  system_function: Interaction_Level\n",
      "  interaction: Interaction_Level\n",
      "  interaction_data: Interaction_Level\n",
      "  workspace: Interaction_Level\n",
      "  software: System_Level\n",
      "  internal_action: System_Level\n",
      "  internal_data: System_Level\n",
      "  system_level: System_Level\n",
      "\n",
      "04:00:11 WARNING:Experiment was already run, aborting\n"
     ]
    },
    {
     "name": "stdout",
     "output_type": "stream",
     "text": [
      "97f6d3072d1644f6a08c33ebc3c165b5\n",
      "mlflow-artifacts:/6/c2b199bb34b04b278480a86e58086f0c/artifacts\n"
     ]
    },
    {
     "data": {
      "application/vnd.jupyter.widget-view+json": {
       "model_id": "867f5aad23604a51aac9998731d88979",
       "version_major": 2,
       "version_minor": 0
      },
      "text/plain": [
       "Downloading artifacts:   0%|          | 0/5 [00:00<?, ?it/s]"
      ]
     },
     "metadata": {},
     "output_type": "display_data"
    },
    {
     "data": {
      "text/plain": [
       "PosixPath('src/service/models/bilstm')"
      ]
     },
     "execution_count": 25,
     "metadata": {},
     "output_type": "execute_result"
    }
   ],
   "source": [
    "from tooling.observability import get_run_id\n",
    "from tooling.config import BiLSTMConfig, BiLSTM\n",
    "\n",
    "from copy import deepcopy\n",
    "\n",
    "bilstm_experiment_config = deepcopy(base_experiment_config)\n",
    "bilstm_experiment_config.name = \"Production\"\n",
    "\n",
    "bilstm_config = BiLSTM(\n",
    "    batch_size=16,\n",
    "    learning_rate=0.006,\n",
    "    number_epochs=5,\n",
    "    weighted_classes=False,\n",
    "    sentence_length=106,\n",
    ")\n",
    "\n",
    "bilstm_cfg: BiLSTMConfig = OmegaConf.structured(\n",
    "    BiLSTMConfig(\n",
    "        bilstm=bilstm_config,\n",
    "        experiment=bilstm_experiment_config,\n",
    "        transformation=levels_transformation_config,\n",
    "    )\n",
    ")\n",
    "\n",
    "# bilstm_cfg.experiment.force = True\n",
    "\n",
    "if run_experiments:\n",
    "    from experiments.bilstm import bilstm\n",
    "\n",
    "    bilstm(bilstm_cfg)\n",
    "\n",
    "\n",
    "bilstm_run_id = get_run_id(bilstm_cfg, pin_commit=pin_commits)\n",
    "\n",
    "print(bilstm_run_id)\n",
    "print(mlflow.get_artifact_uri())\n",
    "\n",
    "bilstm_run = mlflow.get_run(bilstm_run_id)\n",
    "mlflow.artifacts.download_artifacts(\n",
    "    f\"{bilstm_run.info.artifact_uri}/0_model\",\n",
    "    dst_path=Path(\"./src/service/models/\"),\n",
    ")\n",
    "try:\n",
    "    shutil.rmtree(Path(\"./src/service/models/bilstm\"))\n",
    "except FileNotFoundError:\n",
    "    pass\n",
    "Path(\"./src/service/models/0_model\").rename(\"./src/service/models/bilstm\")"
   ]
  },
  {
   "cell_type": "markdown",
   "metadata": {},
   "source": [
    "## Train SNER First Stage Model\n"
   ]
  },
  {
   "cell_type": "code",
   "execution_count": 15,
   "metadata": {},
   "outputs": [
    {
     "name": "stderr",
     "output_type": "stream",
     "text": [
      "10:07:01 INFO:\n",
      "sner:\n",
      "  type: SNER\n",
      "experiment:\n",
      "  name: Production 1\n",
      "  description: ''\n",
      "  random_state: 125\n",
      "  folds: 5\n",
      "  iterations: 5\n",
      "  average: macro\n",
      "  dataset: all\n",
      "  lower_case: true\n",
      "  force: false\n",
      "  pin_commit: false\n",
      "transformation:\n",
      "  description: Levels\n",
      "  type: Reduced\n",
      "  task: Domain_Level\n",
      "  goals: null\n",
      "  domain_data: Domain_Level\n",
      "  activity: Domain_Level\n",
      "  stakeholder: Domain_Level\n",
      "  system_function: Interaction_Level\n",
      "  interaction: Interaction_Level\n",
      "  interaction_data: Interaction_Level\n",
      "  workspace: Interaction_Level\n",
      "  software: System_Level\n",
      "  internal_action: System_Level\n",
      "  internal_data: System_Level\n",
      "  system_level: System_Level\n",
      "\n",
      "10:07:01 INFO:New experiment. Running\n",
      "10:07:01 INFO:Entering mlflow context\n",
      "10:07:02 INFO:Importing dataset: anno from /Users/bockstaller/code/uvl-tore-classifier-bert/src/data/datasets/forum/anno_test.json\n",
      "10:07:02 INFO:Importing dataset: anno from /Users/bockstaller/code/uvl-tore-classifier-bert/src/data/datasets/forum/anno_train.json\n",
      "10:07:02 INFO:Importing dataset: prolific from /Users/bockstaller/code/uvl-tore-classifier-bert/src/data/datasets/prolific/TORE_Coded_Answers_1_33.json\n",
      "10:07:03 INFO:Importing dataset: prolific from /Users/bockstaller/code/uvl-tore-classifier-bert/src/data/datasets/prolific/TORE_Coded_Answers_34_66.json\n",
      "10:07:03 INFO:Importing dataset: prolific from /Users/bockstaller/code/uvl-tore-classifier-bert/src/data/datasets/prolific/TORE_Coded_Answers_67_100.json\n",
      "10:07:03 INFO:Importing dataset: komoot from /Users/bockstaller/code/uvl-tore-classifier-bert/src/data/datasets/app/Komoot_AppReview.json\n",
      "10:07:07 INFO:Keyboard interrupt received\n"
     ]
    },
    {
     "ename": "AttributeError",
     "evalue": "'tuple' object has no attribute 'tb_frame'",
     "output_type": "error",
     "traceback": [
      "\u001B[0;31m---------------------------------------------------------------------------\u001B[0m",
      "\u001B[0;31mKeyboardInterrupt\u001B[0m                         Traceback (most recent call last)",
      "File \u001B[0;32m~/code/uvl-tore-classifier-bert/src/experiments/sner.py:31\u001B[0m, in \u001B[0;36msner\u001B[0;34m(cfg)\u001B[0m\n\u001B[1;32m     30\u001B[0m \u001B[39mtry\u001B[39;00m:\n\u001B[0;32m---> 31\u001B[0m     sner_pipeline(cfg, run_name\u001B[39m=\u001B[39;49mcurrent_run\u001B[39m.\u001B[39;49minfo\u001B[39m.\u001B[39;49mrun_name)\n\u001B[1;32m     32\u001B[0m     end_tracing()\n",
      "File \u001B[0;32m~/code/uvl-tore-classifier-bert/src/classifiers/sner/pipeline.py:37\u001B[0m, in \u001B[0;36msner_pipeline\u001B[0;34m(cfg, run_name)\u001B[0m\n\u001B[1;32m     36\u001B[0m \u001B[39m# Transform Dataset\u001B[39;00m\n\u001B[0;32m---> 37\u001B[0m transformed_dataset \u001B[39m=\u001B[39m transform_dataset(\n\u001B[1;32m     38\u001B[0m     cfg, run_name, fill_with_zeros\u001B[39m=\u001B[39;49m\u001B[39mFalse\u001B[39;49;00m\n\u001B[1;32m     39\u001B[0m )\n\u001B[1;32m     40\u001B[0m id2label \u001B[39m=\u001B[39m get_id2label(transformed_dataset[\u001B[39m\"\u001B[39m\u001B[39mlabels\u001B[39m\u001B[39m\"\u001B[39m])\n",
      "File \u001B[0;32m~/code/uvl-tore-classifier-bert/src/tooling/transformation.py:106\u001B[0m, in \u001B[0;36mtransform_dataset\u001B[0;34m(cfg, run_name, fill_with_zeros)\u001B[0m\n\u001B[1;32m    103\u001B[0m \u001B[39mdef\u001B[39;00m \u001B[39mtransform_dataset\u001B[39m(\n\u001B[1;32m    104\u001B[0m     cfg: Config, run_name: \u001B[39mstr\u001B[39m, fill_with_zeros: \u001B[39mbool\u001B[39m\n\u001B[1;32m    105\u001B[0m ) \u001B[39m-\u001B[39m\u001B[39m>\u001B[39m TransformedDataset:\n\u001B[0;32m--> 106\u001B[0m     d \u001B[39m=\u001B[39m load_dataset(name\u001B[39m=\u001B[39;49mrun_name)\n\u001B[1;32m    108\u001B[0m     transformed_dataset \u001B[39m=\u001B[39m _transform_dataset(dataset\u001B[39m=\u001B[39md, cfg\u001B[39m=\u001B[39mcfg\u001B[39m.\u001B[39mtransformation)\n",
      "File \u001B[0;32m~/code/uvl-tore-classifier-bert/src/tooling/loading.py:273\u001B[0m, in \u001B[0;36mload_dataset\u001B[0;34m(name)\u001B[0m\n\u001B[1;32m    269\u001B[0m \u001B[39mwith\u001B[39;00m \u001B[39mopen\u001B[39m(\n\u001B[1;32m    270\u001B[0m     filepath,\n\u001B[1;32m    271\u001B[0m     mode\u001B[39m=\u001B[39m\u001B[39m\"\u001B[39m\u001B[39mrb\u001B[39m\u001B[39m\"\u001B[39m,\n\u001B[1;32m    272\u001B[0m ) \u001B[39mas\u001B[39;00m pickle_file:\n\u001B[0;32m--> 273\u001B[0m     dataset \u001B[39m=\u001B[39m pickle\u001B[39m.\u001B[39;49mload(pickle_file)\n\u001B[1;32m    274\u001B[0m \u001B[39mreturn\u001B[39;00m cast(DataSet[DataDF], dataset)\n",
      "File \u001B[0;32m~/.pyenv/versions/3.11.4/lib/python3.11/uuid.py:236\u001B[0m, in \u001B[0;36mUUID.__setstate__\u001B[0;34m(self, state)\u001B[0m\n\u001B[1;32m    235\u001B[0m \u001B[39m# is_safe was added in 3.7; it is also omitted when it is \"unknown\"\u001B[39;00m\n\u001B[0;32m--> 236\u001B[0m \u001B[39mobject\u001B[39;49m\u001B[39m.\u001B[39;49m\u001B[39m__setattr__\u001B[39;49m(\u001B[39mself\u001B[39;49m, \u001B[39m'\u001B[39;49m\u001B[39mis_safe\u001B[39;49m\u001B[39m'\u001B[39;49m,\n\u001B[1;32m    237\u001B[0m                    SafeUUID(state[\u001B[39m'\u001B[39;49m\u001B[39mis_safe\u001B[39;49m\u001B[39m'\u001B[39;49m])\n\u001B[1;32m    238\u001B[0m                    \u001B[39mif\u001B[39;49;00m \u001B[39m'\u001B[39;49m\u001B[39mis_safe\u001B[39;49m\u001B[39m'\u001B[39;49m \u001B[39min\u001B[39;49;00m state \u001B[39melse\u001B[39;49;00m SafeUUID\u001B[39m.\u001B[39;49munknown)\n",
      "\u001B[0;31mKeyboardInterrupt\u001B[0m: ",
      "\nDuring handling of the above exception, another exception occurred:\n",
      "\u001B[0;31mSystemExit\u001B[0m                                Traceback (most recent call last)",
      "    \u001B[0;31m[... skipping hidden 1 frame]\u001B[0m\n",
      "\u001B[1;32m/Users/bockstaller/code/uvl-tore-classifier-bert/train.ipynb Cell 10\u001B[0m line \u001B[0;36m2\n\u001B[1;32m     <a href='vscode-notebook-cell:/Users/bockstaller/code/uvl-tore-classifier-bert/train.ipynb#X12sZmlsZQ%3D%3D?line=19'>20</a>\u001B[0m     \u001B[39mfrom\u001B[39;00m \u001B[39mexperiments\u001B[39;00m\u001B[39m.\u001B[39;00m\u001B[39msner\u001B[39;00m \u001B[39mimport\u001B[39;00m sner\n\u001B[0;32m---> <a href='vscode-notebook-cell:/Users/bockstaller/code/uvl-tore-classifier-bert/train.ipynb#X12sZmlsZQ%3D%3D?line=21'>22</a>\u001B[0m     sner(OmegaConf\u001B[39m.\u001B[39;49mcreate(sner_cfg))\n\u001B[1;32m     <a href='vscode-notebook-cell:/Users/bockstaller/code/uvl-tore-classifier-bert/train.ipynb#X12sZmlsZQ%3D%3D?line=23'>24</a>\u001B[0m sner_run_id \u001B[39m=\u001B[39m get_run_id(sner_cfg, pin_commit\u001B[39m=\u001B[39mpin_commits)\n",
      "File \u001B[0;32m~/code/uvl-tore-classifier-bert/venv/lib/python3.11/site-packages/hydra/main.py:83\u001B[0m, in \u001B[0;36mmain.<locals>.main_decorator.<locals>.decorated_main\u001B[0;34m(cfg_passthrough)\u001B[0m\n\u001B[1;32m     82\u001B[0m \u001B[39mif\u001B[39;00m cfg_passthrough \u001B[39mis\u001B[39;00m \u001B[39mnot\u001B[39;00m \u001B[39mNone\u001B[39;00m:\n\u001B[0;32m---> 83\u001B[0m     \u001B[39mreturn\u001B[39;00m task_function(cfg_passthrough)\n\u001B[1;32m     84\u001B[0m \u001B[39melse\u001B[39;00m:\n",
      "File \u001B[0;32m~/code/uvl-tore-classifier-bert/src/experiments/sner.py:37\u001B[0m, in \u001B[0;36msner\u001B[0;34m(cfg)\u001B[0m\n\u001B[1;32m     36\u001B[0m     end_tracing()\n\u001B[0;32m---> 37\u001B[0m     sys\u001B[39m.\u001B[39mexit()\n\u001B[1;32m     39\u001B[0m \u001B[39mexcept\u001B[39;00m \u001B[39mException\u001B[39;00m \u001B[39mas\u001B[39;00m e:\n",
      "\u001B[0;31mSystemExit\u001B[0m: ",
      "\nDuring handling of the above exception, another exception occurred:\n",
      "\u001B[0;31mAttributeError\u001B[0m                            Traceback (most recent call last)",
      "    \u001B[0;31m[... skipping hidden 1 frame]\u001B[0m\n",
      "File \u001B[0;32m~/code/uvl-tore-classifier-bert/venv/lib/python3.11/site-packages/IPython/core/interactiveshell.py:2097\u001B[0m, in \u001B[0;36mInteractiveShell.showtraceback\u001B[0;34m(self, exc_tuple, filename, tb_offset, exception_only, running_compiled_code)\u001B[0m\n\u001B[1;32m   2094\u001B[0m \u001B[39mif\u001B[39;00m exception_only:\n\u001B[1;32m   2095\u001B[0m     stb \u001B[39m=\u001B[39m [\u001B[39m'\u001B[39m\u001B[39mAn exception has occurred, use \u001B[39m\u001B[39m%\u001B[39m\u001B[39mtb to see \u001B[39m\u001B[39m'\u001B[39m\n\u001B[1;32m   2096\u001B[0m            \u001B[39m'\u001B[39m\u001B[39mthe full traceback.\u001B[39m\u001B[39m\\n\u001B[39;00m\u001B[39m'\u001B[39m]\n\u001B[0;32m-> 2097\u001B[0m     stb\u001B[39m.\u001B[39mextend(\u001B[39mself\u001B[39;49m\u001B[39m.\u001B[39;49mInteractiveTB\u001B[39m.\u001B[39;49mget_exception_only(etype,\n\u001B[1;32m   2098\u001B[0m                                                      value))\n\u001B[1;32m   2099\u001B[0m \u001B[39melse\u001B[39;00m:\n\u001B[1;32m   2101\u001B[0m     \u001B[39mdef\u001B[39;00m \u001B[39mcontains_exceptiongroup\u001B[39m(val):\n",
      "File \u001B[0;32m~/code/uvl-tore-classifier-bert/venv/lib/python3.11/site-packages/IPython/core/ultratb.py:710\u001B[0m, in \u001B[0;36mListTB.get_exception_only\u001B[0;34m(self, etype, value)\u001B[0m\n\u001B[1;32m    702\u001B[0m \u001B[39mdef\u001B[39;00m \u001B[39mget_exception_only\u001B[39m(\u001B[39mself\u001B[39m, etype, value):\n\u001B[1;32m    703\u001B[0m \u001B[39m    \u001B[39m\u001B[39m\"\"\"Only print the exception type and message, without a traceback.\u001B[39;00m\n\u001B[1;32m    704\u001B[0m \n\u001B[1;32m    705\u001B[0m \u001B[39m    Parameters\u001B[39;00m\n\u001B[0;32m   (...)\u001B[0m\n\u001B[1;32m    708\u001B[0m \u001B[39m    value : exception value\u001B[39;00m\n\u001B[1;32m    709\u001B[0m \u001B[39m    \"\"\"\u001B[39;00m\n\u001B[0;32m--> 710\u001B[0m     \u001B[39mreturn\u001B[39;00m ListTB\u001B[39m.\u001B[39;49mstructured_traceback(\u001B[39mself\u001B[39;49m, etype, value)\n",
      "File \u001B[0;32m~/code/uvl-tore-classifier-bert/venv/lib/python3.11/site-packages/IPython/core/ultratb.py:568\u001B[0m, in \u001B[0;36mListTB.structured_traceback\u001B[0;34m(self, etype, evalue, etb, tb_offset, context)\u001B[0m\n\u001B[1;32m    565\u001B[0m     chained_exc_ids\u001B[39m.\u001B[39madd(\u001B[39mid\u001B[39m(exception[\u001B[39m1\u001B[39m]))\n\u001B[1;32m    566\u001B[0m     chained_exceptions_tb_offset \u001B[39m=\u001B[39m \u001B[39m0\u001B[39m\n\u001B[1;32m    567\u001B[0m     out_list \u001B[39m=\u001B[39m (\n\u001B[0;32m--> 568\u001B[0m         \u001B[39mself\u001B[39;49m\u001B[39m.\u001B[39;49mstructured_traceback(\n\u001B[1;32m    569\u001B[0m             etype,\n\u001B[1;32m    570\u001B[0m             evalue,\n\u001B[1;32m    571\u001B[0m             (etb, chained_exc_ids),  \u001B[39m# type: ignore\u001B[39;49;00m\n\u001B[1;32m    572\u001B[0m             chained_exceptions_tb_offset,\n\u001B[1;32m    573\u001B[0m             context,\n\u001B[1;32m    574\u001B[0m         )\n\u001B[1;32m    575\u001B[0m         \u001B[39m+\u001B[39m chained_exception_message\n\u001B[1;32m    576\u001B[0m         \u001B[39m+\u001B[39m out_list)\n\u001B[1;32m    578\u001B[0m \u001B[39mreturn\u001B[39;00m out_list\n",
      "File \u001B[0;32m~/code/uvl-tore-classifier-bert/venv/lib/python3.11/site-packages/IPython/core/ultratb.py:1435\u001B[0m, in \u001B[0;36mAutoFormattedTB.structured_traceback\u001B[0;34m(self, etype, evalue, etb, tb_offset, number_of_lines_of_context)\u001B[0m\n\u001B[1;32m   1433\u001B[0m \u001B[39melse\u001B[39;00m:\n\u001B[1;32m   1434\u001B[0m     \u001B[39mself\u001B[39m\u001B[39m.\u001B[39mtb \u001B[39m=\u001B[39m etb\n\u001B[0;32m-> 1435\u001B[0m \u001B[39mreturn\u001B[39;00m FormattedTB\u001B[39m.\u001B[39;49mstructured_traceback(\n\u001B[1;32m   1436\u001B[0m     \u001B[39mself\u001B[39;49m, etype, evalue, etb, tb_offset, number_of_lines_of_context\n\u001B[1;32m   1437\u001B[0m )\n",
      "File \u001B[0;32m~/code/uvl-tore-classifier-bert/venv/lib/python3.11/site-packages/IPython/core/ultratb.py:1326\u001B[0m, in \u001B[0;36mFormattedTB.structured_traceback\u001B[0;34m(self, etype, value, tb, tb_offset, number_of_lines_of_context)\u001B[0m\n\u001B[1;32m   1323\u001B[0m mode \u001B[39m=\u001B[39m \u001B[39mself\u001B[39m\u001B[39m.\u001B[39mmode\n\u001B[1;32m   1324\u001B[0m \u001B[39mif\u001B[39;00m mode \u001B[39min\u001B[39;00m \u001B[39mself\u001B[39m\u001B[39m.\u001B[39mverbose_modes:\n\u001B[1;32m   1325\u001B[0m     \u001B[39m# Verbose modes need a full traceback\u001B[39;00m\n\u001B[0;32m-> 1326\u001B[0m     \u001B[39mreturn\u001B[39;00m VerboseTB\u001B[39m.\u001B[39;49mstructured_traceback(\n\u001B[1;32m   1327\u001B[0m         \u001B[39mself\u001B[39;49m, etype, value, tb, tb_offset, number_of_lines_of_context\n\u001B[1;32m   1328\u001B[0m     )\n\u001B[1;32m   1329\u001B[0m \u001B[39melif\u001B[39;00m mode \u001B[39m==\u001B[39m \u001B[39m'\u001B[39m\u001B[39mMinimal\u001B[39m\u001B[39m'\u001B[39m:\n\u001B[1;32m   1330\u001B[0m     \u001B[39mreturn\u001B[39;00m ListTB\u001B[39m.\u001B[39mget_exception_only(\u001B[39mself\u001B[39m, etype, value)\n",
      "File \u001B[0;32m~/code/uvl-tore-classifier-bert/venv/lib/python3.11/site-packages/IPython/core/ultratb.py:1173\u001B[0m, in \u001B[0;36mVerboseTB.structured_traceback\u001B[0;34m(self, etype, evalue, etb, tb_offset, number_of_lines_of_context)\u001B[0m\n\u001B[1;32m   1164\u001B[0m \u001B[39mdef\u001B[39;00m \u001B[39mstructured_traceback\u001B[39m(\n\u001B[1;32m   1165\u001B[0m     \u001B[39mself\u001B[39m,\n\u001B[1;32m   1166\u001B[0m     etype: \u001B[39mtype\u001B[39m,\n\u001B[0;32m   (...)\u001B[0m\n\u001B[1;32m   1170\u001B[0m     number_of_lines_of_context: \u001B[39mint\u001B[39m \u001B[39m=\u001B[39m \u001B[39m5\u001B[39m,\n\u001B[1;32m   1171\u001B[0m ):\n\u001B[1;32m   1172\u001B[0m \u001B[39m    \u001B[39m\u001B[39m\"\"\"Return a nice text document describing the traceback.\"\"\"\u001B[39;00m\n\u001B[0;32m-> 1173\u001B[0m     formatted_exception \u001B[39m=\u001B[39m \u001B[39mself\u001B[39;49m\u001B[39m.\u001B[39;49mformat_exception_as_a_whole(etype, evalue, etb, number_of_lines_of_context,\n\u001B[1;32m   1174\u001B[0m                                                            tb_offset)\n\u001B[1;32m   1176\u001B[0m     colors \u001B[39m=\u001B[39m \u001B[39mself\u001B[39m\u001B[39m.\u001B[39mColors  \u001B[39m# just a shorthand + quicker name lookup\u001B[39;00m\n\u001B[1;32m   1177\u001B[0m     colorsnormal \u001B[39m=\u001B[39m colors\u001B[39m.\u001B[39mNormal  \u001B[39m# used a lot\u001B[39;00m\n",
      "File \u001B[0;32m~/code/uvl-tore-classifier-bert/venv/lib/python3.11/site-packages/IPython/core/ultratb.py:1063\u001B[0m, in \u001B[0;36mVerboseTB.format_exception_as_a_whole\u001B[0;34m(self, etype, evalue, etb, number_of_lines_of_context, tb_offset)\u001B[0m\n\u001B[1;32m   1060\u001B[0m \u001B[39massert\u001B[39;00m \u001B[39misinstance\u001B[39m(tb_offset, \u001B[39mint\u001B[39m)\n\u001B[1;32m   1061\u001B[0m head \u001B[39m=\u001B[39m \u001B[39mself\u001B[39m\u001B[39m.\u001B[39mprepare_header(\u001B[39mstr\u001B[39m(etype), \u001B[39mself\u001B[39m\u001B[39m.\u001B[39mlong_header)\n\u001B[1;32m   1062\u001B[0m records \u001B[39m=\u001B[39m (\n\u001B[0;32m-> 1063\u001B[0m     \u001B[39mself\u001B[39;49m\u001B[39m.\u001B[39;49mget_records(etb, number_of_lines_of_context, tb_offset) \u001B[39mif\u001B[39;00m etb \u001B[39melse\u001B[39;00m []\n\u001B[1;32m   1064\u001B[0m )\n\u001B[1;32m   1066\u001B[0m frames \u001B[39m=\u001B[39m []\n\u001B[1;32m   1067\u001B[0m skipped \u001B[39m=\u001B[39m \u001B[39m0\u001B[39m\n",
      "File \u001B[0;32m~/code/uvl-tore-classifier-bert/venv/lib/python3.11/site-packages/IPython/core/ultratb.py:1131\u001B[0m, in \u001B[0;36mVerboseTB.get_records\u001B[0;34m(self, etb, number_of_lines_of_context, tb_offset)\u001B[0m\n\u001B[1;32m   1129\u001B[0m \u001B[39mwhile\u001B[39;00m cf \u001B[39mis\u001B[39;00m \u001B[39mnot\u001B[39;00m \u001B[39mNone\u001B[39;00m:\n\u001B[1;32m   1130\u001B[0m     \u001B[39mtry\u001B[39;00m:\n\u001B[0;32m-> 1131\u001B[0m         mod \u001B[39m=\u001B[39m inspect\u001B[39m.\u001B[39mgetmodule(cf\u001B[39m.\u001B[39;49mtb_frame)\n\u001B[1;32m   1132\u001B[0m         \u001B[39mif\u001B[39;00m mod \u001B[39mis\u001B[39;00m \u001B[39mnot\u001B[39;00m \u001B[39mNone\u001B[39;00m:\n\u001B[1;32m   1133\u001B[0m             mod_name \u001B[39m=\u001B[39m mod\u001B[39m.\u001B[39m\u001B[39m__name__\u001B[39m\n",
      "\u001B[0;31mAttributeError\u001B[0m: 'tuple' object has no attribute 'tb_frame'"
     ]
    }
   ],
   "source": [
    "from tooling.observability import get_run_id\n",
    "from tooling.config import SNERConfig, SNER\n",
    "\n",
    "from copy import deepcopy\n",
    "\n",
    "sner_experiment_config = deepcopy(base_experiment_config)\n",
    "sner_experiment_config.name = \"Production\"\n",
    "\n",
    "sner_config = SNER()\n",
    "\n",
    "sner_cfg = OmegaConf.structured(\n",
    "    SNERConfig(\n",
    "        sner=sner_config,\n",
    "        experiment=sner_experiment_config,\n",
    "        transformation=levels_transformation_config,\n",
    "    )\n",
    ")\n",
    "\n",
    "if run_experiments:\n",
    "    from experiments.sner import sner\n",
    "\n",
    "    sner(OmegaConf.create(sner_cfg))\n",
    "\n",
    "sner_run_id = get_run_id(sner_cfg, pin_commit=pin_commits)\n",
    "print(mlflow.get_artifact_uri())\n",
    "print(sner_run_id)\n",
    "\n",
    "sner_run = mlflow.get_run(sner_run_id)\n",
    "mlflow.artifacts.download_artifacts(\n",
    "    f\"{sner_run.info.artifact_uri}/0_model.ser.gz\",\n",
    "    dst_path=Path(\"./src/service/models/\"),\n",
    ")\n",
    "try:\n",
    "    Path(\"./src/service/models/sner.ser.gz\").unlink()\n",
    "except FileNotFoundError:\n",
    "    pass\n",
    "Path(\"./src/service/models/0_model.ser.gz\").rename(\n",
    "    \"./src/service/models/sner.ser.gz\"\n",
    ")"
   ]
  },
  {
   "cell_type": "markdown",
   "metadata": {},
   "source": [
    "## Train BERT First Stage Model\n"
   ]
  },
  {
   "cell_type": "code",
   "execution_count": 10,
   "metadata": {
    "ExecuteTime": {
     "end_time": "2023-11-06T14:32:18.269867300Z",
     "start_time": "2023-11-06T11:34:28.874075100Z"
    }
   },
   "outputs": [
    {
     "name": "stderr",
     "output_type": "stream",
     "text": [
      "12:34:29 INFO:\n",
      "bert:\n",
      "  model: bert-base-uncased\n",
      "  type: BERT\n",
      "  max_len: 123\n",
      "  train_batch_size: 8\n",
      "  validation_batch_size: 64\n",
      "  number_epochs: 8\n",
      "  learning_rate_bert: 3.0e-05\n",
      "  learning_rate_classifier: 0.0005\n",
      "  weight_decay: 0.01\n",
      "  weighted_classes: true\n",
      "experiment:\n",
      "  name: Production\n",
      "  description: ''\n",
      "  random_state: 125\n",
      "  folds: 5\n",
      "  iterations: 2\n",
      "  average: macro\n",
      "  dataset: all\n",
      "  lower_case: true\n",
      "  force: false\n",
      "  pin_commit: false\n",
      "transformation:\n",
      "  description: Levels\n",
      "  type: Reduced\n",
      "  task: Domain_Level\n",
      "  goals: null\n",
      "  domain_data: Domain_Level\n",
      "  activity: Domain_Level\n",
      "  stakeholder: Domain_Level\n",
      "  system_function: Interaction_Level\n",
      "  interaction: Interaction_Level\n",
      "  interaction_data: Domain_Level\n",
      "  workspace: Interaction_Level\n",
      "  software: System_Level\n",
      "  internal_action: System_Level\n",
      "  internal_data: System_Level\n",
      "  system_level: System_Level\n",
      "\n",
      "12:34:30 INFO:New experiment. Running\n",
      "12:34:30 INFO:Entering mlflow context\n",
      "12:34:31 INFO:Importing dataset: anno from E:\\BERT\\uvl-tore-classifier-bert\\src\\data\\datasets\\forum\\anno_test.json\n",
      "12:34:31 INFO:Importing dataset: anno from E:\\BERT\\uvl-tore-classifier-bert\\src\\data\\datasets\\forum\\anno_train.json\n",
      "12:34:32 INFO:Importing dataset: prolific from E:\\BERT\\uvl-tore-classifier-bert\\src\\data\\datasets\\prolific\\TORE_Coded_Answers_1_33.json\n",
      "12:34:32 INFO:Importing dataset: prolific from E:\\BERT\\uvl-tore-classifier-bert\\src\\data\\datasets\\prolific\\TORE_Coded_Answers_34_66.json\n",
      "12:34:32 INFO:Importing dataset: prolific from E:\\BERT\\uvl-tore-classifier-bert\\src\\data\\datasets\\prolific\\TORE_Coded_Answers_67_100.json\n",
      "12:34:33 INFO:Importing dataset: komoot from E:\\BERT\\uvl-tore-classifier-bert\\src\\data\\datasets\\app\\Komoot_AppReview.json\n",
      "12:34:37 INFO:Dataset Labels: transformed_dataset['labels']=['Domain_Level', '0', 'System_Level', 'Interaction_Level']\n",
      "12:34:37 INFO:Class weights: {'0': 0.33736363, 'System_Level': 6.415328, 'Domain_Level': 1.9850894, 'Interaction_Level': 2.65811}\n",
      "12:34:38 INFO:Configured maximal token sequence length: max_len = 123\n",
      "12:34:41 INFO:Created fold datasets for fold: 0, stored at paths=[WindowsPath('E:/BERT/uvl-tore-classifier-bert/src/data/temp/sampling/adorable-stag-934/0_data_train.pickle'), WindowsPath('E:/BERT/uvl-tore-classifier-bert/src/data/temp/sampling/adorable-stag-934/0_data_train.csv'), WindowsPath('E:/BERT/uvl-tore-classifier-bert/src/data/temp/sampling/adorable-stag-934/0_data_test.pickle'), WindowsPath('E:/BERT/uvl-tore-classifier-bert/src/data/temp/sampling/adorable-stag-934/0_data_test.csv')]\n",
      "12:34:41 INFO:Starting iteration=0\n"
     ]
    },
    {
     "data": {
      "text/plain": "Map:   0%|          | 0/2488 [00:00<?, ? examples/s]",
      "application/vnd.jupyter.widget-view+json": {
       "version_major": 2,
       "version_minor": 0,
       "model_id": "ab933578c74744b9a9374ca131d4ff68"
      }
     },
     "metadata": {},
     "output_type": "display_data"
    },
    {
     "data": {
      "text/plain": "Map:   0%|          | 0/622 [00:00<?, ? examples/s]",
      "application/vnd.jupyter.widget-view+json": {
       "version_major": 2,
       "version_minor": 0,
       "model_id": "a7da8c99d1994a73985cdac3a2d356e8"
      }
     },
     "metadata": {},
     "output_type": "display_data"
    },
    {
     "name": "stderr",
     "output_type": "stream",
     "text": [
      "12:45:35 INFO:Logged iteration result res.precision=0.7138472938976229 res.recall=0.8025448298624706\n"
     ]
    },
    {
     "name": "stdout",
     "output_type": "stream",
     "text": [
      "{'eval_loss': 0.5497260689735413, 'eval_step': 0, 'eval_precision': 0.7138472938976229, 'eval_recall': 0.8025448298624706, 'eval_f1': 0.7556019924559958, 'eval_label_count': 4, 'eval_runtime': 51.2529, 'eval_samples_per_second': 12.136, 'eval_steps_per_second': 0.195, 'epoch': 1.0}\n",
      "{'loss': 0.5543, 'learning_rate': 2.397106109324759e-05, 'epoch': 1.61}\n"
     ]
    },
    {
     "name": "stderr",
     "output_type": "stream",
     "text": [
      "12:56:44 INFO:Logged iteration result res.precision=0.7169884805605227 res.recall=0.8110960226202684\n"
     ]
    },
    {
     "name": "stdout",
     "output_type": "stream",
     "text": [
      "{'eval_loss': 0.5532819032669067, 'eval_step': 2, 'eval_precision': 0.7169884805605227, 'eval_recall': 0.8110960226202684, 'eval_f1': 0.7611444310006008, 'eval_label_count': 4, 'eval_runtime': 43.8228, 'eval_samples_per_second': 14.194, 'eval_steps_per_second': 0.228, 'epoch': 2.0}\n"
     ]
    },
    {
     "name": "stderr",
     "output_type": "stream",
     "text": [
      "01:07:05 INFO:Logged iteration result res.precision=0.7321265095467913 res.recall=0.8115991058265412\n"
     ]
    },
    {
     "name": "stdout",
     "output_type": "stream",
     "text": [
      "{'eval_loss': 0.6271264553070068, 'eval_step': 4, 'eval_precision': 0.7321265095467913, 'eval_recall': 0.8115991058265412, 'eval_f1': 0.769817141832402, 'eval_label_count': 4, 'eval_runtime': 40.1474, 'eval_samples_per_second': 15.493, 'eval_steps_per_second': 0.249, 'epoch': 3.0}\n",
      "{'loss': 0.2575, 'learning_rate': 1.7942122186495177e-05, 'epoch': 3.22}\n"
     ]
    },
    {
     "name": "stderr",
     "output_type": "stream",
     "text": [
      "01:17:24 INFO:Logged iteration result res.precision=0.7392427299520816 res.recall=0.8144272238427561\n"
     ]
    },
    {
     "name": "stdout",
     "output_type": "stream",
     "text": [
      "{'eval_loss': 0.7858219742774963, 'eval_step': 6, 'eval_precision': 0.7392427299520816, 'eval_recall': 0.8144272238427561, 'eval_f1': 0.7750158298810946, 'eval_label_count': 4, 'eval_runtime': 40.6226, 'eval_samples_per_second': 15.312, 'eval_steps_per_second': 0.246, 'epoch': 4.0}\n",
      "{'loss': 0.1071, 'learning_rate': 1.1913183279742765e-05, 'epoch': 4.82}\n"
     ]
    },
    {
     "name": "stderr",
     "output_type": "stream",
     "text": [
      "01:27:29 INFO:Logged iteration result res.precision=0.7659688098744559 res.recall=0.8072354527833729\n"
     ]
    },
    {
     "name": "stdout",
     "output_type": "stream",
     "text": [
      "{'eval_loss': 0.9812801480293274, 'eval_step': 8, 'eval_precision': 0.7659688098744559, 'eval_recall': 0.8072354527833729, 'eval_f1': 0.7860608996982249, 'eval_label_count': 4, 'eval_runtime': 37.4075, 'eval_samples_per_second': 16.628, 'eval_steps_per_second': 0.267, 'epoch': 5.0}\n"
     ]
    },
    {
     "name": "stderr",
     "output_type": "stream",
     "text": [
      "01:37:29 INFO:Logged iteration result res.precision=0.764501708243209 res.recall=0.8076535801255155\n"
     ]
    },
    {
     "name": "stdout",
     "output_type": "stream",
     "text": [
      "{'eval_loss': 1.0741908550262451, 'eval_step': 10, 'eval_precision': 0.764501708243209, 'eval_recall': 0.8076535801255155, 'eval_f1': 0.7854854367667097, 'eval_label_count': 4, 'eval_runtime': 37.706, 'eval_samples_per_second': 16.496, 'eval_steps_per_second': 0.265, 'epoch': 6.0}\n",
      "{'loss': 0.0513, 'learning_rate': 5.884244372990354e-06, 'epoch': 6.43}\n"
     ]
    },
    {
     "name": "stderr",
     "output_type": "stream",
     "text": [
      "01:47:30 INFO:Logged iteration result res.precision=0.7953796930960135 res.recall=0.798183237227966\n"
     ]
    },
    {
     "name": "stdout",
     "output_type": "stream",
     "text": [
      "{'eval_loss': 1.2535419464111328, 'eval_step': 12, 'eval_precision': 0.7953796930960135, 'eval_recall': 0.798183237227966, 'eval_f1': 0.7967789990341858, 'eval_label_count': 4, 'eval_runtime': 38.1808, 'eval_samples_per_second': 16.291, 'eval_steps_per_second': 0.262, 'epoch': 7.0}\n"
     ]
    },
    {
     "name": "stderr",
     "output_type": "stream",
     "text": [
      "01:57:41 INFO:Logged iteration result res.precision=0.7893143510673583 res.recall=0.8020462195407463\n"
     ]
    },
    {
     "name": "stdout",
     "output_type": "stream",
     "text": [
      "{'eval_loss': 1.2599878311157227, 'eval_step': 14, 'eval_precision': 0.7893143510673583, 'eval_recall': 0.8020462195407463, 'eval_f1': 0.7956293538942205, 'eval_label_count': 4, 'eval_runtime': 40.7994, 'eval_samples_per_second': 15.245, 'eval_steps_per_second': 0.245, 'epoch': 8.0}\n",
      "{'train_runtime': 4980.3486, 'train_samples_per_second': 3.997, 'train_steps_per_second': 0.5, 'train_loss': 0.20053638944288543, 'epoch': 8.0}\n"
     ]
    },
    {
     "name": "stderr",
     "output_type": "stream",
     "text": [
      "01:58:34 INFO:Logged iteration result res.precision=0.7893143510673583 res.recall=0.8020462195407463\n",
      "01:58:35 INFO:Logged iteration result res.precision=0.7893143510673583 res.recall=0.8020462195407463\n",
      "01:58:35 INFO:Finished iteration=0\n",
      "01:58:35 INFO:Logging model artifact (might take a while)\n",
      "02:01:52 INFO:Created fold datasets for fold: 1, stored at paths=[WindowsPath('E:/BERT/uvl-tore-classifier-bert/src/data/temp/sampling/adorable-stag-934/1_data_train.pickle'), WindowsPath('E:/BERT/uvl-tore-classifier-bert/src/data/temp/sampling/adorable-stag-934/1_data_train.csv'), WindowsPath('E:/BERT/uvl-tore-classifier-bert/src/data/temp/sampling/adorable-stag-934/1_data_test.pickle'), WindowsPath('E:/BERT/uvl-tore-classifier-bert/src/data/temp/sampling/adorable-stag-934/1_data_test.csv')]\n",
      "02:01:52 INFO:Starting iteration=1\n"
     ]
    },
    {
     "data": {
      "text/plain": "Map:   0%|          | 0/2488 [00:00<?, ? examples/s]",
      "application/vnd.jupyter.widget-view+json": {
       "version_major": 2,
       "version_minor": 0,
       "model_id": "81bd4c73c1a44a8abeb859c576ded7c5"
      }
     },
     "metadata": {},
     "output_type": "display_data"
    },
    {
     "data": {
      "text/plain": "Map:   0%|          | 0/622 [00:00<?, ? examples/s]",
      "application/vnd.jupyter.widget-view+json": {
       "version_major": 2,
       "version_minor": 0,
       "model_id": "9aaaaa5dc72e445ab4d20c3cb1fc8270"
      }
     },
     "metadata": {},
     "output_type": "display_data"
    },
    {
     "name": "stderr",
     "output_type": "stream",
     "text": [
      "02:11:34 INFO:Logged iteration result res.precision=0.6727319618998074 res.recall=0.8247754042570278\n"
     ]
    },
    {
     "name": "stdout",
     "output_type": "stream",
     "text": [
      "{'eval_loss': 0.5068431496620178, 'eval_step': 0, 'eval_precision': 0.6727319618998074, 'eval_recall': 0.8247754042570278, 'eval_f1': 0.7410351205904211, 'eval_label_count': 4, 'eval_runtime': 38.7322, 'eval_samples_per_second': 16.059, 'eval_steps_per_second': 0.258, 'epoch': 1.0}\n",
      "{'loss': 0.549, 'learning_rate': 2.397106109324759e-05, 'epoch': 1.61}\n"
     ]
    },
    {
     "name": "stderr",
     "output_type": "stream",
     "text": [
      "02:21:25 INFO:Logged iteration result res.precision=0.7432415659492435 res.recall=0.8343592694235468\n"
     ]
    },
    {
     "name": "stdout",
     "output_type": "stream",
     "text": [
      "{'eval_loss': 0.48674070835113525, 'eval_step': 2, 'eval_precision': 0.7432415659492435, 'eval_recall': 0.8343592694235468, 'eval_f1': 0.7861690689636147, 'eval_label_count': 4, 'eval_runtime': 39.6548, 'eval_samples_per_second': 15.685, 'eval_steps_per_second': 0.252, 'epoch': 2.0}\n"
     ]
    },
    {
     "name": "stderr",
     "output_type": "stream",
     "text": [
      "02:32:48 INFO:Logged iteration result res.precision=0.7449571981203156 res.recall=0.8300234640118063\n"
     ]
    },
    {
     "name": "stdout",
     "output_type": "stream",
     "text": [
      "{'eval_loss': 0.5948261618614197, 'eval_step': 4, 'eval_precision': 0.7449571981203156, 'eval_recall': 0.8300234640118063, 'eval_f1': 0.7851930744181839, 'eval_label_count': 4, 'eval_runtime': 42.5711, 'eval_samples_per_second': 14.611, 'eval_steps_per_second': 0.235, 'epoch': 3.0}\n",
      "{'loss': 0.255, 'learning_rate': 1.7942122186495177e-05, 'epoch': 3.22}\n"
     ]
    },
    {
     "name": "stderr",
     "output_type": "stream",
     "text": [
      "02:42:49 INFO:Logged iteration result res.precision=0.7698534619187732 res.recall=0.8253622532940441\n"
     ]
    },
    {
     "name": "stdout",
     "output_type": "stream",
     "text": [
      "{'eval_loss': 0.7291926145553589, 'eval_step': 6, 'eval_precision': 0.7698534619187732, 'eval_recall': 0.8253622532940441, 'eval_f1': 0.7966420866794552, 'eval_label_count': 4, 'eval_runtime': 39.9587, 'eval_samples_per_second': 15.566, 'eval_steps_per_second': 0.25, 'epoch': 4.0}\n",
      "{'loss': 0.1086, 'learning_rate': 1.1913183279742765e-05, 'epoch': 4.82}\n"
     ]
    },
    {
     "name": "stderr",
     "output_type": "stream",
     "text": [
      "02:52:40 INFO:Logged iteration result res.precision=0.7816922746246143 res.recall=0.8125403734491948\n"
     ]
    },
    {
     "name": "stdout",
     "output_type": "stream",
     "text": [
      "{'eval_loss': 0.887900173664093, 'eval_step': 8, 'eval_precision': 0.7816922746246143, 'eval_recall': 0.8125403734491948, 'eval_f1': 0.7968178716114569, 'eval_label_count': 4, 'eval_runtime': 38.7762, 'eval_samples_per_second': 16.041, 'eval_steps_per_second': 0.258, 'epoch': 5.0}\n"
     ]
    },
    {
     "name": "stderr",
     "output_type": "stream",
     "text": [
      "03:02:34 INFO:Logged iteration result res.precision=0.7817651139207297 res.recall=0.8144267587585532\n"
     ]
    },
    {
     "name": "stdout",
     "output_type": "stream",
     "text": [
      "{'eval_loss': 0.994468092918396, 'eval_step': 10, 'eval_precision': 0.7817651139207297, 'eval_recall': 0.8144267587585532, 'eval_f1': 0.7977617712991563, 'eval_label_count': 4, 'eval_runtime': 40.6853, 'eval_samples_per_second': 15.288, 'eval_steps_per_second': 0.246, 'epoch': 6.0}\n",
      "{'loss': 0.0528, 'learning_rate': 5.884244372990354e-06, 'epoch': 6.43}\n"
     ]
    },
    {
     "name": "stderr",
     "output_type": "stream",
     "text": [
      "03:14:13 INFO:Logged iteration result res.precision=0.800527902334792 res.recall=0.8152952619883158\n"
     ]
    },
    {
     "name": "stdout",
     "output_type": "stream",
     "text": [
      "{'eval_loss': 1.1647056341171265, 'eval_step': 12, 'eval_precision': 0.800527902334792, 'eval_recall': 0.8152952619883158, 'eval_f1': 0.8078441011042353, 'eval_label_count': 4, 'eval_runtime': 43.0239, 'eval_samples_per_second': 14.457, 'eval_steps_per_second': 0.232, 'epoch': 7.0}\n"
     ]
    },
    {
     "name": "stderr",
     "output_type": "stream",
     "text": [
      "03:25:17 INFO:Logged iteration result res.precision=0.801830583345442 res.recall=0.8088674021556695\n"
     ]
    },
    {
     "name": "stdout",
     "output_type": "stream",
     "text": [
      "{'eval_loss': 1.2070151567459106, 'eval_step': 14, 'eval_precision': 0.801830583345442, 'eval_recall': 0.8088674021556695, 'eval_f1': 0.8053336215203768, 'eval_label_count': 4, 'eval_runtime': 42.9306, 'eval_samples_per_second': 14.489, 'eval_steps_per_second': 0.233, 'epoch': 8.0}\n",
      "{'train_runtime': 5006.5369, 'train_samples_per_second': 3.976, 'train_steps_per_second': 0.497, 'train_loss': 0.19984252774830416, 'epoch': 8.0}\n"
     ]
    },
    {
     "name": "stderr",
     "output_type": "stream",
     "text": [
      "03:26:04 INFO:Logged iteration result res.precision=0.801830583345442 res.recall=0.8088674021556695\n",
      "03:26:06 INFO:Logged iteration result res.precision=0.801830583345442 res.recall=0.8088674021556695\n",
      "03:26:06 INFO:Finished iteration=1\n",
      "03:26:06 INFO:Logging model artifact (might take a while)\n",
      "03:30:53 INFO:Breaking early after iteration=1 of 5 folds\n",
      "03:31:05 INFO:Logged experiment result res.mean_precision=0.7955724672064002 res.mean_recall=0.8054568108482079\n",
      "03:31:06 INFO:Left mlflow context\n"
     ]
    },
    {
     "name": "stdout",
     "output_type": "stream",
     "text": [
      "32c719a647af445394273d5e44d9f60d\n"
     ]
    },
    {
     "data": {
      "text/plain": "Downloading artifacts:   0%|          | 0/7 [00:00<?, ?it/s]",
      "application/vnd.jupyter.widget-view+json": {
       "version_major": 2,
       "version_minor": 0,
       "model_id": "49bcc4f413854e948ca9b29eda4bb522"
      }
     },
     "metadata": {},
     "output_type": "display_data"
    },
    {
     "data": {
      "text/plain": "WindowsPath('src/service/models/bert_1')"
     },
     "execution_count": 10,
     "metadata": {},
     "output_type": "execute_result"
    }
   ],
   "source": [
    "from tooling.observability import get_run_id\n",
    "from tooling.config import BERTConfig, BERT\n",
    "\n",
    "from copy import deepcopy\n",
    "\n",
    "bert_1_experiment_config = deepcopy(base_experiment_config)\n",
    "bert_1_experiment_config.name = \"Production\"\n",
    "bert_1_experiment_config.force = False\n",
    "\n",
    "bert_1_config = BERT(\n",
    "    max_len=123,\n",
    "    number_epochs=8,\n",
    "    train_batch_size=8,\n",
    "    weight_decay=0.01,\n",
    "    weighted_classes=True,\n",
    "    learning_rate_bert=3e-05,\n",
    "    learning_rate_classifier=0.0005,\n",
    "    validation_batch_size=64,\n",
    ")\n",
    "\n",
    "\n",
    "bert_1_cfg = OmegaConf.structured(\n",
    "    BERTConfig(\n",
    "        bert=bert_1_config,\n",
    "        experiment=bert_1_experiment_config,\n",
    "        transformation=levels_transformation_config,\n",
    "    )\n",
    ")\n",
    "\n",
    "if run_experiments:\n",
    "    from experiments.bert import bert\n",
    "\n",
    "    bert(OmegaConf.create(bert_1_cfg))\n",
    "\n",
    "bert_1_run_id = get_run_id(bert_1_cfg, pin_commit=pin_commits)\n",
    "\n",
    "print(bert_1_run_id)\n",
    "\n",
    "bert_1_run = mlflow.get_run(bert_1_run_id)\n",
    "mlflow.artifacts.download_artifacts(\n",
    "    f\"{bert_1_run.info.artifact_uri}/0_model\",\n",
    "    dst_path=Path(\"./src/service/models/\"),\n",
    ")\n",
    "try:\n",
    "    shutil.rmtree(Path(\"./src/service/models/bert_1\"))\n",
    "except FileNotFoundError:\n",
    "    pass\n",
    "Path(\"./src/service/models/0_model\").rename(\"./src/service/models/bert_1\")\n",
    "## Train BERT Second Stage Model for BERT First Stage"
   ]
  },
  {
   "cell_type": "code",
   "execution_count": 11,
   "metadata": {
    "ExecuteTime": {
     "end_time": "2023-11-06T17:04:01.338362800Z",
     "start_time": "2023-11-06T14:49:32.288425Z"
    }
   },
   "outputs": [
    {
     "name": "stderr",
     "output_type": "stream",
     "text": [
      "03:49:34 INFO:\n",
      "first_model_bert:\n",
      "  bert:\n",
      "    model: bert-base-uncased\n",
      "    type: BERT\n",
      "    max_len: 123\n",
      "    train_batch_size: 8\n",
      "    validation_batch_size: 64\n",
      "    number_epochs: 8\n",
      "    learning_rate_bert: 3.0e-05\n",
      "    learning_rate_classifier: 0.0005\n",
      "    weight_decay: 0.01\n",
      "    weighted_classes: true\n",
      "  experiment:\n",
      "    name: Production\n",
      "    description: ''\n",
      "    random_state: 125\n",
      "    folds: 5\n",
      "    iterations: 2\n",
      "    average: macro\n",
      "    dataset: all\n",
      "    lower_case: true\n",
      "    force: false\n",
      "    pin_commit: false\n",
      "  transformation:\n",
      "    description: Levels\n",
      "    type: Reduced\n",
      "    task: Domain_Level\n",
      "    goals: null\n",
      "    domain_data: Domain_Level\n",
      "    activity: Domain_Level\n",
      "    stakeholder: Domain_Level\n",
      "    system_function: Interaction_Level\n",
      "    interaction: Interaction_Level\n",
      "    interaction_data: Domain_Level\n",
      "    workspace: Interaction_Level\n",
      "    software: System_Level\n",
      "    internal_action: System_Level\n",
      "    internal_data: System_Level\n",
      "    system_level: System_Level\n",
      "first_model_bilstm: null\n",
      "first_model_sner: null\n",
      "bert:\n",
      "  model: bert-base-uncased\n",
      "  type: BERT\n",
      "  max_len: 123\n",
      "  train_batch_size: 8\n",
      "  validation_batch_size: 64\n",
      "  number_epochs: 5\n",
      "  learning_rate_bert: 3.0e-05\n",
      "  learning_rate_classifier: 0.16\n",
      "  weight_decay: 0.1\n",
      "  weighted_classes: true\n",
      "  layers: []\n",
      "experiment:\n",
      "  name: Production\n",
      "  description: ''\n",
      "  random_state: 125\n",
      "  folds: 5\n",
      "  iterations: 2\n",
      "  average: macro\n",
      "  dataset: all\n",
      "  lower_case: true\n",
      "  force: false\n",
      "  pin_commit: false\n",
      "transformation:\n",
      "  description: None\n",
      "  type: Full\n",
      "  task: Activity\n",
      "  goals: null\n",
      "  domain_data: Domain_Data\n",
      "  activity: Activity\n",
      "  stakeholder: Stakeholder\n",
      "  system_function: System_Function\n",
      "  interaction: Interaction\n",
      "  interaction_data: Domain_Data\n",
      "  workspace: Workspace\n",
      "  software: System_Level\n",
      "  internal_action: System_Level\n",
      "  internal_data: System_Level\n",
      "  system_level: System_Level\n",
      "\n",
      "03:49:35 INFO:New experiment. Running\n",
      "03:49:35 INFO:Entering mlflow context\n",
      "03:49:36 INFO:Importing dataset: anno from E:\\BERT\\uvl-tore-classifier-bert\\src\\data\\datasets\\forum\\anno_test.json\n",
      "03:49:36 INFO:Importing dataset: anno from E:\\BERT\\uvl-tore-classifier-bert\\src\\data\\datasets\\forum\\anno_train.json\n",
      "03:49:37 INFO:Importing dataset: prolific from E:\\BERT\\uvl-tore-classifier-bert\\src\\data\\datasets\\prolific\\TORE_Coded_Answers_1_33.json\n",
      "03:49:37 INFO:Importing dataset: prolific from E:\\BERT\\uvl-tore-classifier-bert\\src\\data\\datasets\\prolific\\TORE_Coded_Answers_34_66.json\n",
      "03:49:38 INFO:Importing dataset: prolific from E:\\BERT\\uvl-tore-classifier-bert\\src\\data\\datasets\\prolific\\TORE_Coded_Answers_67_100.json\n",
      "03:49:38 INFO:Importing dataset: komoot from E:\\BERT\\uvl-tore-classifier-bert\\src\\data\\datasets\\app\\Komoot_AppReview.json\n",
      "03:49:45 INFO:Dataset Labels: transformed_dataset['labels']=['Domain_Data', 'Activity', 'Stakeholder', 'Interaction', 'System_Level', '0', 'Workspace', 'System_Function']\n",
      "03:49:46 INFO:Class weights: {'0': 0.16868182, 'Domain_Data': 1.3451693, 'Activity': 5.443536, 'Stakeholder': 12.436832, 'System_Function': 3.8277657, 'Interaction': 2.4918003, 'Workspace': 11.129777, 'System_Level': 3.207664}\n",
      "03:49:46 INFO:Configured maximal token sequence length: max_len = 123\n",
      "03:49:51 INFO:Created fold datasets for fold: 0, stored at paths=[WindowsPath('E:/BERT/uvl-tore-classifier-bert/src/data/temp/sampling/able-frog-619/0_data_train.pickle'), WindowsPath('E:/BERT/uvl-tore-classifier-bert/src/data/temp/sampling/able-frog-619/0_data_train.csv'), WindowsPath('E:/BERT/uvl-tore-classifier-bert/src/data/temp/sampling/able-frog-619/0_data_test.pickle'), WindowsPath('E:/BERT/uvl-tore-classifier-bert/src/data/temp/sampling/able-frog-619/0_data_test.csv')]\n",
      "03:49:51 INFO:Starting iteration=0\n",
      "03:49:52 INFO:Found existing run with run_id: 32c719a647af445394273d5e44d9f60d matching the configuration\n",
      "03:49:52 INFO:Downloading run model from mlflow-artifacts:/6/32c719a647af445394273d5e44d9f60d/artifacts/0_model\n"
     ]
    },
    {
     "data": {
      "text/plain": "Downloading artifacts:   0%|          | 0/7 [00:00<?, ?it/s]",
      "application/vnd.jupyter.widget-view+json": {
       "version_major": 2,
       "version_minor": 0,
       "model_id": "e729004eb4e542e9a8596c5b60d093bf"
      }
     },
     "metadata": {},
     "output_type": "display_data"
    },
    {
     "data": {
      "text/plain": "Map:   0%|          | 0/2488 [00:00<?, ? examples/s]",
      "application/vnd.jupyter.widget-view+json": {
       "version_major": 2,
       "version_minor": 0,
       "model_id": "5b4c8e9a0c1d49b79a8f8b5b2e60366e"
      }
     },
     "metadata": {},
     "output_type": "display_data"
    },
    {
     "name": "stderr",
     "output_type": "stream",
     "text": [
      "03:51:06 INFO:Loading Model\n",
      "03:51:07 INFO:Creating hint column\n"
     ]
    },
    {
     "data": {
      "text/plain": "Map:   0%|          | 0/2488 [00:00<?, ? examples/s]",
      "application/vnd.jupyter.widget-view+json": {
       "version_major": 2,
       "version_minor": 0,
       "model_id": "763d2d90b51c43e6bee5f2c1be01d6ac"
      }
     },
     "metadata": {},
     "output_type": "display_data"
    },
    {
     "data": {
      "text/plain": "Map:   0%|          | 0/622 [00:00<?, ? examples/s]",
      "application/vnd.jupyter.widget-view+json": {
       "version_major": 2,
       "version_minor": 0,
       "model_id": "a53b5ecbaa4c434798e8692a5d5d6cde"
      }
     },
     "metadata": {},
     "output_type": "display_data"
    },
    {
     "name": "stderr",
     "output_type": "stream",
     "text": [
      "03:54:02 INFO:Loading Model\n",
      "03:54:03 INFO:Creating hint column\n"
     ]
    },
    {
     "data": {
      "text/plain": "Map:   0%|          | 0/622 [00:00<?, ? examples/s]",
      "application/vnd.jupyter.widget-view+json": {
       "version_major": 2,
       "version_minor": 0,
       "model_id": "701e35ec6faf4f9492d535f9c431cce8"
      }
     },
     "metadata": {},
     "output_type": "display_data"
    },
    {
     "name": "stdout",
     "output_type": "stream",
     "text": [
      "Test\n",
      "StagedBertForTokenClassification(\n",
      "  (bert): BertModel(\n",
      "    (embeddings): BertEmbeddings(\n",
      "      (word_embeddings): Embedding(30522, 768, padding_idx=0)\n",
      "      (position_embeddings): Embedding(512, 768)\n",
      "      (token_type_embeddings): Embedding(2, 768)\n",
      "      (LayerNorm): LayerNorm((768,), eps=1e-12, elementwise_affine=True)\n",
      "      (dropout): Dropout(p=0.1, inplace=False)\n",
      "    )\n",
      "    (encoder): BertEncoder(\n",
      "      (layer): ModuleList(\n",
      "        (0-11): 12 x BertLayer(\n",
      "          (attention): BertAttention(\n",
      "            (self): BertSelfAttention(\n",
      "              (query): Linear(in_features=768, out_features=768, bias=True)\n",
      "              (key): Linear(in_features=768, out_features=768, bias=True)\n",
      "              (value): Linear(in_features=768, out_features=768, bias=True)\n",
      "              (dropout): Dropout(p=0.1, inplace=False)\n",
      "            )\n",
      "            (output): BertSelfOutput(\n",
      "              (dense): Linear(in_features=768, out_features=768, bias=True)\n",
      "              (LayerNorm): LayerNorm((768,), eps=1e-12, elementwise_affine=True)\n",
      "              (dropout): Dropout(p=0.1, inplace=False)\n",
      "            )\n",
      "          )\n",
      "          (intermediate): BertIntermediate(\n",
      "            (dense): Linear(in_features=768, out_features=3072, bias=True)\n",
      "            (intermediate_act_fn): GELUActivation()\n",
      "          )\n",
      "          (output): BertOutput(\n",
      "            (dense): Linear(in_features=3072, out_features=768, bias=True)\n",
      "            (LayerNorm): LayerNorm((768,), eps=1e-12, elementwise_affine=True)\n",
      "            (dropout): Dropout(p=0.1, inplace=False)\n",
      "          )\n",
      "        )\n",
      "      )\n",
      "    )\n",
      "  )\n",
      "  (dropout): Dropout(p=0.1, inplace=False)\n",
      "  (out_layers): Sequential(\n",
      "    (0): Linear(in_features=772, out_features=8, bias=True)\n",
      "  )\n",
      ")\n"
     ]
    },
    {
     "name": "stderr",
     "output_type": "stream",
     "text": [
      "04:05:21 INFO:Logged iteration result res.precision=0.6869844051370154 res.recall=0.7005583788131676\n"
     ]
    },
    {
     "name": "stdout",
     "output_type": "stream",
     "text": [
      "{'eval_loss': 3.019681930541992, 'eval_step': 0, 'eval_precision': 0.6869844051370154, 'eval_recall': 0.7005583788131676, 'eval_f1': 0.6937049966309291, 'eval_label_count': 8, 'eval_runtime': 41.0462, 'eval_samples_per_second': 15.154, 'eval_steps_per_second': 0.244, 'epoch': 1.0}\n",
      "{'loss': 1.1327, 'learning_rate': 2.0353697749196142e-05, 'epoch': 1.61}\n"
     ]
    },
    {
     "name": "stderr",
     "output_type": "stream",
     "text": [
      "04:15:52 INFO:Logged iteration result res.precision=0.6685140480767569 res.recall=0.7123344332885593\n"
     ]
    },
    {
     "name": "stdout",
     "output_type": "stream",
     "text": [
      "{'eval_loss': 2.949014663696289, 'eval_step': 2, 'eval_precision': 0.6685140480767569, 'eval_recall': 0.7123344332885593, 'eval_f1': 0.6897289340700846, 'eval_label_count': 8, 'eval_runtime': 38.731, 'eval_samples_per_second': 16.06, 'eval_steps_per_second': 0.258, 'epoch': 2.0}\n"
     ]
    },
    {
     "name": "stderr",
     "output_type": "stream",
     "text": [
      "04:26:08 INFO:Logged iteration result res.precision=0.700208195729713 res.recall=0.718606920224659\n"
     ]
    },
    {
     "name": "stdout",
     "output_type": "stream",
     "text": [
      "{'eval_loss': 3.153759479522705, 'eval_step': 4, 'eval_precision': 0.700208195729713, 'eval_recall': 0.718606920224659, 'eval_f1': 0.7092882636945009, 'eval_label_count': 8, 'eval_runtime': 39.1142, 'eval_samples_per_second': 15.902, 'eval_steps_per_second': 0.256, 'epoch': 3.0}\n",
      "{'loss': 0.2498, 'learning_rate': 1.0707395498392284e-05, 'epoch': 3.22}\n"
     ]
    },
    {
     "name": "stderr",
     "output_type": "stream",
     "text": [
      "04:37:03 INFO:Logged iteration result res.precision=0.6890431758800675 res.recall=0.7284829077437136\n"
     ]
    },
    {
     "name": "stdout",
     "output_type": "stream",
     "text": [
      "{'eval_loss': 2.871273994445801, 'eval_step': 6, 'eval_precision': 0.6890431758800675, 'eval_recall': 0.7284829077437136, 'eval_f1': 0.7082143773225924, 'eval_label_count': 8, 'eval_runtime': 40.8426, 'eval_samples_per_second': 15.229, 'eval_steps_per_second': 0.245, 'epoch': 4.0}\n",
      "{'loss': 0.0737, 'learning_rate': 1.0610932475884245e-06, 'epoch': 4.82}\n"
     ]
    },
    {
     "name": "stderr",
     "output_type": "stream",
     "text": [
      "04:47:48 INFO:Logged iteration result res.precision=0.7016752596703116 res.recall=0.7283549931690649\n"
     ]
    },
    {
     "name": "stdout",
     "output_type": "stream",
     "text": [
      "{'eval_loss': 2.948612928390503, 'eval_step': 8, 'eval_precision': 0.7016752596703116, 'eval_recall': 0.7283549931690649, 'eval_f1': 0.7147662477060558, 'eval_label_count': 8, 'eval_runtime': 41.7341, 'eval_samples_per_second': 14.904, 'eval_steps_per_second': 0.24, 'epoch': 5.0}\n",
      "{'train_runtime': 3179.961, 'train_samples_per_second': 3.912, 'train_steps_per_second': 0.489, 'train_loss': 0.46989735468407534, 'epoch': 5.0}\n"
     ]
    },
    {
     "name": "stderr",
     "output_type": "stream",
     "text": [
      "04:48:40 INFO:Logged iteration result res.precision=0.7016752596703116 res.recall=0.7283549931690649\n",
      "04:48:41 INFO:Logged iteration result res.precision=0.7016752596703116 res.recall=0.7283549931690649\n",
      "04:48:41 INFO:Finished iteration=0\n",
      "04:48:41 INFO:Logging model artifact (might take a while)\n",
      "04:52:22 INFO:Created fold datasets for fold: 1, stored at paths=[WindowsPath('E:/BERT/uvl-tore-classifier-bert/src/data/temp/sampling/able-frog-619/1_data_train.pickle'), WindowsPath('E:/BERT/uvl-tore-classifier-bert/src/data/temp/sampling/able-frog-619/1_data_train.csv'), WindowsPath('E:/BERT/uvl-tore-classifier-bert/src/data/temp/sampling/able-frog-619/1_data_test.pickle'), WindowsPath('E:/BERT/uvl-tore-classifier-bert/src/data/temp/sampling/able-frog-619/1_data_test.csv')]\n",
      "04:52:22 INFO:Starting iteration=1\n",
      "04:52:23 INFO:Found existing run with run_id: 32c719a647af445394273d5e44d9f60d matching the configuration\n",
      "04:52:23 INFO:Downloading run model from mlflow-artifacts:/6/32c719a647af445394273d5e44d9f60d/artifacts/1_model\n"
     ]
    },
    {
     "data": {
      "text/plain": "Downloading artifacts:   0%|          | 0/7 [00:00<?, ?it/s]",
      "application/vnd.jupyter.widget-view+json": {
       "version_major": 2,
       "version_minor": 0,
       "model_id": "877bf5e13177453894e974b77028f1cb"
      }
     },
     "metadata": {},
     "output_type": "display_data"
    },
    {
     "data": {
      "text/plain": "Map:   0%|          | 0/2488 [00:00<?, ? examples/s]",
      "application/vnd.jupyter.widget-view+json": {
       "version_major": 2,
       "version_minor": 0,
       "model_id": "5e21f482070a4e0b90753885e7c8bfe7"
      }
     },
     "metadata": {},
     "output_type": "display_data"
    },
    {
     "name": "stderr",
     "output_type": "stream",
     "text": [
      "04:53:35 INFO:Loading Model\n",
      "04:53:35 INFO:Creating hint column\n"
     ]
    },
    {
     "data": {
      "text/plain": "Map:   0%|          | 0/2488 [00:00<?, ? examples/s]",
      "application/vnd.jupyter.widget-view+json": {
       "version_major": 2,
       "version_minor": 0,
       "model_id": "f05e562ec7de4be69402ad471af8eaf7"
      }
     },
     "metadata": {},
     "output_type": "display_data"
    },
    {
     "data": {
      "text/plain": "Map:   0%|          | 0/622 [00:00<?, ? examples/s]",
      "application/vnd.jupyter.widget-view+json": {
       "version_major": 2,
       "version_minor": 0,
       "model_id": "55212adf7593494b8f586e240c760109"
      }
     },
     "metadata": {},
     "output_type": "display_data"
    },
    {
     "name": "stderr",
     "output_type": "stream",
     "text": [
      "04:56:55 INFO:Loading Model\n",
      "04:56:55 INFO:Creating hint column\n"
     ]
    },
    {
     "data": {
      "text/plain": "Map:   0%|          | 0/622 [00:00<?, ? examples/s]",
      "application/vnd.jupyter.widget-view+json": {
       "version_major": 2,
       "version_minor": 0,
       "model_id": "2655f437e9f0473b8ef6b77e9a34067a"
      }
     },
     "metadata": {},
     "output_type": "display_data"
    },
    {
     "name": "stdout",
     "output_type": "stream",
     "text": [
      "Test\n",
      "StagedBertForTokenClassification(\n",
      "  (bert): BertModel(\n",
      "    (embeddings): BertEmbeddings(\n",
      "      (word_embeddings): Embedding(30522, 768, padding_idx=0)\n",
      "      (position_embeddings): Embedding(512, 768)\n",
      "      (token_type_embeddings): Embedding(2, 768)\n",
      "      (LayerNorm): LayerNorm((768,), eps=1e-12, elementwise_affine=True)\n",
      "      (dropout): Dropout(p=0.1, inplace=False)\n",
      "    )\n",
      "    (encoder): BertEncoder(\n",
      "      (layer): ModuleList(\n",
      "        (0-11): 12 x BertLayer(\n",
      "          (attention): BertAttention(\n",
      "            (self): BertSelfAttention(\n",
      "              (query): Linear(in_features=768, out_features=768, bias=True)\n",
      "              (key): Linear(in_features=768, out_features=768, bias=True)\n",
      "              (value): Linear(in_features=768, out_features=768, bias=True)\n",
      "              (dropout): Dropout(p=0.1, inplace=False)\n",
      "            )\n",
      "            (output): BertSelfOutput(\n",
      "              (dense): Linear(in_features=768, out_features=768, bias=True)\n",
      "              (LayerNorm): LayerNorm((768,), eps=1e-12, elementwise_affine=True)\n",
      "              (dropout): Dropout(p=0.1, inplace=False)\n",
      "            )\n",
      "          )\n",
      "          (intermediate): BertIntermediate(\n",
      "            (dense): Linear(in_features=768, out_features=3072, bias=True)\n",
      "            (intermediate_act_fn): GELUActivation()\n",
      "          )\n",
      "          (output): BertOutput(\n",
      "            (dense): Linear(in_features=3072, out_features=768, bias=True)\n",
      "            (LayerNorm): LayerNorm((768,), eps=1e-12, elementwise_affine=True)\n",
      "            (dropout): Dropout(p=0.1, inplace=False)\n",
      "          )\n",
      "        )\n",
      "      )\n",
      "    )\n",
      "  )\n",
      "  (dropout): Dropout(p=0.1, inplace=False)\n",
      "  (out_layers): Sequential(\n",
      "    (0): Linear(in_features=772, out_features=8, bias=True)\n",
      "  )\n",
      ")\n"
     ]
    },
    {
     "name": "stderr",
     "output_type": "stream",
     "text": [
      "05:09:09 INFO:Logged iteration result res.precision=0.7242207566216855 res.recall=0.6911903446198795\n"
     ]
    },
    {
     "name": "stdout",
     "output_type": "stream",
     "text": [
      "{'eval_loss': 2.82647705078125, 'eval_step': 0, 'eval_precision': 0.7242207566216855, 'eval_recall': 0.6911903446198795, 'eval_f1': 0.7073201473566523, 'eval_label_count': 8, 'eval_runtime': 41.796, 'eval_samples_per_second': 14.882, 'eval_steps_per_second': 0.239, 'epoch': 1.0}\n",
      "{'loss': 1.2541, 'learning_rate': 2.0353697749196142e-05, 'epoch': 1.61}\n"
     ]
    },
    {
     "name": "stderr",
     "output_type": "stream",
     "text": [
      "05:20:20 INFO:Logged iteration result res.precision=0.7022770432425839 res.recall=0.7207454359032648\n"
     ]
    },
    {
     "name": "stdout",
     "output_type": "stream",
     "text": [
      "{'eval_loss': 2.484034538269043, 'eval_step': 2, 'eval_precision': 0.7022770432425839, 'eval_recall': 0.7207454359032648, 'eval_f1': 0.711391395532346, 'eval_label_count': 8, 'eval_runtime': 40.386, 'eval_samples_per_second': 15.401, 'eval_steps_per_second': 0.248, 'epoch': 2.0}\n"
     ]
    },
    {
     "name": "stderr",
     "output_type": "stream",
     "text": [
      "05:31:02 INFO:Logged iteration result res.precision=0.6974191062114399 res.recall=0.716919223782507\n"
     ]
    },
    {
     "name": "stdout",
     "output_type": "stream",
     "text": [
      "{'eval_loss': 2.6289749145507812, 'eval_step': 4, 'eval_precision': 0.6974191062114399, 'eval_recall': 0.716919223782507, 'eval_f1': 0.7070347365588758, 'eval_label_count': 8, 'eval_runtime': 39.9392, 'eval_samples_per_second': 15.574, 'eval_steps_per_second': 0.25, 'epoch': 3.0}\n",
      "{'loss': 0.2428, 'learning_rate': 1.0707395498392284e-05, 'epoch': 3.22}\n"
     ]
    },
    {
     "name": "stderr",
     "output_type": "stream",
     "text": [
      "05:41:14 INFO:Logged iteration result res.precision=0.7184817550414933 res.recall=0.7235024570627997\n"
     ]
    },
    {
     "name": "stdout",
     "output_type": "stream",
     "text": [
      "{'eval_loss': 2.762094259262085, 'eval_step': 6, 'eval_precision': 0.7184817550414933, 'eval_recall': 0.7235024570627997, 'eval_f1': 0.720983365509575, 'eval_label_count': 8, 'eval_runtime': 38.5721, 'eval_samples_per_second': 16.126, 'eval_steps_per_second': 0.259, 'epoch': 4.0}\n",
      "{'loss': 0.0722, 'learning_rate': 1.0610932475884245e-06, 'epoch': 4.82}\n"
     ]
    },
    {
     "name": "stderr",
     "output_type": "stream",
     "text": [
      "05:51:25 INFO:Logged iteration result res.precision=0.72517549671798 res.recall=0.7263698817257245\n"
     ]
    },
    {
     "name": "stdout",
     "output_type": "stream",
     "text": [
      "{'eval_loss': 2.806786298751831, 'eval_step': 8, 'eval_precision': 0.72517549671798, 'eval_recall': 0.7263698817257245, 'eval_f1': 0.7257721978298614, 'eval_label_count': 8, 'eval_runtime': 46.8813, 'eval_samples_per_second': 13.268, 'eval_steps_per_second': 0.213, 'epoch': 5.0}\n",
      "{'train_runtime': 3223.4452, 'train_samples_per_second': 3.859, 'train_steps_per_second': 0.482, 'train_loss': 0.506001881694487, 'epoch': 5.0}\n"
     ]
    },
    {
     "name": "stderr",
     "output_type": "stream",
     "text": [
      "05:52:17 INFO:Logged iteration result res.precision=0.72517549671798 res.recall=0.7263698817257245\n",
      "05:52:19 INFO:Logged iteration result res.precision=0.72517549671798 res.recall=0.7263698817257245\n",
      "05:52:19 INFO:Finished iteration=1\n",
      "05:52:19 INFO:Logging model artifact (might take a while)\n",
      "06:02:46 INFO:Breaking early after iteration=1 of 5 folds\n",
      "06:02:57 INFO:Logged experiment result res.mean_precision=0.7134253781941458 res.mean_recall=0.7273624374473947\n",
      "06:02:57 INFO:Left mlflow context\n"
     ]
    },
    {
     "name": "stdout",
     "output_type": "stream",
     "text": [
      "4f62195fb8ff453ca888ca2004629de4\n"
     ]
    },
    {
     "data": {
      "text/plain": "Downloading artifacts:   0%|          | 0/7 [00:00<?, ?it/s]",
      "application/vnd.jupyter.widget-view+json": {
       "version_major": 2,
       "version_minor": 0,
       "model_id": "dbcec789549e47ef999b37478a469584"
      }
     },
     "metadata": {},
     "output_type": "display_data"
    },
    {
     "data": {
      "text/plain": "WindowsPath('src/service/models/bert_2_bert')"
     },
     "execution_count": 11,
     "metadata": {},
     "output_type": "execute_result"
    }
   ],
   "source": [
    "from tooling.observability import get_run_id\n",
    "from tooling.config import DualModelStagedBERTConfig, StagedBERT\n",
    "\n",
    "from copy import deepcopy\n",
    "\n",
    "bert_2_bert_experiment_config = deepcopy(base_experiment_config)\n",
    "bert_2_bert_experiment_config.name = \"Production\"\n",
    "\n",
    "bert_2_bert_config = StagedBERT(\n",
    "    max_len=123,\n",
    "    layers=[],\n",
    "    learning_rate_bert=3e-05,\n",
    "    learning_rate_classifier=0.16,\n",
    "    number_epochs=5,\n",
    "    train_batch_size=8,\n",
    "    weight_decay=0.1,\n",
    "    weighted_classes=True,\n",
    "    validation_batch_size=64,\n",
    ")\n",
    "\n",
    "cfg = DualModelStagedBERTConfig(\n",
    "    bert=bert_2_bert_config,\n",
    "    experiment=bert_2_bert_experiment_config,\n",
    "    transformation=label_transformation_config,\n",
    "    first_model_bert=bert_1_cfg,\n",
    ")\n",
    "\n",
    "bert_2_bert_cfg: DualModelStagedBERTConfig = OmegaConf.structured(cfg)\n",
    "\n",
    "if run_experiments:\n",
    "    from experiments.dual_model_staged_bert import dual_stage_bert\n",
    "\n",
    "    dual_stage_bert(OmegaConf.create(bert_2_bert_cfg))\n",
    "\n",
    "bert_2_bert_run_id = get_run_id(bert_2_bert_cfg, pin_commit=pin_commits)\n",
    "\n",
    "print(bert_2_bert_run_id)\n",
    "\n",
    "bert_2_bert_run = mlflow.get_run(bert_2_bert_run_id)\n",
    "mlflow.artifacts.download_artifacts(\n",
    "    f\"{bert_2_bert_run.info.artifact_uri}/0_model\",\n",
    "    dst_path=Path(\"./src/service/models/\"),\n",
    ")\n",
    "try:\n",
    "    shutil.rmtree(Path(\"./src/service/models/bert_2_bert\"))\n",
    "except FileNotFoundError:\n",
    "    pass\n",
    "Path(\"./src/service/models/0_model\").rename(\"./src/service/models/bert_2_bert\")"
   ]
  },
  {
   "cell_type": "markdown",
   "metadata": {},
   "source": [
    "## Train BERT Second Stage Model for SNER First Stage\n"
   ]
  },
  {
   "cell_type": "code",
   "execution_count": 29,
   "metadata": {},
   "outputs": [
    {
     "name": "stderr",
     "output_type": "stream",
     "text": [
      "06:29:10 INFO:\n",
      "first_model_bert: null\n",
      "first_model_bilstm: null\n",
      "first_model_sner:\n",
      "  sner:\n",
      "    type: SNER\n",
      "  experiment:\n",
      "    name: Production\n",
      "    description: ''\n",
      "    random_state: 125\n",
      "    folds: 5\n",
      "    iterations: 5\n",
      "    average: macro\n",
      "    dataset: all\n",
      "    lower_case: true\n",
      "    force: false\n",
      "    pin_commit: false\n",
      "  transformation:\n",
      "    description: Levels\n",
      "    type: Reduced\n",
      "    task: Domain_Level\n",
      "    goals: null\n",
      "    domain_data: Domain_Level\n",
      "    activity: Domain_Level\n",
      "    stakeholder: Domain_Level\n",
      "    system_function: Interaction_Level\n",
      "    interaction: Interaction_Level\n",
      "    interaction_data: Interaction_Level\n",
      "    workspace: Interaction_Level\n",
      "    software: System_Level\n",
      "    internal_action: System_Level\n",
      "    internal_data: System_Level\n",
      "    system_level: System_Level\n",
      "bert:\n",
      "  model: bert-base-uncased\n",
      "  type: BERT\n",
      "  max_len: 123\n",
      "  train_batch_size: 8\n",
      "  validation_batch_size: 32\n",
      "  number_epochs: 5\n",
      "  learning_rate_bert: 3.0e-05\n",
      "  learning_rate_classifier: 0.16\n",
      "  weight_decay: 0.1\n",
      "  weighted_classes: true\n",
      "  layers: []\n",
      "experiment:\n",
      "  name: Production\n",
      "  description: ''\n",
      "  random_state: 125\n",
      "  folds: 5\n",
      "  iterations: 5\n",
      "  average: macro\n",
      "  dataset: all\n",
      "  lower_case: true\n",
      "  force: false\n",
      "  pin_commit: false\n",
      "transformation:\n",
      "  description: None\n",
      "  type: Full\n",
      "  task: Task\n",
      "  goals: null\n",
      "  domain_data: Domain_Data\n",
      "  activity: Activity\n",
      "  stakeholder: Stakeholder\n",
      "  system_function: System_Function\n",
      "  interaction: Interaction\n",
      "  interaction_data: Interaction_Data\n",
      "  workspace: Workspace\n",
      "  software: System_Level\n",
      "  internal_action: System_Level\n",
      "  internal_data: System_Level\n",
      "  system_level: System_Level\n",
      "\n",
      "06:29:10 INFO:New experiment. Running\n",
      "06:29:10 INFO:Entering mlflow context\n",
      "06:29:12 INFO:Importing dataset: anno from /Users/bockstaller/code/uvl-tore-classifier-bert/src/data/datasets/forum/anno_test.json\n",
      "06:29:12 INFO:Importing dataset: anno from /Users/bockstaller/code/uvl-tore-classifier-bert/src/data/datasets/forum/anno_train.json\n",
      "06:29:12 INFO:Importing dataset: prolific from /Users/bockstaller/code/uvl-tore-classifier-bert/src/data/datasets/prolific/TORE_Coded_Answers_1_33.json\n",
      "06:29:13 INFO:Importing dataset: prolific from /Users/bockstaller/code/uvl-tore-classifier-bert/src/data/datasets/prolific/TORE_Coded_Answers_34_66.json\n",
      "06:29:13 INFO:Importing dataset: prolific from /Users/bockstaller/code/uvl-tore-classifier-bert/src/data/datasets/prolific/TORE_Coded_Answers_67_100.json\n",
      "06:29:13 INFO:Importing dataset: komoot from /Users/bockstaller/code/uvl-tore-classifier-bert/src/data/datasets/app/Komoot_AppReview.json\n",
      "06:29:17 INFO:Dataset Labels: transformed_dataset['labels']=['Stakeholder', 'Activity', 'Domain_Data', 'Interaction', 'Interaction_Data', 'System_Function', 'System_Level', 'Task', '0', 'Workspace']\n",
      "06:29:17 INFO:Class weights: {'0': 0.13494545, 'Task': 8.320833, 'Domain_Data': 2.52101, 'Activity': 9.136601, 'Stakeholder': 9.949466, 'System_Function': 3.0622125, 'Interaction': 1.9934403, 'Interaction_Data': 1.877636, 'Workspace': 8.903822, 'System_Level': 2.5661314}\n",
      "06:29:17 INFO:Configured maximal token sequence length: max_len = 123\n",
      "06:29:20 INFO:Created fold datasets for fold: 0, stored at paths=[PosixPath('/Users/bockstaller/code/uvl-tore-classifier-bert/src/data/temp/sampling/fearless-swan-328/0_data_train.pickle'), PosixPath('/Users/bockstaller/code/uvl-tore-classifier-bert/src/data/temp/sampling/fearless-swan-328/0_data_train.csv'), PosixPath('/Users/bockstaller/code/uvl-tore-classifier-bert/src/data/temp/sampling/fearless-swan-328/0_data_test.pickle'), PosixPath('/Users/bockstaller/code/uvl-tore-classifier-bert/src/data/temp/sampling/fearless-swan-328/0_data_test.csv')]\n",
      "06:29:20 INFO:Starting iteration=0\n",
      "06:29:20 INFO:Found existing run with run_id: 026f983c8249412ab989d4b036846b8f matching the configuration\n",
      "06:29:20 INFO:Downloading run model from mlflow-artifacts:/6/026f983c8249412ab989d4b036846b8f/artifacts/0_model.ser.gz\n"
     ]
    },
    {
     "data": {
      "application/vnd.jupyter.widget-view+json": {
       "model_id": "acbd5fa52f5f4022860c4ccbe592e5d0",
       "version_major": 2,
       "version_minor": 0
      },
      "text/plain": [
       "Downloading artifacts:   0%|          | 0/1 [00:00<?, ?it/s]"
      ]
     },
     "metadata": {},
     "output_type": "display_data"
    },
    {
     "data": {
      "application/vnd.jupyter.widget-view+json": {
       "model_id": "e17919e21cae48428488d4215081592c",
       "version_major": 2,
       "version_minor": 0
      },
      "text/plain": [
       "Map:   0%|          | 0/2488 [00:00<?, ? examples/s]"
      ]
     },
     "metadata": {},
     "output_type": "display_data"
    },
    {
     "data": {
      "application/vnd.jupyter.widget-view+json": {
       "model_id": "6e71e39df0004c9681fa5833f2203644",
       "version_major": 2,
       "version_minor": 0
      },
      "text/plain": [
       "Map:   0%|          | 0/622 [00:00<?, ? examples/s]"
      ]
     },
     "metadata": {},
     "output_type": "display_data"
    },
    {
     "name": "stdout",
     "output_type": "stream",
     "text": [
      "Test\n",
      "StagedBertForTokenClassification(\n",
      "  (bert): BertModel(\n",
      "    (embeddings): BertEmbeddings(\n",
      "      (word_embeddings): Embedding(30522, 768, padding_idx=0)\n",
      "      (position_embeddings): Embedding(512, 768)\n",
      "      (token_type_embeddings): Embedding(2, 768)\n",
      "      (LayerNorm): LayerNorm((768,), eps=1e-12, elementwise_affine=True)\n",
      "      (dropout): Dropout(p=0.1, inplace=False)\n",
      "    )\n",
      "    (encoder): BertEncoder(\n",
      "      (layer): ModuleList(\n",
      "        (0-11): 12 x BertLayer(\n",
      "          (attention): BertAttention(\n",
      "            (self): BertSelfAttention(\n",
      "              (query): Linear(in_features=768, out_features=768, bias=True)\n",
      "              (key): Linear(in_features=768, out_features=768, bias=True)\n",
      "              (value): Linear(in_features=768, out_features=768, bias=True)\n",
      "              (dropout): Dropout(p=0.1, inplace=False)\n",
      "            )\n",
      "            (output): BertSelfOutput(\n",
      "              (dense): Linear(in_features=768, out_features=768, bias=True)\n",
      "              (LayerNorm): LayerNorm((768,), eps=1e-12, elementwise_affine=True)\n",
      "              (dropout): Dropout(p=0.1, inplace=False)\n",
      "            )\n",
      "          )\n",
      "          (intermediate): BertIntermediate(\n",
      "            (dense): Linear(in_features=768, out_features=3072, bias=True)\n",
      "            (intermediate_act_fn): GELUActivation()\n",
      "          )\n",
      "          (output): BertOutput(\n",
      "            (dense): Linear(in_features=3072, out_features=768, bias=True)\n",
      "            (LayerNorm): LayerNorm((768,), eps=1e-12, elementwise_affine=True)\n",
      "            (dropout): Dropout(p=0.1, inplace=False)\n",
      "          )\n",
      "        )\n",
      "      )\n",
      "    )\n",
      "  )\n",
      "  (dropout): Dropout(p=0.1, inplace=False)\n",
      "  (out_layers): Sequential(\n",
      "    (0): Linear(in_features=772, out_features=10, bias=True)\n",
      "  )\n",
      ")\n"
     ]
    },
    {
     "name": "stderr",
     "output_type": "stream",
     "text": [
      "06:31:09 INFO:Logged iteration result res.precision=0.5216784271253025 res.recall=0.5347241430022265\n"
     ]
    },
    {
     "name": "stdout",
     "output_type": "stream",
     "text": [
      "{'eval_loss': 4.567152976989746, 'eval_step': 0, 'eval_precision': 0.5216784271253025, 'eval_recall': 0.5347241430022265, 'eval_f1': 0.5281207330528389, 'eval_label_count': 10, 'eval_runtime': 9.3152, 'eval_samples_per_second': 66.773, 'eval_steps_per_second': 2.147, 'epoch': 1.0}\n",
      "{'loss': 1.8947, 'learning_rate': 2.0353697749196142e-05, 'epoch': 1.61}\n"
     ]
    },
    {
     "name": "stderr",
     "output_type": "stream",
     "text": [
      "06:32:50 INFO:Logged iteration result res.precision=0.575125133240645 res.recall=0.5742180958794106\n"
     ]
    },
    {
     "name": "stdout",
     "output_type": "stream",
     "text": [
      "{'eval_loss': 3.028416156768799, 'eval_step': 2, 'eval_precision': 0.575125133240645, 'eval_recall': 0.5742180958794106, 'eval_f1': 0.5746712566526796, 'eval_label_count': 10, 'eval_runtime': 5.9144, 'eval_samples_per_second': 105.168, 'eval_steps_per_second': 3.382, 'epoch': 2.0}\n"
     ]
    },
    {
     "name": "stderr",
     "output_type": "stream",
     "text": [
      "06:34:30 INFO:Logged iteration result res.precision=0.6313514930825477 res.recall=0.5732056904993196\n"
     ]
    },
    {
     "name": "stdout",
     "output_type": "stream",
     "text": [
      "{'eval_loss': 2.9836573600769043, 'eval_step': 4, 'eval_precision': 0.6313514930825477, 'eval_recall': 0.5732056904993196, 'eval_f1': 0.6008751987415499, 'eval_label_count': 10, 'eval_runtime': 5.951, 'eval_samples_per_second': 104.52, 'eval_steps_per_second': 3.361, 'epoch': 3.0}\n",
      "{'loss': 0.5115, 'learning_rate': 1.0707395498392284e-05, 'epoch': 3.22}\n"
     ]
    },
    {
     "name": "stderr",
     "output_type": "stream",
     "text": [
      "06:36:11 INFO:Logged iteration result res.precision=0.623580960654633 res.recall=0.592289520334621\n"
     ]
    },
    {
     "name": "stdout",
     "output_type": "stream",
     "text": [
      "{'eval_loss': 2.8475306034088135, 'eval_step': 6, 'eval_precision': 0.623580960654633, 'eval_recall': 0.592289520334621, 'eval_f1': 0.6075325848447817, 'eval_label_count': 10, 'eval_runtime': 5.6385, 'eval_samples_per_second': 110.312, 'eval_steps_per_second': 3.547, 'epoch': 4.0}\n",
      "{'loss': 0.1778, 'learning_rate': 1.0610932475884245e-06, 'epoch': 4.82}\n"
     ]
    },
    {
     "name": "stderr",
     "output_type": "stream",
     "text": [
      "06:37:52 INFO:Logged iteration result res.precision=0.6288460235485516 res.recall=0.584225080397154\n"
     ]
    },
    {
     "name": "stdout",
     "output_type": "stream",
     "text": [
      "{'eval_loss': 3.178431272506714, 'eval_step': 8, 'eval_precision': 0.6288460235485516, 'eval_recall': 0.584225080397154, 'eval_f1': 0.6057148958047007, 'eval_label_count': 10, 'eval_runtime': 5.9297, 'eval_samples_per_second': 104.896, 'eval_steps_per_second': 3.373, 'epoch': 5.0}\n",
      "{'train_runtime': 508.9701, 'train_samples_per_second': 24.442, 'train_steps_per_second': 3.055, 'train_loss': 0.8342967714144103, 'epoch': 5.0}\n"
     ]
    },
    {
     "name": "stderr",
     "output_type": "stream",
     "text": [
      "06:38:02 INFO:Logged iteration result res.precision=0.6288460235485516 res.recall=0.584225080397154\n",
      "06:38:03 INFO:Logged iteration result res.precision=0.6288460235485516 res.recall=0.584225080397154\n",
      "06:38:03 INFO:Finished iteration=0\n",
      "06:38:03 INFO:Logging model artifact (might take a while)\n",
      "06:40:01 INFO:Created fold datasets for fold: 1, stored at paths=[PosixPath('/Users/bockstaller/code/uvl-tore-classifier-bert/src/data/temp/sampling/fearless-swan-328/1_data_train.pickle'), PosixPath('/Users/bockstaller/code/uvl-tore-classifier-bert/src/data/temp/sampling/fearless-swan-328/1_data_train.csv'), PosixPath('/Users/bockstaller/code/uvl-tore-classifier-bert/src/data/temp/sampling/fearless-swan-328/1_data_test.pickle'), PosixPath('/Users/bockstaller/code/uvl-tore-classifier-bert/src/data/temp/sampling/fearless-swan-328/1_data_test.csv')]\n",
      "06:40:01 INFO:Starting iteration=1\n",
      "06:40:01 INFO:Found existing run with run_id: 026f983c8249412ab989d4b036846b8f matching the configuration\n",
      "06:40:01 INFO:Downloading run model from mlflow-artifacts:/6/026f983c8249412ab989d4b036846b8f/artifacts/1_model.ser.gz\n"
     ]
    },
    {
     "data": {
      "application/vnd.jupyter.widget-view+json": {
       "model_id": "f1a2ddf174104355845e927dca5e38ee",
       "version_major": 2,
       "version_minor": 0
      },
      "text/plain": [
       "Downloading artifacts:   0%|          | 0/1 [00:00<?, ?it/s]"
      ]
     },
     "metadata": {},
     "output_type": "display_data"
    },
    {
     "data": {
      "application/vnd.jupyter.widget-view+json": {
       "model_id": "0166812231e84c6590da6437f02af608",
       "version_major": 2,
       "version_minor": 0
      },
      "text/plain": [
       "Map:   0%|          | 0/2488 [00:00<?, ? examples/s]"
      ]
     },
     "metadata": {},
     "output_type": "display_data"
    },
    {
     "data": {
      "application/vnd.jupyter.widget-view+json": {
       "model_id": "8c1cc40997ab4155b480bb4fa2bdcbdf",
       "version_major": 2,
       "version_minor": 0
      },
      "text/plain": [
       "Map:   0%|          | 0/622 [00:00<?, ? examples/s]"
      ]
     },
     "metadata": {},
     "output_type": "display_data"
    },
    {
     "name": "stdout",
     "output_type": "stream",
     "text": [
      "Test\n",
      "StagedBertForTokenClassification(\n",
      "  (bert): BertModel(\n",
      "    (embeddings): BertEmbeddings(\n",
      "      (word_embeddings): Embedding(30522, 768, padding_idx=0)\n",
      "      (position_embeddings): Embedding(512, 768)\n",
      "      (token_type_embeddings): Embedding(2, 768)\n",
      "      (LayerNorm): LayerNorm((768,), eps=1e-12, elementwise_affine=True)\n",
      "      (dropout): Dropout(p=0.1, inplace=False)\n",
      "    )\n",
      "    (encoder): BertEncoder(\n",
      "      (layer): ModuleList(\n",
      "        (0-11): 12 x BertLayer(\n",
      "          (attention): BertAttention(\n",
      "            (self): BertSelfAttention(\n",
      "              (query): Linear(in_features=768, out_features=768, bias=True)\n",
      "              (key): Linear(in_features=768, out_features=768, bias=True)\n",
      "              (value): Linear(in_features=768, out_features=768, bias=True)\n",
      "              (dropout): Dropout(p=0.1, inplace=False)\n",
      "            )\n",
      "            (output): BertSelfOutput(\n",
      "              (dense): Linear(in_features=768, out_features=768, bias=True)\n",
      "              (LayerNorm): LayerNorm((768,), eps=1e-12, elementwise_affine=True)\n",
      "              (dropout): Dropout(p=0.1, inplace=False)\n",
      "            )\n",
      "          )\n",
      "          (intermediate): BertIntermediate(\n",
      "            (dense): Linear(in_features=768, out_features=3072, bias=True)\n",
      "            (intermediate_act_fn): GELUActivation()\n",
      "          )\n",
      "          (output): BertOutput(\n",
      "            (dense): Linear(in_features=3072, out_features=768, bias=True)\n",
      "            (LayerNorm): LayerNorm((768,), eps=1e-12, elementwise_affine=True)\n",
      "            (dropout): Dropout(p=0.1, inplace=False)\n",
      "          )\n",
      "        )\n",
      "      )\n",
      "    )\n",
      "  )\n",
      "  (dropout): Dropout(p=0.1, inplace=False)\n",
      "  (out_layers): Sequential(\n",
      "    (0): Linear(in_features=772, out_features=10, bias=True)\n",
      "  )\n",
      ")\n"
     ]
    },
    {
     "name": "stderr",
     "output_type": "stream",
     "text": [
      "06:41:47 INFO:Logged iteration result res.precision=0.5927704360648518 res.recall=0.5266476452751478\n"
     ]
    },
    {
     "name": "stdout",
     "output_type": "stream",
     "text": [
      "{'eval_loss': 3.3952503204345703, 'eval_step': 0, 'eval_precision': 0.5927704360648518, 'eval_recall': 0.5266476452751478, 'eval_f1': 0.5577561405271929, 'eval_label_count': 10, 'eval_runtime': 6.2339, 'eval_samples_per_second': 99.777, 'eval_steps_per_second': 3.208, 'epoch': 1.0}\n",
      "{'loss': 1.6526, 'learning_rate': 2.0353697749196142e-05, 'epoch': 1.61}\n"
     ]
    },
    {
     "name": "stderr",
     "output_type": "stream",
     "text": [
      "06:43:28 INFO:Logged iteration result res.precision=0.6389033617521747 res.recall=0.5757004808543984\n"
     ]
    },
    {
     "name": "stdout",
     "output_type": "stream",
     "text": [
      "{'eval_loss': 3.0504212379455566, 'eval_step': 2, 'eval_precision': 0.6389033617521747, 'eval_recall': 0.5757004808543984, 'eval_f1': 0.605657515113526, 'eval_label_count': 10, 'eval_runtime': 5.5855, 'eval_samples_per_second': 111.36, 'eval_steps_per_second': 3.581, 'epoch': 2.0}\n"
     ]
    },
    {
     "name": "stderr",
     "output_type": "stream",
     "text": [
      "06:45:08 INFO:Logged iteration result res.precision=0.612195384915106 res.recall=0.5804785091018665\n"
     ]
    },
    {
     "name": "stdout",
     "output_type": "stream",
     "text": [
      "{'eval_loss': 2.752326488494873, 'eval_step': 4, 'eval_precision': 0.612195384915106, 'eval_recall': 0.5804785091018665, 'eval_f1': 0.5959152222535473, 'eval_label_count': 10, 'eval_runtime': 5.6134, 'eval_samples_per_second': 110.807, 'eval_steps_per_second': 3.563, 'epoch': 3.0}\n",
      "{'loss': 0.5398, 'learning_rate': 1.0707395498392284e-05, 'epoch': 3.22}\n"
     ]
    },
    {
     "name": "stderr",
     "output_type": "stream",
     "text": [
      "06:46:49 INFO:Logged iteration result res.precision=0.650301944077575 res.recall=0.5558082235141573\n"
     ]
    },
    {
     "name": "stdout",
     "output_type": "stream",
     "text": [
      "{'eval_loss': 3.353285551071167, 'eval_step': 6, 'eval_precision': 0.650301944077575, 'eval_recall': 0.5558082235141573, 'eval_f1': 0.5993534885909496, 'eval_label_count': 10, 'eval_runtime': 5.5692, 'eval_samples_per_second': 111.685, 'eval_steps_per_second': 3.591, 'epoch': 4.0}\n",
      "{'loss': 0.1707, 'learning_rate': 1.0610932475884245e-06, 'epoch': 4.82}\n"
     ]
    },
    {
     "name": "stderr",
     "output_type": "stream",
     "text": [
      "06:48:29 INFO:Logged iteration result res.precision=0.6418788801332636 res.recall=0.5721077388132019\n"
     ]
    },
    {
     "name": "stdout",
     "output_type": "stream",
     "text": [
      "{'eval_loss': 3.1858627796173096, 'eval_step': 8, 'eval_precision': 0.6418788801332636, 'eval_recall': 0.5721077388132019, 'eval_f1': 0.6049883400258229, 'eval_label_count': 10, 'eval_runtime': 5.9292, 'eval_samples_per_second': 104.904, 'eval_steps_per_second': 3.373, 'epoch': 5.0}\n",
      "{'train_runtime': 503.4833, 'train_samples_per_second': 24.708, 'train_steps_per_second': 3.088, 'train_loss': 0.7637636797987764, 'epoch': 5.0}\n"
     ]
    },
    {
     "name": "stderr",
     "output_type": "stream",
     "text": [
      "06:48:39 INFO:Logged iteration result res.precision=0.6418788801332636 res.recall=0.5721077388132019\n",
      "06:48:40 INFO:Logged iteration result res.precision=0.6418788801332636 res.recall=0.5721077388132019\n",
      "06:48:40 INFO:Finished iteration=1\n",
      "06:48:40 INFO:Logging model artifact (might take a while)\n",
      "06:50:39 INFO:Created fold datasets for fold: 2, stored at paths=[PosixPath('/Users/bockstaller/code/uvl-tore-classifier-bert/src/data/temp/sampling/fearless-swan-328/2_data_train.pickle'), PosixPath('/Users/bockstaller/code/uvl-tore-classifier-bert/src/data/temp/sampling/fearless-swan-328/2_data_train.csv'), PosixPath('/Users/bockstaller/code/uvl-tore-classifier-bert/src/data/temp/sampling/fearless-swan-328/2_data_test.pickle'), PosixPath('/Users/bockstaller/code/uvl-tore-classifier-bert/src/data/temp/sampling/fearless-swan-328/2_data_test.csv')]\n",
      "06:50:39 INFO:Starting iteration=2\n",
      "06:50:40 INFO:Found existing run with run_id: 026f983c8249412ab989d4b036846b8f matching the configuration\n",
      "06:50:40 INFO:Downloading run model from mlflow-artifacts:/6/026f983c8249412ab989d4b036846b8f/artifacts/2_model.ser.gz\n"
     ]
    },
    {
     "data": {
      "application/vnd.jupyter.widget-view+json": {
       "model_id": "4b420200af744d4ea365f6585579a5e3",
       "version_major": 2,
       "version_minor": 0
      },
      "text/plain": [
       "Downloading artifacts:   0%|          | 0/1 [00:00<?, ?it/s]"
      ]
     },
     "metadata": {},
     "output_type": "display_data"
    },
    {
     "data": {
      "application/vnd.jupyter.widget-view+json": {
       "model_id": "9235632d5b07497383720480827485b3",
       "version_major": 2,
       "version_minor": 0
      },
      "text/plain": [
       "Map:   0%|          | 0/2488 [00:00<?, ? examples/s]"
      ]
     },
     "metadata": {},
     "output_type": "display_data"
    },
    {
     "data": {
      "application/vnd.jupyter.widget-view+json": {
       "model_id": "e181f59489cc4fae95bb022fedb99e32",
       "version_major": 2,
       "version_minor": 0
      },
      "text/plain": [
       "Map:   0%|          | 0/622 [00:00<?, ? examples/s]"
      ]
     },
     "metadata": {},
     "output_type": "display_data"
    },
    {
     "name": "stdout",
     "output_type": "stream",
     "text": [
      "Test\n",
      "StagedBertForTokenClassification(\n",
      "  (bert): BertModel(\n",
      "    (embeddings): BertEmbeddings(\n",
      "      (word_embeddings): Embedding(30522, 768, padding_idx=0)\n",
      "      (position_embeddings): Embedding(512, 768)\n",
      "      (token_type_embeddings): Embedding(2, 768)\n",
      "      (LayerNorm): LayerNorm((768,), eps=1e-12, elementwise_affine=True)\n",
      "      (dropout): Dropout(p=0.1, inplace=False)\n",
      "    )\n",
      "    (encoder): BertEncoder(\n",
      "      (layer): ModuleList(\n",
      "        (0-11): 12 x BertLayer(\n",
      "          (attention): BertAttention(\n",
      "            (self): BertSelfAttention(\n",
      "              (query): Linear(in_features=768, out_features=768, bias=True)\n",
      "              (key): Linear(in_features=768, out_features=768, bias=True)\n",
      "              (value): Linear(in_features=768, out_features=768, bias=True)\n",
      "              (dropout): Dropout(p=0.1, inplace=False)\n",
      "            )\n",
      "            (output): BertSelfOutput(\n",
      "              (dense): Linear(in_features=768, out_features=768, bias=True)\n",
      "              (LayerNorm): LayerNorm((768,), eps=1e-12, elementwise_affine=True)\n",
      "              (dropout): Dropout(p=0.1, inplace=False)\n",
      "            )\n",
      "          )\n",
      "          (intermediate): BertIntermediate(\n",
      "            (dense): Linear(in_features=768, out_features=3072, bias=True)\n",
      "            (intermediate_act_fn): GELUActivation()\n",
      "          )\n",
      "          (output): BertOutput(\n",
      "            (dense): Linear(in_features=3072, out_features=768, bias=True)\n",
      "            (LayerNorm): LayerNorm((768,), eps=1e-12, elementwise_affine=True)\n",
      "            (dropout): Dropout(p=0.1, inplace=False)\n",
      "          )\n",
      "        )\n",
      "      )\n",
      "    )\n",
      "  )\n",
      "  (dropout): Dropout(p=0.1, inplace=False)\n",
      "  (out_layers): Sequential(\n",
      "    (0): Linear(in_features=772, out_features=10, bias=True)\n",
      "  )\n",
      ")\n"
     ]
    },
    {
     "name": "stderr",
     "output_type": "stream",
     "text": [
      "06:52:29 INFO:Logged iteration result res.precision=0.5129729636484315 res.recall=0.548654059670078\n"
     ]
    },
    {
     "name": "stdout",
     "output_type": "stream",
     "text": [
      "{'eval_loss': 2.349161148071289, 'eval_step': 0, 'eval_precision': 0.5129729636484315, 'eval_recall': 0.548654059670078, 'eval_f1': 0.5302138940038346, 'eval_label_count': 10, 'eval_runtime': 6.1214, 'eval_samples_per_second': 101.61, 'eval_steps_per_second': 3.267, 'epoch': 1.0}\n",
      "{'loss': 1.6347, 'learning_rate': 2.0353697749196142e-05, 'epoch': 1.61}\n"
     ]
    },
    {
     "name": "stderr",
     "output_type": "stream",
     "text": [
      "06:54:10 INFO:Logged iteration result res.precision=0.617424773576422 res.recall=0.5264291187229646\n"
     ]
    },
    {
     "name": "stdout",
     "output_type": "stream",
     "text": [
      "{'eval_loss': 3.3038816452026367, 'eval_step': 2, 'eval_precision': 0.617424773576422, 'eval_recall': 0.5264291187229646, 'eval_f1': 0.5683075113346556, 'eval_label_count': 10, 'eval_runtime': 5.8601, 'eval_samples_per_second': 106.141, 'eval_steps_per_second': 3.413, 'epoch': 2.0}\n"
     ]
    },
    {
     "name": "stderr",
     "output_type": "stream",
     "text": [
      "06:55:51 INFO:Logged iteration result res.precision=0.6117127930855192 res.recall=0.5638052131277222\n"
     ]
    },
    {
     "name": "stdout",
     "output_type": "stream",
     "text": [
      "{'eval_loss': 3.108973741531372, 'eval_step': 4, 'eval_precision': 0.6117127930855192, 'eval_recall': 0.5638052131277222, 'eval_f1': 0.5867827797713414, 'eval_label_count': 10, 'eval_runtime': 6.0315, 'eval_samples_per_second': 103.125, 'eval_steps_per_second': 3.316, 'epoch': 3.0}\n",
      "{'loss': 0.4897, 'learning_rate': 1.0707395498392284e-05, 'epoch': 3.22}\n"
     ]
    },
    {
     "name": "stderr",
     "output_type": "stream",
     "text": [
      "06:57:32 INFO:Logged iteration result res.precision=0.6330401408233226 res.recall=0.5371708114162661\n"
     ]
    },
    {
     "name": "stdout",
     "output_type": "stream",
     "text": [
      "{'eval_loss': 4.251964569091797, 'eval_step': 6, 'eval_precision': 0.6330401408233226, 'eval_recall': 0.5371708114162661, 'eval_f1': 0.5811784370233952, 'eval_label_count': 10, 'eval_runtime': 5.7092, 'eval_samples_per_second': 108.947, 'eval_steps_per_second': 3.503, 'epoch': 4.0}\n",
      "{'loss': 0.159, 'learning_rate': 1.0610932475884245e-06, 'epoch': 4.82}\n"
     ]
    },
    {
     "name": "stderr",
     "output_type": "stream",
     "text": [
      "06:59:13 INFO:Logged iteration result res.precision=0.6258367633028581 res.recall=0.5476353166777872\n"
     ]
    },
    {
     "name": "stdout",
     "output_type": "stream",
     "text": [
      "{'eval_loss': 3.6765851974487305, 'eval_step': 8, 'eval_precision': 0.6258367633028581, 'eval_recall': 0.5476353166777872, 'eval_f1': 0.5841303255644819, 'eval_label_count': 10, 'eval_runtime': 5.5472, 'eval_samples_per_second': 112.129, 'eval_steps_per_second': 3.605, 'epoch': 5.0}\n",
      "{'train_runtime': 504.4172, 'train_samples_per_second': 24.662, 'train_steps_per_second': 3.083, 'train_loss': 0.7375341906041578, 'epoch': 5.0}\n"
     ]
    },
    {
     "name": "stderr",
     "output_type": "stream",
     "text": [
      "06:59:22 INFO:Logged iteration result res.precision=0.6258367633028581 res.recall=0.5476353166777872\n",
      "06:59:24 INFO:Logged iteration result res.precision=0.6258367633028581 res.recall=0.5476353166777872\n",
      "06:59:24 INFO:Finished iteration=2\n",
      "06:59:24 INFO:Logging model artifact (might take a while)\n",
      "07:01:23 INFO:Created fold datasets for fold: 3, stored at paths=[PosixPath('/Users/bockstaller/code/uvl-tore-classifier-bert/src/data/temp/sampling/fearless-swan-328/3_data_train.pickle'), PosixPath('/Users/bockstaller/code/uvl-tore-classifier-bert/src/data/temp/sampling/fearless-swan-328/3_data_train.csv'), PosixPath('/Users/bockstaller/code/uvl-tore-classifier-bert/src/data/temp/sampling/fearless-swan-328/3_data_test.pickle'), PosixPath('/Users/bockstaller/code/uvl-tore-classifier-bert/src/data/temp/sampling/fearless-swan-328/3_data_test.csv')]\n",
      "07:01:23 INFO:Starting iteration=3\n",
      "07:01:24 INFO:Found existing run with run_id: 026f983c8249412ab989d4b036846b8f matching the configuration\n",
      "07:01:24 INFO:Downloading run model from mlflow-artifacts:/6/026f983c8249412ab989d4b036846b8f/artifacts/3_model.ser.gz\n"
     ]
    },
    {
     "data": {
      "application/vnd.jupyter.widget-view+json": {
       "model_id": "4384419588134996871a6e33f28820f0",
       "version_major": 2,
       "version_minor": 0
      },
      "text/plain": [
       "Downloading artifacts:   0%|          | 0/1 [00:00<?, ?it/s]"
      ]
     },
     "metadata": {},
     "output_type": "display_data"
    },
    {
     "data": {
      "application/vnd.jupyter.widget-view+json": {
       "model_id": "9f49de5e9da540a693977dcc84e04368",
       "version_major": 2,
       "version_minor": 0
      },
      "text/plain": [
       "Map:   0%|          | 0/2488 [00:00<?, ? examples/s]"
      ]
     },
     "metadata": {},
     "output_type": "display_data"
    },
    {
     "data": {
      "application/vnd.jupyter.widget-view+json": {
       "model_id": "54269099872b435cbc45432a4a52c8a5",
       "version_major": 2,
       "version_minor": 0
      },
      "text/plain": [
       "Map:   0%|          | 0/622 [00:00<?, ? examples/s]"
      ]
     },
     "metadata": {},
     "output_type": "display_data"
    },
    {
     "name": "stdout",
     "output_type": "stream",
     "text": [
      "Test\n",
      "StagedBertForTokenClassification(\n",
      "  (bert): BertModel(\n",
      "    (embeddings): BertEmbeddings(\n",
      "      (word_embeddings): Embedding(30522, 768, padding_idx=0)\n",
      "      (position_embeddings): Embedding(512, 768)\n",
      "      (token_type_embeddings): Embedding(2, 768)\n",
      "      (LayerNorm): LayerNorm((768,), eps=1e-12, elementwise_affine=True)\n",
      "      (dropout): Dropout(p=0.1, inplace=False)\n",
      "    )\n",
      "    (encoder): BertEncoder(\n",
      "      (layer): ModuleList(\n",
      "        (0-11): 12 x BertLayer(\n",
      "          (attention): BertAttention(\n",
      "            (self): BertSelfAttention(\n",
      "              (query): Linear(in_features=768, out_features=768, bias=True)\n",
      "              (key): Linear(in_features=768, out_features=768, bias=True)\n",
      "              (value): Linear(in_features=768, out_features=768, bias=True)\n",
      "              (dropout): Dropout(p=0.1, inplace=False)\n",
      "            )\n",
      "            (output): BertSelfOutput(\n",
      "              (dense): Linear(in_features=768, out_features=768, bias=True)\n",
      "              (LayerNorm): LayerNorm((768,), eps=1e-12, elementwise_affine=True)\n",
      "              (dropout): Dropout(p=0.1, inplace=False)\n",
      "            )\n",
      "          )\n",
      "          (intermediate): BertIntermediate(\n",
      "            (dense): Linear(in_features=768, out_features=3072, bias=True)\n",
      "            (intermediate_act_fn): GELUActivation()\n",
      "          )\n",
      "          (output): BertOutput(\n",
      "            (dense): Linear(in_features=3072, out_features=768, bias=True)\n",
      "            (LayerNorm): LayerNorm((768,), eps=1e-12, elementwise_affine=True)\n",
      "            (dropout): Dropout(p=0.1, inplace=False)\n",
      "          )\n",
      "        )\n",
      "      )\n",
      "    )\n",
      "  )\n",
      "  (dropout): Dropout(p=0.1, inplace=False)\n",
      "  (out_layers): Sequential(\n",
      "    (0): Linear(in_features=772, out_features=10, bias=True)\n",
      "  )\n",
      ")\n"
     ]
    },
    {
     "name": "stderr",
     "output_type": "stream",
     "text": [
      "07:03:10 INFO:Logged iteration result res.precision=0.6246886943003118 res.recall=0.5329373917173252\n"
     ]
    },
    {
     "name": "stdout",
     "output_type": "stream",
     "text": [
      "{'eval_loss': 3.1019885540008545, 'eval_step': 0, 'eval_precision': 0.6246886943003118, 'eval_recall': 0.5329373917173252, 'eval_f1': 0.5751770237330978, 'eval_label_count': 10, 'eval_runtime': 5.8671, 'eval_samples_per_second': 106.015, 'eval_steps_per_second': 3.409, 'epoch': 1.0}\n",
      "{'loss': 1.6228, 'learning_rate': 2.0353697749196142e-05, 'epoch': 1.61}\n"
     ]
    },
    {
     "name": "stderr",
     "output_type": "stream",
     "text": [
      "07:04:51 INFO:Logged iteration result res.precision=0.5731780980967565 res.recall=0.5559108668263939\n"
     ]
    },
    {
     "name": "stdout",
     "output_type": "stream",
     "text": [
      "{'eval_loss': 2.349236488342285, 'eval_step': 2, 'eval_precision': 0.5731780980967565, 'eval_recall': 0.5559108668263939, 'eval_f1': 0.5644124480138891, 'eval_label_count': 10, 'eval_runtime': 5.9365, 'eval_samples_per_second': 104.775, 'eval_steps_per_second': 3.369, 'epoch': 2.0}\n"
     ]
    },
    {
     "name": "stderr",
     "output_type": "stream",
     "text": [
      "07:06:32 INFO:Logged iteration result res.precision=0.6035563902877655 res.recall=0.5485695879623018\n"
     ]
    },
    {
     "name": "stdout",
     "output_type": "stream",
     "text": [
      "{'eval_loss': 2.8237953186035156, 'eval_step': 4, 'eval_precision': 0.6035563902877655, 'eval_recall': 0.5485695879623018, 'eval_f1': 0.5747508286117484, 'eval_label_count': 10, 'eval_runtime': 5.5401, 'eval_samples_per_second': 112.273, 'eval_steps_per_second': 3.61, 'epoch': 3.0}\n",
      "{'loss': 0.4799, 'learning_rate': 1.0707395498392284e-05, 'epoch': 3.22}\n"
     ]
    },
    {
     "name": "stderr",
     "output_type": "stream",
     "text": [
      "07:08:12 INFO:Logged iteration result res.precision=0.6310110752600842 res.recall=0.5627480504366624\n"
     ]
    },
    {
     "name": "stdout",
     "output_type": "stream",
     "text": [
      "{'eval_loss': 3.311630964279175, 'eval_step': 6, 'eval_precision': 0.6310110752600842, 'eval_recall': 0.5627480504366624, 'eval_f1': 0.5949278120898929, 'eval_label_count': 10, 'eval_runtime': 5.5919, 'eval_samples_per_second': 111.233, 'eval_steps_per_second': 3.577, 'epoch': 4.0}\n",
      "{'loss': 0.1774, 'learning_rate': 1.0610932475884245e-06, 'epoch': 4.82}\n"
     ]
    },
    {
     "name": "stderr",
     "output_type": "stream",
     "text": [
      "07:09:53 INFO:Logged iteration result res.precision=0.6292404182878324 res.recall=0.5696333225539965\n"
     ]
    },
    {
     "name": "stdout",
     "output_type": "stream",
     "text": [
      "{'eval_loss': 3.341395616531372, 'eval_step': 8, 'eval_precision': 0.6292404182878324, 'eval_recall': 0.5696333225539965, 'eval_f1': 0.5979550605602164, 'eval_label_count': 10, 'eval_runtime': 5.6787, 'eval_samples_per_second': 109.533, 'eval_steps_per_second': 3.522, 'epoch': 5.0}\n",
      "{'train_runtime': 504.0704, 'train_samples_per_second': 24.679, 'train_steps_per_second': 3.085, 'train_loss': 0.7361752795253153, 'epoch': 5.0}\n"
     ]
    },
    {
     "name": "stderr",
     "output_type": "stream",
     "text": [
      "07:10:02 INFO:Logged iteration result res.precision=0.6292404182878324 res.recall=0.5696333225539965\n",
      "07:10:04 INFO:Logged iteration result res.precision=0.6292404182878324 res.recall=0.5696333225539965\n",
      "07:10:04 INFO:Finished iteration=3\n",
      "07:10:04 INFO:Logging model artifact (might take a while)\n",
      "07:12:02 INFO:Created fold datasets for fold: 4, stored at paths=[PosixPath('/Users/bockstaller/code/uvl-tore-classifier-bert/src/data/temp/sampling/fearless-swan-328/4_data_train.pickle'), PosixPath('/Users/bockstaller/code/uvl-tore-classifier-bert/src/data/temp/sampling/fearless-swan-328/4_data_train.csv'), PosixPath('/Users/bockstaller/code/uvl-tore-classifier-bert/src/data/temp/sampling/fearless-swan-328/4_data_test.pickle'), PosixPath('/Users/bockstaller/code/uvl-tore-classifier-bert/src/data/temp/sampling/fearless-swan-328/4_data_test.csv')]\n",
      "07:12:02 INFO:Starting iteration=4\n",
      "07:12:02 INFO:Found existing run with run_id: 026f983c8249412ab989d4b036846b8f matching the configuration\n",
      "07:12:02 INFO:Downloading run model from mlflow-artifacts:/6/026f983c8249412ab989d4b036846b8f/artifacts/4_model.ser.gz\n"
     ]
    },
    {
     "data": {
      "application/vnd.jupyter.widget-view+json": {
       "model_id": "d9c476416f704a66a9adfb6e24c07663",
       "version_major": 2,
       "version_minor": 0
      },
      "text/plain": [
       "Downloading artifacts:   0%|          | 0/1 [00:00<?, ?it/s]"
      ]
     },
     "metadata": {},
     "output_type": "display_data"
    },
    {
     "data": {
      "application/vnd.jupyter.widget-view+json": {
       "model_id": "f7bac0a572864679af840565efdba023",
       "version_major": 2,
       "version_minor": 0
      },
      "text/plain": [
       "Map:   0%|          | 0/2488 [00:00<?, ? examples/s]"
      ]
     },
     "metadata": {},
     "output_type": "display_data"
    },
    {
     "data": {
      "application/vnd.jupyter.widget-view+json": {
       "model_id": "32c26f93cd8e4a9898e9aa2cd73f2e06",
       "version_major": 2,
       "version_minor": 0
      },
      "text/plain": [
       "Map:   0%|          | 0/622 [00:00<?, ? examples/s]"
      ]
     },
     "metadata": {},
     "output_type": "display_data"
    },
    {
     "name": "stdout",
     "output_type": "stream",
     "text": [
      "Test\n",
      "StagedBertForTokenClassification(\n",
      "  (bert): BertModel(\n",
      "    (embeddings): BertEmbeddings(\n",
      "      (word_embeddings): Embedding(30522, 768, padding_idx=0)\n",
      "      (position_embeddings): Embedding(512, 768)\n",
      "      (token_type_embeddings): Embedding(2, 768)\n",
      "      (LayerNorm): LayerNorm((768,), eps=1e-12, elementwise_affine=True)\n",
      "      (dropout): Dropout(p=0.1, inplace=False)\n",
      "    )\n",
      "    (encoder): BertEncoder(\n",
      "      (layer): ModuleList(\n",
      "        (0-11): 12 x BertLayer(\n",
      "          (attention): BertAttention(\n",
      "            (self): BertSelfAttention(\n",
      "              (query): Linear(in_features=768, out_features=768, bias=True)\n",
      "              (key): Linear(in_features=768, out_features=768, bias=True)\n",
      "              (value): Linear(in_features=768, out_features=768, bias=True)\n",
      "              (dropout): Dropout(p=0.1, inplace=False)\n",
      "            )\n",
      "            (output): BertSelfOutput(\n",
      "              (dense): Linear(in_features=768, out_features=768, bias=True)\n",
      "              (LayerNorm): LayerNorm((768,), eps=1e-12, elementwise_affine=True)\n",
      "              (dropout): Dropout(p=0.1, inplace=False)\n",
      "            )\n",
      "          )\n",
      "          (intermediate): BertIntermediate(\n",
      "            (dense): Linear(in_features=768, out_features=3072, bias=True)\n",
      "            (intermediate_act_fn): GELUActivation()\n",
      "          )\n",
      "          (output): BertOutput(\n",
      "            (dense): Linear(in_features=3072, out_features=768, bias=True)\n",
      "            (LayerNorm): LayerNorm((768,), eps=1e-12, elementwise_affine=True)\n",
      "            (dropout): Dropout(p=0.1, inplace=False)\n",
      "          )\n",
      "        )\n",
      "      )\n",
      "    )\n",
      "  )\n",
      "  (dropout): Dropout(p=0.1, inplace=False)\n",
      "  (out_layers): Sequential(\n",
      "    (0): Linear(in_features=772, out_features=10, bias=True)\n",
      "  )\n",
      ")\n"
     ]
    },
    {
     "name": "stderr",
     "output_type": "stream",
     "text": [
      "07:13:51 INFO:Logged iteration result res.precision=0.5493976028391929 res.recall=0.48706173442357886\n"
     ]
    },
    {
     "name": "stdout",
     "output_type": "stream",
     "text": [
      "{'eval_loss': 3.9948201179504395, 'eval_step': 0, 'eval_precision': 0.5493976028391929, 'eval_recall': 0.48706173442357886, 'eval_f1': 0.5163551327227265, 'eval_label_count': 10, 'eval_runtime': 5.9341, 'eval_samples_per_second': 104.817, 'eval_steps_per_second': 3.37, 'epoch': 1.0}\n",
      "{'loss': 1.5969, 'learning_rate': 2.0353697749196142e-05, 'epoch': 1.61}\n"
     ]
    },
    {
     "name": "stderr",
     "output_type": "stream",
     "text": [
      "07:15:32 INFO:Logged iteration result res.precision=0.5318146737880107 res.recall=0.5315039004932284\n"
     ]
    },
    {
     "name": "stdout",
     "output_type": "stream",
     "text": [
      "{'eval_loss': 2.6354353427886963, 'eval_step': 2, 'eval_precision': 0.5318146737880107, 'eval_recall': 0.5315039004932284, 'eval_f1': 0.531659241726177, 'eval_label_count': 10, 'eval_runtime': 5.6093, 'eval_samples_per_second': 110.888, 'eval_steps_per_second': 3.566, 'epoch': 2.0}\n"
     ]
    },
    {
     "name": "stderr",
     "output_type": "stream",
     "text": [
      "07:17:13 INFO:Logged iteration result res.precision=0.5924851571726517 res.recall=0.5084631280528744\n"
     ]
    },
    {
     "name": "stdout",
     "output_type": "stream",
     "text": [
      "{'eval_loss': 3.8233375549316406, 'eval_step': 4, 'eval_precision': 0.5924851571726517, 'eval_recall': 0.5084631280528744, 'eval_f1': 0.5472679514264266, 'eval_label_count': 10, 'eval_runtime': 6.2197, 'eval_samples_per_second': 100.004, 'eval_steps_per_second': 3.216, 'epoch': 3.0}\n",
      "{'loss': 0.5023, 'learning_rate': 1.0707395498392284e-05, 'epoch': 3.22}\n"
     ]
    },
    {
     "name": "stderr",
     "output_type": "stream",
     "text": [
      "07:18:53 INFO:Logged iteration result res.precision=0.5952915255697124 res.recall=0.5360785192631242\n"
     ]
    },
    {
     "name": "stdout",
     "output_type": "stream",
     "text": [
      "{'eval_loss': 3.5143659114837646, 'eval_step': 6, 'eval_precision': 0.5952915255697124, 'eval_recall': 0.5360785192631242, 'eval_f1': 0.5641354939788052, 'eval_label_count': 10, 'eval_runtime': 5.7774, 'eval_samples_per_second': 107.66, 'eval_steps_per_second': 3.462, 'epoch': 4.0}\n",
      "{'loss': 0.1847, 'learning_rate': 1.0610932475884245e-06, 'epoch': 4.82}\n"
     ]
    },
    {
     "name": "stderr",
     "output_type": "stream",
     "text": [
      "07:20:34 INFO:Logged iteration result res.precision=0.6025761601385351 res.recall=0.537407386595133\n"
     ]
    },
    {
     "name": "stdout",
     "output_type": "stream",
     "text": [
      "{'eval_loss': 3.728144645690918, 'eval_step': 8, 'eval_precision': 0.6025761601385351, 'eval_recall': 0.537407386595133, 'eval_f1': 0.5681290407610347, 'eval_label_count': 10, 'eval_runtime': 5.8172, 'eval_samples_per_second': 106.924, 'eval_steps_per_second': 3.438, 'epoch': 5.0}\n",
      "{'train_runtime': 503.9214, 'train_samples_per_second': 24.686, 'train_steps_per_second': 3.086, 'train_loss': 0.7389109912025967, 'epoch': 5.0}\n"
     ]
    },
    {
     "name": "stderr",
     "output_type": "stream",
     "text": [
      "07:20:44 INFO:Logged iteration result res.precision=0.6025761601385351 res.recall=0.537407386595133\n",
      "07:20:45 INFO:Logged iteration result res.precision=0.6025761601385351 res.recall=0.537407386595133\n",
      "07:20:45 INFO:Finished iteration=4\n",
      "07:20:45 INFO:Logging model artifact (might take a while)\n",
      "07:22:41 INFO:Breaking early after iteration=4 of 5 folds\n",
      "07:22:52 INFO:Logged experiment result res.mean_precision=0.6256756490822082 res.mean_recall=0.5622017690074544\n",
      "07:22:53 INFO:Left mlflow context\n"
     ]
    },
    {
     "name": "stdout",
     "output_type": "stream",
     "text": [
      "89900f3ccbc94ae2b3566471e8c1cc23\n"
     ]
    },
    {
     "data": {
      "application/vnd.jupyter.widget-view+json": {
       "model_id": "ea7a5fe2c2124eeaa38a47bd59e7ecf9",
       "version_major": 2,
       "version_minor": 0
      },
      "text/plain": [
       "Downloading artifacts:   0%|          | 0/7 [00:00<?, ?it/s]"
      ]
     },
     "metadata": {},
     "output_type": "display_data"
    },
    {
     "data": {
      "text/plain": [
       "PosixPath('src/service/models/bert_2_sner')"
      ]
     },
     "execution_count": 29,
     "metadata": {},
     "output_type": "execute_result"
    }
   ],
   "source": [
    "from tooling.observability import get_run_id\n",
    "from tooling.config import DualModelStagedBERTConfig, StagedBERT\n",
    "\n",
    "from copy import deepcopy\n",
    "\n",
    "import os\n",
    "\n",
    "os.environ[\"TOKENIZERS_PARALLELISM\"] = \"true\"\n",
    "\n",
    "bert_2_sner_experiment_config = deepcopy(base_experiment_config)\n",
    "bert_2_sner_experiment_config.name = \"Production\"\n",
    "\n",
    "bert_2_sner_config = StagedBERT(\n",
    "    max_len=123,\n",
    "    layers=[],\n",
    "    learning_rate_bert=3e-05,\n",
    "    learning_rate_classifier=0.16,\n",
    "    number_epochs=5,\n",
    "    train_batch_size=8,\n",
    "    weight_decay=0.1,\n",
    "    weighted_classes=True,\n",
    ")\n",
    "\n",
    "bert_2_sner_cfg = OmegaConf.structured(\n",
    "    DualModelStagedBERTConfig(\n",
    "        bert=bert_2_sner_config,\n",
    "        experiment=bert_2_sner_experiment_config,\n",
    "        transformation=label_transformation_config,\n",
    "        first_model_sner=sner_cfg,\n",
    "    )\n",
    ")\n",
    "\n",
    "if run_experiments:\n",
    "    from experiments.dual_model_staged_bert import dual_stage_bert\n",
    "\n",
    "    dual_stage_bert(OmegaConf.create(bert_2_sner_cfg))\n",
    "\n",
    "bert_2_sner_run_id = get_run_id(bert_2_sner_cfg, pin_commit=pin_commits)\n",
    "\n",
    "print(bert_2_sner_run_id)\n",
    "\n",
    "bert_2_sner_run = mlflow.get_run(bert_2_sner_run_id)\n",
    "mlflow.artifacts.download_artifacts(\n",
    "    f\"{bert_2_sner_run.info.artifact_uri}/0_model\",\n",
    "    dst_path=Path(\"./src/service/models/\"),\n",
    ")\n",
    "try:\n",
    "    shutil.rmtree(Path(\"./src/service/models/bert_2_sner\"))\n",
    "except FileNotFoundError:\n",
    "    pass\n",
    "\n",
    "Path(\"./src/service/models/0_model\").rename(\"./src/service/models/bert_2_sner\")"
   ]
  },
  {
   "cell_type": "markdown",
   "metadata": {},
   "source": [
    "## Train BERT Second Stage Model for BILSTM First Stage\n"
   ]
  },
  {
   "cell_type": "code",
   "execution_count": 30,
   "metadata": {},
   "outputs": [
    {
     "name": "stderr",
     "output_type": "stream",
     "text": [
      "07:24:05 INFO:\n",
      "first_model_bert: null\n",
      "first_model_bilstm:\n",
      "  bilstm:\n",
      "    type: BiLSTM\n",
      "    sentence_length: 106\n",
      "    batch_size: 16\n",
      "    number_epochs: 5\n",
      "    verbose: 1\n",
      "    weighted_classes: false\n",
      "    learning_rate: 0.006\n",
      "  experiment:\n",
      "    name: Production\n",
      "    description: ''\n",
      "    random_state: 125\n",
      "    folds: 5\n",
      "    iterations: 5\n",
      "    average: macro\n",
      "    dataset: all\n",
      "    lower_case: true\n",
      "    force: false\n",
      "    pin_commit: false\n",
      "  transformation:\n",
      "    description: Levels\n",
      "    type: Reduced\n",
      "    task: Domain_Level\n",
      "    goals: null\n",
      "    domain_data: Domain_Level\n",
      "    activity: Domain_Level\n",
      "    stakeholder: Domain_Level\n",
      "    system_function: Interaction_Level\n",
      "    interaction: Interaction_Level\n",
      "    interaction_data: Interaction_Level\n",
      "    workspace: Interaction_Level\n",
      "    software: System_Level\n",
      "    internal_action: System_Level\n",
      "    internal_data: System_Level\n",
      "    system_level: System_Level\n",
      "first_model_sner: null\n",
      "bert:\n",
      "  model: bert-base-uncased\n",
      "  type: BERT\n",
      "  max_len: 123\n",
      "  train_batch_size: 8\n",
      "  validation_batch_size: 32\n",
      "  number_epochs: 5\n",
      "  learning_rate_bert: 3.0e-05\n",
      "  learning_rate_classifier: 0.16\n",
      "  weight_decay: 0.1\n",
      "  weighted_classes: true\n",
      "  layers: []\n",
      "experiment:\n",
      "  name: Production\n",
      "  description: ''\n",
      "  random_state: 125\n",
      "  folds: 5\n",
      "  iterations: 5\n",
      "  average: macro\n",
      "  dataset: all\n",
      "  lower_case: true\n",
      "  force: false\n",
      "  pin_commit: false\n",
      "transformation:\n",
      "  description: None\n",
      "  type: Full\n",
      "  task: Task\n",
      "  goals: null\n",
      "  domain_data: Domain_Data\n",
      "  activity: Activity\n",
      "  stakeholder: Stakeholder\n",
      "  system_function: System_Function\n",
      "  interaction: Interaction\n",
      "  interaction_data: Interaction_Data\n",
      "  workspace: Workspace\n",
      "  software: System_Level\n",
      "  internal_action: System_Level\n",
      "  internal_data: System_Level\n",
      "  system_level: System_Level\n",
      "\n",
      "07:24:06 INFO:New experiment. Running\n",
      "07:24:06 INFO:Entering mlflow context\n",
      "07:24:07 INFO:Importing dataset: anno from /Users/bockstaller/code/uvl-tore-classifier-bert/src/data/datasets/forum/anno_test.json\n",
      "07:24:07 INFO:Importing dataset: anno from /Users/bockstaller/code/uvl-tore-classifier-bert/src/data/datasets/forum/anno_train.json\n",
      "07:24:07 INFO:Importing dataset: prolific from /Users/bockstaller/code/uvl-tore-classifier-bert/src/data/datasets/prolific/TORE_Coded_Answers_1_33.json\n",
      "07:24:08 INFO:Importing dataset: prolific from /Users/bockstaller/code/uvl-tore-classifier-bert/src/data/datasets/prolific/TORE_Coded_Answers_34_66.json\n",
      "07:24:08 INFO:Importing dataset: prolific from /Users/bockstaller/code/uvl-tore-classifier-bert/src/data/datasets/prolific/TORE_Coded_Answers_67_100.json\n",
      "07:24:08 INFO:Importing dataset: komoot from /Users/bockstaller/code/uvl-tore-classifier-bert/src/data/datasets/app/Komoot_AppReview.json\n",
      "07:24:12 INFO:Dataset Labels: transformed_dataset['labels']=['Stakeholder', 'Activity', 'Domain_Data', 'Interaction', 'Interaction_Data', 'System_Function', 'System_Level', 'Task', '0', 'Workspace']\n",
      "07:24:12 INFO:Class weights: {'0': 0.13494545, 'Task': 8.320833, 'Domain_Data': 2.52101, 'Activity': 9.136601, 'Stakeholder': 9.949466, 'System_Function': 3.0622125, 'Interaction': 1.9934403, 'Interaction_Data': 1.877636, 'Workspace': 8.903822, 'System_Level': 2.5661314}\n",
      "07:24:12 INFO:Configured maximal token sequence length: max_len = 123\n",
      "07:24:15 INFO:Created fold datasets for fold: 0, stored at paths=[PosixPath('/Users/bockstaller/code/uvl-tore-classifier-bert/src/data/temp/sampling/languid-bug-961/0_data_train.pickle'), PosixPath('/Users/bockstaller/code/uvl-tore-classifier-bert/src/data/temp/sampling/languid-bug-961/0_data_train.csv'), PosixPath('/Users/bockstaller/code/uvl-tore-classifier-bert/src/data/temp/sampling/languid-bug-961/0_data_test.pickle'), PosixPath('/Users/bockstaller/code/uvl-tore-classifier-bert/src/data/temp/sampling/languid-bug-961/0_data_test.csv')]\n",
      "07:24:15 INFO:Starting iteration=0\n",
      "07:24:15 INFO:Found existing run with run_id: 97f6d3072d1644f6a08c33ebc3c165b5 matching the configuration\n",
      "07:24:16 INFO:Downloading run model from mlflow-artifacts:/6/97f6d3072d1644f6a08c33ebc3c165b5/artifacts/0_model\n"
     ]
    },
    {
     "data": {
      "application/vnd.jupyter.widget-view+json": {
       "model_id": "5460b48d9753448d82c3f7c2f44ef0a8",
       "version_major": 2,
       "version_minor": 0
      },
      "text/plain": [
       "Downloading artifacts:   0%|          | 0/5 [00:00<?, ?it/s]"
      ]
     },
     "metadata": {},
     "output_type": "display_data"
    },
    {
     "name": "stderr",
     "output_type": "stream",
     "text": [
      "07:24:23 INFO:loading projection weights from /Users/bockstaller/gensim-data/glove-twitter-100/glove-twitter-100.gz\n",
      "07:24:59 INFO:KeyedVectors lifecycle event {'msg': 'loaded (1193514, 100) matrix of type float32 from /Users/bockstaller/gensim-data/glove-twitter-100/glove-twitter-100.gz', 'binary': False, 'encoding': 'utf8', 'datetime': '2023-10-14T19:24:59.451313', 'gensim': '4.3.2', 'python': '3.11.4 (main, Jun 20 2023, 19:14:10) [Clang 14.0.3 (clang-1403.0.22.14.1)]', 'platform': 'macOS-14.0-arm64-arm-64bit', 'event': 'load_word2vec_format'}\n",
      "2023-10-14 19:24:59.854811: I metal_plugin/src/device/metal_device.cc:1154] Metal device set to: Apple M2 Pro\n",
      "2023-10-14 19:24:59.854864: I metal_plugin/src/device/metal_device.cc:296] systemMemory: 32.00 GB\n",
      "2023-10-14 19:24:59.854868: I metal_plugin/src/device/metal_device.cc:313] maxCacheSize: 10.67 GB\n",
      "2023-10-14 19:24:59.854938: I tensorflow/core/common_runtime/pluggable_device/pluggable_device_factory.cc:303] Could not identify NUMA node of platform GPU ID 0, defaulting to 0. Your kernel may not have been built with NUMA support.\n",
      "2023-10-14 19:24:59.855164: I tensorflow/core/common_runtime/pluggable_device/pluggable_device_factory.cc:269] Created TensorFlow device (/job:localhost/replica:0/task:0/device:GPU:0 with 0 MB memory) -> physical PluggableDevice (device: 0, name: METAL, pci bus id: <undefined>)\n",
      "2023-10-14 19:25:32.181733: I tensorflow/core/grappler/optimizers/custom_graph_optimizer_registry.cc:114] Plugin optimizer for device_type GPU is enabled.\n",
      "2023-10-14 19:25:32.327377: I tensorflow/core/grappler/optimizers/custom_graph_optimizer_registry.cc:114] Plugin optimizer for device_type GPU is enabled.\n",
      "2023-10-14 19:25:32.339088: I tensorflow/core/grappler/optimizers/custom_graph_optimizer_registry.cc:114] Plugin optimizer for device_type GPU is enabled.\n",
      "2023-10-14 19:25:33.385756: I tensorflow/core/grappler/optimizers/custom_graph_optimizer_registry.cc:114] Plugin optimizer for device_type GPU is enabled.\n",
      "2023-10-14 19:25:33.396725: I tensorflow/core/grappler/optimizers/custom_graph_optimizer_registry.cc:114] Plugin optimizer for device_type GPU is enabled.\n"
     ]
    },
    {
     "name": "stdout",
     "output_type": "stream",
     "text": [
      "78/78 [==============================] - 5s 32ms/step\n"
     ]
    },
    {
     "data": {
      "application/vnd.jupyter.widget-view+json": {
       "model_id": "7fe69bab9b03446fb3d47a5b82efe5dc",
       "version_major": 2,
       "version_minor": 0
      },
      "text/plain": [
       "Map:   0%|          | 0/2488 [00:00<?, ? examples/s]"
      ]
     },
     "metadata": {},
     "output_type": "display_data"
    },
    {
     "name": "stderr",
     "output_type": "stream",
     "text": [
      "2023-10-14 19:25:47.669802: I tensorflow/core/grappler/optimizers/custom_graph_optimizer_registry.cc:114] Plugin optimizer for device_type GPU is enabled.\n",
      "2023-10-14 19:25:47.781038: I tensorflow/core/grappler/optimizers/custom_graph_optimizer_registry.cc:114] Plugin optimizer for device_type GPU is enabled.\n",
      "2023-10-14 19:25:47.793333: I tensorflow/core/grappler/optimizers/custom_graph_optimizer_registry.cc:114] Plugin optimizer for device_type GPU is enabled.\n",
      "2023-10-14 19:25:48.795220: I tensorflow/core/grappler/optimizers/custom_graph_optimizer_registry.cc:114] Plugin optimizer for device_type GPU is enabled.\n",
      "2023-10-14 19:25:48.806596: I tensorflow/core/grappler/optimizers/custom_graph_optimizer_registry.cc:114] Plugin optimizer for device_type GPU is enabled.\n"
     ]
    },
    {
     "name": "stdout",
     "output_type": "stream",
     "text": [
      "20/20 [==============================] - 4s 54ms/step\n"
     ]
    },
    {
     "data": {
      "application/vnd.jupyter.widget-view+json": {
       "model_id": "b628446704424af183b16ff82de27138",
       "version_major": 2,
       "version_minor": 0
      },
      "text/plain": [
       "Map:   0%|          | 0/622 [00:00<?, ? examples/s]"
      ]
     },
     "metadata": {},
     "output_type": "display_data"
    },
    {
     "name": "stdout",
     "output_type": "stream",
     "text": [
      "Test\n",
      "StagedBertForTokenClassification(\n",
      "  (bert): BertModel(\n",
      "    (embeddings): BertEmbeddings(\n",
      "      (word_embeddings): Embedding(30522, 768, padding_idx=0)\n",
      "      (position_embeddings): Embedding(512, 768)\n",
      "      (token_type_embeddings): Embedding(2, 768)\n",
      "      (LayerNorm): LayerNorm((768,), eps=1e-12, elementwise_affine=True)\n",
      "      (dropout): Dropout(p=0.1, inplace=False)\n",
      "    )\n",
      "    (encoder): BertEncoder(\n",
      "      (layer): ModuleList(\n",
      "        (0-11): 12 x BertLayer(\n",
      "          (attention): BertAttention(\n",
      "            (self): BertSelfAttention(\n",
      "              (query): Linear(in_features=768, out_features=768, bias=True)\n",
      "              (key): Linear(in_features=768, out_features=768, bias=True)\n",
      "              (value): Linear(in_features=768, out_features=768, bias=True)\n",
      "              (dropout): Dropout(p=0.1, inplace=False)\n",
      "            )\n",
      "            (output): BertSelfOutput(\n",
      "              (dense): Linear(in_features=768, out_features=768, bias=True)\n",
      "              (LayerNorm): LayerNorm((768,), eps=1e-12, elementwise_affine=True)\n",
      "              (dropout): Dropout(p=0.1, inplace=False)\n",
      "            )\n",
      "          )\n",
      "          (intermediate): BertIntermediate(\n",
      "            (dense): Linear(in_features=768, out_features=3072, bias=True)\n",
      "            (intermediate_act_fn): GELUActivation()\n",
      "          )\n",
      "          (output): BertOutput(\n",
      "            (dense): Linear(in_features=3072, out_features=768, bias=True)\n",
      "            (LayerNorm): LayerNorm((768,), eps=1e-12, elementwise_affine=True)\n",
      "            (dropout): Dropout(p=0.1, inplace=False)\n",
      "          )\n",
      "        )\n",
      "      )\n",
      "    )\n",
      "  )\n",
      "  (dropout): Dropout(p=0.1, inplace=False)\n",
      "  (out_layers): Sequential(\n",
      "    (0): Linear(in_features=772, out_features=10, bias=True)\n",
      "  )\n",
      ")\n"
     ]
    },
    {
     "name": "stderr",
     "output_type": "stream",
     "text": [
      "07:27:31 INFO:Logged iteration result res.precision=0.4704672905782242 res.recall=0.594022454878395\n"
     ]
    },
    {
     "name": "stdout",
     "output_type": "stream",
     "text": [
      "{'eval_loss': 2.0544893741607666, 'eval_step': 0, 'eval_precision': 0.4704672905782242, 'eval_recall': 0.594022454878395, 'eval_f1': 0.5250743580801418, 'eval_label_count': 10, 'eval_runtime': 5.5563, 'eval_samples_per_second': 111.944, 'eval_steps_per_second': 3.599, 'epoch': 1.0}\n",
      "{'loss': 2.4438, 'learning_rate': 2.0353697749196142e-05, 'epoch': 1.61}\n"
     ]
    },
    {
     "name": "stderr",
     "output_type": "stream",
     "text": [
      "07:29:11 INFO:Logged iteration result res.precision=0.5122574897174277 res.recall=0.6082409128690053\n"
     ]
    },
    {
     "name": "stdout",
     "output_type": "stream",
     "text": [
      "{'eval_loss': 1.6727495193481445, 'eval_step': 2, 'eval_precision': 0.5122574897174277, 'eval_recall': 0.6082409128690053, 'eval_f1': 0.5561381657492884, 'eval_label_count': 10, 'eval_runtime': 5.5773, 'eval_samples_per_second': 111.523, 'eval_steps_per_second': 3.586, 'epoch': 2.0}\n"
     ]
    },
    {
     "name": "stderr",
     "output_type": "stream",
     "text": [
      "07:30:52 INFO:Logged iteration result res.precision=0.4866336073441313 res.recall=0.6863594632861449\n"
     ]
    },
    {
     "name": "stdout",
     "output_type": "stream",
     "text": [
      "{'eval_loss': 1.1428433656692505, 'eval_step': 4, 'eval_precision': 0.4866336073441313, 'eval_recall': 0.6863594632861449, 'eval_f1': 0.5694928468319931, 'eval_label_count': 10, 'eval_runtime': 5.9481, 'eval_samples_per_second': 104.571, 'eval_steps_per_second': 3.362, 'epoch': 3.0}\n",
      "{'loss': 0.8998, 'learning_rate': 1.0707395498392284e-05, 'epoch': 3.22}\n"
     ]
    },
    {
     "name": "stderr",
     "output_type": "stream",
     "text": [
      "07:32:33 INFO:Logged iteration result res.precision=0.5392452192659986 res.recall=0.6753779615216206\n"
     ]
    },
    {
     "name": "stdout",
     "output_type": "stream",
     "text": [
      "{'eval_loss': 1.3104873895645142, 'eval_step': 6, 'eval_precision': 0.5392452192659986, 'eval_recall': 0.6753779615216206, 'eval_f1': 0.5996828361401576, 'eval_label_count': 10, 'eval_runtime': 5.6745, 'eval_samples_per_second': 109.613, 'eval_steps_per_second': 3.525, 'epoch': 4.0}\n",
      "{'loss': 0.443, 'learning_rate': 1.0610932475884245e-06, 'epoch': 4.82}\n"
     ]
    },
    {
     "name": "stderr",
     "output_type": "stream",
     "text": [
      "07:34:14 INFO:Logged iteration result res.precision=0.5501634843310629 res.recall=0.6859794122105667\n"
     ]
    },
    {
     "name": "stdout",
     "output_type": "stream",
     "text": [
      "{'eval_loss': 1.280669927597046, 'eval_step': 8, 'eval_precision': 0.5501634843310629, 'eval_recall': 0.6859794122105667, 'eval_f1': 0.6106103504004242, 'eval_label_count': 10, 'eval_runtime': 5.6611, 'eval_samples_per_second': 109.872, 'eval_steps_per_second': 3.533, 'epoch': 5.0}\n",
      "{'train_runtime': 504.2275, 'train_samples_per_second': 24.671, 'train_steps_per_second': 3.084, 'train_loss': 1.2275875152882272, 'epoch': 5.0}\n"
     ]
    },
    {
     "name": "stderr",
     "output_type": "stream",
     "text": [
      "07:34:23 INFO:Logged iteration result res.precision=0.5501634843310629 res.recall=0.6859794122105667\n",
      "07:34:24 INFO:Logged iteration result res.precision=0.5501634843310629 res.recall=0.6859794122105667\n",
      "07:34:24 INFO:Finished iteration=0\n",
      "07:34:24 INFO:Logging model artifact (might take a while)\n",
      "07:36:22 INFO:Created fold datasets for fold: 1, stored at paths=[PosixPath('/Users/bockstaller/code/uvl-tore-classifier-bert/src/data/temp/sampling/languid-bug-961/1_data_train.pickle'), PosixPath('/Users/bockstaller/code/uvl-tore-classifier-bert/src/data/temp/sampling/languid-bug-961/1_data_train.csv'), PosixPath('/Users/bockstaller/code/uvl-tore-classifier-bert/src/data/temp/sampling/languid-bug-961/1_data_test.pickle'), PosixPath('/Users/bockstaller/code/uvl-tore-classifier-bert/src/data/temp/sampling/languid-bug-961/1_data_test.csv')]\n",
      "07:36:22 INFO:Starting iteration=1\n",
      "07:36:24 INFO:Found existing run with run_id: 97f6d3072d1644f6a08c33ebc3c165b5 matching the configuration\n",
      "07:36:24 INFO:Downloading run model from mlflow-artifacts:/6/97f6d3072d1644f6a08c33ebc3c165b5/artifacts/1_model\n"
     ]
    },
    {
     "data": {
      "application/vnd.jupyter.widget-view+json": {
       "model_id": "4a7c89ae79c644269fb1195585bc9f0f",
       "version_major": 2,
       "version_minor": 0
      },
      "text/plain": [
       "Downloading artifacts:   0%|          | 0/5 [00:00<?, ?it/s]"
      ]
     },
     "metadata": {},
     "output_type": "display_data"
    },
    {
     "name": "stderr",
     "output_type": "stream",
     "text": [
      "07:36:31 INFO:loading projection weights from /Users/bockstaller/gensim-data/glove-twitter-100/glove-twitter-100.gz\n",
      "07:37:09 INFO:KeyedVectors lifecycle event {'msg': 'loaded (1193514, 100) matrix of type float32 from /Users/bockstaller/gensim-data/glove-twitter-100/glove-twitter-100.gz', 'binary': False, 'encoding': 'utf8', 'datetime': '2023-10-14T19:37:09.099439', 'gensim': '4.3.2', 'python': '3.11.4 (main, Jun 20 2023, 19:14:10) [Clang 14.0.3 (clang-1403.0.22.14.1)]', 'platform': 'macOS-14.0-arm64-arm-64bit', 'event': 'load_word2vec_format'}\n",
      "2023-10-14 19:37:41.636452: I tensorflow/core/grappler/optimizers/custom_graph_optimizer_registry.cc:114] Plugin optimizer for device_type GPU is enabled.\n",
      "2023-10-14 19:37:41.749891: I tensorflow/core/grappler/optimizers/custom_graph_optimizer_registry.cc:114] Plugin optimizer for device_type GPU is enabled.\n",
      "2023-10-14 19:37:41.763465: I tensorflow/core/grappler/optimizers/custom_graph_optimizer_registry.cc:114] Plugin optimizer for device_type GPU is enabled.\n",
      "2023-10-14 19:37:42.794685: I tensorflow/core/grappler/optimizers/custom_graph_optimizer_registry.cc:114] Plugin optimizer for device_type GPU is enabled.\n",
      "2023-10-14 19:37:42.806011: I tensorflow/core/grappler/optimizers/custom_graph_optimizer_registry.cc:114] Plugin optimizer for device_type GPU is enabled.\n"
     ]
    },
    {
     "name": "stdout",
     "output_type": "stream",
     "text": [
      "78/78 [==============================] - 5s 31ms/step\n"
     ]
    },
    {
     "data": {
      "application/vnd.jupyter.widget-view+json": {
       "model_id": "fdfffdb8788645908c0eb7e74c799ee3",
       "version_major": 2,
       "version_minor": 0
      },
      "text/plain": [
       "Map:   0%|          | 0/2488 [00:00<?, ? examples/s]"
      ]
     },
     "metadata": {},
     "output_type": "display_data"
    },
    {
     "name": "stderr",
     "output_type": "stream",
     "text": [
      "2023-10-14 19:37:57.005098: I tensorflow/core/grappler/optimizers/custom_graph_optimizer_registry.cc:114] Plugin optimizer for device_type GPU is enabled.\n",
      "2023-10-14 19:37:57.118741: I tensorflow/core/grappler/optimizers/custom_graph_optimizer_registry.cc:114] Plugin optimizer for device_type GPU is enabled.\n",
      "2023-10-14 19:37:57.130965: I tensorflow/core/grappler/optimizers/custom_graph_optimizer_registry.cc:114] Plugin optimizer for device_type GPU is enabled.\n",
      "2023-10-14 19:37:58.157904: I tensorflow/core/grappler/optimizers/custom_graph_optimizer_registry.cc:114] Plugin optimizer for device_type GPU is enabled.\n",
      "2023-10-14 19:37:58.169238: I tensorflow/core/grappler/optimizers/custom_graph_optimizer_registry.cc:114] Plugin optimizer for device_type GPU is enabled.\n"
     ]
    },
    {
     "name": "stdout",
     "output_type": "stream",
     "text": [
      "20/20 [==============================] - 3s 47ms/step\n"
     ]
    },
    {
     "data": {
      "application/vnd.jupyter.widget-view+json": {
       "model_id": "b928fea4e2244377a2430553648af4bb",
       "version_major": 2,
       "version_minor": 0
      },
      "text/plain": [
       "Map:   0%|          | 0/622 [00:00<?, ? examples/s]"
      ]
     },
     "metadata": {},
     "output_type": "display_data"
    },
    {
     "name": "stdout",
     "output_type": "stream",
     "text": [
      "Test\n",
      "StagedBertForTokenClassification(\n",
      "  (bert): BertModel(\n",
      "    (embeddings): BertEmbeddings(\n",
      "      (word_embeddings): Embedding(30522, 768, padding_idx=0)\n",
      "      (position_embeddings): Embedding(512, 768)\n",
      "      (token_type_embeddings): Embedding(2, 768)\n",
      "      (LayerNorm): LayerNorm((768,), eps=1e-12, elementwise_affine=True)\n",
      "      (dropout): Dropout(p=0.1, inplace=False)\n",
      "    )\n",
      "    (encoder): BertEncoder(\n",
      "      (layer): ModuleList(\n",
      "        (0-11): 12 x BertLayer(\n",
      "          (attention): BertAttention(\n",
      "            (self): BertSelfAttention(\n",
      "              (query): Linear(in_features=768, out_features=768, bias=True)\n",
      "              (key): Linear(in_features=768, out_features=768, bias=True)\n",
      "              (value): Linear(in_features=768, out_features=768, bias=True)\n",
      "              (dropout): Dropout(p=0.1, inplace=False)\n",
      "            )\n",
      "            (output): BertSelfOutput(\n",
      "              (dense): Linear(in_features=768, out_features=768, bias=True)\n",
      "              (LayerNorm): LayerNorm((768,), eps=1e-12, elementwise_affine=True)\n",
      "              (dropout): Dropout(p=0.1, inplace=False)\n",
      "            )\n",
      "          )\n",
      "          (intermediate): BertIntermediate(\n",
      "            (dense): Linear(in_features=768, out_features=3072, bias=True)\n",
      "            (intermediate_act_fn): GELUActivation()\n",
      "          )\n",
      "          (output): BertOutput(\n",
      "            (dense): Linear(in_features=3072, out_features=768, bias=True)\n",
      "            (LayerNorm): LayerNorm((768,), eps=1e-12, elementwise_affine=True)\n",
      "            (dropout): Dropout(p=0.1, inplace=False)\n",
      "          )\n",
      "        )\n",
      "      )\n",
      "    )\n",
      "  )\n",
      "  (dropout): Dropout(p=0.1, inplace=False)\n",
      "  (out_layers): Sequential(\n",
      "    (0): Linear(in_features=772, out_features=10, bias=True)\n",
      "  )\n",
      ")\n"
     ]
    },
    {
     "name": "stderr",
     "output_type": "stream",
     "text": [
      "07:39:40 INFO:Logged iteration result res.precision=0.5034964217418884 res.recall=0.6072564022123539\n"
     ]
    },
    {
     "name": "stdout",
     "output_type": "stream",
     "text": [
      "{'eval_loss': 1.5170058012008667, 'eval_step': 0, 'eval_precision': 0.5034964217418884, 'eval_recall': 0.6072564022123539, 'eval_f1': 0.5505300891431604, 'eval_label_count': 10, 'eval_runtime': 5.8588, 'eval_samples_per_second': 106.166, 'eval_steps_per_second': 3.414, 'epoch': 1.0}\n",
      "{'loss': 2.1479, 'learning_rate': 2.0353697749196142e-05, 'epoch': 1.61}\n"
     ]
    },
    {
     "name": "stderr",
     "output_type": "stream",
     "text": [
      "07:41:21 INFO:Logged iteration result res.precision=0.5070145232807999 res.recall=0.6241145335993995\n"
     ]
    },
    {
     "name": "stdout",
     "output_type": "stream",
     "text": [
      "{'eval_loss': 1.5515938997268677, 'eval_step': 2, 'eval_precision': 0.5070145232807999, 'eval_recall': 0.6241145335993995, 'eval_f1': 0.5595031456415548, 'eval_label_count': 10, 'eval_runtime': 6.2382, 'eval_samples_per_second': 99.709, 'eval_steps_per_second': 3.206, 'epoch': 2.0}\n"
     ]
    },
    {
     "name": "stderr",
     "output_type": "stream",
     "text": [
      "07:43:02 INFO:Logged iteration result res.precision=0.4950435771147516 res.recall=0.6699432695183577\n"
     ]
    },
    {
     "name": "stdout",
     "output_type": "stream",
     "text": [
      "{'eval_loss': 1.1251881122589111, 'eval_step': 4, 'eval_precision': 0.4950435771147516, 'eval_recall': 0.6699432695183577, 'eval_f1': 0.5693645616082517, 'eval_label_count': 10, 'eval_runtime': 5.9286, 'eval_samples_per_second': 104.915, 'eval_steps_per_second': 3.373, 'epoch': 3.0}\n",
      "{'loss': 0.8846, 'learning_rate': 1.0707395498392284e-05, 'epoch': 3.22}\n"
     ]
    },
    {
     "name": "stderr",
     "output_type": "stream",
     "text": [
      "07:44:43 INFO:Logged iteration result res.precision=0.5427637353649777 res.recall=0.6549374626447462\n"
     ]
    },
    {
     "name": "stdout",
     "output_type": "stream",
     "text": [
      "{'eval_loss': 1.370863437652588, 'eval_step': 6, 'eval_precision': 0.5427637353649777, 'eval_recall': 0.6549374626447462, 'eval_f1': 0.5935976422938118, 'eval_label_count': 10, 'eval_runtime': 5.8686, 'eval_samples_per_second': 105.987, 'eval_steps_per_second': 3.408, 'epoch': 4.0}\n",
      "{'loss': 0.4114, 'learning_rate': 1.0610932475884245e-06, 'epoch': 4.82}\n"
     ]
    },
    {
     "name": "stderr",
     "output_type": "stream",
     "text": [
      "07:46:25 INFO:Logged iteration result res.precision=0.5516159313471146 res.recall=0.6797327222615943\n"
     ]
    },
    {
     "name": "stdout",
     "output_type": "stream",
     "text": [
      "{'eval_loss': 1.2967681884765625, 'eval_step': 8, 'eval_precision': 0.5516159313471146, 'eval_recall': 0.6797327222615943, 'eval_f1': 0.609009312770303, 'eval_label_count': 10, 'eval_runtime': 5.6176, 'eval_samples_per_second': 110.723, 'eval_steps_per_second': 3.56, 'epoch': 5.0}\n",
      "{'train_runtime': 505.6932, 'train_samples_per_second': 24.6, 'train_steps_per_second': 3.075, 'train_loss': 1.1174759039924842, 'epoch': 5.0}\n"
     ]
    },
    {
     "name": "stderr",
     "output_type": "stream",
     "text": [
      "07:46:34 INFO:Logged iteration result res.precision=0.5516159313471146 res.recall=0.6797327222615943\n",
      "07:46:35 INFO:Logged iteration result res.precision=0.5516159313471146 res.recall=0.6797327222615943\n",
      "07:46:35 INFO:Finished iteration=1\n",
      "07:46:35 INFO:Logging model artifact (might take a while)\n",
      "07:48:33 INFO:Created fold datasets for fold: 2, stored at paths=[PosixPath('/Users/bockstaller/code/uvl-tore-classifier-bert/src/data/temp/sampling/languid-bug-961/2_data_train.pickle'), PosixPath('/Users/bockstaller/code/uvl-tore-classifier-bert/src/data/temp/sampling/languid-bug-961/2_data_train.csv'), PosixPath('/Users/bockstaller/code/uvl-tore-classifier-bert/src/data/temp/sampling/languid-bug-961/2_data_test.pickle'), PosixPath('/Users/bockstaller/code/uvl-tore-classifier-bert/src/data/temp/sampling/languid-bug-961/2_data_test.csv')]\n",
      "07:48:33 INFO:Starting iteration=2\n",
      "07:48:34 INFO:Found existing run with run_id: 97f6d3072d1644f6a08c33ebc3c165b5 matching the configuration\n",
      "07:48:34 INFO:Downloading run model from mlflow-artifacts:/6/97f6d3072d1644f6a08c33ebc3c165b5/artifacts/2_model\n"
     ]
    },
    {
     "data": {
      "application/vnd.jupyter.widget-view+json": {
       "model_id": "a2408f77a50348c8a414af182f31f448",
       "version_major": 2,
       "version_minor": 0
      },
      "text/plain": [
       "Downloading artifacts:   0%|          | 0/5 [00:00<?, ?it/s]"
      ]
     },
     "metadata": {},
     "output_type": "display_data"
    },
    {
     "name": "stderr",
     "output_type": "stream",
     "text": [
      "07:48:40 INFO:loading projection weights from /Users/bockstaller/gensim-data/glove-twitter-100/glove-twitter-100.gz\n",
      "07:49:17 INFO:KeyedVectors lifecycle event {'msg': 'loaded (1193514, 100) matrix of type float32 from /Users/bockstaller/gensim-data/glove-twitter-100/glove-twitter-100.gz', 'binary': False, 'encoding': 'utf8', 'datetime': '2023-10-14T19:49:17.839321', 'gensim': '4.3.2', 'python': '3.11.4 (main, Jun 20 2023, 19:14:10) [Clang 14.0.3 (clang-1403.0.22.14.1)]', 'platform': 'macOS-14.0-arm64-arm-64bit', 'event': 'load_word2vec_format'}\n",
      "2023-10-14 19:49:50.599879: I tensorflow/core/grappler/optimizers/custom_graph_optimizer_registry.cc:114] Plugin optimizer for device_type GPU is enabled.\n",
      "2023-10-14 19:49:50.714540: I tensorflow/core/grappler/optimizers/custom_graph_optimizer_registry.cc:114] Plugin optimizer for device_type GPU is enabled.\n",
      "2023-10-14 19:49:50.728311: I tensorflow/core/grappler/optimizers/custom_graph_optimizer_registry.cc:114] Plugin optimizer for device_type GPU is enabled.\n",
      "2023-10-14 19:49:51.776950: I tensorflow/core/grappler/optimizers/custom_graph_optimizer_registry.cc:114] Plugin optimizer for device_type GPU is enabled.\n",
      "2023-10-14 19:49:51.788101: I tensorflow/core/grappler/optimizers/custom_graph_optimizer_registry.cc:114] Plugin optimizer for device_type GPU is enabled.\n"
     ]
    },
    {
     "name": "stdout",
     "output_type": "stream",
     "text": [
      "78/78 [==============================] - 5s 31ms/step\n"
     ]
    },
    {
     "data": {
      "application/vnd.jupyter.widget-view+json": {
       "model_id": "696662f3306849e4a720c032c9586534",
       "version_major": 2,
       "version_minor": 0
      },
      "text/plain": [
       "Map:   0%|          | 0/2488 [00:00<?, ? examples/s]"
      ]
     },
     "metadata": {},
     "output_type": "display_data"
    },
    {
     "name": "stderr",
     "output_type": "stream",
     "text": [
      "2023-10-14 19:50:05.531114: I tensorflow/core/grappler/optimizers/custom_graph_optimizer_registry.cc:114] Plugin optimizer for device_type GPU is enabled.\n",
      "2023-10-14 19:50:05.645477: I tensorflow/core/grappler/optimizers/custom_graph_optimizer_registry.cc:114] Plugin optimizer for device_type GPU is enabled.\n",
      "2023-10-14 19:50:05.658126: I tensorflow/core/grappler/optimizers/custom_graph_optimizer_registry.cc:114] Plugin optimizer for device_type GPU is enabled.\n",
      "2023-10-14 19:50:06.681404: I tensorflow/core/grappler/optimizers/custom_graph_optimizer_registry.cc:114] Plugin optimizer for device_type GPU is enabled.\n",
      "2023-10-14 19:50:06.692535: I tensorflow/core/grappler/optimizers/custom_graph_optimizer_registry.cc:114] Plugin optimizer for device_type GPU is enabled.\n"
     ]
    },
    {
     "name": "stdout",
     "output_type": "stream",
     "text": [
      "20/20 [==============================] - 3s 47ms/step\n"
     ]
    },
    {
     "data": {
      "application/vnd.jupyter.widget-view+json": {
       "model_id": "cb823bb76b9646d2867db95189944585",
       "version_major": 2,
       "version_minor": 0
      },
      "text/plain": [
       "Map:   0%|          | 0/622 [00:00<?, ? examples/s]"
      ]
     },
     "metadata": {},
     "output_type": "display_data"
    },
    {
     "name": "stdout",
     "output_type": "stream",
     "text": [
      "Test\n",
      "StagedBertForTokenClassification(\n",
      "  (bert): BertModel(\n",
      "    (embeddings): BertEmbeddings(\n",
      "      (word_embeddings): Embedding(30522, 768, padding_idx=0)\n",
      "      (position_embeddings): Embedding(512, 768)\n",
      "      (token_type_embeddings): Embedding(2, 768)\n",
      "      (LayerNorm): LayerNorm((768,), eps=1e-12, elementwise_affine=True)\n",
      "      (dropout): Dropout(p=0.1, inplace=False)\n",
      "    )\n",
      "    (encoder): BertEncoder(\n",
      "      (layer): ModuleList(\n",
      "        (0-11): 12 x BertLayer(\n",
      "          (attention): BertAttention(\n",
      "            (self): BertSelfAttention(\n",
      "              (query): Linear(in_features=768, out_features=768, bias=True)\n",
      "              (key): Linear(in_features=768, out_features=768, bias=True)\n",
      "              (value): Linear(in_features=768, out_features=768, bias=True)\n",
      "              (dropout): Dropout(p=0.1, inplace=False)\n",
      "            )\n",
      "            (output): BertSelfOutput(\n",
      "              (dense): Linear(in_features=768, out_features=768, bias=True)\n",
      "              (LayerNorm): LayerNorm((768,), eps=1e-12, elementwise_affine=True)\n",
      "              (dropout): Dropout(p=0.1, inplace=False)\n",
      "            )\n",
      "          )\n",
      "          (intermediate): BertIntermediate(\n",
      "            (dense): Linear(in_features=768, out_features=3072, bias=True)\n",
      "            (intermediate_act_fn): GELUActivation()\n",
      "          )\n",
      "          (output): BertOutput(\n",
      "            (dense): Linear(in_features=3072, out_features=768, bias=True)\n",
      "            (LayerNorm): LayerNorm((768,), eps=1e-12, elementwise_affine=True)\n",
      "            (dropout): Dropout(p=0.1, inplace=False)\n",
      "          )\n",
      "        )\n",
      "      )\n",
      "    )\n",
      "  )\n",
      "  (dropout): Dropout(p=0.1, inplace=False)\n",
      "  (out_layers): Sequential(\n",
      "    (0): Linear(in_features=772, out_features=10, bias=True)\n",
      "  )\n",
      ")\n"
     ]
    },
    {
     "name": "stderr",
     "output_type": "stream",
     "text": [
      "07:51:49 INFO:Logged iteration result res.precision=0.478381686220165 res.recall=0.6051276245348267\n"
     ]
    },
    {
     "name": "stdout",
     "output_type": "stream",
     "text": [
      "{'eval_loss': 1.5248245000839233, 'eval_step': 0, 'eval_precision': 0.478381686220165, 'eval_recall': 0.6051276245348267, 'eval_f1': 0.5343414597917235, 'eval_label_count': 10, 'eval_runtime': 6.0761, 'eval_samples_per_second': 102.368, 'eval_steps_per_second': 3.292, 'epoch': 1.0}\n",
      "{'loss': 2.0678, 'learning_rate': 2.0353697749196142e-05, 'epoch': 1.61}\n"
     ]
    },
    {
     "name": "stderr",
     "output_type": "stream",
     "text": [
      "07:53:30 INFO:Logged iteration result res.precision=0.45162393474852597 res.recall=0.5878873367211955\n"
     ]
    },
    {
     "name": "stdout",
     "output_type": "stream",
     "text": [
      "{'eval_loss': 2.0167582035064697, 'eval_step': 2, 'eval_precision': 0.45162393474852597, 'eval_recall': 0.5878873367211955, 'eval_f1': 0.5108246528649429, 'eval_label_count': 10, 'eval_runtime': 5.6499, 'eval_samples_per_second': 110.091, 'eval_steps_per_second': 3.54, 'epoch': 2.0}\n"
     ]
    },
    {
     "name": "stderr",
     "output_type": "stream",
     "text": [
      "07:55:10 INFO:Logged iteration result res.precision=0.5849730769847505 res.recall=0.6065417309626577\n"
     ]
    },
    {
     "name": "stdout",
     "output_type": "stream",
     "text": [
      "{'eval_loss': 1.7002062797546387, 'eval_step': 4, 'eval_precision': 0.5849730769847505, 'eval_recall': 0.6065417309626577, 'eval_f1': 0.5955621874177218, 'eval_label_count': 10, 'eval_runtime': 5.6875, 'eval_samples_per_second': 109.363, 'eval_steps_per_second': 3.516, 'epoch': 3.0}\n",
      "{'loss': 0.8413, 'learning_rate': 1.0707395498392284e-05, 'epoch': 3.22}\n"
     ]
    },
    {
     "name": "stderr",
     "output_type": "stream",
     "text": [
      "07:56:52 INFO:Logged iteration result res.precision=0.5532422303594854 res.recall=0.6205921564252973\n"
     ]
    },
    {
     "name": "stdout",
     "output_type": "stream",
     "text": [
      "{'eval_loss': 1.658295750617981, 'eval_step': 6, 'eval_precision': 0.5532422303594854, 'eval_recall': 0.6205921564252973, 'eval_f1': 0.5849850585903539, 'eval_label_count': 10, 'eval_runtime': 5.783, 'eval_samples_per_second': 107.557, 'eval_steps_per_second': 3.458, 'epoch': 4.0}\n",
      "{'loss': 0.3914, 'learning_rate': 1.0610932475884245e-06, 'epoch': 4.82}\n"
     ]
    },
    {
     "name": "stderr",
     "output_type": "stream",
     "text": [
      "07:58:32 INFO:Logged iteration result res.precision=0.555837644416181 res.recall=0.6481692471851302\n"
     ]
    },
    {
     "name": "stdout",
     "output_type": "stream",
     "text": [
      "{'eval_loss': 1.582521915435791, 'eval_step': 8, 'eval_precision': 0.555837644416181, 'eval_recall': 0.6481692471851302, 'eval_f1': 0.5984631318168442, 'eval_label_count': 10, 'eval_runtime': 5.5503, 'eval_samples_per_second': 112.066, 'eval_steps_per_second': 3.603, 'epoch': 5.0}\n",
      "{'train_runtime': 505.137, 'train_samples_per_second': 24.627, 'train_steps_per_second': 3.078, 'train_loss': 1.070613415218243, 'epoch': 5.0}\n"
     ]
    },
    {
     "name": "stderr",
     "output_type": "stream",
     "text": [
      "07:58:42 INFO:Logged iteration result res.precision=0.555837644416181 res.recall=0.6481692471851302\n",
      "07:58:44 INFO:Logged iteration result res.precision=0.555837644416181 res.recall=0.6481692471851302\n",
      "07:58:44 INFO:Finished iteration=2\n",
      "07:58:44 INFO:Logging model artifact (might take a while)\n",
      "08:00:45 INFO:Created fold datasets for fold: 3, stored at paths=[PosixPath('/Users/bockstaller/code/uvl-tore-classifier-bert/src/data/temp/sampling/languid-bug-961/3_data_train.pickle'), PosixPath('/Users/bockstaller/code/uvl-tore-classifier-bert/src/data/temp/sampling/languid-bug-961/3_data_train.csv'), PosixPath('/Users/bockstaller/code/uvl-tore-classifier-bert/src/data/temp/sampling/languid-bug-961/3_data_test.pickle'), PosixPath('/Users/bockstaller/code/uvl-tore-classifier-bert/src/data/temp/sampling/languid-bug-961/3_data_test.csv')]\n",
      "08:00:45 INFO:Starting iteration=3\n",
      "08:00:45 INFO:Found existing run with run_id: 97f6d3072d1644f6a08c33ebc3c165b5 matching the configuration\n",
      "08:00:45 INFO:Downloading run model from mlflow-artifacts:/6/97f6d3072d1644f6a08c33ebc3c165b5/artifacts/3_model\n"
     ]
    },
    {
     "data": {
      "application/vnd.jupyter.widget-view+json": {
       "model_id": "07ecb2504a6c46708b01f974acf15074",
       "version_major": 2,
       "version_minor": 0
      },
      "text/plain": [
       "Downloading artifacts:   0%|          | 0/5 [00:00<?, ?it/s]"
      ]
     },
     "metadata": {},
     "output_type": "display_data"
    },
    {
     "name": "stderr",
     "output_type": "stream",
     "text": [
      "08:00:54 INFO:loading projection weights from /Users/bockstaller/gensim-data/glove-twitter-100/glove-twitter-100.gz\n",
      "08:01:31 INFO:KeyedVectors lifecycle event {'msg': 'loaded (1193514, 100) matrix of type float32 from /Users/bockstaller/gensim-data/glove-twitter-100/glove-twitter-100.gz', 'binary': False, 'encoding': 'utf8', 'datetime': '2023-10-14T20:01:31.144629', 'gensim': '4.3.2', 'python': '3.11.4 (main, Jun 20 2023, 19:14:10) [Clang 14.0.3 (clang-1403.0.22.14.1)]', 'platform': 'macOS-14.0-arm64-arm-64bit', 'event': 'load_word2vec_format'}\n",
      "2023-10-14 20:02:03.788069: I tensorflow/core/grappler/optimizers/custom_graph_optimizer_registry.cc:114] Plugin optimizer for device_type GPU is enabled.\n",
      "2023-10-14 20:02:03.901323: I tensorflow/core/grappler/optimizers/custom_graph_optimizer_registry.cc:114] Plugin optimizer for device_type GPU is enabled.\n",
      "2023-10-14 20:02:03.913419: I tensorflow/core/grappler/optimizers/custom_graph_optimizer_registry.cc:114] Plugin optimizer for device_type GPU is enabled.\n",
      "2023-10-14 20:02:04.964977: I tensorflow/core/grappler/optimizers/custom_graph_optimizer_registry.cc:114] Plugin optimizer for device_type GPU is enabled.\n",
      "2023-10-14 20:02:04.975734: I tensorflow/core/grappler/optimizers/custom_graph_optimizer_registry.cc:114] Plugin optimizer for device_type GPU is enabled.\n"
     ]
    },
    {
     "name": "stdout",
     "output_type": "stream",
     "text": [
      "78/78 [==============================] - 5s 31ms/step\n"
     ]
    },
    {
     "data": {
      "application/vnd.jupyter.widget-view+json": {
       "model_id": "52ab70d0c0b645aa8267703756ad3dcf",
       "version_major": 2,
       "version_minor": 0
      },
      "text/plain": [
       "Map:   0%|          | 0/2488 [00:00<?, ? examples/s]"
      ]
     },
     "metadata": {},
     "output_type": "display_data"
    },
    {
     "name": "stderr",
     "output_type": "stream",
     "text": [
      "2023-10-14 20:02:19.256809: I tensorflow/core/grappler/optimizers/custom_graph_optimizer_registry.cc:114] Plugin optimizer for device_type GPU is enabled.\n",
      "2023-10-14 20:02:19.368465: I tensorflow/core/grappler/optimizers/custom_graph_optimizer_registry.cc:114] Plugin optimizer for device_type GPU is enabled.\n",
      "2023-10-14 20:02:19.380644: I tensorflow/core/grappler/optimizers/custom_graph_optimizer_registry.cc:114] Plugin optimizer for device_type GPU is enabled.\n",
      "2023-10-14 20:02:20.454600: I tensorflow/core/grappler/optimizers/custom_graph_optimizer_registry.cc:114] Plugin optimizer for device_type GPU is enabled.\n",
      "2023-10-14 20:02:20.465312: I tensorflow/core/grappler/optimizers/custom_graph_optimizer_registry.cc:114] Plugin optimizer for device_type GPU is enabled.\n"
     ]
    },
    {
     "name": "stdout",
     "output_type": "stream",
     "text": [
      "20/20 [==============================] - 4s 52ms/step\n"
     ]
    },
    {
     "data": {
      "application/vnd.jupyter.widget-view+json": {
       "model_id": "33e64bef415446fcae6a234b1e2df48e",
       "version_major": 2,
       "version_minor": 0
      },
      "text/plain": [
       "Map:   0%|          | 0/622 [00:00<?, ? examples/s]"
      ]
     },
     "metadata": {},
     "output_type": "display_data"
    },
    {
     "name": "stdout",
     "output_type": "stream",
     "text": [
      "Test\n",
      "StagedBertForTokenClassification(\n",
      "  (bert): BertModel(\n",
      "    (embeddings): BertEmbeddings(\n",
      "      (word_embeddings): Embedding(30522, 768, padding_idx=0)\n",
      "      (position_embeddings): Embedding(512, 768)\n",
      "      (token_type_embeddings): Embedding(2, 768)\n",
      "      (LayerNorm): LayerNorm((768,), eps=1e-12, elementwise_affine=True)\n",
      "      (dropout): Dropout(p=0.1, inplace=False)\n",
      "    )\n",
      "    (encoder): BertEncoder(\n",
      "      (layer): ModuleList(\n",
      "        (0-11): 12 x BertLayer(\n",
      "          (attention): BertAttention(\n",
      "            (self): BertSelfAttention(\n",
      "              (query): Linear(in_features=768, out_features=768, bias=True)\n",
      "              (key): Linear(in_features=768, out_features=768, bias=True)\n",
      "              (value): Linear(in_features=768, out_features=768, bias=True)\n",
      "              (dropout): Dropout(p=0.1, inplace=False)\n",
      "            )\n",
      "            (output): BertSelfOutput(\n",
      "              (dense): Linear(in_features=768, out_features=768, bias=True)\n",
      "              (LayerNorm): LayerNorm((768,), eps=1e-12, elementwise_affine=True)\n",
      "              (dropout): Dropout(p=0.1, inplace=False)\n",
      "            )\n",
      "          )\n",
      "          (intermediate): BertIntermediate(\n",
      "            (dense): Linear(in_features=768, out_features=3072, bias=True)\n",
      "            (intermediate_act_fn): GELUActivation()\n",
      "          )\n",
      "          (output): BertOutput(\n",
      "            (dense): Linear(in_features=3072, out_features=768, bias=True)\n",
      "            (LayerNorm): LayerNorm((768,), eps=1e-12, elementwise_affine=True)\n",
      "            (dropout): Dropout(p=0.1, inplace=False)\n",
      "          )\n",
      "        )\n",
      "      )\n",
      "    )\n",
      "  )\n",
      "  (dropout): Dropout(p=0.1, inplace=False)\n",
      "  (out_layers): Sequential(\n",
      "    (0): Linear(in_features=772, out_features=10, bias=True)\n",
      "  )\n",
      ")\n"
     ]
    },
    {
     "name": "stderr",
     "output_type": "stream",
     "text": [
      "08:04:04 INFO:Logged iteration result res.precision=0.5192365922655274 res.recall=0.605095062752005\n"
     ]
    },
    {
     "name": "stdout",
     "output_type": "stream",
     "text": [
      "{'eval_loss': 1.5644328594207764, 'eval_step': 0, 'eval_precision': 0.5192365922655274, 'eval_recall': 0.605095062752005, 'eval_f1': 0.5588875790838553, 'eval_label_count': 10, 'eval_runtime': 5.9729, 'eval_samples_per_second': 104.138, 'eval_steps_per_second': 3.348, 'epoch': 1.0}\n",
      "{'loss': 2.1522, 'learning_rate': 2.0353697749196142e-05, 'epoch': 1.61}\n"
     ]
    },
    {
     "name": "stderr",
     "output_type": "stream",
     "text": [
      "08:05:46 INFO:Logged iteration result res.precision=0.5112768628295974 res.recall=0.5870661169380902\n"
     ]
    },
    {
     "name": "stdout",
     "output_type": "stream",
     "text": [
      "{'eval_loss': 1.3513480424880981, 'eval_step': 2, 'eval_precision': 0.5112768628295974, 'eval_recall': 0.5870661169380902, 'eval_f1': 0.5465566368078326, 'eval_label_count': 10, 'eval_runtime': 6.147, 'eval_samples_per_second': 101.187, 'eval_steps_per_second': 3.254, 'epoch': 2.0}\n"
     ]
    },
    {
     "name": "stderr",
     "output_type": "stream",
     "text": [
      "08:07:28 INFO:Logged iteration result res.precision=0.42405063723057185 res.recall=0.6492562543889095\n"
     ]
    },
    {
     "name": "stdout",
     "output_type": "stream",
     "text": [
      "{'eval_loss': 1.220123529434204, 'eval_step': 4, 'eval_precision': 0.42405063723057185, 'eval_recall': 0.6492562543889095, 'eval_f1': 0.5130266665559797, 'eval_label_count': 10, 'eval_runtime': 5.7254, 'eval_samples_per_second': 108.638, 'eval_steps_per_second': 3.493, 'epoch': 3.0}\n",
      "{'loss': 0.847, 'learning_rate': 1.0707395498392284e-05, 'epoch': 3.22}\n"
     ]
    },
    {
     "name": "stderr",
     "output_type": "stream",
     "text": [
      "08:09:10 INFO:Logged iteration result res.precision=0.5356363403883633 res.recall=0.6564167915637812\n"
     ]
    },
    {
     "name": "stdout",
     "output_type": "stream",
     "text": [
      "{'eval_loss': 1.392411708831787, 'eval_step': 6, 'eval_precision': 0.5356363403883633, 'eval_recall': 0.6564167915637812, 'eval_f1': 0.5899077458517343, 'eval_label_count': 10, 'eval_runtime': 6.0167, 'eval_samples_per_second': 103.379, 'eval_steps_per_second': 3.324, 'epoch': 4.0}\n",
      "{'loss': 0.4076, 'learning_rate': 1.0610932475884245e-06, 'epoch': 4.82}\n"
     ]
    },
    {
     "name": "stderr",
     "output_type": "stream",
     "text": [
      "08:10:52 INFO:Logged iteration result res.precision=0.5715268243885961 res.recall=0.68337519929152\n"
     ]
    },
    {
     "name": "stdout",
     "output_type": "stream",
     "text": [
      "{'eval_loss': 1.318129539489746, 'eval_step': 8, 'eval_precision': 0.5715268243885961, 'eval_recall': 0.68337519929152, 'eval_f1': 0.6224665354696487, 'eval_label_count': 10, 'eval_runtime': 5.5754, 'eval_samples_per_second': 111.561, 'eval_steps_per_second': 3.587, 'epoch': 5.0}\n",
      "{'train_runtime': 510.7528, 'train_samples_per_second': 24.356, 'train_steps_per_second': 3.045, 'train_loss': 1.105769887844466, 'epoch': 5.0}\n"
     ]
    },
    {
     "name": "stderr",
     "output_type": "stream",
     "text": [
      "08:11:01 INFO:Logged iteration result res.precision=0.5715268243885961 res.recall=0.68337519929152\n",
      "08:11:03 INFO:Logged iteration result res.precision=0.5715268243885961 res.recall=0.68337519929152\n",
      "08:11:03 INFO:Finished iteration=3\n",
      "08:11:03 INFO:Logging model artifact (might take a while)\n",
      "08:13:02 INFO:Created fold datasets for fold: 4, stored at paths=[PosixPath('/Users/bockstaller/code/uvl-tore-classifier-bert/src/data/temp/sampling/languid-bug-961/4_data_train.pickle'), PosixPath('/Users/bockstaller/code/uvl-tore-classifier-bert/src/data/temp/sampling/languid-bug-961/4_data_train.csv'), PosixPath('/Users/bockstaller/code/uvl-tore-classifier-bert/src/data/temp/sampling/languid-bug-961/4_data_test.pickle'), PosixPath('/Users/bockstaller/code/uvl-tore-classifier-bert/src/data/temp/sampling/languid-bug-961/4_data_test.csv')]\n",
      "08:13:02 INFO:Starting iteration=4\n",
      "08:13:02 INFO:Found existing run with run_id: 97f6d3072d1644f6a08c33ebc3c165b5 matching the configuration\n",
      "08:13:02 INFO:Downloading run model from mlflow-artifacts:/6/97f6d3072d1644f6a08c33ebc3c165b5/artifacts/4_model\n"
     ]
    },
    {
     "data": {
      "application/vnd.jupyter.widget-view+json": {
       "model_id": "97413f73860d42e798a491cf026bf760",
       "version_major": 2,
       "version_minor": 0
      },
      "text/plain": [
       "Downloading artifacts:   0%|          | 0/5 [00:00<?, ?it/s]"
      ]
     },
     "metadata": {},
     "output_type": "display_data"
    },
    {
     "name": "stderr",
     "output_type": "stream",
     "text": [
      "08:13:13 INFO:loading projection weights from /Users/bockstaller/gensim-data/glove-twitter-100/glove-twitter-100.gz\n",
      "08:13:50 INFO:KeyedVectors lifecycle event {'msg': 'loaded (1193514, 100) matrix of type float32 from /Users/bockstaller/gensim-data/glove-twitter-100/glove-twitter-100.gz', 'binary': False, 'encoding': 'utf8', 'datetime': '2023-10-14T20:13:50.285146', 'gensim': '4.3.2', 'python': '3.11.4 (main, Jun 20 2023, 19:14:10) [Clang 14.0.3 (clang-1403.0.22.14.1)]', 'platform': 'macOS-14.0-arm64-arm-64bit', 'event': 'load_word2vec_format'}\n",
      "2023-10-14 20:14:23.103307: I tensorflow/core/grappler/optimizers/custom_graph_optimizer_registry.cc:114] Plugin optimizer for device_type GPU is enabled.\n",
      "2023-10-14 20:14:23.216974: I tensorflow/core/grappler/optimizers/custom_graph_optimizer_registry.cc:114] Plugin optimizer for device_type GPU is enabled.\n",
      "2023-10-14 20:14:23.216990: I tensorflow/core/grappler/optimizers/custom_graph_optimizer_registry.cc:114] Plugin optimizer for device_type GPU is enabled.\n",
      "2023-10-14 20:14:24.296976: I tensorflow/core/grappler/optimizers/custom_graph_optimizer_registry.cc:114] Plugin optimizer for device_type GPU is enabled.\n",
      "2023-10-14 20:14:24.308583: I tensorflow/core/grappler/optimizers/custom_graph_optimizer_registry.cc:114] Plugin optimizer for device_type GPU is enabled.\n"
     ]
    },
    {
     "name": "stdout",
     "output_type": "stream",
     "text": [
      "78/78 [==============================] - 5s 31ms/step\n"
     ]
    },
    {
     "data": {
      "application/vnd.jupyter.widget-view+json": {
       "model_id": "87de88bdac104b0699d70b9860c46ad4",
       "version_major": 2,
       "version_minor": 0
      },
      "text/plain": [
       "Map:   0%|          | 0/2488 [00:00<?, ? examples/s]"
      ]
     },
     "metadata": {},
     "output_type": "display_data"
    },
    {
     "name": "stderr",
     "output_type": "stream",
     "text": [
      "2023-10-14 20:14:38.738138: I tensorflow/core/grappler/optimizers/custom_graph_optimizer_registry.cc:114] Plugin optimizer for device_type GPU is enabled.\n",
      "2023-10-14 20:14:38.853816: I tensorflow/core/grappler/optimizers/custom_graph_optimizer_registry.cc:114] Plugin optimizer for device_type GPU is enabled.\n",
      "2023-10-14 20:14:38.865564: I tensorflow/core/grappler/optimizers/custom_graph_optimizer_registry.cc:114] Plugin optimizer for device_type GPU is enabled.\n",
      "2023-10-14 20:14:39.941176: I tensorflow/core/grappler/optimizers/custom_graph_optimizer_registry.cc:114] Plugin optimizer for device_type GPU is enabled.\n",
      "2023-10-14 20:14:39.952312: I tensorflow/core/grappler/optimizers/custom_graph_optimizer_registry.cc:114] Plugin optimizer for device_type GPU is enabled.\n"
     ]
    },
    {
     "name": "stdout",
     "output_type": "stream",
     "text": [
      "20/20 [==============================] - 4s 49ms/step\n"
     ]
    },
    {
     "data": {
      "application/vnd.jupyter.widget-view+json": {
       "model_id": "8f47d1fbb072406e94363545bcde1173",
       "version_major": 2,
       "version_minor": 0
      },
      "text/plain": [
       "Map:   0%|          | 0/622 [00:00<?, ? examples/s]"
      ]
     },
     "metadata": {},
     "output_type": "display_data"
    },
    {
     "name": "stdout",
     "output_type": "stream",
     "text": [
      "Test\n",
      "StagedBertForTokenClassification(\n",
      "  (bert): BertModel(\n",
      "    (embeddings): BertEmbeddings(\n",
      "      (word_embeddings): Embedding(30522, 768, padding_idx=0)\n",
      "      (position_embeddings): Embedding(512, 768)\n",
      "      (token_type_embeddings): Embedding(2, 768)\n",
      "      (LayerNorm): LayerNorm((768,), eps=1e-12, elementwise_affine=True)\n",
      "      (dropout): Dropout(p=0.1, inplace=False)\n",
      "    )\n",
      "    (encoder): BertEncoder(\n",
      "      (layer): ModuleList(\n",
      "        (0-11): 12 x BertLayer(\n",
      "          (attention): BertAttention(\n",
      "            (self): BertSelfAttention(\n",
      "              (query): Linear(in_features=768, out_features=768, bias=True)\n",
      "              (key): Linear(in_features=768, out_features=768, bias=True)\n",
      "              (value): Linear(in_features=768, out_features=768, bias=True)\n",
      "              (dropout): Dropout(p=0.1, inplace=False)\n",
      "            )\n",
      "            (output): BertSelfOutput(\n",
      "              (dense): Linear(in_features=768, out_features=768, bias=True)\n",
      "              (LayerNorm): LayerNorm((768,), eps=1e-12, elementwise_affine=True)\n",
      "              (dropout): Dropout(p=0.1, inplace=False)\n",
      "            )\n",
      "          )\n",
      "          (intermediate): BertIntermediate(\n",
      "            (dense): Linear(in_features=768, out_features=3072, bias=True)\n",
      "            (intermediate_act_fn): GELUActivation()\n",
      "          )\n",
      "          (output): BertOutput(\n",
      "            (dense): Linear(in_features=3072, out_features=768, bias=True)\n",
      "            (LayerNorm): LayerNorm((768,), eps=1e-12, elementwise_affine=True)\n",
      "            (dropout): Dropout(p=0.1, inplace=False)\n",
      "          )\n",
      "        )\n",
      "      )\n",
      "    )\n",
      "  )\n",
      "  (dropout): Dropout(p=0.1, inplace=False)\n",
      "  (out_layers): Sequential(\n",
      "    (0): Linear(in_features=772, out_features=10, bias=True)\n",
      "  )\n",
      ")\n"
     ]
    },
    {
     "name": "stderr",
     "output_type": "stream",
     "text": [
      "08:16:24 INFO:Logged iteration result res.precision=0.5414234591694052 res.recall=0.5353219967974318\n"
     ]
    },
    {
     "name": "stdout",
     "output_type": "stream",
     "text": [
      "{'eval_loss': 1.952148199081421, 'eval_step': 0, 'eval_precision': 0.5414234591694052, 'eval_recall': 0.5353219967974318, 'eval_f1': 0.5383554407764605, 'eval_label_count': 10, 'eval_runtime': 5.6077, 'eval_samples_per_second': 110.92, 'eval_steps_per_second': 3.567, 'epoch': 1.0}\n",
      "{'loss': 2.0434, 'learning_rate': 2.0353697749196142e-05, 'epoch': 1.61}\n"
     ]
    },
    {
     "name": "stderr",
     "output_type": "stream",
     "text": [
      "08:18:06 INFO:Logged iteration result res.precision=0.44303210071579413 res.recall=0.6142532787914888\n"
     ]
    },
    {
     "name": "stdout",
     "output_type": "stream",
     "text": [
      "{'eval_loss': 1.2978780269622803, 'eval_step': 2, 'eval_precision': 0.44303210071579413, 'eval_recall': 0.6142532787914888, 'eval_f1': 0.514778556006095, 'eval_label_count': 10, 'eval_runtime': 5.6051, 'eval_samples_per_second': 110.969, 'eval_steps_per_second': 3.568, 'epoch': 2.0}\n"
     ]
    },
    {
     "name": "stderr",
     "output_type": "stream",
     "text": [
      "08:19:48 INFO:Logged iteration result res.precision=0.5303217892501318 res.recall=0.6253900091558389\n"
     ]
    },
    {
     "name": "stdout",
     "output_type": "stream",
     "text": [
      "{'eval_loss': 1.5292075872421265, 'eval_step': 4, 'eval_precision': 0.5303217892501318, 'eval_recall': 0.6253900091558389, 'eval_f1': 0.5739457693382103, 'eval_label_count': 10, 'eval_runtime': 6.6882, 'eval_samples_per_second': 92.999, 'eval_steps_per_second': 2.99, 'epoch': 3.0}\n",
      "{'loss': 0.8733, 'learning_rate': 1.0707395498392284e-05, 'epoch': 3.22}\n"
     ]
    },
    {
     "name": "stderr",
     "output_type": "stream",
     "text": [
      "08:21:30 INFO:Logged iteration result res.precision=0.5490345565712393 res.recall=0.6318399587290855\n"
     ]
    },
    {
     "name": "stdout",
     "output_type": "stream",
     "text": [
      "{'eval_loss': 1.5502634048461914, 'eval_step': 6, 'eval_precision': 0.5490345565712393, 'eval_recall': 0.6318399587290855, 'eval_f1': 0.5875340132589585, 'eval_label_count': 10, 'eval_runtime': 6.1962, 'eval_samples_per_second': 100.385, 'eval_steps_per_second': 3.228, 'epoch': 4.0}\n",
      "{'loss': 0.4335, 'learning_rate': 1.0610932475884245e-06, 'epoch': 4.82}\n"
     ]
    },
    {
     "name": "stderr",
     "output_type": "stream",
     "text": [
      "08:23:12 INFO:Logged iteration result res.precision=0.531509451110273 res.recall=0.6502450971683986\n"
     ]
    },
    {
     "name": "stdout",
     "output_type": "stream",
     "text": [
      "{'eval_loss': 1.4704921245574951, 'eval_step': 8, 'eval_precision': 0.531509451110273, 'eval_recall': 0.6502450971683986, 'eval_f1': 0.5849123495002153, 'eval_label_count': 10, 'eval_runtime': 6.2953, 'eval_samples_per_second': 98.805, 'eval_steps_per_second': 3.177, 'epoch': 5.0}\n",
      "{'train_runtime': 510.4063, 'train_samples_per_second': 24.373, 'train_steps_per_second': 3.047, 'train_loss': 1.0884260048820276, 'epoch': 5.0}\n"
     ]
    },
    {
     "name": "stderr",
     "output_type": "stream",
     "text": [
      "08:23:23 INFO:Logged iteration result res.precision=0.531509451110273 res.recall=0.6502450971683986\n",
      "08:23:24 INFO:Logged iteration result res.precision=0.531509451110273 res.recall=0.6502450971683986\n",
      "08:23:24 INFO:Finished iteration=4\n",
      "08:23:24 INFO:Logging model artifact (might take a while)\n",
      "08:25:20 INFO:Breaking early after iteration=4 of 5 folds\n",
      "08:25:29 INFO:Logged experiment result res.mean_precision=0.5521306671186457 res.mean_recall=0.6695003356234419\n",
      "08:25:30 INFO:Left mlflow context\n"
     ]
    },
    {
     "name": "stdout",
     "output_type": "stream",
     "text": [
      "b85cc01c9dce4c9fa2072f0c4b2bf6fa\n"
     ]
    },
    {
     "data": {
      "application/vnd.jupyter.widget-view+json": {
       "model_id": "a1ea229f6611491a934da938e4f38185",
       "version_major": 2,
       "version_minor": 0
      },
      "text/plain": [
       "Downloading artifacts:   0%|          | 0/7 [00:00<?, ?it/s]"
      ]
     },
     "metadata": {},
     "output_type": "display_data"
    },
    {
     "data": {
      "text/plain": [
       "PosixPath('src/service/models/bert_2_bilstm')"
      ]
     },
     "execution_count": 30,
     "metadata": {},
     "output_type": "execute_result"
    }
   ],
   "source": [
    "from tooling.observability import get_run_id\n",
    "from tooling.config import DualModelStagedBERTConfig, StagedBERT\n",
    "\n",
    "from copy import deepcopy\n",
    "\n",
    "bilstm_config = BiLSTM(\n",
    "    batch_size=16,\n",
    "    learning_rate=0.006,\n",
    "    number_epochs=5,\n",
    "    weighted_classes=False,\n",
    "    sentence_length=106,\n",
    ")\n",
    "\n",
    "\n",
    "bert_2_bilstm_experiment_config = deepcopy(base_experiment_config)\n",
    "bert_2_bilstm_experiment_config.name = \"Production\"\n",
    "\n",
    "bert_2_bilstm_config = StagedBERT(\n",
    "    max_len=123,\n",
    "    layers=[],\n",
    "    learning_rate_bert=3e-05,\n",
    "    learning_rate_classifier=0.16,\n",
    "    number_epochs=5,\n",
    "    train_batch_size=8,\n",
    "    weight_decay=0.1,\n",
    "    weighted_classes=True,\n",
    ")\n",
    "\n",
    "bert_2_bilstm_cfg = OmegaConf.structured(\n",
    "    DualModelStagedBERTConfig(\n",
    "        bert=bert_2_bilstm_config,\n",
    "        experiment=bert_2_bilstm_experiment_config,\n",
    "        transformation=label_transformation_config,\n",
    "        first_model_bilstm=bilstm_cfg,\n",
    "    )\n",
    ")\n",
    "bert_2_bilstm_cfg.first_model_bilstm.bilstm.sentence_length = 106\n",
    "\n",
    "\n",
    "if run_experiments:\n",
    "    from experiments.dual_model_staged_bert import dual_stage_bert\n",
    "\n",
    "    dual_stage_bert(OmegaConf.create(bert_2_bilstm_cfg))\n",
    "\n",
    "bert_2_bilstm_run_id = get_run_id(bert_2_bilstm_cfg, pin_commit=pin_commits)\n",
    "\n",
    "print(bert_2_bilstm_run_id)\n",
    "\n",
    "bert_2_bilstm_run = mlflow.get_run(bert_2_bilstm_run_id)\n",
    "mlflow.artifacts.download_artifacts(\n",
    "    f\"{bert_2_bilstm_run.info.artifact_uri}/0_model\",\n",
    "    dst_path=Path(\"./src/service/models/\"),\n",
    ")\n",
    "try:\n",
    "    shutil.rmtree(Path(\"./src/service/models/bert_2_bilstm\"))\n",
    "except FileNotFoundError:\n",
    "    pass\n",
    "Path(\"./src/service/models/0_model\").rename(\n",
    "    \"./src/service/models/bert_2_bilstm\"\n",
    ")"
   ]
  },
  {
   "cell_type": "markdown",
   "metadata": {},
   "source": [
    "## Train BERT E2E Model\n"
   ]
  },
  {
   "cell_type": "code",
   "execution_count": 16,
   "metadata": {
    "ExecuteTime": {
     "end_time": "2024-01-26T16:57:26.164192800Z",
     "start_time": "2024-01-26T14:55:24.486984600Z"
    }
   },
   "outputs": [
    {
     "name": "stderr",
     "output_type": "stream",
     "text": [
      "03:55:25 INFO:\n",
      "bert:\n",
      "  model: bert-base-uncased\n",
      "  type: BERT\n",
      "  max_len: 123\n",
      "  train_batch_size: 8\n",
      "  validation_batch_size: 32\n",
      "  number_epochs: 8\n",
      "  learning_rate_bert: 6.0e-05\n",
      "  learning_rate_classifier: 0.1\n",
      "  weight_decay: 0.01\n",
      "  weighted_classes: false\n",
      "experiment:\n",
      "  name: Production\n",
      "  description: ''\n",
      "  random_state: 125\n",
      "  folds: 5\n",
      "  iterations: 1\n",
      "  average: macro\n",
      "  dataset: PKTrainFTest\n",
      "  lower_case: true\n",
      "  force: false\n",
      "  pin_commit: false\n",
      "transformation:\n",
      "  description: None\n",
      "  type: Full\n",
      "  task: Task\n",
      "  goals: null\n",
      "  domain_data: Domain_Data\n",
      "  activity: Activity\n",
      "  stakeholder: Stakeholder\n",
      "  system_function: System_Function\n",
      "  interaction: Interaction\n",
      "  interaction_data: Interaction_Data\n",
      "  workspace: Workspace\n",
      "  software: System_Level\n",
      "  internal_action: System_Level\n",
      "  internal_data: System_Level\n",
      "  system_level: System_Level\n",
      "\n",
      "03:55:27 INFO:New experiment. Running\n",
      "03:55:27 INFO:Entering mlflow context\n",
      "03:55:27 INFO:Importing dataset: prolific from E:\\BERT\\uvl-tore-classifier-bert\\src\\data\\datasets\\prolific\\TORE_Coded_Answers_1_33.json\n",
      "03:55:28 INFO:Importing dataset: prolific from E:\\BERT\\uvl-tore-classifier-bert\\src\\data\\datasets\\prolific\\TORE_Coded_Answers_34_66.json\n",
      "03:55:29 INFO:Importing dataset: prolific from E:\\BERT\\uvl-tore-classifier-bert\\src\\data\\datasets\\prolific\\TORE_Coded_Answers_67_100.json\n",
      "03:55:29 INFO:Importing dataset: komoot from E:\\BERT\\uvl-tore-classifier-bert\\src\\data\\datasets\\app\\Komoot_AppReview.json\n",
      "03:55:30 INFO:Importing dataset: anno from E:\\BERT\\uvl-tore-classifier-bert\\src\\data\\datasets\\forum\\anno_test.json\n",
      "03:55:30 INFO:Importing dataset: anno from E:\\BERT\\uvl-tore-classifier-bert\\src\\data\\datasets\\forum\\anno_train.json\n",
      "03:55:32 INFO:Dataset Labels: transformed_dataset['labels']=['System_Function', 'Task', 'Interaction_Data', 'Interaction', 'System_Level', 'Workspace', 'Domain_Data', '0', 'Stakeholder', 'Activity']\n",
      "03:55:32 INFO:Class weights: {'0': 1.0, 'Task': 1.0, 'Domain_Data': 1.0, 'Activity': 1.0, 'Stakeholder': 1.0, 'System_Function': 1.0, 'Interaction': 1.0, 'Interaction_Data': 1.0, 'Workspace': 1.0, 'System_Level': 1.0}\n",
      "03:55:32 INFO:Configured maximal token sequence length: max_len = 123\n"
     ]
    },
    {
     "name": "stdout",
     "output_type": "stream",
     "text": [
      "prolific\n",
      "komoot\n",
      "anno\n",
      "                                sentence_id sentence_idx   string  \\\n",
      "0      f162658f-bc5a-11ee-a8ec-34e12df9aeb0            0     this   \n",
      "1      f162658f-bc5a-11ee-a8ec-34e12df9aeb0            1      app   \n",
      "2      f162658f-bc5a-11ee-a8ec-34e12df9aeb0            2       is   \n",
      "3      f162658f-bc5a-11ee-a8ec-34e12df9aeb0            3      for   \n",
      "4      f162658f-bc5a-11ee-a8ec-34e12df9aeb0            4  mapping   \n",
      "...                                     ...          ...      ...   \n",
      "41481  f2c63b47-bc5a-11ee-b11d-34e12df9aeb0           14    found   \n",
      "41482  f2c63b47-bc5a-11ee-b11d-34e12df9aeb0           15       it   \n",
      "41483  f2c63b47-bc5a-11ee-b11d-34e12df9aeb0           16        .   \n",
      "41484  f2c63b48-bc5a-11ee-b461-34e12df9aeb0            0    grrrr   \n",
      "41485  f2c63b48-bc5a-11ee-b461-34e12df9aeb0            1    .....   \n",
      "\n",
      "            tore_label  \n",
      "0                    0  \n",
      "1         System_Level  \n",
      "2                    0  \n",
      "3                    0  \n",
      "4      System_Function  \n",
      "...                ...  \n",
      "41481                0  \n",
      "41482                0  \n",
      "41483                0  \n",
      "41484                0  \n",
      "41485                0  \n",
      "\n",
      "[41486 rows x 4 columns]\n"
     ]
    },
    {
     "name": "stderr",
     "output_type": "stream",
     "text": [
      "03:56:45 INFO:Created datasets for foldless run\n",
      "03:56:45 INFO:Starting iteration=1\n"
     ]
    },
    {
     "data": {
      "text/plain": "Map:   0%|          | 0/2245 [00:00<?, ? examples/s]",
      "application/vnd.jupyter.widget-view+json": {
       "version_major": 2,
       "version_minor": 0,
       "model_id": "c42849c68be44905b956d1da17d0c0e6"
      }
     },
     "metadata": {},
     "output_type": "display_data"
    },
    {
     "data": {
      "text/plain": "Map:   0%|          | 0/865 [00:00<?, ? examples/s]",
      "application/vnd.jupyter.widget-view+json": {
       "version_major": 2,
       "version_minor": 0,
       "model_id": "d2c3527bd57c4aae97be51b1ed1aa187"
      }
     },
     "metadata": {},
     "output_type": "display_data"
    },
    {
     "name": "stderr",
     "output_type": "stream",
     "text": [
      "04:09:38 INFO:Logged iteration result res.precision=0.39160886948842555 res.recall=0.3809972761762232\n"
     ]
    },
    {
     "name": "stdout",
     "output_type": "stream",
     "text": [
      "{'eval_loss': 0.9507737755775452, 'eval_step': 0, 'eval_precision': 0.39160886948842555, 'eval_recall': 0.3809972761762232, 'eval_f1': 0.3862301987597744, 'eval_label_count': 10, 'eval_runtime': 83.0546, 'eval_samples_per_second': 10.415, 'eval_steps_per_second': 0.337, 'epoch': 1.0}\n",
      "{'loss': 0.6692, 'learning_rate': 4.665480427046263e-05, 'epoch': 1.78}\n"
     ]
    },
    {
     "name": "stderr",
     "output_type": "stream",
     "text": [
      "04:22:32 INFO:Logged iteration result res.precision=0.3751079003283736 res.recall=0.457578024298146\n"
     ]
    },
    {
     "name": "stdout",
     "output_type": "stream",
     "text": [
      "{'eval_loss': 0.8417867422103882, 'eval_step': 2, 'eval_precision': 0.3751079003283736, 'eval_recall': 0.457578024298146, 'eval_f1': 0.4122589967108388, 'eval_label_count': 10, 'eval_runtime': 77.8007, 'eval_samples_per_second': 11.118, 'eval_steps_per_second': 0.36, 'epoch': 2.0}\n"
     ]
    },
    {
     "name": "stderr",
     "output_type": "stream",
     "text": [
      "04:35:51 INFO:Logged iteration result res.precision=0.4162342442987087 res.recall=0.4472472476415962\n"
     ]
    },
    {
     "name": "stdout",
     "output_type": "stream",
     "text": [
      "{'eval_loss': 0.7499973177909851, 'eval_step': 4, 'eval_precision': 0.4162342442987087, 'eval_recall': 0.4472472476415962, 'eval_f1': 0.43118381082717405, 'eval_label_count': 10, 'eval_runtime': 83.722, 'eval_samples_per_second': 10.332, 'eval_steps_per_second': 0.334, 'epoch': 3.0}\n",
      "{'loss': 0.2789, 'learning_rate': 3.330960854092527e-05, 'epoch': 3.56}\n"
     ]
    },
    {
     "name": "stderr",
     "output_type": "stream",
     "text": [
      "04:48:42 INFO:Logged iteration result res.precision=0.3827531703657433 res.recall=0.4816093462276381\n"
     ]
    },
    {
     "name": "stdout",
     "output_type": "stream",
     "text": [
      "{'eval_loss': 0.9692743420600891, 'eval_step': 6, 'eval_precision': 0.3827531703657433, 'eval_recall': 0.4816093462276381, 'eval_f1': 0.4265282230722149, 'eval_label_count': 10, 'eval_runtime': 71.5905, 'eval_samples_per_second': 12.083, 'eval_steps_per_second': 0.391, 'epoch': 4.0}\n"
     ]
    },
    {
     "name": "stderr",
     "output_type": "stream",
     "text": [
      "05:01:36 INFO:Logged iteration result res.precision=0.37403065581916867 res.recall=0.4514320276513641\n"
     ]
    },
    {
     "name": "stdout",
     "output_type": "stream",
     "text": [
      "{'eval_loss': 1.1748900413513184, 'eval_step': 8, 'eval_precision': 0.37403065581916867, 'eval_recall': 0.4514320276513641, 'eval_f1': 0.4091024845613009, 'eval_label_count': 10, 'eval_runtime': 77.0812, 'eval_samples_per_second': 11.222, 'eval_steps_per_second': 0.363, 'epoch': 5.0}\n",
      "{'loss': 0.1, 'learning_rate': 1.99644128113879e-05, 'epoch': 5.34}\n"
     ]
    },
    {
     "name": "stderr",
     "output_type": "stream",
     "text": [
      "05:29:45 INFO:Logged iteration result res.precision=0.36771948018932943 res.recall=0.4488506868540549\n"
     ]
    },
    {
     "name": "stdout",
     "output_type": "stream",
     "text": [
      "{'eval_loss': 1.5816559791564941, 'eval_step': 10, 'eval_precision': 0.36771948018932943, 'eval_recall': 0.4488506868540549, 'eval_f1': 0.40425464439929115, 'eval_label_count': 10, 'eval_runtime': 106.0653, 'eval_samples_per_second': 8.155, 'eval_steps_per_second': 0.264, 'epoch': 6.0}\n"
     ]
    },
    {
     "name": "stderr",
     "output_type": "stream",
     "text": [
      "05:42:47 INFO:Logged iteration result res.precision=0.3804349774912863 res.recall=0.45406257954092644\n"
     ]
    },
    {
     "name": "stdout",
     "output_type": "stream",
     "text": [
      "{'eval_loss': 1.7807481288909912, 'eval_step': 12, 'eval_precision': 0.3804349774912863, 'eval_recall': 0.45406257954092644, 'eval_f1': 0.4140007020311018, 'eval_label_count': 10, 'eval_runtime': 69.1592, 'eval_samples_per_second': 12.507, 'eval_steps_per_second': 0.405, 'epoch': 7.0}\n",
      "{'loss': 0.0332, 'learning_rate': 6.619217081850534e-06, 'epoch': 7.12}\n"
     ]
    },
    {
     "name": "stderr",
     "output_type": "stream",
     "text": [
      "05:54:54 INFO:Logged iteration result res.precision=0.3646061997385896 res.recall=0.45250910303452196\n"
     ]
    },
    {
     "name": "stdout",
     "output_type": "stream",
     "text": [
      "{'eval_loss': 1.9154365062713623, 'eval_step': 14, 'eval_precision': 0.3646061997385896, 'eval_recall': 0.45250910303452196, 'eval_f1': 0.4038294812117772, 'eval_label_count': 10, 'eval_runtime': 72.7276, 'eval_samples_per_second': 11.894, 'eval_steps_per_second': 0.385, 'epoch': 8.0}\n",
      "{'train_runtime': 7091.4378, 'train_samples_per_second': 2.533, 'train_steps_per_second': 0.317, 'train_loss': 0.2415243539945935, 'epoch': 8.0}\n"
     ]
    },
    {
     "name": "stderr",
     "output_type": "stream",
     "text": [
      "05:56:18 INFO:Logged iteration result res.precision=0.3646061997385896 res.recall=0.45250910303452196\n",
      "05:56:20 INFO:Logged iteration result res.precision=0.3646061997385896 res.recall=0.45250910303452196\n",
      "05:56:20 INFO:Finished iteration=1\n",
      "05:56:20 INFO:Logging model artifact (might take a while)\n",
      "05:57:24 ERROR:API request to https://mlflow-uvl.ifi.uni-heidelberg.de/api/2.0/mlflow-artifacts/artifacts/6/4d6689f4de2b4b8597d990f413242c49/artifacts/confusion_matrix.png failed with exception HTTPSConnectionPool(host='mlflow-uvl.ifi.uni-heidelberg.de', port=443): Max retries exceeded with url: /api/2.0/mlflow-artifacts/artifacts/6/4d6689f4de2b4b8597d990f413242c49/artifacts/confusion_matrix.png (Caused by ResponseError('too many 500 error responses'))\n"
     ]
    },
    {
     "ename": "MlflowException",
     "evalue": "API request to https://mlflow-uvl.ifi.uni-heidelberg.de/api/2.0/mlflow-artifacts/artifacts/6/4d6689f4de2b4b8597d990f413242c49/artifacts/confusion_matrix.png failed with exception HTTPSConnectionPool(host='mlflow-uvl.ifi.uni-heidelberg.de', port=443): Max retries exceeded with url: /api/2.0/mlflow-artifacts/artifacts/6/4d6689f4de2b4b8597d990f413242c49/artifacts/confusion_matrix.png (Caused by ResponseError('too many 500 error responses'))",
     "output_type": "error",
     "traceback": [
      "\u001B[1;31m---------------------------------------------------------------------------\u001B[0m",
      "\u001B[1;31mResponseError\u001B[0m                             Traceback (most recent call last)",
      "\u001B[1;31mResponseError\u001B[0m: too many 500 error responses",
      "\nThe above exception was the direct cause of the following exception:\n",
      "\u001B[1;31mMaxRetryError\u001B[0m                             Traceback (most recent call last)",
      "File \u001B[1;32mE:\\BERT\\uvl-tore-classifier-bert\\venv\\Lib\\site-packages\\requests\\adapters.py:486\u001B[0m, in \u001B[0;36mHTTPAdapter.send\u001B[1;34m(self, request, stream, timeout, verify, cert, proxies)\u001B[0m\n\u001B[0;32m    485\u001B[0m \u001B[38;5;28;01mtry\u001B[39;00m:\n\u001B[1;32m--> 486\u001B[0m     resp \u001B[38;5;241m=\u001B[39m \u001B[43mconn\u001B[49m\u001B[38;5;241;43m.\u001B[39;49m\u001B[43murlopen\u001B[49m\u001B[43m(\u001B[49m\n\u001B[0;32m    487\u001B[0m \u001B[43m        \u001B[49m\u001B[43mmethod\u001B[49m\u001B[38;5;241;43m=\u001B[39;49m\u001B[43mrequest\u001B[49m\u001B[38;5;241;43m.\u001B[39;49m\u001B[43mmethod\u001B[49m\u001B[43m,\u001B[49m\n\u001B[0;32m    488\u001B[0m \u001B[43m        \u001B[49m\u001B[43murl\u001B[49m\u001B[38;5;241;43m=\u001B[39;49m\u001B[43murl\u001B[49m\u001B[43m,\u001B[49m\n\u001B[0;32m    489\u001B[0m \u001B[43m        \u001B[49m\u001B[43mbody\u001B[49m\u001B[38;5;241;43m=\u001B[39;49m\u001B[43mrequest\u001B[49m\u001B[38;5;241;43m.\u001B[39;49m\u001B[43mbody\u001B[49m\u001B[43m,\u001B[49m\n\u001B[0;32m    490\u001B[0m \u001B[43m        \u001B[49m\u001B[43mheaders\u001B[49m\u001B[38;5;241;43m=\u001B[39;49m\u001B[43mrequest\u001B[49m\u001B[38;5;241;43m.\u001B[39;49m\u001B[43mheaders\u001B[49m\u001B[43m,\u001B[49m\n\u001B[0;32m    491\u001B[0m \u001B[43m        \u001B[49m\u001B[43mredirect\u001B[49m\u001B[38;5;241;43m=\u001B[39;49m\u001B[38;5;28;43;01mFalse\u001B[39;49;00m\u001B[43m,\u001B[49m\n\u001B[0;32m    492\u001B[0m \u001B[43m        \u001B[49m\u001B[43massert_same_host\u001B[49m\u001B[38;5;241;43m=\u001B[39;49m\u001B[38;5;28;43;01mFalse\u001B[39;49;00m\u001B[43m,\u001B[49m\n\u001B[0;32m    493\u001B[0m \u001B[43m        \u001B[49m\u001B[43mpreload_content\u001B[49m\u001B[38;5;241;43m=\u001B[39;49m\u001B[38;5;28;43;01mFalse\u001B[39;49;00m\u001B[43m,\u001B[49m\n\u001B[0;32m    494\u001B[0m \u001B[43m        \u001B[49m\u001B[43mdecode_content\u001B[49m\u001B[38;5;241;43m=\u001B[39;49m\u001B[38;5;28;43;01mFalse\u001B[39;49;00m\u001B[43m,\u001B[49m\n\u001B[0;32m    495\u001B[0m \u001B[43m        \u001B[49m\u001B[43mretries\u001B[49m\u001B[38;5;241;43m=\u001B[39;49m\u001B[38;5;28;43mself\u001B[39;49m\u001B[38;5;241;43m.\u001B[39;49m\u001B[43mmax_retries\u001B[49m\u001B[43m,\u001B[49m\n\u001B[0;32m    496\u001B[0m \u001B[43m        \u001B[49m\u001B[43mtimeout\u001B[49m\u001B[38;5;241;43m=\u001B[39;49m\u001B[43mtimeout\u001B[49m\u001B[43m,\u001B[49m\n\u001B[0;32m    497\u001B[0m \u001B[43m        \u001B[49m\u001B[43mchunked\u001B[49m\u001B[38;5;241;43m=\u001B[39;49m\u001B[43mchunked\u001B[49m\u001B[43m,\u001B[49m\n\u001B[0;32m    498\u001B[0m \u001B[43m    \u001B[49m\u001B[43m)\u001B[49m\n\u001B[0;32m    500\u001B[0m \u001B[38;5;28;01mexcept\u001B[39;00m (ProtocolError, \u001B[38;5;167;01mOSError\u001B[39;00m) \u001B[38;5;28;01mas\u001B[39;00m err:\n",
      "File \u001B[1;32mE:\\BERT\\uvl-tore-classifier-bert\\venv\\Lib\\site-packages\\urllib3\\connectionpool.py:946\u001B[0m, in \u001B[0;36mHTTPConnectionPool.urlopen\u001B[1;34m(self, method, url, body, headers, retries, redirect, assert_same_host, timeout, pool_timeout, release_conn, chunked, body_pos, preload_content, decode_content, **response_kw)\u001B[0m\n\u001B[0;32m    945\u001B[0m     log\u001B[38;5;241m.\u001B[39mdebug(\u001B[38;5;124m\"\u001B[39m\u001B[38;5;124mRetry: \u001B[39m\u001B[38;5;132;01m%s\u001B[39;00m\u001B[38;5;124m\"\u001B[39m, url)\n\u001B[1;32m--> 946\u001B[0m     \u001B[38;5;28;01mreturn\u001B[39;00m \u001B[38;5;28;43mself\u001B[39;49m\u001B[38;5;241;43m.\u001B[39;49m\u001B[43murlopen\u001B[49m\u001B[43m(\u001B[49m\n\u001B[0;32m    947\u001B[0m \u001B[43m        \u001B[49m\u001B[43mmethod\u001B[49m\u001B[43m,\u001B[49m\n\u001B[0;32m    948\u001B[0m \u001B[43m        \u001B[49m\u001B[43murl\u001B[49m\u001B[43m,\u001B[49m\n\u001B[0;32m    949\u001B[0m \u001B[43m        \u001B[49m\u001B[43mbody\u001B[49m\u001B[43m,\u001B[49m\n\u001B[0;32m    950\u001B[0m \u001B[43m        \u001B[49m\u001B[43mheaders\u001B[49m\u001B[43m,\u001B[49m\n\u001B[0;32m    951\u001B[0m \u001B[43m        \u001B[49m\u001B[43mretries\u001B[49m\u001B[38;5;241;43m=\u001B[39;49m\u001B[43mretries\u001B[49m\u001B[43m,\u001B[49m\n\u001B[0;32m    952\u001B[0m \u001B[43m        \u001B[49m\u001B[43mredirect\u001B[49m\u001B[38;5;241;43m=\u001B[39;49m\u001B[43mredirect\u001B[49m\u001B[43m,\u001B[49m\n\u001B[0;32m    953\u001B[0m \u001B[43m        \u001B[49m\u001B[43massert_same_host\u001B[49m\u001B[38;5;241;43m=\u001B[39;49m\u001B[43massert_same_host\u001B[49m\u001B[43m,\u001B[49m\n\u001B[0;32m    954\u001B[0m \u001B[43m        \u001B[49m\u001B[43mtimeout\u001B[49m\u001B[38;5;241;43m=\u001B[39;49m\u001B[43mtimeout\u001B[49m\u001B[43m,\u001B[49m\n\u001B[0;32m    955\u001B[0m \u001B[43m        \u001B[49m\u001B[43mpool_timeout\u001B[49m\u001B[38;5;241;43m=\u001B[39;49m\u001B[43mpool_timeout\u001B[49m\u001B[43m,\u001B[49m\n\u001B[0;32m    956\u001B[0m \u001B[43m        \u001B[49m\u001B[43mrelease_conn\u001B[49m\u001B[38;5;241;43m=\u001B[39;49m\u001B[43mrelease_conn\u001B[49m\u001B[43m,\u001B[49m\n\u001B[0;32m    957\u001B[0m \u001B[43m        \u001B[49m\u001B[43mchunked\u001B[49m\u001B[38;5;241;43m=\u001B[39;49m\u001B[43mchunked\u001B[49m\u001B[43m,\u001B[49m\n\u001B[0;32m    958\u001B[0m \u001B[43m        \u001B[49m\u001B[43mbody_pos\u001B[49m\u001B[38;5;241;43m=\u001B[39;49m\u001B[43mbody_pos\u001B[49m\u001B[43m,\u001B[49m\n\u001B[0;32m    959\u001B[0m \u001B[43m        \u001B[49m\u001B[43mpreload_content\u001B[49m\u001B[38;5;241;43m=\u001B[39;49m\u001B[43mpreload_content\u001B[49m\u001B[43m,\u001B[49m\n\u001B[0;32m    960\u001B[0m \u001B[43m        \u001B[49m\u001B[43mdecode_content\u001B[49m\u001B[38;5;241;43m=\u001B[39;49m\u001B[43mdecode_content\u001B[49m\u001B[43m,\u001B[49m\n\u001B[0;32m    961\u001B[0m \u001B[43m        \u001B[49m\u001B[38;5;241;43m*\u001B[39;49m\u001B[38;5;241;43m*\u001B[39;49m\u001B[43mresponse_kw\u001B[49m\u001B[43m,\u001B[49m\n\u001B[0;32m    962\u001B[0m \u001B[43m    \u001B[49m\u001B[43m)\u001B[49m\n\u001B[0;32m    964\u001B[0m \u001B[38;5;28;01mreturn\u001B[39;00m response\n",
      "File \u001B[1;32mE:\\BERT\\uvl-tore-classifier-bert\\venv\\Lib\\site-packages\\urllib3\\connectionpool.py:946\u001B[0m, in \u001B[0;36mHTTPConnectionPool.urlopen\u001B[1;34m(self, method, url, body, headers, retries, redirect, assert_same_host, timeout, pool_timeout, release_conn, chunked, body_pos, preload_content, decode_content, **response_kw)\u001B[0m\n\u001B[0;32m    945\u001B[0m     log\u001B[38;5;241m.\u001B[39mdebug(\u001B[38;5;124m\"\u001B[39m\u001B[38;5;124mRetry: \u001B[39m\u001B[38;5;132;01m%s\u001B[39;00m\u001B[38;5;124m\"\u001B[39m, url)\n\u001B[1;32m--> 946\u001B[0m     \u001B[38;5;28;01mreturn\u001B[39;00m \u001B[38;5;28;43mself\u001B[39;49m\u001B[38;5;241;43m.\u001B[39;49m\u001B[43murlopen\u001B[49m\u001B[43m(\u001B[49m\n\u001B[0;32m    947\u001B[0m \u001B[43m        \u001B[49m\u001B[43mmethod\u001B[49m\u001B[43m,\u001B[49m\n\u001B[0;32m    948\u001B[0m \u001B[43m        \u001B[49m\u001B[43murl\u001B[49m\u001B[43m,\u001B[49m\n\u001B[0;32m    949\u001B[0m \u001B[43m        \u001B[49m\u001B[43mbody\u001B[49m\u001B[43m,\u001B[49m\n\u001B[0;32m    950\u001B[0m \u001B[43m        \u001B[49m\u001B[43mheaders\u001B[49m\u001B[43m,\u001B[49m\n\u001B[0;32m    951\u001B[0m \u001B[43m        \u001B[49m\u001B[43mretries\u001B[49m\u001B[38;5;241;43m=\u001B[39;49m\u001B[43mretries\u001B[49m\u001B[43m,\u001B[49m\n\u001B[0;32m    952\u001B[0m \u001B[43m        \u001B[49m\u001B[43mredirect\u001B[49m\u001B[38;5;241;43m=\u001B[39;49m\u001B[43mredirect\u001B[49m\u001B[43m,\u001B[49m\n\u001B[0;32m    953\u001B[0m \u001B[43m        \u001B[49m\u001B[43massert_same_host\u001B[49m\u001B[38;5;241;43m=\u001B[39;49m\u001B[43massert_same_host\u001B[49m\u001B[43m,\u001B[49m\n\u001B[0;32m    954\u001B[0m \u001B[43m        \u001B[49m\u001B[43mtimeout\u001B[49m\u001B[38;5;241;43m=\u001B[39;49m\u001B[43mtimeout\u001B[49m\u001B[43m,\u001B[49m\n\u001B[0;32m    955\u001B[0m \u001B[43m        \u001B[49m\u001B[43mpool_timeout\u001B[49m\u001B[38;5;241;43m=\u001B[39;49m\u001B[43mpool_timeout\u001B[49m\u001B[43m,\u001B[49m\n\u001B[0;32m    956\u001B[0m \u001B[43m        \u001B[49m\u001B[43mrelease_conn\u001B[49m\u001B[38;5;241;43m=\u001B[39;49m\u001B[43mrelease_conn\u001B[49m\u001B[43m,\u001B[49m\n\u001B[0;32m    957\u001B[0m \u001B[43m        \u001B[49m\u001B[43mchunked\u001B[49m\u001B[38;5;241;43m=\u001B[39;49m\u001B[43mchunked\u001B[49m\u001B[43m,\u001B[49m\n\u001B[0;32m    958\u001B[0m \u001B[43m        \u001B[49m\u001B[43mbody_pos\u001B[49m\u001B[38;5;241;43m=\u001B[39;49m\u001B[43mbody_pos\u001B[49m\u001B[43m,\u001B[49m\n\u001B[0;32m    959\u001B[0m \u001B[43m        \u001B[49m\u001B[43mpreload_content\u001B[49m\u001B[38;5;241;43m=\u001B[39;49m\u001B[43mpreload_content\u001B[49m\u001B[43m,\u001B[49m\n\u001B[0;32m    960\u001B[0m \u001B[43m        \u001B[49m\u001B[43mdecode_content\u001B[49m\u001B[38;5;241;43m=\u001B[39;49m\u001B[43mdecode_content\u001B[49m\u001B[43m,\u001B[49m\n\u001B[0;32m    961\u001B[0m \u001B[43m        \u001B[49m\u001B[38;5;241;43m*\u001B[39;49m\u001B[38;5;241;43m*\u001B[39;49m\u001B[43mresponse_kw\u001B[49m\u001B[43m,\u001B[49m\n\u001B[0;32m    962\u001B[0m \u001B[43m    \u001B[49m\u001B[43m)\u001B[49m\n\u001B[0;32m    964\u001B[0m \u001B[38;5;28;01mreturn\u001B[39;00m response\n",
      "    \u001B[1;31m[... skipping similar frames: HTTPConnectionPool.urlopen at line 946 (2 times)]\u001B[0m\n",
      "File \u001B[1;32mE:\\BERT\\uvl-tore-classifier-bert\\venv\\Lib\\site-packages\\urllib3\\connectionpool.py:946\u001B[0m, in \u001B[0;36mHTTPConnectionPool.urlopen\u001B[1;34m(self, method, url, body, headers, retries, redirect, assert_same_host, timeout, pool_timeout, release_conn, chunked, body_pos, preload_content, decode_content, **response_kw)\u001B[0m\n\u001B[0;32m    945\u001B[0m     log\u001B[38;5;241m.\u001B[39mdebug(\u001B[38;5;124m\"\u001B[39m\u001B[38;5;124mRetry: \u001B[39m\u001B[38;5;132;01m%s\u001B[39;00m\u001B[38;5;124m\"\u001B[39m, url)\n\u001B[1;32m--> 946\u001B[0m     \u001B[38;5;28;01mreturn\u001B[39;00m \u001B[38;5;28;43mself\u001B[39;49m\u001B[38;5;241;43m.\u001B[39;49m\u001B[43murlopen\u001B[49m\u001B[43m(\u001B[49m\n\u001B[0;32m    947\u001B[0m \u001B[43m        \u001B[49m\u001B[43mmethod\u001B[49m\u001B[43m,\u001B[49m\n\u001B[0;32m    948\u001B[0m \u001B[43m        \u001B[49m\u001B[43murl\u001B[49m\u001B[43m,\u001B[49m\n\u001B[0;32m    949\u001B[0m \u001B[43m        \u001B[49m\u001B[43mbody\u001B[49m\u001B[43m,\u001B[49m\n\u001B[0;32m    950\u001B[0m \u001B[43m        \u001B[49m\u001B[43mheaders\u001B[49m\u001B[43m,\u001B[49m\n\u001B[0;32m    951\u001B[0m \u001B[43m        \u001B[49m\u001B[43mretries\u001B[49m\u001B[38;5;241;43m=\u001B[39;49m\u001B[43mretries\u001B[49m\u001B[43m,\u001B[49m\n\u001B[0;32m    952\u001B[0m \u001B[43m        \u001B[49m\u001B[43mredirect\u001B[49m\u001B[38;5;241;43m=\u001B[39;49m\u001B[43mredirect\u001B[49m\u001B[43m,\u001B[49m\n\u001B[0;32m    953\u001B[0m \u001B[43m        \u001B[49m\u001B[43massert_same_host\u001B[49m\u001B[38;5;241;43m=\u001B[39;49m\u001B[43massert_same_host\u001B[49m\u001B[43m,\u001B[49m\n\u001B[0;32m    954\u001B[0m \u001B[43m        \u001B[49m\u001B[43mtimeout\u001B[49m\u001B[38;5;241;43m=\u001B[39;49m\u001B[43mtimeout\u001B[49m\u001B[43m,\u001B[49m\n\u001B[0;32m    955\u001B[0m \u001B[43m        \u001B[49m\u001B[43mpool_timeout\u001B[49m\u001B[38;5;241;43m=\u001B[39;49m\u001B[43mpool_timeout\u001B[49m\u001B[43m,\u001B[49m\n\u001B[0;32m    956\u001B[0m \u001B[43m        \u001B[49m\u001B[43mrelease_conn\u001B[49m\u001B[38;5;241;43m=\u001B[39;49m\u001B[43mrelease_conn\u001B[49m\u001B[43m,\u001B[49m\n\u001B[0;32m    957\u001B[0m \u001B[43m        \u001B[49m\u001B[43mchunked\u001B[49m\u001B[38;5;241;43m=\u001B[39;49m\u001B[43mchunked\u001B[49m\u001B[43m,\u001B[49m\n\u001B[0;32m    958\u001B[0m \u001B[43m        \u001B[49m\u001B[43mbody_pos\u001B[49m\u001B[38;5;241;43m=\u001B[39;49m\u001B[43mbody_pos\u001B[49m\u001B[43m,\u001B[49m\n\u001B[0;32m    959\u001B[0m \u001B[43m        \u001B[49m\u001B[43mpreload_content\u001B[49m\u001B[38;5;241;43m=\u001B[39;49m\u001B[43mpreload_content\u001B[49m\u001B[43m,\u001B[49m\n\u001B[0;32m    960\u001B[0m \u001B[43m        \u001B[49m\u001B[43mdecode_content\u001B[49m\u001B[38;5;241;43m=\u001B[39;49m\u001B[43mdecode_content\u001B[49m\u001B[43m,\u001B[49m\n\u001B[0;32m    961\u001B[0m \u001B[43m        \u001B[49m\u001B[38;5;241;43m*\u001B[39;49m\u001B[38;5;241;43m*\u001B[39;49m\u001B[43mresponse_kw\u001B[49m\u001B[43m,\u001B[49m\n\u001B[0;32m    962\u001B[0m \u001B[43m    \u001B[49m\u001B[43m)\u001B[49m\n\u001B[0;32m    964\u001B[0m \u001B[38;5;28;01mreturn\u001B[39;00m response\n",
      "File \u001B[1;32mE:\\BERT\\uvl-tore-classifier-bert\\venv\\Lib\\site-packages\\urllib3\\connectionpool.py:936\u001B[0m, in \u001B[0;36mHTTPConnectionPool.urlopen\u001B[1;34m(self, method, url, body, headers, retries, redirect, assert_same_host, timeout, pool_timeout, release_conn, chunked, body_pos, preload_content, decode_content, **response_kw)\u001B[0m\n\u001B[0;32m    935\u001B[0m \u001B[38;5;28;01mtry\u001B[39;00m:\n\u001B[1;32m--> 936\u001B[0m     retries \u001B[38;5;241m=\u001B[39m \u001B[43mretries\u001B[49m\u001B[38;5;241;43m.\u001B[39;49m\u001B[43mincrement\u001B[49m\u001B[43m(\u001B[49m\u001B[43mmethod\u001B[49m\u001B[43m,\u001B[49m\u001B[43m \u001B[49m\u001B[43murl\u001B[49m\u001B[43m,\u001B[49m\u001B[43m \u001B[49m\u001B[43mresponse\u001B[49m\u001B[38;5;241;43m=\u001B[39;49m\u001B[43mresponse\u001B[49m\u001B[43m,\u001B[49m\u001B[43m \u001B[49m\u001B[43m_pool\u001B[49m\u001B[38;5;241;43m=\u001B[39;49m\u001B[38;5;28;43mself\u001B[39;49m\u001B[43m)\u001B[49m\n\u001B[0;32m    937\u001B[0m \u001B[38;5;28;01mexcept\u001B[39;00m MaxRetryError:\n",
      "File \u001B[1;32mE:\\BERT\\uvl-tore-classifier-bert\\venv\\Lib\\site-packages\\urllib3\\util\\retry.py:515\u001B[0m, in \u001B[0;36mRetry.increment\u001B[1;34m(self, method, url, response, error, _pool, _stacktrace)\u001B[0m\n\u001B[0;32m    514\u001B[0m     reason \u001B[38;5;241m=\u001B[39m error \u001B[38;5;129;01mor\u001B[39;00m ResponseError(cause)\n\u001B[1;32m--> 515\u001B[0m     \u001B[38;5;28;01mraise\u001B[39;00m MaxRetryError(_pool, url, reason) \u001B[38;5;28;01mfrom\u001B[39;00m \u001B[38;5;21;01mreason\u001B[39;00m  \u001B[38;5;66;03m# type: ignore[arg-type]\u001B[39;00m\n\u001B[0;32m    517\u001B[0m log\u001B[38;5;241m.\u001B[39mdebug(\u001B[38;5;124m\"\u001B[39m\u001B[38;5;124mIncremented Retry for (url=\u001B[39m\u001B[38;5;124m'\u001B[39m\u001B[38;5;132;01m%s\u001B[39;00m\u001B[38;5;124m'\u001B[39m\u001B[38;5;124m): \u001B[39m\u001B[38;5;132;01m%r\u001B[39;00m\u001B[38;5;124m\"\u001B[39m, url, new_retry)\n",
      "\u001B[1;31mMaxRetryError\u001B[0m: HTTPSConnectionPool(host='mlflow-uvl.ifi.uni-heidelberg.de', port=443): Max retries exceeded with url: /api/2.0/mlflow-artifacts/artifacts/6/4d6689f4de2b4b8597d990f413242c49/artifacts/confusion_matrix.png (Caused by ResponseError('too many 500 error responses'))",
      "\nDuring handling of the above exception, another exception occurred:\n",
      "\u001B[1;31mRetryError\u001B[0m                                Traceback (most recent call last)",
      "File \u001B[1;32mE:\\BERT\\uvl-tore-classifier-bert\\venv\\Lib\\site-packages\\mlflow\\utils\\rest_utils.py:92\u001B[0m, in \u001B[0;36mhttp_request\u001B[1;34m(host_creds, endpoint, method, max_retries, backoff_factor, extra_headers, retry_codes, timeout, **kwargs)\u001B[0m\n\u001B[0;32m     91\u001B[0m \u001B[38;5;28;01mtry\u001B[39;00m:\n\u001B[1;32m---> 92\u001B[0m     \u001B[38;5;28;01mreturn\u001B[39;00m \u001B[43m_get_http_response_with_retries\u001B[49m\u001B[43m(\u001B[49m\n\u001B[0;32m     93\u001B[0m \u001B[43m        \u001B[49m\u001B[43mmethod\u001B[49m\u001B[43m,\u001B[49m\n\u001B[0;32m     94\u001B[0m \u001B[43m        \u001B[49m\u001B[43murl\u001B[49m\u001B[43m,\u001B[49m\n\u001B[0;32m     95\u001B[0m \u001B[43m        \u001B[49m\u001B[43mmax_retries\u001B[49m\u001B[43m,\u001B[49m\n\u001B[0;32m     96\u001B[0m \u001B[43m        \u001B[49m\u001B[43mbackoff_factor\u001B[49m\u001B[43m,\u001B[49m\n\u001B[0;32m     97\u001B[0m \u001B[43m        \u001B[49m\u001B[43mretry_codes\u001B[49m\u001B[43m,\u001B[49m\n\u001B[0;32m     98\u001B[0m \u001B[43m        \u001B[49m\u001B[43mheaders\u001B[49m\u001B[38;5;241;43m=\u001B[39;49m\u001B[43mheaders\u001B[49m\u001B[43m,\u001B[49m\n\u001B[0;32m     99\u001B[0m \u001B[43m        \u001B[49m\u001B[43mverify\u001B[49m\u001B[38;5;241;43m=\u001B[39;49m\u001B[43mhost_creds\u001B[49m\u001B[38;5;241;43m.\u001B[39;49m\u001B[43mverify\u001B[49m\u001B[43m,\u001B[49m\n\u001B[0;32m    100\u001B[0m \u001B[43m        \u001B[49m\u001B[43mtimeout\u001B[49m\u001B[38;5;241;43m=\u001B[39;49m\u001B[43mtimeout\u001B[49m\u001B[43m,\u001B[49m\n\u001B[0;32m    101\u001B[0m \u001B[43m        \u001B[49m\u001B[38;5;241;43m*\u001B[39;49m\u001B[38;5;241;43m*\u001B[39;49m\u001B[43mkwargs\u001B[49m\u001B[43m,\u001B[49m\n\u001B[0;32m    102\u001B[0m \u001B[43m    \u001B[49m\u001B[43m)\u001B[49m\n\u001B[0;32m    103\u001B[0m \u001B[38;5;28;01mexcept\u001B[39;00m requests\u001B[38;5;241m.\u001B[39mexceptions\u001B[38;5;241m.\u001B[39mTimeout \u001B[38;5;28;01mas\u001B[39;00m to:\n",
      "File \u001B[1;32mE:\\BERT\\uvl-tore-classifier-bert\\venv\\Lib\\site-packages\\mlflow\\utils\\request_utils.py:135\u001B[0m, in \u001B[0;36m_get_http_response_with_retries\u001B[1;34m(method, url, max_retries, backoff_factor, retry_codes, **kwargs)\u001B[0m\n\u001B[0;32m    134\u001B[0m session \u001B[38;5;241m=\u001B[39m _get_request_session(max_retries, backoff_factor, retry_codes)\n\u001B[1;32m--> 135\u001B[0m \u001B[38;5;28;01mreturn\u001B[39;00m \u001B[43msession\u001B[49m\u001B[38;5;241;43m.\u001B[39;49m\u001B[43mrequest\u001B[49m\u001B[43m(\u001B[49m\u001B[43mmethod\u001B[49m\u001B[43m,\u001B[49m\u001B[43m \u001B[49m\u001B[43murl\u001B[49m\u001B[43m,\u001B[49m\u001B[43m \u001B[49m\u001B[38;5;241;43m*\u001B[39;49m\u001B[38;5;241;43m*\u001B[39;49m\u001B[43mkwargs\u001B[49m\u001B[43m)\u001B[49m\n",
      "File \u001B[1;32mE:\\BERT\\uvl-tore-classifier-bert\\venv\\Lib\\site-packages\\requests\\sessions.py:589\u001B[0m, in \u001B[0;36mSession.request\u001B[1;34m(self, method, url, params, data, headers, cookies, files, auth, timeout, allow_redirects, proxies, hooks, stream, verify, cert, json)\u001B[0m\n\u001B[0;32m    588\u001B[0m send_kwargs\u001B[38;5;241m.\u001B[39mupdate(settings)\n\u001B[1;32m--> 589\u001B[0m resp \u001B[38;5;241m=\u001B[39m \u001B[38;5;28;43mself\u001B[39;49m\u001B[38;5;241;43m.\u001B[39;49m\u001B[43msend\u001B[49m\u001B[43m(\u001B[49m\u001B[43mprep\u001B[49m\u001B[43m,\u001B[49m\u001B[43m \u001B[49m\u001B[38;5;241;43m*\u001B[39;49m\u001B[38;5;241;43m*\u001B[39;49m\u001B[43msend_kwargs\u001B[49m\u001B[43m)\u001B[49m\n\u001B[0;32m    591\u001B[0m \u001B[38;5;28;01mreturn\u001B[39;00m resp\n",
      "File \u001B[1;32mE:\\BERT\\uvl-tore-classifier-bert\\venv\\Lib\\site-packages\\requests\\sessions.py:703\u001B[0m, in \u001B[0;36mSession.send\u001B[1;34m(self, request, **kwargs)\u001B[0m\n\u001B[0;32m    702\u001B[0m \u001B[38;5;66;03m# Send the request\u001B[39;00m\n\u001B[1;32m--> 703\u001B[0m r \u001B[38;5;241m=\u001B[39m \u001B[43madapter\u001B[49m\u001B[38;5;241;43m.\u001B[39;49m\u001B[43msend\u001B[49m\u001B[43m(\u001B[49m\u001B[43mrequest\u001B[49m\u001B[43m,\u001B[49m\u001B[43m \u001B[49m\u001B[38;5;241;43m*\u001B[39;49m\u001B[38;5;241;43m*\u001B[39;49m\u001B[43mkwargs\u001B[49m\u001B[43m)\u001B[49m\n\u001B[0;32m    705\u001B[0m \u001B[38;5;66;03m# Total elapsed time of the request (approximately)\u001B[39;00m\n",
      "File \u001B[1;32mE:\\BERT\\uvl-tore-classifier-bert\\venv\\Lib\\site-packages\\requests\\adapters.py:510\u001B[0m, in \u001B[0;36mHTTPAdapter.send\u001B[1;34m(self, request, stream, timeout, verify, cert, proxies)\u001B[0m\n\u001B[0;32m    509\u001B[0m \u001B[38;5;28;01mif\u001B[39;00m \u001B[38;5;28misinstance\u001B[39m(e\u001B[38;5;241m.\u001B[39mreason, ResponseError):\n\u001B[1;32m--> 510\u001B[0m     \u001B[38;5;28;01mraise\u001B[39;00m RetryError(e, request\u001B[38;5;241m=\u001B[39mrequest)\n\u001B[0;32m    512\u001B[0m \u001B[38;5;28;01mif\u001B[39;00m \u001B[38;5;28misinstance\u001B[39m(e\u001B[38;5;241m.\u001B[39mreason, _ProxyError):\n",
      "\u001B[1;31mRetryError\u001B[0m: HTTPSConnectionPool(host='mlflow-uvl.ifi.uni-heidelberg.de', port=443): Max retries exceeded with url: /api/2.0/mlflow-artifacts/artifacts/6/4d6689f4de2b4b8597d990f413242c49/artifacts/confusion_matrix.png (Caused by ResponseError('too many 500 error responses'))",
      "\nDuring handling of the above exception, another exception occurred:\n",
      "\u001B[1;31mMlflowException\u001B[0m                           Traceback (most recent call last)",
      "Cell \u001B[1;32mIn[16], line 30\u001B[0m\n\u001B[0;32m     27\u001B[0m \u001B[38;5;28;01mif\u001B[39;00m run_experiments:\n\u001B[0;32m     28\u001B[0m     \u001B[38;5;28;01mfrom\u001B[39;00m \u001B[38;5;21;01mexperiments\u001B[39;00m\u001B[38;5;21;01m.\u001B[39;00m\u001B[38;5;21;01mbert\u001B[39;00m \u001B[38;5;28;01mimport\u001B[39;00m bert\n\u001B[1;32m---> 30\u001B[0m     \u001B[43mbert\u001B[49m\u001B[43m(\u001B[49m\u001B[43mOmegaConf\u001B[49m\u001B[38;5;241;43m.\u001B[39;49m\u001B[43mcreate\u001B[49m\u001B[43m(\u001B[49m\u001B[43mbert_cfg\u001B[49m\u001B[43m)\u001B[49m\u001B[43m)\u001B[49m\n\u001B[0;32m     32\u001B[0m bert_run_id \u001B[38;5;241m=\u001B[39m get_run_id(bert_cfg, pin_commit\u001B[38;5;241m=\u001B[39mpin_commits)\n\u001B[0;32m     34\u001B[0m \u001B[38;5;28mprint\u001B[39m(bert_run_id)\n",
      "File \u001B[1;32mE:\\BERT\\uvl-tore-classifier-bert\\venv\\Lib\\site-packages\\hydra\\main.py:83\u001B[0m, in \u001B[0;36mmain.<locals>.main_decorator.<locals>.decorated_main\u001B[1;34m(cfg_passthrough)\u001B[0m\n\u001B[0;32m     80\u001B[0m \u001B[38;5;129m@functools\u001B[39m\u001B[38;5;241m.\u001B[39mwraps(task_function)\n\u001B[0;32m     81\u001B[0m \u001B[38;5;28;01mdef\u001B[39;00m \u001B[38;5;21mdecorated_main\u001B[39m(cfg_passthrough: Optional[DictConfig] \u001B[38;5;241m=\u001B[39m \u001B[38;5;28;01mNone\u001B[39;00m) \u001B[38;5;241m-\u001B[39m\u001B[38;5;241m>\u001B[39m Any:\n\u001B[0;32m     82\u001B[0m     \u001B[38;5;28;01mif\u001B[39;00m cfg_passthrough \u001B[38;5;129;01mis\u001B[39;00m \u001B[38;5;129;01mnot\u001B[39;00m \u001B[38;5;28;01mNone\u001B[39;00m:\n\u001B[1;32m---> 83\u001B[0m         \u001B[38;5;28;01mreturn\u001B[39;00m \u001B[43mtask_function\u001B[49m\u001B[43m(\u001B[49m\u001B[43mcfg_passthrough\u001B[49m\u001B[43m)\u001B[49m\n\u001B[0;32m     84\u001B[0m     \u001B[38;5;28;01melse\u001B[39;00m:\n\u001B[0;32m     85\u001B[0m         args_parser \u001B[38;5;241m=\u001B[39m get_args_parser()\n",
      "File \u001B[1;32mE:\\BERT\\uvl-tore-classifier-bert\\src\\experiments\\bert.py:41\u001B[0m, in \u001B[0;36mbert\u001B[1;34m(cfg)\u001B[0m\n\u001B[0;32m     39\u001B[0m         logging\u001B[38;5;241m.\u001B[39merror(e)\n\u001B[0;32m     40\u001B[0m         end_tracing()\n\u001B[1;32m---> 41\u001B[0m         \u001B[38;5;28;01mraise\u001B[39;00m e\n\u001B[0;32m     43\u001B[0m logging\u001B[38;5;241m.\u001B[39minfo(\u001B[38;5;124m\"\u001B[39m\u001B[38;5;124mLeft mlflow context\u001B[39m\u001B[38;5;124m\"\u001B[39m)\n\u001B[0;32m     44\u001B[0m \u001B[38;5;28;01mreturn\u001B[39;00m\n",
      "File \u001B[1;32mE:\\BERT\\uvl-tore-classifier-bert\\src\\experiments\\bert.py:30\u001B[0m, in \u001B[0;36mbert\u001B[1;34m(cfg)\u001B[0m\n\u001B[0;32m     28\u001B[0m \u001B[38;5;28;01mwith\u001B[39;00m config_mlflow(cfg\u001B[38;5;241m=\u001B[39mcfg) \u001B[38;5;28;01mas\u001B[39;00m current_run:\n\u001B[0;32m     29\u001B[0m     \u001B[38;5;28;01mtry\u001B[39;00m:\n\u001B[1;32m---> 30\u001B[0m         \u001B[43mbert_pipeline\u001B[49m\u001B[43m(\u001B[49m\u001B[43mcfg\u001B[49m\u001B[43m,\u001B[49m\u001B[43m \u001B[49m\u001B[43mrun_name\u001B[49m\u001B[38;5;241;43m=\u001B[39;49m\u001B[43mcurrent_run\u001B[49m\u001B[38;5;241;43m.\u001B[39;49m\u001B[43minfo\u001B[49m\u001B[38;5;241;43m.\u001B[39;49m\u001B[43mrun_name\u001B[49m\u001B[43m)\u001B[49m\n\u001B[0;32m     31\u001B[0m         end_tracing()\n\u001B[0;32m     33\u001B[0m     \u001B[38;5;28;01mexcept\u001B[39;00m \u001B[38;5;167;01mKeyboardInterrupt\u001B[39;00m:\n",
      "File \u001B[1;32mE:\\BERT\\uvl-tore-classifier-bert\\src\\classifiers\\bert\\pipeline.py:139\u001B[0m, in \u001B[0;36mbert_pipeline\u001B[1;34m(cfg, run_name)\u001B[0m\n\u001B[0;32m    135\u001B[0m         \u001B[38;5;28;01mbreak\u001B[39;00m\n\u001B[0;32m    137\u001B[0m \u001B[38;5;66;03m# Evaluate Run\u001B[39;00m\n\u001B[1;32m--> 139\u001B[0m \u001B[43mevaluation\u001B[49m\u001B[38;5;241;43m.\u001B[39;49m\u001B[43mevaluate_experiment\u001B[49m\u001B[43m(\u001B[49m\n\u001B[0;32m    140\u001B[0m \u001B[43m    \u001B[49m\u001B[43mrun_name\u001B[49m\u001B[38;5;241;43m=\u001B[39;49m\u001B[43mrun_name\u001B[49m\u001B[43m,\u001B[49m\u001B[43m \u001B[49m\u001B[43miteration_results\u001B[49m\u001B[38;5;241;43m=\u001B[39;49m\u001B[43miteration_tracking\u001B[49m\n\u001B[0;32m    141\u001B[0m \u001B[43m\u001B[49m\u001B[43m)\u001B[49m\n",
      "File \u001B[1;32mE:\\BERT\\uvl-tore-classifier-bert\\src\\tooling\\evaluation.py:313\u001B[0m, in \u001B[0;36mevaluate_experiment\u001B[1;34m(run_name, iteration_results)\u001B[0m\n\u001B[0;32m    304\u001B[0m all_solutions \u001B[38;5;241m=\u001B[39m cast(\n\u001B[0;32m    305\u001B[0m     DataSet[ResultDF], pd\u001B[38;5;241m.\u001B[39mconcat(results_df[\u001B[38;5;124m\"\u001B[39m\u001B[38;5;124msolution\u001B[39m\u001B[38;5;124m\"\u001B[39m]\u001B[38;5;241m.\u001B[39mto_list())\n\u001B[0;32m    306\u001B[0m )\n\u001B[0;32m    307\u001B[0m res\u001B[38;5;241m.\u001B[39mconfusion_matrix \u001B[38;5;241m=\u001B[39m sum_confusion_matrix(\n\u001B[0;32m    308\u001B[0m     name\u001B[38;5;241m=\u001B[39mrun_name,\n\u001B[0;32m    309\u001B[0m     solution\u001B[38;5;241m=\u001B[39mall_solutions,\n\u001B[0;32m    310\u001B[0m     results\u001B[38;5;241m=\u001B[39mall_results,\n\u001B[0;32m    311\u001B[0m )\n\u001B[1;32m--> 313\u001B[0m \u001B[43mlog_experiment_result\u001B[49m\u001B[43m(\u001B[49m\u001B[43mresult\u001B[49m\u001B[38;5;241;43m=\u001B[39;49m\u001B[43mres\u001B[49m\u001B[43m)\u001B[49m\n\u001B[0;32m    314\u001B[0m logging\u001B[38;5;241m.\u001B[39minfo(\n\u001B[0;32m    315\u001B[0m     \u001B[38;5;124mf\u001B[39m\u001B[38;5;124m\"\u001B[39m\u001B[38;5;124mLogged experiment result \u001B[39m\u001B[38;5;132;01m{\u001B[39;00mres\u001B[38;5;241m.\u001B[39mmean_precision\u001B[38;5;132;01m=}\u001B[39;00m\u001B[38;5;124m \u001B[39m\u001B[38;5;132;01m{\u001B[39;00mres\u001B[38;5;241m.\u001B[39mmean_recall\u001B[38;5;132;01m=}\u001B[39;00m\u001B[38;5;124m\"\u001B[39m\n\u001B[0;32m    316\u001B[0m )\n\u001B[0;32m    318\u001B[0m \u001B[38;5;28;01mreturn\u001B[39;00m res\n",
      "File \u001B[1;32mE:\\BERT\\uvl-tore-classifier-bert\\src\\tooling\\observability.py:228\u001B[0m, in \u001B[0;36mlog_experiment_result\u001B[1;34m(result)\u001B[0m\n\u001B[0;32m    222\u001B[0m pl_mean_recall \u001B[38;5;241m=\u001B[39m {\n\u001B[0;32m    223\u001B[0m     \u001B[38;5;124mf\u001B[39m\u001B[38;5;124m\"\u001B[39m\u001B[38;5;124mmean_recall_\u001B[39m\u001B[38;5;132;01m{\u001B[39;00mlabel\u001B[38;5;132;01m}\u001B[39;00m\u001B[38;5;124m\"\u001B[39m: value\n\u001B[0;32m    224\u001B[0m     \u001B[38;5;28;01mfor\u001B[39;00m label, value \u001B[38;5;129;01min\u001B[39;00m result\u001B[38;5;241m.\u001B[39mpl_mean_recall\u001B[38;5;241m.\u001B[39mitems()\n\u001B[0;32m    225\u001B[0m }\n\u001B[0;32m    226\u001B[0m mlflow\u001B[38;5;241m.\u001B[39mlog_metrics(pl_mean_recall)\n\u001B[1;32m--> 228\u001B[0m \u001B[43mmlflow\u001B[49m\u001B[38;5;241;43m.\u001B[39;49m\u001B[43mlog_artifact\u001B[49m\u001B[43m(\u001B[49m\u001B[43mresult\u001B[49m\u001B[38;5;241;43m.\u001B[39;49m\u001B[43mconfusion_matrix\u001B[49m\u001B[43m)\u001B[49m\n\u001B[0;32m    230\u001B[0m \u001B[38;5;28;01mreturn\u001B[39;00m \u001B[38;5;28;01mNone\u001B[39;00m\n",
      "File \u001B[1;32mE:\\BERT\\uvl-tore-classifier-bert\\venv\\Lib\\site-packages\\mlflow\\tracking\\fluent.py:874\u001B[0m, in \u001B[0;36mlog_artifact\u001B[1;34m(local_path, artifact_path)\u001B[0m\n\u001B[0;32m    851\u001B[0m \u001B[38;5;250m\u001B[39m\u001B[38;5;124;03m\"\"\"\u001B[39;00m\n\u001B[0;32m    852\u001B[0m \u001B[38;5;124;03mLog a local file or directory as an artifact of the currently active run. If no run is\u001B[39;00m\n\u001B[0;32m    853\u001B[0m \u001B[38;5;124;03mactive, this method will create a new active run.\u001B[39;00m\n\u001B[1;32m   (...)\u001B[0m\n\u001B[0;32m    871\u001B[0m \u001B[38;5;124;03m        mlflow.log_artifact(\"features.txt\")\u001B[39;00m\n\u001B[0;32m    872\u001B[0m \u001B[38;5;124;03m\"\"\"\u001B[39;00m\n\u001B[0;32m    873\u001B[0m run_id \u001B[38;5;241m=\u001B[39m _get_or_start_run()\u001B[38;5;241m.\u001B[39minfo\u001B[38;5;241m.\u001B[39mrun_id\n\u001B[1;32m--> 874\u001B[0m \u001B[43mMlflowClient\u001B[49m\u001B[43m(\u001B[49m\u001B[43m)\u001B[49m\u001B[38;5;241;43m.\u001B[39;49m\u001B[43mlog_artifact\u001B[49m\u001B[43m(\u001B[49m\u001B[43mrun_id\u001B[49m\u001B[43m,\u001B[49m\u001B[43m \u001B[49m\u001B[43mlocal_path\u001B[49m\u001B[43m,\u001B[49m\u001B[43m \u001B[49m\u001B[43martifact_path\u001B[49m\u001B[43m)\u001B[49m\n",
      "File \u001B[1;32mE:\\BERT\\uvl-tore-classifier-bert\\venv\\Lib\\site-packages\\mlflow\\tracking\\client.py:1092\u001B[0m, in \u001B[0;36mMlflowClient.log_artifact\u001B[1;34m(self, run_id, local_path, artifact_path)\u001B[0m\n\u001B[0;32m   1057\u001B[0m \u001B[38;5;28;01mdef\u001B[39;00m \u001B[38;5;21mlog_artifact\u001B[39m(\u001B[38;5;28mself\u001B[39m, run_id, local_path, artifact_path\u001B[38;5;241m=\u001B[39m\u001B[38;5;28;01mNone\u001B[39;00m) \u001B[38;5;241m-\u001B[39m\u001B[38;5;241m>\u001B[39m \u001B[38;5;28;01mNone\u001B[39;00m:\n\u001B[0;32m   1058\u001B[0m \u001B[38;5;250m    \u001B[39m\u001B[38;5;124;03m\"\"\"\u001B[39;00m\n\u001B[0;32m   1059\u001B[0m \u001B[38;5;124;03m    Write a local file or directory to the remote ``artifact_uri``.\u001B[39;00m\n\u001B[0;32m   1060\u001B[0m \n\u001B[1;32m   (...)\u001B[0m\n\u001B[0;32m   1090\u001B[0m \u001B[38;5;124;03m        is_dir: False\u001B[39;00m\n\u001B[0;32m   1091\u001B[0m \u001B[38;5;124;03m    \"\"\"\u001B[39;00m\n\u001B[1;32m-> 1092\u001B[0m     \u001B[38;5;28;43mself\u001B[39;49m\u001B[38;5;241;43m.\u001B[39;49m\u001B[43m_tracking_client\u001B[49m\u001B[38;5;241;43m.\u001B[39;49m\u001B[43mlog_artifact\u001B[49m\u001B[43m(\u001B[49m\u001B[43mrun_id\u001B[49m\u001B[43m,\u001B[49m\u001B[43m \u001B[49m\u001B[43mlocal_path\u001B[49m\u001B[43m,\u001B[49m\u001B[43m \u001B[49m\u001B[43martifact_path\u001B[49m\u001B[43m)\u001B[49m\n",
      "File \u001B[1;32mE:\\BERT\\uvl-tore-classifier-bert\\venv\\Lib\\site-packages\\mlflow\\tracking\\_tracking_service\\client.py:454\u001B[0m, in \u001B[0;36mTrackingServiceClient.log_artifact\u001B[1;34m(self, run_id, local_path, artifact_path)\u001B[0m\n\u001B[0;32m    452\u001B[0m     artifact_repo\u001B[38;5;241m.\u001B[39mlog_artifacts(local_path, path_name)\n\u001B[0;32m    453\u001B[0m \u001B[38;5;28;01melse\u001B[39;00m:\n\u001B[1;32m--> 454\u001B[0m     \u001B[43martifact_repo\u001B[49m\u001B[38;5;241;43m.\u001B[39;49m\u001B[43mlog_artifact\u001B[49m\u001B[43m(\u001B[49m\u001B[43mlocal_path\u001B[49m\u001B[43m,\u001B[49m\u001B[43m \u001B[49m\u001B[43martifact_path\u001B[49m\u001B[43m)\u001B[49m\n",
      "File \u001B[1;32mE:\\BERT\\uvl-tore-classifier-bert\\venv\\Lib\\site-packages\\mlflow\\store\\artifact\\http_artifact_repo.py:28\u001B[0m, in \u001B[0;36mHttpArtifactRepository.log_artifact\u001B[1;34m(self, local_file, artifact_path)\u001B[0m\n\u001B[0;32m     26\u001B[0m extra_headers \u001B[38;5;241m=\u001B[39m {\u001B[38;5;124m\"\u001B[39m\u001B[38;5;124mContent-Type\u001B[39m\u001B[38;5;124m\"\u001B[39m: mime_type}\n\u001B[0;32m     27\u001B[0m \u001B[38;5;28;01mwith\u001B[39;00m \u001B[38;5;28mopen\u001B[39m(local_file, \u001B[38;5;124m\"\u001B[39m\u001B[38;5;124mrb\u001B[39m\u001B[38;5;124m\"\u001B[39m) \u001B[38;5;28;01mas\u001B[39;00m f:\n\u001B[1;32m---> 28\u001B[0m     resp \u001B[38;5;241m=\u001B[39m \u001B[43mhttp_request\u001B[49m\u001B[43m(\u001B[49m\n\u001B[0;32m     29\u001B[0m \u001B[43m        \u001B[49m\u001B[38;5;28;43mself\u001B[39;49m\u001B[38;5;241;43m.\u001B[39;49m\u001B[43m_host_creds\u001B[49m\u001B[43m,\u001B[49m\u001B[43m \u001B[49m\u001B[43mendpoint\u001B[49m\u001B[43m,\u001B[49m\u001B[43m \u001B[49m\u001B[38;5;124;43m\"\u001B[39;49m\u001B[38;5;124;43mPUT\u001B[39;49m\u001B[38;5;124;43m\"\u001B[39;49m\u001B[43m,\u001B[49m\u001B[43m \u001B[49m\u001B[43mdata\u001B[49m\u001B[38;5;241;43m=\u001B[39;49m\u001B[43mf\u001B[49m\u001B[43m,\u001B[49m\u001B[43m \u001B[49m\u001B[43mextra_headers\u001B[49m\u001B[38;5;241;43m=\u001B[39;49m\u001B[43mextra_headers\u001B[49m\n\u001B[0;32m     30\u001B[0m \u001B[43m    \u001B[49m\u001B[43m)\u001B[49m\n\u001B[0;32m     31\u001B[0m     augmented_raise_for_status(resp)\n",
      "File \u001B[1;32mE:\\BERT\\uvl-tore-classifier-bert\\venv\\Lib\\site-packages\\mlflow\\utils\\rest_utils.py:112\u001B[0m, in \u001B[0;36mhttp_request\u001B[1;34m(host_creds, endpoint, method, max_retries, backoff_factor, extra_headers, retry_codes, timeout, **kwargs)\u001B[0m\n\u001B[0;32m    110\u001B[0m     \u001B[38;5;28;01mraise\u001B[39;00m InvalidUrlException(\u001B[38;5;124mf\u001B[39m\u001B[38;5;124m\"\u001B[39m\u001B[38;5;124mInvalid url: \u001B[39m\u001B[38;5;132;01m{\u001B[39;00murl\u001B[38;5;132;01m}\u001B[39;00m\u001B[38;5;124m\"\u001B[39m) \u001B[38;5;28;01mfrom\u001B[39;00m \u001B[38;5;21;01miu\u001B[39;00m\n\u001B[0;32m    111\u001B[0m \u001B[38;5;28;01mexcept\u001B[39;00m \u001B[38;5;167;01mException\u001B[39;00m \u001B[38;5;28;01mas\u001B[39;00m e:\n\u001B[1;32m--> 112\u001B[0m     \u001B[38;5;28;01mraise\u001B[39;00m MlflowException(\u001B[38;5;124mf\u001B[39m\u001B[38;5;124m\"\u001B[39m\u001B[38;5;124mAPI request to \u001B[39m\u001B[38;5;132;01m{\u001B[39;00murl\u001B[38;5;132;01m}\u001B[39;00m\u001B[38;5;124m failed with exception \u001B[39m\u001B[38;5;132;01m{\u001B[39;00me\u001B[38;5;132;01m}\u001B[39;00m\u001B[38;5;124m\"\u001B[39m)\n",
      "\u001B[1;31mMlflowException\u001B[0m: API request to https://mlflow-uvl.ifi.uni-heidelberg.de/api/2.0/mlflow-artifacts/artifacts/6/4d6689f4de2b4b8597d990f413242c49/artifacts/confusion_matrix.png failed with exception HTTPSConnectionPool(host='mlflow-uvl.ifi.uni-heidelberg.de', port=443): Max retries exceeded with url: /api/2.0/mlflow-artifacts/artifacts/6/4d6689f4de2b4b8597d990f413242c49/artifacts/confusion_matrix.png (Caused by ResponseError('too many 500 error responses'))"
     ]
    }
   ],
   "source": [
    "from tooling.observability import get_run_id\n",
    "from tooling.config import BERTConfig, BERT\n",
    "\n",
    "from copy import deepcopy\n",
    "\n",
    "bert_experiment_config = deepcopy(base_experiment_config)\n",
    "bert_experiment_config.name = \"Production\"\n",
    "\n",
    "bert_config = BERT(\n",
    "    learning_rate_bert=6e-05,\n",
    "    learning_rate_classifier=0.1,\n",
    "    max_len=123,\n",
    "    number_epochs=8,\n",
    "    train_batch_size=8,\n",
    "    weight_decay=0.01,\n",
    "    weighted_classes=False,\n",
    ")\n",
    "\n",
    "bert_cfg = OmegaConf.structured(\n",
    "    BERTConfig(\n",
    "        bert=bert_config,\n",
    "        experiment=bert_experiment_config,\n",
    "        transformation=label_transformation_config,\n",
    "    )\n",
    ")\n",
    "\n",
    "if run_experiments:\n",
    "    from experiments.bert import bert\n",
    "\n",
    "    bert(OmegaConf.create(bert_cfg))\n",
    "\n",
    "bert_run_id = get_run_id(bert_cfg, pin_commit=pin_commits)\n",
    "\n",
    "print(bert_run_id)\n",
    "\n",
    "run = mlflow.get_run(bert_run_id)\n",
    "mlflow.artifacts.download_artifacts(\n",
    "    f\"{run.info.artifact_uri}/0_model\", dst_path=Path(\"./src/service/models/\")\n",
    ")\n",
    "try:\n",
    "    shutil.rmtree(Path(\"./src/service/models/bert\"))\n",
    "except FileNotFoundError:\n",
    "    pass\n",
    "Path(\"./src/service/models/0_model\").rename(\"./src/service/models/bert\")"
   ]
  },
  {
   "cell_type": "code",
   "execution_count": 15,
   "metadata": {
    "ExecuteTime": {
     "end_time": "2024-01-25T15:19:51.429896200Z",
     "start_time": "2024-01-25T15:19:51.422890100Z"
    }
   },
   "outputs": [],
   "source": []
  },
  {
   "cell_type": "code",
   "execution_count": null,
   "outputs": [],
   "source": [],
   "metadata": {
    "collapsed": false
   }
  }
 ],
 "metadata": {
  "kernelspec": {
   "display_name": "venv",
   "language": "python",
   "name": "python3"
  },
  "language_info": {
   "codemirror_mode": {
    "name": "ipython",
    "version": 3
   },
   "file_extension": ".py",
   "mimetype": "text/x-python",
   "name": "python",
   "nbconvert_exporter": "python",
   "pygments_lexer": "ipython3",
   "version": "3.11.4"
  },
  "orig_nbformat": 4
 },
 "nbformat": 4,
 "nbformat_minor": 2
}
