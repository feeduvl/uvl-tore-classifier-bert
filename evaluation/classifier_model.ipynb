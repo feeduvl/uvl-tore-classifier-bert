{
 "cells": [
  {
   "cell_type": "code",
   "execution_count": 29,
   "metadata": {},
   "outputs": [],
   "source": [
    "import numpy as np\n",
    "import random\n",
    "from sklearn.metrics import precision_score, recall_score\n",
    "\n",
    "length = 100000000\n",
    "\n",
    "CLASSIFIER_1_PRECISSION = 0.9"
   ]
  },
  {
   "cell_type": "code",
   "execution_count": 30,
   "metadata": {},
   "outputs": [
    {
     "data": {
      "text/plain": [
       "['00', '00', 'AA', '0A', '0A', '0A', 'AA', '00', 'A0', 'A0']"
      ]
     },
     "execution_count": 30,
     "metadata": {},
     "output_type": "execute_result"
    }
   ],
   "source": [
    "input = list(np.random.choice([\"00\", \"0A\", \"A0\", \"AA\"], length))\n",
    "input[0:10]"
   ]
  },
  {
   "cell_type": "code",
   "execution_count": 31,
   "metadata": {},
   "outputs": [],
   "source": [
    "def get_solution(input_values, position):\n",
    "    result = []\n",
    "    for value in input_values:\n",
    "        result.append(value[position])\n",
    "\n",
    "    return result"
   ]
  },
  {
   "cell_type": "code",
   "execution_count": 32,
   "metadata": {},
   "outputs": [],
   "source": [
    "def classifier(\n",
    "    input_values,\n",
    "    target_precision,\n",
    "    position,\n",
    "    negative_value,\n",
    "    positive_value,\n",
    "):\n",
    "    true_positives = 0\n",
    "    false_positives = 0\n",
    "\n",
    "    true_negatives = 0\n",
    "    false_negatives = 0\n",
    "\n",
    "    result = []\n",
    "\n",
    "    for value in input_values:\n",
    "        try:\n",
    "            precision = true_positives / (true_positives + false_positives)\n",
    "            recall = true_positives / (true_positives + false_negatives)\n",
    "        except:\n",
    "            precision = 1\n",
    "            recall = 1\n",
    "\n",
    "        if value[position] == negative_value:\n",
    "            if precision <= target_precision:\n",
    "                result.append(negative_value)\n",
    "                true_negatives += 1\n",
    "            else:\n",
    "                result.append(positive_value)\n",
    "                false_positives += 1\n",
    "\n",
    "        else:\n",
    "            if precision <= target_precision:\n",
    "                result.append(positive_value)\n",
    "                true_positives += 1\n",
    "            else:\n",
    "                result.append(negative_value)\n",
    "                false_negatives += 1\n",
    "\n",
    "    return result"
   ]
  },
  {
   "cell_type": "code",
   "execution_count": 33,
   "metadata": {},
   "outputs": [],
   "source": [
    "def classifier_recall(\n",
    "    input_values,\n",
    "    target_recall,\n",
    "    position,\n",
    "    negative_value,\n",
    "    positive_value,\n",
    "):\n",
    "    true_positives = 0\n",
    "    false_positives = 0\n",
    "\n",
    "    true_negatives = 0\n",
    "    false_negatives = 0\n",
    "\n",
    "    result = []\n",
    "\n",
    "    for value in input_values:\n",
    "        try:\n",
    "            recall = true_positives / (true_positives + false_negatives)\n",
    "        except:\n",
    "            recall = 1\n",
    "\n",
    "        if value[position] == negative_value:\n",
    "            if recall <= target_recall:\n",
    "                result.append(negative_value)\n",
    "                true_negatives += 1\n",
    "            else:\n",
    "                result.append(positive_value)\n",
    "                false_positives += 1\n",
    "\n",
    "        else:\n",
    "            if recall <= target_recall:\n",
    "                result.append(positive_value)\n",
    "                true_positives += 1\n",
    "            else:\n",
    "                result.append(negative_value)\n",
    "                false_negatives += 1\n",
    "\n",
    "    return result"
   ]
  },
  {
   "cell_type": "code",
   "execution_count": 34,
   "metadata": {},
   "outputs": [],
   "source": [
    "def classifier_precision(\n",
    "    input_values,\n",
    "    target_precision,\n",
    "    position,\n",
    "    negative_value,\n",
    "    positive_value,\n",
    "):\n",
    "    true_positives = 0\n",
    "    false_positives = 0\n",
    "\n",
    "    true_negatives = 0\n",
    "    false_negatives = 0\n",
    "\n",
    "    result = []\n",
    "\n",
    "    for value in input_values:\n",
    "        try:\n",
    "            precision = true_positives / (true_positives + false_positives)\n",
    "            recall = true_positives / (true_positives + false_negatives)\n",
    "        except:\n",
    "            precision = 1\n",
    "            recall = 1\n",
    "\n",
    "        if value[position] == negative_value:\n",
    "            if precision <= target_precision:\n",
    "                result.append(negative_value)\n",
    "                true_negatives += 1\n",
    "            else:\n",
    "                result.append(positive_value)\n",
    "                false_positives += 1\n",
    "\n",
    "        else:\n",
    "            if precision <= target_precision:\n",
    "                result.append(positive_value)\n",
    "                true_positives += 1\n",
    "            else:\n",
    "                result.append(negative_value)\n",
    "                false_negatives += 1\n",
    "\n",
    "    return result"
   ]
  },
  {
   "cell_type": "code",
   "execution_count": 35,
   "metadata": {},
   "outputs": [
    {
     "data": {
      "text/plain": [
       "0.8999985988314254"
      ]
     },
     "execution_count": 35,
     "metadata": {},
     "output_type": "execute_result"
    }
   ],
   "source": [
    "solution_c1 = get_solution(input, position=0)\n",
    "solution_c1[0:10]\n",
    "\n",
    "prediction_c1 = classifier_precision(\n",
    "    input,\n",
    "    target_precision=0.9,\n",
    "    position=0,\n",
    "    negative_value=\"0\",\n",
    "    positive_value=\"A\",\n",
    ")\n",
    "\n",
    "\n",
    "precision_score(solution_c1, prediction_c1, pos_label=\"A\")"
   ]
  },
  {
   "cell_type": "code",
   "execution_count": 36,
   "metadata": {},
   "outputs": [
    {
     "data": {
      "text/plain": [
       "0.9000002002920258"
      ]
     },
     "execution_count": 36,
     "metadata": {},
     "output_type": "execute_result"
    }
   ],
   "source": [
    "solution_c2 = get_solution(input, position=1)\n",
    "solution_c2[0:10]\n",
    "\n",
    "prediction_c2 = classifier_precision(\n",
    "    input,\n",
    "    target_precision=0.9,\n",
    "    position=1,\n",
    "    negative_value=\"0\",\n",
    "    positive_value=\"A\",\n",
    ")\n",
    "\n",
    "\n",
    "precision_score(solution_c2, prediction_c2, pos_label=\"A\")"
   ]
  },
  {
   "cell_type": "code",
   "execution_count": null,
   "metadata": {},
   "outputs": [],
   "source": []
  },
  {
   "cell_type": "code",
   "execution_count": 37,
   "metadata": {},
   "outputs": [],
   "source": [
    "def multiplexer(mask, c2_result):\n",
    "    result = []\n",
    "    for first, second in zip(mask, c2_result):\n",
    "        result.append(f\"{first}{second}\")\n",
    "\n",
    "    return result"
   ]
  },
  {
   "cell_type": "code",
   "execution_count": 38,
   "metadata": {},
   "outputs": [
    {
     "data": {
      "text/plain": [
       "['AA', 'AA', '00', '0A', '0A', '0A', 'AA', '00', 'A0', 'A0']"
      ]
     },
     "execution_count": 38,
     "metadata": {},
     "output_type": "execute_result"
    }
   ],
   "source": [
    "multiplexed_result = multiplexer(prediction_c1, prediction_c2)\n",
    "multiplexed_result[0:10]"
   ]
  },
  {
   "cell_type": "code",
   "execution_count": 39,
   "metadata": {},
   "outputs": [
    {
     "data": {
      "text/plain": [
       "0.8101329775344259"
      ]
     },
     "execution_count": 39,
     "metadata": {},
     "output_type": "execute_result"
    }
   ],
   "source": [
    "precision_score(input, multiplexed_result, average=\"macro\")"
   ]
  },
  {
   "cell_type": "code",
   "execution_count": 41,
   "metadata": {},
   "outputs": [
    {
     "data": {
      "text/plain": [
       "0.899999399528029"
      ]
     },
     "execution_count": 41,
     "metadata": {},
     "output_type": "execute_result"
    }
   ],
   "source": [
    "solution_c1 = get_solution(input, position=0)\n",
    "solution_c1[0:10]\n",
    "\n",
    "prediction_c1 = classifier_recall(\n",
    "    input,\n",
    "    target_recall=0.9,\n",
    "    position=0,\n",
    "    negative_value=\"0\",\n",
    "    positive_value=\"A\",\n",
    ")\n",
    "\n",
    "\n",
    "recall_score(solution_c1, prediction_c1, pos_label=\"A\")"
   ]
  },
  {
   "cell_type": "code",
   "execution_count": 42,
   "metadata": {},
   "outputs": [
    {
     "data": {
      "text/plain": [
       "0.899998597792926"
      ]
     },
     "execution_count": 42,
     "metadata": {},
     "output_type": "execute_result"
    }
   ],
   "source": [
    "solution_c2 = get_solution(input, position=1)\n",
    "solution_c2[0:10]\n",
    "\n",
    "prediction_c2 = classifier_recall(\n",
    "    input,\n",
    "    target_recall=0.9,\n",
    "    position=1,\n",
    "    negative_value=\"0\",\n",
    "    positive_value=\"A\",\n",
    ")\n",
    "\n",
    "\n",
    "recall_score(solution_c2, prediction_c2, pos_label=\"A\")"
   ]
  },
  {
   "cell_type": "code",
   "execution_count": 43,
   "metadata": {},
   "outputs": [
    {
     "data": {
      "text/plain": [
       "['AA', 'AA', '00', '0A', '0A', '0A', 'AA', '00', 'A0', 'A0']"
      ]
     },
     "execution_count": 43,
     "metadata": {},
     "output_type": "execute_result"
    }
   ],
   "source": [
    "multiplexed_result = multiplexer(prediction_c1, prediction_c2)\n",
    "multiplexed_result[0:10]"
   ]
  },
  {
   "cell_type": "code",
   "execution_count": 44,
   "metadata": {},
   "outputs": [
    {
     "data": {
      "text/plain": [
       "0.8104951286479429"
      ]
     },
     "execution_count": 44,
     "metadata": {},
     "output_type": "execute_result"
    }
   ],
   "source": [
    "recall_score(input, multiplexed_result, average=\"macro\")"
   ]
  },
  {
   "cell_type": "code",
   "execution_count": null,
   "metadata": {},
   "outputs": [],
   "source": []
  }
 ],
 "metadata": {
  "kernelspec": {
   "display_name": "venv",
   "language": "python",
   "name": "python3"
  },
  "language_info": {
   "codemirror_mode": {
    "name": "ipython",
    "version": 3
   },
   "file_extension": ".py",
   "mimetype": "text/x-python",
   "name": "python",
   "nbconvert_exporter": "python",
   "pygments_lexer": "ipython3",
   "version": "3.11.4"
  },
  "orig_nbformat": 4
 },
 "nbformat": 4,
 "nbformat_minor": 2
}
