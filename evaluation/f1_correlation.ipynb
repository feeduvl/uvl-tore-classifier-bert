{
 "cells": [
  {
   "cell_type": "code",
   "execution_count": 51,
   "metadata": {},
   "outputs": [],
   "source": [
    "from tooling.experiment import get_model\n",
    "from tooling.config import DualModelStagedBERTConfig, StagedBERT\n",
    "from tooling.config import Experiment, Transformation\n",
    "from copy import deepcopy\n",
    "from omegaconf import OmegaConf\n",
    "import mlflow\n",
    "from typing import List\n",
    "from pathlib import Path\n",
    "from classifiers.staged_bert.model import StagedBertForTokenClassification\n",
    "from string import ascii_letters\n",
    "import numpy as np\n",
    "import pandas as pd\n",
    "import seaborn as sns\n",
    "import matplotlib.pyplot as plt"
   ]
  },
  {
   "cell_type": "code",
   "execution_count": 52,
   "metadata": {},
   "outputs": [],
   "source": [
    "first_stage_sner = \"7940402dd4cc49978a5e9e12621d8791\"\n",
    "second_stage_sner = \"77e819a943f1476786b66ed0d5c254fb\"\n",
    "\n",
    "first_stage_bilstm = \"ff24a3452e3e49e4b17148bca1f282a1\"\n",
    "second_stage_bilstm = \"4df78548ebe943c8b1ab27e004b6a2bf\"\n",
    "\n",
    "first_stage_high_recall = \"70bb99b8a5364430b2aed5ef76f224c2\"\n",
    "second_stage_high_recall = \"fbef54c9959d4926bf7b2acd35f063b1\"\n",
    "\n",
    "first_stage_high_precision = \"e4cba0ebbac3493fbfd4763dcba5b463\"\n",
    "second_stage_high_precision = \"19609dc1b8ba418386caec2c947b6c04\"\n",
    "\n",
    "first_stage_selected = \"1125d8020af24135aed1b28501d8eedb\"\n",
    "second_stage_selected = \"1a45a7a27e614f9da5c013652e7895d7\"\n",
    "\n",
    "first_stage_selected = \"1125d8020af24135aed1b28501d8eedb\"\n",
    "second_stage_selected = \"1a45a7a27e614f9da5c013652e7895d7\"\n",
    "\n",
    "second_stage_perfect = \"eaaea5fa67b84a65b1452972702d3973\"\n",
    "\n",
    "snerbilstm_than_bert = [\n",
    "    (first_stage_sner, second_stage_sner),\n",
    "    (first_stage_bilstm, second_stage_bilstm),\n",
    "    (first_stage_high_precision, second_stage_high_precision),\n",
    "    (first_stage_high_recall, second_stage_high_recall),\n",
    "]\n",
    "\n",
    "bert_than_bert = (first_stage_selected, second_stage_selected)"
   ]
  },
  {
   "cell_type": "code",
   "execution_count": 53,
   "metadata": {},
   "outputs": [],
   "source": [
    "def get_f1_from_sner_and_bilstm(run_id) -> List[float]:\n",
    "    client = mlflow.tracking.MlflowClient()\n",
    "    metrics = client.get_metric_history(run_id, \"f1\")\n",
    "    f1_values = [metric.value for metric in metrics]\n",
    "    return f1_values"
   ]
  },
  {
   "cell_type": "code",
   "execution_count": 54,
   "metadata": {},
   "outputs": [],
   "source": [
    "def get_f1_from_bert(run_id) -> List[float]:\n",
    "    client = mlflow.tracking.MlflowClient()\n",
    "    metrics = client.get_metric_history(run_id, \"f1\")\n",
    "    metrics = list(filter(lambda x: x.step == 10, metrics))\n",
    "    f1_values = [metric.value for metric in metrics]\n",
    "    return f1_values"
   ]
  },
  {
   "cell_type": "code",
   "execution_count": 55,
   "metadata": {},
   "outputs": [
    {
     "data": {
      "text/plain": [
       "[(0.7431091873088966, 0.6038918786763122),\n",
       " (0.7385861377890173, 0.6061858378023859),\n",
       " (0.7238942480006881, 0.5864894691988192),\n",
       " (0.7286611379980444, 0.5984169284592309),\n",
       " (0.713794981071884, 0.571688254844095),\n",
       " (0.740013602420687, 0.6153373847688194),\n",
       " (0.7408464717479962, 0.6101207885807134),\n",
       " (0.7083611559277192, 0.5974419807620287),\n",
       " (0.7188967099961745, 0.610414328876009),\n",
       " (0.6998384721877147, 0.5876783872590241),\n",
       " (0.698956203118644, 0.6169425626064282),\n",
       " (0.6265068095828821, 0.6099112238107387),\n",
       " (0.6741317739583397, 0.5992257424412158),\n",
       " (0.6859565551817808, 0.6165408197782946),\n",
       " (0.6593053748056971, 0.5848111299725953),\n",
       " (0.6903025690729304, 0.6098277526328101),\n",
       " (0.6971947148703322, 0.6038248349524216),\n",
       " (0.6917517978418077, 0.5740843302726854),\n",
       " (0.6802558357694081, 0.6075162115787995),\n",
       " (0.6785119565759374, 0.5803529670469332),\n",
       " (0.7871001863586051, 0.6523973637443051),\n",
       " (0.7954254511093519, 0.6597215552892262),\n",
       " (0.7845305340468934, 0.646086253945405),\n",
       " (0.7731598533082681, 0.652596743689853),\n",
       " (0.7536313924568776, 0.6110211643123635),\n",
       " (1.0, 0.861215449011242),\n",
       " (1.0, 0.8385261567959358),\n",
       " (1.0, 0.8278440793270532),\n",
       " (1.0, 0.8438541361689917),\n",
       " (1.0, 0.8419467799654163)]"
      ]
     },
     "execution_count": 55,
     "metadata": {},
     "output_type": "execute_result"
    }
   ],
   "source": [
    "f1_tuples = []\n",
    "\n",
    "for first_stage, second_stage in snerbilstm_than_bert:\n",
    "    first = get_f1_from_sner_and_bilstm(first_stage)\n",
    "    second = get_f1_from_bert(second_stage)\n",
    "    f1_tuples += list(zip(first, second, strict=True))\n",
    "\n",
    "\n",
    "first = get_f1_from_bert(bert_than_bert[0])\n",
    "second = get_f1_from_bert(bert_than_bert[1])\n",
    "f1_tuples += list(zip(first, second, strict=True))\n",
    "\n",
    "first = [1.0, 1.0, 1.0, 1.0, 1.0]\n",
    "second = get_f1_from_bert(second_stage_perfect)\n",
    "f1_tuples += list(zip(first, second, strict=True))\n",
    "\n",
    "f1_tuples"
   ]
  },
  {
   "cell_type": "code",
   "execution_count": 57,
   "metadata": {},
   "outputs": [
    {
     "data": {
      "image/png": "[encoded data removed]",
      "text/plain": [
       "<Figure size 640x480 with 1 Axes>"
      ]
     },
     "metadata": {},
     "output_type": "display_data"
    }
   ],
   "source": [
    "f1s = pd.DataFrame(f1_tuples, columns=[\"First Stage F1\", \"System F1\"])\n",
    "\n",
    "fg = sns.scatterplot(f1s, y=\"First Stage F1\", x=\"System F1\")"
   ]
  },
  {
   "cell_type": "code",
   "execution_count": 58,
   "metadata": {},
   "outputs": [
    {
     "data": {
      "text/html": [
       "<div>\n",
       "<style scoped>\n",
       "    .dataframe tbody tr th:only-of-type {\n",
       "        vertical-align: middle;\n",
       "    }\n",
       "\n",
       "    .dataframe tbody tr th {\n",
       "        vertical-align: top;\n",
       "    }\n",
       "\n",
       "    .dataframe thead th {\n",
       "        text-align: right;\n",
       "    }\n",
       "</style>\n",
       "<table border=\"1\" class=\"dataframe\">\n",
       "  <thead>\n",
       "    <tr style=\"text-align: right;\">\n",
       "      <th></th>\n",
       "      <th>First Stage F1</th>\n",
       "      <th>System F1</th>\n",
       "    </tr>\n",
       "  </thead>\n",
       "  <tbody>\n",
       "    <tr>\n",
       "      <th>First Stage F1</th>\n",
       "      <td>1.000000</td>\n",
       "      <td>0.967252</td>\n",
       "    </tr>\n",
       "    <tr>\n",
       "      <th>System F1</th>\n",
       "      <td>0.967252</td>\n",
       "      <td>1.000000</td>\n",
       "    </tr>\n",
       "  </tbody>\n",
       "</table>\n",
       "</div>"
      ],
      "text/plain": [
       "                First Stage F1  System F1\n",
       "First Stage F1        1.000000   0.967252\n",
       "System F1             0.967252   1.000000"
      ]
     },
     "execution_count": 58,
     "metadata": {},
     "output_type": "execute_result"
    }
   ],
   "source": [
    "f1s.corr()"
   ]
  },
  {
   "cell_type": "code",
   "execution_count": null,
   "metadata": {},
   "outputs": [],
   "source": [
    "from pathlib import Path\n",
    "\n",
    "savepath = Path(\"~/Documents/MA/ma_latex/images/40_design/\").expanduser()\n",
    "\n",
    "fg.figure.savefig(\n",
    "    savepath.joinpath(\"correlation.png\"),\n",
    "    bbox_inches=\"tight\",\n",
    ")"
   ]
  },
  {
   "cell_type": "code",
   "execution_count": null,
   "metadata": {},
   "outputs": [],
   "source": []
  }
 ],
 "metadata": {
  "kernelspec": {
   "display_name": "venv",
   "language": "python",
   "name": "python3"
  },
  "language_info": {
   "codemirror_mode": {
    "name": "ipython",
    "version": 3
   },
   "file_extension": ".py",
   "mimetype": "text/x-python",
   "name": "python",
   "nbconvert_exporter": "python",
   "pygments_lexer": "ipython3",
   "version": "3.11.4"
  },
  "orig_nbformat": 4
 },
 "nbformat": 4,
 "nbformat_minor": 2
}
