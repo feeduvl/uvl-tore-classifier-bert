{
 "cells": [
  {
   "cell_type": "code",
   "execution_count": 1,
   "metadata": {},
   "outputs": [],
   "source": [
    "from data import import_dataset, load_dataset, FORUM, PROLIFIC, DATASETS\n",
    "dataset = FORUM\n"
   ]
  },
  {
   "cell_type": "code",
   "execution_count": 2,
   "metadata": {},
   "outputs": [
    {
     "name": "stdout",
     "output_type": "stream",
     "text": [
      "anno\n",
      "anno\n"
     ]
    }
   ],
   "source": [
    "import_dataset(dataset)"
   ]
  },
  {
   "cell_type": "code",
   "execution_count": 3,
   "metadata": {},
   "outputs": [],
   "source": [
    "from sklearn.model_selection import train_test_split\n",
    "\n",
    "ds=load_dataset(dataset)\n",
    "d = ds.to_df()\n",
    "text_train, text_test, labels_train, labels_test = train_test_split(d[\"text\"], d[\"self\"], test_size=0.2, stratify=d[\"source\"])"
   ]
  },
  {
   "cell_type": "code",
   "execution_count": 4,
   "metadata": {},
   "outputs": [],
   "source": [
    "from classifiers.sner import SNERConfig, create_train_file, create_config_file, train_sner\n",
    "\n",
    "config = SNERConfig()\n",
    "\n",
    "create_config_file(config)\n",
    "create_train_file(labels_train)\n",
    "\n",
    "#train_sner()"
   ]
  },
  {
   "cell_type": "code",
   "execution_count": 5,
   "metadata": {},
   "outputs": [
    {
     "name": "stdout",
     "output_type": "stream",
     "text": [
      "[LabeledToken(name='Trying', label='0'), LabeledToken(name='to', label='0'), LabeledToken(name='remove', label='Interaction'), LabeledToken(name='the', label='0'), LabeledToken(name='popup', label='Workspace'), LabeledToken(name='``', label='0'), LabeledToken(name='restore', label='0'), LabeledToken(name='session', label='0'), LabeledToken(name='``', label='0'), LabeledToken(name='when', label='0'), LabeledToken(name='Chrome', label='Software'), LabeledToken(name='is', label='0'), LabeledToken(name='starting', label='Internal'), LabeledToken(name='', label='Action'), LabeledToken(name='up', label='Internal'), LabeledToken(name='', label='Action'), LabeledToken(name='with', label='0'), LabeledToken(name='a', label='0')]\n",
      "[LabeledToken(name='Trying', label='0'), LabeledToken(name='to', label='0'), LabeledToken(name='remove', label='Interaction'), LabeledToken(name='the', label='0'), LabeledToken(name='popup', label='Workspace'), LabeledToken(name='``', label='0'), LabeledToken(name='restore', label='0'), LabeledToken(name='session', label='0'), LabeledToken(name=\"''\", label='0'), LabeledToken(name='when', label='0'), LabeledToken(name='Chrome', label='Software'), LabeledToken(name='is', label='0'), LabeledToken(name='starting', label='Internal Action'), LabeledToken(name='up', label='Internal Action'), LabeledToken(name='with', label='0'), LabeledToken(name='a', label='0'), LabeledToken(name='script', label='Internal Data'), LabeledToken(name='.', label='0'), LabeledToken(name=' ', label=' ')]\n"
     ]
    }
   ],
   "source": [
    "\n",
    "\n",
    "from classifiers.sner import classify, get_labeled_token\n",
    "\n",
    "\n",
    "print(classify(text_test.iloc[0]))\n",
    "\n",
    "print(get_labeled_token(labels_test.iloc[0]))"
   ]
  },
  {
   "cell_type": "code",
   "execution_count": null,
   "metadata": {},
   "outputs": [],
   "source": [
    "        "
   ]
  },
  {
   "cell_type": "code",
   "execution_count": null,
   "metadata": {},
   "outputs": [],
   "source": []
  }
 ],
 "metadata": {
  "kernelspec": {
   "display_name": "venv",
   "language": "python",
   "name": "python3"
  },
  "language_info": {
   "codemirror_mode": {
    "name": "ipython",
    "version": 3
   },
   "file_extension": ".py",
   "mimetype": "text/x-python",
   "name": "python",
   "nbconvert_exporter": "python",
   "pygments_lexer": "ipython3",
   "version": "3.11.2"
  },
  "orig_nbformat": 4
 },
 "nbformat": 4,
 "nbformat_minor": 2
}
