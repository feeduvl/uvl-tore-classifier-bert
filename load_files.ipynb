{
 "cells": [
  {
   "cell_type": "code",
   "execution_count": 3,
   "metadata": {},
   "outputs": [],
   "source": [
    "from rich.pretty import pprint\n",
    "from pathlib import Path\n",
    "from typing import List\n",
    "\n",
    "from src.model import ImportDataSet, Dataset\n",
    "\n",
    "from src.dataloading import denormalize_dataset"
   ]
  },
  {
   "cell_type": "code",
   "execution_count": 4,
   "metadata": {},
   "outputs": [
    {
     "name": "stdout",
     "output_type": "stream",
     "text": [
      "forum/anno_test.json\n",
      "forum/anno_train.json\n",
      "prolific/TORE_Coded_Answers_1_33.json\n",
      "prolific/TORE_Coded_Answers_34_66.json\n",
      "prolific/TORE_Coded_Answers_67_100.json\n"
     ]
    }
   ],
   "source": [
    "PATH = Path(\"./data\")\n",
    "dataset_paths = [\"forum/anno_test.json\", \"forum/anno_train.json\", \"prolific/TORE_Coded_Answers_1_33.json\", \"prolific/TORE_Coded_Answers_34_66.json\", \"prolific/TORE_Coded_Answers_67_100.json\"]\n",
    "dataset_paths = dataset_paths\n",
    "\n",
    "\n",
    "datasets: List[Dataset] = []\n",
    "\n",
    "\n",
    "\n",
    "for dataset_path in dataset_paths:\n",
    "    print(dataset_path)\n",
    "    importedDataset = ImportDataSet.parse_file(PATH.joinpath(Path(dataset_path)))\n",
    "    datasets.append(denormalize_dataset(importedDataset))\n"
   ]
  },
  {
   "cell_type": "code",
   "execution_count": 5,
   "metadata": {},
   "outputs": [],
   "source": [
    "from classifiers.sner import SNERConfig, create_train_file, create_config_file\n",
    "\n",
    "config = SNERConfig()\n",
    "\n",
    "create_config_file(config)\n",
    "create_train_file(datasets[0].sentences)"
   ]
  },
  {
   "cell_type": "code",
   "execution_count": null,
   "metadata": {},
   "outputs": [
    {
     "name": "stderr",
     "output_type": "stream",
     "text": [
      "Invoked on Mon Jun 12 20:22:23 CEST 2023 with arguments: -prop /Users/bockstaller/MA/uvl-tore-classifier-bert/src/classifiers/sner/temp/sner_config_file.prop\n",
      "useTypeSeqs2=true\n",
      "noMidNGrams=true\n",
      "useWordPairs=true\n",
      "trainFile=/Users/bockstaller/MA/uvl-tore-classifier-bert/src/classifiers/sner/temp/sner_train_file.txt\n",
      "maxLeft=1\n",
      "serializeTo=/Users/bockstaller/MA/uvl-tore-classifier-bert/src/classifiers/sner/temp/sner.ser.gz\n",
      "wordShape=chris2useLC\n",
      "useWordTag=true\n",
      "useDisjunctive=true\n",
      "useOccurrencePatterns=true\n",
      "useClassFeature=true\n",
      "useNGrams=true\n",
      "useNext=true\n",
      "usePrev=true\n",
      "useGazettes=true\n",
      "useTypeySequences=true\n",
      "useSymTags=True\n",
      "usePrevSequences=true\n",
      "useTypeSeqs=true\n",
      "useSequences=true\n",
      "map=word=0,answer=1\n",
      "useWord=true\n",
      "useShapeConjunctions=True\n",
      "numFeatures = 5132\n",
      "Time to convert docs to feature indices: 0.2 seconds\n",
      "Current memory used: 11m\n",
      "numClasses: 9 [0=O,1=Software,2=Interaction,3=Interaction Data,4=Workspace,5=Domain Data,6=Activity,7=Internal Action,8=Internal Data]\n",
      "numDocuments: 12\n",
      "numDatums: 273\n",
      "numFeatures: 5132\n",
      "Time to convert docs to data/labels: 0.0 seconds\n",
      "Current memory used: 13m\n",
      "Running gradient on 4 threads\n",
      "numWeights: 99612\n",
      "QNMinimizer called on double function of 99612 variables, using M = 25.\n",
      "               An explanation of the output:\n",
      "Iter           The number of iterations\n",
      "evals          The number of function evaluations\n",
      "SCALING        <D> Diagonal scaling was used; <I> Scaled Identity\n",
      "LINESEARCH     [## M steplength]  Minpack linesearch\n",
      "                   1-Function value was too high\n",
      "                   2-Value ok, gradient positive, positive curvature\n",
      "                   3-Value ok, gradient negative, positive curvature\n",
      "                   4-Value ok, gradient negative, negative curvature\n",
      "               [.. B]  Backtracking\n",
      "VALUE          The current function value\n",
      "TIME           Total elapsed time\n",
      "|GNORM|        The current norm of the gradient\n",
      "{RELNORM}      The ratio of the current to initial gradient norms\n",
      "AVEIMPROVE     The average improvement / current value\n",
      "EVALSCORE      The last available eval score\n",
      " \n",
      "Iter ## evals ## <SCALING> [LINESEARCH] VALUE TIME |GNORM| {RELNORM} AVEIMPROVE EVALSCORE\n",
      "\n",
      "Iter 1 evals 1 <D> [M 1,000E-1] 1,603E4 0,12s |4,459E2| {1,291E0} 0,000E0 - \n",
      "Iter 2 evals 2 <D> [M 1,000E0] 1,425E4 0,17s |4,393E2| {1,272E0} 6,245E-2 - \n",
      "Iter 3 evals 3 <D> [M 1,000E0] 1,058E4 0,23s |2,148E2| {6,216E-1} 1,717E-1 - \n",
      "Iter 4 evals 4 <D> [M 1,000E0] 7,710E3 0,27s |1,605E2| {4,646E-1} 2,698E-1 - \n",
      "Iter 5 evals 5 <D> [1M 3,099E-1] 3,713E3 0,37s |1,093E2| {3,163E-1} 6,634E-1 - \n",
      "Iter 6 evals 7 <D> [M 1,000E0] 2,821E3 0,41s |3,078E2| {8,908E-1} 7,803E-1 - \n",
      "Iter 7 evals 8 <D> [M 1,000E0] 1,597E3 0,44s |6,534E1| {1,891E-1} 1,291E0 - \n",
      "Iter 8 evals 9 <D> [M 1,000E0] 1,183E3 0,48s |5,500E1| {1,592E-1} 1,568E0 - \n",
      "Iter 9 evals 10 <D> [1M 3,313E-1] 7,763E2 0,54s |9,256E1| {2,679E-1} 2,183E0 - \n",
      "Iter 10 evals 12 <D> [M 1,000E0] 4,171E2 0,57s |7,521E1| {2,177E-1} 3,743E0 - \n",
      "Iter 11 evals 13 <D> [M 1,000E0] 4,115E2 0,62s |1,604E2| {4,642E-1} 3,363E0 - \n",
      "Iter 12 evals 14 <D> [M 1,000E0] 2,704E2 0,66s |3,195E1| {9,249E-2} 3,813E0 - \n",
      "Iter 13 evals 15 <D> [M 1,000E0] 1,960E2 0,75s |2,755E1| {7,975E-2} 3,834E0 - \n",
      "Iter 14 evals 16 <D> [1M 2,568E-1] 1,604E2 0,90s |1,971E1| {5,704E-2} 2,216E0 - \n",
      "Iter 15 evals 18 <D> [1M 1,617E-1] 1,455E2 0,97s |1,987E1| {5,752E-2} 1,838E0 - \n",
      "Iter 16 evals 20 <D> [2M 3,087E-1] 1,173E2 1,05s |1,591E1| {4,604E-2} 1,262E0 - \n",
      "Iter 17 evals 22 <D> [M 1,000E0] 9,443E1 1,12s |3,849E1| {1,114E-1} 1,153E0 - \n",
      "Iter 18 evals 23 <D> [M 1,000E0] 7,755E1 1,16s |1,546E1| {4,475E-2} 9,010E-1 - \n",
      "Iter 19 evals 24 <D> [M 1,000E0] 7,044E1 1,20s |1,088E1| {3,150E-2} 4,921E-1 - \n",
      "Iter 20 evals 25 <D> [M 1,000E0] 6,310E1 1,29s |1,856E1| {5,372E-2} 5,522E-1 - \n",
      "Iter 21 evals 26 <D> [M 1,000E0] 5,649E1 1,34s |8,560E0| {2,478E-2} 3,787E-1 - \n",
      "Iter 22 evals 27 <D> [M 1,000E0] 5,337E1 1,38s |5,526E0| {1,599E-2} 2,672E-1 - \n",
      "Iter 23 evals 28 <D> [M 1,000E0] 5,013E1 1,44s |4,890E0| {1,415E-2} 2,199E-1 - \n",
      "Iter 24 evals 29 <D> [M 1,000E0] 4,888E1 1,48s |3,472E0| {1,005E-2} 1,978E-1 - \n",
      "Iter 25 evals 30 <D> [M 1,000E0] 4,804E1 1,52s |2,200E0| {6,368E-3} 1,441E-1 - \n",
      "Iter 26 evals 31 <D> [M 1,000E0] 4,758E1 1,55s |1,839E0| {5,322E-3} 9,847E-2 - \n",
      "Iter 27 evals 32 <D> [M 1,000E0] 4,748E1 1,59s |2,229E0| {6,451E-3} 6,334E-2 - \n",
      "Iter 28 evals 33 <D> [M 1,000E0] 4,736E1 1,62s |8,499E-1| {2,460E-3} 4,873E-2 - \n",
      "Iter 29 evals 34 <D> [M 1,000E0] 4,731E1 1,67s |5,010E-1| {1,450E-3} 3,336E-2 - \n",
      "Iter 30 evals 35 <D> [M 1,000E0] 4,730E1 1,71s |5,129E-1| {1,485E-3} 1,943E-2 - \n",
      "Iter 31 evals 36 <D> [M 1,000E0] 4,729E1 1,74s |2,506E-1| {7,253E-4} 1,287E-2 - \n",
      "Iter 32 evals 37 <D> [M 1,000E0] 4,728E1 1,79s |1,828E-1| {5,291E-4} 6,023E-3 - \n",
      "Iter 33 evals 38 <D> [M 1,000E0] 4,728E1 1,82s |1,175E-1| {3,401E-4} 3,371E-3 - \n",
      "Iter 34 evals 39 <D> [M 1,000E0] 4,728E1 1,87s |6,746E-2| {1,953E-4} 1,614E-3 - \n",
      "Iter 35 evals 40 <D> [M 1,000E0] 4,728E1 1,94s |1,198E-1| {3,468E-4} 6,274E-4 - \n",
      "Iter 36 evals 41 <D> [M 1,000E0] 4,728E1 1,98s |5,636E-2| {1,631E-4} 4,151E-4 - \n",
      "Iter 37 evals 42 <D> [M 1,000E0] 4,728E1 2,01s |3,763E-2| {1,089E-4} 1,676E-4 - \n",
      "QNMinimizer terminated due to average improvement: | newest_val - previous_val | / |newestVal| < TOL \n",
      "Total time spent in optimization: 2,07s\n",
      "CRFClassifier training ... done [2.5 sec].\n",
      "Serializing classifier to /Users/bockstaller/MA/uvl-tore-classifier-bert/src/classifiers/sner/temp/sner.ser.gz... done.\n"
     ]
    }
   ],
   "source": [
    "from classifiers.sner import train_sner\n",
    "train_sner()"
   ]
  },
  {
   "cell_type": "code",
   "execution_count": null,
   "metadata": {},
   "outputs": [],
   "source": [
    "\n"
   ]
  },
  {
   "cell_type": "code",
   "execution_count": null,
   "metadata": {},
   "outputs": [],
   "source": []
  }
 ],
 "metadata": {
  "kernelspec": {
   "display_name": "venv",
   "language": "python",
   "name": "python3"
  },
  "language_info": {
   "codemirror_mode": {
    "name": "ipython",
    "version": 3
   },
   "file_extension": ".py",
   "mimetype": "text/x-python",
   "name": "python",
   "nbconvert_exporter": "python",
   "pygments_lexer": "ipython3",
   "version": "3.11.2"
  },
  "orig_nbformat": 4
 },
 "nbformat": 4,
 "nbformat_minor": 2
}
