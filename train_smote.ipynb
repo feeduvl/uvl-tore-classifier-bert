{
 "cells": [
  {
   "cell_type": "code",
   "execution_count": 1,
   "metadata": {
    "ExecuteTime": {
     "end_time": "2024-01-26T11:53:20.508048600Z",
     "start_time": "2024-01-26T11:53:20.164359Z"
    }
   },
   "outputs": [],
   "source": [
    "%load_ext autoreload\n",
    "%autoreload 2"
   ]
  },
  {
   "cell_type": "code",
   "execution_count": 2,
   "metadata": {
    "ExecuteTime": {
     "end_time": "2024-01-26T11:53:22.359784200Z",
     "start_time": "2024-01-26T11:53:22.030132300Z"
    }
   },
   "outputs": [],
   "source": [
    "import logging\n",
    "import shutil\n",
    "from omegaconf import OmegaConf\n",
    "from hydra import initialize, compose\n",
    "from hydra.core.config_store import ConfigStore\n",
    "import mlflow\n",
    "from src.experiments.sner import sner\n",
    "from pathlib import Path\n",
    "\n",
    "import os\n",
    "\n",
    "logging.basicConfig(\n",
    "    format=\"%(asctime)s %(levelname)s:%(message)s\",\n",
    "    level=logging.INFO,\n",
    "    datefmt=\"%I:%M:%S\",\n",
    ")\n",
    "logger = logging.getLogger(\"training\")"
   ]
  },
  {
   "cell_type": "code",
   "execution_count": null,
   "metadata": {
    "ExecuteTime": {
     "end_time": "2024-01-26T11:53:23.730606Z",
     "start_time": "2024-01-26T11:53:23.234300100Z"
    }
   },
   "outputs": [],
   "source": [
    "mlflow.get_tracking_uri()"
   ]
  },
  {
   "cell_type": "code",
   "execution_count": 4,
   "metadata": {
    "ExecuteTime": {
     "end_time": "2024-01-26T11:53:24.276333500Z",
     "start_time": "2024-01-26T11:53:23.967231900Z"
    }
   },
   "outputs": [
    {
     "name": "stdout",
     "output_type": "stream",
     "text": [
      "run_experiments=True\n",
      "pin_commits=False\n"
     ]
    }
   ],
   "source": [
    "sentence_length = 106\n",
    "\n",
    "run_experiments = os.getenv(\"UVL_BERT_RUN_EXPERIMENTS\", \"True\") == \"True\"\n",
    "pin_commits = os.getenv(\"UVL_BERT_PIN_COMMITS\", \"True\") == \"FALSE\"\n",
    "\n",
    "print(f\"{run_experiments=}\")\n",
    "print(f\"{pin_commits=}\")"
   ]
  },
  {
   "cell_type": "code",
   "execution_count": 5,
   "metadata": {
    "ExecuteTime": {
     "end_time": "2024-01-26T14:55:18.073873Z",
     "start_time": "2024-01-26T14:55:15.614861400Z"
    }
   },
   "outputs": [],
   "source": [
    "from tooling.config import Experiment, Transformation\n",
    "\n",
    "smote_experiment_config = Experiment(\n",
    "    name=\"SMOTE_BERT_Config\",\n",
    "    iterations=5,\n",
    "    force=False,\n",
    "    dataset=\"all\",\n",
    "    lower_case=True,\n",
    "    smote = True,\n",
    "    smote_k_neighbors = 5,\n",
    "    smote_sampling_strategy = 'not majority'\n",
    ")\n",
    "\n",
    "levels_transformation_config = Transformation(\n",
    "    description=\"Levels\",\n",
    "    type=\"Reduced\",\n",
    "    task=\"Domain_Level\",\n",
    "    domain_data=\"Domain_Level\",\n",
    "    activity=\"Domain_Level\",\n",
    "    stakeholder=\"Domain_Level\",\n",
    "    system_function=\"Interaction_Level\",\n",
    "    interaction=\"Interaction_Level\",\n",
    "    interaction_data=\"Domain_Level\",\n",
    "    workspace=\"Interaction_Level\",\n",
    "    software=\"System_Level\",\n",
    "    internal_action=\"System_Level\",\n",
    "    internal_data=\"System_Level\",\n",
    "    system_level=\"System_Level\",\n",
    ")\n",
    "\n",
    "label_transformation_config = Transformation(\n",
    "    description=\"None\",\n",
    "    type=\"Full\",\n",
    "    task=\"Task\",\n",
    "    domain_data=\"Domain_Data\",\n",
    "    activity=\"Activity\",\n",
    "    stakeholder=\"Stakeholder\",\n",
    "    system_function=\"System_Function\",\n",
    "    interaction=\"Interaction\",\n",
    "    interaction_data=\"Interaction_Data\",\n",
    "    workspace=\"Workspace\",\n",
    "    software=\"System_Level\",\n",
    "    internal_action=\"System_Level\",\n",
    "    internal_data=\"System_Level\",\n",
    "    system_level=\"System_Level\",\n",
    ")"
   ]
  },
  {
   "cell_type": "code",
   "execution_count": 6,
   "metadata": {
    "ExecuteTime": {
     "end_time": "2024-01-26T14:55:19.997740500Z",
     "start_time": "2024-01-26T14:55:18.833065200Z"
    }
   },
   "outputs": [
    {
     "name": "stderr",
     "output_type": "stream",
     "text": [
      "08:46:46 INFO:Hint Label2Id: hint_label2id={'0': 0, 'System_Level': 1, 'Domain_Level': 2, 'Interaction_Level': 3}\n",
      "08:46:46 INFO:Hint Label2Id: hint_label2id={'0': 0, 'Task': 1, 'Domain_Data': 2, 'Activity': 3, 'Stakeholder': 4, 'System_Function': 5, 'Interaction': 6, 'Interaction_Data': 7, 'Workspace': 8, 'System_Level': 9}\n"
     ]
    }
   ],
   "source": [
    "from tooling.transformation import get_hint_transformation\n",
    "import pickle\n",
    "\n",
    "hint_transformation = get_hint_transformation(\n",
    "    transformation_cfg=OmegaConf.structured(levels_transformation_config)\n",
    ")\n",
    "\n",
    "Path(\"./src/service/models/\").mkdir(parents=True, exist_ok=True)\n",
    "\n",
    "hint_label2id = hint_transformation[\"label2id\"]\n",
    "pickle.dump(\n",
    "    hint_label2id, open(\"./src/service/models/hint_label2id.pickle\", \"wb\")\n",
    ")\n",
    "hint_id2label = {y: x for x, y in hint_label2id.items()}\n",
    "pickle.dump(\n",
    "    hint_id2label, open(\"./src/service/models/hint_id2label.pickle\", \"wb\")\n",
    ")\n",
    "\n",
    "transformation = get_hint_transformation(\n",
    "    transformation_cfg=OmegaConf.structured(label_transformation_config)\n",
    ")\n",
    "label2id = transformation[\"label2id\"]\n",
    "pickle.dump(label2id, open(\"./src/service/models/label2id.pickle\", \"wb\"))\n",
    "id2label = {y: x for x, y in label2id.items()}\n",
    "pickle.dump(id2label, open(\"./src/service/models/id2label.pickle\", \"wb\"))"
   ]
  },
  {
   "cell_type": "markdown",
   "metadata": {},
   "source": [
    "## Train BERT First Stage Model with SMOTE\n"
   ]
  },
  {
   "cell_type": "code",
   "execution_count": 7,
   "metadata": {
    "ExecuteTime": {
     "end_time": "2023-11-06T14:32:18.269867300Z",
     "start_time": "2023-11-06T11:34:28.874075100Z"
    }
   },
   "outputs": [
    {
     "name": "stderr",
     "output_type": "stream",
     "text": [
      "08:46:47 INFO:PyTorch version 2.2.2 available.\n",
      "08:46:47 INFO:TensorFlow version 2.16.1 available.\n",
      "2024-05-07 20:46:47.984028: I tensorflow/core/util/port.cc:113] oneDNN custom operations are on. You may see slightly different numerical results due to floating-point round-off errors from different computation orders. To turn them off, set the environment variable `TF_ENABLE_ONEDNN_OPTS=0`.\n",
      "2024-05-07 20:46:48.216664: I tensorflow/core/platform/cpu_feature_guard.cc:210] This TensorFlow binary is optimized to use available CPU instructions in performance-critical operations.\n",
      "To enable the following instructions: AVX2 AVX512F AVX512_VNNI AVX512_BF16 FMA, in other operations, rebuild TensorFlow with the appropriate compiler flags.\n",
      "2024-05-07 20:46:48.814112: W tensorflow/compiler/tf2tensorrt/utils/py_utils.cc:38] TF-TRT Warning: Could not find TensorRT\n",
      "08:46:49 INFO:\n",
      "bert:\n",
      "  model: bert-base-uncased\n",
      "  type: BERT\n",
      "  max_len: 123\n",
      "  train_batch_size: 8\n",
      "  validation_batch_size: 64\n",
      "  number_epochs: 8\n",
      "  learning_rate_bert: 3.0e-05\n",
      "  learning_rate_classifier: 0.0005\n",
      "  weight_decay: 0.01\n",
      "  weighted_classes: true\n",
      "experiment:\n",
      "  name: SMOTE_BERT_TORE_LEVELS\n",
      "  description: ''\n",
      "  random_state: 125\n",
      "  folds: 5\n",
      "  iterations: 5\n",
      "  average: macro\n",
      "  dataset: all\n",
      "  lower_case: true\n",
      "  force: false\n",
      "  pin_commit: false\n",
      "  smote: true\n",
      "  smote_k_neighbors: 5\n",
      "  smote_sampling_strategy: not majority\n",
      "transformation:\n",
      "  description: Levels\n",
      "  type: Reduced\n",
      "  task: Domain_Level\n",
      "  goals: null\n",
      "  domain_data: Domain_Level\n",
      "  activity: Domain_Level\n",
      "  stakeholder: Domain_Level\n",
      "  system_function: Interaction_Level\n",
      "  interaction: Interaction_Level\n",
      "  interaction_data: Domain_Level\n",
      "  workspace: Interaction_Level\n",
      "  software: System_Level\n",
      "  internal_action: System_Level\n",
      "  internal_data: System_Level\n",
      "  system_level: System_Level\n",
      "\n",
      "08:46:49 INFO:New experiment. Running\n",
      "08:46:49 INFO:Entering mlflow context\n",
      "2024/05/07 20:46:49 WARNING mlflow.utils.git_utils: Failed to import Git (the Git executable is probably not on your PATH), so Git SHA is not available. Error: Failed to initialize: Bad git executable.\n",
      "The git executable must be specified in one of the following ways:\n",
      "    - be included in your $PATH\n",
      "    - be set via $GIT_PYTHON_GIT_EXECUTABLE\n",
      "    - explicitly set via git.refresh(<full-path-to-git-executable>)\n",
      "\n",
      "All git commands will error until this is rectified.\n",
      "\n",
      "This initial message can be silenced or aggravated in the future by setting the\n",
      "$GIT_PYTHON_REFRESH environment variable. Use one of the following values:\n",
      "    - quiet|q|silence|s|silent|none|n|0: for no message or exception\n",
      "    - warn|w|warning|log|l|1: for a warning message (logging level CRITICAL, displayed by default)\n",
      "    - error|e|exception|raise|r|2: for a raised exception\n",
      "\n",
      "Example:\n",
      "    export GIT_PYTHON_REFRESH=quiet\n",
      "\n",
      "08:46:49 INFO:Importing dataset: anno from /home/daniel/uvl-tore-classifier-bert/src/data/datasets/forum/anno_test.json\n",
      "08:46:49 INFO:Importing dataset: anno from /home/daniel/uvl-tore-classifier-bert/src/data/datasets/forum/anno_train.json\n",
      "08:46:49 INFO:Importing dataset: prolific from /home/daniel/uvl-tore-classifier-bert/src/data/datasets/prolific/TORE_Coded_Answers_1_33.json\n",
      "08:46:49 INFO:Importing dataset: prolific from /home/daniel/uvl-tore-classifier-bert/src/data/datasets/prolific/TORE_Coded_Answers_34_66.json\n",
      "08:46:50 INFO:Importing dataset: prolific from /home/daniel/uvl-tore-classifier-bert/src/data/datasets/prolific/TORE_Coded_Answers_67_100.json\n",
      "08:46:50 INFO:Importing dataset: komoot from /home/daniel/uvl-tore-classifier-bert/src/data/datasets/app/Komoot_AppReview.json\n",
      "08:46:51 INFO:Dataset Labels: transformed_dataset['labels']=['Domain_Level', '0', 'System_Level', 'Interaction_Level']\n",
      "08:46:51 INFO:Class weights: {'0': 0.33736363, 'System_Level': 6.415328, 'Domain_Level': 1.9850894, 'Interaction_Level': 2.65811}\n",
      "08:46:51 INFO:Configured maximal token sequence length: max_len = 123\n"
     ]
    },
    {
     "name": "stdout",
     "output_type": "stream",
     "text": [
      "Entered apply_smote()\n",
      "Counter original:  Counter({'Domain_Level': 5659, 'Interaction_Level': 4253, 'System_Level': 1729})\n"
     ]
    },
    {
     "name": "stderr",
     "output_type": "stream",
     "text": [
      "08:46:52 INFO:Created fold datasets for fold: 0, stored at paths=[PosixPath('/home/daniel/uvl-tore-classifier-bert/src/data/temp/sampling/exultant-mouse-891/0_data_train.pickle'), PosixPath('/home/daniel/uvl-tore-classifier-bert/src/data/temp/sampling/exultant-mouse-891/0_data_train.csv'), PosixPath('/home/daniel/uvl-tore-classifier-bert/src/data/temp/sampling/exultant-mouse-891/0_data_test.pickle'), PosixPath('/home/daniel/uvl-tore-classifier-bert/src/data/temp/sampling/exultant-mouse-891/0_data_test.csv')]\n",
      "08:46:52 INFO:Starting iteration=0\n"
     ]
    },
    {
     "name": "stdout",
     "output_type": "stream",
     "text": [
      "Counter SMOTE:  Counter({'System_Level': 5659, 'Interaction_Level': 5659, 'Domain_Level': 5659})\n"
     ]
    },
    {
     "data": {
      "application/vnd.jupyter.widget-view+json": {
       "model_id": "5ccd33bd56a245169c016a894b9d7501",
       "version_major": 2,
       "version_minor": 0
      },
      "text/plain": [
       "Map:   0%|          | 0/7824 [00:00<?, ? examples/s]"
      ]
     },
     "metadata": {},
     "output_type": "display_data"
    },
    {
     "data": {
      "application/vnd.jupyter.widget-view+json": {
       "model_id": "8e3e140ca20c4599a72083773e2643c8",
       "version_major": 2,
       "version_minor": 0
      },
      "text/plain": [
       "Map:   0%|          | 0/622 [00:00<?, ? examples/s]"
      ]
     },
     "metadata": {},
     "output_type": "display_data"
    },
    {
     "name": "stdout",
     "output_type": "stream",
     "text": [
      "{'loss': 0.442, 'grad_norm': 9.419901847839355, 'learning_rate': 2.8082822085889573e-05, 'epoch': 0.5112474437627812}\n"
     ]
    },
    {
     "name": "stderr",
     "output_type": "stream",
     "text": [
      "08:47:30 INFO:Logged iteration result res.precision=0.7208865441361818 res.recall=0.8065305881558544\n"
     ]
    },
    {
     "name": "stdout",
     "output_type": "stream",
     "text": [
      "{'eval_loss': 0.5715985298156738, 'eval_step': 0, 'eval_precision': 0.7208865441361818, 'eval_recall': 0.8065305881558544, 'eval_f1': 0.7613074858775792, 'eval_label_count': 4, 'eval_runtime': 0.6735, 'eval_samples_per_second': 923.543, 'eval_steps_per_second': 14.848, 'epoch': 1.0}\n",
      "{'loss': 0.3578, 'grad_norm': 2.458606004714966, 'learning_rate': 2.616564417177914e-05, 'epoch': 1.0224948875255624}\n",
      "{'loss': 0.2549, 'grad_norm': 7.367537021636963, 'learning_rate': 2.4248466257668714e-05, 'epoch': 1.5337423312883436}\n"
     ]
    },
    {
     "name": "stderr",
     "output_type": "stream",
     "text": [
      "08:48:07 INFO:Logged iteration result res.precision=0.7521680257075116 res.recall=0.8021441364080344\n"
     ]
    },
    {
     "name": "stdout",
     "output_type": "stream",
     "text": [
      "{'eval_loss': 0.6456784605979919, 'eval_step': 2, 'eval_precision': 0.7521680257075116, 'eval_recall': 0.8021441364080344, 'eval_f1': 0.7763526351021834, 'eval_label_count': 4, 'eval_runtime': 0.6685, 'eval_samples_per_second': 930.462, 'eval_steps_per_second': 14.959, 'epoch': 2.0}\n",
      "{'loss': 0.2351, 'grad_norm': 7.745644569396973, 'learning_rate': 2.2331288343558283e-05, 'epoch': 2.044989775051125}\n",
      "{'loss': 0.1495, 'grad_norm': 5.955079078674316, 'learning_rate': 2.0414110429447855e-05, 'epoch': 2.556237218813906}\n"
     ]
    },
    {
     "name": "stderr",
     "output_type": "stream",
     "text": [
      "08:48:45 INFO:Logged iteration result res.precision=0.7261124341450995 res.recall=0.8103430271615388\n"
     ]
    },
    {
     "name": "stdout",
     "output_type": "stream",
     "text": [
      "{'eval_loss': 0.7550985217094421, 'eval_step': 4, 'eval_precision': 0.7261124341450995, 'eval_recall': 0.8103430271615388, 'eval_f1': 0.7659189124094543, 'eval_label_count': 4, 'eval_runtime': 0.6696, 'eval_samples_per_second': 928.907, 'eval_steps_per_second': 14.934, 'epoch': 3.0}\n",
      "{'loss': 0.1425, 'grad_norm': 13.662353515625, 'learning_rate': 1.8496932515337423e-05, 'epoch': 3.067484662576687}\n",
      "{'loss': 0.0998, 'grad_norm': 0.36300936341285706, 'learning_rate': 1.6579754601226996e-05, 'epoch': 3.5787321063394684}\n"
     ]
    },
    {
     "name": "stderr",
     "output_type": "stream",
     "text": [
      "08:49:22 INFO:Logged iteration result res.precision=0.771519818627947 res.recall=0.7922955113753203\n"
     ]
    },
    {
     "name": "stdout",
     "output_type": "stream",
     "text": [
      "{'eval_loss': 1.0650826692581177, 'eval_step': 6, 'eval_precision': 0.771519818627947, 'eval_recall': 0.7922955113753203, 'eval_f1': 0.7817696597650652, 'eval_label_count': 4, 'eval_runtime': 0.6717, 'eval_samples_per_second': 925.968, 'eval_steps_per_second': 14.887, 'epoch': 4.0}\n",
      "{'loss': 0.0862, 'grad_norm': 1.017048716545105, 'learning_rate': 1.4662576687116564e-05, 'epoch': 4.08997955010225}\n",
      "{'loss': 0.0618, 'grad_norm': 0.22619770467281342, 'learning_rate': 1.2745398773006135e-05, 'epoch': 4.601226993865031}\n"
     ]
    },
    {
     "name": "stderr",
     "output_type": "stream",
     "text": [
      "08:50:00 INFO:Logged iteration result res.precision=0.785665912349241 res.recall=0.7914397364709346\n"
     ]
    },
    {
     "name": "stdout",
     "output_type": "stream",
     "text": [
      "{'eval_loss': 1.313722848892212, 'eval_step': 8, 'eval_precision': 0.785665912349241, 'eval_recall': 0.7914397364709346, 'eval_f1': 0.7885422553511876, 'eval_label_count': 4, 'eval_runtime': 0.6819, 'eval_samples_per_second': 912.144, 'eval_steps_per_second': 14.665, 'epoch': 5.0}\n",
      "{'loss': 0.063, 'grad_norm': 2.395378351211548, 'learning_rate': 1.0828220858895705e-05, 'epoch': 5.112474437627812}\n",
      "{'loss': 0.0529, 'grad_norm': 1.0334570407867432, 'learning_rate': 8.911042944785276e-06, 'epoch': 5.623721881390593}\n"
     ]
    },
    {
     "name": "stderr",
     "output_type": "stream",
     "text": [
      "08:50:38 INFO:Logged iteration result res.precision=0.8080061256421927 res.recall=0.778800512237418\n"
     ]
    },
    {
     "name": "stdout",
     "output_type": "stream",
     "text": [
      "{'eval_loss': 1.6951779127120972, 'eval_step': 10, 'eval_precision': 0.8080061256421927, 'eval_recall': 0.778800512237418, 'eval_f1': 0.7931345502587361, 'eval_label_count': 4, 'eval_runtime': 0.6776, 'eval_samples_per_second': 917.989, 'eval_steps_per_second': 14.759, 'epoch': 6.0}\n",
      "{'loss': 0.0435, 'grad_norm': 0.14496460556983948, 'learning_rate': 6.993865030674846e-06, 'epoch': 6.134969325153374}\n",
      "{'loss': 0.0395, 'grad_norm': 2.767594575881958, 'learning_rate': 5.076687116564417e-06, 'epoch': 6.6462167689161555}\n"
     ]
    },
    {
     "name": "stderr",
     "output_type": "stream",
     "text": [
      "08:51:16 INFO:Logged iteration result res.precision=0.8005974995101424 res.recall=0.786612539478866\n"
     ]
    },
    {
     "name": "stdout",
     "output_type": "stream",
     "text": [
      "{'eval_loss': 1.729803442955017, 'eval_step': 12, 'eval_precision': 0.8005974995101424, 'eval_recall': 0.786612539478866, 'eval_f1': 0.7935434085223354, 'eval_label_count': 4, 'eval_runtime': 0.6804, 'eval_samples_per_second': 914.198, 'eval_steps_per_second': 14.698, 'epoch': 7.0}\n",
      "{'loss': 0.0428, 'grad_norm': 1.3004306554794312, 'learning_rate': 3.1595092024539878e-06, 'epoch': 7.157464212678937}\n",
      "{'loss': 0.0335, 'grad_norm': 1.6816847324371338, 'learning_rate': 1.2423312883435582e-06, 'epoch': 7.668711656441718}\n"
     ]
    },
    {
     "name": "stderr",
     "output_type": "stream",
     "text": [
      "08:51:54 INFO:Logged iteration result res.precision=0.8035893861360182 res.recall=0.7839364926119227\n"
     ]
    },
    {
     "name": "stdout",
     "output_type": "stream",
     "text": [
      "{'eval_loss': 1.8086155652999878, 'eval_step': 14, 'eval_precision': 0.8035893861360182, 'eval_recall': 0.7839364926119227, 'eval_f1': 0.7936412921526432, 'eval_label_count': 4, 'eval_runtime': 0.672, 'eval_samples_per_second': 925.652, 'eval_steps_per_second': 14.882, 'epoch': 8.0}\n",
      "{'train_runtime': 302.6074, 'train_samples_per_second': 206.842, 'train_steps_per_second': 25.855, 'train_loss': 0.1360459885958026, 'epoch': 8.0}\n"
     ]
    },
    {
     "name": "stderr",
     "output_type": "stream",
     "text": [
      "08:51:57 INFO:Logged iteration result res.precision=0.8035893861360182 res.recall=0.7839364926119227\n",
      "08:51:57 INFO:Logged iteration result res.precision=0.8035893861360182 res.recall=0.7839364926119227\n",
      "08:51:57 INFO:Finished iteration=0\n",
      "08:51:57 INFO:Logging model artifact (might take a while)\n"
     ]
    },
    {
     "name": "stdout",
     "output_type": "stream",
     "text": [
      "Entered apply_smote()\n",
      "Counter original:  Counter({'Domain_Level': 5659, 'Interaction_Level': 4280, 'System_Level': 1722})\n"
     ]
    },
    {
     "name": "stderr",
     "output_type": "stream",
     "text": [
      "08:51:59 INFO:Created fold datasets for fold: 1, stored at paths=[PosixPath('/home/daniel/uvl-tore-classifier-bert/src/data/temp/sampling/exultant-mouse-891/1_data_train.pickle'), PosixPath('/home/daniel/uvl-tore-classifier-bert/src/data/temp/sampling/exultant-mouse-891/1_data_train.csv'), PosixPath('/home/daniel/uvl-tore-classifier-bert/src/data/temp/sampling/exultant-mouse-891/1_data_test.pickle'), PosixPath('/home/daniel/uvl-tore-classifier-bert/src/data/temp/sampling/exultant-mouse-891/1_data_test.csv')]\n",
      "08:51:59 INFO:Starting iteration=1\n"
     ]
    },
    {
     "name": "stdout",
     "output_type": "stream",
     "text": [
      "Counter SMOTE:  Counter({'Interaction_Level': 5659, 'Domain_Level': 5659, 'System_Level': 5659})\n"
     ]
    },
    {
     "data": {
      "application/vnd.jupyter.widget-view+json": {
       "model_id": "7554a53162634c86af3b6fa01e650a2c",
       "version_major": 2,
       "version_minor": 0
      },
      "text/plain": [
       "Map:   0%|          | 0/7804 [00:00<?, ? examples/s]"
      ]
     },
     "metadata": {},
     "output_type": "display_data"
    },
    {
     "data": {
      "application/vnd.jupyter.widget-view+json": {
       "model_id": "2faad60c2a5747ce89ae44712dd64538",
       "version_major": 2,
       "version_minor": 0
      },
      "text/plain": [
       "Map:   0%|          | 0/622 [00:00<?, ? examples/s]"
      ]
     },
     "metadata": {},
     "output_type": "display_data"
    },
    {
     "name": "stdout",
     "output_type": "stream",
     "text": [
      "{'loss': 0.4577, 'grad_norm': 2.162182569503784, 'learning_rate': 2.807889344262295e-05, 'epoch': 0.5122950819672131}\n"
     ]
    },
    {
     "name": "stderr",
     "output_type": "stream",
     "text": [
      "08:52:36 INFO:Logged iteration result res.precision=0.7107030920809301 res.recall=0.8085744421019424\n"
     ]
    },
    {
     "name": "stdout",
     "output_type": "stream",
     "text": [
      "{'eval_loss': 0.5495935678482056, 'eval_step': 0, 'eval_precision': 0.7107030920809301, 'eval_recall': 0.8085744421019424, 'eval_f1': 0.7564863472934014, 'eval_label_count': 4, 'eval_runtime': 0.6398, 'eval_samples_per_second': 972.11, 'eval_steps_per_second': 15.629, 'epoch': 1.0}\n",
      "{'loss': 0.3549, 'grad_norm': 4.210300445556641, 'learning_rate': 2.6157786885245904e-05, 'epoch': 1.0245901639344261}\n",
      "{'loss': 0.2552, 'grad_norm': 0.338413268327713, 'learning_rate': 2.4236680327868852e-05, 'epoch': 1.5368852459016393}\n"
     ]
    },
    {
     "name": "stderr",
     "output_type": "stream",
     "text": [
      "08:53:11 INFO:Logged iteration result res.precision=0.7137733492692125 res.recall=0.8040733471504425\n"
     ]
    },
    {
     "name": "stdout",
     "output_type": "stream",
     "text": [
      "{'eval_loss': 0.6613175868988037, 'eval_step': 2, 'eval_precision': 0.7137733492692125, 'eval_recall': 0.8040733471504425, 'eval_f1': 0.7562372766728983, 'eval_label_count': 4, 'eval_runtime': 0.6385, 'eval_samples_per_second': 974.155, 'eval_steps_per_second': 15.662, 'epoch': 2.0}\n",
      "{'loss': 0.2261, 'grad_norm': 4.576366901397705, 'learning_rate': 2.2315573770491804e-05, 'epoch': 2.0491803278688523}\n",
      "{'loss': 0.1581, 'grad_norm': 9.97079086303711, 'learning_rate': 2.0394467213114756e-05, 'epoch': 2.5614754098360657}\n"
     ]
    },
    {
     "name": "stderr",
     "output_type": "stream",
     "text": [
      "08:53:46 INFO:Logged iteration result res.precision=0.7280535434877246 res.recall=0.8048470849815196\n"
     ]
    },
    {
     "name": "stdout",
     "output_type": "stream",
     "text": [
      "{'eval_loss': 0.7395983934402466, 'eval_step': 4, 'eval_precision': 0.7280535434877246, 'eval_recall': 0.8048470849815196, 'eval_f1': 0.7645267557515624, 'eval_label_count': 4, 'eval_runtime': 0.6365, 'eval_samples_per_second': 977.266, 'eval_steps_per_second': 15.712, 'epoch': 3.0}\n",
      "{'loss': 0.1337, 'grad_norm': 8.565778732299805, 'learning_rate': 1.8473360655737704e-05, 'epoch': 3.0737704918032787}\n",
      "{'loss': 0.0966, 'grad_norm': 2.2295660972595215, 'learning_rate': 1.6552254098360656e-05, 'epoch': 3.586065573770492}\n"
     ]
    },
    {
     "name": "stderr",
     "output_type": "stream",
     "text": [
      "08:54:22 INFO:Logged iteration result res.precision=0.7696429987560583 res.recall=0.7987069573965295\n"
     ]
    },
    {
     "name": "stdout",
     "output_type": "stream",
     "text": [
      "{'eval_loss': 1.0887266397476196, 'eval_step': 6, 'eval_precision': 0.7696429987560583, 'eval_recall': 0.7987069573965295, 'eval_f1': 0.7839056779470271, 'eval_label_count': 4, 'eval_runtime': 0.6372, 'eval_samples_per_second': 976.2, 'eval_steps_per_second': 15.695, 'epoch': 4.0}\n",
      "{'loss': 0.0906, 'grad_norm': 0.7193307876586914, 'learning_rate': 1.4631147540983607e-05, 'epoch': 4.098360655737705}\n",
      "{'loss': 0.071, 'grad_norm': 1.195347547531128, 'learning_rate': 1.2710040983606557e-05, 'epoch': 4.610655737704918}\n"
     ]
    },
    {
     "name": "stderr",
     "output_type": "stream",
     "text": [
      "08:54:57 INFO:Logged iteration result res.precision=0.7818238631631479 res.recall=0.7923288959685988\n"
     ]
    },
    {
     "name": "stdout",
     "output_type": "stream",
     "text": [
      "{'eval_loss': 1.2922277450561523, 'eval_step': 8, 'eval_precision': 0.7818238631631479, 'eval_recall': 0.7923288959685988, 'eval_f1': 0.7870413271500251, 'eval_label_count': 4, 'eval_runtime': 0.6403, 'eval_samples_per_second': 971.425, 'eval_steps_per_second': 15.618, 'epoch': 5.0}\n",
      "{'loss': 0.0627, 'grad_norm': 1.0712767839431763, 'learning_rate': 1.0788934426229509e-05, 'epoch': 5.122950819672131}\n",
      "{'loss': 0.0524, 'grad_norm': 0.27817678451538086, 'learning_rate': 8.867827868852459e-06, 'epoch': 5.635245901639344}\n"
     ]
    },
    {
     "name": "stderr",
     "output_type": "stream",
     "text": [
      "08:55:33 INFO:Logged iteration result res.precision=0.7971906199680812 res.recall=0.7786232690267516\n"
     ]
    },
    {
     "name": "stdout",
     "output_type": "stream",
     "text": [
      "{'eval_loss': 1.567440152168274, 'eval_step': 10, 'eval_precision': 0.7971906199680812, 'eval_recall': 0.7786232690267516, 'eval_f1': 0.7877975576835972, 'eval_label_count': 4, 'eval_runtime': 0.6378, 'eval_samples_per_second': 975.247, 'eval_steps_per_second': 15.679, 'epoch': 6.0}\n",
      "{'loss': 0.0501, 'grad_norm': 0.10085233300924301, 'learning_rate': 6.946721311475411e-06, 'epoch': 6.147540983606557}\n",
      "{'loss': 0.0472, 'grad_norm': 0.8294216394424438, 'learning_rate': 5.025614754098361e-06, 'epoch': 6.659836065573771}\n"
     ]
    },
    {
     "name": "stderr",
     "output_type": "stream",
     "text": [
      "08:56:08 INFO:Logged iteration result res.precision=0.7938790588280036 res.recall=0.7873150545811207\n"
     ]
    },
    {
     "name": "stdout",
     "output_type": "stream",
     "text": [
      "{'eval_loss': 1.7104370594024658, 'eval_step': 12, 'eval_precision': 0.7938790588280036, 'eval_recall': 0.7873150545811207, 'eval_f1': 0.7905834321434195, 'eval_label_count': 4, 'eval_runtime': 0.636, 'eval_samples_per_second': 978.062, 'eval_steps_per_second': 15.724, 'epoch': 7.0}\n",
      "{'loss': 0.0358, 'grad_norm': 0.27504676580429077, 'learning_rate': 3.104508196721312e-06, 'epoch': 7.172131147540983}\n",
      "{'loss': 0.0358, 'grad_norm': 0.7277107834815979, 'learning_rate': 1.1834016393442624e-06, 'epoch': 7.684426229508197}\n"
     ]
    },
    {
     "name": "stderr",
     "output_type": "stream",
     "text": [
      "08:56:44 INFO:Logged iteration result res.precision=0.7970590554798687 res.recall=0.7889723451078969\n"
     ]
    },
    {
     "name": "stdout",
     "output_type": "stream",
     "text": [
      "{'eval_loss': 1.7281582355499268, 'eval_step': 14, 'eval_precision': 0.7970590554798687, 'eval_recall': 0.7889723451078969, 'eval_f1': 0.7929950844080259, 'eval_label_count': 4, 'eval_runtime': 0.6365, 'eval_samples_per_second': 977.144, 'eval_steps_per_second': 15.71, 'epoch': 8.0}\n",
      "{'train_runtime': 284.0786, 'train_samples_per_second': 219.77, 'train_steps_per_second': 27.485, 'train_loss': 0.1376651429006311, 'epoch': 8.0}\n"
     ]
    },
    {
     "name": "stderr",
     "output_type": "stream",
     "text": [
      "08:56:46 INFO:Logged iteration result res.precision=0.7970590554798687 res.recall=0.7889723451078969\n",
      "08:56:47 INFO:Logged iteration result res.precision=0.7970590554798687 res.recall=0.7889723451078969\n",
      "08:56:47 INFO:Finished iteration=1\n",
      "08:56:47 INFO:Logging model artifact (might take a while)\n"
     ]
    },
    {
     "name": "stdout",
     "output_type": "stream",
     "text": [
      "Entered apply_smote()\n",
      "Counter original:  Counter({'Domain_Level': 5618, 'Interaction_Level': 4157, 'System_Level': 1758})\n"
     ]
    },
    {
     "name": "stderr",
     "output_type": "stream",
     "text": [
      "08:56:49 INFO:Created fold datasets for fold: 2, stored at paths=[PosixPath('/home/daniel/uvl-tore-classifier-bert/src/data/temp/sampling/exultant-mouse-891/2_data_train.pickle'), PosixPath('/home/daniel/uvl-tore-classifier-bert/src/data/temp/sampling/exultant-mouse-891/2_data_train.csv'), PosixPath('/home/daniel/uvl-tore-classifier-bert/src/data/temp/sampling/exultant-mouse-891/2_data_test.pickle'), PosixPath('/home/daniel/uvl-tore-classifier-bert/src/data/temp/sampling/exultant-mouse-891/2_data_test.csv')]\n",
      "08:56:49 INFO:Starting iteration=2\n"
     ]
    },
    {
     "name": "stdout",
     "output_type": "stream",
     "text": [
      "Counter SMOTE:  Counter({'System_Level': 5618, 'Interaction_Level': 5618, 'Domain_Level': 5618})\n"
     ]
    },
    {
     "data": {
      "application/vnd.jupyter.widget-view+json": {
       "model_id": "a3805c31bf744bfdabc70a80bcfad939",
       "version_major": 2,
       "version_minor": 0
      },
      "text/plain": [
       "Map:   0%|          | 0/7809 [00:00<?, ? examples/s]"
      ]
     },
     "metadata": {},
     "output_type": "display_data"
    },
    {
     "data": {
      "application/vnd.jupyter.widget-view+json": {
       "model_id": "6a3042e2386c435ab052d13ae4d8a2fc",
       "version_major": 2,
       "version_minor": 0
      },
      "text/plain": [
       "Map:   0%|          | 0/622 [00:00<?, ? examples/s]"
      ]
     },
     "metadata": {},
     "output_type": "display_data"
    },
    {
     "name": "stdout",
     "output_type": "stream",
     "text": [
      "{'loss': 0.4506, 'grad_norm': 4.456631660461426, 'learning_rate': 2.808085977482088e-05, 'epoch': 0.5117707267144319}\n"
     ]
    },
    {
     "name": "stderr",
     "output_type": "stream",
     "text": [
      "08:57:25 INFO:Logged iteration result res.precision=0.6982374181426583 res.recall=0.8068680688299321\n"
     ]
    },
    {
     "name": "stdout",
     "output_type": "stream",
     "text": [
      "{'eval_loss': 0.5368998050689697, 'eval_step': 0, 'eval_precision': 0.6982374181426583, 'eval_recall': 0.8068680688299321, 'eval_f1': 0.7486325470711999, 'eval_label_count': 4, 'eval_runtime': 0.6373, 'eval_samples_per_second': 975.953, 'eval_steps_per_second': 15.691, 'epoch': 1.0}\n",
      "{'loss': 0.3637, 'grad_norm': 3.8147990703582764, 'learning_rate': 2.616171954964176e-05, 'epoch': 1.0235414534288638}\n",
      "{'loss': 0.2465, 'grad_norm': 9.006044387817383, 'learning_rate': 2.424257932446264e-05, 'epoch': 1.5353121801432958}\n"
     ]
    },
    {
     "name": "stderr",
     "output_type": "stream",
     "text": [
      "08:58:02 INFO:Logged iteration result res.precision=0.727011535765694 res.recall=0.8109225316978019\n"
     ]
    },
    {
     "name": "stdout",
     "output_type": "stream",
     "text": [
      "{'eval_loss': 0.5894683003425598, 'eval_step': 2, 'eval_precision': 0.727011535765694, 'eval_recall': 0.8109225316978019, 'eval_f1': 0.7666779059377551, 'eval_label_count': 4, 'eval_runtime': 0.6659, 'eval_samples_per_second': 934.018, 'eval_steps_per_second': 15.016, 'epoch': 2.0}\n",
      "{'loss': 0.2519, 'grad_norm': 0.18633447587490082, 'learning_rate': 2.232343909928352e-05, 'epoch': 2.0470829068577276}\n",
      "{'loss': 0.1548, 'grad_norm': 4.410565376281738, 'learning_rate': 2.04042988741044e-05, 'epoch': 2.5588536335721597}\n"
     ]
    },
    {
     "name": "stderr",
     "output_type": "stream",
     "text": [
      "08:58:39 INFO:Logged iteration result res.precision=0.7756458714523851 res.recall=0.7989507336988618\n"
     ]
    },
    {
     "name": "stdout",
     "output_type": "stream",
     "text": [
      "{'eval_loss': 0.8320930600166321, 'eval_step': 4, 'eval_precision': 0.7756458714523851, 'eval_recall': 0.7989507336988618, 'eval_f1': 0.7871258404343516, 'eval_label_count': 4, 'eval_runtime': 0.6799, 'eval_samples_per_second': 914.897, 'eval_steps_per_second': 14.709, 'epoch': 3.0}\n",
      "{'loss': 0.1519, 'grad_norm': 1.3789328336715698, 'learning_rate': 1.8485158648925282e-05, 'epoch': 3.0706243602865917}\n",
      "{'loss': 0.1012, 'grad_norm': 38.15796661376953, 'learning_rate': 1.6566018423746165e-05, 'epoch': 3.5823950870010233}\n"
     ]
    },
    {
     "name": "stderr",
     "output_type": "stream",
     "text": [
      "08:59:17 INFO:Logged iteration result res.precision=0.770590922074669 res.recall=0.7974645497999263\n"
     ]
    },
    {
     "name": "stdout",
     "output_type": "stream",
     "text": [
      "{'eval_loss': 0.9959722757339478, 'eval_step': 6, 'eval_precision': 0.770590922074669, 'eval_recall': 0.7974645497999263, 'eval_f1': 0.7837974533101619, 'eval_label_count': 4, 'eval_runtime': 0.6705, 'eval_samples_per_second': 927.717, 'eval_steps_per_second': 14.915, 'epoch': 4.0}\n",
      "{'loss': 0.0949, 'grad_norm': 0.7948587536811829, 'learning_rate': 1.4646878198567042e-05, 'epoch': 4.094165813715455}\n",
      "{'loss': 0.0682, 'grad_norm': 2.0146801471710205, 'learning_rate': 1.2727737973387923e-05, 'epoch': 4.605936540429887}\n"
     ]
    },
    {
     "name": "stderr",
     "output_type": "stream",
     "text": [
      "08:59:54 INFO:Logged iteration result res.precision=0.7896337088605936 res.recall=0.7835093899477986\n"
     ]
    },
    {
     "name": "stdout",
     "output_type": "stream",
     "text": [
      "{'eval_loss': 1.4027478694915771, 'eval_step': 8, 'eval_precision': 0.7896337088605936, 'eval_recall': 0.7835093899477986, 'eval_f1': 0.7865596282756688, 'eval_label_count': 4, 'eval_runtime': 0.674, 'eval_samples_per_second': 922.902, 'eval_steps_per_second': 14.838, 'epoch': 5.0}\n",
      "{'loss': 0.0722, 'grad_norm': 1.5751028060913086, 'learning_rate': 1.0808597748208802e-05, 'epoch': 5.117707267144319}\n",
      "{'loss': 0.0584, 'grad_norm': 0.813964307308197, 'learning_rate': 8.889457523029683e-06, 'epoch': 5.629477993858751}\n"
     ]
    },
    {
     "name": "stderr",
     "output_type": "stream",
     "text": [
      "09:00:32 INFO:Logged iteration result res.precision=0.8043857372302118 res.recall=0.7834549355996205\n"
     ]
    },
    {
     "name": "stdout",
     "output_type": "stream",
     "text": [
      "{'eval_loss': 1.5919132232666016, 'eval_step': 10, 'eval_precision': 0.8043857372302118, 'eval_recall': 0.7834549355996205, 'eval_f1': 0.7937823822535209, 'eval_label_count': 4, 'eval_runtime': 0.6718, 'eval_samples_per_second': 925.885, 'eval_steps_per_second': 14.886, 'epoch': 6.0}\n",
      "{'loss': 0.048, 'grad_norm': 0.40327534079551697, 'learning_rate': 6.970317297850563e-06, 'epoch': 6.141248720573183}\n",
      "{'loss': 0.0454, 'grad_norm': 0.05717156082391739, 'learning_rate': 5.051177072671443e-06, 'epoch': 6.653019447287615}\n"
     ]
    },
    {
     "name": "stderr",
     "output_type": "stream",
     "text": [
      "09:01:10 INFO:Logged iteration result res.precision=0.7980463476286197 res.recall=0.7936686757936402\n"
     ]
    },
    {
     "name": "stdout",
     "output_type": "stream",
     "text": [
      "{'eval_loss': 1.6017600297927856, 'eval_step': 12, 'eval_precision': 0.7980463476286197, 'eval_recall': 0.7936686757936402, 'eval_f1': 0.7958514917859509, 'eval_label_count': 4, 'eval_runtime': 0.6751, 'eval_samples_per_second': 921.358, 'eval_steps_per_second': 14.813, 'epoch': 7.0}\n",
      "{'loss': 0.0442, 'grad_norm': 1.5661689043045044, 'learning_rate': 3.1320368474923233e-06, 'epoch': 7.164790174002047}\n",
      "{'loss': 0.0418, 'grad_norm': 0.26912543177604675, 'learning_rate': 1.2128966223132037e-06, 'epoch': 7.6765609007164795}\n"
     ]
    },
    {
     "name": "stderr",
     "output_type": "stream",
     "text": [
      "09:01:48 INFO:Logged iteration result res.precision=0.8070281281034359 res.recall=0.7869046950825157\n"
     ]
    },
    {
     "name": "stdout",
     "output_type": "stream",
     "text": [
      "{'eval_loss': 1.7685282230377197, 'eval_step': 14, 'eval_precision': 0.8070281281034359, 'eval_recall': 0.7869046950825157, 'eval_f1': 0.7968393822255342, 'eval_label_count': 4, 'eval_runtime': 0.6807, 'eval_samples_per_second': 913.768, 'eval_steps_per_second': 14.691, 'epoch': 8.0}\n",
      "{'train_runtime': 298.7895, 'train_samples_per_second': 209.084, 'train_steps_per_second': 26.159, 'train_loss': 0.14170681088095188, 'epoch': 8.0}\n"
     ]
    },
    {
     "name": "stderr",
     "output_type": "stream",
     "text": [
      "09:01:51 INFO:Logged iteration result res.precision=0.8070281281034359 res.recall=0.7869046950825157\n",
      "09:01:51 INFO:Logged iteration result res.precision=0.8070281281034359 res.recall=0.7869046950825157\n",
      "09:01:51 INFO:Finished iteration=2\n",
      "09:01:51 INFO:Logging model artifact (might take a while)\n"
     ]
    },
    {
     "name": "stdout",
     "output_type": "stream",
     "text": [
      "Entered apply_smote()\n",
      "Counter original:  Counter({'Domain_Level': 5615, 'Interaction_Level': 4078, 'System_Level': 1772})\n"
     ]
    },
    {
     "name": "stderr",
     "output_type": "stream",
     "text": [
      "09:01:53 INFO:Created fold datasets for fold: 3, stored at paths=[PosixPath('/home/daniel/uvl-tore-classifier-bert/src/data/temp/sampling/exultant-mouse-891/3_data_train.pickle'), PosixPath('/home/daniel/uvl-tore-classifier-bert/src/data/temp/sampling/exultant-mouse-891/3_data_train.csv'), PosixPath('/home/daniel/uvl-tore-classifier-bert/src/data/temp/sampling/exultant-mouse-891/3_data_test.pickle'), PosixPath('/home/daniel/uvl-tore-classifier-bert/src/data/temp/sampling/exultant-mouse-891/3_data_test.csv')]\n",
      "09:01:53 INFO:Starting iteration=3\n"
     ]
    },
    {
     "name": "stdout",
     "output_type": "stream",
     "text": [
      "Counter SMOTE:  Counter({'System_Level': 5615, 'Interaction_Level': 5615, 'Domain_Level': 5615})\n"
     ]
    },
    {
     "data": {
      "application/vnd.jupyter.widget-view+json": {
       "model_id": "9d88a4db4d0040a38d3a749f13836467",
       "version_major": 2,
       "version_minor": 0
      },
      "text/plain": [
       "Map:   0%|          | 0/7868 [00:00<?, ? examples/s]"
      ]
     },
     "metadata": {},
     "output_type": "display_data"
    },
    {
     "data": {
      "application/vnd.jupyter.widget-view+json": {
       "model_id": "236ad4752eb841c9a025677728caacd9",
       "version_major": 2,
       "version_minor": 0
      },
      "text/plain": [
       "Map:   0%|          | 0/622 [00:00<?, ? examples/s]"
      ]
     },
     "metadata": {},
     "output_type": "display_data"
    },
    {
     "name": "stdout",
     "output_type": "stream",
     "text": [
      "{'loss': 0.4576, 'grad_norm': 3.8465499877929688, 'learning_rate': 2.8094512195121954e-05, 'epoch': 0.508130081300813}\n"
     ]
    },
    {
     "name": "stderr",
     "output_type": "stream",
     "text": [
      "09:02:32 INFO:Logged iteration result res.precision=0.6971998016345723 res.recall=0.8017538554079748\n"
     ]
    },
    {
     "name": "stdout",
     "output_type": "stream",
     "text": [
      "{'eval_loss': 0.5911209583282471, 'eval_step': 0, 'eval_precision': 0.6971998016345723, 'eval_recall': 0.8017538554079748, 'eval_f1': 0.7458304348822534, 'eval_label_count': 4, 'eval_runtime': 0.6736, 'eval_samples_per_second': 923.352, 'eval_steps_per_second': 14.845, 'epoch': 1.0}\n",
      "{'loss': 0.361, 'grad_norm': 4.134532451629639, 'learning_rate': 2.6189024390243903e-05, 'epoch': 1.016260162601626}\n",
      "{'loss': 0.2525, 'grad_norm': 4.443619728088379, 'learning_rate': 2.4283536585365853e-05, 'epoch': 1.524390243902439}\n"
     ]
    },
    {
     "name": "stderr",
     "output_type": "stream",
     "text": [
      "09:03:09 INFO:Logged iteration result res.precision=0.7600063424276318 res.recall=0.8029475126364123\n"
     ]
    },
    {
     "name": "stdout",
     "output_type": "stream",
     "text": [
      "{'eval_loss': 0.7009719014167786, 'eval_step': 2, 'eval_precision': 0.7600063424276318, 'eval_recall': 0.8029475126364123, 'eval_f1': 0.7808870367643179, 'eval_label_count': 4, 'eval_runtime': 0.6716, 'eval_samples_per_second': 926.151, 'eval_steps_per_second': 14.89, 'epoch': 2.0}\n",
      "{'loss': 0.2526, 'grad_norm': 11.746682167053223, 'learning_rate': 2.2378048780487806e-05, 'epoch': 2.032520325203252}\n",
      "{'loss': 0.1611, 'grad_norm': 2.1200811862945557, 'learning_rate': 2.0472560975609755e-05, 'epoch': 2.540650406504065}\n"
     ]
    },
    {
     "name": "stderr",
     "output_type": "stream",
     "text": [
      "09:03:47 INFO:Logged iteration result res.precision=0.7675348017544376 res.recall=0.7917107748749631\n"
     ]
    },
    {
     "name": "stdout",
     "output_type": "stream",
     "text": [
      "{'eval_loss': 0.8764249086380005, 'eval_step': 4, 'eval_precision': 0.7675348017544376, 'eval_recall': 0.7917107748749631, 'eval_f1': 0.7794353650873765, 'eval_label_count': 4, 'eval_runtime': 0.6384, 'eval_samples_per_second': 974.239, 'eval_steps_per_second': 15.663, 'epoch': 3.0}\n",
      "{'loss': 0.1558, 'grad_norm': 6.444210052490234, 'learning_rate': 1.8567073170731708e-05, 'epoch': 3.048780487804878}\n",
      "{'loss': 0.1016, 'grad_norm': 5.107241153717041, 'learning_rate': 1.666158536585366e-05, 'epoch': 3.556910569105691}\n"
     ]
    },
    {
     "name": "stderr",
     "output_type": "stream",
     "text": [
      "09:04:23 INFO:Logged iteration result res.precision=0.7921226105555342 res.recall=0.7977491754223126\n"
     ]
    },
    {
     "name": "stdout",
     "output_type": "stream",
     "text": [
      "{'eval_loss': 1.1595882177352905, 'eval_step': 6, 'eval_precision': 0.7921226105555342, 'eval_recall': 0.7977491754223126, 'eval_f1': 0.7949259367671453, 'eval_label_count': 4, 'eval_runtime': 0.6387, 'eval_samples_per_second': 973.861, 'eval_steps_per_second': 15.657, 'epoch': 4.0}\n",
      "{'loss': 0.1123, 'grad_norm': 4.908277988433838, 'learning_rate': 1.475609756097561e-05, 'epoch': 4.065040650406504}\n",
      "{'loss': 0.0751, 'grad_norm': 0.1411345899105072, 'learning_rate': 1.2850609756097562e-05, 'epoch': 4.573170731707317}\n"
     ]
    },
    {
     "name": "stderr",
     "output_type": "stream",
     "text": [
      "09:04:59 INFO:Logged iteration result res.precision=0.7873925516545996 res.recall=0.79397835520959\n"
     ]
    },
    {
     "name": "stdout",
     "output_type": "stream",
     "text": [
      "{'eval_loss': 1.3021413087844849, 'eval_step': 8, 'eval_precision': 0.7873925516545996, 'eval_recall': 0.79397835520959, 'eval_f1': 0.7906717397586369, 'eval_label_count': 4, 'eval_runtime': 0.6447, 'eval_samples_per_second': 964.744, 'eval_steps_per_second': 15.51, 'epoch': 5.0}\n",
      "{'loss': 0.0812, 'grad_norm': 0.4666752815246582, 'learning_rate': 1.0945121951219511e-05, 'epoch': 5.08130081300813}\n",
      "{'loss': 0.061, 'grad_norm': 0.6719328165054321, 'learning_rate': 9.039634146341464e-06, 'epoch': 5.5894308943089435}\n"
     ]
    },
    {
     "name": "stderr",
     "output_type": "stream",
     "text": [
      "09:05:35 INFO:Logged iteration result res.precision=0.7938170997090048 res.recall=0.7912228123047802\n"
     ]
    },
    {
     "name": "stdout",
     "output_type": "stream",
     "text": [
      "{'eval_loss': 1.5039159059524536, 'eval_step': 10, 'eval_precision': 0.7938170997090048, 'eval_recall': 0.7912228123047802, 'eval_f1': 0.7925178329287653, 'eval_label_count': 4, 'eval_runtime': 0.6403, 'eval_samples_per_second': 971.4, 'eval_steps_per_second': 15.617, 'epoch': 6.0}\n",
      "{'loss': 0.0588, 'grad_norm': 0.8253193497657776, 'learning_rate': 7.1341463414634146e-06, 'epoch': 6.097560975609756}\n",
      "{'loss': 0.0523, 'grad_norm': 2.246251344680786, 'learning_rate': 5.228658536585366e-06, 'epoch': 6.605691056910569}\n"
     ]
    },
    {
     "name": "stderr",
     "output_type": "stream",
     "text": [
      "09:06:10 INFO:Logged iteration result res.precision=0.8030430631918988 res.recall=0.7864695705888916\n"
     ]
    },
    {
     "name": "stdout",
     "output_type": "stream",
     "text": [
      "{'eval_loss': 1.7512717247009277, 'eval_step': 12, 'eval_precision': 0.8030430631918988, 'eval_recall': 0.7864695705888916, 'eval_f1': 0.7946699128407436, 'eval_label_count': 4, 'eval_runtime': 0.6411, 'eval_samples_per_second': 970.207, 'eval_steps_per_second': 15.598, 'epoch': 7.0}\n",
      "{'loss': 0.05, 'grad_norm': 1.2643284797668457, 'learning_rate': 3.3231707317073174e-06, 'epoch': 7.1138211382113825}\n",
      "{'loss': 0.0422, 'grad_norm': 23.828773498535156, 'learning_rate': 1.4176829268292684e-06, 'epoch': 7.621951219512195}\n"
     ]
    },
    {
     "name": "stderr",
     "output_type": "stream",
     "text": [
      "09:06:46 INFO:Logged iteration result res.precision=0.8067283643743621 res.recall=0.7797105411423273\n"
     ]
    },
    {
     "name": "stdout",
     "output_type": "stream",
     "text": [
      "{'eval_loss': 1.891279697418213, 'eval_step': 14, 'eval_precision': 0.8067283643743621, 'eval_recall': 0.7797105411423273, 'eval_f1': 0.7929893894481034, 'eval_label_count': 4, 'eval_runtime': 0.6404, 'eval_samples_per_second': 971.302, 'eval_steps_per_second': 15.616, 'epoch': 8.0}\n",
      "{'train_runtime': 292.7723, 'train_samples_per_second': 214.993, 'train_steps_per_second': 26.888, 'train_loss': 0.14669656680851448, 'epoch': 8.0}\n"
     ]
    },
    {
     "name": "stderr",
     "output_type": "stream",
     "text": [
      "09:06:49 INFO:Logged iteration result res.precision=0.8067283643743621 res.recall=0.7797105411423273\n",
      "09:06:49 INFO:Logged iteration result res.precision=0.8067283643743621 res.recall=0.7797105411423273\n",
      "09:06:49 INFO:Finished iteration=3\n",
      "09:06:49 INFO:Logging model artifact (might take a while)\n"
     ]
    },
    {
     "name": "stdout",
     "output_type": "stream",
     "text": [
      "Entered apply_smote()\n",
      "Counter original:  Counter({'Domain_Level': 5617, 'Interaction_Level': 4268, 'System_Level': 1735})\n"
     ]
    },
    {
     "name": "stderr",
     "output_type": "stream",
     "text": [
      "09:06:51 INFO:Created fold datasets for fold: 4, stored at paths=[PosixPath('/home/daniel/uvl-tore-classifier-bert/src/data/temp/sampling/exultant-mouse-891/4_data_train.pickle'), PosixPath('/home/daniel/uvl-tore-classifier-bert/src/data/temp/sampling/exultant-mouse-891/4_data_train.csv'), PosixPath('/home/daniel/uvl-tore-classifier-bert/src/data/temp/sampling/exultant-mouse-891/4_data_test.pickle'), PosixPath('/home/daniel/uvl-tore-classifier-bert/src/data/temp/sampling/exultant-mouse-891/4_data_test.csv')]\n",
      "09:06:51 INFO:Starting iteration=4\n"
     ]
    },
    {
     "name": "stdout",
     "output_type": "stream",
     "text": [
      "Counter SMOTE:  Counter({'System_Level': 5617, 'Interaction_Level': 5617, 'Domain_Level': 5617})\n"
     ]
    },
    {
     "data": {
      "application/vnd.jupyter.widget-view+json": {
       "model_id": "79abe66d2d4b4ef7966e9af2f79438ed",
       "version_major": 2,
       "version_minor": 0
      },
      "text/plain": [
       "Map:   0%|          | 0/7719 [00:00<?, ? examples/s]"
      ]
     },
     "metadata": {},
     "output_type": "display_data"
    },
    {
     "data": {
      "application/vnd.jupyter.widget-view+json": {
       "model_id": "7aadac87040f47c5a0b7a5448578b51f",
       "version_major": 2,
       "version_minor": 0
      },
      "text/plain": [
       "Map:   0%|          | 0/622 [00:00<?, ? examples/s]"
      ]
     },
     "metadata": {},
     "output_type": "display_data"
    },
    {
     "name": "stdout",
     "output_type": "stream",
     "text": [
      "{'loss': 0.4481, 'grad_norm': 9.286577224731445, 'learning_rate': 2.805699481865285e-05, 'epoch': 0.5181347150259067}\n"
     ]
    },
    {
     "name": "stderr",
     "output_type": "stream",
     "text": [
      "09:07:32 INFO:Logged iteration result res.precision=0.6884123059890642 res.recall=0.8005630067308038\n"
     ]
    },
    {
     "name": "stdout",
     "output_type": "stream",
     "text": [
      "{'eval_loss': 0.5516185164451599, 'eval_step': 0, 'eval_precision': 0.6884123059890642, 'eval_recall': 0.8005630067308038, 'eval_f1': 0.7402640202897403, 'eval_label_count': 4, 'eval_runtime': 0.6367, 'eval_samples_per_second': 976.919, 'eval_steps_per_second': 15.706, 'epoch': 1.0}\n",
      "{'loss': 0.3526, 'grad_norm': 3.494398593902588, 'learning_rate': 2.61139896373057e-05, 'epoch': 1.0362694300518134}\n",
      "{'loss': 0.2615, 'grad_norm': 2.1709487438201904, 'learning_rate': 2.417098445595855e-05, 'epoch': 1.5544041450777202}\n"
     ]
    },
    {
     "name": "stderr",
     "output_type": "stream",
     "text": [
      "09:08:07 INFO:Logged iteration result res.precision=0.7106670286649863 res.recall=0.8172530398517244\n"
     ]
    },
    {
     "name": "stdout",
     "output_type": "stream",
     "text": [
      "{'eval_loss': 0.5465787649154663, 'eval_step': 2, 'eval_precision': 0.7106670286649863, 'eval_recall': 0.8172530398517244, 'eval_f1': 0.7602423732318436, 'eval_label_count': 4, 'eval_runtime': 0.636, 'eval_samples_per_second': 977.995, 'eval_steps_per_second': 15.723, 'epoch': 2.0}\n",
      "{'loss': 0.2297, 'grad_norm': 5.186210632324219, 'learning_rate': 2.22279792746114e-05, 'epoch': 2.0725388601036268}\n",
      "{'loss': 0.1486, 'grad_norm': 13.581474304199219, 'learning_rate': 2.028497409326425e-05, 'epoch': 2.5906735751295336}\n"
     ]
    },
    {
     "name": "stderr",
     "output_type": "stream",
     "text": [
      "09:08:42 INFO:Logged iteration result res.precision=0.7266918465829062 res.recall=0.8154196474694099\n"
     ]
    },
    {
     "name": "stdout",
     "output_type": "stream",
     "text": [
      "{'eval_loss': 0.6927227973937988, 'eval_step': 4, 'eval_precision': 0.7266918465829062, 'eval_recall': 0.8154196474694099, 'eval_f1': 0.7685032005077906, 'eval_label_count': 4, 'eval_runtime': 0.6412, 'eval_samples_per_second': 969.992, 'eval_steps_per_second': 15.595, 'epoch': 3.0}\n",
      "{'loss': 0.1454, 'grad_norm': 4.716838836669922, 'learning_rate': 1.8341968911917098e-05, 'epoch': 3.1088082901554404}\n",
      "{'loss': 0.1037, 'grad_norm': 3.896617889404297, 'learning_rate': 1.639896373056995e-05, 'epoch': 3.626943005181347}\n"
     ]
    },
    {
     "name": "stderr",
     "output_type": "stream",
     "text": [
      "09:09:17 INFO:Logged iteration result res.precision=0.7632860929765741 res.recall=0.8008746372613038\n"
     ]
    },
    {
     "name": "stdout",
     "output_type": "stream",
     "text": [
      "{'eval_loss': 0.9938870668411255, 'eval_step': 6, 'eval_precision': 0.7632860929765741, 'eval_recall': 0.8008746372613038, 'eval_f1': 0.7816287175886911, 'eval_label_count': 4, 'eval_runtime': 0.6377, 'eval_samples_per_second': 975.36, 'eval_steps_per_second': 15.681, 'epoch': 4.0}\n",
      "{'loss': 0.0958, 'grad_norm': 1.3058867454528809, 'learning_rate': 1.4455958549222797e-05, 'epoch': 4.1450777202072535}\n",
      "{'loss': 0.0763, 'grad_norm': 5.122376918792725, 'learning_rate': 1.2512953367875647e-05, 'epoch': 4.66321243523316}\n"
     ]
    },
    {
     "name": "stderr",
     "output_type": "stream",
     "text": [
      "09:09:52 INFO:Logged iteration result res.precision=0.7947987696312064 res.recall=0.7952884508412585\n"
     ]
    },
    {
     "name": "stdout",
     "output_type": "stream",
     "text": [
      "{'eval_loss': 1.3154120445251465, 'eval_step': 8, 'eval_precision': 0.7947987696312064, 'eval_recall': 0.7952884508412585, 'eval_f1': 0.7950435348354356, 'eval_label_count': 4, 'eval_runtime': 0.6378, 'eval_samples_per_second': 975.2, 'eval_steps_per_second': 15.678, 'epoch': 5.0}\n",
      "{'loss': 0.0689, 'grad_norm': 3.773132085800171, 'learning_rate': 1.0569948186528496e-05, 'epoch': 5.181347150259067}\n",
      "{'loss': 0.0546, 'grad_norm': 0.3135051429271698, 'learning_rate': 8.626943005181348e-06, 'epoch': 5.699481865284974}\n"
     ]
    },
    {
     "name": "stderr",
     "output_type": "stream",
     "text": [
      "09:10:27 INFO:Logged iteration result res.precision=0.7960102546859249 res.recall=0.7898947043149951\n"
     ]
    },
    {
     "name": "stdout",
     "output_type": "stream",
     "text": [
      "{'eval_loss': 1.4534108638763428, 'eval_step': 10, 'eval_precision': 0.7960102546859249, 'eval_recall': 0.7898947043149951, 'eval_f1': 0.7929406881392793, 'eval_label_count': 4, 'eval_runtime': 0.6388, 'eval_samples_per_second': 973.684, 'eval_steps_per_second': 15.654, 'epoch': 6.0}\n",
      "{'loss': 0.0514, 'grad_norm': 0.47301414608955383, 'learning_rate': 6.683937823834196e-06, 'epoch': 6.217616580310881}\n",
      "{'loss': 0.0484, 'grad_norm': 3.903777837753296, 'learning_rate': 4.740932642487047e-06, 'epoch': 6.7357512953367875}\n"
     ]
    },
    {
     "name": "stderr",
     "output_type": "stream",
     "text": [
      "09:11:02 INFO:Logged iteration result res.precision=0.7920053031423797 res.recall=0.7917166587027383\n"
     ]
    },
    {
     "name": "stdout",
     "output_type": "stream",
     "text": [
      "{'eval_loss': 1.5835769176483154, 'eval_step': 12, 'eval_precision': 0.7920053031423797, 'eval_recall': 0.7917166587027383, 'eval_f1': 0.791860954618822, 'eval_label_count': 4, 'eval_runtime': 0.6378, 'eval_samples_per_second': 975.243, 'eval_steps_per_second': 15.679, 'epoch': 7.0}\n",
      "{'loss': 0.0431, 'grad_norm': 9.249842643737793, 'learning_rate': 2.7979274611398963e-06, 'epoch': 7.253886010362694}\n",
      "{'loss': 0.0357, 'grad_norm': 6.31307315826416, 'learning_rate': 8.549222797927462e-07, 'epoch': 7.772020725388601}\n"
     ]
    },
    {
     "name": "stderr",
     "output_type": "stream",
     "text": [
      "09:11:38 INFO:Logged iteration result res.precision=0.7970479707672539 res.recall=0.7901783427143391\n"
     ]
    },
    {
     "name": "stdout",
     "output_type": "stream",
     "text": [
      "{'eval_loss': 1.69013512134552, 'eval_step': 14, 'eval_precision': 0.7970479707672539, 'eval_recall': 0.7901783427143391, 'eval_f1': 0.7935982906220884, 'eval_label_count': 4, 'eval_runtime': 0.6415, 'eval_samples_per_second': 969.643, 'eval_steps_per_second': 15.589, 'epoch': 8.0}\n",
      "{'train_runtime': 280.5726, 'train_samples_per_second': 220.093, 'train_steps_per_second': 27.515, 'train_loss': 0.14120248661140086, 'epoch': 8.0}\n"
     ]
    },
    {
     "name": "stderr",
     "output_type": "stream",
     "text": [
      "09:11:40 INFO:Logged iteration result res.precision=0.7970479707672539 res.recall=0.7901783427143391\n",
      "09:11:40 INFO:Logged iteration result res.precision=0.7970479707672539 res.recall=0.7901783427143391\n",
      "09:11:40 INFO:Finished iteration=4\n",
      "09:11:40 INFO:Logging model artifact (might take a while)\n",
      "09:11:41 INFO:Breaking early after iteration=4 of 5 folds\n",
      "09:11:42 INFO:Logged experiment result res.mean_precision=0.8022905809721879 res.mean_recall=0.7859404833318002\n",
      "09:11:42 INFO:Left mlflow context\n"
     ]
    },
    {
     "name": "stdout",
     "output_type": "stream",
     "text": [
      "dbff7bc6f18f41039ac34eebd0c5824f\n"
     ]
    },
    {
     "data": {
      "application/vnd.jupyter.widget-view+json": {
       "model_id": "be2bdd71d66d4311bc38085005a351f1",
       "version_major": 2,
       "version_minor": 0
      },
      "text/plain": [
       "Downloading artifacts:   0%|          | 0/7 [00:00<?, ?it/s]"
      ]
     },
     "metadata": {},
     "output_type": "display_data"
    },
    {
     "data": {
      "text/plain": [
       "PosixPath('src/service/models/bert_1')"
      ]
     },
     "execution_count": 7,
     "metadata": {},
     "output_type": "execute_result"
    }
   ],
   "source": [
    "from tooling.observability import get_run_id\n",
    "from tooling.config import BERTConfig, BERT\n",
    "\n",
    "from copy import deepcopy\n",
    "\n",
    "bert_1_experiment_config = deepcopy(smote_experiment_config)\n",
    "bert_1_experiment_config.name = \"SMOTE_BERT_TORE_LEVELS\"\n",
    "bert_1_experiment_config.force = False\n",
    "\n",
    "bert_1_config = BERT(\n",
    "    max_len=123,\n",
    "    number_epochs=8,\n",
    "    train_batch_size=8,\n",
    "    weight_decay=0.01,\n",
    "    weighted_classes=True,\n",
    "    learning_rate_bert=3e-05,\n",
    "    learning_rate_classifier=0.0005,\n",
    "    validation_batch_size=64,\n",
    ")\n",
    "\n",
    "\n",
    "bert_1_cfg = OmegaConf.structured(\n",
    "    BERTConfig(\n",
    "        bert=bert_1_config,\n",
    "        experiment=bert_1_experiment_config,\n",
    "        transformation=levels_transformation_config,\n",
    "    )\n",
    ")\n",
    "\n",
    "if run_experiments:\n",
    "    from experiments.bert import bert\n",
    "\n",
    "    bert(OmegaConf.create(bert_1_cfg))\n",
    "\n",
    "bert_1_run_id = get_run_id(bert_1_cfg, pin_commit=pin_commits)\n",
    "\n",
    "print(bert_1_run_id)\n",
    "\n",
    "bert_1_run = mlflow.get_run(bert_1_run_id)\n",
    "mlflow.artifacts.download_artifacts(\n",
    "    f\"{bert_1_run.info.artifact_uri}/0_model\",\n",
    "    dst_path=Path(\"./src/service/models/\"),\n",
    ")\n",
    "try:\n",
    "    shutil.rmtree(Path(\"./src/service/models/bert_1\"))\n",
    "except FileNotFoundError:\n",
    "    pass\n",
    "Path(\"./src/service/models/0_model\").rename(\"./src/service/models/bert_1\")"
   ]
  },
  {
   "cell_type": "markdown",
   "metadata": {},
   "source": [
    "## Train BERT E2E Model with SMOTE\n"
   ]
  },
  {
   "cell_type": "code",
   "execution_count": 8,
   "metadata": {
    "ExecuteTime": {
     "end_time": "2024-01-26T16:57:26.164192800Z",
     "start_time": "2024-01-26T14:55:24.486984600Z"
    }
   },
   "outputs": [
    {
     "name": "stderr",
     "output_type": "stream",
     "text": [
      "09:11:49 INFO:\n",
      "bert:\n",
      "  model: bert-base-uncased\n",
      "  type: BERT\n",
      "  max_len: 123\n",
      "  train_batch_size: 8\n",
      "  validation_batch_size: 32\n",
      "  number_epochs: 8\n",
      "  learning_rate_bert: 6.0e-05\n",
      "  learning_rate_classifier: 0.1\n",
      "  weight_decay: 0.01\n",
      "  weighted_classes: false\n",
      "experiment:\n",
      "  name: SMOTE_BERT_TORE_CATEGORIES\n",
      "  description: ''\n",
      "  random_state: 125\n",
      "  folds: 5\n",
      "  iterations: 5\n",
      "  average: macro\n",
      "  dataset: all\n",
      "  lower_case: true\n",
      "  force: false\n",
      "  pin_commit: false\n",
      "  smote: true\n",
      "  smote_k_neighbors: 5\n",
      "  smote_sampling_strategy: not majority\n",
      "transformation:\n",
      "  description: None\n",
      "  type: Full\n",
      "  task: Task\n",
      "  goals: null\n",
      "  domain_data: Domain_Data\n",
      "  activity: Activity\n",
      "  stakeholder: Stakeholder\n",
      "  system_function: System_Function\n",
      "  interaction: Interaction\n",
      "  interaction_data: Interaction_Data\n",
      "  workspace: Workspace\n",
      "  software: System_Level\n",
      "  internal_action: System_Level\n",
      "  internal_data: System_Level\n",
      "  system_level: System_Level\n",
      "\n",
      "09:11:49 INFO:New experiment. Running\n",
      "09:11:49 INFO:Entering mlflow context\n",
      "09:11:49 INFO:Importing dataset: anno from /home/daniel/uvl-tore-classifier-bert/src/data/datasets/forum/anno_test.json\n",
      "09:11:49 INFO:Importing dataset: anno from /home/daniel/uvl-tore-classifier-bert/src/data/datasets/forum/anno_train.json\n",
      "09:11:49 INFO:Importing dataset: prolific from /home/daniel/uvl-tore-classifier-bert/src/data/datasets/prolific/TORE_Coded_Answers_1_33.json\n",
      "09:11:50 INFO:Importing dataset: prolific from /home/daniel/uvl-tore-classifier-bert/src/data/datasets/prolific/TORE_Coded_Answers_34_66.json\n",
      "09:11:50 INFO:Importing dataset: prolific from /home/daniel/uvl-tore-classifier-bert/src/data/datasets/prolific/TORE_Coded_Answers_67_100.json\n",
      "09:11:50 INFO:Importing dataset: komoot from /home/daniel/uvl-tore-classifier-bert/src/data/datasets/app/Komoot_AppReview.json\n",
      "09:11:51 INFO:Dataset Labels: transformed_dataset['labels']=['Interaction_Data', 'Task', 'System_Level', '0', 'Stakeholder', 'System_Function', 'Workspace', 'Activity', 'Interaction', 'Domain_Data']\n",
      "09:11:51 INFO:Class weights: {'0': 1.0, 'Task': 1.0, 'Domain_Data': 1.0, 'Activity': 1.0, 'Stakeholder': 1.0, 'System_Function': 1.0, 'Interaction': 1.0, 'Interaction_Data': 1.0, 'Workspace': 1.0, 'System_Level': 1.0}\n",
      "09:11:51 INFO:Configured maximal token sequence length: max_len = 123\n"
     ]
    },
    {
     "name": "stdout",
     "output_type": "stream",
     "text": [
      "Entered apply_smote()\n",
      "Counter original:  Counter({'Interaction_Data': 2437, 'Interaction': 2302, 'Domain_Data': 1772, 'System_Level': 1729, 'System_Function': 1437, 'Task': 527, 'Workspace': 514, 'Activity': 469, 'Stakeholder': 454})\n"
     ]
    },
    {
     "name": "stderr",
     "output_type": "stream",
     "text": [
      "09:11:52 INFO:Created fold datasets for fold: 0, stored at paths=[PosixPath('/home/daniel/uvl-tore-classifier-bert/src/data/temp/sampling/youthful-turtle-113/0_data_train.pickle'), PosixPath('/home/daniel/uvl-tore-classifier-bert/src/data/temp/sampling/youthful-turtle-113/0_data_train.csv'), PosixPath('/home/daniel/uvl-tore-classifier-bert/src/data/temp/sampling/youthful-turtle-113/0_data_test.pickle'), PosixPath('/home/daniel/uvl-tore-classifier-bert/src/data/temp/sampling/youthful-turtle-113/0_data_test.csv')]\n",
      "09:11:52 INFO:Starting iteration=0\n"
     ]
    },
    {
     "name": "stdout",
     "output_type": "stream",
     "text": [
      "Counter SMOTE:  Counter({'System_Level': 2437, 'Interaction': 2437, 'Interaction_Data': 2437, 'Workspace': 2437, 'Domain_Data': 2437, 'Activity': 2437, 'Stakeholder': 2437, 'Task': 2437, 'System_Function': 2437})\n"
     ]
    },
    {
     "data": {
      "application/vnd.jupyter.widget-view+json": {
       "model_id": "79f40e3f663542c7b0184c91cc3b7288",
       "version_major": 2,
       "version_minor": 0
      },
      "text/plain": [
       "Map:   0%|          | 0/12780 [00:00<?, ? examples/s]"
      ]
     },
     "metadata": {},
     "output_type": "display_data"
    },
    {
     "data": {
      "application/vnd.jupyter.widget-view+json": {
       "model_id": "e99d2fbb680c4a50b78a89b69cd3fc82",
       "version_major": 2,
       "version_minor": 0
      },
      "text/plain": [
       "Map:   0%|          | 0/622 [00:00<?, ? examples/s]"
      ]
     },
     "metadata": {},
     "output_type": "display_data"
    },
    {
     "name": "stdout",
     "output_type": "stream",
     "text": [
      "{'loss': 1.3177, 'grad_norm': 14.407425880432129, 'learning_rate': 5.765331664580726e-05, 'epoch': 0.31289111389236546}\n",
      "{'loss': 0.9261, 'grad_norm': 12.8495512008667, 'learning_rate': 5.530663329161452e-05, 'epoch': 0.6257822277847309}\n",
      "{'loss': 0.8249, 'grad_norm': 29.265846252441406, 'learning_rate': 5.295994993742178e-05, 'epoch': 0.9386733416770964}\n"
     ]
    },
    {
     "name": "stderr",
     "output_type": "stream",
     "text": [
      "09:12:50 INFO:Logged iteration result res.precision=0.6106279845352304 res.recall=0.5444539076653436\n"
     ]
    },
    {
     "name": "stdout",
     "output_type": "stream",
     "text": [
      "{'eval_loss': 0.8406517505645752, 'eval_step': 0, 'eval_precision': 0.6106279845352304, 'eval_recall': 0.5444539076653436, 'eval_f1': 0.5756454058450247, 'eval_label_count': 10, 'eval_runtime': 0.6616, 'eval_samples_per_second': 940.082, 'eval_steps_per_second': 30.228, 'epoch': 1.0}\n",
      "{'loss': 0.7311, 'grad_norm': 18.654560089111328, 'learning_rate': 5.061326658322904e-05, 'epoch': 1.2515644555694618}\n",
      "{'loss': 0.6773, 'grad_norm': 8.060908317565918, 'learning_rate': 4.8266583229036296e-05, 'epoch': 1.5644555694618272}\n",
      "{'loss': 0.646, 'grad_norm': 10.171844482421875, 'learning_rate': 4.591989987484355e-05, 'epoch': 1.8773466833541927}\n"
     ]
    },
    {
     "name": "stderr",
     "output_type": "stream",
     "text": [
      "09:13:47 INFO:Logged iteration result res.precision=0.6192722553668246 res.recall=0.6058964458482954\n"
     ]
    },
    {
     "name": "stdout",
     "output_type": "stream",
     "text": [
      "{'eval_loss': 0.6168268918991089, 'eval_step': 2, 'eval_precision': 0.6192722553668246, 'eval_recall': 0.6058964458482954, 'eval_f1': 0.6125113352423704, 'eval_label_count': 10, 'eval_runtime': 0.6598, 'eval_samples_per_second': 942.652, 'eval_steps_per_second': 30.31, 'epoch': 2.0}\n",
      "{'loss': 0.5318, 'grad_norm': 9.911016464233398, 'learning_rate': 4.357321652065081e-05, 'epoch': 2.1902377972465583}\n",
      "{'loss': 0.4753, 'grad_norm': 10.932441711425781, 'learning_rate': 4.1226533166458074e-05, 'epoch': 2.5031289111389237}\n",
      "{'loss': 0.512, 'grad_norm': 9.929450035095215, 'learning_rate': 3.8879849812265335e-05, 'epoch': 2.816020025031289}\n"
     ]
    },
    {
     "name": "stderr",
     "output_type": "stream",
     "text": [
      "09:14:44 INFO:Logged iteration result res.precision=0.7058529240366924 res.recall=0.5035533753879632\n"
     ]
    },
    {
     "name": "stdout",
     "output_type": "stream",
     "text": [
      "{'eval_loss': 0.7324206233024597, 'eval_step': 4, 'eval_precision': 0.7058529240366924, 'eval_recall': 0.5035533753879632, 'eval_f1': 0.5877836465631592, 'eval_label_count': 10, 'eval_runtime': 0.6617, 'eval_samples_per_second': 939.941, 'eval_steps_per_second': 30.223, 'epoch': 3.0}\n",
      "{'loss': 0.4336, 'grad_norm': 23.236989974975586, 'learning_rate': 3.653316645807259e-05, 'epoch': 3.1289111389236544}\n",
      "{'loss': 0.3793, 'grad_norm': 5.281062602996826, 'learning_rate': 3.418648310387985e-05, 'epoch': 3.44180225281602}\n",
      "{'loss': 0.345, 'grad_norm': 9.475481986999512, 'learning_rate': 3.1839799749687113e-05, 'epoch': 3.7546933667083855}\n"
     ]
    },
    {
     "name": "stderr",
     "output_type": "stream",
     "text": [
      "09:15:40 INFO:Logged iteration result res.precision=0.6436326313605837 res.recall=0.6116447585617284\n"
     ]
    },
    {
     "name": "stdout",
     "output_type": "stream",
     "text": [
      "{'eval_loss': 0.6783583760261536, 'eval_step': 6, 'eval_precision': 0.6436326313605837, 'eval_recall': 0.6116447585617284, 'eval_f1': 0.6272311260786084, 'eval_label_count': 10, 'eval_runtime': 0.6632, 'eval_samples_per_second': 937.927, 'eval_steps_per_second': 30.158, 'epoch': 4.0}\n",
      "{'loss': 0.3483, 'grad_norm': 6.215461254119873, 'learning_rate': 2.9493116395494368e-05, 'epoch': 4.067584480600751}\n",
      "{'loss': 0.2797, 'grad_norm': 7.044064998626709, 'learning_rate': 2.714643304130163e-05, 'epoch': 4.380475594493117}\n",
      "{'loss': 0.2977, 'grad_norm': 8.858563423156738, 'learning_rate': 2.4799749687108885e-05, 'epoch': 4.693366708385482}\n"
     ]
    },
    {
     "name": "stderr",
     "output_type": "stream",
     "text": [
      "09:16:37 INFO:Logged iteration result res.precision=0.6736016540547987 res.recall=0.6013697064556457\n"
     ]
    },
    {
     "name": "stdout",
     "output_type": "stream",
     "text": [
      "{'eval_loss': 0.9873001575469971, 'eval_step': 8, 'eval_precision': 0.6736016540547987, 'eval_recall': 0.6013697064556457, 'eval_f1': 0.6354395738031219, 'eval_label_count': 10, 'eval_runtime': 0.6574, 'eval_samples_per_second': 946.091, 'eval_steps_per_second': 30.421, 'epoch': 5.0}\n",
      "{'loss': 0.2671, 'grad_norm': 1.398587703704834, 'learning_rate': 2.2453066332916146e-05, 'epoch': 5.006257822277847}\n",
      "{'loss': 0.229, 'grad_norm': 2.6947269439697266, 'learning_rate': 2.0106382978723404e-05, 'epoch': 5.319148936170213}\n",
      "{'loss': 0.2216, 'grad_norm': 0.23519013822078705, 'learning_rate': 1.7759699624530666e-05, 'epoch': 5.632040050062578}\n",
      "{'loss': 0.2146, 'grad_norm': 3.2254838943481445, 'learning_rate': 1.541301627033792e-05, 'epoch': 5.944931163954943}\n"
     ]
    },
    {
     "name": "stderr",
     "output_type": "stream",
     "text": [
      "09:17:34 INFO:Logged iteration result res.precision=0.6374399555423749 res.recall=0.6280073075910614\n"
     ]
    },
    {
     "name": "stdout",
     "output_type": "stream",
     "text": [
      "{'eval_loss': 1.0810829401016235, 'eval_step': 10, 'eval_precision': 0.6374399555423749, 'eval_recall': 0.6280073075910614, 'eval_f1': 0.6326884760727021, 'eval_label_count': 10, 'eval_runtime': 0.6578, 'eval_samples_per_second': 945.588, 'eval_steps_per_second': 30.405, 'epoch': 6.0}\n",
      "{'loss': 0.1849, 'grad_norm': 4.967480659484863, 'learning_rate': 1.3066332916145182e-05, 'epoch': 6.257822277847309}\n",
      "{'loss': 0.1685, 'grad_norm': 2.1695234775543213, 'learning_rate': 1.0719649561952442e-05, 'epoch': 6.570713391739675}\n",
      "{'loss': 0.1864, 'grad_norm': 20.494123458862305, 'learning_rate': 8.3729662077597e-06, 'epoch': 6.88360450563204}\n"
     ]
    },
    {
     "name": "stderr",
     "output_type": "stream",
     "text": [
      "09:18:31 INFO:Logged iteration result res.precision=0.649129928244388 res.recall=0.6154771550041143\n"
     ]
    },
    {
     "name": "stdout",
     "output_type": "stream",
     "text": [
      "{'eval_loss': 1.2220183610916138, 'eval_step': 12, 'eval_precision': 0.649129928244388, 'eval_recall': 0.6154771550041143, 'eval_f1': 0.6318557704699681, 'eval_label_count': 10, 'eval_runtime': 0.6569, 'eval_samples_per_second': 946.921, 'eval_steps_per_second': 30.448, 'epoch': 7.0}\n",
      "{'loss': 0.177, 'grad_norm': 10.755538940429688, 'learning_rate': 6.026282853566959e-06, 'epoch': 7.196495619524406}\n",
      "{'loss': 0.1519, 'grad_norm': 4.08233642578125, 'learning_rate': 3.6795994993742178e-06, 'epoch': 7.509386733416771}\n",
      "{'loss': 0.1529, 'grad_norm': 6.090627193450928, 'learning_rate': 1.3329161451814768e-06, 'epoch': 7.822277847309136}\n"
     ]
    },
    {
     "name": "stderr",
     "output_type": "stream",
     "text": [
      "09:19:28 INFO:Logged iteration result res.precision=0.650003346795141 res.recall=0.6122127675008651\n"
     ]
    },
    {
     "name": "stdout",
     "output_type": "stream",
     "text": [
      "{'eval_loss': 1.5270183086395264, 'eval_step': 14, 'eval_precision': 0.650003346795141, 'eval_recall': 0.6122127675008651, 'eval_f1': 0.6305423347383373, 'eval_label_count': 10, 'eval_runtime': 0.6631, 'eval_samples_per_second': 937.972, 'eval_steps_per_second': 30.16, 'epoch': 8.0}\n",
      "{'train_runtime': 455.1066, 'train_samples_per_second': 224.651, 'train_steps_per_second': 28.09, 'train_loss': 0.42119229570945005, 'epoch': 8.0}\n"
     ]
    },
    {
     "name": "stderr",
     "output_type": "stream",
     "text": [
      "09:19:31 INFO:Logged iteration result res.precision=0.650003346795141 res.recall=0.6122127675008651\n",
      "09:19:31 INFO:Logged iteration result res.precision=0.650003346795141 res.recall=0.6122127675008651\n",
      "09:19:31 INFO:Finished iteration=0\n",
      "09:19:31 INFO:Logging model artifact (might take a while)\n"
     ]
    },
    {
     "name": "stdout",
     "output_type": "stream",
     "text": [
      "Entered apply_smote()\n",
      "Counter original:  Counter({'Interaction_Data': 2390, 'Interaction': 2231, 'Domain_Data': 1765, 'System_Level': 1722, 'System_Function': 1531, 'Task': 543, 'Workspace': 518, 'Activity': 499, 'Stakeholder': 462})\n"
     ]
    },
    {
     "name": "stderr",
     "output_type": "stream",
     "text": [
      "09:19:33 INFO:Created fold datasets for fold: 1, stored at paths=[PosixPath('/home/daniel/uvl-tore-classifier-bert/src/data/temp/sampling/youthful-turtle-113/1_data_train.pickle'), PosixPath('/home/daniel/uvl-tore-classifier-bert/src/data/temp/sampling/youthful-turtle-113/1_data_train.csv'), PosixPath('/home/daniel/uvl-tore-classifier-bert/src/data/temp/sampling/youthful-turtle-113/1_data_test.pickle'), PosixPath('/home/daniel/uvl-tore-classifier-bert/src/data/temp/sampling/youthful-turtle-113/1_data_test.csv')]\n",
      "09:19:33 INFO:Starting iteration=1\n"
     ]
    },
    {
     "name": "stdout",
     "output_type": "stream",
     "text": [
      "Counter SMOTE:  Counter({'Interaction': 2390, 'Interaction_Data': 2390, 'Workspace': 2390, 'System_Level': 2390, 'Domain_Data': 2390, 'Activity': 2390, 'Stakeholder': 2390, 'System_Function': 2390, 'Task': 2390})\n"
     ]
    },
    {
     "data": {
      "application/vnd.jupyter.widget-view+json": {
       "model_id": "99f79408c9f54badbf8037e632213b83",
       "version_major": 2,
       "version_minor": 0
      },
      "text/plain": [
       "Map:   0%|          | 0/12337 [00:00<?, ? examples/s]"
      ]
     },
     "metadata": {},
     "output_type": "display_data"
    },
    {
     "data": {
      "application/vnd.jupyter.widget-view+json": {
       "model_id": "c636c770f61d4e56ae4a026cf6620637",
       "version_major": 2,
       "version_minor": 0
      },
      "text/plain": [
       "Map:   0%|          | 0/622 [00:00<?, ? examples/s]"
      ]
     },
     "metadata": {},
     "output_type": "display_data"
    },
    {
     "name": "stdout",
     "output_type": "stream",
     "text": [
      "{'loss': 1.3936, 'grad_norm': 28.40262794494629, 'learning_rate': 5.756966947504861e-05, 'epoch': 0.32404406999351915}\n",
      "{'loss': 0.9143, 'grad_norm': 3.4397034645080566, 'learning_rate': 5.513933895009721e-05, 'epoch': 0.6480881399870383}\n",
      "{'loss': 0.8052, 'grad_norm': 11.329050064086914, 'learning_rate': 5.270900842514582e-05, 'epoch': 0.9721322099805574}\n"
     ]
    },
    {
     "name": "stderr",
     "output_type": "stream",
     "text": [
      "09:20:29 INFO:Logged iteration result res.precision=0.5894072124607721 res.recall=0.5890114699925075\n"
     ]
    },
    {
     "name": "stdout",
     "output_type": "stream",
     "text": [
      "{'eval_loss': 0.6699539422988892, 'eval_step': 0, 'eval_precision': 0.5894072124607721, 'eval_recall': 0.5890114699925075, 'eval_f1': 0.5892092747765302, 'eval_label_count': 10, 'eval_runtime': 0.6599, 'eval_samples_per_second': 942.597, 'eval_steps_per_second': 30.309, 'epoch': 1.0}\n",
      "{'loss': 0.7048, 'grad_norm': 10.136943817138672, 'learning_rate': 5.027867790019442e-05, 'epoch': 1.2961762799740764}\n",
      "{'loss': 0.6775, 'grad_norm': 4.370912075042725, 'learning_rate': 4.784834737524303e-05, 'epoch': 1.6202203499675956}\n",
      "{'loss': 0.5829, 'grad_norm': 5.842738151550293, 'learning_rate': 4.541801685029164e-05, 'epoch': 1.9442644199611148}\n"
     ]
    },
    {
     "name": "stderr",
     "output_type": "stream",
     "text": [
      "09:21:24 INFO:Logged iteration result res.precision=0.6466899231037885 res.recall=0.5727520275827063\n"
     ]
    },
    {
     "name": "stdout",
     "output_type": "stream",
     "text": [
      "{'eval_loss': 0.612061619758606, 'eval_step': 2, 'eval_precision': 0.6466899231037885, 'eval_recall': 0.5727520275827063, 'eval_f1': 0.6074794531490139, 'eval_label_count': 10, 'eval_runtime': 0.6611, 'eval_samples_per_second': 940.801, 'eval_steps_per_second': 30.251, 'epoch': 2.0}\n",
      "{'loss': 0.4896, 'grad_norm': 8.555366516113281, 'learning_rate': 4.298768632534025e-05, 'epoch': 2.268308489954634}\n",
      "{'loss': 0.4656, 'grad_norm': 25.4677791595459, 'learning_rate': 4.055735580038886e-05, 'epoch': 2.5923525599481527}\n",
      "{'loss': 0.4915, 'grad_norm': 5.23019552230835, 'learning_rate': 3.812702527543746e-05, 'epoch': 2.916396629941672}\n"
     ]
    },
    {
     "name": "stderr",
     "output_type": "stream",
     "text": [
      "09:22:19 INFO:Logged iteration result res.precision=0.6782679246852327 res.recall=0.5832684629666837\n"
     ]
    },
    {
     "name": "stdout",
     "output_type": "stream",
     "text": [
      "{'eval_loss': 0.6125673651695251, 'eval_step': 4, 'eval_precision': 0.6782679246852327, 'eval_recall': 0.5832684629666837, 'eval_f1': 0.6271912467734788, 'eval_label_count': 10, 'eval_runtime': 0.6617, 'eval_samples_per_second': 939.969, 'eval_steps_per_second': 30.224, 'epoch': 3.0}\n",
      "{'loss': 0.4066, 'grad_norm': 4.8321356773376465, 'learning_rate': 3.569669475048607e-05, 'epoch': 3.240440699935191}\n",
      "{'loss': 0.3817, 'grad_norm': 9.17823314666748, 'learning_rate': 3.326636422553467e-05, 'epoch': 3.5644847699287103}\n",
      "{'loss': 0.3737, 'grad_norm': 6.398657321929932, 'learning_rate': 3.083603370058328e-05, 'epoch': 3.8885288399222295}\n"
     ]
    },
    {
     "name": "stderr",
     "output_type": "stream",
     "text": [
      "09:23:14 INFO:Logged iteration result res.precision=0.6787057424572448 res.recall=0.5764151561611078\n"
     ]
    },
    {
     "name": "stdout",
     "output_type": "stream",
     "text": [
      "{'eval_loss': 0.713924765586853, 'eval_step': 6, 'eval_precision': 0.6787057424572448, 'eval_recall': 0.5764151561611078, 'eval_f1': 0.6233921799192212, 'eval_label_count': 10, 'eval_runtime': 0.6666, 'eval_samples_per_second': 933.142, 'eval_steps_per_second': 30.005, 'epoch': 4.0}\n",
      "{'loss': 0.2929, 'grad_norm': 6.792579174041748, 'learning_rate': 2.8405703175631885e-05, 'epoch': 4.212572909915749}\n",
      "{'loss': 0.3018, 'grad_norm': 24.343542098999023, 'learning_rate': 2.5975372650680494e-05, 'epoch': 4.536616979909268}\n",
      "{'loss': 0.2685, 'grad_norm': 16.827999114990234, 'learning_rate': 2.35450421257291e-05, 'epoch': 4.860661049902787}\n"
     ]
    },
    {
     "name": "stderr",
     "output_type": "stream",
     "text": [
      "09:24:09 INFO:Logged iteration result res.precision=0.6520988799932921 res.recall=0.6338467137615487\n"
     ]
    },
    {
     "name": "stdout",
     "output_type": "stream",
     "text": [
      "{'eval_loss': 0.7974025011062622, 'eval_step': 8, 'eval_precision': 0.6520988799932921, 'eval_recall': 0.6338467137615487, 'eval_f1': 0.6428432651251561, 'eval_label_count': 10, 'eval_runtime': 0.6665, 'eval_samples_per_second': 933.278, 'eval_steps_per_second': 30.009, 'epoch': 5.0}\n",
      "{'loss': 0.2715, 'grad_norm': 3.554136037826538, 'learning_rate': 2.1114711600777708e-05, 'epoch': 5.1847051198963054}\n",
      "{'loss': 0.2372, 'grad_norm': 9.448007583618164, 'learning_rate': 1.8684381075826313e-05, 'epoch': 5.508749189889825}\n",
      "{'loss': 0.2118, 'grad_norm': 6.101985931396484, 'learning_rate': 1.625405055087492e-05, 'epoch': 5.832793259883344}\n"
     ]
    },
    {
     "name": "stderr",
     "output_type": "stream",
     "text": [
      "09:25:04 INFO:Logged iteration result res.precision=0.6677565491998709 res.recall=0.6145860403737684\n"
     ]
    },
    {
     "name": "stdout",
     "output_type": "stream",
     "text": [
      "{'eval_loss': 0.9870666265487671, 'eval_step': 10, 'eval_precision': 0.6677565491998709, 'eval_recall': 0.6145860403737684, 'eval_f1': 0.6400689750823144, 'eval_label_count': 10, 'eval_runtime': 0.6619, 'eval_samples_per_second': 939.742, 'eval_steps_per_second': 30.217, 'epoch': 6.0}\n",
      "{'loss': 0.2191, 'grad_norm': 18.01636505126953, 'learning_rate': 1.3823720025923526e-05, 'epoch': 6.156837329876863}\n",
      "{'loss': 0.225, 'grad_norm': 3.8097944259643555, 'learning_rate': 1.1393389500972131e-05, 'epoch': 6.480881399870382}\n",
      "{'loss': 0.1899, 'grad_norm': 20.26799964904785, 'learning_rate': 8.96305897602074e-06, 'epoch': 6.8049254698639015}\n"
     ]
    },
    {
     "name": "stderr",
     "output_type": "stream",
     "text": [
      "09:25:59 INFO:Logged iteration result res.precision=0.6637583131578464 res.recall=0.6275058586971\n"
     ]
    },
    {
     "name": "stdout",
     "output_type": "stream",
     "text": [
      "{'eval_loss': 1.1656115055084229, 'eval_step': 12, 'eval_precision': 0.6637583131578464, 'eval_recall': 0.6275058586971, 'eval_f1': 0.6451231891102788, 'eval_label_count': 10, 'eval_runtime': 0.6589, 'eval_samples_per_second': 943.966, 'eval_steps_per_second': 30.353, 'epoch': 7.0}\n",
      "{'loss': 0.1643, 'grad_norm': 5.996491432189941, 'learning_rate': 6.532728451069345e-06, 'epoch': 7.128969539857421}\n",
      "{'loss': 0.1563, 'grad_norm': 2.0006330013275146, 'learning_rate': 4.102397926117952e-06, 'epoch': 7.45301360985094}\n",
      "{'loss': 0.1711, 'grad_norm': 0.5143957734107971, 'learning_rate': 1.6720674011665587e-06, 'epoch': 7.777057679844459}\n"
     ]
    },
    {
     "name": "stderr",
     "output_type": "stream",
     "text": [
      "09:26:54 INFO:Logged iteration result res.precision=0.6667757627057835 res.recall=0.6276503222344488\n"
     ]
    },
    {
     "name": "stdout",
     "output_type": "stream",
     "text": [
      "{'eval_loss': 1.438631534576416, 'eval_step': 14, 'eval_precision': 0.6667757627057835, 'eval_recall': 0.6276503222344488, 'eval_f1': 0.6466217379105568, 'eval_label_count': 10, 'eval_runtime': 0.6649, 'eval_samples_per_second': 935.463, 'eval_steps_per_second': 30.079, 'epoch': 8.0}\n",
      "{'train_runtime': 440.8036, 'train_samples_per_second': 223.9, 'train_steps_per_second': 28.003, 'train_loss': 0.4251210205908804, 'epoch': 8.0}\n"
     ]
    },
    {
     "name": "stderr",
     "output_type": "stream",
     "text": [
      "09:26:57 INFO:Logged iteration result res.precision=0.6667757627057835 res.recall=0.6276503222344488\n",
      "09:26:57 INFO:Logged iteration result res.precision=0.6667757627057835 res.recall=0.6276503222344488\n",
      "09:26:57 INFO:Finished iteration=1\n",
      "09:26:57 INFO:Logging model artifact (might take a while)\n"
     ]
    },
    {
     "name": "stdout",
     "output_type": "stream",
     "text": [
      "Entered apply_smote()\n",
      "Counter original:  Counter({'Interaction_Data': 2372, 'Interaction': 2218, 'Domain_Data': 1759, 'System_Level': 1758, 'System_Function': 1441, 'Task': 561, 'Workspace': 498, 'Activity': 491, 'Stakeholder': 435})\n"
     ]
    },
    {
     "name": "stderr",
     "output_type": "stream",
     "text": [
      "09:26:59 INFO:Created fold datasets for fold: 2, stored at paths=[PosixPath('/home/daniel/uvl-tore-classifier-bert/src/data/temp/sampling/youthful-turtle-113/2_data_train.pickle'), PosixPath('/home/daniel/uvl-tore-classifier-bert/src/data/temp/sampling/youthful-turtle-113/2_data_train.csv'), PosixPath('/home/daniel/uvl-tore-classifier-bert/src/data/temp/sampling/youthful-turtle-113/2_data_test.pickle'), PosixPath('/home/daniel/uvl-tore-classifier-bert/src/data/temp/sampling/youthful-turtle-113/2_data_test.csv')]\n",
      "09:26:59 INFO:Starting iteration=2\n"
     ]
    },
    {
     "name": "stdout",
     "output_type": "stream",
     "text": [
      "Counter SMOTE:  Counter({'System_Level': 2372, 'Interaction': 2372, 'Interaction_Data': 2372, 'Workspace': 2372, 'Domain_Data': 2372, 'Activity': 2372, 'Stakeholder': 2372, 'System_Function': 2372, 'Task': 2372})\n"
     ]
    },
    {
     "data": {
      "application/vnd.jupyter.widget-view+json": {
       "model_id": "7ed01d30a4d842a589e1aa015cf1f9ca",
       "version_major": 2,
       "version_minor": 0
      },
      "text/plain": [
       "Map:   0%|          | 0/12303 [00:00<?, ? examples/s]"
      ]
     },
     "metadata": {},
     "output_type": "display_data"
    },
    {
     "data": {
      "application/vnd.jupyter.widget-view+json": {
       "model_id": "c1018fdb750b4c8ba56bb8ed82ccaa70",
       "version_major": 2,
       "version_minor": 0
      },
      "text/plain": [
       "Map:   0%|          | 0/622 [00:00<?, ? examples/s]"
      ]
     },
     "metadata": {},
     "output_type": "display_data"
    },
    {
     "name": "stdout",
     "output_type": "stream",
     "text": [
      "{'loss': 1.357, 'grad_norm': 14.535429954528809, 'learning_rate': 5.756176853055917e-05, 'epoch': 0.3250975292587776}\n",
      "{'loss': 0.9282, 'grad_norm': 16.042320251464844, 'learning_rate': 5.5123537061118336e-05, 'epoch': 0.6501950585175552}\n",
      "{'loss': 0.7826, 'grad_norm': 13.775781631469727, 'learning_rate': 5.268530559167751e-05, 'epoch': 0.9752925877763329}\n"
     ]
    },
    {
     "name": "stderr",
     "output_type": "stream",
     "text": [
      "09:27:56 INFO:Logged iteration result res.precision=0.6959492644482932 res.recall=0.42523890535467934\n"
     ]
    },
    {
     "name": "stdout",
     "output_type": "stream",
     "text": [
      "{'eval_loss': 0.7922846078872681, 'eval_step': 0, 'eval_precision': 0.6959492644482932, 'eval_recall': 0.42523890535467934, 'eval_f1': 0.5279126401206911, 'eval_label_count': 10, 'eval_runtime': 0.6652, 'eval_samples_per_second': 935.028, 'eval_steps_per_second': 30.065, 'epoch': 1.0}\n",
      "{'loss': 0.6838, 'grad_norm': 16.38339614868164, 'learning_rate': 5.024707412223667e-05, 'epoch': 1.3003901170351106}\n",
      "{'loss': 0.6336, 'grad_norm': 12.370719909667969, 'learning_rate': 4.780884265279584e-05, 'epoch': 1.6254876462938883}\n",
      "{'loss': 0.6123, 'grad_norm': 16.213947296142578, 'learning_rate': 4.5370611183355005e-05, 'epoch': 1.9505851755526658}\n"
     ]
    },
    {
     "name": "stderr",
     "output_type": "stream",
     "text": [
      "09:28:51 INFO:Logged iteration result res.precision=0.6959032901590849 res.recall=0.5281234564124193\n"
     ]
    },
    {
     "name": "stdout",
     "output_type": "stream",
     "text": [
      "{'eval_loss': 0.5951811075210571, 'eval_step': 2, 'eval_precision': 0.6959032901590849, 'eval_recall': 0.5281234564124193, 'eval_f1': 0.6005144118901343, 'eval_label_count': 10, 'eval_runtime': 0.6676, 'eval_samples_per_second': 931.746, 'eval_steps_per_second': 29.96, 'epoch': 2.0}\n",
      "{'loss': 0.4769, 'grad_norm': 10.447275161743164, 'learning_rate': 4.2932379713914176e-05, 'epoch': 2.2756827048114436}\n",
      "{'loss': 0.5028, 'grad_norm': 10.548778533935547, 'learning_rate': 4.049414824447334e-05, 'epoch': 2.6007802340702213}\n",
      "{'loss': 0.4452, 'grad_norm': 10.405354499816895, 'learning_rate': 3.805591677503251e-05, 'epoch': 2.925877763328999}\n"
     ]
    },
    {
     "name": "stderr",
     "output_type": "stream",
     "text": [
      "09:29:46 INFO:Logged iteration result res.precision=0.7005574605103941 res.recall=0.5680248511839573\n"
     ]
    },
    {
     "name": "stdout",
     "output_type": "stream",
     "text": [
      "{'eval_loss': 0.656001091003418, 'eval_step': 4, 'eval_precision': 0.7005574605103941, 'eval_recall': 0.5680248511839573, 'eval_f1': 0.6273681157050607, 'eval_label_count': 10, 'eval_runtime': 0.6631, 'eval_samples_per_second': 938.007, 'eval_steps_per_second': 30.161, 'epoch': 3.0}\n",
      "{'loss': 0.3926, 'grad_norm': 8.847452163696289, 'learning_rate': 3.5617685305591674e-05, 'epoch': 3.250975292587776}\n",
      "{'loss': 0.3602, 'grad_norm': 1.6280227899551392, 'learning_rate': 3.3179453836150845e-05, 'epoch': 3.576072821846554}\n",
      "{'loss': 0.3458, 'grad_norm': 5.444360733032227, 'learning_rate': 3.074122236671001e-05, 'epoch': 3.9011703511053315}\n"
     ]
    },
    {
     "name": "stderr",
     "output_type": "stream",
     "text": [
      "09:30:40 INFO:Logged iteration result res.precision=0.656403326973854 res.recall=0.6201326592014391\n"
     ]
    },
    {
     "name": "stdout",
     "output_type": "stream",
     "text": [
      "{'eval_loss': 0.6927838325500488, 'eval_step': 6, 'eval_precision': 0.656403326973854, 'eval_recall': 0.6201326592014391, 'eval_f1': 0.6377527074416075, 'eval_label_count': 10, 'eval_runtime': 0.6684, 'eval_samples_per_second': 930.563, 'eval_steps_per_second': 29.922, 'epoch': 4.0}\n",
      "{'loss': 0.2981, 'grad_norm': 3.209752082824707, 'learning_rate': 2.8302990897269183e-05, 'epoch': 4.22626788036411}\n",
      "{'loss': 0.2926, 'grad_norm': 3.5028905868530273, 'learning_rate': 2.586475942782835e-05, 'epoch': 4.551365409622887}\n",
      "{'loss': 0.2652, 'grad_norm': 7.86197566986084, 'learning_rate': 2.3426527958387518e-05, 'epoch': 4.876462938881664}\n"
     ]
    },
    {
     "name": "stderr",
     "output_type": "stream",
     "text": [
      "09:31:35 INFO:Logged iteration result res.precision=0.6774835190491313 res.recall=0.6145361472044939\n"
     ]
    },
    {
     "name": "stdout",
     "output_type": "stream",
     "text": [
      "{'eval_loss': 0.8546882271766663, 'eval_step': 8, 'eval_precision': 0.6774835190491313, 'eval_recall': 0.6145361472044939, 'eval_f1': 0.6444764309172175, 'eval_label_count': 10, 'eval_runtime': 0.6657, 'eval_samples_per_second': 934.397, 'eval_steps_per_second': 30.045, 'epoch': 5.0}\n",
      "{'loss': 0.2575, 'grad_norm': 6.805507183074951, 'learning_rate': 2.0988296488946685e-05, 'epoch': 5.201560468140442}\n",
      "{'loss': 0.2495, 'grad_norm': 1.6901845932006836, 'learning_rate': 1.8550065019505852e-05, 'epoch': 5.526657997399219}\n",
      "{'loss': 0.2156, 'grad_norm': 13.930004119873047, 'learning_rate': 1.611183355006502e-05, 'epoch': 5.851755526657997}\n"
     ]
    },
    {
     "name": "stderr",
     "output_type": "stream",
     "text": [
      "09:32:30 INFO:Logged iteration result res.precision=0.6624537434168308 res.recall=0.6264511246775104\n"
     ]
    },
    {
     "name": "stdout",
     "output_type": "stream",
     "text": [
      "{'eval_loss': 1.0969809293746948, 'eval_step': 10, 'eval_precision': 0.6624537434168308, 'eval_recall': 0.6264511246775104, 'eval_f1': 0.6439496085135821, 'eval_label_count': 10, 'eval_runtime': 0.6638, 'eval_samples_per_second': 937.053, 'eval_steps_per_second': 30.13, 'epoch': 6.0}\n",
      "{'loss': 0.2089, 'grad_norm': 7.003760814666748, 'learning_rate': 1.3673602080624187e-05, 'epoch': 6.176853055916775}\n",
      "{'loss': 0.1847, 'grad_norm': 6.843198776245117, 'learning_rate': 1.1235370611183356e-05, 'epoch': 6.501950585175552}\n",
      "{'loss': 0.1767, 'grad_norm': 0.5765252113342285, 'learning_rate': 8.797139141742523e-06, 'epoch': 6.82704811443433}\n"
     ]
    },
    {
     "name": "stderr",
     "output_type": "stream",
     "text": [
      "09:33:25 INFO:Logged iteration result res.precision=0.6494402062680322 res.recall=0.6194579721958711\n"
     ]
    },
    {
     "name": "stdout",
     "output_type": "stream",
     "text": [
      "{'eval_loss': 1.4321942329406738, 'eval_step': 12, 'eval_precision': 0.6494402062680322, 'eval_recall': 0.6194579721958711, 'eval_f1': 0.6340948707551601, 'eval_label_count': 10, 'eval_runtime': 0.6695, 'eval_samples_per_second': 929.075, 'eval_steps_per_second': 29.874, 'epoch': 7.0}\n",
      "{'loss': 0.1761, 'grad_norm': 9.084271430969238, 'learning_rate': 6.358907672301691e-06, 'epoch': 7.152145643693108}\n",
      "{'loss': 0.1445, 'grad_norm': 2.553105115890503, 'learning_rate': 3.9206762028608585e-06, 'epoch': 7.477243172951885}\n",
      "{'loss': 0.1336, 'grad_norm': 0.10385401546955109, 'learning_rate': 1.482444733420026e-06, 'epoch': 7.802340702210663}\n"
     ]
    },
    {
     "name": "stderr",
     "output_type": "stream",
     "text": [
      "09:34:20 INFO:Logged iteration result res.precision=0.6499601921938987 res.recall=0.6310784555668012\n"
     ]
    },
    {
     "name": "stdout",
     "output_type": "stream",
     "text": [
      "{'eval_loss': 1.6813594102859497, 'eval_step': 14, 'eval_precision': 0.6499601921938987, 'eval_recall': 0.6310784555668012, 'eval_f1': 0.6403801711784864, 'eval_label_count': 10, 'eval_runtime': 0.6687, 'eval_samples_per_second': 930.147, 'eval_steps_per_second': 29.908, 'epoch': 8.0}\n",
      "{'train_runtime': 439.755, 'train_samples_per_second': 223.816, 'train_steps_per_second': 27.979, 'train_loss': 0.4153380793929875, 'epoch': 8.0}\n"
     ]
    },
    {
     "name": "stderr",
     "output_type": "stream",
     "text": [
      "09:34:23 INFO:Logged iteration result res.precision=0.6499601921938987 res.recall=0.6310784555668012\n",
      "09:34:23 INFO:Logged iteration result res.precision=0.6499601921938987 res.recall=0.6310784555668012\n",
      "09:34:23 INFO:Finished iteration=2\n",
      "09:34:23 INFO:Logging model artifact (might take a while)\n"
     ]
    },
    {
     "name": "stdout",
     "output_type": "stream",
     "text": [
      "Entered apply_smote()\n",
      "Counter original:  Counter({'Interaction_Data': 2344, 'Interaction': 2178, 'Domain_Data': 1812, 'System_Level': 1772, 'System_Function': 1415, 'Task': 532, 'Activity': 489, 'Workspace': 485, 'Stakeholder': 438})\n"
     ]
    },
    {
     "name": "stderr",
     "output_type": "stream",
     "text": [
      "09:34:25 INFO:Created fold datasets for fold: 3, stored at paths=[PosixPath('/home/daniel/uvl-tore-classifier-bert/src/data/temp/sampling/youthful-turtle-113/3_data_train.pickle'), PosixPath('/home/daniel/uvl-tore-classifier-bert/src/data/temp/sampling/youthful-turtle-113/3_data_train.csv'), PosixPath('/home/daniel/uvl-tore-classifier-bert/src/data/temp/sampling/youthful-turtle-113/3_data_test.pickle'), PosixPath('/home/daniel/uvl-tore-classifier-bert/src/data/temp/sampling/youthful-turtle-113/3_data_test.csv')]\n",
      "09:34:25 INFO:Starting iteration=3\n"
     ]
    },
    {
     "name": "stdout",
     "output_type": "stream",
     "text": [
      "Counter SMOTE:  Counter({'System_Level': 2344, 'Interaction': 2344, 'Interaction_Data': 2344, 'Workspace': 2344, 'Domain_Data': 2344, 'Activity': 2344, 'Stakeholder': 2344, 'System_Function': 2344, 'Task': 2344})\n"
     ]
    },
    {
     "data": {
      "application/vnd.jupyter.widget-view+json": {
       "model_id": "87c169743c4348c29d9018a5723ac736",
       "version_major": 2,
       "version_minor": 0
      },
      "text/plain": [
       "Map:   0%|          | 0/12119 [00:00<?, ? examples/s]"
      ]
     },
     "metadata": {},
     "output_type": "display_data"
    },
    {
     "data": {
      "application/vnd.jupyter.widget-view+json": {
       "model_id": "8cf5e72cfd8142afbaa1eb197d21b1b8",
       "version_major": 2,
       "version_minor": 0
      },
      "text/plain": [
       "Map:   0%|          | 0/622 [00:00<?, ? examples/s]"
      ]
     },
     "metadata": {},
     "output_type": "display_data"
    },
    {
     "name": "stdout",
     "output_type": "stream",
     "text": [
      "{'loss': 1.3222, 'grad_norm': 34.21464157104492, 'learning_rate': 5.7524752475247524e-05, 'epoch': 0.33003300330033003}\n",
      "{'loss': 0.8094, 'grad_norm': 7.951976299285889, 'learning_rate': 5.5049504950495053e-05, 'epoch': 0.6600660066006601}\n",
      "{'loss': 0.8051, 'grad_norm': 6.5780029296875, 'learning_rate': 5.2574257425742576e-05, 'epoch': 0.9900990099009901}\n"
     ]
    },
    {
     "name": "stderr",
     "output_type": "stream",
     "text": [
      "09:35:21 INFO:Logged iteration result res.precision=0.5712736406976672 res.recall=0.4238721218149017\n"
     ]
    },
    {
     "name": "stdout",
     "output_type": "stream",
     "text": [
      "{'eval_loss': 0.8188501596450806, 'eval_step': 0, 'eval_precision': 0.5712736406976672, 'eval_recall': 0.4238721218149017, 'eval_f1': 0.4866562856240582, 'eval_label_count': 10, 'eval_runtime': 0.661, 'eval_samples_per_second': 941.023, 'eval_steps_per_second': 30.258, 'epoch': 1.0}\n",
      "{'loss': 0.6749, 'grad_norm': 5.140091419219971, 'learning_rate': 5.00990099009901e-05, 'epoch': 1.3201320132013201}\n",
      "{'loss': 0.631, 'grad_norm': 14.772049903869629, 'learning_rate': 4.762376237623763e-05, 'epoch': 1.6501650165016502}\n",
      "{'loss': 0.6106, 'grad_norm': 19.523202896118164, 'learning_rate': 4.514851485148515e-05, 'epoch': 1.9801980198019802}\n"
     ]
    },
    {
     "name": "stderr",
     "output_type": "stream",
     "text": [
      "09:36:15 INFO:Logged iteration result res.precision=0.6620909276076042 res.recall=0.531592864196601\n"
     ]
    },
    {
     "name": "stdout",
     "output_type": "stream",
     "text": [
      "{'eval_loss': 0.826064944267273, 'eval_step': 2, 'eval_precision': 0.6620909276076042, 'eval_recall': 0.531592864196601, 'eval_f1': 0.5897086229738162, 'eval_label_count': 10, 'eval_runtime': 0.6655, 'eval_samples_per_second': 934.693, 'eval_steps_per_second': 30.054, 'epoch': 2.0}\n",
      "{'loss': 0.4709, 'grad_norm': 13.372941017150879, 'learning_rate': 4.267326732673267e-05, 'epoch': 2.31023102310231}\n",
      "{'loss': 0.4813, 'grad_norm': 4.777570724487305, 'learning_rate': 4.01980198019802e-05, 'epoch': 2.6402640264026402}\n",
      "{'loss': 0.4368, 'grad_norm': 5.840831756591797, 'learning_rate': 3.7722772277227725e-05, 'epoch': 2.9702970297029703}\n"
     ]
    },
    {
     "name": "stderr",
     "output_type": "stream",
     "text": [
      "09:37:08 INFO:Logged iteration result res.precision=0.6610665158023228 res.recall=0.5721281104561134\n"
     ]
    },
    {
     "name": "stdout",
     "output_type": "stream",
     "text": [
      "{'eval_loss': 0.8178533315658569, 'eval_step': 4, 'eval_precision': 0.6610665158023228, 'eval_recall': 0.5721281104561134, 'eval_f1': 0.6133901794874157, 'eval_label_count': 10, 'eval_runtime': 0.6574, 'eval_samples_per_second': 946.189, 'eval_steps_per_second': 30.424, 'epoch': 3.0}\n",
      "{'loss': 0.3667, 'grad_norm': 7.839198112487793, 'learning_rate': 3.524752475247525e-05, 'epoch': 3.3003300330033003}\n",
      "{'loss': 0.3736, 'grad_norm': 7.9843339920043945, 'learning_rate': 3.277227722772278e-05, 'epoch': 3.6303630363036303}\n",
      "{'loss': 0.3154, 'grad_norm': 3.127568006515503, 'learning_rate': 3.02970297029703e-05, 'epoch': 3.9603960396039604}\n"
     ]
    },
    {
     "name": "stderr",
     "output_type": "stream",
     "text": [
      "09:38:02 INFO:Logged iteration result res.precision=0.6358933030176172 res.recall=0.6359233803668471\n"
     ]
    },
    {
     "name": "stdout",
     "output_type": "stream",
     "text": [
      "{'eval_loss': 0.8020608425140381, 'eval_step': 6, 'eval_precision': 0.6358933030176172, 'eval_recall': 0.6359233803668471, 'eval_f1': 0.6359083413365806, 'eval_label_count': 10, 'eval_runtime': 0.6653, 'eval_samples_per_second': 934.977, 'eval_steps_per_second': 30.064, 'epoch': 4.0}\n",
      "{'loss': 0.2963, 'grad_norm': 7.197794437408447, 'learning_rate': 2.7821782178217822e-05, 'epoch': 4.29042904290429}\n",
      "{'loss': 0.2653, 'grad_norm': 1.390740990638733, 'learning_rate': 2.5346534653465348e-05, 'epoch': 4.62046204620462}\n",
      "{'loss': 0.2549, 'grad_norm': 41.327980041503906, 'learning_rate': 2.2871287128712874e-05, 'epoch': 4.9504950495049505}\n"
     ]
    },
    {
     "name": "stderr",
     "output_type": "stream",
     "text": [
      "09:38:57 INFO:Logged iteration result res.precision=0.6760441128194303 res.recall=0.5955379858007973\n"
     ]
    },
    {
     "name": "stdout",
     "output_type": "stream",
     "text": [
      "{'eval_loss': 1.0972697734832764, 'eval_step': 8, 'eval_precision': 0.6760441128194303, 'eval_recall': 0.5955379858007973, 'eval_f1': 0.6332425561791658, 'eval_label_count': 10, 'eval_runtime': 0.6618, 'eval_samples_per_second': 939.914, 'eval_steps_per_second': 30.222, 'epoch': 5.0}\n",
      "{'loss': 0.2314, 'grad_norm': 3.334123134613037, 'learning_rate': 2.0396039603960396e-05, 'epoch': 5.2805280528052805}\n",
      "{'loss': 0.248, 'grad_norm': 2.6374409198760986, 'learning_rate': 1.7920792079207922e-05, 'epoch': 5.6105610561056105}\n",
      "{'loss': 0.2052, 'grad_norm': 6.523858070373535, 'learning_rate': 1.5445544554455445e-05, 'epoch': 5.9405940594059405}\n"
     ]
    },
    {
     "name": "stderr",
     "output_type": "stream",
     "text": [
      "09:39:51 INFO:Logged iteration result res.precision=0.6458870965045996 res.recall=0.6213242038360381\n"
     ]
    },
    {
     "name": "stdout",
     "output_type": "stream",
     "text": [
      "{'eval_loss': 1.3268158435821533, 'eval_step': 10, 'eval_precision': 0.6458870965045996, 'eval_recall': 0.6213242038360381, 'eval_f1': 0.6333675937009341, 'eval_label_count': 10, 'eval_runtime': 0.6669, 'eval_samples_per_second': 932.742, 'eval_steps_per_second': 29.992, 'epoch': 6.0}\n",
      "{'loss': 0.182, 'grad_norm': 9.11420726776123, 'learning_rate': 1.297029702970297e-05, 'epoch': 6.270627062706271}\n",
      "{'loss': 0.173, 'grad_norm': 1.2074878215789795, 'learning_rate': 1.0495049504950495e-05, 'epoch': 6.600660066006601}\n",
      "{'loss': 0.1739, 'grad_norm': 3.351158618927002, 'learning_rate': 8.019801980198021e-06, 'epoch': 6.930693069306931}\n"
     ]
    },
    {
     "name": "stderr",
     "output_type": "stream",
     "text": [
      "09:40:45 INFO:Logged iteration result res.precision=0.6498320339151673 res.recall=0.631328105649027\n"
     ]
    },
    {
     "name": "stdout",
     "output_type": "stream",
     "text": [
      "{'eval_loss': 1.6293209791183472, 'eval_step': 12, 'eval_precision': 0.6498320339151673, 'eval_recall': 0.631328105649027, 'eval_f1': 0.6404464427082035, 'eval_label_count': 10, 'eval_runtime': 0.6648, 'eval_samples_per_second': 935.555, 'eval_steps_per_second': 30.082, 'epoch': 7.0}\n",
      "{'loss': 0.1571, 'grad_norm': 0.03618566319346428, 'learning_rate': 5.544554455445544e-06, 'epoch': 7.260726072607261}\n",
      "{'loss': 0.1353, 'grad_norm': 1.0679597854614258, 'learning_rate': 3.0693069306930694e-06, 'epoch': 7.590759075907591}\n",
      "{'loss': 0.1428, 'grad_norm': 9.536665916442871, 'learning_rate': 5.940594059405941e-07, 'epoch': 7.920792079207921}\n"
     ]
    },
    {
     "name": "stderr",
     "output_type": "stream",
     "text": [
      "09:41:39 INFO:Logged iteration result res.precision=0.6556678715361951 res.recall=0.6318534802254641\n"
     ]
    },
    {
     "name": "stdout",
     "output_type": "stream",
     "text": [
      "{'eval_loss': 1.8324849605560303, 'eval_step': 14, 'eval_precision': 0.6556678715361951, 'eval_recall': 0.6318534802254641, 'eval_f1': 0.6435404367241255, 'eval_label_count': 10, 'eval_runtime': 0.663, 'eval_samples_per_second': 938.208, 'eval_steps_per_second': 30.167, 'epoch': 8.0}\n",
      "{'train_runtime': 432.5983, 'train_samples_per_second': 224.116, 'train_steps_per_second': 28.017, 'train_loss': 0.40409117390220317, 'epoch': 8.0}\n"
     ]
    },
    {
     "name": "stderr",
     "output_type": "stream",
     "text": [
      "09:41:41 INFO:Logged iteration result res.precision=0.6556678715361951 res.recall=0.6318534802254641\n",
      "09:41:42 INFO:Logged iteration result res.precision=0.6556678715361951 res.recall=0.6318534802254641\n",
      "09:41:42 INFO:Finished iteration=3\n",
      "09:41:42 INFO:Logging model artifact (might take a while)\n"
     ]
    },
    {
     "name": "stdout",
     "output_type": "stream",
     "text": [
      "Entered apply_smote()\n",
      "Counter original:  Counter({'Interaction_Data': 2369, 'Interaction': 2291, 'Domain_Data': 1764, 'System_Level': 1735, 'System_Function': 1480, 'Task': 525, 'Activity': 500, 'Workspace': 497, 'Stakeholder': 459})\n"
     ]
    },
    {
     "name": "stderr",
     "output_type": "stream",
     "text": [
      "09:41:44 INFO:Created fold datasets for fold: 4, stored at paths=[PosixPath('/home/daniel/uvl-tore-classifier-bert/src/data/temp/sampling/youthful-turtle-113/4_data_train.pickle'), PosixPath('/home/daniel/uvl-tore-classifier-bert/src/data/temp/sampling/youthful-turtle-113/4_data_train.csv'), PosixPath('/home/daniel/uvl-tore-classifier-bert/src/data/temp/sampling/youthful-turtle-113/4_data_test.pickle'), PosixPath('/home/daniel/uvl-tore-classifier-bert/src/data/temp/sampling/youthful-turtle-113/4_data_test.csv')]\n",
      "09:41:44 INFO:Starting iteration=4\n"
     ]
    },
    {
     "name": "stdout",
     "output_type": "stream",
     "text": [
      "Counter SMOTE:  Counter({'System_Level': 2369, 'Interaction': 2369, 'Interaction_Data': 2369, 'Workspace': 2369, 'Domain_Data': 2369, 'Activity': 2369, 'Stakeholder': 2369, 'System_Function': 2369, 'Task': 2369})\n"
     ]
    },
    {
     "data": {
      "application/vnd.jupyter.widget-view+json": {
       "model_id": "66c5edfab2124cc48c987bde9de62aa2",
       "version_major": 2,
       "version_minor": 0
      },
      "text/plain": [
       "Map:   0%|          | 0/12189 [00:00<?, ? examples/s]"
      ]
     },
     "metadata": {},
     "output_type": "display_data"
    },
    {
     "data": {
      "application/vnd.jupyter.widget-view+json": {
       "model_id": "1cbadf8d472947aba3f9fa028fbb8c08",
       "version_major": 2,
       "version_minor": 0
      },
      "text/plain": [
       "Map:   0%|          | 0/622 [00:00<?, ? examples/s]"
      ]
     },
     "metadata": {},
     "output_type": "display_data"
    },
    {
     "name": "stdout",
     "output_type": "stream",
     "text": [
      "{'loss': 1.2971, 'grad_norm': 7.915560245513916, 'learning_rate': 5.753937007874016e-05, 'epoch': 0.32808398950131235}\n",
      "{'loss': 0.8867, 'grad_norm': 7.516766548156738, 'learning_rate': 5.507874015748032e-05, 'epoch': 0.6561679790026247}\n",
      "{'loss': 0.7729, 'grad_norm': 11.763712882995605, 'learning_rate': 5.261811023622047e-05, 'epoch': 0.984251968503937}\n"
     ]
    },
    {
     "name": "stderr",
     "output_type": "stream",
     "text": [
      "09:42:39 INFO:Logged iteration result res.precision=0.6175078097362343 res.recall=0.5518711662730504\n"
     ]
    },
    {
     "name": "stdout",
     "output_type": "stream",
     "text": [
      "{'eval_loss': 0.6152536273002625, 'eval_step': 0, 'eval_precision': 0.6175078097362343, 'eval_recall': 0.5518711662730504, 'eval_f1': 0.582847412401481, 'eval_label_count': 10, 'eval_runtime': 0.6585, 'eval_samples_per_second': 944.576, 'eval_steps_per_second': 30.372, 'epoch': 1.0}\n",
      "{'loss': 0.6859, 'grad_norm': 8.768834114074707, 'learning_rate': 5.015748031496063e-05, 'epoch': 1.3123359580052494}\n",
      "{'loss': 0.6226, 'grad_norm': 15.059751510620117, 'learning_rate': 4.769685039370079e-05, 'epoch': 1.6404199475065617}\n",
      "{'loss': 0.6361, 'grad_norm': 6.279930114746094, 'learning_rate': 4.523622047244095e-05, 'epoch': 1.968503937007874}\n"
     ]
    },
    {
     "name": "stderr",
     "output_type": "stream",
     "text": [
      "09:43:33 INFO:Logged iteration result res.precision=0.6570793746879106 res.recall=0.5804667778759341\n"
     ]
    },
    {
     "name": "stdout",
     "output_type": "stream",
     "text": [
      "{'eval_loss': 0.49786415696144104, 'eval_step': 2, 'eval_precision': 0.6570793746879106, 'eval_recall': 0.5804667778759341, 'eval_f1': 0.6164016536169517, 'eval_label_count': 10, 'eval_runtime': 0.6643, 'eval_samples_per_second': 936.336, 'eval_steps_per_second': 30.107, 'epoch': 2.0}\n",
      "{'loss': 0.5289, 'grad_norm': 8.753918647766113, 'learning_rate': 4.27755905511811e-05, 'epoch': 2.2965879265091864}\n",
      "{'loss': 0.4887, 'grad_norm': 5.786135196685791, 'learning_rate': 4.031496062992126e-05, 'epoch': 2.6246719160104988}\n",
      "{'loss': 0.4585, 'grad_norm': 7.397922515869141, 'learning_rate': 3.785433070866142e-05, 'epoch': 2.952755905511811}\n"
     ]
    },
    {
     "name": "stderr",
     "output_type": "stream",
     "text": [
      "09:44:28 INFO:Logged iteration result res.precision=0.6430230933894215 res.recall=0.5755867805352047\n"
     ]
    },
    {
     "name": "stdout",
     "output_type": "stream",
     "text": [
      "{'eval_loss': 0.6978278756141663, 'eval_step': 4, 'eval_precision': 0.6430230933894215, 'eval_recall': 0.5755867805352047, 'eval_f1': 0.6074390172825695, 'eval_label_count': 10, 'eval_runtime': 0.6619, 'eval_samples_per_second': 939.742, 'eval_steps_per_second': 30.217, 'epoch': 3.0}\n",
      "{'loss': 0.3701, 'grad_norm': 4.033639430999756, 'learning_rate': 3.539370078740158e-05, 'epoch': 3.2808398950131235}\n",
      "{'loss': 0.3722, 'grad_norm': 9.256631851196289, 'learning_rate': 3.2933070866141736e-05, 'epoch': 3.608923884514436}\n",
      "{'loss': 0.3882, 'grad_norm': 4.4348673820495605, 'learning_rate': 3.047244094488189e-05, 'epoch': 3.937007874015748}\n"
     ]
    },
    {
     "name": "stderr",
     "output_type": "stream",
     "text": [
      "09:45:22 INFO:Logged iteration result res.precision=0.6478057925197345 res.recall=0.6111045184058214\n"
     ]
    },
    {
     "name": "stdout",
     "output_type": "stream",
     "text": [
      "{'eval_loss': 0.8193560242652893, 'eval_step': 6, 'eval_precision': 0.6478057925197345, 'eval_recall': 0.6111045184058214, 'eval_f1': 0.6289201755242173, 'eval_label_count': 10, 'eval_runtime': 0.6592, 'eval_samples_per_second': 943.512, 'eval_steps_per_second': 30.338, 'epoch': 4.0}\n",
      "{'loss': 0.3078, 'grad_norm': 9.564497947692871, 'learning_rate': 2.8011811023622046e-05, 'epoch': 4.2650918635170605}\n",
      "{'loss': 0.2797, 'grad_norm': 10.35573673248291, 'learning_rate': 2.5551181102362205e-05, 'epoch': 4.593175853018373}\n",
      "{'loss': 0.272, 'grad_norm': 5.96457052230835, 'learning_rate': 2.309055118110236e-05, 'epoch': 4.921259842519685}\n"
     ]
    },
    {
     "name": "stderr",
     "output_type": "stream",
     "text": [
      "09:46:16 INFO:Logged iteration result res.precision=0.6448015104806142 res.recall=0.6261907713782817\n"
     ]
    },
    {
     "name": "stdout",
     "output_type": "stream",
     "text": [
      "{'eval_loss': 1.034627914428711, 'eval_step': 8, 'eval_precision': 0.6448015104806142, 'eval_recall': 0.6261907713782817, 'eval_f1': 0.6353598853380967, 'eval_label_count': 10, 'eval_runtime': 0.6602, 'eval_samples_per_second': 942.133, 'eval_steps_per_second': 30.294, 'epoch': 5.0}\n",
      "{'loss': 0.238, 'grad_norm': 3.4554266929626465, 'learning_rate': 2.062992125984252e-05, 'epoch': 5.2493438320209975}\n",
      "{'loss': 0.2363, 'grad_norm': 3.1246767044067383, 'learning_rate': 1.8169291338582675e-05, 'epoch': 5.57742782152231}\n",
      "{'loss': 0.2084, 'grad_norm': 15.131235122680664, 'learning_rate': 1.5708661417322834e-05, 'epoch': 5.905511811023622}\n"
     ]
    },
    {
     "name": "stderr",
     "output_type": "stream",
     "text": [
      "09:47:11 INFO:Logged iteration result res.precision=0.6318201310248303 res.recall=0.6151854780680719\n"
     ]
    },
    {
     "name": "stdout",
     "output_type": "stream",
     "text": [
      "{'eval_loss': 1.0720210075378418, 'eval_step': 10, 'eval_precision': 0.6318201310248303, 'eval_recall': 0.6151854780680719, 'eval_f1': 0.623391854091628, 'eval_label_count': 10, 'eval_runtime': 0.6537, 'eval_samples_per_second': 951.454, 'eval_steps_per_second': 30.593, 'epoch': 6.0}\n",
      "{'loss': 0.1868, 'grad_norm': 15.602130889892578, 'learning_rate': 1.3248031496062993e-05, 'epoch': 6.233595800524935}\n",
      "{'loss': 0.1885, 'grad_norm': 1.0763304233551025, 'learning_rate': 1.078740157480315e-05, 'epoch': 6.561679790026247}\n",
      "{'loss': 0.1694, 'grad_norm': 4.242448329925537, 'learning_rate': 8.326771653543307e-06, 'epoch': 6.889763779527559}\n"
     ]
    },
    {
     "name": "stderr",
     "output_type": "stream",
     "text": [
      "09:48:05 INFO:Logged iteration result res.precision=0.6404360753354073 res.recall=0.6295986038221134\n"
     ]
    },
    {
     "name": "stdout",
     "output_type": "stream",
     "text": [
      "{'eval_loss': 1.3897491693496704, 'eval_step': 12, 'eval_precision': 0.6404360753354073, 'eval_recall': 0.6295986038221134, 'eval_f1': 0.6349711003733556, 'eval_label_count': 10, 'eval_runtime': 0.6595, 'eval_samples_per_second': 943.167, 'eval_steps_per_second': 30.327, 'epoch': 7.0}\n",
      "{'loss': 0.1672, 'grad_norm': 0.4283663034439087, 'learning_rate': 5.8661417322834645e-06, 'epoch': 7.217847769028872}\n",
      "{'loss': 0.1639, 'grad_norm': 2.088574171066284, 'learning_rate': 3.405511811023622e-06, 'epoch': 7.545931758530184}\n",
      "{'loss': 0.1463, 'grad_norm': 1.0621000528335571, 'learning_rate': 9.448818897637796e-07, 'epoch': 7.874015748031496}\n"
     ]
    },
    {
     "name": "stderr",
     "output_type": "stream",
     "text": [
      "09:48:59 INFO:Logged iteration result res.precision=0.6409607265147258 res.recall=0.6293186025853903\n"
     ]
    },
    {
     "name": "stdout",
     "output_type": "stream",
     "text": [
      "{'eval_loss': 1.6402390003204346, 'eval_step': 14, 'eval_precision': 0.6409607265147258, 'eval_recall': 0.6293186025853903, 'eval_f1': 0.6350863144535552, 'eval_label_count': 10, 'eval_runtime': 0.6632, 'eval_samples_per_second': 937.927, 'eval_steps_per_second': 30.158, 'epoch': 8.0}\n",
      "{'train_runtime': 434.4988, 'train_samples_per_second': 224.424, 'train_steps_per_second': 28.06, 'train_loss': 0.41525539622844987, 'epoch': 8.0}\n"
     ]
    },
    {
     "name": "stderr",
     "output_type": "stream",
     "text": [
      "09:49:02 INFO:Logged iteration result res.precision=0.6409607265147258 res.recall=0.6293186025853903\n",
      "09:49:02 INFO:Logged iteration result res.precision=0.6409607265147258 res.recall=0.6293186025853903\n",
      "09:49:02 INFO:Finished iteration=4\n",
      "09:49:02 INFO:Logging model artifact (might take a while)\n",
      "09:49:03 INFO:Breaking early after iteration=4 of 5 folds\n",
      "09:49:04 INFO:Logged experiment result res.mean_precision=0.6526735799491488 res.mean_recall=0.6264227256225938\n",
      "09:49:04 INFO:Left mlflow context\n"
     ]
    },
    {
     "name": "stdout",
     "output_type": "stream",
     "text": [
      "1129e9939932491e899979110c3e45d6\n"
     ]
    },
    {
     "data": {
      "application/vnd.jupyter.widget-view+json": {
       "model_id": "c057504b753c4347ba9989f5292799fe",
       "version_major": 2,
       "version_minor": 0
      },
      "text/plain": [
       "Downloading artifacts:   0%|          | 0/7 [00:00<?, ?it/s]"
      ]
     },
     "metadata": {},
     "output_type": "display_data"
    },
    {
     "data": {
      "text/plain": [
       "PosixPath('src/service/models/bert')"
      ]
     },
     "execution_count": 8,
     "metadata": {},
     "output_type": "execute_result"
    }
   ],
   "source": [
    "from tooling.observability import get_run_id\n",
    "from tooling.config import BERTConfig, BERT\n",
    "\n",
    "from copy import deepcopy\n",
    "\n",
    "bert_experiment_config = deepcopy(smote_experiment_config)\n",
    "bert_experiment_config.name = \"SMOTE_BERT_TORE_CATEGORIES\"\n",
    "\n",
    "bert_config = BERT(\n",
    "    learning_rate_bert=6e-05,\n",
    "    learning_rate_classifier=0.1,\n",
    "    max_len=123,\n",
    "    number_epochs=8,\n",
    "    train_batch_size=8,\n",
    "    weight_decay=0.01,\n",
    "    weighted_classes=False,\n",
    ")\n",
    "\n",
    "bert_cfg = OmegaConf.structured(\n",
    "    BERTConfig(\n",
    "        bert=bert_config,\n",
    "        experiment=bert_experiment_config,\n",
    "        transformation=label_transformation_config,\n",
    "    )\n",
    ")\n",
    "\n",
    "if run_experiments:\n",
    "    from experiments.bert import bert\n",
    "\n",
    "    bert(OmegaConf.create(bert_cfg))\n",
    "\n",
    "bert_run_id = get_run_id(bert_cfg, pin_commit=pin_commits)\n",
    "\n",
    "print(bert_run_id)\n",
    "\n",
    "run = mlflow.get_run(bert_run_id)\n",
    "mlflow.artifacts.download_artifacts(\n",
    "    f\"{run.info.artifact_uri}/0_model\", dst_path=Path(\"./src/service/models/\")\n",
    ")\n",
    "try:\n",
    "    shutil.rmtree(Path(\"./src/service/models/bert\"))\n",
    "except FileNotFoundError:\n",
    "    pass\n",
    "Path(\"./src/service/models/0_model\").rename(\"./src/service/models/bert\")"
   ]
  },
  {
   "cell_type": "code",
   "execution_count": null,
   "metadata": {
    "ExecuteTime": {
     "end_time": "2024-01-25T15:19:51.429896200Z",
     "start_time": "2024-01-25T15:19:51.422890100Z"
    }
   },
   "outputs": [],
   "source": []
  },
  {
   "cell_type": "code",
   "execution_count": null,
   "metadata": {
    "collapsed": false
   },
   "outputs": [],
   "source": []
  }
 ],
 "metadata": {
  "kernelspec": {
   "display_name": "bert",
   "language": "python",
   "name": "python3"
  },
  "language_info": {
   "codemirror_mode": {
    "name": "ipython",
    "version": 3
   },
   "file_extension": ".py",
   "mimetype": "text/x-python",
   "name": "python",
   "nbconvert_exporter": "python",
   "pygments_lexer": "ipython3",
   "version": "3.11.8"
  },
  "orig_nbformat": 4
 },
 "nbformat": 4,
 "nbformat_minor": 2
}
